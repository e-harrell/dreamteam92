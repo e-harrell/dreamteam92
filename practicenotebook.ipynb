{
 "cells": [
  {
   "cell_type": "markdown",
   "id": "818b9bcc",
   "metadata": {},
   "source": [
    "#### This notebook has information and examples for using the nba api.  This reqires the use of the requests and numpy packages to be installed."
   ]
  },
  {
   "cell_type": "code",
   "execution_count": null,
   "id": "18f2577c",
   "metadata": {},
   "outputs": [],
   "source": [
    "from nba_api.stats.static import players\n",
    "\n",
    "# Find players by full name.\n",
    "players.find_players_by_full_name('')\n",
    "\n",
    "# Find players by first name.\n",
    "players.find_players_by_first_name('')\n",
    "\n",
    "# Find players by last name.\n",
    "players.find_players_by_last_name('')\n",
    "\n",
    "# Get all players.\n",
    "players.get_players()"
   ]
  },
  {
   "cell_type": "code",
   "execution_count": null,
   "id": "efed5fbf",
   "metadata": {},
   "outputs": [],
   "source": [
    "# Returns the raw response of the request.\n",
    ".get_response()\n",
    "\n",
    "# Returns all data in a JSON string.\n",
    ".get_json()\n",
    "\n",
    "# Returns all data in a dictionary.\n",
    ".get_dict()\n",
    "\n",
    "# Returns all data in a normalized JSON string.\n",
    ".get_normalized_json()\n",
    "\n",
    "# Returns all data in a normalized dictionary.\n",
    ".get_normalized_dict()\n",
    "\n",
    "# Returns a list of all data in a pandas DataFrame structure.\n",
    ".get_data_frames()"
   ]
  },
  {
   "cell_type": "code",
   "execution_count": null,
   "id": "099708f6",
   "metadata": {},
   "outputs": [],
   "source": [
    "## official nba stats\n",
    "from nba_api.stats.endpoints import playercareerstats\n",
    "\n",
    "# Nikola Jokić\n",
    "career = playercareerstats.PlayerCareerStats(player_id='203999') \n",
    "\n",
    "# pandas data frames (optional: pip install pandas)\n",
    "career.get_data_frames()[0]\n",
    "\n",
    "# json\n",
    "career.get_json()\n",
    "\n",
    "# dictionary\n",
    "career.get_dict()"
   ]
  },
  {
   "cell_type": "code",
   "execution_count": null,
   "id": "fce07468",
   "metadata": {},
   "outputs": [],
   "source": [
    "## nba live data\n",
    "from nba_api.live.nba.endpoints import scoreboard\n",
    "\n",
    "# Today's Score Board\n",
    "games = scoreboard.ScoreBoard()\n",
    "\n",
    "# json\n",
    "games.get_json()\n",
    "\n",
    "# dictionary\n",
    "games.get_dict()"
   ]
  },
  {
   "cell_type": "code",
   "execution_count": 20,
   "id": "402a1a38",
   "metadata": {},
   "outputs": [
    {
     "data": {
      "text/plain": [
       "[{'id': 764,\n",
       "  'full_name': 'David Robinson',\n",
       "  'first_name': 'David',\n",
       "  'last_name': 'Robinson',\n",
       "  'is_active': False}]"
      ]
     },
     "execution_count": 20,
     "metadata": {},
     "output_type": "execute_result"
    }
   ],
   "source": [
    "#get a player's ID\n",
    "from nba_api.stats.static import players\n",
    "#Find players by full name\n",
    "players.find_players_by_full_name('David Robinson')"
   ]
  },
  {
   "cell_type": "code",
   "execution_count": null,
   "id": "1e54dc20",
   "metadata": {},
   "outputs": [],
   "source": []
  }
 ],
 "metadata": {
  "kernelspec": {
   "display_name": "Python 3",
   "language": "python",
   "name": "python3"
  },
  "language_info": {
   "codemirror_mode": {
    "name": "ipython",
    "version": 3
   },
   "file_extension": ".py",
   "mimetype": "text/x-python",
   "name": "python",
   "nbconvert_exporter": "python",
   "pygments_lexer": "ipython3",
   "version": "3.13.3"
  }
 },
 "nbformat": 4,
 "nbformat_minor": 5
}
