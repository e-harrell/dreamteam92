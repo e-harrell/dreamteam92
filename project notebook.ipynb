{
 "cells": [
  {
   "cell_type": "markdown",
   "id": "d30fbeb8",
   "metadata": {},
   "source": [
    "### Dream Team project\n",
    "Data science project showing information on the NBA careers of the 12 members of the 1992 US Olympic Men's basketball team. This project uses data from the NBA_API."
   ]
  },
  {
   "cell_type": "code",
   "execution_count": 59,
   "id": "c884c885",
   "metadata": {},
   "outputs": [],
   "source": [
    "import pandas as pd\n",
    "import numpy as np\n",
    "from IPython.core.interactiveshell import InteractiveShell\n",
    "InteractiveShell.ast_node_interactivity=\"all\"\n",
    "import matplotlib.pyplot as plt\n",
    "import plotly.express as px\n",
    "from nba_api.stats.static import players\n",
    "from nba_api.stats.endpoints import playercareerstats\n",
    "from nba_api.stats.static import teams\n",
    "import plotly.graph_objects as go\n",
    "from geopy.geocoders import Nominatim"
   ]
  },
  {
   "cell_type": "code",
   "execution_count": 60,
   "id": "4f681688",
   "metadata": {},
   "outputs": [],
   "source": [
    "# get IDs of all players on roster to be used in the NBA API\n",
    "\n",
    "roster=['Charles Barkley','Larry Bird','Clyde Drexler','Patrick Ewing','Magic Johnson', \n",
    "        'Michael Jordan', 'Christian Laettner', 'Karl Malone','Chris Mullin',\n",
    "        'Scottie Pippen', 'David Robinson', 'John Stockton']\n",
    "ID=[]\n",
    "for x in roster:\n",
    "   my_diction=players.find_players_by_full_name(x)[0]\n",
    "   counter = 1\n",
    "   for i in my_diction.values():\n",
    "      if counter == 1:\n",
    "         ID.append(i)\n",
    "      else:\n",
    "         continue\n",
    "      counter +=1"
   ]
  },
  {
   "cell_type": "code",
   "execution_count": 61,
   "id": "2eda6354",
   "metadata": {},
   "outputs": [
    {
     "data": {
      "text/plain": [
       "[787, 1449, 17, 121, 77142, 893, 363, 252, 904, 937, 764, 304]"
      ]
     },
     "execution_count": 61,
     "metadata": {},
     "output_type": "execute_result"
    },
    {
     "data": {
      "text/plain": [
       "12"
      ]
     },
     "execution_count": 61,
     "metadata": {},
     "output_type": "execute_result"
    },
    {
     "data": {
      "text/plain": [
       "list"
      ]
     },
     "execution_count": 61,
     "metadata": {},
     "output_type": "execute_result"
    },
    {
     "data": {
      "text/plain": [
       "int"
      ]
     },
     "execution_count": 61,
     "metadata": {},
     "output_type": "execute_result"
    }
   ],
   "source": [
    "# show information about player IDs\n",
    "ID\n",
    "len(ID)\n",
    "type(ID)\n",
    "type(ID[0])"
   ]
  },
  {
   "cell_type": "code",
   "execution_count": 62,
   "id": "f47c43dc",
   "metadata": {},
   "outputs": [],
   "source": [
    "#get career stats dataframes for each player\n",
    "names=['barkley','bird','drexler','ewing','johnson', 'jordan', 'laettner', 'malone','mullin','pippen', 'robinson', 'stockton']\n",
    "dataframes={}\n",
    "\n",
    "for x,y in zip(ID, names):\n",
    "    career= playercareerstats.PlayerCareerStats(player_id=x)\n",
    "    df=career.get_data_frames()[0]\n",
    "    dataframes[y]=df"
   ]
  },
  {
   "cell_type": "code",
   "execution_count": 63,
   "id": "9ca61708",
   "metadata": {},
   "outputs": [],
   "source": [
    "#separate out dataframes in dictionary for each player\n",
    "counter = 1\n",
    "for x in dataframes.values():\n",
    "    if counter == 1:\n",
    "        barkley = x\n",
    "    elif counter == 2:\n",
    "        bird = x\n",
    "    elif counter == 3:\n",
    "        drexler = x\n",
    "    elif counter == 4:\n",
    "        ewing = x\n",
    "    elif counter == 5:\n",
    "        johnson = x\n",
    "    elif counter == 6:\n",
    "        jordan = x\n",
    "    elif counter == 7:\n",
    "        laettner = x\n",
    "    elif counter == 8:\n",
    "        malone = x\n",
    "    elif counter == 9:\n",
    "        mullin = x\n",
    "    elif counter == 10:\n",
    "        pippen = x\n",
    "    elif counter == 11:\n",
    "        robinson = x\n",
    "    else:\n",
    "        stockton=x\n",
    "    counter +=1"
   ]
  },
  {
   "cell_type": "code",
   "execution_count": 64,
   "id": "2a87a9f5",
   "metadata": {},
   "outputs": [
    {
     "name": "stdout",
     "output_type": "stream",
     "text": [
      "<class 'pandas.core.frame.DataFrame'>\n",
      "RangeIndex: 16 entries, 0 to 15\n",
      "Data columns (total 27 columns):\n",
      " #   Column             Non-Null Count  Dtype  \n",
      "---  ------             --------------  -----  \n",
      " 0   PLAYER_ID          16 non-null     int64  \n",
      " 1   SEASON_ID          16 non-null     object \n",
      " 2   LEAGUE_ID          16 non-null     object \n",
      " 3   TEAM_ID            16 non-null     int64  \n",
      " 4   TEAM_ABBREVIATION  16 non-null     object \n",
      " 5   PLAYER_AGE         16 non-null     float64\n",
      " 6   GP                 16 non-null     int64  \n",
      " 7   GS                 16 non-null     int64  \n",
      " 8   MIN                16 non-null     int64  \n",
      " 9   FGM                16 non-null     int64  \n",
      " 10  FGA                16 non-null     int64  \n",
      " 11  FG_PCT             16 non-null     float64\n",
      " 12  FG3M               16 non-null     int64  \n",
      " 13  FG3A               16 non-null     int64  \n",
      " 14  FG3_PCT            16 non-null     float64\n",
      " 15  FTM                16 non-null     int64  \n",
      " 16  FTA                16 non-null     int64  \n",
      " 17  FT_PCT             16 non-null     float64\n",
      " 18  OREB               16 non-null     int64  \n",
      " 19  DREB               16 non-null     int64  \n",
      " 20  REB                16 non-null     int64  \n",
      " 21  AST                16 non-null     int64  \n",
      " 22  STL                16 non-null     int64  \n",
      " 23  BLK                16 non-null     int64  \n",
      " 24  TOV                16 non-null     int64  \n",
      " 25  PF                 16 non-null     int64  \n",
      " 26  PTS                16 non-null     int64  \n",
      "dtypes: float64(4), int64(20), object(3)\n",
      "memory usage: 3.5+ KB\n",
      "<class 'pandas.core.frame.DataFrame'>\n",
      "RangeIndex: 13 entries, 0 to 12\n",
      "Data columns (total 27 columns):\n",
      " #   Column             Non-Null Count  Dtype  \n",
      "---  ------             --------------  -----  \n",
      " 0   PLAYER_ID          13 non-null     int64  \n",
      " 1   SEASON_ID          13 non-null     object \n",
      " 2   LEAGUE_ID          13 non-null     object \n",
      " 3   TEAM_ID            13 non-null     int64  \n",
      " 4   TEAM_ABBREVIATION  13 non-null     object \n",
      " 5   PLAYER_AGE         13 non-null     float64\n",
      " 6   GP                 13 non-null     int64  \n",
      " 7   GS                 13 non-null     int64  \n",
      " 8   MIN                13 non-null     int64  \n",
      " 9   FGM                13 non-null     int64  \n",
      " 10  FGA                13 non-null     int64  \n",
      " 11  FG_PCT             13 non-null     float64\n",
      " 12  FG3M               13 non-null     int64  \n",
      " 13  FG3A               13 non-null     int64  \n",
      " 14  FG3_PCT            13 non-null     float64\n",
      " 15  FTM                13 non-null     int64  \n",
      " 16  FTA                13 non-null     int64  \n",
      " 17  FT_PCT             13 non-null     float64\n",
      " 18  OREB               13 non-null     int64  \n",
      " 19  DREB               13 non-null     int64  \n",
      " 20  REB                13 non-null     int64  \n",
      " 21  AST                13 non-null     int64  \n",
      " 22  STL                13 non-null     int64  \n",
      " 23  BLK                13 non-null     int64  \n",
      " 24  TOV                13 non-null     int64  \n",
      " 25  PF                 13 non-null     int64  \n",
      " 26  PTS                13 non-null     int64  \n",
      "dtypes: float64(4), int64(20), object(3)\n",
      "memory usage: 2.9+ KB\n",
      "<class 'pandas.core.frame.DataFrame'>\n",
      "RangeIndex: 17 entries, 0 to 16\n",
      "Data columns (total 27 columns):\n",
      " #   Column             Non-Null Count  Dtype  \n",
      "---  ------             --------------  -----  \n",
      " 0   PLAYER_ID          17 non-null     int64  \n",
      " 1   SEASON_ID          17 non-null     object \n",
      " 2   LEAGUE_ID          17 non-null     object \n",
      " 3   TEAM_ID            17 non-null     int64  \n",
      " 4   TEAM_ABBREVIATION  17 non-null     object \n",
      " 5   PLAYER_AGE         17 non-null     float64\n",
      " 6   GP                 17 non-null     int64  \n",
      " 7   GS                 17 non-null     int64  \n",
      " 8   MIN                17 non-null     int64  \n",
      " 9   FGM                17 non-null     int64  \n",
      " 10  FGA                17 non-null     int64  \n",
      " 11  FG_PCT             17 non-null     float64\n",
      " 12  FG3M               17 non-null     int64  \n",
      " 13  FG3A               17 non-null     int64  \n",
      " 14  FG3_PCT            17 non-null     float64\n",
      " 15  FTM                17 non-null     int64  \n",
      " 16  FTA                17 non-null     int64  \n",
      " 17  FT_PCT             17 non-null     float64\n",
      " 18  OREB               17 non-null     int64  \n",
      " 19  DREB               17 non-null     int64  \n",
      " 20  REB                17 non-null     int64  \n",
      " 21  AST                17 non-null     int64  \n",
      " 22  STL                17 non-null     int64  \n",
      " 23  BLK                17 non-null     int64  \n",
      " 24  TOV                17 non-null     int64  \n",
      " 25  PF                 17 non-null     int64  \n",
      " 26  PTS                17 non-null     int64  \n",
      "dtypes: float64(4), int64(20), object(3)\n",
      "memory usage: 3.7+ KB\n",
      "<class 'pandas.core.frame.DataFrame'>\n",
      "RangeIndex: 17 entries, 0 to 16\n",
      "Data columns (total 27 columns):\n",
      " #   Column             Non-Null Count  Dtype  \n",
      "---  ------             --------------  -----  \n",
      " 0   PLAYER_ID          17 non-null     int64  \n",
      " 1   SEASON_ID          17 non-null     object \n",
      " 2   LEAGUE_ID          17 non-null     object \n",
      " 3   TEAM_ID            17 non-null     int64  \n",
      " 4   TEAM_ABBREVIATION  17 non-null     object \n",
      " 5   PLAYER_AGE         17 non-null     float64\n",
      " 6   GP                 17 non-null     int64  \n",
      " 7   GS                 17 non-null     int64  \n",
      " 8   MIN                17 non-null     int64  \n",
      " 9   FGM                17 non-null     int64  \n",
      " 10  FGA                17 non-null     int64  \n",
      " 11  FG_PCT             17 non-null     float64\n",
      " 12  FG3M               17 non-null     int64  \n",
      " 13  FG3A               17 non-null     int64  \n",
      " 14  FG3_PCT            17 non-null     float64\n",
      " 15  FTM                17 non-null     int64  \n",
      " 16  FTA                17 non-null     int64  \n",
      " 17  FT_PCT             17 non-null     float64\n",
      " 18  OREB               17 non-null     int64  \n",
      " 19  DREB               17 non-null     int64  \n",
      " 20  REB                17 non-null     int64  \n",
      " 21  AST                17 non-null     int64  \n",
      " 22  STL                17 non-null     int64  \n",
      " 23  BLK                17 non-null     int64  \n",
      " 24  TOV                17 non-null     int64  \n",
      " 25  PF                 17 non-null     int64  \n",
      " 26  PTS                17 non-null     int64  \n",
      "dtypes: float64(4), int64(20), object(3)\n",
      "memory usage: 3.7+ KB\n",
      "<class 'pandas.core.frame.DataFrame'>\n",
      "RangeIndex: 13 entries, 0 to 12\n",
      "Data columns (total 27 columns):\n",
      " #   Column             Non-Null Count  Dtype  \n",
      "---  ------             --------------  -----  \n",
      " 0   PLAYER_ID          13 non-null     int64  \n",
      " 1   SEASON_ID          13 non-null     object \n",
      " 2   LEAGUE_ID          13 non-null     object \n",
      " 3   TEAM_ID            13 non-null     int64  \n",
      " 4   TEAM_ABBREVIATION  13 non-null     object \n",
      " 5   PLAYER_AGE         13 non-null     float64\n",
      " 6   GP                 13 non-null     int64  \n",
      " 7   GS                 13 non-null     int64  \n",
      " 8   MIN                13 non-null     int64  \n",
      " 9   FGM                13 non-null     int64  \n",
      " 10  FGA                13 non-null     int64  \n",
      " 11  FG_PCT             13 non-null     float64\n",
      " 12  FG3M               13 non-null     int64  \n",
      " 13  FG3A               13 non-null     int64  \n",
      " 14  FG3_PCT            13 non-null     float64\n",
      " 15  FTM                13 non-null     int64  \n",
      " 16  FTA                13 non-null     int64  \n",
      " 17  FT_PCT             13 non-null     float64\n",
      " 18  OREB               13 non-null     int64  \n",
      " 19  DREB               13 non-null     int64  \n",
      " 20  REB                13 non-null     int64  \n",
      " 21  AST                13 non-null     int64  \n",
      " 22  STL                13 non-null     int64  \n",
      " 23  BLK                13 non-null     int64  \n",
      " 24  TOV                13 non-null     int64  \n",
      " 25  PF                 13 non-null     int64  \n",
      " 26  PTS                13 non-null     int64  \n",
      "dtypes: float64(4), int64(20), object(3)\n",
      "memory usage: 2.9+ KB\n",
      "<class 'pandas.core.frame.DataFrame'>\n",
      "RangeIndex: 15 entries, 0 to 14\n",
      "Data columns (total 27 columns):\n",
      " #   Column             Non-Null Count  Dtype  \n",
      "---  ------             --------------  -----  \n",
      " 0   PLAYER_ID          15 non-null     int64  \n",
      " 1   SEASON_ID          15 non-null     object \n",
      " 2   LEAGUE_ID          15 non-null     object \n",
      " 3   TEAM_ID            15 non-null     int64  \n",
      " 4   TEAM_ABBREVIATION  15 non-null     object \n",
      " 5   PLAYER_AGE         15 non-null     float64\n",
      " 6   GP                 15 non-null     int64  \n",
      " 7   GS                 15 non-null     int64  \n",
      " 8   MIN                15 non-null     int64  \n",
      " 9   FGM                15 non-null     int64  \n",
      " 10  FGA                15 non-null     int64  \n",
      " 11  FG_PCT             15 non-null     float64\n",
      " 12  FG3M               15 non-null     int64  \n",
      " 13  FG3A               15 non-null     int64  \n",
      " 14  FG3_PCT            15 non-null     float64\n",
      " 15  FTM                15 non-null     int64  \n",
      " 16  FTA                15 non-null     int64  \n",
      " 17  FT_PCT             15 non-null     float64\n",
      " 18  OREB               15 non-null     int64  \n",
      " 19  DREB               15 non-null     int64  \n",
      " 20  REB                15 non-null     int64  \n",
      " 21  AST                15 non-null     int64  \n",
      " 22  STL                15 non-null     int64  \n",
      " 23  BLK                15 non-null     int64  \n",
      " 24  TOV                15 non-null     int64  \n",
      " 25  PF                 15 non-null     int64  \n",
      " 26  PTS                15 non-null     int64  \n",
      "dtypes: float64(4), int64(20), object(3)\n",
      "memory usage: 3.3+ KB\n",
      "<class 'pandas.core.frame.DataFrame'>\n",
      "RangeIndex: 17 entries, 0 to 16\n",
      "Data columns (total 27 columns):\n",
      " #   Column             Non-Null Count  Dtype  \n",
      "---  ------             --------------  -----  \n",
      " 0   PLAYER_ID          17 non-null     int64  \n",
      " 1   SEASON_ID          17 non-null     object \n",
      " 2   LEAGUE_ID          17 non-null     object \n",
      " 3   TEAM_ID            17 non-null     int64  \n",
      " 4   TEAM_ABBREVIATION  17 non-null     object \n",
      " 5   PLAYER_AGE         17 non-null     float64\n",
      " 6   GP                 17 non-null     int64  \n",
      " 7   GS                 17 non-null     int64  \n",
      " 8   MIN                17 non-null     int64  \n",
      " 9   FGM                17 non-null     int64  \n",
      " 10  FGA                17 non-null     int64  \n",
      " 11  FG_PCT             17 non-null     float64\n",
      " 12  FG3M               17 non-null     int64  \n",
      " 13  FG3A               17 non-null     int64  \n",
      " 14  FG3_PCT            17 non-null     float64\n",
      " 15  FTM                17 non-null     int64  \n",
      " 16  FTA                17 non-null     int64  \n",
      " 17  FT_PCT             17 non-null     float64\n",
      " 18  OREB               17 non-null     int64  \n",
      " 19  DREB               17 non-null     int64  \n",
      " 20  REB                17 non-null     int64  \n",
      " 21  AST                17 non-null     int64  \n",
      " 22  STL                17 non-null     int64  \n",
      " 23  BLK                17 non-null     int64  \n",
      " 24  TOV                17 non-null     int64  \n",
      " 25  PF                 17 non-null     int64  \n",
      " 26  PTS                17 non-null     int64  \n",
      "dtypes: float64(4), int64(20), object(3)\n",
      "memory usage: 3.7+ KB\n",
      "<class 'pandas.core.frame.DataFrame'>\n",
      "RangeIndex: 19 entries, 0 to 18\n",
      "Data columns (total 27 columns):\n",
      " #   Column             Non-Null Count  Dtype  \n",
      "---  ------             --------------  -----  \n",
      " 0   PLAYER_ID          19 non-null     int64  \n",
      " 1   SEASON_ID          19 non-null     object \n",
      " 2   LEAGUE_ID          19 non-null     object \n",
      " 3   TEAM_ID            19 non-null     int64  \n",
      " 4   TEAM_ABBREVIATION  19 non-null     object \n",
      " 5   PLAYER_AGE         19 non-null     float64\n",
      " 6   GP                 19 non-null     int64  \n",
      " 7   GS                 19 non-null     int64  \n",
      " 8   MIN                19 non-null     int64  \n",
      " 9   FGM                19 non-null     int64  \n",
      " 10  FGA                19 non-null     int64  \n",
      " 11  FG_PCT             19 non-null     float64\n",
      " 12  FG3M               19 non-null     int64  \n",
      " 13  FG3A               19 non-null     int64  \n",
      " 14  FG3_PCT            19 non-null     float64\n",
      " 15  FTM                19 non-null     int64  \n",
      " 16  FTA                19 non-null     int64  \n",
      " 17  FT_PCT             19 non-null     float64\n",
      " 18  OREB               19 non-null     int64  \n",
      " 19  DREB               19 non-null     int64  \n",
      " 20  REB                19 non-null     int64  \n",
      " 21  AST                19 non-null     int64  \n",
      " 22  STL                19 non-null     int64  \n",
      " 23  BLK                19 non-null     int64  \n",
      " 24  TOV                19 non-null     int64  \n",
      " 25  PF                 19 non-null     int64  \n",
      " 26  PTS                19 non-null     int64  \n",
      "dtypes: float64(4), int64(20), object(3)\n",
      "memory usage: 4.1+ KB\n",
      "<class 'pandas.core.frame.DataFrame'>\n",
      "RangeIndex: 16 entries, 0 to 15\n",
      "Data columns (total 27 columns):\n",
      " #   Column             Non-Null Count  Dtype  \n",
      "---  ------             --------------  -----  \n",
      " 0   PLAYER_ID          16 non-null     int64  \n",
      " 1   SEASON_ID          16 non-null     object \n",
      " 2   LEAGUE_ID          16 non-null     object \n",
      " 3   TEAM_ID            16 non-null     int64  \n",
      " 4   TEAM_ABBREVIATION  16 non-null     object \n",
      " 5   PLAYER_AGE         16 non-null     float64\n",
      " 6   GP                 16 non-null     int64  \n",
      " 7   GS                 16 non-null     int64  \n",
      " 8   MIN                16 non-null     int64  \n",
      " 9   FGM                16 non-null     int64  \n",
      " 10  FGA                16 non-null     int64  \n",
      " 11  FG_PCT             16 non-null     float64\n",
      " 12  FG3M               16 non-null     int64  \n",
      " 13  FG3A               16 non-null     int64  \n",
      " 14  FG3_PCT            16 non-null     float64\n",
      " 15  FTM                16 non-null     int64  \n",
      " 16  FTA                16 non-null     int64  \n",
      " 17  FT_PCT             16 non-null     float64\n",
      " 18  OREB               16 non-null     int64  \n",
      " 19  DREB               16 non-null     int64  \n",
      " 20  REB                16 non-null     int64  \n",
      " 21  AST                16 non-null     int64  \n",
      " 22  STL                16 non-null     int64  \n",
      " 23  BLK                16 non-null     int64  \n",
      " 24  TOV                16 non-null     int64  \n",
      " 25  PF                 16 non-null     int64  \n",
      " 26  PTS                16 non-null     int64  \n",
      "dtypes: float64(4), int64(20), object(3)\n",
      "memory usage: 3.5+ KB\n",
      "<class 'pandas.core.frame.DataFrame'>\n",
      "RangeIndex: 17 entries, 0 to 16\n",
      "Data columns (total 27 columns):\n",
      " #   Column             Non-Null Count  Dtype  \n",
      "---  ------             --------------  -----  \n",
      " 0   PLAYER_ID          17 non-null     int64  \n",
      " 1   SEASON_ID          17 non-null     object \n",
      " 2   LEAGUE_ID          17 non-null     object \n",
      " 3   TEAM_ID            17 non-null     int64  \n",
      " 4   TEAM_ABBREVIATION  17 non-null     object \n",
      " 5   PLAYER_AGE         17 non-null     float64\n",
      " 6   GP                 17 non-null     int64  \n",
      " 7   GS                 17 non-null     int64  \n",
      " 8   MIN                17 non-null     int64  \n",
      " 9   FGM                17 non-null     int64  \n",
      " 10  FGA                17 non-null     int64  \n",
      " 11  FG_PCT             17 non-null     float64\n",
      " 12  FG3M               17 non-null     int64  \n",
      " 13  FG3A               17 non-null     int64  \n",
      " 14  FG3_PCT            17 non-null     float64\n",
      " 15  FTM                17 non-null     int64  \n",
      " 16  FTA                17 non-null     int64  \n",
      " 17  FT_PCT             17 non-null     float64\n",
      " 18  OREB               17 non-null     int64  \n",
      " 19  DREB               17 non-null     int64  \n",
      " 20  REB                17 non-null     int64  \n",
      " 21  AST                17 non-null     int64  \n",
      " 22  STL                17 non-null     int64  \n",
      " 23  BLK                17 non-null     int64  \n",
      " 24  TOV                17 non-null     int64  \n",
      " 25  PF                 17 non-null     int64  \n",
      " 26  PTS                17 non-null     int64  \n",
      "dtypes: float64(4), int64(20), object(3)\n",
      "memory usage: 3.7+ KB\n",
      "<class 'pandas.core.frame.DataFrame'>\n",
      "RangeIndex: 14 entries, 0 to 13\n",
      "Data columns (total 27 columns):\n",
      " #   Column             Non-Null Count  Dtype  \n",
      "---  ------             --------------  -----  \n",
      " 0   PLAYER_ID          14 non-null     int64  \n",
      " 1   SEASON_ID          14 non-null     object \n",
      " 2   LEAGUE_ID          14 non-null     object \n",
      " 3   TEAM_ID            14 non-null     int64  \n",
      " 4   TEAM_ABBREVIATION  14 non-null     object \n",
      " 5   PLAYER_AGE         14 non-null     float64\n",
      " 6   GP                 14 non-null     int64  \n",
      " 7   GS                 14 non-null     int64  \n",
      " 8   MIN                14 non-null     int64  \n",
      " 9   FGM                14 non-null     int64  \n",
      " 10  FGA                14 non-null     int64  \n",
      " 11  FG_PCT             14 non-null     float64\n",
      " 12  FG3M               14 non-null     int64  \n",
      " 13  FG3A               14 non-null     int64  \n",
      " 14  FG3_PCT            14 non-null     float64\n",
      " 15  FTM                14 non-null     int64  \n",
      " 16  FTA                14 non-null     int64  \n",
      " 17  FT_PCT             14 non-null     float64\n",
      " 18  OREB               14 non-null     int64  \n",
      " 19  DREB               14 non-null     int64  \n",
      " 20  REB                14 non-null     int64  \n",
      " 21  AST                14 non-null     int64  \n",
      " 22  STL                14 non-null     int64  \n",
      " 23  BLK                14 non-null     int64  \n",
      " 24  TOV                14 non-null     int64  \n",
      " 25  PF                 14 non-null     int64  \n",
      " 26  PTS                14 non-null     int64  \n",
      "dtypes: float64(4), int64(20), object(3)\n",
      "memory usage: 3.1+ KB\n",
      "<class 'pandas.core.frame.DataFrame'>\n",
      "RangeIndex: 19 entries, 0 to 18\n",
      "Data columns (total 27 columns):\n",
      " #   Column             Non-Null Count  Dtype  \n",
      "---  ------             --------------  -----  \n",
      " 0   PLAYER_ID          19 non-null     int64  \n",
      " 1   SEASON_ID          19 non-null     object \n",
      " 2   LEAGUE_ID          19 non-null     object \n",
      " 3   TEAM_ID            19 non-null     int64  \n",
      " 4   TEAM_ABBREVIATION  19 non-null     object \n",
      " 5   PLAYER_AGE         19 non-null     float64\n",
      " 6   GP                 19 non-null     int64  \n",
      " 7   GS                 19 non-null     int64  \n",
      " 8   MIN                19 non-null     int64  \n",
      " 9   FGM                19 non-null     int64  \n",
      " 10  FGA                19 non-null     int64  \n",
      " 11  FG_PCT             19 non-null     float64\n",
      " 12  FG3M               19 non-null     int64  \n",
      " 13  FG3A               19 non-null     int64  \n",
      " 14  FG3_PCT            19 non-null     float64\n",
      " 15  FTM                19 non-null     int64  \n",
      " 16  FTA                19 non-null     int64  \n",
      " 17  FT_PCT             19 non-null     float64\n",
      " 18  OREB               19 non-null     int64  \n",
      " 19  DREB               19 non-null     int64  \n",
      " 20  REB                19 non-null     int64  \n",
      " 21  AST                19 non-null     int64  \n",
      " 22  STL                19 non-null     int64  \n",
      " 23  BLK                19 non-null     int64  \n",
      " 24  TOV                19 non-null     int64  \n",
      " 25  PF                 19 non-null     int64  \n",
      " 26  PTS                19 non-null     int64  \n",
      "dtypes: float64(4), int64(20), object(3)\n",
      "memory usage: 4.1+ KB\n",
      "None None None None None None None None None None None None\n"
     ]
    }
   ],
   "source": [
    "#get information about dataframes\n",
    "print(barkley.info(), bird.info(), drexler.info(), ewing.info(),\n",
    "      johnson.info(), jordan.info(), laettner.info(), malone.info(),\n",
    "      mullin.info(), pippen.info(), robinson.info(), stockton.info())"
   ]
  },
  {
   "cell_type": "code",
   "execution_count": 65,
   "id": "00d4dc53",
   "metadata": {},
   "outputs": [
    {
     "data": {
      "text/plain": [
       "SEASON_ID\n",
       "1984-85    False\n",
       "1985-86    False\n",
       "1986-87    False\n",
       "1987-88    False\n",
       "1988-89    False\n",
       "1989-90    False\n",
       "1990-91    False\n",
       "1991-92    False\n",
       "1992-93    False\n",
       "1993-94    False\n",
       "1994-95    False\n",
       "1995-96    False\n",
       "1996-97    False\n",
       "1997-98    False\n",
       "1998-99    False\n",
       "1999-00    False\n",
       "Name: count, dtype: bool"
      ]
     },
     "execution_count": 65,
     "metadata": {},
     "output_type": "execute_result"
    },
    {
     "data": {
      "text/plain": [
       "SEASON_ID\n",
       "1979-80    False\n",
       "1980-81    False\n",
       "1981-82    False\n",
       "1982-83    False\n",
       "1983-84    False\n",
       "1984-85    False\n",
       "1985-86    False\n",
       "1986-87    False\n",
       "1987-88    False\n",
       "1988-89    False\n",
       "1989-90    False\n",
       "1990-91    False\n",
       "1991-92    False\n",
       "Name: count, dtype: bool"
      ]
     },
     "execution_count": 65,
     "metadata": {},
     "output_type": "execute_result"
    },
    {
     "data": {
      "text/plain": [
       "SEASON_ID\n",
       "1994-95     True\n",
       "1984-85    False\n",
       "1983-84    False\n",
       "1986-87    False\n",
       "1987-88    False\n",
       "1988-89    False\n",
       "1985-86    False\n",
       "1989-90    False\n",
       "1990-91    False\n",
       "1992-93    False\n",
       "1991-92    False\n",
       "1993-94    False\n",
       "1995-96    False\n",
       "1996-97    False\n",
       "1997-98    False\n",
       "Name: count, dtype: bool"
      ]
     },
     "execution_count": 65,
     "metadata": {},
     "output_type": "execute_result"
    },
    {
     "data": {
      "text/plain": [
       "SEASON_ID\n",
       "1985-86    False\n",
       "1986-87    False\n",
       "1987-88    False\n",
       "1988-89    False\n",
       "1989-90    False\n",
       "1990-91    False\n",
       "1991-92    False\n",
       "1992-93    False\n",
       "1993-94    False\n",
       "1994-95    False\n",
       "1995-96    False\n",
       "1996-97    False\n",
       "1997-98    False\n",
       "1998-99    False\n",
       "1999-00    False\n",
       "2000-01    False\n",
       "2001-02    False\n",
       "Name: count, dtype: bool"
      ]
     },
     "execution_count": 65,
     "metadata": {},
     "output_type": "execute_result"
    },
    {
     "data": {
      "text/plain": [
       "SEASON_ID\n",
       "1979-80    False\n",
       "1980-81    False\n",
       "1981-82    False\n",
       "1982-83    False\n",
       "1983-84    False\n",
       "1984-85    False\n",
       "1985-86    False\n",
       "1986-87    False\n",
       "1987-88    False\n",
       "1988-89    False\n",
       "1989-90    False\n",
       "1990-91    False\n",
       "1995-96    False\n",
       "Name: count, dtype: bool"
      ]
     },
     "execution_count": 65,
     "metadata": {},
     "output_type": "execute_result"
    },
    {
     "data": {
      "text/plain": [
       "SEASON_ID\n",
       "1984-85    False\n",
       "1985-86    False\n",
       "1986-87    False\n",
       "1987-88    False\n",
       "1988-89    False\n",
       "1989-90    False\n",
       "1990-91    False\n",
       "1991-92    False\n",
       "1992-93    False\n",
       "1994-95    False\n",
       "1995-96    False\n",
       "1996-97    False\n",
       "1997-98    False\n",
       "2001-02    False\n",
       "2002-03    False\n",
       "Name: count, dtype: bool"
      ]
     },
     "execution_count": 65,
     "metadata": {},
     "output_type": "execute_result"
    },
    {
     "data": {
      "text/plain": [
       "SEASON_ID\n",
       "1995-96     True\n",
       "2000-01     True\n",
       "1992-93    False\n",
       "1994-95    False\n",
       "1993-94    False\n",
       "1996-97    False\n",
       "1997-98    False\n",
       "1998-99    False\n",
       "1999-00    False\n",
       "2001-02    False\n",
       "2002-03    False\n",
       "2003-04    False\n",
       "2004-05    False\n",
       "Name: count, dtype: bool"
      ]
     },
     "execution_count": 65,
     "metadata": {},
     "output_type": "execute_result"
    },
    {
     "data": {
      "text/plain": [
       "SEASON_ID\n",
       "1985-86    False\n",
       "1986-87    False\n",
       "1987-88    False\n",
       "1988-89    False\n",
       "1989-90    False\n",
       "1990-91    False\n",
       "1991-92    False\n",
       "1992-93    False\n",
       "1993-94    False\n",
       "1994-95    False\n",
       "1995-96    False\n",
       "1996-97    False\n",
       "1997-98    False\n",
       "1998-99    False\n",
       "1999-00    False\n",
       "2000-01    False\n",
       "2001-02    False\n",
       "2002-03    False\n",
       "2003-04    False\n",
       "Name: count, dtype: bool"
      ]
     },
     "execution_count": 65,
     "metadata": {},
     "output_type": "execute_result"
    },
    {
     "data": {
      "text/plain": [
       "SEASON_ID\n",
       "1985-86    False\n",
       "1986-87    False\n",
       "1987-88    False\n",
       "1988-89    False\n",
       "1989-90    False\n",
       "1990-91    False\n",
       "1991-92    False\n",
       "1992-93    False\n",
       "1993-94    False\n",
       "1994-95    False\n",
       "1995-96    False\n",
       "1996-97    False\n",
       "1997-98    False\n",
       "1998-99    False\n",
       "1999-00    False\n",
       "2000-01    False\n",
       "Name: count, dtype: bool"
      ]
     },
     "execution_count": 65,
     "metadata": {},
     "output_type": "execute_result"
    },
    {
     "data": {
      "text/plain": [
       "SEASON_ID\n",
       "1987-88    False\n",
       "1988-89    False\n",
       "1989-90    False\n",
       "1990-91    False\n",
       "1991-92    False\n",
       "1992-93    False\n",
       "1993-94    False\n",
       "1994-95    False\n",
       "1995-96    False\n",
       "1996-97    False\n",
       "1997-98    False\n",
       "1998-99    False\n",
       "1999-00    False\n",
       "2000-01    False\n",
       "2001-02    False\n",
       "2002-03    False\n",
       "2003-04    False\n",
       "Name: count, dtype: bool"
      ]
     },
     "execution_count": 65,
     "metadata": {},
     "output_type": "execute_result"
    },
    {
     "data": {
      "text/plain": [
       "SEASON_ID\n",
       "1989-90    False\n",
       "1990-91    False\n",
       "1991-92    False\n",
       "1992-93    False\n",
       "1993-94    False\n",
       "1994-95    False\n",
       "1995-96    False\n",
       "1996-97    False\n",
       "1997-98    False\n",
       "1998-99    False\n",
       "1999-00    False\n",
       "2000-01    False\n",
       "2001-02    False\n",
       "2002-03    False\n",
       "Name: count, dtype: bool"
      ]
     },
     "execution_count": 65,
     "metadata": {},
     "output_type": "execute_result"
    },
    {
     "data": {
      "text/plain": [
       "SEASON_ID\n",
       "1984-85    False\n",
       "1985-86    False\n",
       "1986-87    False\n",
       "1987-88    False\n",
       "1988-89    False\n",
       "1989-90    False\n",
       "1990-91    False\n",
       "1991-92    False\n",
       "1992-93    False\n",
       "1993-94    False\n",
       "1994-95    False\n",
       "1995-96    False\n",
       "1996-97    False\n",
       "1997-98    False\n",
       "1998-99    False\n",
       "1999-00    False\n",
       "2000-01    False\n",
       "2001-02    False\n",
       "2002-03    False\n",
       "Name: count, dtype: bool"
      ]
     },
     "execution_count": 65,
     "metadata": {},
     "output_type": "execute_result"
    }
   ],
   "source": [
    "#check for duplicate season IDs in dataframes\n",
    "barkley['SEASON_ID'].value_counts()>1\n",
    "bird['SEASON_ID'].value_counts()>1\n",
    "drexler['SEASON_ID'].value_counts()>1\n",
    "ewing['SEASON_ID'].value_counts()>1\n",
    "johnson['SEASON_ID'].value_counts()>1\n",
    "jordan['SEASON_ID'].value_counts()>1\n",
    "laettner['SEASON_ID'].value_counts()>1\n",
    "malone['SEASON_ID'].value_counts()>1\n",
    "mullin['SEASON_ID'].value_counts()>1\n",
    "pippen['SEASON_ID'].value_counts()>1\n",
    "robinson['SEASON_ID'].value_counts()>1\n",
    "stockton['SEASON_ID'].value_counts()>1"
   ]
  },
  {
   "cell_type": "code",
   "execution_count": 66,
   "id": "2680ab75",
   "metadata": {},
   "outputs": [
    {
     "data": {
      "application/vnd.plotly.v1+json": {
       "config": {
        "plotlyServerURL": "https://plot.ly"
       },
       "data": [
        {
         "marker": {
          "color": "crimson"
         },
         "type": "bar",
         "x": [
          "Charles Barkley",
          "Larry Bird",
          "Clyde Drexler",
          "Patrick Ewing",
          "Magic Johnson",
          "Michael Jordan",
          "Christian Laettner",
          "Karl Malone",
          "Chris Mullin",
          "Scottie Pippen",
          "David Robinson",
          "John Stockton"
         ],
         "y": [
          16,
          13,
          15,
          17,
          13,
          15,
          13,
          19,
          16,
          17,
          14,
          19
         ]
        }
       ],
       "layout": {
        "template": {
         "data": {
          "bar": [
           {
            "error_x": {
             "color": "#2a3f5f"
            },
            "error_y": {
             "color": "#2a3f5f"
            },
            "marker": {
             "line": {
              "color": "#E5ECF6",
              "width": 0.5
             },
             "pattern": {
              "fillmode": "overlay",
              "size": 10,
              "solidity": 0.2
             }
            },
            "type": "bar"
           }
          ],
          "barpolar": [
           {
            "marker": {
             "line": {
              "color": "#E5ECF6",
              "width": 0.5
             },
             "pattern": {
              "fillmode": "overlay",
              "size": 10,
              "solidity": 0.2
             }
            },
            "type": "barpolar"
           }
          ],
          "carpet": [
           {
            "aaxis": {
             "endlinecolor": "#2a3f5f",
             "gridcolor": "white",
             "linecolor": "white",
             "minorgridcolor": "white",
             "startlinecolor": "#2a3f5f"
            },
            "baxis": {
             "endlinecolor": "#2a3f5f",
             "gridcolor": "white",
             "linecolor": "white",
             "minorgridcolor": "white",
             "startlinecolor": "#2a3f5f"
            },
            "type": "carpet"
           }
          ],
          "choropleth": [
           {
            "colorbar": {
             "outlinewidth": 0,
             "ticks": ""
            },
            "type": "choropleth"
           }
          ],
          "contour": [
           {
            "colorbar": {
             "outlinewidth": 0,
             "ticks": ""
            },
            "colorscale": [
             [
              0,
              "#0d0887"
             ],
             [
              0.1111111111111111,
              "#46039f"
             ],
             [
              0.2222222222222222,
              "#7201a8"
             ],
             [
              0.3333333333333333,
              "#9c179e"
             ],
             [
              0.4444444444444444,
              "#bd3786"
             ],
             [
              0.5555555555555556,
              "#d8576b"
             ],
             [
              0.6666666666666666,
              "#ed7953"
             ],
             [
              0.7777777777777778,
              "#fb9f3a"
             ],
             [
              0.8888888888888888,
              "#fdca26"
             ],
             [
              1,
              "#f0f921"
             ]
            ],
            "type": "contour"
           }
          ],
          "contourcarpet": [
           {
            "colorbar": {
             "outlinewidth": 0,
             "ticks": ""
            },
            "type": "contourcarpet"
           }
          ],
          "heatmap": [
           {
            "colorbar": {
             "outlinewidth": 0,
             "ticks": ""
            },
            "colorscale": [
             [
              0,
              "#0d0887"
             ],
             [
              0.1111111111111111,
              "#46039f"
             ],
             [
              0.2222222222222222,
              "#7201a8"
             ],
             [
              0.3333333333333333,
              "#9c179e"
             ],
             [
              0.4444444444444444,
              "#bd3786"
             ],
             [
              0.5555555555555556,
              "#d8576b"
             ],
             [
              0.6666666666666666,
              "#ed7953"
             ],
             [
              0.7777777777777778,
              "#fb9f3a"
             ],
             [
              0.8888888888888888,
              "#fdca26"
             ],
             [
              1,
              "#f0f921"
             ]
            ],
            "type": "heatmap"
           }
          ],
          "histogram": [
           {
            "marker": {
             "pattern": {
              "fillmode": "overlay",
              "size": 10,
              "solidity": 0.2
             }
            },
            "type": "histogram"
           }
          ],
          "histogram2d": [
           {
            "colorbar": {
             "outlinewidth": 0,
             "ticks": ""
            },
            "colorscale": [
             [
              0,
              "#0d0887"
             ],
             [
              0.1111111111111111,
              "#46039f"
             ],
             [
              0.2222222222222222,
              "#7201a8"
             ],
             [
              0.3333333333333333,
              "#9c179e"
             ],
             [
              0.4444444444444444,
              "#bd3786"
             ],
             [
              0.5555555555555556,
              "#d8576b"
             ],
             [
              0.6666666666666666,
              "#ed7953"
             ],
             [
              0.7777777777777778,
              "#fb9f3a"
             ],
             [
              0.8888888888888888,
              "#fdca26"
             ],
             [
              1,
              "#f0f921"
             ]
            ],
            "type": "histogram2d"
           }
          ],
          "histogram2dcontour": [
           {
            "colorbar": {
             "outlinewidth": 0,
             "ticks": ""
            },
            "colorscale": [
             [
              0,
              "#0d0887"
             ],
             [
              0.1111111111111111,
              "#46039f"
             ],
             [
              0.2222222222222222,
              "#7201a8"
             ],
             [
              0.3333333333333333,
              "#9c179e"
             ],
             [
              0.4444444444444444,
              "#bd3786"
             ],
             [
              0.5555555555555556,
              "#d8576b"
             ],
             [
              0.6666666666666666,
              "#ed7953"
             ],
             [
              0.7777777777777778,
              "#fb9f3a"
             ],
             [
              0.8888888888888888,
              "#fdca26"
             ],
             [
              1,
              "#f0f921"
             ]
            ],
            "type": "histogram2dcontour"
           }
          ],
          "mesh3d": [
           {
            "colorbar": {
             "outlinewidth": 0,
             "ticks": ""
            },
            "type": "mesh3d"
           }
          ],
          "parcoords": [
           {
            "line": {
             "colorbar": {
              "outlinewidth": 0,
              "ticks": ""
             }
            },
            "type": "parcoords"
           }
          ],
          "pie": [
           {
            "automargin": true,
            "type": "pie"
           }
          ],
          "scatter": [
           {
            "fillpattern": {
             "fillmode": "overlay",
             "size": 10,
             "solidity": 0.2
            },
            "type": "scatter"
           }
          ],
          "scatter3d": [
           {
            "line": {
             "colorbar": {
              "outlinewidth": 0,
              "ticks": ""
             }
            },
            "marker": {
             "colorbar": {
              "outlinewidth": 0,
              "ticks": ""
             }
            },
            "type": "scatter3d"
           }
          ],
          "scattercarpet": [
           {
            "marker": {
             "colorbar": {
              "outlinewidth": 0,
              "ticks": ""
             }
            },
            "type": "scattercarpet"
           }
          ],
          "scattergeo": [
           {
            "marker": {
             "colorbar": {
              "outlinewidth": 0,
              "ticks": ""
             }
            },
            "type": "scattergeo"
           }
          ],
          "scattergl": [
           {
            "marker": {
             "colorbar": {
              "outlinewidth": 0,
              "ticks": ""
             }
            },
            "type": "scattergl"
           }
          ],
          "scattermap": [
           {
            "marker": {
             "colorbar": {
              "outlinewidth": 0,
              "ticks": ""
             }
            },
            "type": "scattermap"
           }
          ],
          "scattermapbox": [
           {
            "marker": {
             "colorbar": {
              "outlinewidth": 0,
              "ticks": ""
             }
            },
            "type": "scattermapbox"
           }
          ],
          "scatterpolar": [
           {
            "marker": {
             "colorbar": {
              "outlinewidth": 0,
              "ticks": ""
             }
            },
            "type": "scatterpolar"
           }
          ],
          "scatterpolargl": [
           {
            "marker": {
             "colorbar": {
              "outlinewidth": 0,
              "ticks": ""
             }
            },
            "type": "scatterpolargl"
           }
          ],
          "scatterternary": [
           {
            "marker": {
             "colorbar": {
              "outlinewidth": 0,
              "ticks": ""
             }
            },
            "type": "scatterternary"
           }
          ],
          "surface": [
           {
            "colorbar": {
             "outlinewidth": 0,
             "ticks": ""
            },
            "colorscale": [
             [
              0,
              "#0d0887"
             ],
             [
              0.1111111111111111,
              "#46039f"
             ],
             [
              0.2222222222222222,
              "#7201a8"
             ],
             [
              0.3333333333333333,
              "#9c179e"
             ],
             [
              0.4444444444444444,
              "#bd3786"
             ],
             [
              0.5555555555555556,
              "#d8576b"
             ],
             [
              0.6666666666666666,
              "#ed7953"
             ],
             [
              0.7777777777777778,
              "#fb9f3a"
             ],
             [
              0.8888888888888888,
              "#fdca26"
             ],
             [
              1,
              "#f0f921"
             ]
            ],
            "type": "surface"
           }
          ],
          "table": [
           {
            "cells": {
             "fill": {
              "color": "#EBF0F8"
             },
             "line": {
              "color": "white"
             }
            },
            "header": {
             "fill": {
              "color": "#C8D4E3"
             },
             "line": {
              "color": "white"
             }
            },
            "type": "table"
           }
          ]
         },
         "layout": {
          "annotationdefaults": {
           "arrowcolor": "#2a3f5f",
           "arrowhead": 0,
           "arrowwidth": 1
          },
          "autotypenumbers": "strict",
          "coloraxis": {
           "colorbar": {
            "outlinewidth": 0,
            "ticks": ""
           }
          },
          "colorscale": {
           "diverging": [
            [
             0,
             "#8e0152"
            ],
            [
             0.1,
             "#c51b7d"
            ],
            [
             0.2,
             "#de77ae"
            ],
            [
             0.3,
             "#f1b6da"
            ],
            [
             0.4,
             "#fde0ef"
            ],
            [
             0.5,
             "#f7f7f7"
            ],
            [
             0.6,
             "#e6f5d0"
            ],
            [
             0.7,
             "#b8e186"
            ],
            [
             0.8,
             "#7fbc41"
            ],
            [
             0.9,
             "#4d9221"
            ],
            [
             1,
             "#276419"
            ]
           ],
           "sequential": [
            [
             0,
             "#0d0887"
            ],
            [
             0.1111111111111111,
             "#46039f"
            ],
            [
             0.2222222222222222,
             "#7201a8"
            ],
            [
             0.3333333333333333,
             "#9c179e"
            ],
            [
             0.4444444444444444,
             "#bd3786"
            ],
            [
             0.5555555555555556,
             "#d8576b"
            ],
            [
             0.6666666666666666,
             "#ed7953"
            ],
            [
             0.7777777777777778,
             "#fb9f3a"
            ],
            [
             0.8888888888888888,
             "#fdca26"
            ],
            [
             1,
             "#f0f921"
            ]
           ],
           "sequentialminus": [
            [
             0,
             "#0d0887"
            ],
            [
             0.1111111111111111,
             "#46039f"
            ],
            [
             0.2222222222222222,
             "#7201a8"
            ],
            [
             0.3333333333333333,
             "#9c179e"
            ],
            [
             0.4444444444444444,
             "#bd3786"
            ],
            [
             0.5555555555555556,
             "#d8576b"
            ],
            [
             0.6666666666666666,
             "#ed7953"
            ],
            [
             0.7777777777777778,
             "#fb9f3a"
            ],
            [
             0.8888888888888888,
             "#fdca26"
            ],
            [
             1,
             "#f0f921"
            ]
           ]
          },
          "colorway": [
           "#636efa",
           "#EF553B",
           "#00cc96",
           "#ab63fa",
           "#FFA15A",
           "#19d3f3",
           "#FF6692",
           "#B6E880",
           "#FF97FF",
           "#FECB52"
          ],
          "font": {
           "color": "#2a3f5f"
          },
          "geo": {
           "bgcolor": "white",
           "lakecolor": "white",
           "landcolor": "#E5ECF6",
           "showlakes": true,
           "showland": true,
           "subunitcolor": "white"
          },
          "hoverlabel": {
           "align": "left"
          },
          "hovermode": "closest",
          "mapbox": {
           "style": "light"
          },
          "paper_bgcolor": "white",
          "plot_bgcolor": "#E5ECF6",
          "polar": {
           "angularaxis": {
            "gridcolor": "white",
            "linecolor": "white",
            "ticks": ""
           },
           "bgcolor": "#E5ECF6",
           "radialaxis": {
            "gridcolor": "white",
            "linecolor": "white",
            "ticks": ""
           }
          },
          "scene": {
           "xaxis": {
            "backgroundcolor": "#E5ECF6",
            "gridcolor": "white",
            "gridwidth": 2,
            "linecolor": "white",
            "showbackground": true,
            "ticks": "",
            "zerolinecolor": "white"
           },
           "yaxis": {
            "backgroundcolor": "#E5ECF6",
            "gridcolor": "white",
            "gridwidth": 2,
            "linecolor": "white",
            "showbackground": true,
            "ticks": "",
            "zerolinecolor": "white"
           },
           "zaxis": {
            "backgroundcolor": "#E5ECF6",
            "gridcolor": "white",
            "gridwidth": 2,
            "linecolor": "white",
            "showbackground": true,
            "ticks": "",
            "zerolinecolor": "white"
           }
          },
          "shapedefaults": {
           "line": {
            "color": "#2a3f5f"
           }
          },
          "ternary": {
           "aaxis": {
            "gridcolor": "white",
            "linecolor": "white",
            "ticks": ""
           },
           "baxis": {
            "gridcolor": "white",
            "linecolor": "white",
            "ticks": ""
           },
           "bgcolor": "#E5ECF6",
           "caxis": {
            "gridcolor": "white",
            "linecolor": "white",
            "ticks": ""
           }
          },
          "title": {
           "x": 0.05
          },
          "xaxis": {
           "automargin": true,
           "gridcolor": "white",
           "linecolor": "white",
           "ticks": "",
           "title": {
            "standoff": 15
           },
           "zerolinecolor": "white",
           "zerolinewidth": 2
          },
          "yaxis": {
           "automargin": true,
           "gridcolor": "white",
           "linecolor": "white",
           "ticks": "",
           "title": {
            "standoff": 15
           },
           "zerolinecolor": "white",
           "zerolinewidth": 2
          }
         }
        },
        "title": {
         "text": "Number of NBA seasons played, by player"
        },
        "xaxis": {
         "title": {
          "text": "Player"
         }
        },
        "yaxis": {
         "title": {
          "text": "Number of NBA seasons"
         }
        }
       }
      }
     },
     "metadata": {},
     "output_type": "display_data"
    }
   ],
   "source": [
    "# Bar chart of the number of seasons played for each player\n",
    "season_num=[]\n",
    "for dataframe in dataframes.values():\n",
    "    season_num.append(dataframe['SEASON_ID'].value_counts().shape[0])\n",
    "\n",
    "bar_trace = go.Bar(x=roster, y=season_num)\n",
    "fig=go.Figure(data=[bar_trace]).update_layout(title='Number of NBA seasons played, by player', \n",
    "                                              xaxis_title='Player', \n",
    "                                              yaxis_title='Number of NBA seasons').update_traces(marker_color='crimson')\n",
    "fig.show()"
   ]
  },
  {
   "cell_type": "code",
   "execution_count": 67,
   "id": "c66704e3",
   "metadata": {},
   "outputs": [
    {
     "data": {
      "application/vnd.plotly.v1+json": {
       "config": {
        "plotlyServerURL": "https://plot.ly"
       },
       "data": [
        {
         "marker": {
          "color": "blue"
         },
         "type": "bar",
         "x": [
          "Charles Barkley",
          "Larry Bird",
          "Clyde Drexler",
          "Patrick Ewing",
          "Magic Johnson",
          "Michael Jordan",
          "Christian Laettner",
          "Karl Malone",
          "Chris Mullin",
          "Scottie Pippen",
          "David Robinson",
          "John Stockton"
         ],
         "y": [
          3,
          1,
          3,
          3,
          1,
          2,
          7,
          2,
          2,
          3,
          1,
          1
         ]
        }
       ],
       "layout": {
        "template": {
         "data": {
          "bar": [
           {
            "error_x": {
             "color": "#2a3f5f"
            },
            "error_y": {
             "color": "#2a3f5f"
            },
            "marker": {
             "line": {
              "color": "#E5ECF6",
              "width": 0.5
             },
             "pattern": {
              "fillmode": "overlay",
              "size": 10,
              "solidity": 0.2
             }
            },
            "type": "bar"
           }
          ],
          "barpolar": [
           {
            "marker": {
             "line": {
              "color": "#E5ECF6",
              "width": 0.5
             },
             "pattern": {
              "fillmode": "overlay",
              "size": 10,
              "solidity": 0.2
             }
            },
            "type": "barpolar"
           }
          ],
          "carpet": [
           {
            "aaxis": {
             "endlinecolor": "#2a3f5f",
             "gridcolor": "white",
             "linecolor": "white",
             "minorgridcolor": "white",
             "startlinecolor": "#2a3f5f"
            },
            "baxis": {
             "endlinecolor": "#2a3f5f",
             "gridcolor": "white",
             "linecolor": "white",
             "minorgridcolor": "white",
             "startlinecolor": "#2a3f5f"
            },
            "type": "carpet"
           }
          ],
          "choropleth": [
           {
            "colorbar": {
             "outlinewidth": 0,
             "ticks": ""
            },
            "type": "choropleth"
           }
          ],
          "contour": [
           {
            "colorbar": {
             "outlinewidth": 0,
             "ticks": ""
            },
            "colorscale": [
             [
              0,
              "#0d0887"
             ],
             [
              0.1111111111111111,
              "#46039f"
             ],
             [
              0.2222222222222222,
              "#7201a8"
             ],
             [
              0.3333333333333333,
              "#9c179e"
             ],
             [
              0.4444444444444444,
              "#bd3786"
             ],
             [
              0.5555555555555556,
              "#d8576b"
             ],
             [
              0.6666666666666666,
              "#ed7953"
             ],
             [
              0.7777777777777778,
              "#fb9f3a"
             ],
             [
              0.8888888888888888,
              "#fdca26"
             ],
             [
              1,
              "#f0f921"
             ]
            ],
            "type": "contour"
           }
          ],
          "contourcarpet": [
           {
            "colorbar": {
             "outlinewidth": 0,
             "ticks": ""
            },
            "type": "contourcarpet"
           }
          ],
          "heatmap": [
           {
            "colorbar": {
             "outlinewidth": 0,
             "ticks": ""
            },
            "colorscale": [
             [
              0,
              "#0d0887"
             ],
             [
              0.1111111111111111,
              "#46039f"
             ],
             [
              0.2222222222222222,
              "#7201a8"
             ],
             [
              0.3333333333333333,
              "#9c179e"
             ],
             [
              0.4444444444444444,
              "#bd3786"
             ],
             [
              0.5555555555555556,
              "#d8576b"
             ],
             [
              0.6666666666666666,
              "#ed7953"
             ],
             [
              0.7777777777777778,
              "#fb9f3a"
             ],
             [
              0.8888888888888888,
              "#fdca26"
             ],
             [
              1,
              "#f0f921"
             ]
            ],
            "type": "heatmap"
           }
          ],
          "histogram": [
           {
            "marker": {
             "pattern": {
              "fillmode": "overlay",
              "size": 10,
              "solidity": 0.2
             }
            },
            "type": "histogram"
           }
          ],
          "histogram2d": [
           {
            "colorbar": {
             "outlinewidth": 0,
             "ticks": ""
            },
            "colorscale": [
             [
              0,
              "#0d0887"
             ],
             [
              0.1111111111111111,
              "#46039f"
             ],
             [
              0.2222222222222222,
              "#7201a8"
             ],
             [
              0.3333333333333333,
              "#9c179e"
             ],
             [
              0.4444444444444444,
              "#bd3786"
             ],
             [
              0.5555555555555556,
              "#d8576b"
             ],
             [
              0.6666666666666666,
              "#ed7953"
             ],
             [
              0.7777777777777778,
              "#fb9f3a"
             ],
             [
              0.8888888888888888,
              "#fdca26"
             ],
             [
              1,
              "#f0f921"
             ]
            ],
            "type": "histogram2d"
           }
          ],
          "histogram2dcontour": [
           {
            "colorbar": {
             "outlinewidth": 0,
             "ticks": ""
            },
            "colorscale": [
             [
              0,
              "#0d0887"
             ],
             [
              0.1111111111111111,
              "#46039f"
             ],
             [
              0.2222222222222222,
              "#7201a8"
             ],
             [
              0.3333333333333333,
              "#9c179e"
             ],
             [
              0.4444444444444444,
              "#bd3786"
             ],
             [
              0.5555555555555556,
              "#d8576b"
             ],
             [
              0.6666666666666666,
              "#ed7953"
             ],
             [
              0.7777777777777778,
              "#fb9f3a"
             ],
             [
              0.8888888888888888,
              "#fdca26"
             ],
             [
              1,
              "#f0f921"
             ]
            ],
            "type": "histogram2dcontour"
           }
          ],
          "mesh3d": [
           {
            "colorbar": {
             "outlinewidth": 0,
             "ticks": ""
            },
            "type": "mesh3d"
           }
          ],
          "parcoords": [
           {
            "line": {
             "colorbar": {
              "outlinewidth": 0,
              "ticks": ""
             }
            },
            "type": "parcoords"
           }
          ],
          "pie": [
           {
            "automargin": true,
            "type": "pie"
           }
          ],
          "scatter": [
           {
            "fillpattern": {
             "fillmode": "overlay",
             "size": 10,
             "solidity": 0.2
            },
            "type": "scatter"
           }
          ],
          "scatter3d": [
           {
            "line": {
             "colorbar": {
              "outlinewidth": 0,
              "ticks": ""
             }
            },
            "marker": {
             "colorbar": {
              "outlinewidth": 0,
              "ticks": ""
             }
            },
            "type": "scatter3d"
           }
          ],
          "scattercarpet": [
           {
            "marker": {
             "colorbar": {
              "outlinewidth": 0,
              "ticks": ""
             }
            },
            "type": "scattercarpet"
           }
          ],
          "scattergeo": [
           {
            "marker": {
             "colorbar": {
              "outlinewidth": 0,
              "ticks": ""
             }
            },
            "type": "scattergeo"
           }
          ],
          "scattergl": [
           {
            "marker": {
             "colorbar": {
              "outlinewidth": 0,
              "ticks": ""
             }
            },
            "type": "scattergl"
           }
          ],
          "scattermap": [
           {
            "marker": {
             "colorbar": {
              "outlinewidth": 0,
              "ticks": ""
             }
            },
            "type": "scattermap"
           }
          ],
          "scattermapbox": [
           {
            "marker": {
             "colorbar": {
              "outlinewidth": 0,
              "ticks": ""
             }
            },
            "type": "scattermapbox"
           }
          ],
          "scatterpolar": [
           {
            "marker": {
             "colorbar": {
              "outlinewidth": 0,
              "ticks": ""
             }
            },
            "type": "scatterpolar"
           }
          ],
          "scatterpolargl": [
           {
            "marker": {
             "colorbar": {
              "outlinewidth": 0,
              "ticks": ""
             }
            },
            "type": "scatterpolargl"
           }
          ],
          "scatterternary": [
           {
            "marker": {
             "colorbar": {
              "outlinewidth": 0,
              "ticks": ""
             }
            },
            "type": "scatterternary"
           }
          ],
          "surface": [
           {
            "colorbar": {
             "outlinewidth": 0,
             "ticks": ""
            },
            "colorscale": [
             [
              0,
              "#0d0887"
             ],
             [
              0.1111111111111111,
              "#46039f"
             ],
             [
              0.2222222222222222,
              "#7201a8"
             ],
             [
              0.3333333333333333,
              "#9c179e"
             ],
             [
              0.4444444444444444,
              "#bd3786"
             ],
             [
              0.5555555555555556,
              "#d8576b"
             ],
             [
              0.6666666666666666,
              "#ed7953"
             ],
             [
              0.7777777777777778,
              "#fb9f3a"
             ],
             [
              0.8888888888888888,
              "#fdca26"
             ],
             [
              1,
              "#f0f921"
             ]
            ],
            "type": "surface"
           }
          ],
          "table": [
           {
            "cells": {
             "fill": {
              "color": "#EBF0F8"
             },
             "line": {
              "color": "white"
             }
            },
            "header": {
             "fill": {
              "color": "#C8D4E3"
             },
             "line": {
              "color": "white"
             }
            },
            "type": "table"
           }
          ]
         },
         "layout": {
          "annotationdefaults": {
           "arrowcolor": "#2a3f5f",
           "arrowhead": 0,
           "arrowwidth": 1
          },
          "autotypenumbers": "strict",
          "coloraxis": {
           "colorbar": {
            "outlinewidth": 0,
            "ticks": ""
           }
          },
          "colorscale": {
           "diverging": [
            [
             0,
             "#8e0152"
            ],
            [
             0.1,
             "#c51b7d"
            ],
            [
             0.2,
             "#de77ae"
            ],
            [
             0.3,
             "#f1b6da"
            ],
            [
             0.4,
             "#fde0ef"
            ],
            [
             0.5,
             "#f7f7f7"
            ],
            [
             0.6,
             "#e6f5d0"
            ],
            [
             0.7,
             "#b8e186"
            ],
            [
             0.8,
             "#7fbc41"
            ],
            [
             0.9,
             "#4d9221"
            ],
            [
             1,
             "#276419"
            ]
           ],
           "sequential": [
            [
             0,
             "#0d0887"
            ],
            [
             0.1111111111111111,
             "#46039f"
            ],
            [
             0.2222222222222222,
             "#7201a8"
            ],
            [
             0.3333333333333333,
             "#9c179e"
            ],
            [
             0.4444444444444444,
             "#bd3786"
            ],
            [
             0.5555555555555556,
             "#d8576b"
            ],
            [
             0.6666666666666666,
             "#ed7953"
            ],
            [
             0.7777777777777778,
             "#fb9f3a"
            ],
            [
             0.8888888888888888,
             "#fdca26"
            ],
            [
             1,
             "#f0f921"
            ]
           ],
           "sequentialminus": [
            [
             0,
             "#0d0887"
            ],
            [
             0.1111111111111111,
             "#46039f"
            ],
            [
             0.2222222222222222,
             "#7201a8"
            ],
            [
             0.3333333333333333,
             "#9c179e"
            ],
            [
             0.4444444444444444,
             "#bd3786"
            ],
            [
             0.5555555555555556,
             "#d8576b"
            ],
            [
             0.6666666666666666,
             "#ed7953"
            ],
            [
             0.7777777777777778,
             "#fb9f3a"
            ],
            [
             0.8888888888888888,
             "#fdca26"
            ],
            [
             1,
             "#f0f921"
            ]
           ]
          },
          "colorway": [
           "#636efa",
           "#EF553B",
           "#00cc96",
           "#ab63fa",
           "#FFA15A",
           "#19d3f3",
           "#FF6692",
           "#B6E880",
           "#FF97FF",
           "#FECB52"
          ],
          "font": {
           "color": "#2a3f5f"
          },
          "geo": {
           "bgcolor": "white",
           "lakecolor": "white",
           "landcolor": "#E5ECF6",
           "showlakes": true,
           "showland": true,
           "subunitcolor": "white"
          },
          "hoverlabel": {
           "align": "left"
          },
          "hovermode": "closest",
          "mapbox": {
           "style": "light"
          },
          "paper_bgcolor": "white",
          "plot_bgcolor": "#E5ECF6",
          "polar": {
           "angularaxis": {
            "gridcolor": "white",
            "linecolor": "white",
            "ticks": ""
           },
           "bgcolor": "#E5ECF6",
           "radialaxis": {
            "gridcolor": "white",
            "linecolor": "white",
            "ticks": ""
           }
          },
          "scene": {
           "xaxis": {
            "backgroundcolor": "#E5ECF6",
            "gridcolor": "white",
            "gridwidth": 2,
            "linecolor": "white",
            "showbackground": true,
            "ticks": "",
            "zerolinecolor": "white"
           },
           "yaxis": {
            "backgroundcolor": "#E5ECF6",
            "gridcolor": "white",
            "gridwidth": 2,
            "linecolor": "white",
            "showbackground": true,
            "ticks": "",
            "zerolinecolor": "white"
           },
           "zaxis": {
            "backgroundcolor": "#E5ECF6",
            "gridcolor": "white",
            "gridwidth": 2,
            "linecolor": "white",
            "showbackground": true,
            "ticks": "",
            "zerolinecolor": "white"
           }
          },
          "shapedefaults": {
           "line": {
            "color": "#2a3f5f"
           }
          },
          "ternary": {
           "aaxis": {
            "gridcolor": "white",
            "linecolor": "white",
            "ticks": ""
           },
           "baxis": {
            "gridcolor": "white",
            "linecolor": "white",
            "ticks": ""
           },
           "bgcolor": "#E5ECF6",
           "caxis": {
            "gridcolor": "white",
            "linecolor": "white",
            "ticks": ""
           }
          },
          "title": {
           "x": 0.05
          },
          "xaxis": {
           "automargin": true,
           "gridcolor": "white",
           "linecolor": "white",
           "ticks": "",
           "title": {
            "standoff": 15
           },
           "zerolinecolor": "white",
           "zerolinewidth": 2
          },
          "yaxis": {
           "automargin": true,
           "gridcolor": "white",
           "linecolor": "white",
           "ticks": "",
           "title": {
            "standoff": 15
           },
           "zerolinecolor": "white",
           "zerolinewidth": 2
          }
         }
        },
        "title": {
         "text": "Number of NBA teams, by player"
        },
        "xaxis": {
         "title": {
          "text": "Player"
         }
        },
        "yaxis": {
         "title": {
          "text": "Number of NBA teams"
         }
        }
       }
      }
     },
     "metadata": {},
     "output_type": "display_data"
    }
   ],
   "source": [
    "# Bar chart of the number of NBA teams played by player\n",
    "number_of_teams=[]\n",
    "for data in dataframes.values():\n",
    "    number_of_teams.append(data['TEAM_ID'].value_counts().shape[0])   \n",
    "\n",
    "bar_trace = go.Bar(x=roster, y=number_of_teams)\n",
    "fig=go.Figure(data=[bar_trace]).update_layout(title='Number of NBA teams, by player', \n",
    "                                              xaxis_title='Player', \n",
    "                                              yaxis_title='Number of NBA teams').update_traces(marker_color='blue')\n",
    "fig.show()"
   ]
  },
  {
   "cell_type": "code",
   "execution_count": 68,
   "id": "d5f5845d",
   "metadata": {},
   "outputs": [
    {
     "name": "stdout",
     "output_type": "stream",
     "text": [
      "<class 'pandas.core.frame.DataFrame'>\n",
      "RangeIndex: 193 entries, 0 to 192\n",
      "Data columns (total 28 columns):\n",
      " #   Column             Non-Null Count  Dtype  \n",
      "---  ------             --------------  -----  \n",
      " 0   PLAYER_ID          193 non-null    int64  \n",
      " 1   SEASON_ID          193 non-null    object \n",
      " 2   LEAGUE_ID          193 non-null    object \n",
      " 3   TEAM_ID            193 non-null    int64  \n",
      " 4   TEAM_ABBREVIATION  193 non-null    object \n",
      " 5   PLAYER_AGE         193 non-null    float64\n",
      " 6   GP                 193 non-null    int64  \n",
      " 7   GS                 193 non-null    int64  \n",
      " 8   MIN                193 non-null    int64  \n",
      " 9   FGM                193 non-null    int64  \n",
      " 10  FGA                193 non-null    int64  \n",
      " 11  FG_PCT             193 non-null    float64\n",
      " 12  FG3M               193 non-null    int64  \n",
      " 13  FG3A               193 non-null    int64  \n",
      " 14  FG3_PCT            193 non-null    float64\n",
      " 15  FTM                193 non-null    int64  \n",
      " 16  FTA                193 non-null    int64  \n",
      " 17  FT_PCT             193 non-null    float64\n",
      " 18  OREB               193 non-null    int64  \n",
      " 19  DREB               193 non-null    int64  \n",
      " 20  REB                193 non-null    int64  \n",
      " 21  AST                193 non-null    int64  \n",
      " 22  STL                193 non-null    int64  \n",
      " 23  BLK                193 non-null    int64  \n",
      " 24  TOV                193 non-null    int64  \n",
      " 25  PF                 193 non-null    int64  \n",
      " 26  PTS                193 non-null    int64  \n",
      " 27  Name               193 non-null    object \n",
      "dtypes: float64(4), int64(20), object(4)\n",
      "memory usage: 42.3+ KB\n"
     ]
    },
    {
     "data": {
      "text/html": [
       "<div>\n",
       "<style scoped>\n",
       "    .dataframe tbody tr th:only-of-type {\n",
       "        vertical-align: middle;\n",
       "    }\n",
       "\n",
       "    .dataframe tbody tr th {\n",
       "        vertical-align: top;\n",
       "    }\n",
       "\n",
       "    .dataframe thead th {\n",
       "        text-align: right;\n",
       "    }\n",
       "</style>\n",
       "<table border=\"1\" class=\"dataframe\">\n",
       "  <thead>\n",
       "    <tr style=\"text-align: right;\">\n",
       "      <th></th>\n",
       "      <th>PLAYER_ID</th>\n",
       "      <th>SEASON_ID</th>\n",
       "      <th>LEAGUE_ID</th>\n",
       "      <th>TEAM_ID</th>\n",
       "      <th>TEAM_ABBREVIATION</th>\n",
       "      <th>PLAYER_AGE</th>\n",
       "      <th>GP</th>\n",
       "      <th>GS</th>\n",
       "      <th>MIN</th>\n",
       "      <th>FGM</th>\n",
       "      <th>...</th>\n",
       "      <th>OREB</th>\n",
       "      <th>DREB</th>\n",
       "      <th>REB</th>\n",
       "      <th>AST</th>\n",
       "      <th>STL</th>\n",
       "      <th>BLK</th>\n",
       "      <th>TOV</th>\n",
       "      <th>PF</th>\n",
       "      <th>PTS</th>\n",
       "      <th>Name</th>\n",
       "    </tr>\n",
       "  </thead>\n",
       "  <tbody>\n",
       "    <tr>\n",
       "      <th>0</th>\n",
       "      <td>787</td>\n",
       "      <td>1984-85</td>\n",
       "      <td>00</td>\n",
       "      <td>1610612755</td>\n",
       "      <td>PHL</td>\n",
       "      <td>22.0</td>\n",
       "      <td>82</td>\n",
       "      <td>60</td>\n",
       "      <td>2347</td>\n",
       "      <td>427</td>\n",
       "      <td>...</td>\n",
       "      <td>266</td>\n",
       "      <td>437</td>\n",
       "      <td>703</td>\n",
       "      <td>155</td>\n",
       "      <td>95</td>\n",
       "      <td>80</td>\n",
       "      <td>209</td>\n",
       "      <td>301</td>\n",
       "      <td>1148</td>\n",
       "      <td>Charles Barkley</td>\n",
       "    </tr>\n",
       "    <tr>\n",
       "      <th>1</th>\n",
       "      <td>787</td>\n",
       "      <td>1985-86</td>\n",
       "      <td>00</td>\n",
       "      <td>1610612755</td>\n",
       "      <td>PHL</td>\n",
       "      <td>23.0</td>\n",
       "      <td>80</td>\n",
       "      <td>80</td>\n",
       "      <td>2952</td>\n",
       "      <td>595</td>\n",
       "      <td>...</td>\n",
       "      <td>354</td>\n",
       "      <td>672</td>\n",
       "      <td>1026</td>\n",
       "      <td>312</td>\n",
       "      <td>173</td>\n",
       "      <td>125</td>\n",
       "      <td>350</td>\n",
       "      <td>333</td>\n",
       "      <td>1603</td>\n",
       "      <td>Charles Barkley</td>\n",
       "    </tr>\n",
       "    <tr>\n",
       "      <th>2</th>\n",
       "      <td>787</td>\n",
       "      <td>1986-87</td>\n",
       "      <td>00</td>\n",
       "      <td>1610612755</td>\n",
       "      <td>PHL</td>\n",
       "      <td>24.0</td>\n",
       "      <td>68</td>\n",
       "      <td>62</td>\n",
       "      <td>2740</td>\n",
       "      <td>557</td>\n",
       "      <td>...</td>\n",
       "      <td>390</td>\n",
       "      <td>604</td>\n",
       "      <td>994</td>\n",
       "      <td>331</td>\n",
       "      <td>119</td>\n",
       "      <td>104</td>\n",
       "      <td>322</td>\n",
       "      <td>252</td>\n",
       "      <td>1564</td>\n",
       "      <td>Charles Barkley</td>\n",
       "    </tr>\n",
       "    <tr>\n",
       "      <th>3</th>\n",
       "      <td>787</td>\n",
       "      <td>1987-88</td>\n",
       "      <td>00</td>\n",
       "      <td>1610612755</td>\n",
       "      <td>PHL</td>\n",
       "      <td>25.0</td>\n",
       "      <td>80</td>\n",
       "      <td>80</td>\n",
       "      <td>3170</td>\n",
       "      <td>753</td>\n",
       "      <td>...</td>\n",
       "      <td>385</td>\n",
       "      <td>566</td>\n",
       "      <td>951</td>\n",
       "      <td>254</td>\n",
       "      <td>100</td>\n",
       "      <td>103</td>\n",
       "      <td>304</td>\n",
       "      <td>278</td>\n",
       "      <td>2264</td>\n",
       "      <td>Charles Barkley</td>\n",
       "    </tr>\n",
       "    <tr>\n",
       "      <th>4</th>\n",
       "      <td>787</td>\n",
       "      <td>1988-89</td>\n",
       "      <td>00</td>\n",
       "      <td>1610612755</td>\n",
       "      <td>PHL</td>\n",
       "      <td>26.0</td>\n",
       "      <td>79</td>\n",
       "      <td>79</td>\n",
       "      <td>3088</td>\n",
       "      <td>700</td>\n",
       "      <td>...</td>\n",
       "      <td>403</td>\n",
       "      <td>583</td>\n",
       "      <td>986</td>\n",
       "      <td>325</td>\n",
       "      <td>126</td>\n",
       "      <td>67</td>\n",
       "      <td>254</td>\n",
       "      <td>262</td>\n",
       "      <td>2037</td>\n",
       "      <td>Charles Barkley</td>\n",
       "    </tr>\n",
       "  </tbody>\n",
       "</table>\n",
       "<p>5 rows × 28 columns</p>\n",
       "</div>"
      ],
      "text/plain": [
       "   PLAYER_ID SEASON_ID LEAGUE_ID     TEAM_ID TEAM_ABBREVIATION  PLAYER_AGE  \\\n",
       "0        787   1984-85        00  1610612755               PHL        22.0   \n",
       "1        787   1985-86        00  1610612755               PHL        23.0   \n",
       "2        787   1986-87        00  1610612755               PHL        24.0   \n",
       "3        787   1987-88        00  1610612755               PHL        25.0   \n",
       "4        787   1988-89        00  1610612755               PHL        26.0   \n",
       "\n",
       "   GP  GS   MIN  FGM  ...  OREB  DREB   REB  AST  STL  BLK  TOV   PF   PTS  \\\n",
       "0  82  60  2347  427  ...   266   437   703  155   95   80  209  301  1148   \n",
       "1  80  80  2952  595  ...   354   672  1026  312  173  125  350  333  1603   \n",
       "2  68  62  2740  557  ...   390   604   994  331  119  104  322  252  1564   \n",
       "3  80  80  3170  753  ...   385   566   951  254  100  103  304  278  2264   \n",
       "4  79  79  3088  700  ...   403   583   986  325  126   67  254  262  2037   \n",
       "\n",
       "              Name  \n",
       "0  Charles Barkley  \n",
       "1  Charles Barkley  \n",
       "2  Charles Barkley  \n",
       "3  Charles Barkley  \n",
       "4  Charles Barkley  \n",
       "\n",
       "[5 rows x 28 columns]"
      ]
     },
     "execution_count": 68,
     "metadata": {},
     "output_type": "execute_result"
    },
    {
     "data": {
      "text/html": [
       "<div>\n",
       "<style scoped>\n",
       "    .dataframe tbody tr th:only-of-type {\n",
       "        vertical-align: middle;\n",
       "    }\n",
       "\n",
       "    .dataframe tbody tr th {\n",
       "        vertical-align: top;\n",
       "    }\n",
       "\n",
       "    .dataframe thead th {\n",
       "        text-align: right;\n",
       "    }\n",
       "</style>\n",
       "<table border=\"1\" class=\"dataframe\">\n",
       "  <thead>\n",
       "    <tr style=\"text-align: right;\">\n",
       "      <th></th>\n",
       "      <th>PLAYER_ID</th>\n",
       "      <th>SEASON_ID</th>\n",
       "      <th>LEAGUE_ID</th>\n",
       "      <th>TEAM_ID</th>\n",
       "      <th>TEAM_ABBREVIATION</th>\n",
       "      <th>PLAYER_AGE</th>\n",
       "      <th>GP</th>\n",
       "      <th>GS</th>\n",
       "      <th>MIN</th>\n",
       "      <th>FGM</th>\n",
       "      <th>...</th>\n",
       "      <th>OREB</th>\n",
       "      <th>DREB</th>\n",
       "      <th>REB</th>\n",
       "      <th>AST</th>\n",
       "      <th>STL</th>\n",
       "      <th>BLK</th>\n",
       "      <th>TOV</th>\n",
       "      <th>PF</th>\n",
       "      <th>PTS</th>\n",
       "      <th>Name</th>\n",
       "    </tr>\n",
       "  </thead>\n",
       "  <tbody>\n",
       "    <tr>\n",
       "      <th>188</th>\n",
       "      <td>304</td>\n",
       "      <td>1998-99</td>\n",
       "      <td>00</td>\n",
       "      <td>1610612762</td>\n",
       "      <td>UTA</td>\n",
       "      <td>37.0</td>\n",
       "      <td>50</td>\n",
       "      <td>50</td>\n",
       "      <td>1410</td>\n",
       "      <td>200</td>\n",
       "      <td>...</td>\n",
       "      <td>31</td>\n",
       "      <td>115</td>\n",
       "      <td>146</td>\n",
       "      <td>374</td>\n",
       "      <td>81</td>\n",
       "      <td>13</td>\n",
       "      <td>110</td>\n",
       "      <td>107</td>\n",
       "      <td>553</td>\n",
       "      <td>John Stockton</td>\n",
       "    </tr>\n",
       "    <tr>\n",
       "      <th>189</th>\n",
       "      <td>304</td>\n",
       "      <td>1999-00</td>\n",
       "      <td>00</td>\n",
       "      <td>1610612762</td>\n",
       "      <td>UTA</td>\n",
       "      <td>38.0</td>\n",
       "      <td>82</td>\n",
       "      <td>82</td>\n",
       "      <td>2432</td>\n",
       "      <td>363</td>\n",
       "      <td>...</td>\n",
       "      <td>45</td>\n",
       "      <td>170</td>\n",
       "      <td>215</td>\n",
       "      <td>703</td>\n",
       "      <td>143</td>\n",
       "      <td>15</td>\n",
       "      <td>179</td>\n",
       "      <td>192</td>\n",
       "      <td>990</td>\n",
       "      <td>John Stockton</td>\n",
       "    </tr>\n",
       "    <tr>\n",
       "      <th>190</th>\n",
       "      <td>304</td>\n",
       "      <td>2000-01</td>\n",
       "      <td>00</td>\n",
       "      <td>1610612762</td>\n",
       "      <td>UTA</td>\n",
       "      <td>39.0</td>\n",
       "      <td>82</td>\n",
       "      <td>82</td>\n",
       "      <td>2397</td>\n",
       "      <td>328</td>\n",
       "      <td>...</td>\n",
       "      <td>54</td>\n",
       "      <td>173</td>\n",
       "      <td>227</td>\n",
       "      <td>713</td>\n",
       "      <td>132</td>\n",
       "      <td>21</td>\n",
       "      <td>203</td>\n",
       "      <td>194</td>\n",
       "      <td>944</td>\n",
       "      <td>John Stockton</td>\n",
       "    </tr>\n",
       "    <tr>\n",
       "      <th>191</th>\n",
       "      <td>304</td>\n",
       "      <td>2001-02</td>\n",
       "      <td>00</td>\n",
       "      <td>1610612762</td>\n",
       "      <td>UTA</td>\n",
       "      <td>40.0</td>\n",
       "      <td>82</td>\n",
       "      <td>82</td>\n",
       "      <td>2570</td>\n",
       "      <td>401</td>\n",
       "      <td>...</td>\n",
       "      <td>59</td>\n",
       "      <td>204</td>\n",
       "      <td>263</td>\n",
       "      <td>674</td>\n",
       "      <td>152</td>\n",
       "      <td>24</td>\n",
       "      <td>208</td>\n",
       "      <td>209</td>\n",
       "      <td>1102</td>\n",
       "      <td>John Stockton</td>\n",
       "    </tr>\n",
       "    <tr>\n",
       "      <th>192</th>\n",
       "      <td>304</td>\n",
       "      <td>2002-03</td>\n",
       "      <td>00</td>\n",
       "      <td>1610612762</td>\n",
       "      <td>UTA</td>\n",
       "      <td>41.0</td>\n",
       "      <td>82</td>\n",
       "      <td>82</td>\n",
       "      <td>2275</td>\n",
       "      <td>309</td>\n",
       "      <td>...</td>\n",
       "      <td>51</td>\n",
       "      <td>150</td>\n",
       "      <td>201</td>\n",
       "      <td>629</td>\n",
       "      <td>137</td>\n",
       "      <td>16</td>\n",
       "      <td>182</td>\n",
       "      <td>184</td>\n",
       "      <td>884</td>\n",
       "      <td>John Stockton</td>\n",
       "    </tr>\n",
       "  </tbody>\n",
       "</table>\n",
       "<p>5 rows × 28 columns</p>\n",
       "</div>"
      ],
      "text/plain": [
       "     PLAYER_ID SEASON_ID LEAGUE_ID     TEAM_ID TEAM_ABBREVIATION  PLAYER_AGE  \\\n",
       "188        304   1998-99        00  1610612762               UTA        37.0   \n",
       "189        304   1999-00        00  1610612762               UTA        38.0   \n",
       "190        304   2000-01        00  1610612762               UTA        39.0   \n",
       "191        304   2001-02        00  1610612762               UTA        40.0   \n",
       "192        304   2002-03        00  1610612762               UTA        41.0   \n",
       "\n",
       "     GP  GS   MIN  FGM  ...  OREB  DREB  REB  AST  STL  BLK  TOV   PF   PTS  \\\n",
       "188  50  50  1410  200  ...    31   115  146  374   81   13  110  107   553   \n",
       "189  82  82  2432  363  ...    45   170  215  703  143   15  179  192   990   \n",
       "190  82  82  2397  328  ...    54   173  227  713  132   21  203  194   944   \n",
       "191  82  82  2570  401  ...    59   204  263  674  152   24  208  209  1102   \n",
       "192  82  82  2275  309  ...    51   150  201  629  137   16  182  184   884   \n",
       "\n",
       "              Name  \n",
       "188  John Stockton  \n",
       "189  John Stockton  \n",
       "190  John Stockton  \n",
       "191  John Stockton  \n",
       "192  John Stockton  \n",
       "\n",
       "[5 rows x 28 columns]"
      ]
     },
     "execution_count": 68,
     "metadata": {},
     "output_type": "execute_result"
    }
   ],
   "source": [
    "#Map of team locations\n",
    "#Data wrangling\n",
    "#add player name to each player dataframe\n",
    "barkley['Name']='Charles Barkley'\n",
    "bird['Name']='Larry Bird'\n",
    "drexler['Name']='Clyde Drexler'\n",
    "ewing['Name']='Patrick Ewing'\n",
    "johnson['Name']='Magic Johnson'\n",
    "jordan['Name']='Michael Jordan'\n",
    "laettner['Name']='Christian Laettner'\n",
    "malone['Name']='Karl Malone'\n",
    "mullin['Name']='Chris Mullin'\n",
    "pippen['Name']='Scottie Pippen'\n",
    "robinson['Name']='David Robinson'\n",
    "stockton['Name']='John Stockton'\n",
    "#create single dataframe with information on all players\n",
    "df_all=pd.concat([barkley, bird, drexler, ewing ,\n",
    "                  johnson, jordan, laettner, malone,\n",
    "                  mullin, pippen, robinson, stockton], axis=0).reset_index(drop=True)\n",
    "df_all.info()\n",
    "df_all.head()\n",
    "df_all.tail()"
   ]
  },
  {
   "cell_type": "code",
   "execution_count": 69,
   "id": "dbc918d1",
   "metadata": {},
   "outputs": [],
   "source": [
    "#create variables for dataframe to prep for mapping teams and cities\n",
    "Name=[]\n",
    "Team_Abbreviation=[]\n",
    "Team_Name=[]\n",
    "City=[]\n",
    "State=[]\n",
    "for x in roster:\n",
    "    test_series=df_all['TEAM_ABBREVIATION'][df_all['Name']==x].value_counts()\n",
    "    test_list=list(test_series.index)\n",
    "    for y in test_list:\n",
    "        Team_Abbreviation.append(y)\n",
    "        Name.append(x)\n",
    "        a=teams.find_team_by_abbreviation(y)\n",
    "        if a is None:\n",
    "            Team_Name.append(np.nan)\n",
    "            City.append(np.nan)\n",
    "            State.append(np.nan)\n",
    "        else:\n",
    "            Team_Name.append(a['full_name'])\n",
    "            City.append(a['city'])\n",
    "            State.append(a['state'])   \n",
    "            "
   ]
  },
  {
   "cell_type": "code",
   "execution_count": 70,
   "id": "f90831c1",
   "metadata": {},
   "outputs": [
    {
     "data": {
      "text/html": [
       "<div>\n",
       "<style scoped>\n",
       "    .dataframe tbody tr th:only-of-type {\n",
       "        vertical-align: middle;\n",
       "    }\n",
       "\n",
       "    .dataframe tbody tr th {\n",
       "        vertical-align: top;\n",
       "    }\n",
       "\n",
       "    .dataframe thead th {\n",
       "        text-align: right;\n",
       "    }\n",
       "</style>\n",
       "<table border=\"1\" class=\"dataframe\">\n",
       "  <thead>\n",
       "    <tr style=\"text-align: right;\">\n",
       "      <th></th>\n",
       "      <th>Name</th>\n",
       "      <th>Team_Abbreviation</th>\n",
       "      <th>Team_Name</th>\n",
       "      <th>City</th>\n",
       "      <th>State</th>\n",
       "    </tr>\n",
       "  </thead>\n",
       "  <tbody>\n",
       "    <tr>\n",
       "      <th>0</th>\n",
       "      <td>Charles Barkley</td>\n",
       "      <td>PHL</td>\n",
       "      <td>NaN</td>\n",
       "      <td>NaN</td>\n",
       "      <td>NaN</td>\n",
       "    </tr>\n",
       "    <tr>\n",
       "      <th>1</th>\n",
       "      <td>Charles Barkley</td>\n",
       "      <td>PHX</td>\n",
       "      <td>Phoenix Suns</td>\n",
       "      <td>Phoenix</td>\n",
       "      <td>Arizona</td>\n",
       "    </tr>\n",
       "    <tr>\n",
       "      <th>2</th>\n",
       "      <td>Charles Barkley</td>\n",
       "      <td>HOU</td>\n",
       "      <td>Houston Rockets</td>\n",
       "      <td>Houston</td>\n",
       "      <td>Texas</td>\n",
       "    </tr>\n",
       "    <tr>\n",
       "      <th>3</th>\n",
       "      <td>Larry Bird</td>\n",
       "      <td>BOS</td>\n",
       "      <td>Boston Celtics</td>\n",
       "      <td>Boston</td>\n",
       "      <td>Massachusetts</td>\n",
       "    </tr>\n",
       "    <tr>\n",
       "      <th>4</th>\n",
       "      <td>Clyde Drexler</td>\n",
       "      <td>POR</td>\n",
       "      <td>Portland Trail Blazers</td>\n",
       "      <td>Portland</td>\n",
       "      <td>Oregon</td>\n",
       "    </tr>\n",
       "  </tbody>\n",
       "</table>\n",
       "</div>"
      ],
      "text/plain": [
       "              Name Team_Abbreviation               Team_Name      City  \\\n",
       "0  Charles Barkley               PHL                     NaN       NaN   \n",
       "1  Charles Barkley               PHX            Phoenix Suns   Phoenix   \n",
       "2  Charles Barkley               HOU         Houston Rockets   Houston   \n",
       "3       Larry Bird               BOS          Boston Celtics    Boston   \n",
       "4    Clyde Drexler               POR  Portland Trail Blazers  Portland   \n",
       "\n",
       "           State  \n",
       "0            NaN  \n",
       "1        Arizona  \n",
       "2          Texas  \n",
       "3  Massachusetts  \n",
       "4         Oregon  "
      ]
     },
     "execution_count": 70,
     "metadata": {},
     "output_type": "execute_result"
    },
    {
     "name": "stdout",
     "output_type": "stream",
     "text": [
      "                  Name Team_Abbreviation Team_Name City State\n",
      "0      Charles Barkley               PHL       NaN  NaN   NaN\n",
      "6        Clyde Drexler               TOT       NaN  NaN   NaN\n",
      "8        Patrick Ewing               SEA       NaN  NaN   NaN\n",
      "16  Christian Laettner               TOT       NaN  NaN   NaN\n",
      "20         Karl Malone               UTH       NaN  NaN   NaN\n",
      "23        Chris Mullin               GOS       NaN  NaN   NaN\n",
      "29      David Robinson               SAN       NaN  NaN   NaN\n",
      "31       John Stockton               UTH       NaN  NaN   NaN\n"
     ]
    }
   ],
   "source": [
    "#create datafraame from lists\n",
    "mapdata=pd.DataFrame({'Name': Name,\n",
    "                      'Team_Abbreviation':Team_Abbreviation,\n",
    "                      'Team_Name': Team_Name,\n",
    "                      'City': City,\n",
    "                      'State':State})\n",
    "mapdata.head()\n",
    "#look for rows with missing data\n",
    "rows_with_nan = mapdata[mapdata.isna().any(axis=1)]\n",
    "print(rows_with_nan)"
   ]
  },
  {
   "cell_type": "code",
   "execution_count": 71,
   "id": "b4c99709",
   "metadata": {},
   "outputs": [],
   "source": [
    "#fill in missing data and incorrect data\n",
    "condition=mapdata['Team_Abbreviation'] == 'PHL'\n",
    "columns_to_modify=['Team_Name', 'City', 'State']\n",
    "mapdata.loc[condition, columns_to_modify] = ['Philadelphia 76ers', 'Philadelphia', 'Pennsylvania'] \n",
    "\n",
    "condition=(mapdata['Team_Abbreviation'] == 'TOT') & (mapdata['Name'] == 'Clyde Drexler')\n",
    "columns_to_modify=['Team_Name', 'City', 'State']\n",
    "mapdata.loc[condition, columns_to_modify] = ['Houston Rockets', 'Houston', 'Texas'] \n",
    "\n",
    "condition=mapdata['Team_Abbreviation'] == 'SEA'\n",
    "columns_to_modify=['Team_Name', 'City', 'State']\n",
    "mapdata.loc[condition, columns_to_modify] = ['Seattle SuperSonics', 'Seattle', 'Washington'] \n",
    "\n",
    "condition=mapdata['Team_Abbreviation'] == 'SEA'\n",
    "columns_to_modify=['Team_Name', 'City', 'State']\n",
    "mapdata.loc[condition, columns_to_modify] = ['Seattle SuperSonics', 'Seattle', 'Washington'] \n",
    "\n",
    "condition=(mapdata['Team_Abbreviation'] == 'TOT') & (mapdata['Name'] == 'Christian Laettner')\n",
    "columns_to_modify=['Team_Name', 'City', 'State']\n",
    "mapdata.loc[condition, columns_to_modify] = ['Dallas Mavericks', 'Dallas', 'Texas'] \n",
    "\n",
    "condition=mapdata['Team_Abbreviation'] == 'MIN'\n",
    "columns_to_modify=['Team_Name', 'City', 'State']\n",
    "mapdata.loc[condition, columns_to_modify] = ['Minnesota Timberwolves', 'Minneapolis', 'Minnesota'] \n",
    "\n",
    "condition=mapdata['Team_Abbreviation'] == 'UTH' \n",
    "columns_to_modify=['Team_Name', 'City', 'State']\n",
    "mapdata.loc[condition, columns_to_modify] = ['Utah Jazz', 'Salt Lake City', 'Utah'] \n",
    "\n",
    "condition=mapdata['Team_Abbreviation'] == 'UTA' \n",
    "columns_to_modify=['Team_Name', 'City', 'State']\n",
    "mapdata.loc[condition, columns_to_modify] = ['Utah Jazz', 'Salt Lake City', 'Utah'] \n",
    "\n",
    "condition=mapdata['Team_Abbreviation'] == 'GOS' \n",
    "columns_to_modify=['Team_Name', 'City', 'State']\n",
    "mapdata.loc[condition, columns_to_modify] = ['Golden State Warriors', 'San Francisco', 'California'] \n",
    "\n",
    "condition=mapdata['Team_Abbreviation'] == 'IND' \n",
    "columns_to_modify=['Team_Name', 'City', 'State']\n",
    "mapdata.loc[condition, columns_to_modify] = ['Indiana Pacers', 'Indianapolis', 'Indiana'] \n",
    "\n",
    "condition=mapdata['Team_Abbreviation'] == 'GSW' \n",
    "columns_to_modify=['Team_Name', 'City', 'State']\n",
    "mapdata.loc[condition, columns_to_modify] = ['Golden State Warriors', 'San Francisco', 'California'] \n",
    "\n",
    "condition=mapdata['Team_Abbreviation'] == 'SAN' \n",
    "columns_to_modify=['Team_Name', 'City', 'State']\n",
    "mapdata.loc[condition, columns_to_modify] = ['San Antonio Spurs', 'San Antonio', 'Texas'] "
   ]
  },
  {
   "cell_type": "code",
   "execution_count": 72,
   "id": "ed014ee9",
   "metadata": {},
   "outputs": [
    {
     "data": {
      "text/html": [
       "<div>\n",
       "<style scoped>\n",
       "    .dataframe tbody tr th:only-of-type {\n",
       "        vertical-align: middle;\n",
       "    }\n",
       "\n",
       "    .dataframe tbody tr th {\n",
       "        vertical-align: top;\n",
       "    }\n",
       "\n",
       "    .dataframe thead th {\n",
       "        text-align: right;\n",
       "    }\n",
       "</style>\n",
       "<table border=\"1\" class=\"dataframe\">\n",
       "  <thead>\n",
       "    <tr style=\"text-align: right;\">\n",
       "      <th></th>\n",
       "      <th>Name</th>\n",
       "      <th>Team_Abbreviation</th>\n",
       "      <th>Team_Name</th>\n",
       "      <th>City</th>\n",
       "      <th>State</th>\n",
       "    </tr>\n",
       "  </thead>\n",
       "  <tbody>\n",
       "    <tr>\n",
       "      <th>0</th>\n",
       "      <td>Charles Barkley</td>\n",
       "      <td>PHL</td>\n",
       "      <td>Philadelphia 76ers</td>\n",
       "      <td>Philadelphia</td>\n",
       "      <td>Pennsylvania</td>\n",
       "    </tr>\n",
       "    <tr>\n",
       "      <th>1</th>\n",
       "      <td>Charles Barkley</td>\n",
       "      <td>PHX</td>\n",
       "      <td>Phoenix Suns</td>\n",
       "      <td>Phoenix</td>\n",
       "      <td>Arizona</td>\n",
       "    </tr>\n",
       "    <tr>\n",
       "      <th>2</th>\n",
       "      <td>Charles Barkley</td>\n",
       "      <td>HOU</td>\n",
       "      <td>Houston Rockets</td>\n",
       "      <td>Houston</td>\n",
       "      <td>Texas</td>\n",
       "    </tr>\n",
       "    <tr>\n",
       "      <th>3</th>\n",
       "      <td>Larry Bird</td>\n",
       "      <td>BOS</td>\n",
       "      <td>Boston Celtics</td>\n",
       "      <td>Boston</td>\n",
       "      <td>Massachusetts</td>\n",
       "    </tr>\n",
       "    <tr>\n",
       "      <th>4</th>\n",
       "      <td>Clyde Drexler</td>\n",
       "      <td>POR</td>\n",
       "      <td>Portland Trail Blazers</td>\n",
       "      <td>Portland</td>\n",
       "      <td>Oregon</td>\n",
       "    </tr>\n",
       "    <tr>\n",
       "      <th>5</th>\n",
       "      <td>Clyde Drexler</td>\n",
       "      <td>HOU</td>\n",
       "      <td>Houston Rockets</td>\n",
       "      <td>Houston</td>\n",
       "      <td>Texas</td>\n",
       "    </tr>\n",
       "    <tr>\n",
       "      <th>6</th>\n",
       "      <td>Clyde Drexler</td>\n",
       "      <td>TOT</td>\n",
       "      <td>Houston Rockets</td>\n",
       "      <td>Houston</td>\n",
       "      <td>Texas</td>\n",
       "    </tr>\n",
       "    <tr>\n",
       "      <th>7</th>\n",
       "      <td>Patrick Ewing</td>\n",
       "      <td>NYK</td>\n",
       "      <td>New York Knicks</td>\n",
       "      <td>New York</td>\n",
       "      <td>New York</td>\n",
       "    </tr>\n",
       "    <tr>\n",
       "      <th>8</th>\n",
       "      <td>Patrick Ewing</td>\n",
       "      <td>SEA</td>\n",
       "      <td>Seattle SuperSonics</td>\n",
       "      <td>Seattle</td>\n",
       "      <td>Washington</td>\n",
       "    </tr>\n",
       "    <tr>\n",
       "      <th>9</th>\n",
       "      <td>Patrick Ewing</td>\n",
       "      <td>ORL</td>\n",
       "      <td>Orlando Magic</td>\n",
       "      <td>Orlando</td>\n",
       "      <td>Florida</td>\n",
       "    </tr>\n",
       "    <tr>\n",
       "      <th>10</th>\n",
       "      <td>Magic Johnson</td>\n",
       "      <td>LAL</td>\n",
       "      <td>Los Angeles Lakers</td>\n",
       "      <td>Los Angeles</td>\n",
       "      <td>California</td>\n",
       "    </tr>\n",
       "    <tr>\n",
       "      <th>11</th>\n",
       "      <td>Michael Jordan</td>\n",
       "      <td>CHI</td>\n",
       "      <td>Chicago Bulls</td>\n",
       "      <td>Chicago</td>\n",
       "      <td>Illinois</td>\n",
       "    </tr>\n",
       "    <tr>\n",
       "      <th>12</th>\n",
       "      <td>Michael Jordan</td>\n",
       "      <td>WAS</td>\n",
       "      <td>Washington Wizards</td>\n",
       "      <td>Washington</td>\n",
       "      <td>District of Columbia</td>\n",
       "    </tr>\n",
       "    <tr>\n",
       "      <th>13</th>\n",
       "      <td>Christian Laettner</td>\n",
       "      <td>MIN</td>\n",
       "      <td>Minnesota Timberwolves</td>\n",
       "      <td>Minneapolis</td>\n",
       "      <td>Minnesota</td>\n",
       "    </tr>\n",
       "    <tr>\n",
       "      <th>14</th>\n",
       "      <td>Christian Laettner</td>\n",
       "      <td>WAS</td>\n",
       "      <td>Washington Wizards</td>\n",
       "      <td>Washington</td>\n",
       "      <td>District of Columbia</td>\n",
       "    </tr>\n",
       "    <tr>\n",
       "      <th>15</th>\n",
       "      <td>Christian Laettner</td>\n",
       "      <td>ATL</td>\n",
       "      <td>Atlanta Hawks</td>\n",
       "      <td>Atlanta</td>\n",
       "      <td>Georgia</td>\n",
       "    </tr>\n",
       "    <tr>\n",
       "      <th>16</th>\n",
       "      <td>Christian Laettner</td>\n",
       "      <td>TOT</td>\n",
       "      <td>Dallas Mavericks</td>\n",
       "      <td>Dallas</td>\n",
       "      <td>Texas</td>\n",
       "    </tr>\n",
       "    <tr>\n",
       "      <th>17</th>\n",
       "      <td>Christian Laettner</td>\n",
       "      <td>DET</td>\n",
       "      <td>Detroit Pistons</td>\n",
       "      <td>Detroit</td>\n",
       "      <td>Michigan</td>\n",
       "    </tr>\n",
       "    <tr>\n",
       "      <th>18</th>\n",
       "      <td>Christian Laettner</td>\n",
       "      <td>DAL</td>\n",
       "      <td>Dallas Mavericks</td>\n",
       "      <td>Dallas</td>\n",
       "      <td>Texas</td>\n",
       "    </tr>\n",
       "    <tr>\n",
       "      <th>19</th>\n",
       "      <td>Christian Laettner</td>\n",
       "      <td>MIA</td>\n",
       "      <td>Miami Heat</td>\n",
       "      <td>Miami</td>\n",
       "      <td>Florida</td>\n",
       "    </tr>\n",
       "    <tr>\n",
       "      <th>20</th>\n",
       "      <td>Karl Malone</td>\n",
       "      <td>UTH</td>\n",
       "      <td>Utah Jazz</td>\n",
       "      <td>Salt Lake City</td>\n",
       "      <td>Utah</td>\n",
       "    </tr>\n",
       "    <tr>\n",
       "      <th>21</th>\n",
       "      <td>Karl Malone</td>\n",
       "      <td>UTA</td>\n",
       "      <td>Utah Jazz</td>\n",
       "      <td>Salt Lake City</td>\n",
       "      <td>Utah</td>\n",
       "    </tr>\n",
       "    <tr>\n",
       "      <th>22</th>\n",
       "      <td>Karl Malone</td>\n",
       "      <td>LAL</td>\n",
       "      <td>Los Angeles Lakers</td>\n",
       "      <td>Los Angeles</td>\n",
       "      <td>California</td>\n",
       "    </tr>\n",
       "    <tr>\n",
       "      <th>23</th>\n",
       "      <td>Chris Mullin</td>\n",
       "      <td>GOS</td>\n",
       "      <td>Golden State Warriors</td>\n",
       "      <td>San Francisco</td>\n",
       "      <td>California</td>\n",
       "    </tr>\n",
       "    <tr>\n",
       "      <th>24</th>\n",
       "      <td>Chris Mullin</td>\n",
       "      <td>IND</td>\n",
       "      <td>Indiana Pacers</td>\n",
       "      <td>Indianapolis</td>\n",
       "      <td>Indiana</td>\n",
       "    </tr>\n",
       "    <tr>\n",
       "      <th>25</th>\n",
       "      <td>Chris Mullin</td>\n",
       "      <td>GSW</td>\n",
       "      <td>Golden State Warriors</td>\n",
       "      <td>San Francisco</td>\n",
       "      <td>California</td>\n",
       "    </tr>\n",
       "    <tr>\n",
       "      <th>26</th>\n",
       "      <td>Scottie Pippen</td>\n",
       "      <td>CHI</td>\n",
       "      <td>Chicago Bulls</td>\n",
       "      <td>Chicago</td>\n",
       "      <td>Illinois</td>\n",
       "    </tr>\n",
       "    <tr>\n",
       "      <th>27</th>\n",
       "      <td>Scottie Pippen</td>\n",
       "      <td>POR</td>\n",
       "      <td>Portland Trail Blazers</td>\n",
       "      <td>Portland</td>\n",
       "      <td>Oregon</td>\n",
       "    </tr>\n",
       "    <tr>\n",
       "      <th>28</th>\n",
       "      <td>Scottie Pippen</td>\n",
       "      <td>HOU</td>\n",
       "      <td>Houston Rockets</td>\n",
       "      <td>Houston</td>\n",
       "      <td>Texas</td>\n",
       "    </tr>\n",
       "    <tr>\n",
       "      <th>29</th>\n",
       "      <td>David Robinson</td>\n",
       "      <td>SAN</td>\n",
       "      <td>San Antonio Spurs</td>\n",
       "      <td>San Antonio</td>\n",
       "      <td>Texas</td>\n",
       "    </tr>\n",
       "    <tr>\n",
       "      <th>30</th>\n",
       "      <td>David Robinson</td>\n",
       "      <td>SAS</td>\n",
       "      <td>San Antonio Spurs</td>\n",
       "      <td>San Antonio</td>\n",
       "      <td>Texas</td>\n",
       "    </tr>\n",
       "    <tr>\n",
       "      <th>31</th>\n",
       "      <td>John Stockton</td>\n",
       "      <td>UTH</td>\n",
       "      <td>Utah Jazz</td>\n",
       "      <td>Salt Lake City</td>\n",
       "      <td>Utah</td>\n",
       "    </tr>\n",
       "    <tr>\n",
       "      <th>32</th>\n",
       "      <td>John Stockton</td>\n",
       "      <td>UTA</td>\n",
       "      <td>Utah Jazz</td>\n",
       "      <td>Salt Lake City</td>\n",
       "      <td>Utah</td>\n",
       "    </tr>\n",
       "  </tbody>\n",
       "</table>\n",
       "</div>"
      ],
      "text/plain": [
       "                  Name Team_Abbreviation               Team_Name  \\\n",
       "0      Charles Barkley               PHL      Philadelphia 76ers   \n",
       "1      Charles Barkley               PHX            Phoenix Suns   \n",
       "2      Charles Barkley               HOU         Houston Rockets   \n",
       "3           Larry Bird               BOS          Boston Celtics   \n",
       "4        Clyde Drexler               POR  Portland Trail Blazers   \n",
       "5        Clyde Drexler               HOU         Houston Rockets   \n",
       "6        Clyde Drexler               TOT         Houston Rockets   \n",
       "7        Patrick Ewing               NYK         New York Knicks   \n",
       "8        Patrick Ewing               SEA     Seattle SuperSonics   \n",
       "9        Patrick Ewing               ORL           Orlando Magic   \n",
       "10       Magic Johnson               LAL      Los Angeles Lakers   \n",
       "11      Michael Jordan               CHI           Chicago Bulls   \n",
       "12      Michael Jordan               WAS      Washington Wizards   \n",
       "13  Christian Laettner               MIN  Minnesota Timberwolves   \n",
       "14  Christian Laettner               WAS      Washington Wizards   \n",
       "15  Christian Laettner               ATL           Atlanta Hawks   \n",
       "16  Christian Laettner               TOT        Dallas Mavericks   \n",
       "17  Christian Laettner               DET         Detroit Pistons   \n",
       "18  Christian Laettner               DAL        Dallas Mavericks   \n",
       "19  Christian Laettner               MIA              Miami Heat   \n",
       "20         Karl Malone               UTH               Utah Jazz   \n",
       "21         Karl Malone               UTA               Utah Jazz   \n",
       "22         Karl Malone               LAL      Los Angeles Lakers   \n",
       "23        Chris Mullin               GOS   Golden State Warriors   \n",
       "24        Chris Mullin               IND          Indiana Pacers   \n",
       "25        Chris Mullin               GSW   Golden State Warriors   \n",
       "26      Scottie Pippen               CHI           Chicago Bulls   \n",
       "27      Scottie Pippen               POR  Portland Trail Blazers   \n",
       "28      Scottie Pippen               HOU         Houston Rockets   \n",
       "29      David Robinson               SAN       San Antonio Spurs   \n",
       "30      David Robinson               SAS       San Antonio Spurs   \n",
       "31       John Stockton               UTH               Utah Jazz   \n",
       "32       John Stockton               UTA               Utah Jazz   \n",
       "\n",
       "              City                 State  \n",
       "0     Philadelphia          Pennsylvania  \n",
       "1          Phoenix               Arizona  \n",
       "2          Houston                 Texas  \n",
       "3           Boston         Massachusetts  \n",
       "4         Portland                Oregon  \n",
       "5          Houston                 Texas  \n",
       "6          Houston                 Texas  \n",
       "7         New York              New York  \n",
       "8          Seattle            Washington  \n",
       "9          Orlando               Florida  \n",
       "10     Los Angeles            California  \n",
       "11         Chicago              Illinois  \n",
       "12      Washington  District of Columbia  \n",
       "13     Minneapolis             Minnesota  \n",
       "14      Washington  District of Columbia  \n",
       "15         Atlanta               Georgia  \n",
       "16          Dallas                 Texas  \n",
       "17         Detroit              Michigan  \n",
       "18          Dallas                 Texas  \n",
       "19           Miami               Florida  \n",
       "20  Salt Lake City                  Utah  \n",
       "21  Salt Lake City                  Utah  \n",
       "22     Los Angeles            California  \n",
       "23   San Francisco            California  \n",
       "24    Indianapolis               Indiana  \n",
       "25   San Francisco            California  \n",
       "26         Chicago              Illinois  \n",
       "27        Portland                Oregon  \n",
       "28         Houston                 Texas  \n",
       "29     San Antonio                 Texas  \n",
       "30     San Antonio                 Texas  \n",
       "31  Salt Lake City                  Utah  \n",
       "32  Salt Lake City                  Utah  "
      ]
     },
     "execution_count": 72,
     "metadata": {},
     "output_type": "execute_result"
    }
   ],
   "source": [
    "mapdata"
   ]
  },
  {
   "cell_type": "code",
   "execution_count": 73,
   "id": "56e85b00",
   "metadata": {},
   "outputs": [
    {
     "data": {
      "text/html": [
       "<div>\n",
       "<style scoped>\n",
       "    .dataframe tbody tr th:only-of-type {\n",
       "        vertical-align: middle;\n",
       "    }\n",
       "\n",
       "    .dataframe tbody tr th {\n",
       "        vertical-align: top;\n",
       "    }\n",
       "\n",
       "    .dataframe thead th {\n",
       "        text-align: right;\n",
       "    }\n",
       "</style>\n",
       "<table border=\"1\" class=\"dataframe\">\n",
       "  <thead>\n",
       "    <tr style=\"text-align: right;\">\n",
       "      <th></th>\n",
       "      <th>Name</th>\n",
       "      <th>Team_Abbreviation</th>\n",
       "      <th>Team_Name</th>\n",
       "      <th>City</th>\n",
       "      <th>State</th>\n",
       "    </tr>\n",
       "  </thead>\n",
       "  <tbody>\n",
       "    <tr>\n",
       "      <th>0</th>\n",
       "      <td>Charles Barkley</td>\n",
       "      <td>PHL</td>\n",
       "      <td>Philadelphia 76ers</td>\n",
       "      <td>Philadelphia</td>\n",
       "      <td>Pennsylvania</td>\n",
       "    </tr>\n",
       "    <tr>\n",
       "      <th>1</th>\n",
       "      <td>Charles Barkley</td>\n",
       "      <td>PHX</td>\n",
       "      <td>Phoenix Suns</td>\n",
       "      <td>Phoenix</td>\n",
       "      <td>Arizona</td>\n",
       "    </tr>\n",
       "    <tr>\n",
       "      <th>2</th>\n",
       "      <td>Charles Barkley</td>\n",
       "      <td>HOU</td>\n",
       "      <td>Houston Rockets</td>\n",
       "      <td>Houston</td>\n",
       "      <td>Texas</td>\n",
       "    </tr>\n",
       "    <tr>\n",
       "      <th>3</th>\n",
       "      <td>Larry Bird</td>\n",
       "      <td>BOS</td>\n",
       "      <td>Boston Celtics</td>\n",
       "      <td>Boston</td>\n",
       "      <td>Massachusetts</td>\n",
       "    </tr>\n",
       "    <tr>\n",
       "      <th>4</th>\n",
       "      <td>Clyde Drexler</td>\n",
       "      <td>POR</td>\n",
       "      <td>Portland Trail Blazers</td>\n",
       "      <td>Portland</td>\n",
       "      <td>Oregon</td>\n",
       "    </tr>\n",
       "    <tr>\n",
       "      <th>5</th>\n",
       "      <td>Clyde Drexler</td>\n",
       "      <td>HOU</td>\n",
       "      <td>Houston Rockets</td>\n",
       "      <td>Houston</td>\n",
       "      <td>Texas</td>\n",
       "    </tr>\n",
       "    <tr>\n",
       "      <th>6</th>\n",
       "      <td>Patrick Ewing</td>\n",
       "      <td>NYK</td>\n",
       "      <td>New York Knicks</td>\n",
       "      <td>New York</td>\n",
       "      <td>New York</td>\n",
       "    </tr>\n",
       "    <tr>\n",
       "      <th>7</th>\n",
       "      <td>Patrick Ewing</td>\n",
       "      <td>SEA</td>\n",
       "      <td>Seattle SuperSonics</td>\n",
       "      <td>Seattle</td>\n",
       "      <td>Washington</td>\n",
       "    </tr>\n",
       "    <tr>\n",
       "      <th>8</th>\n",
       "      <td>Patrick Ewing</td>\n",
       "      <td>ORL</td>\n",
       "      <td>Orlando Magic</td>\n",
       "      <td>Orlando</td>\n",
       "      <td>Florida</td>\n",
       "    </tr>\n",
       "    <tr>\n",
       "      <th>9</th>\n",
       "      <td>Magic Johnson</td>\n",
       "      <td>LAL</td>\n",
       "      <td>Los Angeles Lakers</td>\n",
       "      <td>Los Angeles</td>\n",
       "      <td>California</td>\n",
       "    </tr>\n",
       "    <tr>\n",
       "      <th>10</th>\n",
       "      <td>Michael Jordan</td>\n",
       "      <td>CHI</td>\n",
       "      <td>Chicago Bulls</td>\n",
       "      <td>Chicago</td>\n",
       "      <td>Illinois</td>\n",
       "    </tr>\n",
       "    <tr>\n",
       "      <th>11</th>\n",
       "      <td>Michael Jordan</td>\n",
       "      <td>WAS</td>\n",
       "      <td>Washington Wizards</td>\n",
       "      <td>Washington</td>\n",
       "      <td>District of Columbia</td>\n",
       "    </tr>\n",
       "    <tr>\n",
       "      <th>12</th>\n",
       "      <td>Christian Laettner</td>\n",
       "      <td>MIN</td>\n",
       "      <td>Minnesota Timberwolves</td>\n",
       "      <td>Minneapolis</td>\n",
       "      <td>Minnesota</td>\n",
       "    </tr>\n",
       "    <tr>\n",
       "      <th>13</th>\n",
       "      <td>Christian Laettner</td>\n",
       "      <td>WAS</td>\n",
       "      <td>Washington Wizards</td>\n",
       "      <td>Washington</td>\n",
       "      <td>District of Columbia</td>\n",
       "    </tr>\n",
       "    <tr>\n",
       "      <th>14</th>\n",
       "      <td>Christian Laettner</td>\n",
       "      <td>ATL</td>\n",
       "      <td>Atlanta Hawks</td>\n",
       "      <td>Atlanta</td>\n",
       "      <td>Georgia</td>\n",
       "    </tr>\n",
       "    <tr>\n",
       "      <th>15</th>\n",
       "      <td>Christian Laettner</td>\n",
       "      <td>TOT</td>\n",
       "      <td>Dallas Mavericks</td>\n",
       "      <td>Dallas</td>\n",
       "      <td>Texas</td>\n",
       "    </tr>\n",
       "    <tr>\n",
       "      <th>16</th>\n",
       "      <td>Christian Laettner</td>\n",
       "      <td>DET</td>\n",
       "      <td>Detroit Pistons</td>\n",
       "      <td>Detroit</td>\n",
       "      <td>Michigan</td>\n",
       "    </tr>\n",
       "    <tr>\n",
       "      <th>17</th>\n",
       "      <td>Christian Laettner</td>\n",
       "      <td>MIA</td>\n",
       "      <td>Miami Heat</td>\n",
       "      <td>Miami</td>\n",
       "      <td>Florida</td>\n",
       "    </tr>\n",
       "    <tr>\n",
       "      <th>18</th>\n",
       "      <td>Karl Malone</td>\n",
       "      <td>UTH</td>\n",
       "      <td>Utah Jazz</td>\n",
       "      <td>Salt Lake City</td>\n",
       "      <td>Utah</td>\n",
       "    </tr>\n",
       "    <tr>\n",
       "      <th>19</th>\n",
       "      <td>Karl Malone</td>\n",
       "      <td>LAL</td>\n",
       "      <td>Los Angeles Lakers</td>\n",
       "      <td>Los Angeles</td>\n",
       "      <td>California</td>\n",
       "    </tr>\n",
       "    <tr>\n",
       "      <th>20</th>\n",
       "      <td>Chris Mullin</td>\n",
       "      <td>GOS</td>\n",
       "      <td>Golden State Warriors</td>\n",
       "      <td>San Francisco</td>\n",
       "      <td>California</td>\n",
       "    </tr>\n",
       "    <tr>\n",
       "      <th>21</th>\n",
       "      <td>Chris Mullin</td>\n",
       "      <td>IND</td>\n",
       "      <td>Indiana Pacers</td>\n",
       "      <td>Indianapolis</td>\n",
       "      <td>Indiana</td>\n",
       "    </tr>\n",
       "    <tr>\n",
       "      <th>22</th>\n",
       "      <td>Scottie Pippen</td>\n",
       "      <td>CHI</td>\n",
       "      <td>Chicago Bulls</td>\n",
       "      <td>Chicago</td>\n",
       "      <td>Illinois</td>\n",
       "    </tr>\n",
       "    <tr>\n",
       "      <th>23</th>\n",
       "      <td>Scottie Pippen</td>\n",
       "      <td>POR</td>\n",
       "      <td>Portland Trail Blazers</td>\n",
       "      <td>Portland</td>\n",
       "      <td>Oregon</td>\n",
       "    </tr>\n",
       "    <tr>\n",
       "      <th>24</th>\n",
       "      <td>Scottie Pippen</td>\n",
       "      <td>HOU</td>\n",
       "      <td>Houston Rockets</td>\n",
       "      <td>Houston</td>\n",
       "      <td>Texas</td>\n",
       "    </tr>\n",
       "    <tr>\n",
       "      <th>25</th>\n",
       "      <td>David Robinson</td>\n",
       "      <td>SAN</td>\n",
       "      <td>San Antonio Spurs</td>\n",
       "      <td>San Antonio</td>\n",
       "      <td>Texas</td>\n",
       "    </tr>\n",
       "    <tr>\n",
       "      <th>26</th>\n",
       "      <td>John Stockton</td>\n",
       "      <td>UTH</td>\n",
       "      <td>Utah Jazz</td>\n",
       "      <td>Salt Lake City</td>\n",
       "      <td>Utah</td>\n",
       "    </tr>\n",
       "  </tbody>\n",
       "</table>\n",
       "</div>"
      ],
      "text/plain": [
       "                  Name Team_Abbreviation               Team_Name  \\\n",
       "0      Charles Barkley               PHL      Philadelphia 76ers   \n",
       "1      Charles Barkley               PHX            Phoenix Suns   \n",
       "2      Charles Barkley               HOU         Houston Rockets   \n",
       "3           Larry Bird               BOS          Boston Celtics   \n",
       "4        Clyde Drexler               POR  Portland Trail Blazers   \n",
       "5        Clyde Drexler               HOU         Houston Rockets   \n",
       "6        Patrick Ewing               NYK         New York Knicks   \n",
       "7        Patrick Ewing               SEA     Seattle SuperSonics   \n",
       "8        Patrick Ewing               ORL           Orlando Magic   \n",
       "9        Magic Johnson               LAL      Los Angeles Lakers   \n",
       "10      Michael Jordan               CHI           Chicago Bulls   \n",
       "11      Michael Jordan               WAS      Washington Wizards   \n",
       "12  Christian Laettner               MIN  Minnesota Timberwolves   \n",
       "13  Christian Laettner               WAS      Washington Wizards   \n",
       "14  Christian Laettner               ATL           Atlanta Hawks   \n",
       "15  Christian Laettner               TOT        Dallas Mavericks   \n",
       "16  Christian Laettner               DET         Detroit Pistons   \n",
       "17  Christian Laettner               MIA              Miami Heat   \n",
       "18         Karl Malone               UTH               Utah Jazz   \n",
       "19         Karl Malone               LAL      Los Angeles Lakers   \n",
       "20        Chris Mullin               GOS   Golden State Warriors   \n",
       "21        Chris Mullin               IND          Indiana Pacers   \n",
       "22      Scottie Pippen               CHI           Chicago Bulls   \n",
       "23      Scottie Pippen               POR  Portland Trail Blazers   \n",
       "24      Scottie Pippen               HOU         Houston Rockets   \n",
       "25      David Robinson               SAN       San Antonio Spurs   \n",
       "26       John Stockton               UTH               Utah Jazz   \n",
       "\n",
       "              City                 State  \n",
       "0     Philadelphia          Pennsylvania  \n",
       "1          Phoenix               Arizona  \n",
       "2          Houston                 Texas  \n",
       "3           Boston         Massachusetts  \n",
       "4         Portland                Oregon  \n",
       "5          Houston                 Texas  \n",
       "6         New York              New York  \n",
       "7          Seattle            Washington  \n",
       "8          Orlando               Florida  \n",
       "9      Los Angeles            California  \n",
       "10         Chicago              Illinois  \n",
       "11      Washington  District of Columbia  \n",
       "12     Minneapolis             Minnesota  \n",
       "13      Washington  District of Columbia  \n",
       "14         Atlanta               Georgia  \n",
       "15          Dallas                 Texas  \n",
       "16         Detroit              Michigan  \n",
       "17           Miami               Florida  \n",
       "18  Salt Lake City                  Utah  \n",
       "19     Los Angeles            California  \n",
       "20   San Francisco            California  \n",
       "21    Indianapolis               Indiana  \n",
       "22         Chicago              Illinois  \n",
       "23        Portland                Oregon  \n",
       "24         Houston                 Texas  \n",
       "25     San Antonio                 Texas  \n",
       "26  Salt Lake City                  Utah  "
      ]
     },
     "execution_count": 73,
     "metadata": {},
     "output_type": "execute_result"
    }
   ],
   "source": [
    "#remove duplicate teams for players\n",
    "mapdata=mapdata.drop_duplicates(subset=['Name', 'Team_Name'], keep='first').reset_index(drop=True)\n",
    "mapdata"
   ]
  },
  {
   "cell_type": "code",
   "execution_count": 74,
   "id": "6faf9436",
   "metadata": {},
   "outputs": [],
   "source": [
    "#create single column for city and state\n",
    "City_State=[]\n",
    "for index, row in mapdata[['City', 'State']].iterrows():\n",
    "    City_State.append(row['City'] + \", \" + row['State'])\n",
    "City_State=pd.DataFrame(City_State)\n",
    "#append 2 dataframs\n",
    "mapdata=pd.concat([mapdata,City_State], axis=1)\n",
    "#rename new column\n",
    "mapdata=mapdata.rename(columns={0:'City_State'})"
   ]
  },
  {
   "cell_type": "code",
   "execution_count": 75,
   "id": "5f1fc8f4",
   "metadata": {},
   "outputs": [
    {
     "data": {
      "text/html": [
       "<div>\n",
       "<style scoped>\n",
       "    .dataframe tbody tr th:only-of-type {\n",
       "        vertical-align: middle;\n",
       "    }\n",
       "\n",
       "    .dataframe tbody tr th {\n",
       "        vertical-align: top;\n",
       "    }\n",
       "\n",
       "    .dataframe thead th {\n",
       "        text-align: right;\n",
       "    }\n",
       "</style>\n",
       "<table border=\"1\" class=\"dataframe\">\n",
       "  <thead>\n",
       "    <tr style=\"text-align: right;\">\n",
       "      <th></th>\n",
       "      <th>Name</th>\n",
       "      <th>Team_Abbreviation</th>\n",
       "      <th>Team_Name</th>\n",
       "      <th>City</th>\n",
       "      <th>State</th>\n",
       "      <th>City_State</th>\n",
       "    </tr>\n",
       "  </thead>\n",
       "  <tbody>\n",
       "    <tr>\n",
       "      <th>0</th>\n",
       "      <td>Charles Barkley</td>\n",
       "      <td>PHL</td>\n",
       "      <td>Philadelphia 76ers</td>\n",
       "      <td>Philadelphia</td>\n",
       "      <td>Pennsylvania</td>\n",
       "      <td>Philadelphia, Pennsylvania</td>\n",
       "    </tr>\n",
       "    <tr>\n",
       "      <th>1</th>\n",
       "      <td>Charles Barkley</td>\n",
       "      <td>PHX</td>\n",
       "      <td>Phoenix Suns</td>\n",
       "      <td>Phoenix</td>\n",
       "      <td>Arizona</td>\n",
       "      <td>Phoenix, Arizona</td>\n",
       "    </tr>\n",
       "    <tr>\n",
       "      <th>2</th>\n",
       "      <td>Charles Barkley</td>\n",
       "      <td>HOU</td>\n",
       "      <td>Houston Rockets</td>\n",
       "      <td>Houston</td>\n",
       "      <td>Texas</td>\n",
       "      <td>Houston, Texas</td>\n",
       "    </tr>\n",
       "    <tr>\n",
       "      <th>3</th>\n",
       "      <td>Larry Bird</td>\n",
       "      <td>BOS</td>\n",
       "      <td>Boston Celtics</td>\n",
       "      <td>Boston</td>\n",
       "      <td>Massachusetts</td>\n",
       "      <td>Boston, Massachusetts</td>\n",
       "    </tr>\n",
       "    <tr>\n",
       "      <th>4</th>\n",
       "      <td>Clyde Drexler</td>\n",
       "      <td>POR</td>\n",
       "      <td>Portland Trail Blazers</td>\n",
       "      <td>Portland</td>\n",
       "      <td>Oregon</td>\n",
       "      <td>Portland, Oregon</td>\n",
       "    </tr>\n",
       "    <tr>\n",
       "      <th>5</th>\n",
       "      <td>Clyde Drexler</td>\n",
       "      <td>HOU</td>\n",
       "      <td>Houston Rockets</td>\n",
       "      <td>Houston</td>\n",
       "      <td>Texas</td>\n",
       "      <td>Houston, Texas</td>\n",
       "    </tr>\n",
       "    <tr>\n",
       "      <th>6</th>\n",
       "      <td>Patrick Ewing</td>\n",
       "      <td>NYK</td>\n",
       "      <td>New York Knicks</td>\n",
       "      <td>New York</td>\n",
       "      <td>New York</td>\n",
       "      <td>New York, New York</td>\n",
       "    </tr>\n",
       "    <tr>\n",
       "      <th>7</th>\n",
       "      <td>Patrick Ewing</td>\n",
       "      <td>SEA</td>\n",
       "      <td>Seattle SuperSonics</td>\n",
       "      <td>Seattle</td>\n",
       "      <td>Washington</td>\n",
       "      <td>Seattle, Washington</td>\n",
       "    </tr>\n",
       "    <tr>\n",
       "      <th>8</th>\n",
       "      <td>Patrick Ewing</td>\n",
       "      <td>ORL</td>\n",
       "      <td>Orlando Magic</td>\n",
       "      <td>Orlando</td>\n",
       "      <td>Florida</td>\n",
       "      <td>Orlando, Florida</td>\n",
       "    </tr>\n",
       "    <tr>\n",
       "      <th>9</th>\n",
       "      <td>Magic Johnson</td>\n",
       "      <td>LAL</td>\n",
       "      <td>Los Angeles Lakers</td>\n",
       "      <td>Los Angeles</td>\n",
       "      <td>California</td>\n",
       "      <td>Los Angeles, California</td>\n",
       "    </tr>\n",
       "    <tr>\n",
       "      <th>10</th>\n",
       "      <td>Michael Jordan</td>\n",
       "      <td>CHI</td>\n",
       "      <td>Chicago Bulls</td>\n",
       "      <td>Chicago</td>\n",
       "      <td>Illinois</td>\n",
       "      <td>Chicago, Illinois</td>\n",
       "    </tr>\n",
       "    <tr>\n",
       "      <th>11</th>\n",
       "      <td>Michael Jordan</td>\n",
       "      <td>WAS</td>\n",
       "      <td>Washington Wizards</td>\n",
       "      <td>Washington</td>\n",
       "      <td>District of Columbia</td>\n",
       "      <td>Washington, District of Columbia</td>\n",
       "    </tr>\n",
       "    <tr>\n",
       "      <th>12</th>\n",
       "      <td>Christian Laettner</td>\n",
       "      <td>MIN</td>\n",
       "      <td>Minnesota Timberwolves</td>\n",
       "      <td>Minneapolis</td>\n",
       "      <td>Minnesota</td>\n",
       "      <td>Minneapolis, Minnesota</td>\n",
       "    </tr>\n",
       "    <tr>\n",
       "      <th>13</th>\n",
       "      <td>Christian Laettner</td>\n",
       "      <td>WAS</td>\n",
       "      <td>Washington Wizards</td>\n",
       "      <td>Washington</td>\n",
       "      <td>District of Columbia</td>\n",
       "      <td>Washington, District of Columbia</td>\n",
       "    </tr>\n",
       "    <tr>\n",
       "      <th>14</th>\n",
       "      <td>Christian Laettner</td>\n",
       "      <td>ATL</td>\n",
       "      <td>Atlanta Hawks</td>\n",
       "      <td>Atlanta</td>\n",
       "      <td>Georgia</td>\n",
       "      <td>Atlanta, Georgia</td>\n",
       "    </tr>\n",
       "    <tr>\n",
       "      <th>15</th>\n",
       "      <td>Christian Laettner</td>\n",
       "      <td>TOT</td>\n",
       "      <td>Dallas Mavericks</td>\n",
       "      <td>Dallas</td>\n",
       "      <td>Texas</td>\n",
       "      <td>Dallas, Texas</td>\n",
       "    </tr>\n",
       "    <tr>\n",
       "      <th>16</th>\n",
       "      <td>Christian Laettner</td>\n",
       "      <td>DET</td>\n",
       "      <td>Detroit Pistons</td>\n",
       "      <td>Detroit</td>\n",
       "      <td>Michigan</td>\n",
       "      <td>Detroit, Michigan</td>\n",
       "    </tr>\n",
       "    <tr>\n",
       "      <th>17</th>\n",
       "      <td>Christian Laettner</td>\n",
       "      <td>MIA</td>\n",
       "      <td>Miami Heat</td>\n",
       "      <td>Miami</td>\n",
       "      <td>Florida</td>\n",
       "      <td>Miami, Florida</td>\n",
       "    </tr>\n",
       "    <tr>\n",
       "      <th>18</th>\n",
       "      <td>Karl Malone</td>\n",
       "      <td>UTH</td>\n",
       "      <td>Utah Jazz</td>\n",
       "      <td>Salt Lake City</td>\n",
       "      <td>Utah</td>\n",
       "      <td>Salt Lake City, Utah</td>\n",
       "    </tr>\n",
       "    <tr>\n",
       "      <th>19</th>\n",
       "      <td>Karl Malone</td>\n",
       "      <td>LAL</td>\n",
       "      <td>Los Angeles Lakers</td>\n",
       "      <td>Los Angeles</td>\n",
       "      <td>California</td>\n",
       "      <td>Los Angeles, California</td>\n",
       "    </tr>\n",
       "    <tr>\n",
       "      <th>20</th>\n",
       "      <td>Chris Mullin</td>\n",
       "      <td>GOS</td>\n",
       "      <td>Golden State Warriors</td>\n",
       "      <td>San Francisco</td>\n",
       "      <td>California</td>\n",
       "      <td>San Francisco, California</td>\n",
       "    </tr>\n",
       "    <tr>\n",
       "      <th>21</th>\n",
       "      <td>Chris Mullin</td>\n",
       "      <td>IND</td>\n",
       "      <td>Indiana Pacers</td>\n",
       "      <td>Indianapolis</td>\n",
       "      <td>Indiana</td>\n",
       "      <td>Indianapolis, Indiana</td>\n",
       "    </tr>\n",
       "    <tr>\n",
       "      <th>22</th>\n",
       "      <td>Scottie Pippen</td>\n",
       "      <td>CHI</td>\n",
       "      <td>Chicago Bulls</td>\n",
       "      <td>Chicago</td>\n",
       "      <td>Illinois</td>\n",
       "      <td>Chicago, Illinois</td>\n",
       "    </tr>\n",
       "    <tr>\n",
       "      <th>23</th>\n",
       "      <td>Scottie Pippen</td>\n",
       "      <td>POR</td>\n",
       "      <td>Portland Trail Blazers</td>\n",
       "      <td>Portland</td>\n",
       "      <td>Oregon</td>\n",
       "      <td>Portland, Oregon</td>\n",
       "    </tr>\n",
       "    <tr>\n",
       "      <th>24</th>\n",
       "      <td>Scottie Pippen</td>\n",
       "      <td>HOU</td>\n",
       "      <td>Houston Rockets</td>\n",
       "      <td>Houston</td>\n",
       "      <td>Texas</td>\n",
       "      <td>Houston, Texas</td>\n",
       "    </tr>\n",
       "    <tr>\n",
       "      <th>25</th>\n",
       "      <td>David Robinson</td>\n",
       "      <td>SAN</td>\n",
       "      <td>San Antonio Spurs</td>\n",
       "      <td>San Antonio</td>\n",
       "      <td>Texas</td>\n",
       "      <td>San Antonio, Texas</td>\n",
       "    </tr>\n",
       "    <tr>\n",
       "      <th>26</th>\n",
       "      <td>John Stockton</td>\n",
       "      <td>UTH</td>\n",
       "      <td>Utah Jazz</td>\n",
       "      <td>Salt Lake City</td>\n",
       "      <td>Utah</td>\n",
       "      <td>Salt Lake City, Utah</td>\n",
       "    </tr>\n",
       "  </tbody>\n",
       "</table>\n",
       "</div>"
      ],
      "text/plain": [
       "                  Name Team_Abbreviation               Team_Name  \\\n",
       "0      Charles Barkley               PHL      Philadelphia 76ers   \n",
       "1      Charles Barkley               PHX            Phoenix Suns   \n",
       "2      Charles Barkley               HOU         Houston Rockets   \n",
       "3           Larry Bird               BOS          Boston Celtics   \n",
       "4        Clyde Drexler               POR  Portland Trail Blazers   \n",
       "5        Clyde Drexler               HOU         Houston Rockets   \n",
       "6        Patrick Ewing               NYK         New York Knicks   \n",
       "7        Patrick Ewing               SEA     Seattle SuperSonics   \n",
       "8        Patrick Ewing               ORL           Orlando Magic   \n",
       "9        Magic Johnson               LAL      Los Angeles Lakers   \n",
       "10      Michael Jordan               CHI           Chicago Bulls   \n",
       "11      Michael Jordan               WAS      Washington Wizards   \n",
       "12  Christian Laettner               MIN  Minnesota Timberwolves   \n",
       "13  Christian Laettner               WAS      Washington Wizards   \n",
       "14  Christian Laettner               ATL           Atlanta Hawks   \n",
       "15  Christian Laettner               TOT        Dallas Mavericks   \n",
       "16  Christian Laettner               DET         Detroit Pistons   \n",
       "17  Christian Laettner               MIA              Miami Heat   \n",
       "18         Karl Malone               UTH               Utah Jazz   \n",
       "19         Karl Malone               LAL      Los Angeles Lakers   \n",
       "20        Chris Mullin               GOS   Golden State Warriors   \n",
       "21        Chris Mullin               IND          Indiana Pacers   \n",
       "22      Scottie Pippen               CHI           Chicago Bulls   \n",
       "23      Scottie Pippen               POR  Portland Trail Blazers   \n",
       "24      Scottie Pippen               HOU         Houston Rockets   \n",
       "25      David Robinson               SAN       San Antonio Spurs   \n",
       "26       John Stockton               UTH               Utah Jazz   \n",
       "\n",
       "              City                 State                        City_State  \n",
       "0     Philadelphia          Pennsylvania        Philadelphia, Pennsylvania  \n",
       "1          Phoenix               Arizona                  Phoenix, Arizona  \n",
       "2          Houston                 Texas                    Houston, Texas  \n",
       "3           Boston         Massachusetts             Boston, Massachusetts  \n",
       "4         Portland                Oregon                  Portland, Oregon  \n",
       "5          Houston                 Texas                    Houston, Texas  \n",
       "6         New York              New York                New York, New York  \n",
       "7          Seattle            Washington               Seattle, Washington  \n",
       "8          Orlando               Florida                  Orlando, Florida  \n",
       "9      Los Angeles            California           Los Angeles, California  \n",
       "10         Chicago              Illinois                 Chicago, Illinois  \n",
       "11      Washington  District of Columbia  Washington, District of Columbia  \n",
       "12     Minneapolis             Minnesota            Minneapolis, Minnesota  \n",
       "13      Washington  District of Columbia  Washington, District of Columbia  \n",
       "14         Atlanta               Georgia                  Atlanta, Georgia  \n",
       "15          Dallas                 Texas                     Dallas, Texas  \n",
       "16         Detroit              Michigan                 Detroit, Michigan  \n",
       "17           Miami               Florida                    Miami, Florida  \n",
       "18  Salt Lake City                  Utah              Salt Lake City, Utah  \n",
       "19     Los Angeles            California           Los Angeles, California  \n",
       "20   San Francisco            California         San Francisco, California  \n",
       "21    Indianapolis               Indiana             Indianapolis, Indiana  \n",
       "22         Chicago              Illinois                 Chicago, Illinois  \n",
       "23        Portland                Oregon                  Portland, Oregon  \n",
       "24         Houston                 Texas                    Houston, Texas  \n",
       "25     San Antonio                 Texas                San Antonio, Texas  \n",
       "26  Salt Lake City                  Utah              Salt Lake City, Utah  "
      ]
     },
     "execution_count": 75,
     "metadata": {},
     "output_type": "execute_result"
    }
   ],
   "source": [
    "mapdata"
   ]
  },
  {
   "cell_type": "code",
   "execution_count": 76,
   "id": "947f90fd",
   "metadata": {},
   "outputs": [],
   "source": [
    "#getting coordinates for scattermap\n",
    "#create lists for longitude and latitude coordinates\n",
    "Longitude=[]\n",
    "Latitude=[]\n",
    "#geocoding to put coordinates into lists\n",
    "geo=Nominatim(user_agent = \"nba_map\")\n",
    "for x in mapdata['City_State']:\n",
    "\tl1 = geo.geocode(x, timeout=None)\n",
    "\tLatitude.append(l1.latitude)\n",
    "\tLongitude.append(l1.longitude)"
   ]
  },
  {
   "cell_type": "code",
   "execution_count": 77,
   "id": "3bfbe570",
   "metadata": {},
   "outputs": [
    {
     "data": {
      "text/plain": [
       "[39.9527237,\n",
       " 33.4484367,\n",
       " 29.7589382,\n",
       " 42.3554334,\n",
       " 45.5202471,\n",
       " 29.7589382,\n",
       " 40.7127281,\n",
       " 47.6038321,\n",
       " 28.5421109,\n",
       " 34.0536909,\n",
       " 41.8755616,\n",
       " 38.8950368,\n",
       " 44.9772995,\n",
       " 38.8950368,\n",
       " 33.7544657,\n",
       " 32.7762719,\n",
       " 42.3315509,\n",
       " 25.7741728,\n",
       " 40.7596198,\n",
       " 34.0536909,\n",
       " 37.7792588,\n",
       " 39.7683331,\n",
       " 41.8755616,\n",
       " 45.5202471,\n",
       " 29.7589382,\n",
       " 29.4246002,\n",
       " 40.7596198]"
      ]
     },
     "execution_count": 77,
     "metadata": {},
     "output_type": "execute_result"
    },
    {
     "data": {
      "text/plain": [
       "[-75.1635262,\n",
       " -112.074141,\n",
       " -95.3676974,\n",
       " -71.060511,\n",
       " -122.674194,\n",
       " -95.3676974,\n",
       " -74.0060152,\n",
       " -122.330062,\n",
       " -81.3790304,\n",
       " -118.242766,\n",
       " -87.6244212,\n",
       " -77.0365427,\n",
       " -93.2654692,\n",
       " -77.0365427,\n",
       " -84.3898151,\n",
       " -96.7968559,\n",
       " -83.0466403,\n",
       " -80.19362,\n",
       " -111.886797,\n",
       " -118.242766,\n",
       " -122.4193286,\n",
       " -86.1583502,\n",
       " -87.6244212,\n",
       " -122.674194,\n",
       " -95.3676974,\n",
       " -98.4951405,\n",
       " -111.886797]"
      ]
     },
     "execution_count": 77,
     "metadata": {},
     "output_type": "execute_result"
    },
    {
     "data": {
      "text/plain": [
       "27"
      ]
     },
     "execution_count": 77,
     "metadata": {},
     "output_type": "execute_result"
    },
    {
     "data": {
      "text/plain": [
       "27"
      ]
     },
     "execution_count": 77,
     "metadata": {},
     "output_type": "execute_result"
    }
   ],
   "source": [
    "#check lists\n",
    "Latitude\n",
    "Longitude\n",
    "len(Latitude)\n",
    "len(Longitude)"
   ]
  },
  {
   "cell_type": "code",
   "execution_count": 78,
   "id": "1c94ce96",
   "metadata": {},
   "outputs": [
    {
     "data": {
      "text/plain": [
       "[39.95264577541792,\n",
       " 33.44840651335855,\n",
       " 29.75895035946093,\n",
       " 42.355406482199285,\n",
       " 45.52026124737243,\n",
       " 29.758981864473302,\n",
       " 40.71263898388558,\n",
       " 47.60383602877867,\n",
       " 28.542019689485006,\n",
       " 34.0536305088294,\n",
       " 41.87552867746367,\n",
       " 38.89507389756928,\n",
       " 44.97720230712593,\n",
       " 38.89497194879224,\n",
       " 33.75438065517856,\n",
       " 32.77632012544266,\n",
       " 42.331629933693755,\n",
       " 25.77421701308213,\n",
       " 40.75952406843692,\n",
       " 34.053595421385964,\n",
       " 37.779343015796954,\n",
       " 39.76838742616893,\n",
       " 41.87552166277239,\n",
       " 45.520323194839825,\n",
       " 29.758939058607012,\n",
       " 29.42463360388901,\n",
       " 40.759697518849514]"
      ]
     },
     "execution_count": 78,
     "metadata": {},
     "output_type": "execute_result"
    },
    {
     "data": {
      "text/plain": [
       "[-75.1635620397466,\n",
       " -112.07405396816517,\n",
       " -95.36775349889093,\n",
       " -71.06056336143305,\n",
       " -122.67425877729644,\n",
       " -95.3677668335428,\n",
       " -74.00604735217081,\n",
       " -122.33005031709847,\n",
       " -81.37894708577929,\n",
       " -118.24285730641718,\n",
       " -87.62446235211249,\n",
       " -77.0364532433482,\n",
       " -93.26550543999103,\n",
       " -77.03659708809019,\n",
       " -84.38985687659533,\n",
       " -96.79688916742784,\n",
       " -83.0467113448768,\n",
       " -80.1935683107794,\n",
       " -111.88688263504362,\n",
       " -118.24269722517693,\n",
       " -122.41932508189369,\n",
       " -86.15837128800241,\n",
       " -87.62437434944478,\n",
       " -122.67420187787074,\n",
       " -95.36766685275501,\n",
       " -98.49518961190732,\n",
       " -111.88675321254816]"
      ]
     },
     "execution_count": 78,
     "metadata": {},
     "output_type": "execute_result"
    },
    {
     "data": {
      "text/plain": [
       "27"
      ]
     },
     "execution_count": 78,
     "metadata": {},
     "output_type": "execute_result"
    },
    {
     "data": {
      "text/plain": [
       "27"
      ]
     },
     "execution_count": 78,
     "metadata": {},
     "output_type": "execute_result"
    }
   ],
   "source": [
    "#create distinct coordinates to keep from having the same coordinates\n",
    "jitter_amount = 0.0001\n",
    "Latitude_new=[coord + np.random.uniform(-jitter_amount, jitter_amount) for coord in Latitude]\n",
    "Longitude_new=[coord + np.random.uniform(-jitter_amount, jitter_amount) for coord in Longitude]\n",
    "#checkk new lists\n",
    "Latitude_new\n",
    "Longitude_new\n",
    "len(Latitude_new)\n",
    "len(Longitude_new)"
   ]
  },
  {
   "cell_type": "code",
   "execution_count": 79,
   "id": "e769d10c",
   "metadata": {},
   "outputs": [
    {
     "name": "stdout",
     "output_type": "stream",
     "text": [
      "<class 'pandas.core.frame.DataFrame'>\n",
      "RangeIndex: 27 entries, 0 to 26\n",
      "Data columns (total 8 columns):\n",
      " #   Column             Non-Null Count  Dtype  \n",
      "---  ------             --------------  -----  \n",
      " 0   Name               27 non-null     object \n",
      " 1   Team_Abbreviation  27 non-null     object \n",
      " 2   Team_Name          27 non-null     object \n",
      " 3   City               27 non-null     object \n",
      " 4   State              27 non-null     object \n",
      " 5   City_State         27 non-null     object \n",
      " 6   Latitude           27 non-null     float64\n",
      " 7   Longitude          27 non-null     float64\n",
      "dtypes: float64(2), object(6)\n",
      "memory usage: 1.8+ KB\n"
     ]
    }
   ],
   "source": [
    "#add coordinates to dataframe\n",
    "#make dataframes out of coordinate lists\n",
    "Latitude=pd.DataFrame(Latitude_new)\n",
    "Longitude=pd.DataFrame(Longitude_new)\n",
    "mapdata=pd.concat([mapdata,Latitude], axis=1).reset_index(drop=True)\n",
    "mapdata=mapdata.rename(columns={0:'Latitude'})\n",
    "mapdata=pd.concat([mapdata,Longitude], axis=1).reset_index(drop=True)\n",
    "mapdata=mapdata.rename(columns={0:'Longitude'})\n",
    "mapdata.info()"
   ]
  },
  {
   "cell_type": "code",
   "execution_count": 80,
   "id": "36ded9cc",
   "metadata": {},
   "outputs": [
    {
     "data": {
      "text/html": [
       "<div>\n",
       "<style scoped>\n",
       "    .dataframe tbody tr th:only-of-type {\n",
       "        vertical-align: middle;\n",
       "    }\n",
       "\n",
       "    .dataframe tbody tr th {\n",
       "        vertical-align: top;\n",
       "    }\n",
       "\n",
       "    .dataframe thead th {\n",
       "        text-align: right;\n",
       "    }\n",
       "</style>\n",
       "<table border=\"1\" class=\"dataframe\">\n",
       "  <thead>\n",
       "    <tr style=\"text-align: right;\">\n",
       "      <th></th>\n",
       "      <th>Name</th>\n",
       "      <th>Team_Abbreviation</th>\n",
       "      <th>Team_Name</th>\n",
       "      <th>City</th>\n",
       "      <th>State</th>\n",
       "      <th>City_State</th>\n",
       "      <th>Latitude</th>\n",
       "      <th>Longitude</th>\n",
       "    </tr>\n",
       "  </thead>\n",
       "  <tbody>\n",
       "    <tr>\n",
       "      <th>0</th>\n",
       "      <td>Charles Barkley</td>\n",
       "      <td>PHL</td>\n",
       "      <td>Philadelphia 76ers</td>\n",
       "      <td>Philadelphia</td>\n",
       "      <td>Pennsylvania</td>\n",
       "      <td>Philadelphia, Pennsylvania</td>\n",
       "      <td>39.952646</td>\n",
       "      <td>-75.163562</td>\n",
       "    </tr>\n",
       "    <tr>\n",
       "      <th>1</th>\n",
       "      <td>Charles Barkley</td>\n",
       "      <td>PHX</td>\n",
       "      <td>Phoenix Suns</td>\n",
       "      <td>Phoenix</td>\n",
       "      <td>Arizona</td>\n",
       "      <td>Phoenix, Arizona</td>\n",
       "      <td>33.448407</td>\n",
       "      <td>-112.074054</td>\n",
       "    </tr>\n",
       "    <tr>\n",
       "      <th>2</th>\n",
       "      <td>Charles Barkley</td>\n",
       "      <td>HOU</td>\n",
       "      <td>Houston Rockets</td>\n",
       "      <td>Houston</td>\n",
       "      <td>Texas</td>\n",
       "      <td>Houston, Texas</td>\n",
       "      <td>29.758950</td>\n",
       "      <td>-95.367753</td>\n",
       "    </tr>\n",
       "    <tr>\n",
       "      <th>3</th>\n",
       "      <td>Larry Bird</td>\n",
       "      <td>BOS</td>\n",
       "      <td>Boston Celtics</td>\n",
       "      <td>Boston</td>\n",
       "      <td>Massachusetts</td>\n",
       "      <td>Boston, Massachusetts</td>\n",
       "      <td>42.355406</td>\n",
       "      <td>-71.060563</td>\n",
       "    </tr>\n",
       "    <tr>\n",
       "      <th>4</th>\n",
       "      <td>Clyde Drexler</td>\n",
       "      <td>POR</td>\n",
       "      <td>Portland Trail Blazers</td>\n",
       "      <td>Portland</td>\n",
       "      <td>Oregon</td>\n",
       "      <td>Portland, Oregon</td>\n",
       "      <td>45.520261</td>\n",
       "      <td>-122.674259</td>\n",
       "    </tr>\n",
       "    <tr>\n",
       "      <th>5</th>\n",
       "      <td>Clyde Drexler</td>\n",
       "      <td>HOU</td>\n",
       "      <td>Houston Rockets</td>\n",
       "      <td>Houston</td>\n",
       "      <td>Texas</td>\n",
       "      <td>Houston, Texas</td>\n",
       "      <td>29.758982</td>\n",
       "      <td>-95.367767</td>\n",
       "    </tr>\n",
       "    <tr>\n",
       "      <th>6</th>\n",
       "      <td>Patrick Ewing</td>\n",
       "      <td>NYK</td>\n",
       "      <td>New York Knicks</td>\n",
       "      <td>New York</td>\n",
       "      <td>New York</td>\n",
       "      <td>New York, New York</td>\n",
       "      <td>40.712639</td>\n",
       "      <td>-74.006047</td>\n",
       "    </tr>\n",
       "    <tr>\n",
       "      <th>7</th>\n",
       "      <td>Patrick Ewing</td>\n",
       "      <td>SEA</td>\n",
       "      <td>Seattle SuperSonics</td>\n",
       "      <td>Seattle</td>\n",
       "      <td>Washington</td>\n",
       "      <td>Seattle, Washington</td>\n",
       "      <td>47.603836</td>\n",
       "      <td>-122.330050</td>\n",
       "    </tr>\n",
       "    <tr>\n",
       "      <th>8</th>\n",
       "      <td>Patrick Ewing</td>\n",
       "      <td>ORL</td>\n",
       "      <td>Orlando Magic</td>\n",
       "      <td>Orlando</td>\n",
       "      <td>Florida</td>\n",
       "      <td>Orlando, Florida</td>\n",
       "      <td>28.542020</td>\n",
       "      <td>-81.378947</td>\n",
       "    </tr>\n",
       "    <tr>\n",
       "      <th>9</th>\n",
       "      <td>Magic Johnson</td>\n",
       "      <td>LAL</td>\n",
       "      <td>Los Angeles Lakers</td>\n",
       "      <td>Los Angeles</td>\n",
       "      <td>California</td>\n",
       "      <td>Los Angeles, California</td>\n",
       "      <td>34.053631</td>\n",
       "      <td>-118.242857</td>\n",
       "    </tr>\n",
       "    <tr>\n",
       "      <th>10</th>\n",
       "      <td>Michael Jordan</td>\n",
       "      <td>CHI</td>\n",
       "      <td>Chicago Bulls</td>\n",
       "      <td>Chicago</td>\n",
       "      <td>Illinois</td>\n",
       "      <td>Chicago, Illinois</td>\n",
       "      <td>41.875529</td>\n",
       "      <td>-87.624462</td>\n",
       "    </tr>\n",
       "    <tr>\n",
       "      <th>11</th>\n",
       "      <td>Michael Jordan</td>\n",
       "      <td>WAS</td>\n",
       "      <td>Washington Wizards</td>\n",
       "      <td>Washington</td>\n",
       "      <td>District of Columbia</td>\n",
       "      <td>Washington, District of Columbia</td>\n",
       "      <td>38.895074</td>\n",
       "      <td>-77.036453</td>\n",
       "    </tr>\n",
       "    <tr>\n",
       "      <th>12</th>\n",
       "      <td>Christian Laettner</td>\n",
       "      <td>MIN</td>\n",
       "      <td>Minnesota Timberwolves</td>\n",
       "      <td>Minneapolis</td>\n",
       "      <td>Minnesota</td>\n",
       "      <td>Minneapolis, Minnesota</td>\n",
       "      <td>44.977202</td>\n",
       "      <td>-93.265505</td>\n",
       "    </tr>\n",
       "    <tr>\n",
       "      <th>13</th>\n",
       "      <td>Christian Laettner</td>\n",
       "      <td>WAS</td>\n",
       "      <td>Washington Wizards</td>\n",
       "      <td>Washington</td>\n",
       "      <td>District of Columbia</td>\n",
       "      <td>Washington, District of Columbia</td>\n",
       "      <td>38.894972</td>\n",
       "      <td>-77.036597</td>\n",
       "    </tr>\n",
       "    <tr>\n",
       "      <th>14</th>\n",
       "      <td>Christian Laettner</td>\n",
       "      <td>ATL</td>\n",
       "      <td>Atlanta Hawks</td>\n",
       "      <td>Atlanta</td>\n",
       "      <td>Georgia</td>\n",
       "      <td>Atlanta, Georgia</td>\n",
       "      <td>33.754381</td>\n",
       "      <td>-84.389857</td>\n",
       "    </tr>\n",
       "    <tr>\n",
       "      <th>15</th>\n",
       "      <td>Christian Laettner</td>\n",
       "      <td>TOT</td>\n",
       "      <td>Dallas Mavericks</td>\n",
       "      <td>Dallas</td>\n",
       "      <td>Texas</td>\n",
       "      <td>Dallas, Texas</td>\n",
       "      <td>32.776320</td>\n",
       "      <td>-96.796889</td>\n",
       "    </tr>\n",
       "    <tr>\n",
       "      <th>16</th>\n",
       "      <td>Christian Laettner</td>\n",
       "      <td>DET</td>\n",
       "      <td>Detroit Pistons</td>\n",
       "      <td>Detroit</td>\n",
       "      <td>Michigan</td>\n",
       "      <td>Detroit, Michigan</td>\n",
       "      <td>42.331630</td>\n",
       "      <td>-83.046711</td>\n",
       "    </tr>\n",
       "    <tr>\n",
       "      <th>17</th>\n",
       "      <td>Christian Laettner</td>\n",
       "      <td>MIA</td>\n",
       "      <td>Miami Heat</td>\n",
       "      <td>Miami</td>\n",
       "      <td>Florida</td>\n",
       "      <td>Miami, Florida</td>\n",
       "      <td>25.774217</td>\n",
       "      <td>-80.193568</td>\n",
       "    </tr>\n",
       "    <tr>\n",
       "      <th>18</th>\n",
       "      <td>Karl Malone</td>\n",
       "      <td>UTH</td>\n",
       "      <td>Utah Jazz</td>\n",
       "      <td>Salt Lake City</td>\n",
       "      <td>Utah</td>\n",
       "      <td>Salt Lake City, Utah</td>\n",
       "      <td>40.759524</td>\n",
       "      <td>-111.886883</td>\n",
       "    </tr>\n",
       "    <tr>\n",
       "      <th>19</th>\n",
       "      <td>Karl Malone</td>\n",
       "      <td>LAL</td>\n",
       "      <td>Los Angeles Lakers</td>\n",
       "      <td>Los Angeles</td>\n",
       "      <td>California</td>\n",
       "      <td>Los Angeles, California</td>\n",
       "      <td>34.053595</td>\n",
       "      <td>-118.242697</td>\n",
       "    </tr>\n",
       "    <tr>\n",
       "      <th>20</th>\n",
       "      <td>Chris Mullin</td>\n",
       "      <td>GOS</td>\n",
       "      <td>Golden State Warriors</td>\n",
       "      <td>San Francisco</td>\n",
       "      <td>California</td>\n",
       "      <td>San Francisco, California</td>\n",
       "      <td>37.779343</td>\n",
       "      <td>-122.419325</td>\n",
       "    </tr>\n",
       "    <tr>\n",
       "      <th>21</th>\n",
       "      <td>Chris Mullin</td>\n",
       "      <td>IND</td>\n",
       "      <td>Indiana Pacers</td>\n",
       "      <td>Indianapolis</td>\n",
       "      <td>Indiana</td>\n",
       "      <td>Indianapolis, Indiana</td>\n",
       "      <td>39.768387</td>\n",
       "      <td>-86.158371</td>\n",
       "    </tr>\n",
       "    <tr>\n",
       "      <th>22</th>\n",
       "      <td>Scottie Pippen</td>\n",
       "      <td>CHI</td>\n",
       "      <td>Chicago Bulls</td>\n",
       "      <td>Chicago</td>\n",
       "      <td>Illinois</td>\n",
       "      <td>Chicago, Illinois</td>\n",
       "      <td>41.875522</td>\n",
       "      <td>-87.624374</td>\n",
       "    </tr>\n",
       "    <tr>\n",
       "      <th>23</th>\n",
       "      <td>Scottie Pippen</td>\n",
       "      <td>POR</td>\n",
       "      <td>Portland Trail Blazers</td>\n",
       "      <td>Portland</td>\n",
       "      <td>Oregon</td>\n",
       "      <td>Portland, Oregon</td>\n",
       "      <td>45.520323</td>\n",
       "      <td>-122.674202</td>\n",
       "    </tr>\n",
       "    <tr>\n",
       "      <th>24</th>\n",
       "      <td>Scottie Pippen</td>\n",
       "      <td>HOU</td>\n",
       "      <td>Houston Rockets</td>\n",
       "      <td>Houston</td>\n",
       "      <td>Texas</td>\n",
       "      <td>Houston, Texas</td>\n",
       "      <td>29.758939</td>\n",
       "      <td>-95.367667</td>\n",
       "    </tr>\n",
       "    <tr>\n",
       "      <th>25</th>\n",
       "      <td>David Robinson</td>\n",
       "      <td>SAN</td>\n",
       "      <td>San Antonio Spurs</td>\n",
       "      <td>San Antonio</td>\n",
       "      <td>Texas</td>\n",
       "      <td>San Antonio, Texas</td>\n",
       "      <td>29.424634</td>\n",
       "      <td>-98.495190</td>\n",
       "    </tr>\n",
       "    <tr>\n",
       "      <th>26</th>\n",
       "      <td>John Stockton</td>\n",
       "      <td>UTH</td>\n",
       "      <td>Utah Jazz</td>\n",
       "      <td>Salt Lake City</td>\n",
       "      <td>Utah</td>\n",
       "      <td>Salt Lake City, Utah</td>\n",
       "      <td>40.759698</td>\n",
       "      <td>-111.886753</td>\n",
       "    </tr>\n",
       "  </tbody>\n",
       "</table>\n",
       "</div>"
      ],
      "text/plain": [
       "                  Name Team_Abbreviation               Team_Name  \\\n",
       "0      Charles Barkley               PHL      Philadelphia 76ers   \n",
       "1      Charles Barkley               PHX            Phoenix Suns   \n",
       "2      Charles Barkley               HOU         Houston Rockets   \n",
       "3           Larry Bird               BOS          Boston Celtics   \n",
       "4        Clyde Drexler               POR  Portland Trail Blazers   \n",
       "5        Clyde Drexler               HOU         Houston Rockets   \n",
       "6        Patrick Ewing               NYK         New York Knicks   \n",
       "7        Patrick Ewing               SEA     Seattle SuperSonics   \n",
       "8        Patrick Ewing               ORL           Orlando Magic   \n",
       "9        Magic Johnson               LAL      Los Angeles Lakers   \n",
       "10      Michael Jordan               CHI           Chicago Bulls   \n",
       "11      Michael Jordan               WAS      Washington Wizards   \n",
       "12  Christian Laettner               MIN  Minnesota Timberwolves   \n",
       "13  Christian Laettner               WAS      Washington Wizards   \n",
       "14  Christian Laettner               ATL           Atlanta Hawks   \n",
       "15  Christian Laettner               TOT        Dallas Mavericks   \n",
       "16  Christian Laettner               DET         Detroit Pistons   \n",
       "17  Christian Laettner               MIA              Miami Heat   \n",
       "18         Karl Malone               UTH               Utah Jazz   \n",
       "19         Karl Malone               LAL      Los Angeles Lakers   \n",
       "20        Chris Mullin               GOS   Golden State Warriors   \n",
       "21        Chris Mullin               IND          Indiana Pacers   \n",
       "22      Scottie Pippen               CHI           Chicago Bulls   \n",
       "23      Scottie Pippen               POR  Portland Trail Blazers   \n",
       "24      Scottie Pippen               HOU         Houston Rockets   \n",
       "25      David Robinson               SAN       San Antonio Spurs   \n",
       "26       John Stockton               UTH               Utah Jazz   \n",
       "\n",
       "              City                 State                        City_State  \\\n",
       "0     Philadelphia          Pennsylvania        Philadelphia, Pennsylvania   \n",
       "1          Phoenix               Arizona                  Phoenix, Arizona   \n",
       "2          Houston                 Texas                    Houston, Texas   \n",
       "3           Boston         Massachusetts             Boston, Massachusetts   \n",
       "4         Portland                Oregon                  Portland, Oregon   \n",
       "5          Houston                 Texas                    Houston, Texas   \n",
       "6         New York              New York                New York, New York   \n",
       "7          Seattle            Washington               Seattle, Washington   \n",
       "8          Orlando               Florida                  Orlando, Florida   \n",
       "9      Los Angeles            California           Los Angeles, California   \n",
       "10         Chicago              Illinois                 Chicago, Illinois   \n",
       "11      Washington  District of Columbia  Washington, District of Columbia   \n",
       "12     Minneapolis             Minnesota            Minneapolis, Minnesota   \n",
       "13      Washington  District of Columbia  Washington, District of Columbia   \n",
       "14         Atlanta               Georgia                  Atlanta, Georgia   \n",
       "15          Dallas                 Texas                     Dallas, Texas   \n",
       "16         Detroit              Michigan                 Detroit, Michigan   \n",
       "17           Miami               Florida                    Miami, Florida   \n",
       "18  Salt Lake City                  Utah              Salt Lake City, Utah   \n",
       "19     Los Angeles            California           Los Angeles, California   \n",
       "20   San Francisco            California         San Francisco, California   \n",
       "21    Indianapolis               Indiana             Indianapolis, Indiana   \n",
       "22         Chicago              Illinois                 Chicago, Illinois   \n",
       "23        Portland                Oregon                  Portland, Oregon   \n",
       "24         Houston                 Texas                    Houston, Texas   \n",
       "25     San Antonio                 Texas                San Antonio, Texas   \n",
       "26  Salt Lake City                  Utah              Salt Lake City, Utah   \n",
       "\n",
       "     Latitude   Longitude  \n",
       "0   39.952646  -75.163562  \n",
       "1   33.448407 -112.074054  \n",
       "2   29.758950  -95.367753  \n",
       "3   42.355406  -71.060563  \n",
       "4   45.520261 -122.674259  \n",
       "5   29.758982  -95.367767  \n",
       "6   40.712639  -74.006047  \n",
       "7   47.603836 -122.330050  \n",
       "8   28.542020  -81.378947  \n",
       "9   34.053631 -118.242857  \n",
       "10  41.875529  -87.624462  \n",
       "11  38.895074  -77.036453  \n",
       "12  44.977202  -93.265505  \n",
       "13  38.894972  -77.036597  \n",
       "14  33.754381  -84.389857  \n",
       "15  32.776320  -96.796889  \n",
       "16  42.331630  -83.046711  \n",
       "17  25.774217  -80.193568  \n",
       "18  40.759524 -111.886883  \n",
       "19  34.053595 -118.242697  \n",
       "20  37.779343 -122.419325  \n",
       "21  39.768387  -86.158371  \n",
       "22  41.875522  -87.624374  \n",
       "23  45.520323 -122.674202  \n",
       "24  29.758939  -95.367667  \n",
       "25  29.424634  -98.495190  \n",
       "26  40.759698 -111.886753  "
      ]
     },
     "execution_count": 80,
     "metadata": {},
     "output_type": "execute_result"
    }
   ],
   "source": [
    "mapdata"
   ]
  },
  {
   "cell_type": "code",
   "execution_count": 85,
   "id": "bdacc795",
   "metadata": {},
   "outputs": [
    {
     "data": {
      "application/vnd.plotly.v1+json": {
       "config": {
        "plotlyServerURL": "https://plot.ly"
       },
       "data": [
        {
         "customdata": [
          [
           39.95264577541792,
           -75.1635620397466,
           "Charles Barkley",
           "Philadelphia 76ers",
           "Philadelphia, Pennsylvania"
          ],
          [
           33.44840651335855,
           -112.07405396816517,
           "Charles Barkley",
           "Phoenix Suns",
           "Phoenix, Arizona"
          ],
          [
           29.75895035946093,
           -95.36775349889093,
           "Charles Barkley",
           "Houston Rockets",
           "Houston, Texas"
          ],
          [
           42.355406482199285,
           -71.06056336143305,
           "Larry Bird",
           "Boston Celtics",
           "Boston, Massachusetts"
          ],
          [
           45.52026124737243,
           -122.67425877729644,
           "Clyde Drexler",
           "Portland Trail Blazers",
           "Portland, Oregon"
          ],
          [
           29.758981864473302,
           -95.3677668335428,
           "Clyde Drexler",
           "Houston Rockets",
           "Houston, Texas"
          ],
          [
           40.71263898388558,
           -74.00604735217081,
           "Patrick Ewing",
           "New York Knicks",
           "New York, New York"
          ],
          [
           47.60383602877867,
           -122.33005031709847,
           "Patrick Ewing",
           "Seattle SuperSonics",
           "Seattle, Washington"
          ],
          [
           28.542019689485006,
           -81.37894708577929,
           "Patrick Ewing",
           "Orlando Magic",
           "Orlando, Florida"
          ],
          [
           34.0536305088294,
           -118.24285730641718,
           "Magic Johnson",
           "Los Angeles Lakers",
           "Los Angeles, California"
          ],
          [
           41.87552867746367,
           -87.62446235211249,
           "Michael Jordan",
           "Chicago Bulls",
           "Chicago, Illinois"
          ],
          [
           38.89507389756928,
           -77.0364532433482,
           "Michael Jordan",
           "Washington Wizards",
           "Washington, District of Columbia"
          ],
          [
           44.97720230712593,
           -93.26550543999103,
           "Christian Laettner",
           "Minnesota Timberwolves",
           "Minneapolis, Minnesota"
          ],
          [
           38.89497194879224,
           -77.03659708809019,
           "Christian Laettner",
           "Washington Wizards",
           "Washington, District of Columbia"
          ],
          [
           33.75438065517856,
           -84.38985687659533,
           "Christian Laettner",
           "Atlanta Hawks",
           "Atlanta, Georgia"
          ],
          [
           32.77632012544266,
           -96.79688916742784,
           "Christian Laettner",
           "Dallas Mavericks",
           "Dallas, Texas"
          ],
          [
           42.331629933693755,
           -83.0467113448768,
           "Christian Laettner",
           "Detroit Pistons",
           "Detroit, Michigan"
          ],
          [
           25.77421701308213,
           -80.1935683107794,
           "Christian Laettner",
           "Miami Heat",
           "Miami, Florida"
          ],
          [
           40.75952406843692,
           -111.88688263504362,
           "Karl Malone",
           "Utah Jazz",
           "Salt Lake City, Utah"
          ],
          [
           34.053595421385964,
           -118.24269722517693,
           "Karl Malone",
           "Los Angeles Lakers",
           "Los Angeles, California"
          ],
          [
           37.779343015796954,
           -122.41932508189369,
           "Chris Mullin",
           "Golden State Warriors",
           "San Francisco, California"
          ],
          [
           39.76838742616893,
           -86.15837128800241,
           "Chris Mullin",
           "Indiana Pacers",
           "Indianapolis, Indiana"
          ],
          [
           41.87552166277239,
           -87.62437434944478,
           "Scottie Pippen",
           "Chicago Bulls",
           "Chicago, Illinois"
          ],
          [
           45.520323194839825,
           -122.67420187787074,
           "Scottie Pippen",
           "Portland Trail Blazers",
           "Portland, Oregon"
          ],
          [
           29.758939058607012,
           -95.36766685275501,
           "Scottie Pippen",
           "Houston Rockets",
           "Houston, Texas"
          ],
          [
           29.42463360388901,
           -98.49518961190732,
           "David Robinson",
           "San Antonio Spurs",
           "San Antonio, Texas"
          ],
          [
           40.759697518849514,
           -111.88675321254816,
           "John Stockton",
           "Utah Jazz",
           "Salt Lake City, Utah"
          ]
         ],
         "hovertemplate": "Name=%{customdata[2]}<br>Team_Name=%{customdata[3]}<br>City_State=%{customdata[4]}<extra></extra>",
         "lat": {
          "bdata": "2Av5S/D5Q0AcGHdiZblAQBEsHZJKwj1Aiuqo9X0tRUCea6nrl8JGQIErrqJMwj1AVtIUwTdbREAe4L1/Ss1HQE0gaM3BijxAvL5QXd0GQUBTNd5SEfBEQBvIDsiRckNAP1cX9xR9RkA1c9lwjnJDQA1dmYuP4EBAXQA3dV5jQEBvy4PZcipFQM4xDxYzxjlAEDutFThhREC2CPs23AZBQGKbDoPB40JAzgbphFriQ0ADRgYYEfBEQPmXUPOZwkZAyF+E1EnCPUBlfLHJtGw9QM8nr8Q9YURA",
          "dtype": "f8"
         },
         "legendgroup": "",
         "lon": {
          "bdata": "CeXqzHfKUsAk2tpMvQRcwHmu+EWJ11fANiwmReDDUcDeYUkOJ6tewKun5n2J11fARPNuFGOAUsA7fl2LH5VewIoVR6tAWFTAAypf+YqPXcAC+vAw9+dVwOAA/D9VQlPA+2qHCv5QV8B6HlCbV0JTwEDGQWrzGFXA6ShsOwAzWMBGppRR/cJUwLoVV2xjDFTAxTlir8L4W8DAPfFZiI9dwA9I3jjWml7AIaZTwSKKVcDn1NS/9edVwNMWoh8mq17A/BmN2ofXV8B/HcUvsZ9YwBvhi5DA+FvA",
          "dtype": "f8"
         },
         "marker": {
          "color": "orange",
          "size": 10
         },
         "mode": "markers",
         "name": "",
         "showlegend": false,
         "subplot": "map",
         "type": "scattermap"
        }
       ],
       "layout": {
        "height": 800,
        "legend": {
         "tracegroupgap": 0
        },
        "map": {
         "center": {
          "lat": 37.432817295642806,
          "lon": -96.36338394438536
         },
         "domain": {
          "x": [
           0,
           1
          ],
          "y": [
           0,
           1
          ]
         },
         "style": "open-street-map",
         "zoom": 3.5
        },
        "mapbox": {
         "center": {
          "lat": 37.432817295642806,
          "lon": -96.36338394438536
         },
         "style": "open-street-map",
         "zoom": 3.5
        },
        "scattermode": "group",
        "template": {
         "data": {
          "bar": [
           {
            "error_x": {
             "color": "#2a3f5f"
            },
            "error_y": {
             "color": "#2a3f5f"
            },
            "marker": {
             "line": {
              "color": "#E5ECF6",
              "width": 0.5
             },
             "pattern": {
              "fillmode": "overlay",
              "size": 10,
              "solidity": 0.2
             }
            },
            "type": "bar"
           }
          ],
          "barpolar": [
           {
            "marker": {
             "line": {
              "color": "#E5ECF6",
              "width": 0.5
             },
             "pattern": {
              "fillmode": "overlay",
              "size": 10,
              "solidity": 0.2
             }
            },
            "type": "barpolar"
           }
          ],
          "carpet": [
           {
            "aaxis": {
             "endlinecolor": "#2a3f5f",
             "gridcolor": "white",
             "linecolor": "white",
             "minorgridcolor": "white",
             "startlinecolor": "#2a3f5f"
            },
            "baxis": {
             "endlinecolor": "#2a3f5f",
             "gridcolor": "white",
             "linecolor": "white",
             "minorgridcolor": "white",
             "startlinecolor": "#2a3f5f"
            },
            "type": "carpet"
           }
          ],
          "choropleth": [
           {
            "colorbar": {
             "outlinewidth": 0,
             "ticks": ""
            },
            "type": "choropleth"
           }
          ],
          "contour": [
           {
            "colorbar": {
             "outlinewidth": 0,
             "ticks": ""
            },
            "colorscale": [
             [
              0,
              "#0d0887"
             ],
             [
              0.1111111111111111,
              "#46039f"
             ],
             [
              0.2222222222222222,
              "#7201a8"
             ],
             [
              0.3333333333333333,
              "#9c179e"
             ],
             [
              0.4444444444444444,
              "#bd3786"
             ],
             [
              0.5555555555555556,
              "#d8576b"
             ],
             [
              0.6666666666666666,
              "#ed7953"
             ],
             [
              0.7777777777777778,
              "#fb9f3a"
             ],
             [
              0.8888888888888888,
              "#fdca26"
             ],
             [
              1,
              "#f0f921"
             ]
            ],
            "type": "contour"
           }
          ],
          "contourcarpet": [
           {
            "colorbar": {
             "outlinewidth": 0,
             "ticks": ""
            },
            "type": "contourcarpet"
           }
          ],
          "heatmap": [
           {
            "colorbar": {
             "outlinewidth": 0,
             "ticks": ""
            },
            "colorscale": [
             [
              0,
              "#0d0887"
             ],
             [
              0.1111111111111111,
              "#46039f"
             ],
             [
              0.2222222222222222,
              "#7201a8"
             ],
             [
              0.3333333333333333,
              "#9c179e"
             ],
             [
              0.4444444444444444,
              "#bd3786"
             ],
             [
              0.5555555555555556,
              "#d8576b"
             ],
             [
              0.6666666666666666,
              "#ed7953"
             ],
             [
              0.7777777777777778,
              "#fb9f3a"
             ],
             [
              0.8888888888888888,
              "#fdca26"
             ],
             [
              1,
              "#f0f921"
             ]
            ],
            "type": "heatmap"
           }
          ],
          "histogram": [
           {
            "marker": {
             "pattern": {
              "fillmode": "overlay",
              "size": 10,
              "solidity": 0.2
             }
            },
            "type": "histogram"
           }
          ],
          "histogram2d": [
           {
            "colorbar": {
             "outlinewidth": 0,
             "ticks": ""
            },
            "colorscale": [
             [
              0,
              "#0d0887"
             ],
             [
              0.1111111111111111,
              "#46039f"
             ],
             [
              0.2222222222222222,
              "#7201a8"
             ],
             [
              0.3333333333333333,
              "#9c179e"
             ],
             [
              0.4444444444444444,
              "#bd3786"
             ],
             [
              0.5555555555555556,
              "#d8576b"
             ],
             [
              0.6666666666666666,
              "#ed7953"
             ],
             [
              0.7777777777777778,
              "#fb9f3a"
             ],
             [
              0.8888888888888888,
              "#fdca26"
             ],
             [
              1,
              "#f0f921"
             ]
            ],
            "type": "histogram2d"
           }
          ],
          "histogram2dcontour": [
           {
            "colorbar": {
             "outlinewidth": 0,
             "ticks": ""
            },
            "colorscale": [
             [
              0,
              "#0d0887"
             ],
             [
              0.1111111111111111,
              "#46039f"
             ],
             [
              0.2222222222222222,
              "#7201a8"
             ],
             [
              0.3333333333333333,
              "#9c179e"
             ],
             [
              0.4444444444444444,
              "#bd3786"
             ],
             [
              0.5555555555555556,
              "#d8576b"
             ],
             [
              0.6666666666666666,
              "#ed7953"
             ],
             [
              0.7777777777777778,
              "#fb9f3a"
             ],
             [
              0.8888888888888888,
              "#fdca26"
             ],
             [
              1,
              "#f0f921"
             ]
            ],
            "type": "histogram2dcontour"
           }
          ],
          "mesh3d": [
           {
            "colorbar": {
             "outlinewidth": 0,
             "ticks": ""
            },
            "type": "mesh3d"
           }
          ],
          "parcoords": [
           {
            "line": {
             "colorbar": {
              "outlinewidth": 0,
              "ticks": ""
             }
            },
            "type": "parcoords"
           }
          ],
          "pie": [
           {
            "automargin": true,
            "type": "pie"
           }
          ],
          "scatter": [
           {
            "fillpattern": {
             "fillmode": "overlay",
             "size": 10,
             "solidity": 0.2
            },
            "type": "scatter"
           }
          ],
          "scatter3d": [
           {
            "line": {
             "colorbar": {
              "outlinewidth": 0,
              "ticks": ""
             }
            },
            "marker": {
             "colorbar": {
              "outlinewidth": 0,
              "ticks": ""
             }
            },
            "type": "scatter3d"
           }
          ],
          "scattercarpet": [
           {
            "marker": {
             "colorbar": {
              "outlinewidth": 0,
              "ticks": ""
             }
            },
            "type": "scattercarpet"
           }
          ],
          "scattergeo": [
           {
            "marker": {
             "colorbar": {
              "outlinewidth": 0,
              "ticks": ""
             }
            },
            "type": "scattergeo"
           }
          ],
          "scattergl": [
           {
            "marker": {
             "colorbar": {
              "outlinewidth": 0,
              "ticks": ""
             }
            },
            "type": "scattergl"
           }
          ],
          "scattermap": [
           {
            "marker": {
             "colorbar": {
              "outlinewidth": 0,
              "ticks": ""
             }
            },
            "type": "scattermap"
           }
          ],
          "scattermapbox": [
           {
            "marker": {
             "colorbar": {
              "outlinewidth": 0,
              "ticks": ""
             }
            },
            "type": "scattermapbox"
           }
          ],
          "scatterpolar": [
           {
            "marker": {
             "colorbar": {
              "outlinewidth": 0,
              "ticks": ""
             }
            },
            "type": "scatterpolar"
           }
          ],
          "scatterpolargl": [
           {
            "marker": {
             "colorbar": {
              "outlinewidth": 0,
              "ticks": ""
             }
            },
            "type": "scatterpolargl"
           }
          ],
          "scatterternary": [
           {
            "marker": {
             "colorbar": {
              "outlinewidth": 0,
              "ticks": ""
             }
            },
            "type": "scatterternary"
           }
          ],
          "surface": [
           {
            "colorbar": {
             "outlinewidth": 0,
             "ticks": ""
            },
            "colorscale": [
             [
              0,
              "#0d0887"
             ],
             [
              0.1111111111111111,
              "#46039f"
             ],
             [
              0.2222222222222222,
              "#7201a8"
             ],
             [
              0.3333333333333333,
              "#9c179e"
             ],
             [
              0.4444444444444444,
              "#bd3786"
             ],
             [
              0.5555555555555556,
              "#d8576b"
             ],
             [
              0.6666666666666666,
              "#ed7953"
             ],
             [
              0.7777777777777778,
              "#fb9f3a"
             ],
             [
              0.8888888888888888,
              "#fdca26"
             ],
             [
              1,
              "#f0f921"
             ]
            ],
            "type": "surface"
           }
          ],
          "table": [
           {
            "cells": {
             "fill": {
              "color": "#EBF0F8"
             },
             "line": {
              "color": "white"
             }
            },
            "header": {
             "fill": {
              "color": "#C8D4E3"
             },
             "line": {
              "color": "white"
             }
            },
            "type": "table"
           }
          ]
         },
         "layout": {
          "annotationdefaults": {
           "arrowcolor": "#2a3f5f",
           "arrowhead": 0,
           "arrowwidth": 1
          },
          "autotypenumbers": "strict",
          "coloraxis": {
           "colorbar": {
            "outlinewidth": 0,
            "ticks": ""
           }
          },
          "colorscale": {
           "diverging": [
            [
             0,
             "#8e0152"
            ],
            [
             0.1,
             "#c51b7d"
            ],
            [
             0.2,
             "#de77ae"
            ],
            [
             0.3,
             "#f1b6da"
            ],
            [
             0.4,
             "#fde0ef"
            ],
            [
             0.5,
             "#f7f7f7"
            ],
            [
             0.6,
             "#e6f5d0"
            ],
            [
             0.7,
             "#b8e186"
            ],
            [
             0.8,
             "#7fbc41"
            ],
            [
             0.9,
             "#4d9221"
            ],
            [
             1,
             "#276419"
            ]
           ],
           "sequential": [
            [
             0,
             "#0d0887"
            ],
            [
             0.1111111111111111,
             "#46039f"
            ],
            [
             0.2222222222222222,
             "#7201a8"
            ],
            [
             0.3333333333333333,
             "#9c179e"
            ],
            [
             0.4444444444444444,
             "#bd3786"
            ],
            [
             0.5555555555555556,
             "#d8576b"
            ],
            [
             0.6666666666666666,
             "#ed7953"
            ],
            [
             0.7777777777777778,
             "#fb9f3a"
            ],
            [
             0.8888888888888888,
             "#fdca26"
            ],
            [
             1,
             "#f0f921"
            ]
           ],
           "sequentialminus": [
            [
             0,
             "#0d0887"
            ],
            [
             0.1111111111111111,
             "#46039f"
            ],
            [
             0.2222222222222222,
             "#7201a8"
            ],
            [
             0.3333333333333333,
             "#9c179e"
            ],
            [
             0.4444444444444444,
             "#bd3786"
            ],
            [
             0.5555555555555556,
             "#d8576b"
            ],
            [
             0.6666666666666666,
             "#ed7953"
            ],
            [
             0.7777777777777778,
             "#fb9f3a"
            ],
            [
             0.8888888888888888,
             "#fdca26"
            ],
            [
             1,
             "#f0f921"
            ]
           ]
          },
          "colorway": [
           "#636efa",
           "#EF553B",
           "#00cc96",
           "#ab63fa",
           "#FFA15A",
           "#19d3f3",
           "#FF6692",
           "#B6E880",
           "#FF97FF",
           "#FECB52"
          ],
          "font": {
           "color": "#2a3f5f"
          },
          "geo": {
           "bgcolor": "white",
           "lakecolor": "white",
           "landcolor": "#E5ECF6",
           "showlakes": true,
           "showland": true,
           "subunitcolor": "white"
          },
          "hoverlabel": {
           "align": "left"
          },
          "hovermode": "closest",
          "mapbox": {
           "style": "light"
          },
          "paper_bgcolor": "white",
          "plot_bgcolor": "#E5ECF6",
          "polar": {
           "angularaxis": {
            "gridcolor": "white",
            "linecolor": "white",
            "ticks": ""
           },
           "bgcolor": "#E5ECF6",
           "radialaxis": {
            "gridcolor": "white",
            "linecolor": "white",
            "ticks": ""
           }
          },
          "scene": {
           "xaxis": {
            "backgroundcolor": "#E5ECF6",
            "gridcolor": "white",
            "gridwidth": 2,
            "linecolor": "white",
            "showbackground": true,
            "ticks": "",
            "zerolinecolor": "white"
           },
           "yaxis": {
            "backgroundcolor": "#E5ECF6",
            "gridcolor": "white",
            "gridwidth": 2,
            "linecolor": "white",
            "showbackground": true,
            "ticks": "",
            "zerolinecolor": "white"
           },
           "zaxis": {
            "backgroundcolor": "#E5ECF6",
            "gridcolor": "white",
            "gridwidth": 2,
            "linecolor": "white",
            "showbackground": true,
            "ticks": "",
            "zerolinecolor": "white"
           }
          },
          "shapedefaults": {
           "line": {
            "color": "#2a3f5f"
           }
          },
          "ternary": {
           "aaxis": {
            "gridcolor": "white",
            "linecolor": "white",
            "ticks": ""
           },
           "baxis": {
            "gridcolor": "white",
            "linecolor": "white",
            "ticks": ""
           },
           "bgcolor": "#E5ECF6",
           "caxis": {
            "gridcolor": "white",
            "linecolor": "white",
            "ticks": ""
           }
          },
          "title": {
           "x": 0.05
          },
          "xaxis": {
           "automargin": true,
           "gridcolor": "white",
           "linecolor": "white",
           "ticks": "",
           "title": {
            "standoff": 15
           },
           "zerolinecolor": "white",
           "zerolinewidth": 2
          },
          "yaxis": {
           "automargin": true,
           "gridcolor": "white",
           "linecolor": "white",
           "ticks": "",
           "title": {
            "standoff": 15
           },
           "zerolinecolor": "white",
           "zerolinewidth": 2
          }
         }
        },
        "title": {
         "text": "Teams that the 1992 Dream Team Played for in the NBA"
        }
       }
      }
     },
     "metadata": {},
     "output_type": "display_data"
    }
   ],
   "source": [
    "#generate scattermap\n",
    "fig = px.scatter_map(mapdata, lat=\"Latitude\", \n",
    "                     lon=\"Longitude\", \n",
    "                     hover_data={'Latitude': False, 'Longitude': False, 'Name': True, 'Team_Name': True, 'City_State': True},\n",
    "                     map_style='open-street-map', \n",
    "                     title= \"Teams that the 1992 Dream Team Played for in the NBA\",\n",
    "                     color_discrete_sequence=['orange'],\n",
    "                     height=800, zoom=3.5).update_layout(scattermode=\"group\").update_traces(marker=dict(size=10))\n",
    "fig.show()"
   ]
  },
  {
   "cell_type": "code",
   "execution_count": 86,
   "id": "c27ca479",
   "metadata": {},
   "outputs": [
    {
     "data": {
      "application/vnd.plotly.v1+json": {
       "config": {
        "plotlyServerURL": "https://plot.ly"
       },
       "data": [
        {
         "marker": {
          "color": "gold"
         },
         "name": "Games Played",
         "type": "bar",
         "x": [
          "Charles Barkley",
          "Larry Bird",
          "Clyde Drexler",
          "Patrick Ewing",
          "Magic Johnson",
          "Michael Jordan",
          "Christian Laettner",
          "Karl Malone",
          "Chris Mullin",
          "Scottie Pippen",
          "David Robinson",
          "John Stockton"
         ],
         "y": [
          69,
          77,
          75,
          79,
          77,
          82,
          70,
          82,
          61,
          77,
          80,
          82
         ]
        },
        {
         "marker": {
          "color": "green"
         },
         "name": "Games Started",
         "type": "bar",
         "x": [
          "Charles Barkley",
          "Larry Bird",
          "Clyde Drexler",
          "Patrick Ewing",
          "Magic Johnson",
          "Michael Jordan",
          "Christian Laettner",
          "Karl Malone",
          "Chris Mullin",
          "Scottie Pippen",
          "David Robinson",
          "John Stockton"
         ],
         "y": [
          66,
          75,
          68,
          79,
          77,
          82,
          48,
          82,
          52,
          72,
          80,
          82
         ]
        }
       ],
       "layout": {
        "barmode": "group",
        "template": {
         "data": {
          "bar": [
           {
            "error_x": {
             "color": "#2a3f5f"
            },
            "error_y": {
             "color": "#2a3f5f"
            },
            "marker": {
             "line": {
              "color": "#E5ECF6",
              "width": 0.5
             },
             "pattern": {
              "fillmode": "overlay",
              "size": 10,
              "solidity": 0.2
             }
            },
            "type": "bar"
           }
          ],
          "barpolar": [
           {
            "marker": {
             "line": {
              "color": "#E5ECF6",
              "width": 0.5
             },
             "pattern": {
              "fillmode": "overlay",
              "size": 10,
              "solidity": 0.2
             }
            },
            "type": "barpolar"
           }
          ],
          "carpet": [
           {
            "aaxis": {
             "endlinecolor": "#2a3f5f",
             "gridcolor": "white",
             "linecolor": "white",
             "minorgridcolor": "white",
             "startlinecolor": "#2a3f5f"
            },
            "baxis": {
             "endlinecolor": "#2a3f5f",
             "gridcolor": "white",
             "linecolor": "white",
             "minorgridcolor": "white",
             "startlinecolor": "#2a3f5f"
            },
            "type": "carpet"
           }
          ],
          "choropleth": [
           {
            "colorbar": {
             "outlinewidth": 0,
             "ticks": ""
            },
            "type": "choropleth"
           }
          ],
          "contour": [
           {
            "colorbar": {
             "outlinewidth": 0,
             "ticks": ""
            },
            "colorscale": [
             [
              0,
              "#0d0887"
             ],
             [
              0.1111111111111111,
              "#46039f"
             ],
             [
              0.2222222222222222,
              "#7201a8"
             ],
             [
              0.3333333333333333,
              "#9c179e"
             ],
             [
              0.4444444444444444,
              "#bd3786"
             ],
             [
              0.5555555555555556,
              "#d8576b"
             ],
             [
              0.6666666666666666,
              "#ed7953"
             ],
             [
              0.7777777777777778,
              "#fb9f3a"
             ],
             [
              0.8888888888888888,
              "#fdca26"
             ],
             [
              1,
              "#f0f921"
             ]
            ],
            "type": "contour"
           }
          ],
          "contourcarpet": [
           {
            "colorbar": {
             "outlinewidth": 0,
             "ticks": ""
            },
            "type": "contourcarpet"
           }
          ],
          "heatmap": [
           {
            "colorbar": {
             "outlinewidth": 0,
             "ticks": ""
            },
            "colorscale": [
             [
              0,
              "#0d0887"
             ],
             [
              0.1111111111111111,
              "#46039f"
             ],
             [
              0.2222222222222222,
              "#7201a8"
             ],
             [
              0.3333333333333333,
              "#9c179e"
             ],
             [
              0.4444444444444444,
              "#bd3786"
             ],
             [
              0.5555555555555556,
              "#d8576b"
             ],
             [
              0.6666666666666666,
              "#ed7953"
             ],
             [
              0.7777777777777778,
              "#fb9f3a"
             ],
             [
              0.8888888888888888,
              "#fdca26"
             ],
             [
              1,
              "#f0f921"
             ]
            ],
            "type": "heatmap"
           }
          ],
          "histogram": [
           {
            "marker": {
             "pattern": {
              "fillmode": "overlay",
              "size": 10,
              "solidity": 0.2
             }
            },
            "type": "histogram"
           }
          ],
          "histogram2d": [
           {
            "colorbar": {
             "outlinewidth": 0,
             "ticks": ""
            },
            "colorscale": [
             [
              0,
              "#0d0887"
             ],
             [
              0.1111111111111111,
              "#46039f"
             ],
             [
              0.2222222222222222,
              "#7201a8"
             ],
             [
              0.3333333333333333,
              "#9c179e"
             ],
             [
              0.4444444444444444,
              "#bd3786"
             ],
             [
              0.5555555555555556,
              "#d8576b"
             ],
             [
              0.6666666666666666,
              "#ed7953"
             ],
             [
              0.7777777777777778,
              "#fb9f3a"
             ],
             [
              0.8888888888888888,
              "#fdca26"
             ],
             [
              1,
              "#f0f921"
             ]
            ],
            "type": "histogram2d"
           }
          ],
          "histogram2dcontour": [
           {
            "colorbar": {
             "outlinewidth": 0,
             "ticks": ""
            },
            "colorscale": [
             [
              0,
              "#0d0887"
             ],
             [
              0.1111111111111111,
              "#46039f"
             ],
             [
              0.2222222222222222,
              "#7201a8"
             ],
             [
              0.3333333333333333,
              "#9c179e"
             ],
             [
              0.4444444444444444,
              "#bd3786"
             ],
             [
              0.5555555555555556,
              "#d8576b"
             ],
             [
              0.6666666666666666,
              "#ed7953"
             ],
             [
              0.7777777777777778,
              "#fb9f3a"
             ],
             [
              0.8888888888888888,
              "#fdca26"
             ],
             [
              1,
              "#f0f921"
             ]
            ],
            "type": "histogram2dcontour"
           }
          ],
          "mesh3d": [
           {
            "colorbar": {
             "outlinewidth": 0,
             "ticks": ""
            },
            "type": "mesh3d"
           }
          ],
          "parcoords": [
           {
            "line": {
             "colorbar": {
              "outlinewidth": 0,
              "ticks": ""
             }
            },
            "type": "parcoords"
           }
          ],
          "pie": [
           {
            "automargin": true,
            "type": "pie"
           }
          ],
          "scatter": [
           {
            "fillpattern": {
             "fillmode": "overlay",
             "size": 10,
             "solidity": 0.2
            },
            "type": "scatter"
           }
          ],
          "scatter3d": [
           {
            "line": {
             "colorbar": {
              "outlinewidth": 0,
              "ticks": ""
             }
            },
            "marker": {
             "colorbar": {
              "outlinewidth": 0,
              "ticks": ""
             }
            },
            "type": "scatter3d"
           }
          ],
          "scattercarpet": [
           {
            "marker": {
             "colorbar": {
              "outlinewidth": 0,
              "ticks": ""
             }
            },
            "type": "scattercarpet"
           }
          ],
          "scattergeo": [
           {
            "marker": {
             "colorbar": {
              "outlinewidth": 0,
              "ticks": ""
             }
            },
            "type": "scattergeo"
           }
          ],
          "scattergl": [
           {
            "marker": {
             "colorbar": {
              "outlinewidth": 0,
              "ticks": ""
             }
            },
            "type": "scattergl"
           }
          ],
          "scattermap": [
           {
            "marker": {
             "colorbar": {
              "outlinewidth": 0,
              "ticks": ""
             }
            },
            "type": "scattermap"
           }
          ],
          "scattermapbox": [
           {
            "marker": {
             "colorbar": {
              "outlinewidth": 0,
              "ticks": ""
             }
            },
            "type": "scattermapbox"
           }
          ],
          "scatterpolar": [
           {
            "marker": {
             "colorbar": {
              "outlinewidth": 0,
              "ticks": ""
             }
            },
            "type": "scatterpolar"
           }
          ],
          "scatterpolargl": [
           {
            "marker": {
             "colorbar": {
              "outlinewidth": 0,
              "ticks": ""
             }
            },
            "type": "scatterpolargl"
           }
          ],
          "scatterternary": [
           {
            "marker": {
             "colorbar": {
              "outlinewidth": 0,
              "ticks": ""
             }
            },
            "type": "scatterternary"
           }
          ],
          "surface": [
           {
            "colorbar": {
             "outlinewidth": 0,
             "ticks": ""
            },
            "colorscale": [
             [
              0,
              "#0d0887"
             ],
             [
              0.1111111111111111,
              "#46039f"
             ],
             [
              0.2222222222222222,
              "#7201a8"
             ],
             [
              0.3333333333333333,
              "#9c179e"
             ],
             [
              0.4444444444444444,
              "#bd3786"
             ],
             [
              0.5555555555555556,
              "#d8576b"
             ],
             [
              0.6666666666666666,
              "#ed7953"
             ],
             [
              0.7777777777777778,
              "#fb9f3a"
             ],
             [
              0.8888888888888888,
              "#fdca26"
             ],
             [
              1,
              "#f0f921"
             ]
            ],
            "type": "surface"
           }
          ],
          "table": [
           {
            "cells": {
             "fill": {
              "color": "#EBF0F8"
             },
             "line": {
              "color": "white"
             }
            },
            "header": {
             "fill": {
              "color": "#C8D4E3"
             },
             "line": {
              "color": "white"
             }
            },
            "type": "table"
           }
          ]
         },
         "layout": {
          "annotationdefaults": {
           "arrowcolor": "#2a3f5f",
           "arrowhead": 0,
           "arrowwidth": 1
          },
          "autotypenumbers": "strict",
          "coloraxis": {
           "colorbar": {
            "outlinewidth": 0,
            "ticks": ""
           }
          },
          "colorscale": {
           "diverging": [
            [
             0,
             "#8e0152"
            ],
            [
             0.1,
             "#c51b7d"
            ],
            [
             0.2,
             "#de77ae"
            ],
            [
             0.3,
             "#f1b6da"
            ],
            [
             0.4,
             "#fde0ef"
            ],
            [
             0.5,
             "#f7f7f7"
            ],
            [
             0.6,
             "#e6f5d0"
            ],
            [
             0.7,
             "#b8e186"
            ],
            [
             0.8,
             "#7fbc41"
            ],
            [
             0.9,
             "#4d9221"
            ],
            [
             1,
             "#276419"
            ]
           ],
           "sequential": [
            [
             0,
             "#0d0887"
            ],
            [
             0.1111111111111111,
             "#46039f"
            ],
            [
             0.2222222222222222,
             "#7201a8"
            ],
            [
             0.3333333333333333,
             "#9c179e"
            ],
            [
             0.4444444444444444,
             "#bd3786"
            ],
            [
             0.5555555555555556,
             "#d8576b"
            ],
            [
             0.6666666666666666,
             "#ed7953"
            ],
            [
             0.7777777777777778,
             "#fb9f3a"
            ],
            [
             0.8888888888888888,
             "#fdca26"
            ],
            [
             1,
             "#f0f921"
            ]
           ],
           "sequentialminus": [
            [
             0,
             "#0d0887"
            ],
            [
             0.1111111111111111,
             "#46039f"
            ],
            [
             0.2222222222222222,
             "#7201a8"
            ],
            [
             0.3333333333333333,
             "#9c179e"
            ],
            [
             0.4444444444444444,
             "#bd3786"
            ],
            [
             0.5555555555555556,
             "#d8576b"
            ],
            [
             0.6666666666666666,
             "#ed7953"
            ],
            [
             0.7777777777777778,
             "#fb9f3a"
            ],
            [
             0.8888888888888888,
             "#fdca26"
            ],
            [
             1,
             "#f0f921"
            ]
           ]
          },
          "colorway": [
           "#636efa",
           "#EF553B",
           "#00cc96",
           "#ab63fa",
           "#FFA15A",
           "#19d3f3",
           "#FF6692",
           "#B6E880",
           "#FF97FF",
           "#FECB52"
          ],
          "font": {
           "color": "#2a3f5f"
          },
          "geo": {
           "bgcolor": "white",
           "lakecolor": "white",
           "landcolor": "#E5ECF6",
           "showlakes": true,
           "showland": true,
           "subunitcolor": "white"
          },
          "hoverlabel": {
           "align": "left"
          },
          "hovermode": "closest",
          "mapbox": {
           "style": "light"
          },
          "paper_bgcolor": "white",
          "plot_bgcolor": "#E5ECF6",
          "polar": {
           "angularaxis": {
            "gridcolor": "white",
            "linecolor": "white",
            "ticks": ""
           },
           "bgcolor": "#E5ECF6",
           "radialaxis": {
            "gridcolor": "white",
            "linecolor": "white",
            "ticks": ""
           }
          },
          "scene": {
           "xaxis": {
            "backgroundcolor": "#E5ECF6",
            "gridcolor": "white",
            "gridwidth": 2,
            "linecolor": "white",
            "showbackground": true,
            "ticks": "",
            "zerolinecolor": "white"
           },
           "yaxis": {
            "backgroundcolor": "#E5ECF6",
            "gridcolor": "white",
            "gridwidth": 2,
            "linecolor": "white",
            "showbackground": true,
            "ticks": "",
            "zerolinecolor": "white"
           },
           "zaxis": {
            "backgroundcolor": "#E5ECF6",
            "gridcolor": "white",
            "gridwidth": 2,
            "linecolor": "white",
            "showbackground": true,
            "ticks": "",
            "zerolinecolor": "white"
           }
          },
          "shapedefaults": {
           "line": {
            "color": "#2a3f5f"
           }
          },
          "ternary": {
           "aaxis": {
            "gridcolor": "white",
            "linecolor": "white",
            "ticks": ""
           },
           "baxis": {
            "gridcolor": "white",
            "linecolor": "white",
            "ticks": ""
           },
           "bgcolor": "#E5ECF6",
           "caxis": {
            "gridcolor": "white",
            "linecolor": "white",
            "ticks": ""
           }
          },
          "title": {
           "x": 0.05
          },
          "xaxis": {
           "automargin": true,
           "gridcolor": "white",
           "linecolor": "white",
           "ticks": "",
           "title": {
            "standoff": 15
           },
           "zerolinecolor": "white",
           "zerolinewidth": 2
          },
          "yaxis": {
           "automargin": true,
           "gridcolor": "white",
           "linecolor": "white",
           "ticks": "",
           "title": {
            "standoff": 15
           },
           "zerolinecolor": "white",
           "zerolinewidth": 2
          }
         }
        },
        "title": {
         "text": "Median Number of NBA Games Played and Started, by player"
        },
        "xaxis": {
         "title": {
          "text": "Player"
         }
        },
        "yaxis": {
         "title": {
          "text": "Median Number of NBA Games"
         }
        }
       }
      }
     },
     "metadata": {},
     "output_type": "display_data"
    }
   ],
   "source": [
    "#Median number of games played and started for each season\n",
    "games_played=[]\n",
    "games_started=[]\n",
    "for data in dataframes.values():\n",
    "    games_played.append(int(np.median(data['GP'])))\n",
    "    games_started.append(int(np.median(data['GS'])))\n",
    "\n",
    "bar_trace1 = go.Bar(name=\"Games Played\", x = roster, y = games_played, marker_color=\"gold\")\n",
    "bar_trace2 = go.Bar(name=\"Games Started\", x = roster, y = games_started, marker_color=\"green\")\n",
    "fig = go.Figure(data=[bar_trace1, bar_trace2]).update_layout(barmode='group',\n",
    "                  title='Median Number of NBA Games Played and Started, by player',\n",
    "                  xaxis_title=\"Player\",\n",
    "                  yaxis_title=\"Median Number of NBA Games\")\n",
    "\n",
    "fig.show()"
   ]
  },
  {
   "cell_type": "code",
   "execution_count": 87,
   "id": "010888d4",
   "metadata": {},
   "outputs": [
    {
     "data": {
      "application/vnd.plotly.v1+json": {
       "config": {
        "plotlyServerURL": "https://plot.ly"
       },
       "data": [
        {
         "name": "Charles Barkley",
         "type": "box",
         "y": {
          "bdata": "KwmIC7QKYgwQDA0MwglBCysL+ghOCUgK2gfDCPYFbAI=",
          "dtype": "i2"
         }
        },
        {
         "name": "Larry Bird",
         "type": "box",
         "y": {
          "bdata": "iwunDGsLpgvUC1kMKQy9C5ULvQCAC+UIfgY=",
          "dtype": "i2"
         }
        },
        {
         "name": "Clyde Drexler",
         "type": "box",
         "y": {
          "bdata": "gAX7CRAKKgz0C/gLewokC78KhwYeCZQFFAWoCs0H4AipCQ==",
          "dtype": "i2"
         }
        },
        {
         "name": "Patrick Ewing",
         "type": "box",
         "y": {
          "bdata": "6waeCPIJUAtdDCAMTgy7C5wLaAvfCkcLUAMUBfMHOwiFAw==",
          "dtype": "i2"
         }
        },
        {
         "name": "Magic Johnson",
         "type": "box",
         "y": {
          "bdata": "6wpbBa8LWwsHCt0KEgpYC00KRgt5C3ULvgM=",
          "dtype": "i2"
         }
        },
        {
         "name": "Michael Jordan",
         "type": "box",
         "y": {
          "bdata": "SAzDAdEM7wy3DH0M2gseDPsLnAISDCUMbQwpCNcL",
          "dtype": "i2"
         }
        },
        {
         "name": "Christian Laettner",
         "type": "box",
         "y": {
          "bdata": "Bwt8CdIK7gXRA78JPgzqCFEBiwmiA90CfwahBacI2APjAg==",
          "dtype": "i2"
         }
        },
        {
         "name": "Karl Malone",
         "type": "box",
         "y": {
          "bdata": "qwkpC34MNgwyDOYM7gsbDAENNgwpDLYL1gsoB4MLTwvgC3gLXQU=",
          "dtype": "i2"
         }
        },
        {
         "name": "Chris Mullin",
         "type": "box",
         "y": {
          "bdata": "bwVJCfEHFQwOC/MMEg1uBxQJegNRBrYKgQibBEYCdgE=",
          "dtype": "i2"
         }
        },
        {
         "name": "Scottie Pippen",
         "type": "box",
         "y": {
          "bdata": "cgZtCUwMxgtcDDMMxwrGCwkLFgx0BtsHvQpVCMwHdwecAQ==",
          "dtype": "i2"
         }
        },
        {
         "name": "David Robinson",
         "type": "box",
         "y": {
          "bdata": "ugsXDAQKiwypDAIMywuTAJkJEgb9CUMJAQmMBg==",
          "dtype": "i2"
         }
        },
        {
         "name": "John Stockton",
         "type": "box",
         "y": {
          "bdata": "0gWPB0IHGgtjDGMLHwy6Cy8LmQszC2MLTgtCB4IFgAldCQoK4wg=",
          "dtype": "i2"
         }
        }
       ],
       "layout": {
        "template": {
         "data": {
          "bar": [
           {
            "error_x": {
             "color": "#2a3f5f"
            },
            "error_y": {
             "color": "#2a3f5f"
            },
            "marker": {
             "line": {
              "color": "#E5ECF6",
              "width": 0.5
             },
             "pattern": {
              "fillmode": "overlay",
              "size": 10,
              "solidity": 0.2
             }
            },
            "type": "bar"
           }
          ],
          "barpolar": [
           {
            "marker": {
             "line": {
              "color": "#E5ECF6",
              "width": 0.5
             },
             "pattern": {
              "fillmode": "overlay",
              "size": 10,
              "solidity": 0.2
             }
            },
            "type": "barpolar"
           }
          ],
          "carpet": [
           {
            "aaxis": {
             "endlinecolor": "#2a3f5f",
             "gridcolor": "white",
             "linecolor": "white",
             "minorgridcolor": "white",
             "startlinecolor": "#2a3f5f"
            },
            "baxis": {
             "endlinecolor": "#2a3f5f",
             "gridcolor": "white",
             "linecolor": "white",
             "minorgridcolor": "white",
             "startlinecolor": "#2a3f5f"
            },
            "type": "carpet"
           }
          ],
          "choropleth": [
           {
            "colorbar": {
             "outlinewidth": 0,
             "ticks": ""
            },
            "type": "choropleth"
           }
          ],
          "contour": [
           {
            "colorbar": {
             "outlinewidth": 0,
             "ticks": ""
            },
            "colorscale": [
             [
              0,
              "#0d0887"
             ],
             [
              0.1111111111111111,
              "#46039f"
             ],
             [
              0.2222222222222222,
              "#7201a8"
             ],
             [
              0.3333333333333333,
              "#9c179e"
             ],
             [
              0.4444444444444444,
              "#bd3786"
             ],
             [
              0.5555555555555556,
              "#d8576b"
             ],
             [
              0.6666666666666666,
              "#ed7953"
             ],
             [
              0.7777777777777778,
              "#fb9f3a"
             ],
             [
              0.8888888888888888,
              "#fdca26"
             ],
             [
              1,
              "#f0f921"
             ]
            ],
            "type": "contour"
           }
          ],
          "contourcarpet": [
           {
            "colorbar": {
             "outlinewidth": 0,
             "ticks": ""
            },
            "type": "contourcarpet"
           }
          ],
          "heatmap": [
           {
            "colorbar": {
             "outlinewidth": 0,
             "ticks": ""
            },
            "colorscale": [
             [
              0,
              "#0d0887"
             ],
             [
              0.1111111111111111,
              "#46039f"
             ],
             [
              0.2222222222222222,
              "#7201a8"
             ],
             [
              0.3333333333333333,
              "#9c179e"
             ],
             [
              0.4444444444444444,
              "#bd3786"
             ],
             [
              0.5555555555555556,
              "#d8576b"
             ],
             [
              0.6666666666666666,
              "#ed7953"
             ],
             [
              0.7777777777777778,
              "#fb9f3a"
             ],
             [
              0.8888888888888888,
              "#fdca26"
             ],
             [
              1,
              "#f0f921"
             ]
            ],
            "type": "heatmap"
           }
          ],
          "histogram": [
           {
            "marker": {
             "pattern": {
              "fillmode": "overlay",
              "size": 10,
              "solidity": 0.2
             }
            },
            "type": "histogram"
           }
          ],
          "histogram2d": [
           {
            "colorbar": {
             "outlinewidth": 0,
             "ticks": ""
            },
            "colorscale": [
             [
              0,
              "#0d0887"
             ],
             [
              0.1111111111111111,
              "#46039f"
             ],
             [
              0.2222222222222222,
              "#7201a8"
             ],
             [
              0.3333333333333333,
              "#9c179e"
             ],
             [
              0.4444444444444444,
              "#bd3786"
             ],
             [
              0.5555555555555556,
              "#d8576b"
             ],
             [
              0.6666666666666666,
              "#ed7953"
             ],
             [
              0.7777777777777778,
              "#fb9f3a"
             ],
             [
              0.8888888888888888,
              "#fdca26"
             ],
             [
              1,
              "#f0f921"
             ]
            ],
            "type": "histogram2d"
           }
          ],
          "histogram2dcontour": [
           {
            "colorbar": {
             "outlinewidth": 0,
             "ticks": ""
            },
            "colorscale": [
             [
              0,
              "#0d0887"
             ],
             [
              0.1111111111111111,
              "#46039f"
             ],
             [
              0.2222222222222222,
              "#7201a8"
             ],
             [
              0.3333333333333333,
              "#9c179e"
             ],
             [
              0.4444444444444444,
              "#bd3786"
             ],
             [
              0.5555555555555556,
              "#d8576b"
             ],
             [
              0.6666666666666666,
              "#ed7953"
             ],
             [
              0.7777777777777778,
              "#fb9f3a"
             ],
             [
              0.8888888888888888,
              "#fdca26"
             ],
             [
              1,
              "#f0f921"
             ]
            ],
            "type": "histogram2dcontour"
           }
          ],
          "mesh3d": [
           {
            "colorbar": {
             "outlinewidth": 0,
             "ticks": ""
            },
            "type": "mesh3d"
           }
          ],
          "parcoords": [
           {
            "line": {
             "colorbar": {
              "outlinewidth": 0,
              "ticks": ""
             }
            },
            "type": "parcoords"
           }
          ],
          "pie": [
           {
            "automargin": true,
            "type": "pie"
           }
          ],
          "scatter": [
           {
            "fillpattern": {
             "fillmode": "overlay",
             "size": 10,
             "solidity": 0.2
            },
            "type": "scatter"
           }
          ],
          "scatter3d": [
           {
            "line": {
             "colorbar": {
              "outlinewidth": 0,
              "ticks": ""
             }
            },
            "marker": {
             "colorbar": {
              "outlinewidth": 0,
              "ticks": ""
             }
            },
            "type": "scatter3d"
           }
          ],
          "scattercarpet": [
           {
            "marker": {
             "colorbar": {
              "outlinewidth": 0,
              "ticks": ""
             }
            },
            "type": "scattercarpet"
           }
          ],
          "scattergeo": [
           {
            "marker": {
             "colorbar": {
              "outlinewidth": 0,
              "ticks": ""
             }
            },
            "type": "scattergeo"
           }
          ],
          "scattergl": [
           {
            "marker": {
             "colorbar": {
              "outlinewidth": 0,
              "ticks": ""
             }
            },
            "type": "scattergl"
           }
          ],
          "scattermap": [
           {
            "marker": {
             "colorbar": {
              "outlinewidth": 0,
              "ticks": ""
             }
            },
            "type": "scattermap"
           }
          ],
          "scattermapbox": [
           {
            "marker": {
             "colorbar": {
              "outlinewidth": 0,
              "ticks": ""
             }
            },
            "type": "scattermapbox"
           }
          ],
          "scatterpolar": [
           {
            "marker": {
             "colorbar": {
              "outlinewidth": 0,
              "ticks": ""
             }
            },
            "type": "scatterpolar"
           }
          ],
          "scatterpolargl": [
           {
            "marker": {
             "colorbar": {
              "outlinewidth": 0,
              "ticks": ""
             }
            },
            "type": "scatterpolargl"
           }
          ],
          "scatterternary": [
           {
            "marker": {
             "colorbar": {
              "outlinewidth": 0,
              "ticks": ""
             }
            },
            "type": "scatterternary"
           }
          ],
          "surface": [
           {
            "colorbar": {
             "outlinewidth": 0,
             "ticks": ""
            },
            "colorscale": [
             [
              0,
              "#0d0887"
             ],
             [
              0.1111111111111111,
              "#46039f"
             ],
             [
              0.2222222222222222,
              "#7201a8"
             ],
             [
              0.3333333333333333,
              "#9c179e"
             ],
             [
              0.4444444444444444,
              "#bd3786"
             ],
             [
              0.5555555555555556,
              "#d8576b"
             ],
             [
              0.6666666666666666,
              "#ed7953"
             ],
             [
              0.7777777777777778,
              "#fb9f3a"
             ],
             [
              0.8888888888888888,
              "#fdca26"
             ],
             [
              1,
              "#f0f921"
             ]
            ],
            "type": "surface"
           }
          ],
          "table": [
           {
            "cells": {
             "fill": {
              "color": "#EBF0F8"
             },
             "line": {
              "color": "white"
             }
            },
            "header": {
             "fill": {
              "color": "#C8D4E3"
             },
             "line": {
              "color": "white"
             }
            },
            "type": "table"
           }
          ]
         },
         "layout": {
          "annotationdefaults": {
           "arrowcolor": "#2a3f5f",
           "arrowhead": 0,
           "arrowwidth": 1
          },
          "autotypenumbers": "strict",
          "coloraxis": {
           "colorbar": {
            "outlinewidth": 0,
            "ticks": ""
           }
          },
          "colorscale": {
           "diverging": [
            [
             0,
             "#8e0152"
            ],
            [
             0.1,
             "#c51b7d"
            ],
            [
             0.2,
             "#de77ae"
            ],
            [
             0.3,
             "#f1b6da"
            ],
            [
             0.4,
             "#fde0ef"
            ],
            [
             0.5,
             "#f7f7f7"
            ],
            [
             0.6,
             "#e6f5d0"
            ],
            [
             0.7,
             "#b8e186"
            ],
            [
             0.8,
             "#7fbc41"
            ],
            [
             0.9,
             "#4d9221"
            ],
            [
             1,
             "#276419"
            ]
           ],
           "sequential": [
            [
             0,
             "#0d0887"
            ],
            [
             0.1111111111111111,
             "#46039f"
            ],
            [
             0.2222222222222222,
             "#7201a8"
            ],
            [
             0.3333333333333333,
             "#9c179e"
            ],
            [
             0.4444444444444444,
             "#bd3786"
            ],
            [
             0.5555555555555556,
             "#d8576b"
            ],
            [
             0.6666666666666666,
             "#ed7953"
            ],
            [
             0.7777777777777778,
             "#fb9f3a"
            ],
            [
             0.8888888888888888,
             "#fdca26"
            ],
            [
             1,
             "#f0f921"
            ]
           ],
           "sequentialminus": [
            [
             0,
             "#0d0887"
            ],
            [
             0.1111111111111111,
             "#46039f"
            ],
            [
             0.2222222222222222,
             "#7201a8"
            ],
            [
             0.3333333333333333,
             "#9c179e"
            ],
            [
             0.4444444444444444,
             "#bd3786"
            ],
            [
             0.5555555555555556,
             "#d8576b"
            ],
            [
             0.6666666666666666,
             "#ed7953"
            ],
            [
             0.7777777777777778,
             "#fb9f3a"
            ],
            [
             0.8888888888888888,
             "#fdca26"
            ],
            [
             1,
             "#f0f921"
            ]
           ]
          },
          "colorway": [
           "#636efa",
           "#EF553B",
           "#00cc96",
           "#ab63fa",
           "#FFA15A",
           "#19d3f3",
           "#FF6692",
           "#B6E880",
           "#FF97FF",
           "#FECB52"
          ],
          "font": {
           "color": "#2a3f5f"
          },
          "geo": {
           "bgcolor": "white",
           "lakecolor": "white",
           "landcolor": "#E5ECF6",
           "showlakes": true,
           "showland": true,
           "subunitcolor": "white"
          },
          "hoverlabel": {
           "align": "left"
          },
          "hovermode": "closest",
          "mapbox": {
           "style": "light"
          },
          "paper_bgcolor": "white",
          "plot_bgcolor": "#E5ECF6",
          "polar": {
           "angularaxis": {
            "gridcolor": "white",
            "linecolor": "white",
            "ticks": ""
           },
           "bgcolor": "#E5ECF6",
           "radialaxis": {
            "gridcolor": "white",
            "linecolor": "white",
            "ticks": ""
           }
          },
          "scene": {
           "xaxis": {
            "backgroundcolor": "#E5ECF6",
            "gridcolor": "white",
            "gridwidth": 2,
            "linecolor": "white",
            "showbackground": true,
            "ticks": "",
            "zerolinecolor": "white"
           },
           "yaxis": {
            "backgroundcolor": "#E5ECF6",
            "gridcolor": "white",
            "gridwidth": 2,
            "linecolor": "white",
            "showbackground": true,
            "ticks": "",
            "zerolinecolor": "white"
           },
           "zaxis": {
            "backgroundcolor": "#E5ECF6",
            "gridcolor": "white",
            "gridwidth": 2,
            "linecolor": "white",
            "showbackground": true,
            "ticks": "",
            "zerolinecolor": "white"
           }
          },
          "shapedefaults": {
           "line": {
            "color": "#2a3f5f"
           }
          },
          "ternary": {
           "aaxis": {
            "gridcolor": "white",
            "linecolor": "white",
            "ticks": ""
           },
           "baxis": {
            "gridcolor": "white",
            "linecolor": "white",
            "ticks": ""
           },
           "bgcolor": "#E5ECF6",
           "caxis": {
            "gridcolor": "white",
            "linecolor": "white",
            "ticks": ""
           }
          },
          "title": {
           "x": 0.05
          },
          "xaxis": {
           "automargin": true,
           "gridcolor": "white",
           "linecolor": "white",
           "ticks": "",
           "title": {
            "standoff": 15
           },
           "zerolinecolor": "white",
           "zerolinewidth": 2
          },
          "yaxis": {
           "automargin": true,
           "gridcolor": "white",
           "linecolor": "white",
           "ticks": "",
           "title": {
            "standoff": 15
           },
           "zerolinecolor": "white",
           "zerolinewidth": 2
          }
         }
        },
        "title": {
         "text": "Distribution of Total Minutes Played Each NBA Season, by player"
        },
        "xaxis": {
         "title": {
          "text": "Player"
         }
        }
       }
      }
     },
     "metadata": {},
     "output_type": "display_data"
    }
   ],
   "source": [
    "#Boxplots for number of minutes played each season\n",
    "fig=go.Figure().add_trace(go.Box(y=barkley['MIN'], name=\"Charles Barkley\")).add_trace(go.Box(y=bird['MIN'], name=\"Larry Bird\")).add_trace(go.Box(y=drexler['MIN'], name=\"Clyde Drexler\")).add_trace(go.Box(y=ewing['MIN'], name=\"Patrick Ewing\")).add_trace(go.Box(y=johnson['MIN'], name=\"Magic Johnson\")).add_trace(go.Box(y=jordan['MIN'], name=\"Michael Jordan\")).add_trace(go.Box(y=laettner['MIN'], name=\"Christian Laettner\")).add_trace(go.Box(y=malone['MIN'], name=\"Karl Malone\")).add_trace(go.Box(y=mullin['MIN'], name=\"Chris Mullin\")).add_trace(go.Box(y=pippen['MIN'], name=\"Scottie Pippen\")).add_trace(go.Box(y=robinson['MIN'], name=\"David Robinson\")).add_trace(go.Box(y=stockton['MIN'], name=\"John Stockton\")).update_layout(title=\"Distribution of Total Minutes Played Each NBA Season, by player\",xaxis_title=\"Player\")\n",
    "fig.show()"
   ]
  },
  {
   "cell_type": "code",
   "execution_count": null,
   "id": "5a5c056d",
   "metadata": {},
   "outputs": [],
   "source": []
  }
 ],
 "metadata": {
  "kernelspec": {
   "display_name": "Python 3",
   "language": "python",
   "name": "python3"
  },
  "language_info": {
   "codemirror_mode": {
    "name": "ipython",
    "version": 3
   },
   "file_extension": ".py",
   "mimetype": "text/x-python",
   "name": "python",
   "nbconvert_exporter": "python",
   "pygments_lexer": "ipython3",
   "version": "3.13.3"
  }
 },
 "nbformat": 4,
 "nbformat_minor": 5
}
