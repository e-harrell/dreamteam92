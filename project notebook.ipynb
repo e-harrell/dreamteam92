{
 "cells": [
  {
   "cell_type": "markdown",
   "id": "d30fbeb8",
   "metadata": {},
   "source": [
    "### Dream Team project\n",
    "Data science project showing information on the NBA careers of the 12 members of the 1992 US Olympic Men's basketball team. This project uses data from the NBA_API. This project includes a variety of visualizations including bar charts, pie charts, boxplots, scatterplots and a map."
   ]
  },
  {
   "cell_type": "code",
   "execution_count": null,
   "id": "c884c885",
   "metadata": {},
   "outputs": [],
   "source": [
    "# applying packages\n",
    "import pandas as pd\n",
    "import numpy as np\n",
    "from IPython.core.interactiveshell import InteractiveShell\n",
    "InteractiveShell.ast_node_interactivity=\"all\"\n",
    "import matplotlib.pyplot as plt\n",
    "import plotly.express as px\n",
    "from nba_api.stats.static import players\n",
    "from nba_api.stats.endpoints import playercareerstats\n",
    "from nba_api.stats.static import teams\n",
    "import plotly.graph_objects as go\n",
    "from geopy.geocoders import Nominatim\n",
    "import statistics"
   ]
  },
  {
   "cell_type": "code",
   "execution_count": 2,
   "id": "4f681688",
   "metadata": {},
   "outputs": [],
   "source": [
    "# get IDs of all players on roster from the NBA API\n",
    "roster=['Charles Barkley','Larry Bird','Clyde Drexler','Patrick Ewing','Magic Johnson', \n",
    "        'Michael Jordan', 'Christian Laettner', 'Karl Malone','Chris Mullin',\n",
    "        'Scottie Pippen', 'David Robinson', 'John Stockton']\n",
    "ID=[]\n",
    "for x in roster:\n",
    "   my_diction=players.find_players_by_full_name(x)[0]\n",
    "   counter = 1\n",
    "   for i in my_diction.values():\n",
    "      if counter == 1:\n",
    "         ID.append(i)\n",
    "      else:\n",
    "         continue\n",
    "      counter +=1"
   ]
  },
  {
   "cell_type": "code",
   "execution_count": 3,
   "id": "2eda6354",
   "metadata": {},
   "outputs": [
    {
     "data": {
      "text/plain": [
       "[787, 1449, 17, 121, 77142, 893, 363, 252, 904, 937, 764, 304]"
      ]
     },
     "execution_count": 3,
     "metadata": {},
     "output_type": "execute_result"
    },
    {
     "data": {
      "text/plain": [
       "12"
      ]
     },
     "execution_count": 3,
     "metadata": {},
     "output_type": "execute_result"
    },
    {
     "data": {
      "text/plain": [
       "list"
      ]
     },
     "execution_count": 3,
     "metadata": {},
     "output_type": "execute_result"
    },
    {
     "data": {
      "text/plain": [
       "int"
      ]
     },
     "execution_count": 3,
     "metadata": {},
     "output_type": "execute_result"
    }
   ],
   "source": [
    "# show information about player IDs\n",
    "ID\n",
    "len(ID)\n",
    "type(ID)\n",
    "type(ID[0])"
   ]
  },
  {
   "cell_type": "code",
   "execution_count": null,
   "id": "f47c43dc",
   "metadata": {},
   "outputs": [],
   "source": [
    "# get career stats dataframes for each player and place them into a single dictionary\n",
    "names=['barkley','bird','drexler','ewing','johnson', 'jordan', 'laettner', 'malone','mullin','pippen', 'robinson', 'stockton']\n",
    "dataframes={}\n",
    "\n",
    "for x,y in zip(ID, names):\n",
    "    career= playercareerstats.PlayerCareerStats(player_id=x)\n",
    "    df=career.get_data_frames()[0]\n",
    "    dataframes[y]=df"
   ]
  },
  {
   "cell_type": "code",
   "execution_count": null,
   "id": "9ca61708",
   "metadata": {},
   "outputs": [],
   "source": [
    "# create individual dataframes for each player from dataframes in dictionary \n",
    "counter = 1\n",
    "for x in dataframes.values():\n",
    "    if counter == 1:\n",
    "        barkley = x\n",
    "    elif counter == 2:\n",
    "        bird = x\n",
    "    elif counter == 3:\n",
    "        drexler = x\n",
    "    elif counter == 4:\n",
    "        ewing = x\n",
    "    elif counter == 5:\n",
    "        johnson = x\n",
    "    elif counter == 6:\n",
    "        jordan = x\n",
    "    elif counter == 7:\n",
    "        laettner = x\n",
    "    elif counter == 8:\n",
    "        malone = x\n",
    "    elif counter == 9:\n",
    "        mullin = x\n",
    "    elif counter == 10:\n",
    "        pippen = x\n",
    "    elif counter == 11:\n",
    "        robinson = x\n",
    "    else:\n",
    "        stockton=x\n",
    "    counter +=1"
   ]
  },
  {
   "cell_type": "code",
   "execution_count": null,
   "id": "2a87a9f5",
   "metadata": {},
   "outputs": [
    {
     "name": "stdout",
     "output_type": "stream",
     "text": [
      "<class 'pandas.core.frame.DataFrame'>\n",
      "RangeIndex: 16 entries, 0 to 15\n",
      "Data columns (total 27 columns):\n",
      " #   Column             Non-Null Count  Dtype  \n",
      "---  ------             --------------  -----  \n",
      " 0   PLAYER_ID          16 non-null     int64  \n",
      " 1   SEASON_ID          16 non-null     object \n",
      " 2   LEAGUE_ID          16 non-null     object \n",
      " 3   TEAM_ID            16 non-null     int64  \n",
      " 4   TEAM_ABBREVIATION  16 non-null     object \n",
      " 5   PLAYER_AGE         16 non-null     float64\n",
      " 6   GP                 16 non-null     int64  \n",
      " 7   GS                 16 non-null     int64  \n",
      " 8   MIN                16 non-null     int64  \n",
      " 9   FGM                16 non-null     int64  \n",
      " 10  FGA                16 non-null     int64  \n",
      " 11  FG_PCT             16 non-null     float64\n",
      " 12  FG3M               16 non-null     int64  \n",
      " 13  FG3A               16 non-null     int64  \n",
      " 14  FG3_PCT            16 non-null     float64\n",
      " 15  FTM                16 non-null     int64  \n",
      " 16  FTA                16 non-null     int64  \n",
      " 17  FT_PCT             16 non-null     float64\n",
      " 18  OREB               16 non-null     int64  \n",
      " 19  DREB               16 non-null     int64  \n",
      " 20  REB                16 non-null     int64  \n",
      " 21  AST                16 non-null     int64  \n",
      " 22  STL                16 non-null     int64  \n",
      " 23  BLK                16 non-null     int64  \n",
      " 24  TOV                16 non-null     int64  \n",
      " 25  PF                 16 non-null     int64  \n",
      " 26  PTS                16 non-null     int64  \n",
      "dtypes: float64(4), int64(20), object(3)\n",
      "memory usage: 3.5+ KB\n",
      "<class 'pandas.core.frame.DataFrame'>\n",
      "RangeIndex: 13 entries, 0 to 12\n",
      "Data columns (total 27 columns):\n",
      " #   Column             Non-Null Count  Dtype  \n",
      "---  ------             --------------  -----  \n",
      " 0   PLAYER_ID          13 non-null     int64  \n",
      " 1   SEASON_ID          13 non-null     object \n",
      " 2   LEAGUE_ID          13 non-null     object \n",
      " 3   TEAM_ID            13 non-null     int64  \n",
      " 4   TEAM_ABBREVIATION  13 non-null     object \n",
      " 5   PLAYER_AGE         13 non-null     float64\n",
      " 6   GP                 13 non-null     int64  \n",
      " 7   GS                 13 non-null     int64  \n",
      " 8   MIN                13 non-null     int64  \n",
      " 9   FGM                13 non-null     int64  \n",
      " 10  FGA                13 non-null     int64  \n",
      " 11  FG_PCT             13 non-null     float64\n",
      " 12  FG3M               13 non-null     int64  \n",
      " 13  FG3A               13 non-null     int64  \n",
      " 14  FG3_PCT            13 non-null     float64\n",
      " 15  FTM                13 non-null     int64  \n",
      " 16  FTA                13 non-null     int64  \n",
      " 17  FT_PCT             13 non-null     float64\n",
      " 18  OREB               13 non-null     int64  \n",
      " 19  DREB               13 non-null     int64  \n",
      " 20  REB                13 non-null     int64  \n",
      " 21  AST                13 non-null     int64  \n",
      " 22  STL                13 non-null     int64  \n",
      " 23  BLK                13 non-null     int64  \n",
      " 24  TOV                13 non-null     int64  \n",
      " 25  PF                 13 non-null     int64  \n",
      " 26  PTS                13 non-null     int64  \n",
      "dtypes: float64(4), int64(20), object(3)\n",
      "memory usage: 2.9+ KB\n",
      "<class 'pandas.core.frame.DataFrame'>\n",
      "RangeIndex: 17 entries, 0 to 16\n",
      "Data columns (total 27 columns):\n",
      " #   Column             Non-Null Count  Dtype  \n",
      "---  ------             --------------  -----  \n",
      " 0   PLAYER_ID          17 non-null     int64  \n",
      " 1   SEASON_ID          17 non-null     object \n",
      " 2   LEAGUE_ID          17 non-null     object \n",
      " 3   TEAM_ID            17 non-null     int64  \n",
      " 4   TEAM_ABBREVIATION  17 non-null     object \n",
      " 5   PLAYER_AGE         17 non-null     float64\n",
      " 6   GP                 17 non-null     int64  \n",
      " 7   GS                 17 non-null     int64  \n",
      " 8   MIN                17 non-null     int64  \n",
      " 9   FGM                17 non-null     int64  \n",
      " 10  FGA                17 non-null     int64  \n",
      " 11  FG_PCT             17 non-null     float64\n",
      " 12  FG3M               17 non-null     int64  \n",
      " 13  FG3A               17 non-null     int64  \n",
      " 14  FG3_PCT            17 non-null     float64\n",
      " 15  FTM                17 non-null     int64  \n",
      " 16  FTA                17 non-null     int64  \n",
      " 17  FT_PCT             17 non-null     float64\n",
      " 18  OREB               17 non-null     int64  \n",
      " 19  DREB               17 non-null     int64  \n",
      " 20  REB                17 non-null     int64  \n",
      " 21  AST                17 non-null     int64  \n",
      " 22  STL                17 non-null     int64  \n",
      " 23  BLK                17 non-null     int64  \n",
      " 24  TOV                17 non-null     int64  \n",
      " 25  PF                 17 non-null     int64  \n",
      " 26  PTS                17 non-null     int64  \n",
      "dtypes: float64(4), int64(20), object(3)\n",
      "memory usage: 3.7+ KB\n",
      "<class 'pandas.core.frame.DataFrame'>\n",
      "RangeIndex: 17 entries, 0 to 16\n",
      "Data columns (total 27 columns):\n",
      " #   Column             Non-Null Count  Dtype  \n",
      "---  ------             --------------  -----  \n",
      " 0   PLAYER_ID          17 non-null     int64  \n",
      " 1   SEASON_ID          17 non-null     object \n",
      " 2   LEAGUE_ID          17 non-null     object \n",
      " 3   TEAM_ID            17 non-null     int64  \n",
      " 4   TEAM_ABBREVIATION  17 non-null     object \n",
      " 5   PLAYER_AGE         17 non-null     float64\n",
      " 6   GP                 17 non-null     int64  \n",
      " 7   GS                 17 non-null     int64  \n",
      " 8   MIN                17 non-null     int64  \n",
      " 9   FGM                17 non-null     int64  \n",
      " 10  FGA                17 non-null     int64  \n",
      " 11  FG_PCT             17 non-null     float64\n",
      " 12  FG3M               17 non-null     int64  \n",
      " 13  FG3A               17 non-null     int64  \n",
      " 14  FG3_PCT            17 non-null     float64\n",
      " 15  FTM                17 non-null     int64  \n",
      " 16  FTA                17 non-null     int64  \n",
      " 17  FT_PCT             17 non-null     float64\n",
      " 18  OREB               17 non-null     int64  \n",
      " 19  DREB               17 non-null     int64  \n",
      " 20  REB                17 non-null     int64  \n",
      " 21  AST                17 non-null     int64  \n",
      " 22  STL                17 non-null     int64  \n",
      " 23  BLK                17 non-null     int64  \n",
      " 24  TOV                17 non-null     int64  \n",
      " 25  PF                 17 non-null     int64  \n",
      " 26  PTS                17 non-null     int64  \n",
      "dtypes: float64(4), int64(20), object(3)\n",
      "memory usage: 3.7+ KB\n",
      "<class 'pandas.core.frame.DataFrame'>\n",
      "RangeIndex: 13 entries, 0 to 12\n",
      "Data columns (total 27 columns):\n",
      " #   Column             Non-Null Count  Dtype  \n",
      "---  ------             --------------  -----  \n",
      " 0   PLAYER_ID          13 non-null     int64  \n",
      " 1   SEASON_ID          13 non-null     object \n",
      " 2   LEAGUE_ID          13 non-null     object \n",
      " 3   TEAM_ID            13 non-null     int64  \n",
      " 4   TEAM_ABBREVIATION  13 non-null     object \n",
      " 5   PLAYER_AGE         13 non-null     float64\n",
      " 6   GP                 13 non-null     int64  \n",
      " 7   GS                 13 non-null     int64  \n",
      " 8   MIN                13 non-null     int64  \n",
      " 9   FGM                13 non-null     int64  \n",
      " 10  FGA                13 non-null     int64  \n",
      " 11  FG_PCT             13 non-null     float64\n",
      " 12  FG3M               13 non-null     int64  \n",
      " 13  FG3A               13 non-null     int64  \n",
      " 14  FG3_PCT            13 non-null     float64\n",
      " 15  FTM                13 non-null     int64  \n",
      " 16  FTA                13 non-null     int64  \n",
      " 17  FT_PCT             13 non-null     float64\n",
      " 18  OREB               13 non-null     int64  \n",
      " 19  DREB               13 non-null     int64  \n",
      " 20  REB                13 non-null     int64  \n",
      " 21  AST                13 non-null     int64  \n",
      " 22  STL                13 non-null     int64  \n",
      " 23  BLK                13 non-null     int64  \n",
      " 24  TOV                13 non-null     int64  \n",
      " 25  PF                 13 non-null     int64  \n",
      " 26  PTS                13 non-null     int64  \n",
      "dtypes: float64(4), int64(20), object(3)\n",
      "memory usage: 2.9+ KB\n",
      "<class 'pandas.core.frame.DataFrame'>\n",
      "RangeIndex: 15 entries, 0 to 14\n",
      "Data columns (total 27 columns):\n",
      " #   Column             Non-Null Count  Dtype  \n",
      "---  ------             --------------  -----  \n",
      " 0   PLAYER_ID          15 non-null     int64  \n",
      " 1   SEASON_ID          15 non-null     object \n",
      " 2   LEAGUE_ID          15 non-null     object \n",
      " 3   TEAM_ID            15 non-null     int64  \n",
      " 4   TEAM_ABBREVIATION  15 non-null     object \n",
      " 5   PLAYER_AGE         15 non-null     float64\n",
      " 6   GP                 15 non-null     int64  \n",
      " 7   GS                 15 non-null     int64  \n",
      " 8   MIN                15 non-null     int64  \n",
      " 9   FGM                15 non-null     int64  \n",
      " 10  FGA                15 non-null     int64  \n",
      " 11  FG_PCT             15 non-null     float64\n",
      " 12  FG3M               15 non-null     int64  \n",
      " 13  FG3A               15 non-null     int64  \n",
      " 14  FG3_PCT            15 non-null     float64\n",
      " 15  FTM                15 non-null     int64  \n",
      " 16  FTA                15 non-null     int64  \n",
      " 17  FT_PCT             15 non-null     float64\n",
      " 18  OREB               15 non-null     int64  \n",
      " 19  DREB               15 non-null     int64  \n",
      " 20  REB                15 non-null     int64  \n",
      " 21  AST                15 non-null     int64  \n",
      " 22  STL                15 non-null     int64  \n",
      " 23  BLK                15 non-null     int64  \n",
      " 24  TOV                15 non-null     int64  \n",
      " 25  PF                 15 non-null     int64  \n",
      " 26  PTS                15 non-null     int64  \n",
      "dtypes: float64(4), int64(20), object(3)\n",
      "memory usage: 3.3+ KB\n",
      "<class 'pandas.core.frame.DataFrame'>\n",
      "RangeIndex: 17 entries, 0 to 16\n",
      "Data columns (total 27 columns):\n",
      " #   Column             Non-Null Count  Dtype  \n",
      "---  ------             --------------  -----  \n",
      " 0   PLAYER_ID          17 non-null     int64  \n",
      " 1   SEASON_ID          17 non-null     object \n",
      " 2   LEAGUE_ID          17 non-null     object \n",
      " 3   TEAM_ID            17 non-null     int64  \n",
      " 4   TEAM_ABBREVIATION  17 non-null     object \n",
      " 5   PLAYER_AGE         17 non-null     float64\n",
      " 6   GP                 17 non-null     int64  \n",
      " 7   GS                 17 non-null     int64  \n",
      " 8   MIN                17 non-null     int64  \n",
      " 9   FGM                17 non-null     int64  \n",
      " 10  FGA                17 non-null     int64  \n",
      " 11  FG_PCT             17 non-null     float64\n",
      " 12  FG3M               17 non-null     int64  \n",
      " 13  FG3A               17 non-null     int64  \n",
      " 14  FG3_PCT            17 non-null     float64\n",
      " 15  FTM                17 non-null     int64  \n",
      " 16  FTA                17 non-null     int64  \n",
      " 17  FT_PCT             17 non-null     float64\n",
      " 18  OREB               17 non-null     int64  \n",
      " 19  DREB               17 non-null     int64  \n",
      " 20  REB                17 non-null     int64  \n",
      " 21  AST                17 non-null     int64  \n",
      " 22  STL                17 non-null     int64  \n",
      " 23  BLK                17 non-null     int64  \n",
      " 24  TOV                17 non-null     int64  \n",
      " 25  PF                 17 non-null     int64  \n",
      " 26  PTS                17 non-null     int64  \n",
      "dtypes: float64(4), int64(20), object(3)\n",
      "memory usage: 3.7+ KB\n",
      "<class 'pandas.core.frame.DataFrame'>\n",
      "RangeIndex: 19 entries, 0 to 18\n",
      "Data columns (total 27 columns):\n",
      " #   Column             Non-Null Count  Dtype  \n",
      "---  ------             --------------  -----  \n",
      " 0   PLAYER_ID          19 non-null     int64  \n",
      " 1   SEASON_ID          19 non-null     object \n",
      " 2   LEAGUE_ID          19 non-null     object \n",
      " 3   TEAM_ID            19 non-null     int64  \n",
      " 4   TEAM_ABBREVIATION  19 non-null     object \n",
      " 5   PLAYER_AGE         19 non-null     float64\n",
      " 6   GP                 19 non-null     int64  \n",
      " 7   GS                 19 non-null     int64  \n",
      " 8   MIN                19 non-null     int64  \n",
      " 9   FGM                19 non-null     int64  \n",
      " 10  FGA                19 non-null     int64  \n",
      " 11  FG_PCT             19 non-null     float64\n",
      " 12  FG3M               19 non-null     int64  \n",
      " 13  FG3A               19 non-null     int64  \n",
      " 14  FG3_PCT            19 non-null     float64\n",
      " 15  FTM                19 non-null     int64  \n",
      " 16  FTA                19 non-null     int64  \n",
      " 17  FT_PCT             19 non-null     float64\n",
      " 18  OREB               19 non-null     int64  \n",
      " 19  DREB               19 non-null     int64  \n",
      " 20  REB                19 non-null     int64  \n",
      " 21  AST                19 non-null     int64  \n",
      " 22  STL                19 non-null     int64  \n",
      " 23  BLK                19 non-null     int64  \n",
      " 24  TOV                19 non-null     int64  \n",
      " 25  PF                 19 non-null     int64  \n",
      " 26  PTS                19 non-null     int64  \n",
      "dtypes: float64(4), int64(20), object(3)\n",
      "memory usage: 4.1+ KB\n",
      "<class 'pandas.core.frame.DataFrame'>\n",
      "RangeIndex: 16 entries, 0 to 15\n",
      "Data columns (total 27 columns):\n",
      " #   Column             Non-Null Count  Dtype  \n",
      "---  ------             --------------  -----  \n",
      " 0   PLAYER_ID          16 non-null     int64  \n",
      " 1   SEASON_ID          16 non-null     object \n",
      " 2   LEAGUE_ID          16 non-null     object \n",
      " 3   TEAM_ID            16 non-null     int64  \n",
      " 4   TEAM_ABBREVIATION  16 non-null     object \n",
      " 5   PLAYER_AGE         16 non-null     float64\n",
      " 6   GP                 16 non-null     int64  \n",
      " 7   GS                 16 non-null     int64  \n",
      " 8   MIN                16 non-null     int64  \n",
      " 9   FGM                16 non-null     int64  \n",
      " 10  FGA                16 non-null     int64  \n",
      " 11  FG_PCT             16 non-null     float64\n",
      " 12  FG3M               16 non-null     int64  \n",
      " 13  FG3A               16 non-null     int64  \n",
      " 14  FG3_PCT            16 non-null     float64\n",
      " 15  FTM                16 non-null     int64  \n",
      " 16  FTA                16 non-null     int64  \n",
      " 17  FT_PCT             16 non-null     float64\n",
      " 18  OREB               16 non-null     int64  \n",
      " 19  DREB               16 non-null     int64  \n",
      " 20  REB                16 non-null     int64  \n",
      " 21  AST                16 non-null     int64  \n",
      " 22  STL                16 non-null     int64  \n",
      " 23  BLK                16 non-null     int64  \n",
      " 24  TOV                16 non-null     int64  \n",
      " 25  PF                 16 non-null     int64  \n",
      " 26  PTS                16 non-null     int64  \n",
      "dtypes: float64(4), int64(20), object(3)\n",
      "memory usage: 3.5+ KB\n",
      "<class 'pandas.core.frame.DataFrame'>\n",
      "RangeIndex: 17 entries, 0 to 16\n",
      "Data columns (total 27 columns):\n",
      " #   Column             Non-Null Count  Dtype  \n",
      "---  ------             --------------  -----  \n",
      " 0   PLAYER_ID          17 non-null     int64  \n",
      " 1   SEASON_ID          17 non-null     object \n",
      " 2   LEAGUE_ID          17 non-null     object \n",
      " 3   TEAM_ID            17 non-null     int64  \n",
      " 4   TEAM_ABBREVIATION  17 non-null     object \n",
      " 5   PLAYER_AGE         17 non-null     float64\n",
      " 6   GP                 17 non-null     int64  \n",
      " 7   GS                 17 non-null     int64  \n",
      " 8   MIN                17 non-null     int64  \n",
      " 9   FGM                17 non-null     int64  \n",
      " 10  FGA                17 non-null     int64  \n",
      " 11  FG_PCT             17 non-null     float64\n",
      " 12  FG3M               17 non-null     int64  \n",
      " 13  FG3A               17 non-null     int64  \n",
      " 14  FG3_PCT            17 non-null     float64\n",
      " 15  FTM                17 non-null     int64  \n",
      " 16  FTA                17 non-null     int64  \n",
      " 17  FT_PCT             17 non-null     float64\n",
      " 18  OREB               17 non-null     int64  \n",
      " 19  DREB               17 non-null     int64  \n",
      " 20  REB                17 non-null     int64  \n",
      " 21  AST                17 non-null     int64  \n",
      " 22  STL                17 non-null     int64  \n",
      " 23  BLK                17 non-null     int64  \n",
      " 24  TOV                17 non-null     int64  \n",
      " 25  PF                 17 non-null     int64  \n",
      " 26  PTS                17 non-null     int64  \n",
      "dtypes: float64(4), int64(20), object(3)\n",
      "memory usage: 3.7+ KB\n",
      "<class 'pandas.core.frame.DataFrame'>\n",
      "RangeIndex: 14 entries, 0 to 13\n",
      "Data columns (total 27 columns):\n",
      " #   Column             Non-Null Count  Dtype  \n",
      "---  ------             --------------  -----  \n",
      " 0   PLAYER_ID          14 non-null     int64  \n",
      " 1   SEASON_ID          14 non-null     object \n",
      " 2   LEAGUE_ID          14 non-null     object \n",
      " 3   TEAM_ID            14 non-null     int64  \n",
      " 4   TEAM_ABBREVIATION  14 non-null     object \n",
      " 5   PLAYER_AGE         14 non-null     float64\n",
      " 6   GP                 14 non-null     int64  \n",
      " 7   GS                 14 non-null     int64  \n",
      " 8   MIN                14 non-null     int64  \n",
      " 9   FGM                14 non-null     int64  \n",
      " 10  FGA                14 non-null     int64  \n",
      " 11  FG_PCT             14 non-null     float64\n",
      " 12  FG3M               14 non-null     int64  \n",
      " 13  FG3A               14 non-null     int64  \n",
      " 14  FG3_PCT            14 non-null     float64\n",
      " 15  FTM                14 non-null     int64  \n",
      " 16  FTA                14 non-null     int64  \n",
      " 17  FT_PCT             14 non-null     float64\n",
      " 18  OREB               14 non-null     int64  \n",
      " 19  DREB               14 non-null     int64  \n",
      " 20  REB                14 non-null     int64  \n",
      " 21  AST                14 non-null     int64  \n",
      " 22  STL                14 non-null     int64  \n",
      " 23  BLK                14 non-null     int64  \n",
      " 24  TOV                14 non-null     int64  \n",
      " 25  PF                 14 non-null     int64  \n",
      " 26  PTS                14 non-null     int64  \n",
      "dtypes: float64(4), int64(20), object(3)\n",
      "memory usage: 3.1+ KB\n",
      "<class 'pandas.core.frame.DataFrame'>\n",
      "RangeIndex: 19 entries, 0 to 18\n",
      "Data columns (total 27 columns):\n",
      " #   Column             Non-Null Count  Dtype  \n",
      "---  ------             --------------  -----  \n",
      " 0   PLAYER_ID          19 non-null     int64  \n",
      " 1   SEASON_ID          19 non-null     object \n",
      " 2   LEAGUE_ID          19 non-null     object \n",
      " 3   TEAM_ID            19 non-null     int64  \n",
      " 4   TEAM_ABBREVIATION  19 non-null     object \n",
      " 5   PLAYER_AGE         19 non-null     float64\n",
      " 6   GP                 19 non-null     int64  \n",
      " 7   GS                 19 non-null     int64  \n",
      " 8   MIN                19 non-null     int64  \n",
      " 9   FGM                19 non-null     int64  \n",
      " 10  FGA                19 non-null     int64  \n",
      " 11  FG_PCT             19 non-null     float64\n",
      " 12  FG3M               19 non-null     int64  \n",
      " 13  FG3A               19 non-null     int64  \n",
      " 14  FG3_PCT            19 non-null     float64\n",
      " 15  FTM                19 non-null     int64  \n",
      " 16  FTA                19 non-null     int64  \n",
      " 17  FT_PCT             19 non-null     float64\n",
      " 18  OREB               19 non-null     int64  \n",
      " 19  DREB               19 non-null     int64  \n",
      " 20  REB                19 non-null     int64  \n",
      " 21  AST                19 non-null     int64  \n",
      " 22  STL                19 non-null     int64  \n",
      " 23  BLK                19 non-null     int64  \n",
      " 24  TOV                19 non-null     int64  \n",
      " 25  PF                 19 non-null     int64  \n",
      " 26  PTS                19 non-null     int64  \n",
      "dtypes: float64(4), int64(20), object(3)\n",
      "memory usage: 4.1+ KB\n",
      "None None None None None None None None None None None None\n"
     ]
    }
   ],
   "source": [
    "# get information about dataframes\n",
    "print(barkley.info(), bird.info(), drexler.info(), ewing.info(),\n",
    "      johnson.info(), jordan.info(), laettner.info(), malone.info(),\n",
    "      mullin.info(), pippen.info(), robinson.info(), stockton.info())"
   ]
  },
  {
   "cell_type": "code",
   "execution_count": null,
   "id": "00d4dc53",
   "metadata": {},
   "outputs": [
    {
     "name": "stdout",
     "output_type": "stream",
     "text": [
      "In the barkley dataframe, there are 0 duplicate season IDs.\n",
      "In the bird dataframe, there are 0 duplicate season IDs.\n",
      "In the drexler dataframe, there are 1 duplicate season IDs.\n",
      "In the ewing dataframe, there are 0 duplicate season IDs.\n",
      "In the johnson dataframe, there are 0 duplicate season IDs.\n",
      "In the jordan dataframe, there are 0 duplicate season IDs.\n",
      "In the laettner dataframe, there are 2 duplicate season IDs.\n",
      "In the malone dataframe, there are 0 duplicate season IDs.\n",
      "In the mullin dataframe, there are 0 duplicate season IDs.\n",
      "In the pippen dataframe, there are 0 duplicate season IDs.\n",
      "In the robinson dataframe, there are 0 duplicate season IDs.\n",
      "In the stockton dataframe, there are 0 duplicate season IDs.\n"
     ]
    }
   ],
   "source": [
    "# check for duplicate season IDs in dataframes (players who might have been traded mid season may have duplicate season IDs)\n",
    "for name in names:\n",
    "    dup=eval(name)['SEASON_ID'].value_counts()>1\n",
    "    dups=sum(dup)\n",
    "    print(f\"In the\", name, \"dataframe, there are\", dups, \"duplicate season IDs.\" )"
   ]
  },
  {
   "cell_type": "code",
   "execution_count": 36,
   "id": "2680ab75",
   "metadata": {},
   "outputs": [
    {
     "data": {
      "application/vnd.plotly.v1+json": {
       "config": {
        "plotlyServerURL": "https://plot.ly"
       },
       "data": [
        {
         "marker": {
          "color": "crimson"
         },
         "type": "bar",
         "x": [
          "Charles Barkley",
          "Larry Bird",
          "Clyde Drexler",
          "Patrick Ewing",
          "Magic Johnson",
          "Michael Jordan",
          "Christian Laettner",
          "Karl Malone",
          "Chris Mullin",
          "Scottie Pippen",
          "David Robinson",
          "John Stockton"
         ],
         "y": [
          16,
          13,
          15,
          17,
          13,
          15,
          13,
          19,
          16,
          17,
          14,
          19
         ]
        }
       ],
       "layout": {
        "plot_bgcolor": "lightgrey",
        "template": {
         "data": {
          "bar": [
           {
            "error_x": {
             "color": "#2a3f5f"
            },
            "error_y": {
             "color": "#2a3f5f"
            },
            "marker": {
             "line": {
              "color": "#E5ECF6",
              "width": 0.5
             },
             "pattern": {
              "fillmode": "overlay",
              "size": 10,
              "solidity": 0.2
             }
            },
            "type": "bar"
           }
          ],
          "barpolar": [
           {
            "marker": {
             "line": {
              "color": "#E5ECF6",
              "width": 0.5
             },
             "pattern": {
              "fillmode": "overlay",
              "size": 10,
              "solidity": 0.2
             }
            },
            "type": "barpolar"
           }
          ],
          "carpet": [
           {
            "aaxis": {
             "endlinecolor": "#2a3f5f",
             "gridcolor": "white",
             "linecolor": "white",
             "minorgridcolor": "white",
             "startlinecolor": "#2a3f5f"
            },
            "baxis": {
             "endlinecolor": "#2a3f5f",
             "gridcolor": "white",
             "linecolor": "white",
             "minorgridcolor": "white",
             "startlinecolor": "#2a3f5f"
            },
            "type": "carpet"
           }
          ],
          "choropleth": [
           {
            "colorbar": {
             "outlinewidth": 0,
             "ticks": ""
            },
            "type": "choropleth"
           }
          ],
          "contour": [
           {
            "colorbar": {
             "outlinewidth": 0,
             "ticks": ""
            },
            "colorscale": [
             [
              0,
              "#0d0887"
             ],
             [
              0.1111111111111111,
              "#46039f"
             ],
             [
              0.2222222222222222,
              "#7201a8"
             ],
             [
              0.3333333333333333,
              "#9c179e"
             ],
             [
              0.4444444444444444,
              "#bd3786"
             ],
             [
              0.5555555555555556,
              "#d8576b"
             ],
             [
              0.6666666666666666,
              "#ed7953"
             ],
             [
              0.7777777777777778,
              "#fb9f3a"
             ],
             [
              0.8888888888888888,
              "#fdca26"
             ],
             [
              1,
              "#f0f921"
             ]
            ],
            "type": "contour"
           }
          ],
          "contourcarpet": [
           {
            "colorbar": {
             "outlinewidth": 0,
             "ticks": ""
            },
            "type": "contourcarpet"
           }
          ],
          "heatmap": [
           {
            "colorbar": {
             "outlinewidth": 0,
             "ticks": ""
            },
            "colorscale": [
             [
              0,
              "#0d0887"
             ],
             [
              0.1111111111111111,
              "#46039f"
             ],
             [
              0.2222222222222222,
              "#7201a8"
             ],
             [
              0.3333333333333333,
              "#9c179e"
             ],
             [
              0.4444444444444444,
              "#bd3786"
             ],
             [
              0.5555555555555556,
              "#d8576b"
             ],
             [
              0.6666666666666666,
              "#ed7953"
             ],
             [
              0.7777777777777778,
              "#fb9f3a"
             ],
             [
              0.8888888888888888,
              "#fdca26"
             ],
             [
              1,
              "#f0f921"
             ]
            ],
            "type": "heatmap"
           }
          ],
          "histogram": [
           {
            "marker": {
             "pattern": {
              "fillmode": "overlay",
              "size": 10,
              "solidity": 0.2
             }
            },
            "type": "histogram"
           }
          ],
          "histogram2d": [
           {
            "colorbar": {
             "outlinewidth": 0,
             "ticks": ""
            },
            "colorscale": [
             [
              0,
              "#0d0887"
             ],
             [
              0.1111111111111111,
              "#46039f"
             ],
             [
              0.2222222222222222,
              "#7201a8"
             ],
             [
              0.3333333333333333,
              "#9c179e"
             ],
             [
              0.4444444444444444,
              "#bd3786"
             ],
             [
              0.5555555555555556,
              "#d8576b"
             ],
             [
              0.6666666666666666,
              "#ed7953"
             ],
             [
              0.7777777777777778,
              "#fb9f3a"
             ],
             [
              0.8888888888888888,
              "#fdca26"
             ],
             [
              1,
              "#f0f921"
             ]
            ],
            "type": "histogram2d"
           }
          ],
          "histogram2dcontour": [
           {
            "colorbar": {
             "outlinewidth": 0,
             "ticks": ""
            },
            "colorscale": [
             [
              0,
              "#0d0887"
             ],
             [
              0.1111111111111111,
              "#46039f"
             ],
             [
              0.2222222222222222,
              "#7201a8"
             ],
             [
              0.3333333333333333,
              "#9c179e"
             ],
             [
              0.4444444444444444,
              "#bd3786"
             ],
             [
              0.5555555555555556,
              "#d8576b"
             ],
             [
              0.6666666666666666,
              "#ed7953"
             ],
             [
              0.7777777777777778,
              "#fb9f3a"
             ],
             [
              0.8888888888888888,
              "#fdca26"
             ],
             [
              1,
              "#f0f921"
             ]
            ],
            "type": "histogram2dcontour"
           }
          ],
          "mesh3d": [
           {
            "colorbar": {
             "outlinewidth": 0,
             "ticks": ""
            },
            "type": "mesh3d"
           }
          ],
          "parcoords": [
           {
            "line": {
             "colorbar": {
              "outlinewidth": 0,
              "ticks": ""
             }
            },
            "type": "parcoords"
           }
          ],
          "pie": [
           {
            "automargin": true,
            "type": "pie"
           }
          ],
          "scatter": [
           {
            "fillpattern": {
             "fillmode": "overlay",
             "size": 10,
             "solidity": 0.2
            },
            "type": "scatter"
           }
          ],
          "scatter3d": [
           {
            "line": {
             "colorbar": {
              "outlinewidth": 0,
              "ticks": ""
             }
            },
            "marker": {
             "colorbar": {
              "outlinewidth": 0,
              "ticks": ""
             }
            },
            "type": "scatter3d"
           }
          ],
          "scattercarpet": [
           {
            "marker": {
             "colorbar": {
              "outlinewidth": 0,
              "ticks": ""
             }
            },
            "type": "scattercarpet"
           }
          ],
          "scattergeo": [
           {
            "marker": {
             "colorbar": {
              "outlinewidth": 0,
              "ticks": ""
             }
            },
            "type": "scattergeo"
           }
          ],
          "scattergl": [
           {
            "marker": {
             "colorbar": {
              "outlinewidth": 0,
              "ticks": ""
             }
            },
            "type": "scattergl"
           }
          ],
          "scattermap": [
           {
            "marker": {
             "colorbar": {
              "outlinewidth": 0,
              "ticks": ""
             }
            },
            "type": "scattermap"
           }
          ],
          "scattermapbox": [
           {
            "marker": {
             "colorbar": {
              "outlinewidth": 0,
              "ticks": ""
             }
            },
            "type": "scattermapbox"
           }
          ],
          "scatterpolar": [
           {
            "marker": {
             "colorbar": {
              "outlinewidth": 0,
              "ticks": ""
             }
            },
            "type": "scatterpolar"
           }
          ],
          "scatterpolargl": [
           {
            "marker": {
             "colorbar": {
              "outlinewidth": 0,
              "ticks": ""
             }
            },
            "type": "scatterpolargl"
           }
          ],
          "scatterternary": [
           {
            "marker": {
             "colorbar": {
              "outlinewidth": 0,
              "ticks": ""
             }
            },
            "type": "scatterternary"
           }
          ],
          "surface": [
           {
            "colorbar": {
             "outlinewidth": 0,
             "ticks": ""
            },
            "colorscale": [
             [
              0,
              "#0d0887"
             ],
             [
              0.1111111111111111,
              "#46039f"
             ],
             [
              0.2222222222222222,
              "#7201a8"
             ],
             [
              0.3333333333333333,
              "#9c179e"
             ],
             [
              0.4444444444444444,
              "#bd3786"
             ],
             [
              0.5555555555555556,
              "#d8576b"
             ],
             [
              0.6666666666666666,
              "#ed7953"
             ],
             [
              0.7777777777777778,
              "#fb9f3a"
             ],
             [
              0.8888888888888888,
              "#fdca26"
             ],
             [
              1,
              "#f0f921"
             ]
            ],
            "type": "surface"
           }
          ],
          "table": [
           {
            "cells": {
             "fill": {
              "color": "#EBF0F8"
             },
             "line": {
              "color": "white"
             }
            },
            "header": {
             "fill": {
              "color": "#C8D4E3"
             },
             "line": {
              "color": "white"
             }
            },
            "type": "table"
           }
          ]
         },
         "layout": {
          "annotationdefaults": {
           "arrowcolor": "#2a3f5f",
           "arrowhead": 0,
           "arrowwidth": 1
          },
          "autotypenumbers": "strict",
          "coloraxis": {
           "colorbar": {
            "outlinewidth": 0,
            "ticks": ""
           }
          },
          "colorscale": {
           "diverging": [
            [
             0,
             "#8e0152"
            ],
            [
             0.1,
             "#c51b7d"
            ],
            [
             0.2,
             "#de77ae"
            ],
            [
             0.3,
             "#f1b6da"
            ],
            [
             0.4,
             "#fde0ef"
            ],
            [
             0.5,
             "#f7f7f7"
            ],
            [
             0.6,
             "#e6f5d0"
            ],
            [
             0.7,
             "#b8e186"
            ],
            [
             0.8,
             "#7fbc41"
            ],
            [
             0.9,
             "#4d9221"
            ],
            [
             1,
             "#276419"
            ]
           ],
           "sequential": [
            [
             0,
             "#0d0887"
            ],
            [
             0.1111111111111111,
             "#46039f"
            ],
            [
             0.2222222222222222,
             "#7201a8"
            ],
            [
             0.3333333333333333,
             "#9c179e"
            ],
            [
             0.4444444444444444,
             "#bd3786"
            ],
            [
             0.5555555555555556,
             "#d8576b"
            ],
            [
             0.6666666666666666,
             "#ed7953"
            ],
            [
             0.7777777777777778,
             "#fb9f3a"
            ],
            [
             0.8888888888888888,
             "#fdca26"
            ],
            [
             1,
             "#f0f921"
            ]
           ],
           "sequentialminus": [
            [
             0,
             "#0d0887"
            ],
            [
             0.1111111111111111,
             "#46039f"
            ],
            [
             0.2222222222222222,
             "#7201a8"
            ],
            [
             0.3333333333333333,
             "#9c179e"
            ],
            [
             0.4444444444444444,
             "#bd3786"
            ],
            [
             0.5555555555555556,
             "#d8576b"
            ],
            [
             0.6666666666666666,
             "#ed7953"
            ],
            [
             0.7777777777777778,
             "#fb9f3a"
            ],
            [
             0.8888888888888888,
             "#fdca26"
            ],
            [
             1,
             "#f0f921"
            ]
           ]
          },
          "colorway": [
           "#636efa",
           "#EF553B",
           "#00cc96",
           "#ab63fa",
           "#FFA15A",
           "#19d3f3",
           "#FF6692",
           "#B6E880",
           "#FF97FF",
           "#FECB52"
          ],
          "font": {
           "color": "#2a3f5f"
          },
          "geo": {
           "bgcolor": "white",
           "lakecolor": "white",
           "landcolor": "#E5ECF6",
           "showlakes": true,
           "showland": true,
           "subunitcolor": "white"
          },
          "hoverlabel": {
           "align": "left"
          },
          "hovermode": "closest",
          "mapbox": {
           "style": "light"
          },
          "paper_bgcolor": "white",
          "plot_bgcolor": "#E5ECF6",
          "polar": {
           "angularaxis": {
            "gridcolor": "white",
            "linecolor": "white",
            "ticks": ""
           },
           "bgcolor": "#E5ECF6",
           "radialaxis": {
            "gridcolor": "white",
            "linecolor": "white",
            "ticks": ""
           }
          },
          "scene": {
           "xaxis": {
            "backgroundcolor": "#E5ECF6",
            "gridcolor": "white",
            "gridwidth": 2,
            "linecolor": "white",
            "showbackground": true,
            "ticks": "",
            "zerolinecolor": "white"
           },
           "yaxis": {
            "backgroundcolor": "#E5ECF6",
            "gridcolor": "white",
            "gridwidth": 2,
            "linecolor": "white",
            "showbackground": true,
            "ticks": "",
            "zerolinecolor": "white"
           },
           "zaxis": {
            "backgroundcolor": "#E5ECF6",
            "gridcolor": "white",
            "gridwidth": 2,
            "linecolor": "white",
            "showbackground": true,
            "ticks": "",
            "zerolinecolor": "white"
           }
          },
          "shapedefaults": {
           "line": {
            "color": "#2a3f5f"
           }
          },
          "ternary": {
           "aaxis": {
            "gridcolor": "white",
            "linecolor": "white",
            "ticks": ""
           },
           "baxis": {
            "gridcolor": "white",
            "linecolor": "white",
            "ticks": ""
           },
           "bgcolor": "#E5ECF6",
           "caxis": {
            "gridcolor": "white",
            "linecolor": "white",
            "ticks": ""
           }
          },
          "title": {
           "x": 0.05
          },
          "xaxis": {
           "automargin": true,
           "gridcolor": "white",
           "linecolor": "white",
           "ticks": "",
           "title": {
            "standoff": 15
           },
           "zerolinecolor": "white",
           "zerolinewidth": 2
          },
          "yaxis": {
           "automargin": true,
           "gridcolor": "white",
           "linecolor": "white",
           "ticks": "",
           "title": {
            "standoff": 15
           },
           "zerolinecolor": "white",
           "zerolinewidth": 2
          }
         }
        },
        "title": {
         "text": "Number of seasons played during NBA career, by player"
        },
        "xaxis": {
         "title": {
          "text": "Player"
         }
        },
        "yaxis": {
         "title": {
          "text": "Number of NBA seasons"
         }
        }
       }
      }
     },
     "metadata": {},
     "output_type": "display_data"
    }
   ],
   "source": [
    "# bar chart of the number of seasons played for each player\n",
    "season_num=[]\n",
    "for dataframe in dataframes.values():\n",
    "    season_num.append(dataframe['SEASON_ID'].value_counts().shape[0])\n",
    "\n",
    "bar_trace = go.Bar(x=roster, y=season_num)\n",
    "fig=go.Figure(data=[bar_trace]).update_layout(title='Number of seasons played during NBA career, by player', \n",
    "                                              xaxis_title='Player', \n",
    "                                              yaxis_title='Number of NBA seasons', plot_bgcolor='lightgrey').update_traces(marker_color='crimson')\n",
    "fig.show()"
   ]
  },
  {
   "cell_type": "code",
   "execution_count": null,
   "id": "d5f5845d",
   "metadata": {},
   "outputs": [
    {
     "name": "stdout",
     "output_type": "stream",
     "text": [
      "<class 'pandas.core.frame.DataFrame'>\n",
      "RangeIndex: 193 entries, 0 to 192\n",
      "Data columns (total 28 columns):\n",
      " #   Column             Non-Null Count  Dtype  \n",
      "---  ------             --------------  -----  \n",
      " 0   PLAYER_ID          193 non-null    int64  \n",
      " 1   SEASON_ID          193 non-null    object \n",
      " 2   LEAGUE_ID          193 non-null    object \n",
      " 3   TEAM_ID            193 non-null    int64  \n",
      " 4   TEAM_ABBREVIATION  193 non-null    object \n",
      " 5   PLAYER_AGE         193 non-null    float64\n",
      " 6   GP                 193 non-null    int64  \n",
      " 7   GS                 193 non-null    int64  \n",
      " 8   MIN                193 non-null    int64  \n",
      " 9   FGM                193 non-null    int64  \n",
      " 10  FGA                193 non-null    int64  \n",
      " 11  FG_PCT             193 non-null    float64\n",
      " 12  FG3M               193 non-null    int64  \n",
      " 13  FG3A               193 non-null    int64  \n",
      " 14  FG3_PCT            193 non-null    float64\n",
      " 15  FTM                193 non-null    int64  \n",
      " 16  FTA                193 non-null    int64  \n",
      " 17  FT_PCT             193 non-null    float64\n",
      " 18  OREB               193 non-null    int64  \n",
      " 19  DREB               193 non-null    int64  \n",
      " 20  REB                193 non-null    int64  \n",
      " 21  AST                193 non-null    int64  \n",
      " 22  STL                193 non-null    int64  \n",
      " 23  BLK                193 non-null    int64  \n",
      " 24  TOV                193 non-null    int64  \n",
      " 25  PF                 193 non-null    int64  \n",
      " 26  PTS                193 non-null    int64  \n",
      " 27  Name               193 non-null    object \n",
      "dtypes: float64(4), int64(20), object(4)\n",
      "memory usage: 42.3+ KB\n"
     ]
    },
    {
     "data": {
      "text/html": [
       "<div>\n",
       "<style scoped>\n",
       "    .dataframe tbody tr th:only-of-type {\n",
       "        vertical-align: middle;\n",
       "    }\n",
       "\n",
       "    .dataframe tbody tr th {\n",
       "        vertical-align: top;\n",
       "    }\n",
       "\n",
       "    .dataframe thead th {\n",
       "        text-align: right;\n",
       "    }\n",
       "</style>\n",
       "<table border=\"1\" class=\"dataframe\">\n",
       "  <thead>\n",
       "    <tr style=\"text-align: right;\">\n",
       "      <th></th>\n",
       "      <th>PLAYER_ID</th>\n",
       "      <th>SEASON_ID</th>\n",
       "      <th>LEAGUE_ID</th>\n",
       "      <th>TEAM_ID</th>\n",
       "      <th>TEAM_ABBREVIATION</th>\n",
       "      <th>PLAYER_AGE</th>\n",
       "      <th>GP</th>\n",
       "      <th>GS</th>\n",
       "      <th>MIN</th>\n",
       "      <th>FGM</th>\n",
       "      <th>...</th>\n",
       "      <th>OREB</th>\n",
       "      <th>DREB</th>\n",
       "      <th>REB</th>\n",
       "      <th>AST</th>\n",
       "      <th>STL</th>\n",
       "      <th>BLK</th>\n",
       "      <th>TOV</th>\n",
       "      <th>PF</th>\n",
       "      <th>PTS</th>\n",
       "      <th>Name</th>\n",
       "    </tr>\n",
       "  </thead>\n",
       "  <tbody>\n",
       "    <tr>\n",
       "      <th>0</th>\n",
       "      <td>787</td>\n",
       "      <td>1984-85</td>\n",
       "      <td>00</td>\n",
       "      <td>1610612755</td>\n",
       "      <td>PHL</td>\n",
       "      <td>22.0</td>\n",
       "      <td>82</td>\n",
       "      <td>60</td>\n",
       "      <td>2347</td>\n",
       "      <td>427</td>\n",
       "      <td>...</td>\n",
       "      <td>266</td>\n",
       "      <td>437</td>\n",
       "      <td>703</td>\n",
       "      <td>155</td>\n",
       "      <td>95</td>\n",
       "      <td>80</td>\n",
       "      <td>209</td>\n",
       "      <td>301</td>\n",
       "      <td>1148</td>\n",
       "      <td>Charles Barkley</td>\n",
       "    </tr>\n",
       "    <tr>\n",
       "      <th>1</th>\n",
       "      <td>787</td>\n",
       "      <td>1985-86</td>\n",
       "      <td>00</td>\n",
       "      <td>1610612755</td>\n",
       "      <td>PHL</td>\n",
       "      <td>23.0</td>\n",
       "      <td>80</td>\n",
       "      <td>80</td>\n",
       "      <td>2952</td>\n",
       "      <td>595</td>\n",
       "      <td>...</td>\n",
       "      <td>354</td>\n",
       "      <td>672</td>\n",
       "      <td>1026</td>\n",
       "      <td>312</td>\n",
       "      <td>173</td>\n",
       "      <td>125</td>\n",
       "      <td>350</td>\n",
       "      <td>333</td>\n",
       "      <td>1603</td>\n",
       "      <td>Charles Barkley</td>\n",
       "    </tr>\n",
       "    <tr>\n",
       "      <th>2</th>\n",
       "      <td>787</td>\n",
       "      <td>1986-87</td>\n",
       "      <td>00</td>\n",
       "      <td>1610612755</td>\n",
       "      <td>PHL</td>\n",
       "      <td>24.0</td>\n",
       "      <td>68</td>\n",
       "      <td>62</td>\n",
       "      <td>2740</td>\n",
       "      <td>557</td>\n",
       "      <td>...</td>\n",
       "      <td>390</td>\n",
       "      <td>604</td>\n",
       "      <td>994</td>\n",
       "      <td>331</td>\n",
       "      <td>119</td>\n",
       "      <td>104</td>\n",
       "      <td>322</td>\n",
       "      <td>252</td>\n",
       "      <td>1564</td>\n",
       "      <td>Charles Barkley</td>\n",
       "    </tr>\n",
       "    <tr>\n",
       "      <th>3</th>\n",
       "      <td>787</td>\n",
       "      <td>1987-88</td>\n",
       "      <td>00</td>\n",
       "      <td>1610612755</td>\n",
       "      <td>PHL</td>\n",
       "      <td>25.0</td>\n",
       "      <td>80</td>\n",
       "      <td>80</td>\n",
       "      <td>3170</td>\n",
       "      <td>753</td>\n",
       "      <td>...</td>\n",
       "      <td>385</td>\n",
       "      <td>566</td>\n",
       "      <td>951</td>\n",
       "      <td>254</td>\n",
       "      <td>100</td>\n",
       "      <td>103</td>\n",
       "      <td>304</td>\n",
       "      <td>278</td>\n",
       "      <td>2264</td>\n",
       "      <td>Charles Barkley</td>\n",
       "    </tr>\n",
       "    <tr>\n",
       "      <th>4</th>\n",
       "      <td>787</td>\n",
       "      <td>1988-89</td>\n",
       "      <td>00</td>\n",
       "      <td>1610612755</td>\n",
       "      <td>PHL</td>\n",
       "      <td>26.0</td>\n",
       "      <td>79</td>\n",
       "      <td>79</td>\n",
       "      <td>3088</td>\n",
       "      <td>700</td>\n",
       "      <td>...</td>\n",
       "      <td>403</td>\n",
       "      <td>583</td>\n",
       "      <td>986</td>\n",
       "      <td>325</td>\n",
       "      <td>126</td>\n",
       "      <td>67</td>\n",
       "      <td>254</td>\n",
       "      <td>262</td>\n",
       "      <td>2037</td>\n",
       "      <td>Charles Barkley</td>\n",
       "    </tr>\n",
       "  </tbody>\n",
       "</table>\n",
       "<p>5 rows × 28 columns</p>\n",
       "</div>"
      ],
      "text/plain": [
       "   PLAYER_ID SEASON_ID LEAGUE_ID     TEAM_ID TEAM_ABBREVIATION  PLAYER_AGE  \\\n",
       "0        787   1984-85        00  1610612755               PHL        22.0   \n",
       "1        787   1985-86        00  1610612755               PHL        23.0   \n",
       "2        787   1986-87        00  1610612755               PHL        24.0   \n",
       "3        787   1987-88        00  1610612755               PHL        25.0   \n",
       "4        787   1988-89        00  1610612755               PHL        26.0   \n",
       "\n",
       "   GP  GS   MIN  FGM  ...  OREB  DREB   REB  AST  STL  BLK  TOV   PF   PTS  \\\n",
       "0  82  60  2347  427  ...   266   437   703  155   95   80  209  301  1148   \n",
       "1  80  80  2952  595  ...   354   672  1026  312  173  125  350  333  1603   \n",
       "2  68  62  2740  557  ...   390   604   994  331  119  104  322  252  1564   \n",
       "3  80  80  3170  753  ...   385   566   951  254  100  103  304  278  2264   \n",
       "4  79  79  3088  700  ...   403   583   986  325  126   67  254  262  2037   \n",
       "\n",
       "              Name  \n",
       "0  Charles Barkley  \n",
       "1  Charles Barkley  \n",
       "2  Charles Barkley  \n",
       "3  Charles Barkley  \n",
       "4  Charles Barkley  \n",
       "\n",
       "[5 rows x 28 columns]"
      ]
     },
     "execution_count": 9,
     "metadata": {},
     "output_type": "execute_result"
    },
    {
     "data": {
      "text/html": [
       "<div>\n",
       "<style scoped>\n",
       "    .dataframe tbody tr th:only-of-type {\n",
       "        vertical-align: middle;\n",
       "    }\n",
       "\n",
       "    .dataframe tbody tr th {\n",
       "        vertical-align: top;\n",
       "    }\n",
       "\n",
       "    .dataframe thead th {\n",
       "        text-align: right;\n",
       "    }\n",
       "</style>\n",
       "<table border=\"1\" class=\"dataframe\">\n",
       "  <thead>\n",
       "    <tr style=\"text-align: right;\">\n",
       "      <th></th>\n",
       "      <th>PLAYER_ID</th>\n",
       "      <th>SEASON_ID</th>\n",
       "      <th>LEAGUE_ID</th>\n",
       "      <th>TEAM_ID</th>\n",
       "      <th>TEAM_ABBREVIATION</th>\n",
       "      <th>PLAYER_AGE</th>\n",
       "      <th>GP</th>\n",
       "      <th>GS</th>\n",
       "      <th>MIN</th>\n",
       "      <th>FGM</th>\n",
       "      <th>...</th>\n",
       "      <th>OREB</th>\n",
       "      <th>DREB</th>\n",
       "      <th>REB</th>\n",
       "      <th>AST</th>\n",
       "      <th>STL</th>\n",
       "      <th>BLK</th>\n",
       "      <th>TOV</th>\n",
       "      <th>PF</th>\n",
       "      <th>PTS</th>\n",
       "      <th>Name</th>\n",
       "    </tr>\n",
       "  </thead>\n",
       "  <tbody>\n",
       "    <tr>\n",
       "      <th>188</th>\n",
       "      <td>304</td>\n",
       "      <td>1998-99</td>\n",
       "      <td>00</td>\n",
       "      <td>1610612762</td>\n",
       "      <td>UTA</td>\n",
       "      <td>37.0</td>\n",
       "      <td>50</td>\n",
       "      <td>50</td>\n",
       "      <td>1410</td>\n",
       "      <td>200</td>\n",
       "      <td>...</td>\n",
       "      <td>31</td>\n",
       "      <td>115</td>\n",
       "      <td>146</td>\n",
       "      <td>374</td>\n",
       "      <td>81</td>\n",
       "      <td>13</td>\n",
       "      <td>110</td>\n",
       "      <td>107</td>\n",
       "      <td>553</td>\n",
       "      <td>John Stockton</td>\n",
       "    </tr>\n",
       "    <tr>\n",
       "      <th>189</th>\n",
       "      <td>304</td>\n",
       "      <td>1999-00</td>\n",
       "      <td>00</td>\n",
       "      <td>1610612762</td>\n",
       "      <td>UTA</td>\n",
       "      <td>38.0</td>\n",
       "      <td>82</td>\n",
       "      <td>82</td>\n",
       "      <td>2432</td>\n",
       "      <td>363</td>\n",
       "      <td>...</td>\n",
       "      <td>45</td>\n",
       "      <td>170</td>\n",
       "      <td>215</td>\n",
       "      <td>703</td>\n",
       "      <td>143</td>\n",
       "      <td>15</td>\n",
       "      <td>179</td>\n",
       "      <td>192</td>\n",
       "      <td>990</td>\n",
       "      <td>John Stockton</td>\n",
       "    </tr>\n",
       "    <tr>\n",
       "      <th>190</th>\n",
       "      <td>304</td>\n",
       "      <td>2000-01</td>\n",
       "      <td>00</td>\n",
       "      <td>1610612762</td>\n",
       "      <td>UTA</td>\n",
       "      <td>39.0</td>\n",
       "      <td>82</td>\n",
       "      <td>82</td>\n",
       "      <td>2397</td>\n",
       "      <td>328</td>\n",
       "      <td>...</td>\n",
       "      <td>54</td>\n",
       "      <td>173</td>\n",
       "      <td>227</td>\n",
       "      <td>713</td>\n",
       "      <td>132</td>\n",
       "      <td>21</td>\n",
       "      <td>203</td>\n",
       "      <td>194</td>\n",
       "      <td>944</td>\n",
       "      <td>John Stockton</td>\n",
       "    </tr>\n",
       "    <tr>\n",
       "      <th>191</th>\n",
       "      <td>304</td>\n",
       "      <td>2001-02</td>\n",
       "      <td>00</td>\n",
       "      <td>1610612762</td>\n",
       "      <td>UTA</td>\n",
       "      <td>40.0</td>\n",
       "      <td>82</td>\n",
       "      <td>82</td>\n",
       "      <td>2570</td>\n",
       "      <td>401</td>\n",
       "      <td>...</td>\n",
       "      <td>59</td>\n",
       "      <td>204</td>\n",
       "      <td>263</td>\n",
       "      <td>674</td>\n",
       "      <td>152</td>\n",
       "      <td>24</td>\n",
       "      <td>208</td>\n",
       "      <td>209</td>\n",
       "      <td>1102</td>\n",
       "      <td>John Stockton</td>\n",
       "    </tr>\n",
       "    <tr>\n",
       "      <th>192</th>\n",
       "      <td>304</td>\n",
       "      <td>2002-03</td>\n",
       "      <td>00</td>\n",
       "      <td>1610612762</td>\n",
       "      <td>UTA</td>\n",
       "      <td>41.0</td>\n",
       "      <td>82</td>\n",
       "      <td>82</td>\n",
       "      <td>2275</td>\n",
       "      <td>309</td>\n",
       "      <td>...</td>\n",
       "      <td>51</td>\n",
       "      <td>150</td>\n",
       "      <td>201</td>\n",
       "      <td>629</td>\n",
       "      <td>137</td>\n",
       "      <td>16</td>\n",
       "      <td>182</td>\n",
       "      <td>184</td>\n",
       "      <td>884</td>\n",
       "      <td>John Stockton</td>\n",
       "    </tr>\n",
       "  </tbody>\n",
       "</table>\n",
       "<p>5 rows × 28 columns</p>\n",
       "</div>"
      ],
      "text/plain": [
       "     PLAYER_ID SEASON_ID LEAGUE_ID     TEAM_ID TEAM_ABBREVIATION  PLAYER_AGE  \\\n",
       "188        304   1998-99        00  1610612762               UTA        37.0   \n",
       "189        304   1999-00        00  1610612762               UTA        38.0   \n",
       "190        304   2000-01        00  1610612762               UTA        39.0   \n",
       "191        304   2001-02        00  1610612762               UTA        40.0   \n",
       "192        304   2002-03        00  1610612762               UTA        41.0   \n",
       "\n",
       "     GP  GS   MIN  FGM  ...  OREB  DREB  REB  AST  STL  BLK  TOV   PF   PTS  \\\n",
       "188  50  50  1410  200  ...    31   115  146  374   81   13  110  107   553   \n",
       "189  82  82  2432  363  ...    45   170  215  703  143   15  179  192   990   \n",
       "190  82  82  2397  328  ...    54   173  227  713  132   21  203  194   944   \n",
       "191  82  82  2570  401  ...    59   204  263  674  152   24  208  209  1102   \n",
       "192  82  82  2275  309  ...    51   150  201  629  137   16  182  184   884   \n",
       "\n",
       "              Name  \n",
       "188  John Stockton  \n",
       "189  John Stockton  \n",
       "190  John Stockton  \n",
       "191  John Stockton  \n",
       "192  John Stockton  \n",
       "\n",
       "[5 rows x 28 columns]"
      ]
     },
     "execution_count": 9,
     "metadata": {},
     "output_type": "execute_result"
    }
   ],
   "source": [
    "# create scattermap of locations of teams that players played for during NBA career\n",
    "barkley['Name']='Charles Barkley'\n",
    "bird['Name']='Larry Bird'\n",
    "drexler['Name']='Clyde Drexler'\n",
    "ewing['Name']='Patrick Ewing'\n",
    "johnson['Name']='Magic Johnson'\n",
    "jordan['Name']='Michael Jordan'\n",
    "laettner['Name']='Christian Laettner'\n",
    "malone['Name']='Karl Malone'\n",
    "mullin['Name']='Chris Mullin'\n",
    "pippen['Name']='Scottie Pippen'\n",
    "robinson['Name']='David Robinson'\n",
    "stockton['Name']='John Stockton'\n",
    "df_all=pd.concat([barkley, bird, drexler, ewing,\n",
    "                  johnson, jordan, laettner, malone,\n",
    "                  mullin, pippen, robinson, stockton], axis=0).reset_index(drop=True)\n",
    "df_all.info()\n",
    "df_all.head()\n",
    "df_all.tail()"
   ]
  },
  {
   "cell_type": "code",
   "execution_count": null,
   "id": "dbc918d1",
   "metadata": {},
   "outputs": [],
   "source": [
    "# create variables for dataframe to be used for mapping teams and cities\n",
    "Name=[]\n",
    "Team_Abbreviation=[]\n",
    "Team_Name=[]\n",
    "City=[]\n",
    "State=[]\n",
    "\n",
    "for x in roster:\n",
    "    test_series=df_all['TEAM_ABBREVIATION'][df_all['Name']==x].value_counts()\n",
    "    test_list=list(test_series.index)\n",
    "    for y in test_list:\n",
    "        Name.append(x)\n",
    "        Team_Abbreviation.append(y)\n",
    "        a=teams.find_team_by_abbreviation(y)\n",
    "        if a is None:\n",
    "            Team_Name.append(np.nan)\n",
    "            City.append(np.nan)\n",
    "            State.append(np.nan)\n",
    "        else:\n",
    "            Team_Name.append(a['full_name'])\n",
    "            City.append(a['city'])\n",
    "            State.append(a['state'])   \n",
    "            "
   ]
  },
  {
   "cell_type": "code",
   "execution_count": null,
   "id": "f90831c1",
   "metadata": {},
   "outputs": [
    {
     "data": {
      "text/html": [
       "<div>\n",
       "<style scoped>\n",
       "    .dataframe tbody tr th:only-of-type {\n",
       "        vertical-align: middle;\n",
       "    }\n",
       "\n",
       "    .dataframe tbody tr th {\n",
       "        vertical-align: top;\n",
       "    }\n",
       "\n",
       "    .dataframe thead th {\n",
       "        text-align: right;\n",
       "    }\n",
       "</style>\n",
       "<table border=\"1\" class=\"dataframe\">\n",
       "  <thead>\n",
       "    <tr style=\"text-align: right;\">\n",
       "      <th></th>\n",
       "      <th>Name</th>\n",
       "      <th>Team_Abbreviation</th>\n",
       "      <th>Team_Name</th>\n",
       "      <th>City</th>\n",
       "      <th>State</th>\n",
       "    </tr>\n",
       "  </thead>\n",
       "  <tbody>\n",
       "    <tr>\n",
       "      <th>0</th>\n",
       "      <td>Charles Barkley</td>\n",
       "      <td>PHL</td>\n",
       "      <td>NaN</td>\n",
       "      <td>NaN</td>\n",
       "      <td>NaN</td>\n",
       "    </tr>\n",
       "    <tr>\n",
       "      <th>1</th>\n",
       "      <td>Charles Barkley</td>\n",
       "      <td>PHX</td>\n",
       "      <td>Phoenix Suns</td>\n",
       "      <td>Phoenix</td>\n",
       "      <td>Arizona</td>\n",
       "    </tr>\n",
       "    <tr>\n",
       "      <th>2</th>\n",
       "      <td>Charles Barkley</td>\n",
       "      <td>HOU</td>\n",
       "      <td>Houston Rockets</td>\n",
       "      <td>Houston</td>\n",
       "      <td>Texas</td>\n",
       "    </tr>\n",
       "    <tr>\n",
       "      <th>3</th>\n",
       "      <td>Larry Bird</td>\n",
       "      <td>BOS</td>\n",
       "      <td>Boston Celtics</td>\n",
       "      <td>Boston</td>\n",
       "      <td>Massachusetts</td>\n",
       "    </tr>\n",
       "    <tr>\n",
       "      <th>4</th>\n",
       "      <td>Clyde Drexler</td>\n",
       "      <td>POR</td>\n",
       "      <td>Portland Trail Blazers</td>\n",
       "      <td>Portland</td>\n",
       "      <td>Oregon</td>\n",
       "    </tr>\n",
       "    <tr>\n",
       "      <th>5</th>\n",
       "      <td>Clyde Drexler</td>\n",
       "      <td>HOU</td>\n",
       "      <td>Houston Rockets</td>\n",
       "      <td>Houston</td>\n",
       "      <td>Texas</td>\n",
       "    </tr>\n",
       "    <tr>\n",
       "      <th>6</th>\n",
       "      <td>Clyde Drexler</td>\n",
       "      <td>TOT</td>\n",
       "      <td>NaN</td>\n",
       "      <td>NaN</td>\n",
       "      <td>NaN</td>\n",
       "    </tr>\n",
       "    <tr>\n",
       "      <th>7</th>\n",
       "      <td>Patrick Ewing</td>\n",
       "      <td>NYK</td>\n",
       "      <td>New York Knicks</td>\n",
       "      <td>New York</td>\n",
       "      <td>New York</td>\n",
       "    </tr>\n",
       "    <tr>\n",
       "      <th>8</th>\n",
       "      <td>Patrick Ewing</td>\n",
       "      <td>SEA</td>\n",
       "      <td>NaN</td>\n",
       "      <td>NaN</td>\n",
       "      <td>NaN</td>\n",
       "    </tr>\n",
       "    <tr>\n",
       "      <th>9</th>\n",
       "      <td>Patrick Ewing</td>\n",
       "      <td>ORL</td>\n",
       "      <td>Orlando Magic</td>\n",
       "      <td>Orlando</td>\n",
       "      <td>Florida</td>\n",
       "    </tr>\n",
       "    <tr>\n",
       "      <th>10</th>\n",
       "      <td>Magic Johnson</td>\n",
       "      <td>LAL</td>\n",
       "      <td>Los Angeles Lakers</td>\n",
       "      <td>Los Angeles</td>\n",
       "      <td>California</td>\n",
       "    </tr>\n",
       "    <tr>\n",
       "      <th>11</th>\n",
       "      <td>Michael Jordan</td>\n",
       "      <td>CHI</td>\n",
       "      <td>Chicago Bulls</td>\n",
       "      <td>Chicago</td>\n",
       "      <td>Illinois</td>\n",
       "    </tr>\n",
       "    <tr>\n",
       "      <th>12</th>\n",
       "      <td>Michael Jordan</td>\n",
       "      <td>WAS</td>\n",
       "      <td>Washington Wizards</td>\n",
       "      <td>Washington</td>\n",
       "      <td>District of Columbia</td>\n",
       "    </tr>\n",
       "    <tr>\n",
       "      <th>13</th>\n",
       "      <td>Christian Laettner</td>\n",
       "      <td>MIN</td>\n",
       "      <td>Minnesota Timberwolves</td>\n",
       "      <td>Minnesota</td>\n",
       "      <td>Minnesota</td>\n",
       "    </tr>\n",
       "    <tr>\n",
       "      <th>14</th>\n",
       "      <td>Christian Laettner</td>\n",
       "      <td>WAS</td>\n",
       "      <td>Washington Wizards</td>\n",
       "      <td>Washington</td>\n",
       "      <td>District of Columbia</td>\n",
       "    </tr>\n",
       "    <tr>\n",
       "      <th>15</th>\n",
       "      <td>Christian Laettner</td>\n",
       "      <td>ATL</td>\n",
       "      <td>Atlanta Hawks</td>\n",
       "      <td>Atlanta</td>\n",
       "      <td>Georgia</td>\n",
       "    </tr>\n",
       "    <tr>\n",
       "      <th>16</th>\n",
       "      <td>Christian Laettner</td>\n",
       "      <td>TOT</td>\n",
       "      <td>NaN</td>\n",
       "      <td>NaN</td>\n",
       "      <td>NaN</td>\n",
       "    </tr>\n",
       "    <tr>\n",
       "      <th>17</th>\n",
       "      <td>Christian Laettner</td>\n",
       "      <td>DET</td>\n",
       "      <td>Detroit Pistons</td>\n",
       "      <td>Detroit</td>\n",
       "      <td>Michigan</td>\n",
       "    </tr>\n",
       "    <tr>\n",
       "      <th>18</th>\n",
       "      <td>Christian Laettner</td>\n",
       "      <td>DAL</td>\n",
       "      <td>Dallas Mavericks</td>\n",
       "      <td>Dallas</td>\n",
       "      <td>Texas</td>\n",
       "    </tr>\n",
       "    <tr>\n",
       "      <th>19</th>\n",
       "      <td>Christian Laettner</td>\n",
       "      <td>MIA</td>\n",
       "      <td>Miami Heat</td>\n",
       "      <td>Miami</td>\n",
       "      <td>Florida</td>\n",
       "    </tr>\n",
       "    <tr>\n",
       "      <th>20</th>\n",
       "      <td>Karl Malone</td>\n",
       "      <td>UTH</td>\n",
       "      <td>NaN</td>\n",
       "      <td>NaN</td>\n",
       "      <td>NaN</td>\n",
       "    </tr>\n",
       "    <tr>\n",
       "      <th>21</th>\n",
       "      <td>Karl Malone</td>\n",
       "      <td>UTA</td>\n",
       "      <td>Utah Jazz</td>\n",
       "      <td>Utah</td>\n",
       "      <td>Utah</td>\n",
       "    </tr>\n",
       "    <tr>\n",
       "      <th>22</th>\n",
       "      <td>Karl Malone</td>\n",
       "      <td>LAL</td>\n",
       "      <td>Los Angeles Lakers</td>\n",
       "      <td>Los Angeles</td>\n",
       "      <td>California</td>\n",
       "    </tr>\n",
       "    <tr>\n",
       "      <th>23</th>\n",
       "      <td>Chris Mullin</td>\n",
       "      <td>GOS</td>\n",
       "      <td>NaN</td>\n",
       "      <td>NaN</td>\n",
       "      <td>NaN</td>\n",
       "    </tr>\n",
       "    <tr>\n",
       "      <th>24</th>\n",
       "      <td>Chris Mullin</td>\n",
       "      <td>IND</td>\n",
       "      <td>Indiana Pacers</td>\n",
       "      <td>Indiana</td>\n",
       "      <td>Indiana</td>\n",
       "    </tr>\n",
       "    <tr>\n",
       "      <th>25</th>\n",
       "      <td>Chris Mullin</td>\n",
       "      <td>GSW</td>\n",
       "      <td>Golden State Warriors</td>\n",
       "      <td>Golden State</td>\n",
       "      <td>California</td>\n",
       "    </tr>\n",
       "    <tr>\n",
       "      <th>26</th>\n",
       "      <td>Scottie Pippen</td>\n",
       "      <td>CHI</td>\n",
       "      <td>Chicago Bulls</td>\n",
       "      <td>Chicago</td>\n",
       "      <td>Illinois</td>\n",
       "    </tr>\n",
       "    <tr>\n",
       "      <th>27</th>\n",
       "      <td>Scottie Pippen</td>\n",
       "      <td>POR</td>\n",
       "      <td>Portland Trail Blazers</td>\n",
       "      <td>Portland</td>\n",
       "      <td>Oregon</td>\n",
       "    </tr>\n",
       "    <tr>\n",
       "      <th>28</th>\n",
       "      <td>Scottie Pippen</td>\n",
       "      <td>HOU</td>\n",
       "      <td>Houston Rockets</td>\n",
       "      <td>Houston</td>\n",
       "      <td>Texas</td>\n",
       "    </tr>\n",
       "    <tr>\n",
       "      <th>29</th>\n",
       "      <td>David Robinson</td>\n",
       "      <td>SAN</td>\n",
       "      <td>NaN</td>\n",
       "      <td>NaN</td>\n",
       "      <td>NaN</td>\n",
       "    </tr>\n",
       "    <tr>\n",
       "      <th>30</th>\n",
       "      <td>David Robinson</td>\n",
       "      <td>SAS</td>\n",
       "      <td>San Antonio Spurs</td>\n",
       "      <td>San Antonio</td>\n",
       "      <td>Texas</td>\n",
       "    </tr>\n",
       "    <tr>\n",
       "      <th>31</th>\n",
       "      <td>John Stockton</td>\n",
       "      <td>UTH</td>\n",
       "      <td>NaN</td>\n",
       "      <td>NaN</td>\n",
       "      <td>NaN</td>\n",
       "    </tr>\n",
       "    <tr>\n",
       "      <th>32</th>\n",
       "      <td>John Stockton</td>\n",
       "      <td>UTA</td>\n",
       "      <td>Utah Jazz</td>\n",
       "      <td>Utah</td>\n",
       "      <td>Utah</td>\n",
       "    </tr>\n",
       "  </tbody>\n",
       "</table>\n",
       "</div>"
      ],
      "text/plain": [
       "                  Name Team_Abbreviation               Team_Name  \\\n",
       "0      Charles Barkley               PHL                     NaN   \n",
       "1      Charles Barkley               PHX            Phoenix Suns   \n",
       "2      Charles Barkley               HOU         Houston Rockets   \n",
       "3           Larry Bird               BOS          Boston Celtics   \n",
       "4        Clyde Drexler               POR  Portland Trail Blazers   \n",
       "5        Clyde Drexler               HOU         Houston Rockets   \n",
       "6        Clyde Drexler               TOT                     NaN   \n",
       "7        Patrick Ewing               NYK         New York Knicks   \n",
       "8        Patrick Ewing               SEA                     NaN   \n",
       "9        Patrick Ewing               ORL           Orlando Magic   \n",
       "10       Magic Johnson               LAL      Los Angeles Lakers   \n",
       "11      Michael Jordan               CHI           Chicago Bulls   \n",
       "12      Michael Jordan               WAS      Washington Wizards   \n",
       "13  Christian Laettner               MIN  Minnesota Timberwolves   \n",
       "14  Christian Laettner               WAS      Washington Wizards   \n",
       "15  Christian Laettner               ATL           Atlanta Hawks   \n",
       "16  Christian Laettner               TOT                     NaN   \n",
       "17  Christian Laettner               DET         Detroit Pistons   \n",
       "18  Christian Laettner               DAL        Dallas Mavericks   \n",
       "19  Christian Laettner               MIA              Miami Heat   \n",
       "20         Karl Malone               UTH                     NaN   \n",
       "21         Karl Malone               UTA               Utah Jazz   \n",
       "22         Karl Malone               LAL      Los Angeles Lakers   \n",
       "23        Chris Mullin               GOS                     NaN   \n",
       "24        Chris Mullin               IND          Indiana Pacers   \n",
       "25        Chris Mullin               GSW   Golden State Warriors   \n",
       "26      Scottie Pippen               CHI           Chicago Bulls   \n",
       "27      Scottie Pippen               POR  Portland Trail Blazers   \n",
       "28      Scottie Pippen               HOU         Houston Rockets   \n",
       "29      David Robinson               SAN                     NaN   \n",
       "30      David Robinson               SAS       San Antonio Spurs   \n",
       "31       John Stockton               UTH                     NaN   \n",
       "32       John Stockton               UTA               Utah Jazz   \n",
       "\n",
       "            City                 State  \n",
       "0            NaN                   NaN  \n",
       "1        Phoenix               Arizona  \n",
       "2        Houston                 Texas  \n",
       "3         Boston         Massachusetts  \n",
       "4       Portland                Oregon  \n",
       "5        Houston                 Texas  \n",
       "6            NaN                   NaN  \n",
       "7       New York              New York  \n",
       "8            NaN                   NaN  \n",
       "9        Orlando               Florida  \n",
       "10   Los Angeles            California  \n",
       "11       Chicago              Illinois  \n",
       "12    Washington  District of Columbia  \n",
       "13     Minnesota             Minnesota  \n",
       "14    Washington  District of Columbia  \n",
       "15       Atlanta               Georgia  \n",
       "16           NaN                   NaN  \n",
       "17       Detroit              Michigan  \n",
       "18        Dallas                 Texas  \n",
       "19         Miami               Florida  \n",
       "20           NaN                   NaN  \n",
       "21          Utah                  Utah  \n",
       "22   Los Angeles            California  \n",
       "23           NaN                   NaN  \n",
       "24       Indiana               Indiana  \n",
       "25  Golden State            California  \n",
       "26       Chicago              Illinois  \n",
       "27      Portland                Oregon  \n",
       "28       Houston                 Texas  \n",
       "29           NaN                   NaN  \n",
       "30   San Antonio                 Texas  \n",
       "31           NaN                   NaN  \n",
       "32          Utah                  Utah  "
      ]
     },
     "execution_count": 11,
     "metadata": {},
     "output_type": "execute_result"
    }
   ],
   "source": [
    "# create mapping dataframe from lists\n",
    "mapdata=pd.DataFrame({'Name': Name,\n",
    "                      'Team_Abbreviation':Team_Abbreviation,\n",
    "                      'Team_Name': Team_Name,\n",
    "                      'City': City,\n",
    "                      'State':State})\n",
    "\n",
    "mapdata"
   ]
  },
  {
   "cell_type": "code",
   "execution_count": null,
   "id": "b4c99709",
   "metadata": {},
   "outputs": [
    {
     "data": {
      "text/html": [
       "<div>\n",
       "<style scoped>\n",
       "    .dataframe tbody tr th:only-of-type {\n",
       "        vertical-align: middle;\n",
       "    }\n",
       "\n",
       "    .dataframe tbody tr th {\n",
       "        vertical-align: top;\n",
       "    }\n",
       "\n",
       "    .dataframe thead th {\n",
       "        text-align: right;\n",
       "    }\n",
       "</style>\n",
       "<table border=\"1\" class=\"dataframe\">\n",
       "  <thead>\n",
       "    <tr style=\"text-align: right;\">\n",
       "      <th></th>\n",
       "      <th>Name</th>\n",
       "      <th>Team_Abbreviation</th>\n",
       "      <th>Team_Name</th>\n",
       "      <th>City</th>\n",
       "      <th>State</th>\n",
       "    </tr>\n",
       "  </thead>\n",
       "  <tbody>\n",
       "    <tr>\n",
       "      <th>0</th>\n",
       "      <td>Charles Barkley</td>\n",
       "      <td>PHL</td>\n",
       "      <td>Philadelphia 76ers</td>\n",
       "      <td>Philadelphia</td>\n",
       "      <td>Pennsylvania</td>\n",
       "    </tr>\n",
       "    <tr>\n",
       "      <th>1</th>\n",
       "      <td>Charles Barkley</td>\n",
       "      <td>PHX</td>\n",
       "      <td>Phoenix Suns</td>\n",
       "      <td>Phoenix</td>\n",
       "      <td>Arizona</td>\n",
       "    </tr>\n",
       "    <tr>\n",
       "      <th>2</th>\n",
       "      <td>Charles Barkley</td>\n",
       "      <td>HOU</td>\n",
       "      <td>Houston Rockets</td>\n",
       "      <td>Houston</td>\n",
       "      <td>Texas</td>\n",
       "    </tr>\n",
       "    <tr>\n",
       "      <th>3</th>\n",
       "      <td>Larry Bird</td>\n",
       "      <td>BOS</td>\n",
       "      <td>Boston Celtics</td>\n",
       "      <td>Boston</td>\n",
       "      <td>Massachusetts</td>\n",
       "    </tr>\n",
       "    <tr>\n",
       "      <th>4</th>\n",
       "      <td>Clyde Drexler</td>\n",
       "      <td>POR</td>\n",
       "      <td>Portland Trail Blazers</td>\n",
       "      <td>Portland</td>\n",
       "      <td>Oregon</td>\n",
       "    </tr>\n",
       "    <tr>\n",
       "      <th>5</th>\n",
       "      <td>Clyde Drexler</td>\n",
       "      <td>HOU</td>\n",
       "      <td>Houston Rockets</td>\n",
       "      <td>Houston</td>\n",
       "      <td>Texas</td>\n",
       "    </tr>\n",
       "    <tr>\n",
       "      <th>6</th>\n",
       "      <td>Clyde Drexler</td>\n",
       "      <td>TOT</td>\n",
       "      <td>Houston Rockets</td>\n",
       "      <td>Houston</td>\n",
       "      <td>Texas</td>\n",
       "    </tr>\n",
       "    <tr>\n",
       "      <th>7</th>\n",
       "      <td>Patrick Ewing</td>\n",
       "      <td>NYK</td>\n",
       "      <td>New York Knicks</td>\n",
       "      <td>New York</td>\n",
       "      <td>New York</td>\n",
       "    </tr>\n",
       "    <tr>\n",
       "      <th>8</th>\n",
       "      <td>Patrick Ewing</td>\n",
       "      <td>SEA</td>\n",
       "      <td>Seattle SuperSonics</td>\n",
       "      <td>Seattle</td>\n",
       "      <td>Washington</td>\n",
       "    </tr>\n",
       "    <tr>\n",
       "      <th>9</th>\n",
       "      <td>Patrick Ewing</td>\n",
       "      <td>ORL</td>\n",
       "      <td>Orlando Magic</td>\n",
       "      <td>Orlando</td>\n",
       "      <td>Florida</td>\n",
       "    </tr>\n",
       "    <tr>\n",
       "      <th>10</th>\n",
       "      <td>Magic Johnson</td>\n",
       "      <td>LAL</td>\n",
       "      <td>Los Angeles Lakers</td>\n",
       "      <td>Los Angeles</td>\n",
       "      <td>California</td>\n",
       "    </tr>\n",
       "    <tr>\n",
       "      <th>11</th>\n",
       "      <td>Michael Jordan</td>\n",
       "      <td>CHI</td>\n",
       "      <td>Chicago Bulls</td>\n",
       "      <td>Chicago</td>\n",
       "      <td>Illinois</td>\n",
       "    </tr>\n",
       "    <tr>\n",
       "      <th>12</th>\n",
       "      <td>Michael Jordan</td>\n",
       "      <td>WAS</td>\n",
       "      <td>Washington Wizards</td>\n",
       "      <td>Washington</td>\n",
       "      <td>District of Columbia</td>\n",
       "    </tr>\n",
       "    <tr>\n",
       "      <th>13</th>\n",
       "      <td>Christian Laettner</td>\n",
       "      <td>MIN</td>\n",
       "      <td>Minnesota Timberwolves</td>\n",
       "      <td>Minneapolis</td>\n",
       "      <td>Minnesota</td>\n",
       "    </tr>\n",
       "    <tr>\n",
       "      <th>14</th>\n",
       "      <td>Christian Laettner</td>\n",
       "      <td>WAS</td>\n",
       "      <td>Washington Wizards</td>\n",
       "      <td>Washington</td>\n",
       "      <td>District of Columbia</td>\n",
       "    </tr>\n",
       "    <tr>\n",
       "      <th>15</th>\n",
       "      <td>Christian Laettner</td>\n",
       "      <td>ATL</td>\n",
       "      <td>Atlanta Hawks</td>\n",
       "      <td>Atlanta</td>\n",
       "      <td>Georgia</td>\n",
       "    </tr>\n",
       "    <tr>\n",
       "      <th>16</th>\n",
       "      <td>Christian Laettner</td>\n",
       "      <td>TOT</td>\n",
       "      <td>Dallas Mavericks</td>\n",
       "      <td>Dallas</td>\n",
       "      <td>Texas</td>\n",
       "    </tr>\n",
       "    <tr>\n",
       "      <th>17</th>\n",
       "      <td>Christian Laettner</td>\n",
       "      <td>DET</td>\n",
       "      <td>Detroit Pistons</td>\n",
       "      <td>Detroit</td>\n",
       "      <td>Michigan</td>\n",
       "    </tr>\n",
       "    <tr>\n",
       "      <th>18</th>\n",
       "      <td>Christian Laettner</td>\n",
       "      <td>DAL</td>\n",
       "      <td>Dallas Mavericks</td>\n",
       "      <td>Dallas</td>\n",
       "      <td>Texas</td>\n",
       "    </tr>\n",
       "    <tr>\n",
       "      <th>19</th>\n",
       "      <td>Christian Laettner</td>\n",
       "      <td>MIA</td>\n",
       "      <td>Miami Heat</td>\n",
       "      <td>Miami</td>\n",
       "      <td>Florida</td>\n",
       "    </tr>\n",
       "    <tr>\n",
       "      <th>20</th>\n",
       "      <td>Karl Malone</td>\n",
       "      <td>UTH</td>\n",
       "      <td>Utah Jazz</td>\n",
       "      <td>Salt Lake City</td>\n",
       "      <td>Utah</td>\n",
       "    </tr>\n",
       "    <tr>\n",
       "      <th>21</th>\n",
       "      <td>Karl Malone</td>\n",
       "      <td>UTA</td>\n",
       "      <td>Utah Jazz</td>\n",
       "      <td>Salt Lake City</td>\n",
       "      <td>Utah</td>\n",
       "    </tr>\n",
       "    <tr>\n",
       "      <th>22</th>\n",
       "      <td>Karl Malone</td>\n",
       "      <td>LAL</td>\n",
       "      <td>Los Angeles Lakers</td>\n",
       "      <td>Los Angeles</td>\n",
       "      <td>California</td>\n",
       "    </tr>\n",
       "    <tr>\n",
       "      <th>23</th>\n",
       "      <td>Chris Mullin</td>\n",
       "      <td>GOS</td>\n",
       "      <td>Golden State Warriors</td>\n",
       "      <td>San Francisco</td>\n",
       "      <td>California</td>\n",
       "    </tr>\n",
       "    <tr>\n",
       "      <th>24</th>\n",
       "      <td>Chris Mullin</td>\n",
       "      <td>IND</td>\n",
       "      <td>Indiana Pacers</td>\n",
       "      <td>Indianapolis</td>\n",
       "      <td>Indiana</td>\n",
       "    </tr>\n",
       "    <tr>\n",
       "      <th>25</th>\n",
       "      <td>Chris Mullin</td>\n",
       "      <td>GSW</td>\n",
       "      <td>Golden State Warriors</td>\n",
       "      <td>San Francisco</td>\n",
       "      <td>California</td>\n",
       "    </tr>\n",
       "    <tr>\n",
       "      <th>26</th>\n",
       "      <td>Scottie Pippen</td>\n",
       "      <td>CHI</td>\n",
       "      <td>Chicago Bulls</td>\n",
       "      <td>Chicago</td>\n",
       "      <td>Illinois</td>\n",
       "    </tr>\n",
       "    <tr>\n",
       "      <th>27</th>\n",
       "      <td>Scottie Pippen</td>\n",
       "      <td>POR</td>\n",
       "      <td>Portland Trail Blazers</td>\n",
       "      <td>Portland</td>\n",
       "      <td>Oregon</td>\n",
       "    </tr>\n",
       "    <tr>\n",
       "      <th>28</th>\n",
       "      <td>Scottie Pippen</td>\n",
       "      <td>HOU</td>\n",
       "      <td>Houston Rockets</td>\n",
       "      <td>Houston</td>\n",
       "      <td>Texas</td>\n",
       "    </tr>\n",
       "    <tr>\n",
       "      <th>29</th>\n",
       "      <td>David Robinson</td>\n",
       "      <td>SAN</td>\n",
       "      <td>San Antonio Spurs</td>\n",
       "      <td>San Antonio</td>\n",
       "      <td>Texas</td>\n",
       "    </tr>\n",
       "    <tr>\n",
       "      <th>30</th>\n",
       "      <td>David Robinson</td>\n",
       "      <td>SAS</td>\n",
       "      <td>San Antonio Spurs</td>\n",
       "      <td>San Antonio</td>\n",
       "      <td>Texas</td>\n",
       "    </tr>\n",
       "    <tr>\n",
       "      <th>31</th>\n",
       "      <td>John Stockton</td>\n",
       "      <td>UTH</td>\n",
       "      <td>Utah Jazz</td>\n",
       "      <td>Salt Lake City</td>\n",
       "      <td>Utah</td>\n",
       "    </tr>\n",
       "    <tr>\n",
       "      <th>32</th>\n",
       "      <td>John Stockton</td>\n",
       "      <td>UTA</td>\n",
       "      <td>Utah Jazz</td>\n",
       "      <td>Salt Lake City</td>\n",
       "      <td>Utah</td>\n",
       "    </tr>\n",
       "  </tbody>\n",
       "</table>\n",
       "</div>"
      ],
      "text/plain": [
       "                  Name Team_Abbreviation               Team_Name  \\\n",
       "0      Charles Barkley               PHL      Philadelphia 76ers   \n",
       "1      Charles Barkley               PHX            Phoenix Suns   \n",
       "2      Charles Barkley               HOU         Houston Rockets   \n",
       "3           Larry Bird               BOS          Boston Celtics   \n",
       "4        Clyde Drexler               POR  Portland Trail Blazers   \n",
       "5        Clyde Drexler               HOU         Houston Rockets   \n",
       "6        Clyde Drexler               TOT         Houston Rockets   \n",
       "7        Patrick Ewing               NYK         New York Knicks   \n",
       "8        Patrick Ewing               SEA     Seattle SuperSonics   \n",
       "9        Patrick Ewing               ORL           Orlando Magic   \n",
       "10       Magic Johnson               LAL      Los Angeles Lakers   \n",
       "11      Michael Jordan               CHI           Chicago Bulls   \n",
       "12      Michael Jordan               WAS      Washington Wizards   \n",
       "13  Christian Laettner               MIN  Minnesota Timberwolves   \n",
       "14  Christian Laettner               WAS      Washington Wizards   \n",
       "15  Christian Laettner               ATL           Atlanta Hawks   \n",
       "16  Christian Laettner               TOT        Dallas Mavericks   \n",
       "17  Christian Laettner               DET         Detroit Pistons   \n",
       "18  Christian Laettner               DAL        Dallas Mavericks   \n",
       "19  Christian Laettner               MIA              Miami Heat   \n",
       "20         Karl Malone               UTH               Utah Jazz   \n",
       "21         Karl Malone               UTA               Utah Jazz   \n",
       "22         Karl Malone               LAL      Los Angeles Lakers   \n",
       "23        Chris Mullin               GOS   Golden State Warriors   \n",
       "24        Chris Mullin               IND          Indiana Pacers   \n",
       "25        Chris Mullin               GSW   Golden State Warriors   \n",
       "26      Scottie Pippen               CHI           Chicago Bulls   \n",
       "27      Scottie Pippen               POR  Portland Trail Blazers   \n",
       "28      Scottie Pippen               HOU         Houston Rockets   \n",
       "29      David Robinson               SAN       San Antonio Spurs   \n",
       "30      David Robinson               SAS       San Antonio Spurs   \n",
       "31       John Stockton               UTH               Utah Jazz   \n",
       "32       John Stockton               UTA               Utah Jazz   \n",
       "\n",
       "              City                 State  \n",
       "0     Philadelphia          Pennsylvania  \n",
       "1          Phoenix               Arizona  \n",
       "2          Houston                 Texas  \n",
       "3           Boston         Massachusetts  \n",
       "4         Portland                Oregon  \n",
       "5          Houston                 Texas  \n",
       "6          Houston                 Texas  \n",
       "7         New York              New York  \n",
       "8          Seattle            Washington  \n",
       "9          Orlando               Florida  \n",
       "10     Los Angeles            California  \n",
       "11         Chicago              Illinois  \n",
       "12      Washington  District of Columbia  \n",
       "13     Minneapolis             Minnesota  \n",
       "14      Washington  District of Columbia  \n",
       "15         Atlanta               Georgia  \n",
       "16          Dallas                 Texas  \n",
       "17         Detroit              Michigan  \n",
       "18          Dallas                 Texas  \n",
       "19           Miami               Florida  \n",
       "20  Salt Lake City                  Utah  \n",
       "21  Salt Lake City                  Utah  \n",
       "22     Los Angeles            California  \n",
       "23   San Francisco            California  \n",
       "24    Indianapolis               Indiana  \n",
       "25   San Francisco            California  \n",
       "26         Chicago              Illinois  \n",
       "27        Portland                Oregon  \n",
       "28         Houston                 Texas  \n",
       "29     San Antonio                 Texas  \n",
       "30     San Antonio                 Texas  \n",
       "31  Salt Lake City                  Utah  \n",
       "32  Salt Lake City                  Utah  "
      ]
     },
     "execution_count": 12,
     "metadata": {},
     "output_type": "execute_result"
    }
   ],
   "source": [
    "# fill in missing data and replace incorrect data\n",
    "condition=mapdata['Team_Abbreviation'] == 'PHL'\n",
    "columns_to_modify=['Team_Name', 'City', 'State']\n",
    "mapdata.loc[condition, columns_to_modify] = ['Philadelphia 76ers', 'Philadelphia', 'Pennsylvania'] \n",
    "\n",
    "condition=(mapdata['Team_Abbreviation'] == 'TOT') & (mapdata['Name'] == 'Clyde Drexler')\n",
    "columns_to_modify=['Team_Name', 'City', 'State']\n",
    "mapdata.loc[condition, columns_to_modify] = ['Houston Rockets', 'Houston', 'Texas'] \n",
    "\n",
    "condition=mapdata['Team_Abbreviation'] == 'SEA'\n",
    "columns_to_modify=['Team_Name', 'City', 'State']\n",
    "mapdata.loc[condition, columns_to_modify] = ['Seattle SuperSonics', 'Seattle', 'Washington'] \n",
    "\n",
    "condition=(mapdata['Team_Abbreviation'] == 'TOT') & (mapdata['Name'] == 'Christian Laettner')\n",
    "columns_to_modify=['Team_Name', 'City', 'State']\n",
    "mapdata.loc[condition, columns_to_modify] = ['Dallas Mavericks', 'Dallas', 'Texas'] \n",
    "\n",
    "condition=mapdata['Team_Abbreviation'] == 'MIN'\n",
    "columns_to_modify=['Team_Name', 'City', 'State']\n",
    "mapdata.loc[condition, columns_to_modify] = ['Minnesota Timberwolves', 'Minneapolis', 'Minnesota'] \n",
    "\n",
    "condition=mapdata['Team_Abbreviation'] == 'UTH' \n",
    "columns_to_modify=['Team_Name', 'City', 'State']\n",
    "mapdata.loc[condition, columns_to_modify] = ['Utah Jazz', 'Salt Lake City', 'Utah'] \n",
    "\n",
    "condition=mapdata['Team_Abbreviation'] == 'UTA' \n",
    "columns_to_modify=['Team_Name', 'City', 'State']\n",
    "mapdata.loc[condition, columns_to_modify] = ['Utah Jazz', 'Salt Lake City', 'Utah'] \n",
    "\n",
    "condition=mapdata['Team_Abbreviation'] == 'GOS' \n",
    "columns_to_modify=['Team_Name', 'City', 'State']\n",
    "mapdata.loc[condition, columns_to_modify] = ['Golden State Warriors', 'San Francisco', 'California'] \n",
    "\n",
    "condition=mapdata['Team_Abbreviation'] == 'IND' \n",
    "columns_to_modify=['Team_Name', 'City', 'State']\n",
    "mapdata.loc[condition, columns_to_modify] = ['Indiana Pacers', 'Indianapolis', 'Indiana'] \n",
    "\n",
    "condition=mapdata['Team_Abbreviation'] == 'GSW' \n",
    "columns_to_modify=['Team_Name', 'City', 'State']\n",
    "mapdata.loc[condition, columns_to_modify] = ['Golden State Warriors', 'San Francisco', 'California'] \n",
    "\n",
    "condition=mapdata['Team_Abbreviation'] == 'SAN' \n",
    "columns_to_modify=['Team_Name', 'City', 'State']\n",
    "mapdata.loc[condition, columns_to_modify] = ['San Antonio Spurs', 'San Antonio', 'Texas'] \n",
    "\n",
    "#look at corrected dataframe\n",
    "mapdata"
   ]
  },
  {
   "cell_type": "code",
   "execution_count": null,
   "id": "56e85b00",
   "metadata": {},
   "outputs": [
    {
     "data": {
      "text/html": [
       "<div>\n",
       "<style scoped>\n",
       "    .dataframe tbody tr th:only-of-type {\n",
       "        vertical-align: middle;\n",
       "    }\n",
       "\n",
       "    .dataframe tbody tr th {\n",
       "        vertical-align: top;\n",
       "    }\n",
       "\n",
       "    .dataframe thead th {\n",
       "        text-align: right;\n",
       "    }\n",
       "</style>\n",
       "<table border=\"1\" class=\"dataframe\">\n",
       "  <thead>\n",
       "    <tr style=\"text-align: right;\">\n",
       "      <th></th>\n",
       "      <th>Name</th>\n",
       "      <th>Team_Abbreviation</th>\n",
       "      <th>Team_Name</th>\n",
       "      <th>City</th>\n",
       "      <th>State</th>\n",
       "    </tr>\n",
       "  </thead>\n",
       "  <tbody>\n",
       "    <tr>\n",
       "      <th>0</th>\n",
       "      <td>Charles Barkley</td>\n",
       "      <td>PHL</td>\n",
       "      <td>Philadelphia 76ers</td>\n",
       "      <td>Philadelphia</td>\n",
       "      <td>Pennsylvania</td>\n",
       "    </tr>\n",
       "    <tr>\n",
       "      <th>1</th>\n",
       "      <td>Charles Barkley</td>\n",
       "      <td>PHX</td>\n",
       "      <td>Phoenix Suns</td>\n",
       "      <td>Phoenix</td>\n",
       "      <td>Arizona</td>\n",
       "    </tr>\n",
       "    <tr>\n",
       "      <th>2</th>\n",
       "      <td>Charles Barkley</td>\n",
       "      <td>HOU</td>\n",
       "      <td>Houston Rockets</td>\n",
       "      <td>Houston</td>\n",
       "      <td>Texas</td>\n",
       "    </tr>\n",
       "    <tr>\n",
       "      <th>3</th>\n",
       "      <td>Larry Bird</td>\n",
       "      <td>BOS</td>\n",
       "      <td>Boston Celtics</td>\n",
       "      <td>Boston</td>\n",
       "      <td>Massachusetts</td>\n",
       "    </tr>\n",
       "    <tr>\n",
       "      <th>4</th>\n",
       "      <td>Clyde Drexler</td>\n",
       "      <td>POR</td>\n",
       "      <td>Portland Trail Blazers</td>\n",
       "      <td>Portland</td>\n",
       "      <td>Oregon</td>\n",
       "    </tr>\n",
       "    <tr>\n",
       "      <th>5</th>\n",
       "      <td>Clyde Drexler</td>\n",
       "      <td>HOU</td>\n",
       "      <td>Houston Rockets</td>\n",
       "      <td>Houston</td>\n",
       "      <td>Texas</td>\n",
       "    </tr>\n",
       "    <tr>\n",
       "      <th>6</th>\n",
       "      <td>Patrick Ewing</td>\n",
       "      <td>NYK</td>\n",
       "      <td>New York Knicks</td>\n",
       "      <td>New York</td>\n",
       "      <td>New York</td>\n",
       "    </tr>\n",
       "    <tr>\n",
       "      <th>7</th>\n",
       "      <td>Patrick Ewing</td>\n",
       "      <td>SEA</td>\n",
       "      <td>Seattle SuperSonics</td>\n",
       "      <td>Seattle</td>\n",
       "      <td>Washington</td>\n",
       "    </tr>\n",
       "    <tr>\n",
       "      <th>8</th>\n",
       "      <td>Patrick Ewing</td>\n",
       "      <td>ORL</td>\n",
       "      <td>Orlando Magic</td>\n",
       "      <td>Orlando</td>\n",
       "      <td>Florida</td>\n",
       "    </tr>\n",
       "    <tr>\n",
       "      <th>9</th>\n",
       "      <td>Magic Johnson</td>\n",
       "      <td>LAL</td>\n",
       "      <td>Los Angeles Lakers</td>\n",
       "      <td>Los Angeles</td>\n",
       "      <td>California</td>\n",
       "    </tr>\n",
       "    <tr>\n",
       "      <th>10</th>\n",
       "      <td>Michael Jordan</td>\n",
       "      <td>CHI</td>\n",
       "      <td>Chicago Bulls</td>\n",
       "      <td>Chicago</td>\n",
       "      <td>Illinois</td>\n",
       "    </tr>\n",
       "    <tr>\n",
       "      <th>11</th>\n",
       "      <td>Michael Jordan</td>\n",
       "      <td>WAS</td>\n",
       "      <td>Washington Wizards</td>\n",
       "      <td>Washington</td>\n",
       "      <td>District of Columbia</td>\n",
       "    </tr>\n",
       "    <tr>\n",
       "      <th>12</th>\n",
       "      <td>Christian Laettner</td>\n",
       "      <td>MIN</td>\n",
       "      <td>Minnesota Timberwolves</td>\n",
       "      <td>Minneapolis</td>\n",
       "      <td>Minnesota</td>\n",
       "    </tr>\n",
       "    <tr>\n",
       "      <th>13</th>\n",
       "      <td>Christian Laettner</td>\n",
       "      <td>WAS</td>\n",
       "      <td>Washington Wizards</td>\n",
       "      <td>Washington</td>\n",
       "      <td>District of Columbia</td>\n",
       "    </tr>\n",
       "    <tr>\n",
       "      <th>14</th>\n",
       "      <td>Christian Laettner</td>\n",
       "      <td>ATL</td>\n",
       "      <td>Atlanta Hawks</td>\n",
       "      <td>Atlanta</td>\n",
       "      <td>Georgia</td>\n",
       "    </tr>\n",
       "    <tr>\n",
       "      <th>15</th>\n",
       "      <td>Christian Laettner</td>\n",
       "      <td>TOT</td>\n",
       "      <td>Dallas Mavericks</td>\n",
       "      <td>Dallas</td>\n",
       "      <td>Texas</td>\n",
       "    </tr>\n",
       "    <tr>\n",
       "      <th>16</th>\n",
       "      <td>Christian Laettner</td>\n",
       "      <td>DET</td>\n",
       "      <td>Detroit Pistons</td>\n",
       "      <td>Detroit</td>\n",
       "      <td>Michigan</td>\n",
       "    </tr>\n",
       "    <tr>\n",
       "      <th>17</th>\n",
       "      <td>Christian Laettner</td>\n",
       "      <td>MIA</td>\n",
       "      <td>Miami Heat</td>\n",
       "      <td>Miami</td>\n",
       "      <td>Florida</td>\n",
       "    </tr>\n",
       "    <tr>\n",
       "      <th>18</th>\n",
       "      <td>Karl Malone</td>\n",
       "      <td>UTH</td>\n",
       "      <td>Utah Jazz</td>\n",
       "      <td>Salt Lake City</td>\n",
       "      <td>Utah</td>\n",
       "    </tr>\n",
       "    <tr>\n",
       "      <th>19</th>\n",
       "      <td>Karl Malone</td>\n",
       "      <td>LAL</td>\n",
       "      <td>Los Angeles Lakers</td>\n",
       "      <td>Los Angeles</td>\n",
       "      <td>California</td>\n",
       "    </tr>\n",
       "    <tr>\n",
       "      <th>20</th>\n",
       "      <td>Chris Mullin</td>\n",
       "      <td>GOS</td>\n",
       "      <td>Golden State Warriors</td>\n",
       "      <td>San Francisco</td>\n",
       "      <td>California</td>\n",
       "    </tr>\n",
       "    <tr>\n",
       "      <th>21</th>\n",
       "      <td>Chris Mullin</td>\n",
       "      <td>IND</td>\n",
       "      <td>Indiana Pacers</td>\n",
       "      <td>Indianapolis</td>\n",
       "      <td>Indiana</td>\n",
       "    </tr>\n",
       "    <tr>\n",
       "      <th>22</th>\n",
       "      <td>Scottie Pippen</td>\n",
       "      <td>CHI</td>\n",
       "      <td>Chicago Bulls</td>\n",
       "      <td>Chicago</td>\n",
       "      <td>Illinois</td>\n",
       "    </tr>\n",
       "    <tr>\n",
       "      <th>23</th>\n",
       "      <td>Scottie Pippen</td>\n",
       "      <td>POR</td>\n",
       "      <td>Portland Trail Blazers</td>\n",
       "      <td>Portland</td>\n",
       "      <td>Oregon</td>\n",
       "    </tr>\n",
       "    <tr>\n",
       "      <th>24</th>\n",
       "      <td>Scottie Pippen</td>\n",
       "      <td>HOU</td>\n",
       "      <td>Houston Rockets</td>\n",
       "      <td>Houston</td>\n",
       "      <td>Texas</td>\n",
       "    </tr>\n",
       "    <tr>\n",
       "      <th>25</th>\n",
       "      <td>David Robinson</td>\n",
       "      <td>SAN</td>\n",
       "      <td>San Antonio Spurs</td>\n",
       "      <td>San Antonio</td>\n",
       "      <td>Texas</td>\n",
       "    </tr>\n",
       "    <tr>\n",
       "      <th>26</th>\n",
       "      <td>John Stockton</td>\n",
       "      <td>UTH</td>\n",
       "      <td>Utah Jazz</td>\n",
       "      <td>Salt Lake City</td>\n",
       "      <td>Utah</td>\n",
       "    </tr>\n",
       "  </tbody>\n",
       "</table>\n",
       "</div>"
      ],
      "text/plain": [
       "                  Name Team_Abbreviation               Team_Name  \\\n",
       "0      Charles Barkley               PHL      Philadelphia 76ers   \n",
       "1      Charles Barkley               PHX            Phoenix Suns   \n",
       "2      Charles Barkley               HOU         Houston Rockets   \n",
       "3           Larry Bird               BOS          Boston Celtics   \n",
       "4        Clyde Drexler               POR  Portland Trail Blazers   \n",
       "5        Clyde Drexler               HOU         Houston Rockets   \n",
       "6        Patrick Ewing               NYK         New York Knicks   \n",
       "7        Patrick Ewing               SEA     Seattle SuperSonics   \n",
       "8        Patrick Ewing               ORL           Orlando Magic   \n",
       "9        Magic Johnson               LAL      Los Angeles Lakers   \n",
       "10      Michael Jordan               CHI           Chicago Bulls   \n",
       "11      Michael Jordan               WAS      Washington Wizards   \n",
       "12  Christian Laettner               MIN  Minnesota Timberwolves   \n",
       "13  Christian Laettner               WAS      Washington Wizards   \n",
       "14  Christian Laettner               ATL           Atlanta Hawks   \n",
       "15  Christian Laettner               TOT        Dallas Mavericks   \n",
       "16  Christian Laettner               DET         Detroit Pistons   \n",
       "17  Christian Laettner               MIA              Miami Heat   \n",
       "18         Karl Malone               UTH               Utah Jazz   \n",
       "19         Karl Malone               LAL      Los Angeles Lakers   \n",
       "20        Chris Mullin               GOS   Golden State Warriors   \n",
       "21        Chris Mullin               IND          Indiana Pacers   \n",
       "22      Scottie Pippen               CHI           Chicago Bulls   \n",
       "23      Scottie Pippen               POR  Portland Trail Blazers   \n",
       "24      Scottie Pippen               HOU         Houston Rockets   \n",
       "25      David Robinson               SAN       San Antonio Spurs   \n",
       "26       John Stockton               UTH               Utah Jazz   \n",
       "\n",
       "              City                 State  \n",
       "0     Philadelphia          Pennsylvania  \n",
       "1          Phoenix               Arizona  \n",
       "2          Houston                 Texas  \n",
       "3           Boston         Massachusetts  \n",
       "4         Portland                Oregon  \n",
       "5          Houston                 Texas  \n",
       "6         New York              New York  \n",
       "7          Seattle            Washington  \n",
       "8          Orlando               Florida  \n",
       "9      Los Angeles            California  \n",
       "10         Chicago              Illinois  \n",
       "11      Washington  District of Columbia  \n",
       "12     Minneapolis             Minnesota  \n",
       "13      Washington  District of Columbia  \n",
       "14         Atlanta               Georgia  \n",
       "15          Dallas                 Texas  \n",
       "16         Detroit              Michigan  \n",
       "17           Miami               Florida  \n",
       "18  Salt Lake City                  Utah  \n",
       "19     Los Angeles            California  \n",
       "20   San Francisco            California  \n",
       "21    Indianapolis               Indiana  \n",
       "22         Chicago              Illinois  \n",
       "23        Portland                Oregon  \n",
       "24         Houston                 Texas  \n",
       "25     San Antonio                 Texas  \n",
       "26  Salt Lake City                  Utah  "
      ]
     },
     "execution_count": 13,
     "metadata": {},
     "output_type": "execute_result"
    }
   ],
   "source": [
    "# remove duplicate teams for players so that there is a single row for each team that a player played for\n",
    "mapdata=mapdata.drop_duplicates(subset=['Name', 'Team_Name'], keep='first').reset_index(drop=True)\n",
    "\n",
    "mapdata"
   ]
  },
  {
   "cell_type": "code",
   "execution_count": null,
   "id": "6faf9436",
   "metadata": {},
   "outputs": [
    {
     "data": {
      "text/html": [
       "<div>\n",
       "<style scoped>\n",
       "    .dataframe tbody tr th:only-of-type {\n",
       "        vertical-align: middle;\n",
       "    }\n",
       "\n",
       "    .dataframe tbody tr th {\n",
       "        vertical-align: top;\n",
       "    }\n",
       "\n",
       "    .dataframe thead th {\n",
       "        text-align: right;\n",
       "    }\n",
       "</style>\n",
       "<table border=\"1\" class=\"dataframe\">\n",
       "  <thead>\n",
       "    <tr style=\"text-align: right;\">\n",
       "      <th></th>\n",
       "      <th>Name</th>\n",
       "      <th>Team_Abbreviation</th>\n",
       "      <th>Team_Name</th>\n",
       "      <th>City</th>\n",
       "      <th>State</th>\n",
       "      <th>City_State</th>\n",
       "    </tr>\n",
       "  </thead>\n",
       "  <tbody>\n",
       "    <tr>\n",
       "      <th>0</th>\n",
       "      <td>Charles Barkley</td>\n",
       "      <td>PHL</td>\n",
       "      <td>Philadelphia 76ers</td>\n",
       "      <td>Philadelphia</td>\n",
       "      <td>Pennsylvania</td>\n",
       "      <td>Philadelphia, Pennsylvania</td>\n",
       "    </tr>\n",
       "    <tr>\n",
       "      <th>1</th>\n",
       "      <td>Charles Barkley</td>\n",
       "      <td>PHX</td>\n",
       "      <td>Phoenix Suns</td>\n",
       "      <td>Phoenix</td>\n",
       "      <td>Arizona</td>\n",
       "      <td>Phoenix, Arizona</td>\n",
       "    </tr>\n",
       "    <tr>\n",
       "      <th>2</th>\n",
       "      <td>Charles Barkley</td>\n",
       "      <td>HOU</td>\n",
       "      <td>Houston Rockets</td>\n",
       "      <td>Houston</td>\n",
       "      <td>Texas</td>\n",
       "      <td>Houston, Texas</td>\n",
       "    </tr>\n",
       "    <tr>\n",
       "      <th>3</th>\n",
       "      <td>Larry Bird</td>\n",
       "      <td>BOS</td>\n",
       "      <td>Boston Celtics</td>\n",
       "      <td>Boston</td>\n",
       "      <td>Massachusetts</td>\n",
       "      <td>Boston, Massachusetts</td>\n",
       "    </tr>\n",
       "    <tr>\n",
       "      <th>4</th>\n",
       "      <td>Clyde Drexler</td>\n",
       "      <td>POR</td>\n",
       "      <td>Portland Trail Blazers</td>\n",
       "      <td>Portland</td>\n",
       "      <td>Oregon</td>\n",
       "      <td>Portland, Oregon</td>\n",
       "    </tr>\n",
       "    <tr>\n",
       "      <th>5</th>\n",
       "      <td>Clyde Drexler</td>\n",
       "      <td>HOU</td>\n",
       "      <td>Houston Rockets</td>\n",
       "      <td>Houston</td>\n",
       "      <td>Texas</td>\n",
       "      <td>Houston, Texas</td>\n",
       "    </tr>\n",
       "    <tr>\n",
       "      <th>6</th>\n",
       "      <td>Patrick Ewing</td>\n",
       "      <td>NYK</td>\n",
       "      <td>New York Knicks</td>\n",
       "      <td>New York</td>\n",
       "      <td>New York</td>\n",
       "      <td>New York, New York</td>\n",
       "    </tr>\n",
       "    <tr>\n",
       "      <th>7</th>\n",
       "      <td>Patrick Ewing</td>\n",
       "      <td>SEA</td>\n",
       "      <td>Seattle SuperSonics</td>\n",
       "      <td>Seattle</td>\n",
       "      <td>Washington</td>\n",
       "      <td>Seattle, Washington</td>\n",
       "    </tr>\n",
       "    <tr>\n",
       "      <th>8</th>\n",
       "      <td>Patrick Ewing</td>\n",
       "      <td>ORL</td>\n",
       "      <td>Orlando Magic</td>\n",
       "      <td>Orlando</td>\n",
       "      <td>Florida</td>\n",
       "      <td>Orlando, Florida</td>\n",
       "    </tr>\n",
       "    <tr>\n",
       "      <th>9</th>\n",
       "      <td>Magic Johnson</td>\n",
       "      <td>LAL</td>\n",
       "      <td>Los Angeles Lakers</td>\n",
       "      <td>Los Angeles</td>\n",
       "      <td>California</td>\n",
       "      <td>Los Angeles, California</td>\n",
       "    </tr>\n",
       "    <tr>\n",
       "      <th>10</th>\n",
       "      <td>Michael Jordan</td>\n",
       "      <td>CHI</td>\n",
       "      <td>Chicago Bulls</td>\n",
       "      <td>Chicago</td>\n",
       "      <td>Illinois</td>\n",
       "      <td>Chicago, Illinois</td>\n",
       "    </tr>\n",
       "    <tr>\n",
       "      <th>11</th>\n",
       "      <td>Michael Jordan</td>\n",
       "      <td>WAS</td>\n",
       "      <td>Washington Wizards</td>\n",
       "      <td>Washington</td>\n",
       "      <td>District of Columbia</td>\n",
       "      <td>Washington, District of Columbia</td>\n",
       "    </tr>\n",
       "    <tr>\n",
       "      <th>12</th>\n",
       "      <td>Christian Laettner</td>\n",
       "      <td>MIN</td>\n",
       "      <td>Minnesota Timberwolves</td>\n",
       "      <td>Minneapolis</td>\n",
       "      <td>Minnesota</td>\n",
       "      <td>Minneapolis, Minnesota</td>\n",
       "    </tr>\n",
       "    <tr>\n",
       "      <th>13</th>\n",
       "      <td>Christian Laettner</td>\n",
       "      <td>WAS</td>\n",
       "      <td>Washington Wizards</td>\n",
       "      <td>Washington</td>\n",
       "      <td>District of Columbia</td>\n",
       "      <td>Washington, District of Columbia</td>\n",
       "    </tr>\n",
       "    <tr>\n",
       "      <th>14</th>\n",
       "      <td>Christian Laettner</td>\n",
       "      <td>ATL</td>\n",
       "      <td>Atlanta Hawks</td>\n",
       "      <td>Atlanta</td>\n",
       "      <td>Georgia</td>\n",
       "      <td>Atlanta, Georgia</td>\n",
       "    </tr>\n",
       "    <tr>\n",
       "      <th>15</th>\n",
       "      <td>Christian Laettner</td>\n",
       "      <td>TOT</td>\n",
       "      <td>Dallas Mavericks</td>\n",
       "      <td>Dallas</td>\n",
       "      <td>Texas</td>\n",
       "      <td>Dallas, Texas</td>\n",
       "    </tr>\n",
       "    <tr>\n",
       "      <th>16</th>\n",
       "      <td>Christian Laettner</td>\n",
       "      <td>DET</td>\n",
       "      <td>Detroit Pistons</td>\n",
       "      <td>Detroit</td>\n",
       "      <td>Michigan</td>\n",
       "      <td>Detroit, Michigan</td>\n",
       "    </tr>\n",
       "    <tr>\n",
       "      <th>17</th>\n",
       "      <td>Christian Laettner</td>\n",
       "      <td>MIA</td>\n",
       "      <td>Miami Heat</td>\n",
       "      <td>Miami</td>\n",
       "      <td>Florida</td>\n",
       "      <td>Miami, Florida</td>\n",
       "    </tr>\n",
       "    <tr>\n",
       "      <th>18</th>\n",
       "      <td>Karl Malone</td>\n",
       "      <td>UTH</td>\n",
       "      <td>Utah Jazz</td>\n",
       "      <td>Salt Lake City</td>\n",
       "      <td>Utah</td>\n",
       "      <td>Salt Lake City, Utah</td>\n",
       "    </tr>\n",
       "    <tr>\n",
       "      <th>19</th>\n",
       "      <td>Karl Malone</td>\n",
       "      <td>LAL</td>\n",
       "      <td>Los Angeles Lakers</td>\n",
       "      <td>Los Angeles</td>\n",
       "      <td>California</td>\n",
       "      <td>Los Angeles, California</td>\n",
       "    </tr>\n",
       "    <tr>\n",
       "      <th>20</th>\n",
       "      <td>Chris Mullin</td>\n",
       "      <td>GOS</td>\n",
       "      <td>Golden State Warriors</td>\n",
       "      <td>San Francisco</td>\n",
       "      <td>California</td>\n",
       "      <td>San Francisco, California</td>\n",
       "    </tr>\n",
       "    <tr>\n",
       "      <th>21</th>\n",
       "      <td>Chris Mullin</td>\n",
       "      <td>IND</td>\n",
       "      <td>Indiana Pacers</td>\n",
       "      <td>Indianapolis</td>\n",
       "      <td>Indiana</td>\n",
       "      <td>Indianapolis, Indiana</td>\n",
       "    </tr>\n",
       "    <tr>\n",
       "      <th>22</th>\n",
       "      <td>Scottie Pippen</td>\n",
       "      <td>CHI</td>\n",
       "      <td>Chicago Bulls</td>\n",
       "      <td>Chicago</td>\n",
       "      <td>Illinois</td>\n",
       "      <td>Chicago, Illinois</td>\n",
       "    </tr>\n",
       "    <tr>\n",
       "      <th>23</th>\n",
       "      <td>Scottie Pippen</td>\n",
       "      <td>POR</td>\n",
       "      <td>Portland Trail Blazers</td>\n",
       "      <td>Portland</td>\n",
       "      <td>Oregon</td>\n",
       "      <td>Portland, Oregon</td>\n",
       "    </tr>\n",
       "    <tr>\n",
       "      <th>24</th>\n",
       "      <td>Scottie Pippen</td>\n",
       "      <td>HOU</td>\n",
       "      <td>Houston Rockets</td>\n",
       "      <td>Houston</td>\n",
       "      <td>Texas</td>\n",
       "      <td>Houston, Texas</td>\n",
       "    </tr>\n",
       "    <tr>\n",
       "      <th>25</th>\n",
       "      <td>David Robinson</td>\n",
       "      <td>SAN</td>\n",
       "      <td>San Antonio Spurs</td>\n",
       "      <td>San Antonio</td>\n",
       "      <td>Texas</td>\n",
       "      <td>San Antonio, Texas</td>\n",
       "    </tr>\n",
       "    <tr>\n",
       "      <th>26</th>\n",
       "      <td>John Stockton</td>\n",
       "      <td>UTH</td>\n",
       "      <td>Utah Jazz</td>\n",
       "      <td>Salt Lake City</td>\n",
       "      <td>Utah</td>\n",
       "      <td>Salt Lake City, Utah</td>\n",
       "    </tr>\n",
       "  </tbody>\n",
       "</table>\n",
       "</div>"
      ],
      "text/plain": [
       "                  Name Team_Abbreviation               Team_Name  \\\n",
       "0      Charles Barkley               PHL      Philadelphia 76ers   \n",
       "1      Charles Barkley               PHX            Phoenix Suns   \n",
       "2      Charles Barkley               HOU         Houston Rockets   \n",
       "3           Larry Bird               BOS          Boston Celtics   \n",
       "4        Clyde Drexler               POR  Portland Trail Blazers   \n",
       "5        Clyde Drexler               HOU         Houston Rockets   \n",
       "6        Patrick Ewing               NYK         New York Knicks   \n",
       "7        Patrick Ewing               SEA     Seattle SuperSonics   \n",
       "8        Patrick Ewing               ORL           Orlando Magic   \n",
       "9        Magic Johnson               LAL      Los Angeles Lakers   \n",
       "10      Michael Jordan               CHI           Chicago Bulls   \n",
       "11      Michael Jordan               WAS      Washington Wizards   \n",
       "12  Christian Laettner               MIN  Minnesota Timberwolves   \n",
       "13  Christian Laettner               WAS      Washington Wizards   \n",
       "14  Christian Laettner               ATL           Atlanta Hawks   \n",
       "15  Christian Laettner               TOT        Dallas Mavericks   \n",
       "16  Christian Laettner               DET         Detroit Pistons   \n",
       "17  Christian Laettner               MIA              Miami Heat   \n",
       "18         Karl Malone               UTH               Utah Jazz   \n",
       "19         Karl Malone               LAL      Los Angeles Lakers   \n",
       "20        Chris Mullin               GOS   Golden State Warriors   \n",
       "21        Chris Mullin               IND          Indiana Pacers   \n",
       "22      Scottie Pippen               CHI           Chicago Bulls   \n",
       "23      Scottie Pippen               POR  Portland Trail Blazers   \n",
       "24      Scottie Pippen               HOU         Houston Rockets   \n",
       "25      David Robinson               SAN       San Antonio Spurs   \n",
       "26       John Stockton               UTH               Utah Jazz   \n",
       "\n",
       "              City                 State                        City_State  \n",
       "0     Philadelphia          Pennsylvania        Philadelphia, Pennsylvania  \n",
       "1          Phoenix               Arizona                  Phoenix, Arizona  \n",
       "2          Houston                 Texas                    Houston, Texas  \n",
       "3           Boston         Massachusetts             Boston, Massachusetts  \n",
       "4         Portland                Oregon                  Portland, Oregon  \n",
       "5          Houston                 Texas                    Houston, Texas  \n",
       "6         New York              New York                New York, New York  \n",
       "7          Seattle            Washington               Seattle, Washington  \n",
       "8          Orlando               Florida                  Orlando, Florida  \n",
       "9      Los Angeles            California           Los Angeles, California  \n",
       "10         Chicago              Illinois                 Chicago, Illinois  \n",
       "11      Washington  District of Columbia  Washington, District of Columbia  \n",
       "12     Minneapolis             Minnesota            Minneapolis, Minnesota  \n",
       "13      Washington  District of Columbia  Washington, District of Columbia  \n",
       "14         Atlanta               Georgia                  Atlanta, Georgia  \n",
       "15          Dallas                 Texas                     Dallas, Texas  \n",
       "16         Detroit              Michigan                 Detroit, Michigan  \n",
       "17           Miami               Florida                    Miami, Florida  \n",
       "18  Salt Lake City                  Utah              Salt Lake City, Utah  \n",
       "19     Los Angeles            California           Los Angeles, California  \n",
       "20   San Francisco            California         San Francisco, California  \n",
       "21    Indianapolis               Indiana             Indianapolis, Indiana  \n",
       "22         Chicago              Illinois                 Chicago, Illinois  \n",
       "23        Portland                Oregon                  Portland, Oregon  \n",
       "24         Houston                 Texas                    Houston, Texas  \n",
       "25     San Antonio                 Texas                San Antonio, Texas  \n",
       "26  Salt Lake City                  Utah              Salt Lake City, Utah  "
      ]
     },
     "execution_count": 14,
     "metadata": {},
     "output_type": "execute_result"
    }
   ],
   "source": [
    "# create single column for City and State combined to facilitate geocoding\n",
    "City_State=[]\n",
    "for index, row in mapdata[['City', 'State']].iterrows():\n",
    "    City_State.append(row['City'] + \", \" + row['State'])\n",
    "\n",
    "mapdata['City_State']=City_State\n",
    "\n",
    "mapdata"
   ]
  },
  {
   "cell_type": "code",
   "execution_count": null,
   "id": "947f90fd",
   "metadata": {},
   "outputs": [],
   "source": [
    "# geocoding City_State column for scattermap\n",
    "Longitude=[]\n",
    "Latitude=[]\n",
    "\n",
    "geo=Nominatim(user_agent = \"nba_map\")\n",
    "for x in mapdata['City_State']:\n",
    "\tgeo_info = geo.geocode(x, timeout=None)\n",
    "\tLatitude.append(geo_info.latitude)\n",
    "\tLongitude.append(geo_info.longitude)"
   ]
  },
  {
   "cell_type": "code",
   "execution_count": null,
   "id": "3bfbe570",
   "metadata": {},
   "outputs": [
    {
     "data": {
      "text/plain": [
       "[39.9527237,\n",
       " 33.4484367,\n",
       " 29.7589382,\n",
       " 42.3554334,\n",
       " 45.5202471,\n",
       " 29.7589382,\n",
       " 40.7127281,\n",
       " 47.6038321,\n",
       " 28.5421109,\n",
       " 34.0536909,\n",
       " 41.8755616,\n",
       " 38.8950368,\n",
       " 44.9772995,\n",
       " 38.8950368,\n",
       " 33.7544657,\n",
       " 32.7762719,\n",
       " 42.3315509,\n",
       " 25.7741728,\n",
       " 40.7596198,\n",
       " 34.0536909,\n",
       " 37.7792588,\n",
       " 39.7683331,\n",
       " 41.8755616,\n",
       " 45.5202471,\n",
       " 29.7589382,\n",
       " 29.4246002,\n",
       " 40.7596198]"
      ]
     },
     "execution_count": 16,
     "metadata": {},
     "output_type": "execute_result"
    },
    {
     "data": {
      "text/plain": [
       "[-75.1635262,\n",
       " -112.074141,\n",
       " -95.3676974,\n",
       " -71.060511,\n",
       " -122.674194,\n",
       " -95.3676974,\n",
       " -74.0060152,\n",
       " -122.330062,\n",
       " -81.3790304,\n",
       " -118.242766,\n",
       " -87.6244212,\n",
       " -77.0365427,\n",
       " -93.2654692,\n",
       " -77.0365427,\n",
       " -84.3898151,\n",
       " -96.7968559,\n",
       " -83.0466403,\n",
       " -80.19362,\n",
       " -111.886797,\n",
       " -118.242766,\n",
       " -122.4193286,\n",
       " -86.1583502,\n",
       " -87.6244212,\n",
       " -122.674194,\n",
       " -95.3676974,\n",
       " -98.4951405,\n",
       " -111.886797]"
      ]
     },
     "execution_count": 16,
     "metadata": {},
     "output_type": "execute_result"
    }
   ],
   "source": [
    "# check lists\n",
    "Latitude\n",
    "Longitude"
   ]
  },
  {
   "cell_type": "code",
   "execution_count": null,
   "id": "1c94ce96",
   "metadata": {},
   "outputs": [
    {
     "data": {
      "text/plain": [
       "[39.95277505808986,\n",
       " 33.448500533683486,\n",
       " 29.75899941492307,\n",
       " 42.355520789727464,\n",
       " 45.52015890195517,\n",
       " 29.758854852238443,\n",
       " 40.7127998250945,\n",
       " 47.60381526554288,\n",
       " 28.54212425177025,\n",
       " 34.05360143833763,\n",
       " 41.87558653620117,\n",
       " 38.89504721481064,\n",
       " 44.977246411145806,\n",
       " 38.89494698444187,\n",
       " 33.75449975142492,\n",
       " 32.776279293283494,\n",
       " 42.3314617030277,\n",
       " 25.774076900414162,\n",
       " 40.75957550544982,\n",
       " 34.0536762266759,\n",
       " 37.77921195421022,\n",
       " 39.768332058941205,\n",
       " 41.87563789859798,\n",
       " 45.52033681138473,\n",
       " 29.758964534673257,\n",
       " 29.424655621241357,\n",
       " 40.75959446919277]"
      ]
     },
     "execution_count": 17,
     "metadata": {},
     "output_type": "execute_result"
    },
    {
     "data": {
      "text/plain": [
       "[-75.16350846377955,\n",
       " -112.07413761865502,\n",
       " -95.3676531340327,\n",
       " -71.06060851979267,\n",
       " -122.67418462605785,\n",
       " -95.36776267819903,\n",
       " -74.00593987979089,\n",
       " -122.33007544612937,\n",
       " -81.37899210603659,\n",
       " -118.24284126994013,\n",
       " -87.62440420579199,\n",
       " -77.03645968738286,\n",
       " -93.2654109264783,\n",
       " -77.03656171328782,\n",
       " -84.38978385325971,\n",
       " -96.79694868824255,\n",
       " -83.04670426850545,\n",
       " -80.19354495283729,\n",
       " -111.88681953720716,\n",
       " -118.24267683498402,\n",
       " -122.41935124485441,\n",
       " -86.15825069441193,\n",
       " -87.62446578127265,\n",
       " -122.67426193924675,\n",
       " -95.36778211459799,\n",
       " -98.49506426986467,\n",
       " -111.88678909285673]"
      ]
     },
     "execution_count": 17,
     "metadata": {},
     "output_type": "execute_result"
    }
   ],
   "source": [
    "# create distinct coordinates with jittering to keep from having the exact same coordinates \n",
    "# for 2 different players in the same city which will cause only one player to show up in map\n",
    "jitter_amount = 0.0001\n",
    "\n",
    "Latitude_new=[coord + np.random.uniform(-jitter_amount, jitter_amount) for coord in Latitude]\n",
    "Longitude_new=[coord + np.random.uniform(-jitter_amount, jitter_amount) for coord in Longitude]\n",
    "\n",
    "Latitude_new\n",
    "Longitude_new"
   ]
  },
  {
   "cell_type": "code",
   "execution_count": null,
   "id": "e769d10c",
   "metadata": {},
   "outputs": [
    {
     "data": {
      "text/html": [
       "<div>\n",
       "<style scoped>\n",
       "    .dataframe tbody tr th:only-of-type {\n",
       "        vertical-align: middle;\n",
       "    }\n",
       "\n",
       "    .dataframe tbody tr th {\n",
       "        vertical-align: top;\n",
       "    }\n",
       "\n",
       "    .dataframe thead th {\n",
       "        text-align: right;\n",
       "    }\n",
       "</style>\n",
       "<table border=\"1\" class=\"dataframe\">\n",
       "  <thead>\n",
       "    <tr style=\"text-align: right;\">\n",
       "      <th></th>\n",
       "      <th>Name</th>\n",
       "      <th>Team_Abbreviation</th>\n",
       "      <th>Team_Name</th>\n",
       "      <th>City</th>\n",
       "      <th>State</th>\n",
       "      <th>City_State</th>\n",
       "      <th>Latitude</th>\n",
       "      <th>Longitude</th>\n",
       "    </tr>\n",
       "  </thead>\n",
       "  <tbody>\n",
       "    <tr>\n",
       "      <th>0</th>\n",
       "      <td>Charles Barkley</td>\n",
       "      <td>PHL</td>\n",
       "      <td>Philadelphia 76ers</td>\n",
       "      <td>Philadelphia</td>\n",
       "      <td>Pennsylvania</td>\n",
       "      <td>Philadelphia, Pennsylvania</td>\n",
       "      <td>39.952775</td>\n",
       "      <td>-75.163508</td>\n",
       "    </tr>\n",
       "    <tr>\n",
       "      <th>1</th>\n",
       "      <td>Charles Barkley</td>\n",
       "      <td>PHX</td>\n",
       "      <td>Phoenix Suns</td>\n",
       "      <td>Phoenix</td>\n",
       "      <td>Arizona</td>\n",
       "      <td>Phoenix, Arizona</td>\n",
       "      <td>33.448501</td>\n",
       "      <td>-112.074138</td>\n",
       "    </tr>\n",
       "    <tr>\n",
       "      <th>2</th>\n",
       "      <td>Charles Barkley</td>\n",
       "      <td>HOU</td>\n",
       "      <td>Houston Rockets</td>\n",
       "      <td>Houston</td>\n",
       "      <td>Texas</td>\n",
       "      <td>Houston, Texas</td>\n",
       "      <td>29.758999</td>\n",
       "      <td>-95.367653</td>\n",
       "    </tr>\n",
       "    <tr>\n",
       "      <th>3</th>\n",
       "      <td>Larry Bird</td>\n",
       "      <td>BOS</td>\n",
       "      <td>Boston Celtics</td>\n",
       "      <td>Boston</td>\n",
       "      <td>Massachusetts</td>\n",
       "      <td>Boston, Massachusetts</td>\n",
       "      <td>42.355521</td>\n",
       "      <td>-71.060609</td>\n",
       "    </tr>\n",
       "    <tr>\n",
       "      <th>4</th>\n",
       "      <td>Clyde Drexler</td>\n",
       "      <td>POR</td>\n",
       "      <td>Portland Trail Blazers</td>\n",
       "      <td>Portland</td>\n",
       "      <td>Oregon</td>\n",
       "      <td>Portland, Oregon</td>\n",
       "      <td>45.520159</td>\n",
       "      <td>-122.674185</td>\n",
       "    </tr>\n",
       "    <tr>\n",
       "      <th>5</th>\n",
       "      <td>Clyde Drexler</td>\n",
       "      <td>HOU</td>\n",
       "      <td>Houston Rockets</td>\n",
       "      <td>Houston</td>\n",
       "      <td>Texas</td>\n",
       "      <td>Houston, Texas</td>\n",
       "      <td>29.758855</td>\n",
       "      <td>-95.367763</td>\n",
       "    </tr>\n",
       "    <tr>\n",
       "      <th>6</th>\n",
       "      <td>Patrick Ewing</td>\n",
       "      <td>NYK</td>\n",
       "      <td>New York Knicks</td>\n",
       "      <td>New York</td>\n",
       "      <td>New York</td>\n",
       "      <td>New York, New York</td>\n",
       "      <td>40.712800</td>\n",
       "      <td>-74.005940</td>\n",
       "    </tr>\n",
       "    <tr>\n",
       "      <th>7</th>\n",
       "      <td>Patrick Ewing</td>\n",
       "      <td>SEA</td>\n",
       "      <td>Seattle SuperSonics</td>\n",
       "      <td>Seattle</td>\n",
       "      <td>Washington</td>\n",
       "      <td>Seattle, Washington</td>\n",
       "      <td>47.603815</td>\n",
       "      <td>-122.330075</td>\n",
       "    </tr>\n",
       "    <tr>\n",
       "      <th>8</th>\n",
       "      <td>Patrick Ewing</td>\n",
       "      <td>ORL</td>\n",
       "      <td>Orlando Magic</td>\n",
       "      <td>Orlando</td>\n",
       "      <td>Florida</td>\n",
       "      <td>Orlando, Florida</td>\n",
       "      <td>28.542124</td>\n",
       "      <td>-81.378992</td>\n",
       "    </tr>\n",
       "    <tr>\n",
       "      <th>9</th>\n",
       "      <td>Magic Johnson</td>\n",
       "      <td>LAL</td>\n",
       "      <td>Los Angeles Lakers</td>\n",
       "      <td>Los Angeles</td>\n",
       "      <td>California</td>\n",
       "      <td>Los Angeles, California</td>\n",
       "      <td>34.053601</td>\n",
       "      <td>-118.242841</td>\n",
       "    </tr>\n",
       "    <tr>\n",
       "      <th>10</th>\n",
       "      <td>Michael Jordan</td>\n",
       "      <td>CHI</td>\n",
       "      <td>Chicago Bulls</td>\n",
       "      <td>Chicago</td>\n",
       "      <td>Illinois</td>\n",
       "      <td>Chicago, Illinois</td>\n",
       "      <td>41.875587</td>\n",
       "      <td>-87.624404</td>\n",
       "    </tr>\n",
       "    <tr>\n",
       "      <th>11</th>\n",
       "      <td>Michael Jordan</td>\n",
       "      <td>WAS</td>\n",
       "      <td>Washington Wizards</td>\n",
       "      <td>Washington</td>\n",
       "      <td>District of Columbia</td>\n",
       "      <td>Washington, District of Columbia</td>\n",
       "      <td>38.895047</td>\n",
       "      <td>-77.036460</td>\n",
       "    </tr>\n",
       "    <tr>\n",
       "      <th>12</th>\n",
       "      <td>Christian Laettner</td>\n",
       "      <td>MIN</td>\n",
       "      <td>Minnesota Timberwolves</td>\n",
       "      <td>Minneapolis</td>\n",
       "      <td>Minnesota</td>\n",
       "      <td>Minneapolis, Minnesota</td>\n",
       "      <td>44.977246</td>\n",
       "      <td>-93.265411</td>\n",
       "    </tr>\n",
       "    <tr>\n",
       "      <th>13</th>\n",
       "      <td>Christian Laettner</td>\n",
       "      <td>WAS</td>\n",
       "      <td>Washington Wizards</td>\n",
       "      <td>Washington</td>\n",
       "      <td>District of Columbia</td>\n",
       "      <td>Washington, District of Columbia</td>\n",
       "      <td>38.894947</td>\n",
       "      <td>-77.036562</td>\n",
       "    </tr>\n",
       "    <tr>\n",
       "      <th>14</th>\n",
       "      <td>Christian Laettner</td>\n",
       "      <td>ATL</td>\n",
       "      <td>Atlanta Hawks</td>\n",
       "      <td>Atlanta</td>\n",
       "      <td>Georgia</td>\n",
       "      <td>Atlanta, Georgia</td>\n",
       "      <td>33.754500</td>\n",
       "      <td>-84.389784</td>\n",
       "    </tr>\n",
       "    <tr>\n",
       "      <th>15</th>\n",
       "      <td>Christian Laettner</td>\n",
       "      <td>TOT</td>\n",
       "      <td>Dallas Mavericks</td>\n",
       "      <td>Dallas</td>\n",
       "      <td>Texas</td>\n",
       "      <td>Dallas, Texas</td>\n",
       "      <td>32.776279</td>\n",
       "      <td>-96.796949</td>\n",
       "    </tr>\n",
       "    <tr>\n",
       "      <th>16</th>\n",
       "      <td>Christian Laettner</td>\n",
       "      <td>DET</td>\n",
       "      <td>Detroit Pistons</td>\n",
       "      <td>Detroit</td>\n",
       "      <td>Michigan</td>\n",
       "      <td>Detroit, Michigan</td>\n",
       "      <td>42.331462</td>\n",
       "      <td>-83.046704</td>\n",
       "    </tr>\n",
       "    <tr>\n",
       "      <th>17</th>\n",
       "      <td>Christian Laettner</td>\n",
       "      <td>MIA</td>\n",
       "      <td>Miami Heat</td>\n",
       "      <td>Miami</td>\n",
       "      <td>Florida</td>\n",
       "      <td>Miami, Florida</td>\n",
       "      <td>25.774077</td>\n",
       "      <td>-80.193545</td>\n",
       "    </tr>\n",
       "    <tr>\n",
       "      <th>18</th>\n",
       "      <td>Karl Malone</td>\n",
       "      <td>UTH</td>\n",
       "      <td>Utah Jazz</td>\n",
       "      <td>Salt Lake City</td>\n",
       "      <td>Utah</td>\n",
       "      <td>Salt Lake City, Utah</td>\n",
       "      <td>40.759576</td>\n",
       "      <td>-111.886820</td>\n",
       "    </tr>\n",
       "    <tr>\n",
       "      <th>19</th>\n",
       "      <td>Karl Malone</td>\n",
       "      <td>LAL</td>\n",
       "      <td>Los Angeles Lakers</td>\n",
       "      <td>Los Angeles</td>\n",
       "      <td>California</td>\n",
       "      <td>Los Angeles, California</td>\n",
       "      <td>34.053676</td>\n",
       "      <td>-118.242677</td>\n",
       "    </tr>\n",
       "    <tr>\n",
       "      <th>20</th>\n",
       "      <td>Chris Mullin</td>\n",
       "      <td>GOS</td>\n",
       "      <td>Golden State Warriors</td>\n",
       "      <td>San Francisco</td>\n",
       "      <td>California</td>\n",
       "      <td>San Francisco, California</td>\n",
       "      <td>37.779212</td>\n",
       "      <td>-122.419351</td>\n",
       "    </tr>\n",
       "    <tr>\n",
       "      <th>21</th>\n",
       "      <td>Chris Mullin</td>\n",
       "      <td>IND</td>\n",
       "      <td>Indiana Pacers</td>\n",
       "      <td>Indianapolis</td>\n",
       "      <td>Indiana</td>\n",
       "      <td>Indianapolis, Indiana</td>\n",
       "      <td>39.768332</td>\n",
       "      <td>-86.158251</td>\n",
       "    </tr>\n",
       "    <tr>\n",
       "      <th>22</th>\n",
       "      <td>Scottie Pippen</td>\n",
       "      <td>CHI</td>\n",
       "      <td>Chicago Bulls</td>\n",
       "      <td>Chicago</td>\n",
       "      <td>Illinois</td>\n",
       "      <td>Chicago, Illinois</td>\n",
       "      <td>41.875638</td>\n",
       "      <td>-87.624466</td>\n",
       "    </tr>\n",
       "    <tr>\n",
       "      <th>23</th>\n",
       "      <td>Scottie Pippen</td>\n",
       "      <td>POR</td>\n",
       "      <td>Portland Trail Blazers</td>\n",
       "      <td>Portland</td>\n",
       "      <td>Oregon</td>\n",
       "      <td>Portland, Oregon</td>\n",
       "      <td>45.520337</td>\n",
       "      <td>-122.674262</td>\n",
       "    </tr>\n",
       "    <tr>\n",
       "      <th>24</th>\n",
       "      <td>Scottie Pippen</td>\n",
       "      <td>HOU</td>\n",
       "      <td>Houston Rockets</td>\n",
       "      <td>Houston</td>\n",
       "      <td>Texas</td>\n",
       "      <td>Houston, Texas</td>\n",
       "      <td>29.758965</td>\n",
       "      <td>-95.367782</td>\n",
       "    </tr>\n",
       "    <tr>\n",
       "      <th>25</th>\n",
       "      <td>David Robinson</td>\n",
       "      <td>SAN</td>\n",
       "      <td>San Antonio Spurs</td>\n",
       "      <td>San Antonio</td>\n",
       "      <td>Texas</td>\n",
       "      <td>San Antonio, Texas</td>\n",
       "      <td>29.424656</td>\n",
       "      <td>-98.495064</td>\n",
       "    </tr>\n",
       "    <tr>\n",
       "      <th>26</th>\n",
       "      <td>John Stockton</td>\n",
       "      <td>UTH</td>\n",
       "      <td>Utah Jazz</td>\n",
       "      <td>Salt Lake City</td>\n",
       "      <td>Utah</td>\n",
       "      <td>Salt Lake City, Utah</td>\n",
       "      <td>40.759594</td>\n",
       "      <td>-111.886789</td>\n",
       "    </tr>\n",
       "  </tbody>\n",
       "</table>\n",
       "</div>"
      ],
      "text/plain": [
       "                  Name Team_Abbreviation               Team_Name  \\\n",
       "0      Charles Barkley               PHL      Philadelphia 76ers   \n",
       "1      Charles Barkley               PHX            Phoenix Suns   \n",
       "2      Charles Barkley               HOU         Houston Rockets   \n",
       "3           Larry Bird               BOS          Boston Celtics   \n",
       "4        Clyde Drexler               POR  Portland Trail Blazers   \n",
       "5        Clyde Drexler               HOU         Houston Rockets   \n",
       "6        Patrick Ewing               NYK         New York Knicks   \n",
       "7        Patrick Ewing               SEA     Seattle SuperSonics   \n",
       "8        Patrick Ewing               ORL           Orlando Magic   \n",
       "9        Magic Johnson               LAL      Los Angeles Lakers   \n",
       "10      Michael Jordan               CHI           Chicago Bulls   \n",
       "11      Michael Jordan               WAS      Washington Wizards   \n",
       "12  Christian Laettner               MIN  Minnesota Timberwolves   \n",
       "13  Christian Laettner               WAS      Washington Wizards   \n",
       "14  Christian Laettner               ATL           Atlanta Hawks   \n",
       "15  Christian Laettner               TOT        Dallas Mavericks   \n",
       "16  Christian Laettner               DET         Detroit Pistons   \n",
       "17  Christian Laettner               MIA              Miami Heat   \n",
       "18         Karl Malone               UTH               Utah Jazz   \n",
       "19         Karl Malone               LAL      Los Angeles Lakers   \n",
       "20        Chris Mullin               GOS   Golden State Warriors   \n",
       "21        Chris Mullin               IND          Indiana Pacers   \n",
       "22      Scottie Pippen               CHI           Chicago Bulls   \n",
       "23      Scottie Pippen               POR  Portland Trail Blazers   \n",
       "24      Scottie Pippen               HOU         Houston Rockets   \n",
       "25      David Robinson               SAN       San Antonio Spurs   \n",
       "26       John Stockton               UTH               Utah Jazz   \n",
       "\n",
       "              City                 State                        City_State  \\\n",
       "0     Philadelphia          Pennsylvania        Philadelphia, Pennsylvania   \n",
       "1          Phoenix               Arizona                  Phoenix, Arizona   \n",
       "2          Houston                 Texas                    Houston, Texas   \n",
       "3           Boston         Massachusetts             Boston, Massachusetts   \n",
       "4         Portland                Oregon                  Portland, Oregon   \n",
       "5          Houston                 Texas                    Houston, Texas   \n",
       "6         New York              New York                New York, New York   \n",
       "7          Seattle            Washington               Seattle, Washington   \n",
       "8          Orlando               Florida                  Orlando, Florida   \n",
       "9      Los Angeles            California           Los Angeles, California   \n",
       "10         Chicago              Illinois                 Chicago, Illinois   \n",
       "11      Washington  District of Columbia  Washington, District of Columbia   \n",
       "12     Minneapolis             Minnesota            Minneapolis, Minnesota   \n",
       "13      Washington  District of Columbia  Washington, District of Columbia   \n",
       "14         Atlanta               Georgia                  Atlanta, Georgia   \n",
       "15          Dallas                 Texas                     Dallas, Texas   \n",
       "16         Detroit              Michigan                 Detroit, Michigan   \n",
       "17           Miami               Florida                    Miami, Florida   \n",
       "18  Salt Lake City                  Utah              Salt Lake City, Utah   \n",
       "19     Los Angeles            California           Los Angeles, California   \n",
       "20   San Francisco            California         San Francisco, California   \n",
       "21    Indianapolis               Indiana             Indianapolis, Indiana   \n",
       "22         Chicago              Illinois                 Chicago, Illinois   \n",
       "23        Portland                Oregon                  Portland, Oregon   \n",
       "24         Houston                 Texas                    Houston, Texas   \n",
       "25     San Antonio                 Texas                San Antonio, Texas   \n",
       "26  Salt Lake City                  Utah              Salt Lake City, Utah   \n",
       "\n",
       "     Latitude   Longitude  \n",
       "0   39.952775  -75.163508  \n",
       "1   33.448501 -112.074138  \n",
       "2   29.758999  -95.367653  \n",
       "3   42.355521  -71.060609  \n",
       "4   45.520159 -122.674185  \n",
       "5   29.758855  -95.367763  \n",
       "6   40.712800  -74.005940  \n",
       "7   47.603815 -122.330075  \n",
       "8   28.542124  -81.378992  \n",
       "9   34.053601 -118.242841  \n",
       "10  41.875587  -87.624404  \n",
       "11  38.895047  -77.036460  \n",
       "12  44.977246  -93.265411  \n",
       "13  38.894947  -77.036562  \n",
       "14  33.754500  -84.389784  \n",
       "15  32.776279  -96.796949  \n",
       "16  42.331462  -83.046704  \n",
       "17  25.774077  -80.193545  \n",
       "18  40.759576 -111.886820  \n",
       "19  34.053676 -118.242677  \n",
       "20  37.779212 -122.419351  \n",
       "21  39.768332  -86.158251  \n",
       "22  41.875638  -87.624466  \n",
       "23  45.520337 -122.674262  \n",
       "24  29.758965  -95.367782  \n",
       "25  29.424656  -98.495064  \n",
       "26  40.759594 -111.886789  "
      ]
     },
     "execution_count": 18,
     "metadata": {},
     "output_type": "execute_result"
    },
    {
     "name": "stdout",
     "output_type": "stream",
     "text": [
      "<class 'pandas.core.frame.DataFrame'>\n",
      "RangeIndex: 27 entries, 0 to 26\n",
      "Data columns (total 8 columns):\n",
      " #   Column             Non-Null Count  Dtype  \n",
      "---  ------             --------------  -----  \n",
      " 0   Name               27 non-null     object \n",
      " 1   Team_Abbreviation  27 non-null     object \n",
      " 2   Team_Name          27 non-null     object \n",
      " 3   City               27 non-null     object \n",
      " 4   State              27 non-null     object \n",
      " 5   City_State         27 non-null     object \n",
      " 6   Latitude           27 non-null     float64\n",
      " 7   Longitude          27 non-null     float64\n",
      "dtypes: float64(2), object(6)\n",
      "memory usage: 1.8+ KB\n"
     ]
    }
   ],
   "source": [
    "# add adjusted coordinates to mapdata dataframe\n",
    "mapdata['Latitude']=Latitude_new\n",
    "mapdata['Longitude']=Longitude_new\n",
    "\n",
    "mapdata\n",
    "mapdata.info()"
   ]
  },
  {
   "cell_type": "code",
   "execution_count": null,
   "id": "bdacc795",
   "metadata": {},
   "outputs": [
    {
     "data": {
      "application/vnd.plotly.v1+json": {
       "config": {
        "plotlyServerURL": "https://plot.ly"
       },
       "data": [
        {
         "customdata": [
          [
           39.95277505808986,
           -75.16350846377955,
           "Charles Barkley",
           "Philadelphia 76ers",
           "Philadelphia, Pennsylvania"
          ],
          [
           33.448500533683486,
           -112.07413761865502,
           "Charles Barkley",
           "Phoenix Suns",
           "Phoenix, Arizona"
          ],
          [
           29.75899941492307,
           -95.3676531340327,
           "Charles Barkley",
           "Houston Rockets",
           "Houston, Texas"
          ],
          [
           42.355520789727464,
           -71.06060851979267,
           "Larry Bird",
           "Boston Celtics",
           "Boston, Massachusetts"
          ],
          [
           45.52015890195517,
           -122.67418462605785,
           "Clyde Drexler",
           "Portland Trail Blazers",
           "Portland, Oregon"
          ],
          [
           29.758854852238443,
           -95.36776267819903,
           "Clyde Drexler",
           "Houston Rockets",
           "Houston, Texas"
          ],
          [
           40.7127998250945,
           -74.00593987979089,
           "Patrick Ewing",
           "New York Knicks",
           "New York, New York"
          ],
          [
           47.60381526554288,
           -122.33007544612937,
           "Patrick Ewing",
           "Seattle SuperSonics",
           "Seattle, Washington"
          ],
          [
           28.54212425177025,
           -81.37899210603659,
           "Patrick Ewing",
           "Orlando Magic",
           "Orlando, Florida"
          ],
          [
           34.05360143833763,
           -118.24284126994013,
           "Magic Johnson",
           "Los Angeles Lakers",
           "Los Angeles, California"
          ],
          [
           41.87558653620117,
           -87.62440420579199,
           "Michael Jordan",
           "Chicago Bulls",
           "Chicago, Illinois"
          ],
          [
           38.89504721481064,
           -77.03645968738286,
           "Michael Jordan",
           "Washington Wizards",
           "Washington, District of Columbia"
          ],
          [
           44.977246411145806,
           -93.2654109264783,
           "Christian Laettner",
           "Minnesota Timberwolves",
           "Minneapolis, Minnesota"
          ],
          [
           38.89494698444187,
           -77.03656171328782,
           "Christian Laettner",
           "Washington Wizards",
           "Washington, District of Columbia"
          ],
          [
           33.75449975142492,
           -84.38978385325971,
           "Christian Laettner",
           "Atlanta Hawks",
           "Atlanta, Georgia"
          ],
          [
           32.776279293283494,
           -96.79694868824255,
           "Christian Laettner",
           "Dallas Mavericks",
           "Dallas, Texas"
          ],
          [
           42.3314617030277,
           -83.04670426850545,
           "Christian Laettner",
           "Detroit Pistons",
           "Detroit, Michigan"
          ],
          [
           25.774076900414162,
           -80.19354495283729,
           "Christian Laettner",
           "Miami Heat",
           "Miami, Florida"
          ],
          [
           40.75957550544982,
           -111.88681953720716,
           "Karl Malone",
           "Utah Jazz",
           "Salt Lake City, Utah"
          ],
          [
           34.0536762266759,
           -118.24267683498402,
           "Karl Malone",
           "Los Angeles Lakers",
           "Los Angeles, California"
          ],
          [
           37.77921195421022,
           -122.41935124485441,
           "Chris Mullin",
           "Golden State Warriors",
           "San Francisco, California"
          ],
          [
           39.768332058941205,
           -86.15825069441193,
           "Chris Mullin",
           "Indiana Pacers",
           "Indianapolis, Indiana"
          ],
          [
           41.87563789859798,
           -87.62446578127265,
           "Scottie Pippen",
           "Chicago Bulls",
           "Chicago, Illinois"
          ],
          [
           45.52033681138473,
           -122.67426193924675,
           "Scottie Pippen",
           "Portland Trail Blazers",
           "Portland, Oregon"
          ],
          [
           29.758964534673257,
           -95.36778211459799,
           "Scottie Pippen",
           "Houston Rockets",
           "Houston, Texas"
          ],
          [
           29.424655621241357,
           -98.49506426986467,
           "David Robinson",
           "San Antonio Spurs",
           "San Antonio, Texas"
          ],
          [
           40.75959446919277,
           -111.88678909285673,
           "John Stockton",
           "Utah Jazz",
           "Salt Lake City, Utah"
          ]
         ],
         "hovertemplate": "Name=%{customdata[2]}<br>Team_Name=%{customdata[3]}<br>City_State=%{customdata[4]}<extra></extra>",
         "lat": {
          "bdata": "YXh5iPT5Q0BeNCp3aLlAQBnHIMlNwj1AunaKtIEtRUB0TyCRlMJGQGjGxE9Ewj1ADbBQBj1bRECGKpHRSc1HQMG4q6fIijxA31Z0adwGQUCm5jg4E/BEQGn+OeiQckNAlwAQaRZ9RkB06m6fjXJDQOeapnKT4EBAeJuwHl1jQECyMEtWbSpFQC3eW+cpxjlA9F8pxTlhREClEtPc3gZBQBn+oTe940JAd890tFjiQ0DpzhTnFPBEQLPmiWWawkZA2T7vf0vCPUBQSxU7tmw9QOWzPWQ6YURA",
          "dtype": "f8"
         },
         "legendgroup": "",
         "lon": {
          "bdata": "WiM07HbKUsC04bWrvgRcwE+8AqGH11fAlZeOAuHDUcCbGEbXJatewHjjeGyJ11fAa1ypUWGAUsCmlcP0H5VewKM3G2hBWFTAxCActoqPXcAi1w499udVwKI7A1tVQlPAbE4cfvxQV8DYtvAGV0JTwJmQ+TfyGFXA4SUSNQEzWMAhdOYz/cJUwH2vXgpjDFTAjXC7psH4W8A0cGsEiI9dwPGLmqbWml7AY0SFxyCKVcBgAlM/9+dVwCaAjBsnq17AIpD+vYnXV8ApHwwir59YwDoRCifB+FvA",
          "dtype": "f8"
         },
         "marker": {
          "color": "orange",
          "size": 10
         },
         "mode": "markers",
         "name": "",
         "showlegend": false,
         "subplot": "map",
         "type": "scattermap"
        }
       ],
       "layout": {
        "height": 800,
        "legend": {
         "tracegroupgap": 0
        },
        "map": {
         "center": {
          "lat": 37.43282519283258,
          "lon": -96.36336976101838
         },
         "domain": {
          "x": [
           0,
           1
          ],
          "y": [
           0,
           1
          ]
         },
         "style": "open-street-map",
         "zoom": 3.5
        },
        "mapbox": {
         "center": {
          "lat": 37.43282519283258,
          "lon": -96.36336976101838
         },
         "style": "open-street-map",
         "zoom": 3.5
        },
        "template": {
         "data": {
          "bar": [
           {
            "error_x": {
             "color": "#2a3f5f"
            },
            "error_y": {
             "color": "#2a3f5f"
            },
            "marker": {
             "line": {
              "color": "#E5ECF6",
              "width": 0.5
             },
             "pattern": {
              "fillmode": "overlay",
              "size": 10,
              "solidity": 0.2
             }
            },
            "type": "bar"
           }
          ],
          "barpolar": [
           {
            "marker": {
             "line": {
              "color": "#E5ECF6",
              "width": 0.5
             },
             "pattern": {
              "fillmode": "overlay",
              "size": 10,
              "solidity": 0.2
             }
            },
            "type": "barpolar"
           }
          ],
          "carpet": [
           {
            "aaxis": {
             "endlinecolor": "#2a3f5f",
             "gridcolor": "white",
             "linecolor": "white",
             "minorgridcolor": "white",
             "startlinecolor": "#2a3f5f"
            },
            "baxis": {
             "endlinecolor": "#2a3f5f",
             "gridcolor": "white",
             "linecolor": "white",
             "minorgridcolor": "white",
             "startlinecolor": "#2a3f5f"
            },
            "type": "carpet"
           }
          ],
          "choropleth": [
           {
            "colorbar": {
             "outlinewidth": 0,
             "ticks": ""
            },
            "type": "choropleth"
           }
          ],
          "contour": [
           {
            "colorbar": {
             "outlinewidth": 0,
             "ticks": ""
            },
            "colorscale": [
             [
              0,
              "#0d0887"
             ],
             [
              0.1111111111111111,
              "#46039f"
             ],
             [
              0.2222222222222222,
              "#7201a8"
             ],
             [
              0.3333333333333333,
              "#9c179e"
             ],
             [
              0.4444444444444444,
              "#bd3786"
             ],
             [
              0.5555555555555556,
              "#d8576b"
             ],
             [
              0.6666666666666666,
              "#ed7953"
             ],
             [
              0.7777777777777778,
              "#fb9f3a"
             ],
             [
              0.8888888888888888,
              "#fdca26"
             ],
             [
              1,
              "#f0f921"
             ]
            ],
            "type": "contour"
           }
          ],
          "contourcarpet": [
           {
            "colorbar": {
             "outlinewidth": 0,
             "ticks": ""
            },
            "type": "contourcarpet"
           }
          ],
          "heatmap": [
           {
            "colorbar": {
             "outlinewidth": 0,
             "ticks": ""
            },
            "colorscale": [
             [
              0,
              "#0d0887"
             ],
             [
              0.1111111111111111,
              "#46039f"
             ],
             [
              0.2222222222222222,
              "#7201a8"
             ],
             [
              0.3333333333333333,
              "#9c179e"
             ],
             [
              0.4444444444444444,
              "#bd3786"
             ],
             [
              0.5555555555555556,
              "#d8576b"
             ],
             [
              0.6666666666666666,
              "#ed7953"
             ],
             [
              0.7777777777777778,
              "#fb9f3a"
             ],
             [
              0.8888888888888888,
              "#fdca26"
             ],
             [
              1,
              "#f0f921"
             ]
            ],
            "type": "heatmap"
           }
          ],
          "histogram": [
           {
            "marker": {
             "pattern": {
              "fillmode": "overlay",
              "size": 10,
              "solidity": 0.2
             }
            },
            "type": "histogram"
           }
          ],
          "histogram2d": [
           {
            "colorbar": {
             "outlinewidth": 0,
             "ticks": ""
            },
            "colorscale": [
             [
              0,
              "#0d0887"
             ],
             [
              0.1111111111111111,
              "#46039f"
             ],
             [
              0.2222222222222222,
              "#7201a8"
             ],
             [
              0.3333333333333333,
              "#9c179e"
             ],
             [
              0.4444444444444444,
              "#bd3786"
             ],
             [
              0.5555555555555556,
              "#d8576b"
             ],
             [
              0.6666666666666666,
              "#ed7953"
             ],
             [
              0.7777777777777778,
              "#fb9f3a"
             ],
             [
              0.8888888888888888,
              "#fdca26"
             ],
             [
              1,
              "#f0f921"
             ]
            ],
            "type": "histogram2d"
           }
          ],
          "histogram2dcontour": [
           {
            "colorbar": {
             "outlinewidth": 0,
             "ticks": ""
            },
            "colorscale": [
             [
              0,
              "#0d0887"
             ],
             [
              0.1111111111111111,
              "#46039f"
             ],
             [
              0.2222222222222222,
              "#7201a8"
             ],
             [
              0.3333333333333333,
              "#9c179e"
             ],
             [
              0.4444444444444444,
              "#bd3786"
             ],
             [
              0.5555555555555556,
              "#d8576b"
             ],
             [
              0.6666666666666666,
              "#ed7953"
             ],
             [
              0.7777777777777778,
              "#fb9f3a"
             ],
             [
              0.8888888888888888,
              "#fdca26"
             ],
             [
              1,
              "#f0f921"
             ]
            ],
            "type": "histogram2dcontour"
           }
          ],
          "mesh3d": [
           {
            "colorbar": {
             "outlinewidth": 0,
             "ticks": ""
            },
            "type": "mesh3d"
           }
          ],
          "parcoords": [
           {
            "line": {
             "colorbar": {
              "outlinewidth": 0,
              "ticks": ""
             }
            },
            "type": "parcoords"
           }
          ],
          "pie": [
           {
            "automargin": true,
            "type": "pie"
           }
          ],
          "scatter": [
           {
            "fillpattern": {
             "fillmode": "overlay",
             "size": 10,
             "solidity": 0.2
            },
            "type": "scatter"
           }
          ],
          "scatter3d": [
           {
            "line": {
             "colorbar": {
              "outlinewidth": 0,
              "ticks": ""
             }
            },
            "marker": {
             "colorbar": {
              "outlinewidth": 0,
              "ticks": ""
             }
            },
            "type": "scatter3d"
           }
          ],
          "scattercarpet": [
           {
            "marker": {
             "colorbar": {
              "outlinewidth": 0,
              "ticks": ""
             }
            },
            "type": "scattercarpet"
           }
          ],
          "scattergeo": [
           {
            "marker": {
             "colorbar": {
              "outlinewidth": 0,
              "ticks": ""
             }
            },
            "type": "scattergeo"
           }
          ],
          "scattergl": [
           {
            "marker": {
             "colorbar": {
              "outlinewidth": 0,
              "ticks": ""
             }
            },
            "type": "scattergl"
           }
          ],
          "scattermap": [
           {
            "marker": {
             "colorbar": {
              "outlinewidth": 0,
              "ticks": ""
             }
            },
            "type": "scattermap"
           }
          ],
          "scattermapbox": [
           {
            "marker": {
             "colorbar": {
              "outlinewidth": 0,
              "ticks": ""
             }
            },
            "type": "scattermapbox"
           }
          ],
          "scatterpolar": [
           {
            "marker": {
             "colorbar": {
              "outlinewidth": 0,
              "ticks": ""
             }
            },
            "type": "scatterpolar"
           }
          ],
          "scatterpolargl": [
           {
            "marker": {
             "colorbar": {
              "outlinewidth": 0,
              "ticks": ""
             }
            },
            "type": "scatterpolargl"
           }
          ],
          "scatterternary": [
           {
            "marker": {
             "colorbar": {
              "outlinewidth": 0,
              "ticks": ""
             }
            },
            "type": "scatterternary"
           }
          ],
          "surface": [
           {
            "colorbar": {
             "outlinewidth": 0,
             "ticks": ""
            },
            "colorscale": [
             [
              0,
              "#0d0887"
             ],
             [
              0.1111111111111111,
              "#46039f"
             ],
             [
              0.2222222222222222,
              "#7201a8"
             ],
             [
              0.3333333333333333,
              "#9c179e"
             ],
             [
              0.4444444444444444,
              "#bd3786"
             ],
             [
              0.5555555555555556,
              "#d8576b"
             ],
             [
              0.6666666666666666,
              "#ed7953"
             ],
             [
              0.7777777777777778,
              "#fb9f3a"
             ],
             [
              0.8888888888888888,
              "#fdca26"
             ],
             [
              1,
              "#f0f921"
             ]
            ],
            "type": "surface"
           }
          ],
          "table": [
           {
            "cells": {
             "fill": {
              "color": "#EBF0F8"
             },
             "line": {
              "color": "white"
             }
            },
            "header": {
             "fill": {
              "color": "#C8D4E3"
             },
             "line": {
              "color": "white"
             }
            },
            "type": "table"
           }
          ]
         },
         "layout": {
          "annotationdefaults": {
           "arrowcolor": "#2a3f5f",
           "arrowhead": 0,
           "arrowwidth": 1
          },
          "autotypenumbers": "strict",
          "coloraxis": {
           "colorbar": {
            "outlinewidth": 0,
            "ticks": ""
           }
          },
          "colorscale": {
           "diverging": [
            [
             0,
             "#8e0152"
            ],
            [
             0.1,
             "#c51b7d"
            ],
            [
             0.2,
             "#de77ae"
            ],
            [
             0.3,
             "#f1b6da"
            ],
            [
             0.4,
             "#fde0ef"
            ],
            [
             0.5,
             "#f7f7f7"
            ],
            [
             0.6,
             "#e6f5d0"
            ],
            [
             0.7,
             "#b8e186"
            ],
            [
             0.8,
             "#7fbc41"
            ],
            [
             0.9,
             "#4d9221"
            ],
            [
             1,
             "#276419"
            ]
           ],
           "sequential": [
            [
             0,
             "#0d0887"
            ],
            [
             0.1111111111111111,
             "#46039f"
            ],
            [
             0.2222222222222222,
             "#7201a8"
            ],
            [
             0.3333333333333333,
             "#9c179e"
            ],
            [
             0.4444444444444444,
             "#bd3786"
            ],
            [
             0.5555555555555556,
             "#d8576b"
            ],
            [
             0.6666666666666666,
             "#ed7953"
            ],
            [
             0.7777777777777778,
             "#fb9f3a"
            ],
            [
             0.8888888888888888,
             "#fdca26"
            ],
            [
             1,
             "#f0f921"
            ]
           ],
           "sequentialminus": [
            [
             0,
             "#0d0887"
            ],
            [
             0.1111111111111111,
             "#46039f"
            ],
            [
             0.2222222222222222,
             "#7201a8"
            ],
            [
             0.3333333333333333,
             "#9c179e"
            ],
            [
             0.4444444444444444,
             "#bd3786"
            ],
            [
             0.5555555555555556,
             "#d8576b"
            ],
            [
             0.6666666666666666,
             "#ed7953"
            ],
            [
             0.7777777777777778,
             "#fb9f3a"
            ],
            [
             0.8888888888888888,
             "#fdca26"
            ],
            [
             1,
             "#f0f921"
            ]
           ]
          },
          "colorway": [
           "#636efa",
           "#EF553B",
           "#00cc96",
           "#ab63fa",
           "#FFA15A",
           "#19d3f3",
           "#FF6692",
           "#B6E880",
           "#FF97FF",
           "#FECB52"
          ],
          "font": {
           "color": "#2a3f5f"
          },
          "geo": {
           "bgcolor": "white",
           "lakecolor": "white",
           "landcolor": "#E5ECF6",
           "showlakes": true,
           "showland": true,
           "subunitcolor": "white"
          },
          "hoverlabel": {
           "align": "left"
          },
          "hovermode": "closest",
          "mapbox": {
           "style": "light"
          },
          "paper_bgcolor": "white",
          "plot_bgcolor": "#E5ECF6",
          "polar": {
           "angularaxis": {
            "gridcolor": "white",
            "linecolor": "white",
            "ticks": ""
           },
           "bgcolor": "#E5ECF6",
           "radialaxis": {
            "gridcolor": "white",
            "linecolor": "white",
            "ticks": ""
           }
          },
          "scene": {
           "xaxis": {
            "backgroundcolor": "#E5ECF6",
            "gridcolor": "white",
            "gridwidth": 2,
            "linecolor": "white",
            "showbackground": true,
            "ticks": "",
            "zerolinecolor": "white"
           },
           "yaxis": {
            "backgroundcolor": "#E5ECF6",
            "gridcolor": "white",
            "gridwidth": 2,
            "linecolor": "white",
            "showbackground": true,
            "ticks": "",
            "zerolinecolor": "white"
           },
           "zaxis": {
            "backgroundcolor": "#E5ECF6",
            "gridcolor": "white",
            "gridwidth": 2,
            "linecolor": "white",
            "showbackground": true,
            "ticks": "",
            "zerolinecolor": "white"
           }
          },
          "shapedefaults": {
           "line": {
            "color": "#2a3f5f"
           }
          },
          "ternary": {
           "aaxis": {
            "gridcolor": "white",
            "linecolor": "white",
            "ticks": ""
           },
           "baxis": {
            "gridcolor": "white",
            "linecolor": "white",
            "ticks": ""
           },
           "bgcolor": "#E5ECF6",
           "caxis": {
            "gridcolor": "white",
            "linecolor": "white",
            "ticks": ""
           }
          },
          "title": {
           "x": 0.05
          },
          "xaxis": {
           "automargin": true,
           "gridcolor": "white",
           "linecolor": "white",
           "ticks": "",
           "title": {
            "standoff": 15
           },
           "zerolinecolor": "white",
           "zerolinewidth": 2
          },
          "yaxis": {
           "automargin": true,
           "gridcolor": "white",
           "linecolor": "white",
           "ticks": "",
           "title": {
            "standoff": 15
           },
           "zerolinecolor": "white",
           "zerolinewidth": 2
          }
         }
        },
        "title": {
         "text": "NBA Teams Played for during NBA Careers"
        }
       }
      }
     },
     "metadata": {},
     "output_type": "display_data"
    }
   ],
   "source": [
    "# scattermap of locations of all NBA teams played for during their careers\n",
    "fig = px.scatter_map(mapdata, lat=\"Latitude\", \n",
    "                     lon=\"Longitude\", \n",
    "                     hover_data={'Latitude': False, 'Longitude': False, 'Name': True, 'Team_Name': True, 'City_State': True},\n",
    "                     map_style='open-street-map', \n",
    "                     title= \"NBA Teams Played for during NBA Careers\",\n",
    "                     color_discrete_sequence=['orange'],\n",
    "                     height=800, zoom=3.5).update_traces(marker=dict(size=10))\n",
    "fig.show()"
   ]
  },
  {
   "cell_type": "code",
   "execution_count": null,
   "id": "c66704e3",
   "metadata": {},
   "outputs": [
    {
     "data": {
      "application/vnd.plotly.v1+json": {
       "config": {
        "plotlyServerURL": "https://plot.ly"
       },
       "data": [
        {
         "marker": {
          "color": "purple"
         },
         "type": "bar",
         "x": [
          "Charles Barkley",
          "Larry Bird",
          "Clyde Drexler",
          "Patrick Ewing",
          "Magic Johnson",
          "Michael Jordan",
          "Christian Laettner",
          "Karl Malone",
          "Chris Mullin",
          "Scottie Pippen",
          "David Robinson",
          "John Stockton"
         ],
         "y": [
          3,
          1,
          2,
          3,
          1,
          2,
          6,
          2,
          2,
          3,
          1,
          1
         ]
        }
       ],
       "layout": {
        "plot_bgcolor": "lightgrey",
        "template": {
         "data": {
          "bar": [
           {
            "error_x": {
             "color": "#2a3f5f"
            },
            "error_y": {
             "color": "#2a3f5f"
            },
            "marker": {
             "line": {
              "color": "#E5ECF6",
              "width": 0.5
             },
             "pattern": {
              "fillmode": "overlay",
              "size": 10,
              "solidity": 0.2
             }
            },
            "type": "bar"
           }
          ],
          "barpolar": [
           {
            "marker": {
             "line": {
              "color": "#E5ECF6",
              "width": 0.5
             },
             "pattern": {
              "fillmode": "overlay",
              "size": 10,
              "solidity": 0.2
             }
            },
            "type": "barpolar"
           }
          ],
          "carpet": [
           {
            "aaxis": {
             "endlinecolor": "#2a3f5f",
             "gridcolor": "white",
             "linecolor": "white",
             "minorgridcolor": "white",
             "startlinecolor": "#2a3f5f"
            },
            "baxis": {
             "endlinecolor": "#2a3f5f",
             "gridcolor": "white",
             "linecolor": "white",
             "minorgridcolor": "white",
             "startlinecolor": "#2a3f5f"
            },
            "type": "carpet"
           }
          ],
          "choropleth": [
           {
            "colorbar": {
             "outlinewidth": 0,
             "ticks": ""
            },
            "type": "choropleth"
           }
          ],
          "contour": [
           {
            "colorbar": {
             "outlinewidth": 0,
             "ticks": ""
            },
            "colorscale": [
             [
              0,
              "#0d0887"
             ],
             [
              0.1111111111111111,
              "#46039f"
             ],
             [
              0.2222222222222222,
              "#7201a8"
             ],
             [
              0.3333333333333333,
              "#9c179e"
             ],
             [
              0.4444444444444444,
              "#bd3786"
             ],
             [
              0.5555555555555556,
              "#d8576b"
             ],
             [
              0.6666666666666666,
              "#ed7953"
             ],
             [
              0.7777777777777778,
              "#fb9f3a"
             ],
             [
              0.8888888888888888,
              "#fdca26"
             ],
             [
              1,
              "#f0f921"
             ]
            ],
            "type": "contour"
           }
          ],
          "contourcarpet": [
           {
            "colorbar": {
             "outlinewidth": 0,
             "ticks": ""
            },
            "type": "contourcarpet"
           }
          ],
          "heatmap": [
           {
            "colorbar": {
             "outlinewidth": 0,
             "ticks": ""
            },
            "colorscale": [
             [
              0,
              "#0d0887"
             ],
             [
              0.1111111111111111,
              "#46039f"
             ],
             [
              0.2222222222222222,
              "#7201a8"
             ],
             [
              0.3333333333333333,
              "#9c179e"
             ],
             [
              0.4444444444444444,
              "#bd3786"
             ],
             [
              0.5555555555555556,
              "#d8576b"
             ],
             [
              0.6666666666666666,
              "#ed7953"
             ],
             [
              0.7777777777777778,
              "#fb9f3a"
             ],
             [
              0.8888888888888888,
              "#fdca26"
             ],
             [
              1,
              "#f0f921"
             ]
            ],
            "type": "heatmap"
           }
          ],
          "histogram": [
           {
            "marker": {
             "pattern": {
              "fillmode": "overlay",
              "size": 10,
              "solidity": 0.2
             }
            },
            "type": "histogram"
           }
          ],
          "histogram2d": [
           {
            "colorbar": {
             "outlinewidth": 0,
             "ticks": ""
            },
            "colorscale": [
             [
              0,
              "#0d0887"
             ],
             [
              0.1111111111111111,
              "#46039f"
             ],
             [
              0.2222222222222222,
              "#7201a8"
             ],
             [
              0.3333333333333333,
              "#9c179e"
             ],
             [
              0.4444444444444444,
              "#bd3786"
             ],
             [
              0.5555555555555556,
              "#d8576b"
             ],
             [
              0.6666666666666666,
              "#ed7953"
             ],
             [
              0.7777777777777778,
              "#fb9f3a"
             ],
             [
              0.8888888888888888,
              "#fdca26"
             ],
             [
              1,
              "#f0f921"
             ]
            ],
            "type": "histogram2d"
           }
          ],
          "histogram2dcontour": [
           {
            "colorbar": {
             "outlinewidth": 0,
             "ticks": ""
            },
            "colorscale": [
             [
              0,
              "#0d0887"
             ],
             [
              0.1111111111111111,
              "#46039f"
             ],
             [
              0.2222222222222222,
              "#7201a8"
             ],
             [
              0.3333333333333333,
              "#9c179e"
             ],
             [
              0.4444444444444444,
              "#bd3786"
             ],
             [
              0.5555555555555556,
              "#d8576b"
             ],
             [
              0.6666666666666666,
              "#ed7953"
             ],
             [
              0.7777777777777778,
              "#fb9f3a"
             ],
             [
              0.8888888888888888,
              "#fdca26"
             ],
             [
              1,
              "#f0f921"
             ]
            ],
            "type": "histogram2dcontour"
           }
          ],
          "mesh3d": [
           {
            "colorbar": {
             "outlinewidth": 0,
             "ticks": ""
            },
            "type": "mesh3d"
           }
          ],
          "parcoords": [
           {
            "line": {
             "colorbar": {
              "outlinewidth": 0,
              "ticks": ""
             }
            },
            "type": "parcoords"
           }
          ],
          "pie": [
           {
            "automargin": true,
            "type": "pie"
           }
          ],
          "scatter": [
           {
            "fillpattern": {
             "fillmode": "overlay",
             "size": 10,
             "solidity": 0.2
            },
            "type": "scatter"
           }
          ],
          "scatter3d": [
           {
            "line": {
             "colorbar": {
              "outlinewidth": 0,
              "ticks": ""
             }
            },
            "marker": {
             "colorbar": {
              "outlinewidth": 0,
              "ticks": ""
             }
            },
            "type": "scatter3d"
           }
          ],
          "scattercarpet": [
           {
            "marker": {
             "colorbar": {
              "outlinewidth": 0,
              "ticks": ""
             }
            },
            "type": "scattercarpet"
           }
          ],
          "scattergeo": [
           {
            "marker": {
             "colorbar": {
              "outlinewidth": 0,
              "ticks": ""
             }
            },
            "type": "scattergeo"
           }
          ],
          "scattergl": [
           {
            "marker": {
             "colorbar": {
              "outlinewidth": 0,
              "ticks": ""
             }
            },
            "type": "scattergl"
           }
          ],
          "scattermap": [
           {
            "marker": {
             "colorbar": {
              "outlinewidth": 0,
              "ticks": ""
             }
            },
            "type": "scattermap"
           }
          ],
          "scattermapbox": [
           {
            "marker": {
             "colorbar": {
              "outlinewidth": 0,
              "ticks": ""
             }
            },
            "type": "scattermapbox"
           }
          ],
          "scatterpolar": [
           {
            "marker": {
             "colorbar": {
              "outlinewidth": 0,
              "ticks": ""
             }
            },
            "type": "scatterpolar"
           }
          ],
          "scatterpolargl": [
           {
            "marker": {
             "colorbar": {
              "outlinewidth": 0,
              "ticks": ""
             }
            },
            "type": "scatterpolargl"
           }
          ],
          "scatterternary": [
           {
            "marker": {
             "colorbar": {
              "outlinewidth": 0,
              "ticks": ""
             }
            },
            "type": "scatterternary"
           }
          ],
          "surface": [
           {
            "colorbar": {
             "outlinewidth": 0,
             "ticks": ""
            },
            "colorscale": [
             [
              0,
              "#0d0887"
             ],
             [
              0.1111111111111111,
              "#46039f"
             ],
             [
              0.2222222222222222,
              "#7201a8"
             ],
             [
              0.3333333333333333,
              "#9c179e"
             ],
             [
              0.4444444444444444,
              "#bd3786"
             ],
             [
              0.5555555555555556,
              "#d8576b"
             ],
             [
              0.6666666666666666,
              "#ed7953"
             ],
             [
              0.7777777777777778,
              "#fb9f3a"
             ],
             [
              0.8888888888888888,
              "#fdca26"
             ],
             [
              1,
              "#f0f921"
             ]
            ],
            "type": "surface"
           }
          ],
          "table": [
           {
            "cells": {
             "fill": {
              "color": "#EBF0F8"
             },
             "line": {
              "color": "white"
             }
            },
            "header": {
             "fill": {
              "color": "#C8D4E3"
             },
             "line": {
              "color": "white"
             }
            },
            "type": "table"
           }
          ]
         },
         "layout": {
          "annotationdefaults": {
           "arrowcolor": "#2a3f5f",
           "arrowhead": 0,
           "arrowwidth": 1
          },
          "autotypenumbers": "strict",
          "coloraxis": {
           "colorbar": {
            "outlinewidth": 0,
            "ticks": ""
           }
          },
          "colorscale": {
           "diverging": [
            [
             0,
             "#8e0152"
            ],
            [
             0.1,
             "#c51b7d"
            ],
            [
             0.2,
             "#de77ae"
            ],
            [
             0.3,
             "#f1b6da"
            ],
            [
             0.4,
             "#fde0ef"
            ],
            [
             0.5,
             "#f7f7f7"
            ],
            [
             0.6,
             "#e6f5d0"
            ],
            [
             0.7,
             "#b8e186"
            ],
            [
             0.8,
             "#7fbc41"
            ],
            [
             0.9,
             "#4d9221"
            ],
            [
             1,
             "#276419"
            ]
           ],
           "sequential": [
            [
             0,
             "#0d0887"
            ],
            [
             0.1111111111111111,
             "#46039f"
            ],
            [
             0.2222222222222222,
             "#7201a8"
            ],
            [
             0.3333333333333333,
             "#9c179e"
            ],
            [
             0.4444444444444444,
             "#bd3786"
            ],
            [
             0.5555555555555556,
             "#d8576b"
            ],
            [
             0.6666666666666666,
             "#ed7953"
            ],
            [
             0.7777777777777778,
             "#fb9f3a"
            ],
            [
             0.8888888888888888,
             "#fdca26"
            ],
            [
             1,
             "#f0f921"
            ]
           ],
           "sequentialminus": [
            [
             0,
             "#0d0887"
            ],
            [
             0.1111111111111111,
             "#46039f"
            ],
            [
             0.2222222222222222,
             "#7201a8"
            ],
            [
             0.3333333333333333,
             "#9c179e"
            ],
            [
             0.4444444444444444,
             "#bd3786"
            ],
            [
             0.5555555555555556,
             "#d8576b"
            ],
            [
             0.6666666666666666,
             "#ed7953"
            ],
            [
             0.7777777777777778,
             "#fb9f3a"
            ],
            [
             0.8888888888888888,
             "#fdca26"
            ],
            [
             1,
             "#f0f921"
            ]
           ]
          },
          "colorway": [
           "#636efa",
           "#EF553B",
           "#00cc96",
           "#ab63fa",
           "#FFA15A",
           "#19d3f3",
           "#FF6692",
           "#B6E880",
           "#FF97FF",
           "#FECB52"
          ],
          "font": {
           "color": "#2a3f5f"
          },
          "geo": {
           "bgcolor": "white",
           "lakecolor": "white",
           "landcolor": "#E5ECF6",
           "showlakes": true,
           "showland": true,
           "subunitcolor": "white"
          },
          "hoverlabel": {
           "align": "left"
          },
          "hovermode": "closest",
          "mapbox": {
           "style": "light"
          },
          "paper_bgcolor": "white",
          "plot_bgcolor": "#E5ECF6",
          "polar": {
           "angularaxis": {
            "gridcolor": "white",
            "linecolor": "white",
            "ticks": ""
           },
           "bgcolor": "#E5ECF6",
           "radialaxis": {
            "gridcolor": "white",
            "linecolor": "white",
            "ticks": ""
           }
          },
          "scene": {
           "xaxis": {
            "backgroundcolor": "#E5ECF6",
            "gridcolor": "white",
            "gridwidth": 2,
            "linecolor": "white",
            "showbackground": true,
            "ticks": "",
            "zerolinecolor": "white"
           },
           "yaxis": {
            "backgroundcolor": "#E5ECF6",
            "gridcolor": "white",
            "gridwidth": 2,
            "linecolor": "white",
            "showbackground": true,
            "ticks": "",
            "zerolinecolor": "white"
           },
           "zaxis": {
            "backgroundcolor": "#E5ECF6",
            "gridcolor": "white",
            "gridwidth": 2,
            "linecolor": "white",
            "showbackground": true,
            "ticks": "",
            "zerolinecolor": "white"
           }
          },
          "shapedefaults": {
           "line": {
            "color": "#2a3f5f"
           }
          },
          "ternary": {
           "aaxis": {
            "gridcolor": "white",
            "linecolor": "white",
            "ticks": ""
           },
           "baxis": {
            "gridcolor": "white",
            "linecolor": "white",
            "ticks": ""
           },
           "bgcolor": "#E5ECF6",
           "caxis": {
            "gridcolor": "white",
            "linecolor": "white",
            "ticks": ""
           }
          },
          "title": {
           "x": 0.05
          },
          "xaxis": {
           "automargin": true,
           "gridcolor": "white",
           "linecolor": "white",
           "ticks": "",
           "title": {
            "standoff": 15
           },
           "zerolinecolor": "white",
           "zerolinewidth": 2
          },
          "yaxis": {
           "automargin": true,
           "gridcolor": "white",
           "linecolor": "white",
           "ticks": "",
           "title": {
            "standoff": 15
           },
           "zerolinecolor": "white",
           "zerolinewidth": 2
          }
         }
        },
        "title": {
         "text": "Number of NBA teams played for during NBA career, by player"
        },
        "xaxis": {
         "title": {
          "text": "Player"
         }
        },
        "yaxis": {
         "showgrid": false,
         "title": {
          "text": "Number of NBA teams"
         }
        }
       }
      }
     },
     "metadata": {},
     "output_type": "display_data"
    }
   ],
   "source": [
    "# bar chart of the number of NBA teams played by player\n",
    "number_of_teams=[]\n",
    "for name in roster:\n",
    "    number_of_teams.append(mapdata['Team_Name'][mapdata['Name']== name].value_counts().shape[0])  \n",
    "\n",
    "bar_trace = go.Bar(x=roster, y=number_of_teams)\n",
    "fig=go.Figure(data=[bar_trace]).update_layout(title='Number of NBA teams played for during NBA career, by player', \n",
    "                                              xaxis_title='Player', \n",
    "                                              yaxis_title='Number of NBA teams' , plot_bgcolor='lightgrey').update_traces(marker_color='purple').update_yaxes(showgrid=False)\n",
    "  \n",
    "fig.show()"
   ]
  },
  {
   "cell_type": "code",
   "execution_count": null,
   "id": "c27ca479",
   "metadata": {},
   "outputs": [
    {
     "data": {
      "application/vnd.plotly.v1+json": {
       "config": {
        "plotlyServerURL": "https://plot.ly"
       },
       "data": [
        {
         "marker": {
          "color": "gold"
         },
         "name": "Games Started",
         "type": "bar",
         "x": [
          "Charles Barkley",
          "Larry Bird",
          "Clyde Drexler",
          "Patrick Ewing",
          "Magic Johnson",
          "Michael Jordan",
          "Christian Laettner",
          "Karl Malone",
          "Chris Mullin",
          "Scottie Pippen",
          "David Robinson",
          "John Stockton"
         ],
         "y": [
          80,
          82,
          82,
          82,
          77,
          82,
          82,
          82,
          82,
          82,
          81,
          82
         ]
        }
       ],
       "layout": {
        "plot_bgcolor": "lightgrey",
        "template": {
         "data": {
          "bar": [
           {
            "error_x": {
             "color": "#2a3f5f"
            },
            "error_y": {
             "color": "#2a3f5f"
            },
            "marker": {
             "line": {
              "color": "#E5ECF6",
              "width": 0.5
             },
             "pattern": {
              "fillmode": "overlay",
              "size": 10,
              "solidity": 0.2
             }
            },
            "type": "bar"
           }
          ],
          "barpolar": [
           {
            "marker": {
             "line": {
              "color": "#E5ECF6",
              "width": 0.5
             },
             "pattern": {
              "fillmode": "overlay",
              "size": 10,
              "solidity": 0.2
             }
            },
            "type": "barpolar"
           }
          ],
          "carpet": [
           {
            "aaxis": {
             "endlinecolor": "#2a3f5f",
             "gridcolor": "white",
             "linecolor": "white",
             "minorgridcolor": "white",
             "startlinecolor": "#2a3f5f"
            },
            "baxis": {
             "endlinecolor": "#2a3f5f",
             "gridcolor": "white",
             "linecolor": "white",
             "minorgridcolor": "white",
             "startlinecolor": "#2a3f5f"
            },
            "type": "carpet"
           }
          ],
          "choropleth": [
           {
            "colorbar": {
             "outlinewidth": 0,
             "ticks": ""
            },
            "type": "choropleth"
           }
          ],
          "contour": [
           {
            "colorbar": {
             "outlinewidth": 0,
             "ticks": ""
            },
            "colorscale": [
             [
              0,
              "#0d0887"
             ],
             [
              0.1111111111111111,
              "#46039f"
             ],
             [
              0.2222222222222222,
              "#7201a8"
             ],
             [
              0.3333333333333333,
              "#9c179e"
             ],
             [
              0.4444444444444444,
              "#bd3786"
             ],
             [
              0.5555555555555556,
              "#d8576b"
             ],
             [
              0.6666666666666666,
              "#ed7953"
             ],
             [
              0.7777777777777778,
              "#fb9f3a"
             ],
             [
              0.8888888888888888,
              "#fdca26"
             ],
             [
              1,
              "#f0f921"
             ]
            ],
            "type": "contour"
           }
          ],
          "contourcarpet": [
           {
            "colorbar": {
             "outlinewidth": 0,
             "ticks": ""
            },
            "type": "contourcarpet"
           }
          ],
          "heatmap": [
           {
            "colorbar": {
             "outlinewidth": 0,
             "ticks": ""
            },
            "colorscale": [
             [
              0,
              "#0d0887"
             ],
             [
              0.1111111111111111,
              "#46039f"
             ],
             [
              0.2222222222222222,
              "#7201a8"
             ],
             [
              0.3333333333333333,
              "#9c179e"
             ],
             [
              0.4444444444444444,
              "#bd3786"
             ],
             [
              0.5555555555555556,
              "#d8576b"
             ],
             [
              0.6666666666666666,
              "#ed7953"
             ],
             [
              0.7777777777777778,
              "#fb9f3a"
             ],
             [
              0.8888888888888888,
              "#fdca26"
             ],
             [
              1,
              "#f0f921"
             ]
            ],
            "type": "heatmap"
           }
          ],
          "histogram": [
           {
            "marker": {
             "pattern": {
              "fillmode": "overlay",
              "size": 10,
              "solidity": 0.2
             }
            },
            "type": "histogram"
           }
          ],
          "histogram2d": [
           {
            "colorbar": {
             "outlinewidth": 0,
             "ticks": ""
            },
            "colorscale": [
             [
              0,
              "#0d0887"
             ],
             [
              0.1111111111111111,
              "#46039f"
             ],
             [
              0.2222222222222222,
              "#7201a8"
             ],
             [
              0.3333333333333333,
              "#9c179e"
             ],
             [
              0.4444444444444444,
              "#bd3786"
             ],
             [
              0.5555555555555556,
              "#d8576b"
             ],
             [
              0.6666666666666666,
              "#ed7953"
             ],
             [
              0.7777777777777778,
              "#fb9f3a"
             ],
             [
              0.8888888888888888,
              "#fdca26"
             ],
             [
              1,
              "#f0f921"
             ]
            ],
            "type": "histogram2d"
           }
          ],
          "histogram2dcontour": [
           {
            "colorbar": {
             "outlinewidth": 0,
             "ticks": ""
            },
            "colorscale": [
             [
              0,
              "#0d0887"
             ],
             [
              0.1111111111111111,
              "#46039f"
             ],
             [
              0.2222222222222222,
              "#7201a8"
             ],
             [
              0.3333333333333333,
              "#9c179e"
             ],
             [
              0.4444444444444444,
              "#bd3786"
             ],
             [
              0.5555555555555556,
              "#d8576b"
             ],
             [
              0.6666666666666666,
              "#ed7953"
             ],
             [
              0.7777777777777778,
              "#fb9f3a"
             ],
             [
              0.8888888888888888,
              "#fdca26"
             ],
             [
              1,
              "#f0f921"
             ]
            ],
            "type": "histogram2dcontour"
           }
          ],
          "mesh3d": [
           {
            "colorbar": {
             "outlinewidth": 0,
             "ticks": ""
            },
            "type": "mesh3d"
           }
          ],
          "parcoords": [
           {
            "line": {
             "colorbar": {
              "outlinewidth": 0,
              "ticks": ""
             }
            },
            "type": "parcoords"
           }
          ],
          "pie": [
           {
            "automargin": true,
            "type": "pie"
           }
          ],
          "scatter": [
           {
            "fillpattern": {
             "fillmode": "overlay",
             "size": 10,
             "solidity": 0.2
            },
            "type": "scatter"
           }
          ],
          "scatter3d": [
           {
            "line": {
             "colorbar": {
              "outlinewidth": 0,
              "ticks": ""
             }
            },
            "marker": {
             "colorbar": {
              "outlinewidth": 0,
              "ticks": ""
             }
            },
            "type": "scatter3d"
           }
          ],
          "scattercarpet": [
           {
            "marker": {
             "colorbar": {
              "outlinewidth": 0,
              "ticks": ""
             }
            },
            "type": "scattercarpet"
           }
          ],
          "scattergeo": [
           {
            "marker": {
             "colorbar": {
              "outlinewidth": 0,
              "ticks": ""
             }
            },
            "type": "scattergeo"
           }
          ],
          "scattergl": [
           {
            "marker": {
             "colorbar": {
              "outlinewidth": 0,
              "ticks": ""
             }
            },
            "type": "scattergl"
           }
          ],
          "scattermap": [
           {
            "marker": {
             "colorbar": {
              "outlinewidth": 0,
              "ticks": ""
             }
            },
            "type": "scattermap"
           }
          ],
          "scattermapbox": [
           {
            "marker": {
             "colorbar": {
              "outlinewidth": 0,
              "ticks": ""
             }
            },
            "type": "scattermapbox"
           }
          ],
          "scatterpolar": [
           {
            "marker": {
             "colorbar": {
              "outlinewidth": 0,
              "ticks": ""
             }
            },
            "type": "scatterpolar"
           }
          ],
          "scatterpolargl": [
           {
            "marker": {
             "colorbar": {
              "outlinewidth": 0,
              "ticks": ""
             }
            },
            "type": "scatterpolargl"
           }
          ],
          "scatterternary": [
           {
            "marker": {
             "colorbar": {
              "outlinewidth": 0,
              "ticks": ""
             }
            },
            "type": "scatterternary"
           }
          ],
          "surface": [
           {
            "colorbar": {
             "outlinewidth": 0,
             "ticks": ""
            },
            "colorscale": [
             [
              0,
              "#0d0887"
             ],
             [
              0.1111111111111111,
              "#46039f"
             ],
             [
              0.2222222222222222,
              "#7201a8"
             ],
             [
              0.3333333333333333,
              "#9c179e"
             ],
             [
              0.4444444444444444,
              "#bd3786"
             ],
             [
              0.5555555555555556,
              "#d8576b"
             ],
             [
              0.6666666666666666,
              "#ed7953"
             ],
             [
              0.7777777777777778,
              "#fb9f3a"
             ],
             [
              0.8888888888888888,
              "#fdca26"
             ],
             [
              1,
              "#f0f921"
             ]
            ],
            "type": "surface"
           }
          ],
          "table": [
           {
            "cells": {
             "fill": {
              "color": "#EBF0F8"
             },
             "line": {
              "color": "white"
             }
            },
            "header": {
             "fill": {
              "color": "#C8D4E3"
             },
             "line": {
              "color": "white"
             }
            },
            "type": "table"
           }
          ]
         },
         "layout": {
          "annotationdefaults": {
           "arrowcolor": "#2a3f5f",
           "arrowhead": 0,
           "arrowwidth": 1
          },
          "autotypenumbers": "strict",
          "coloraxis": {
           "colorbar": {
            "outlinewidth": 0,
            "ticks": ""
           }
          },
          "colorscale": {
           "diverging": [
            [
             0,
             "#8e0152"
            ],
            [
             0.1,
             "#c51b7d"
            ],
            [
             0.2,
             "#de77ae"
            ],
            [
             0.3,
             "#f1b6da"
            ],
            [
             0.4,
             "#fde0ef"
            ],
            [
             0.5,
             "#f7f7f7"
            ],
            [
             0.6,
             "#e6f5d0"
            ],
            [
             0.7,
             "#b8e186"
            ],
            [
             0.8,
             "#7fbc41"
            ],
            [
             0.9,
             "#4d9221"
            ],
            [
             1,
             "#276419"
            ]
           ],
           "sequential": [
            [
             0,
             "#0d0887"
            ],
            [
             0.1111111111111111,
             "#46039f"
            ],
            [
             0.2222222222222222,
             "#7201a8"
            ],
            [
             0.3333333333333333,
             "#9c179e"
            ],
            [
             0.4444444444444444,
             "#bd3786"
            ],
            [
             0.5555555555555556,
             "#d8576b"
            ],
            [
             0.6666666666666666,
             "#ed7953"
            ],
            [
             0.7777777777777778,
             "#fb9f3a"
            ],
            [
             0.8888888888888888,
             "#fdca26"
            ],
            [
             1,
             "#f0f921"
            ]
           ],
           "sequentialminus": [
            [
             0,
             "#0d0887"
            ],
            [
             0.1111111111111111,
             "#46039f"
            ],
            [
             0.2222222222222222,
             "#7201a8"
            ],
            [
             0.3333333333333333,
             "#9c179e"
            ],
            [
             0.4444444444444444,
             "#bd3786"
            ],
            [
             0.5555555555555556,
             "#d8576b"
            ],
            [
             0.6666666666666666,
             "#ed7953"
            ],
            [
             0.7777777777777778,
             "#fb9f3a"
            ],
            [
             0.8888888888888888,
             "#fdca26"
            ],
            [
             1,
             "#f0f921"
            ]
           ]
          },
          "colorway": [
           "#636efa",
           "#EF553B",
           "#00cc96",
           "#ab63fa",
           "#FFA15A",
           "#19d3f3",
           "#FF6692",
           "#B6E880",
           "#FF97FF",
           "#FECB52"
          ],
          "font": {
           "color": "#2a3f5f"
          },
          "geo": {
           "bgcolor": "white",
           "lakecolor": "white",
           "landcolor": "#E5ECF6",
           "showlakes": true,
           "showland": true,
           "subunitcolor": "white"
          },
          "hoverlabel": {
           "align": "left"
          },
          "hovermode": "closest",
          "mapbox": {
           "style": "light"
          },
          "paper_bgcolor": "white",
          "plot_bgcolor": "#E5ECF6",
          "polar": {
           "angularaxis": {
            "gridcolor": "white",
            "linecolor": "white",
            "ticks": ""
           },
           "bgcolor": "#E5ECF6",
           "radialaxis": {
            "gridcolor": "white",
            "linecolor": "white",
            "ticks": ""
           }
          },
          "scene": {
           "xaxis": {
            "backgroundcolor": "#E5ECF6",
            "gridcolor": "white",
            "gridwidth": 2,
            "linecolor": "white",
            "showbackground": true,
            "ticks": "",
            "zerolinecolor": "white"
           },
           "yaxis": {
            "backgroundcolor": "#E5ECF6",
            "gridcolor": "white",
            "gridwidth": 2,
            "linecolor": "white",
            "showbackground": true,
            "ticks": "",
            "zerolinecolor": "white"
           },
           "zaxis": {
            "backgroundcolor": "#E5ECF6",
            "gridcolor": "white",
            "gridwidth": 2,
            "linecolor": "white",
            "showbackground": true,
            "ticks": "",
            "zerolinecolor": "white"
           }
          },
          "shapedefaults": {
           "line": {
            "color": "#2a3f5f"
           }
          },
          "ternary": {
           "aaxis": {
            "gridcolor": "white",
            "linecolor": "white",
            "ticks": ""
           },
           "baxis": {
            "gridcolor": "white",
            "linecolor": "white",
            "ticks": ""
           },
           "bgcolor": "#E5ECF6",
           "caxis": {
            "gridcolor": "white",
            "linecolor": "white",
            "ticks": ""
           }
          },
          "title": {
           "x": 0.05
          },
          "xaxis": {
           "automargin": true,
           "gridcolor": "white",
           "linecolor": "white",
           "ticks": "",
           "title": {
            "standoff": 15
           },
           "zerolinecolor": "white",
           "zerolinewidth": 2
          },
          "yaxis": {
           "automargin": true,
           "gridcolor": "white",
           "linecolor": "white",
           "ticks": "",
           "title": {
            "standoff": 15
           },
           "zerolinecolor": "white",
           "zerolinewidth": 2
          }
         }
        },
        "title": {
         "text": "Most Frequent Number of NBA Games Started in a Season, by player"
        },
        "xaxis": {
         "title": {
          "text": "Player"
         }
        },
        "yaxis": {
         "showgrid": false,
         "title": {
          "text": "Number of NBA Games Started"
         }
        }
       }
      }
     },
     "metadata": {},
     "output_type": "display_data"
    }
   ],
   "source": [
    "# mode number of games started for each season\n",
    "games_started=[]\n",
    "for data in dataframes.values():\n",
    "    games_started.append(int(statistics.mode(data['GS'])))\n",
    "\n",
    "bar_trace1 = go.Bar(name=\"Games Started\", x = roster, y = games_started, marker_color=\"gold\")\n",
    "fig = go.Figure(data=[bar_trace1]).update_layout(\n",
    "                  title='Most Frequent Number of NBA Games Started in a Season, by player',\n",
    "                  xaxis_title=\"Player\",\n",
    "                  yaxis_title=\"Number of NBA Games Started\", plot_bgcolor='lightgrey').update_yaxes(showgrid=False)\n",
    "fig.show()"
   ]
  },
  {
   "cell_type": "code",
   "execution_count": null,
   "id": "010888d4",
   "metadata": {},
   "outputs": [
    {
     "data": {
      "application/vnd.plotly.v1+json": {
       "config": {
        "plotlyServerURL": "https://plot.ly"
       },
       "data": [
        {
         "name": "Charles Barkley",
         "type": "box",
         "y": {
          "bdata": "KwmIC7QKYgwQDA0MwglBCysL+ghOCUgK2gfDCPYFbAI=",
          "dtype": "i2"
         }
        },
        {
         "name": "Larry Bird",
         "type": "box",
         "y": {
          "bdata": "iwunDGsLpgvUC1kMKQy9C5ULvQCAC+UIfgY=",
          "dtype": "i2"
         }
        },
        {
         "name": "Clyde Drexler",
         "type": "box",
         "y": {
          "bdata": "gAX7CRAKKgz0C/gLewokC78KhwYeCZQFFAWoCs0H4AipCQ==",
          "dtype": "i2"
         }
        },
        {
         "name": "Patrick Ewing",
         "type": "box",
         "y": {
          "bdata": "6waeCPIJUAtdDCAMTgy7C5wLaAvfCkcLUAMUBfMHOwiFAw==",
          "dtype": "i2"
         }
        },
        {
         "name": "Magic Johnson",
         "type": "box",
         "y": {
          "bdata": "6wpbBa8LWwsHCt0KEgpYC00KRgt5C3ULvgM=",
          "dtype": "i2"
         }
        },
        {
         "name": "Michael Jordan",
         "type": "box",
         "y": {
          "bdata": "SAzDAdEM7wy3DH0M2gseDPsLnAISDCUMbQwpCNcL",
          "dtype": "i2"
         }
        },
        {
         "name": "Christian Laettner",
         "type": "box",
         "y": {
          "bdata": "Bwt8CdIK7gXRA78JPgzqCFEBiwmiA90CfwahBacI2APjAg==",
          "dtype": "i2"
         }
        },
        {
         "name": "Karl Malone",
         "type": "box",
         "y": {
          "bdata": "qwkpC34MNgwyDOYM7gsbDAENNgwpDLYL1gsoB4MLTwvgC3gLXQU=",
          "dtype": "i2"
         }
        },
        {
         "name": "Chris Mullin",
         "type": "box",
         "y": {
          "bdata": "bwVJCfEHFQwOC/MMEg1uBxQJegNRBrYKgQibBEYCdgE=",
          "dtype": "i2"
         }
        },
        {
         "name": "Scottie Pippen",
         "type": "box",
         "y": {
          "bdata": "cgZtCUwMxgtcDDMMxwrGCwkLFgx0BtsHvQpVCMwHdwecAQ==",
          "dtype": "i2"
         }
        },
        {
         "name": "David Robinson",
         "type": "box",
         "y": {
          "bdata": "ugsXDAQKiwypDAIMywuTAJkJEgb9CUMJAQmMBg==",
          "dtype": "i2"
         }
        },
        {
         "name": "John Stockton",
         "type": "box",
         "y": {
          "bdata": "0gWPB0IHGgtjDGMLHwy6Cy8LmQszC2MLTgtCB4IFgAldCQoK4wg=",
          "dtype": "i2"
         }
        }
       ],
       "layout": {
        "template": {
         "data": {
          "bar": [
           {
            "error_x": {
             "color": "#2a3f5f"
            },
            "error_y": {
             "color": "#2a3f5f"
            },
            "marker": {
             "line": {
              "color": "#E5ECF6",
              "width": 0.5
             },
             "pattern": {
              "fillmode": "overlay",
              "size": 10,
              "solidity": 0.2
             }
            },
            "type": "bar"
           }
          ],
          "barpolar": [
           {
            "marker": {
             "line": {
              "color": "#E5ECF6",
              "width": 0.5
             },
             "pattern": {
              "fillmode": "overlay",
              "size": 10,
              "solidity": 0.2
             }
            },
            "type": "barpolar"
           }
          ],
          "carpet": [
           {
            "aaxis": {
             "endlinecolor": "#2a3f5f",
             "gridcolor": "white",
             "linecolor": "white",
             "minorgridcolor": "white",
             "startlinecolor": "#2a3f5f"
            },
            "baxis": {
             "endlinecolor": "#2a3f5f",
             "gridcolor": "white",
             "linecolor": "white",
             "minorgridcolor": "white",
             "startlinecolor": "#2a3f5f"
            },
            "type": "carpet"
           }
          ],
          "choropleth": [
           {
            "colorbar": {
             "outlinewidth": 0,
             "ticks": ""
            },
            "type": "choropleth"
           }
          ],
          "contour": [
           {
            "colorbar": {
             "outlinewidth": 0,
             "ticks": ""
            },
            "colorscale": [
             [
              0,
              "#0d0887"
             ],
             [
              0.1111111111111111,
              "#46039f"
             ],
             [
              0.2222222222222222,
              "#7201a8"
             ],
             [
              0.3333333333333333,
              "#9c179e"
             ],
             [
              0.4444444444444444,
              "#bd3786"
             ],
             [
              0.5555555555555556,
              "#d8576b"
             ],
             [
              0.6666666666666666,
              "#ed7953"
             ],
             [
              0.7777777777777778,
              "#fb9f3a"
             ],
             [
              0.8888888888888888,
              "#fdca26"
             ],
             [
              1,
              "#f0f921"
             ]
            ],
            "type": "contour"
           }
          ],
          "contourcarpet": [
           {
            "colorbar": {
             "outlinewidth": 0,
             "ticks": ""
            },
            "type": "contourcarpet"
           }
          ],
          "heatmap": [
           {
            "colorbar": {
             "outlinewidth": 0,
             "ticks": ""
            },
            "colorscale": [
             [
              0,
              "#0d0887"
             ],
             [
              0.1111111111111111,
              "#46039f"
             ],
             [
              0.2222222222222222,
              "#7201a8"
             ],
             [
              0.3333333333333333,
              "#9c179e"
             ],
             [
              0.4444444444444444,
              "#bd3786"
             ],
             [
              0.5555555555555556,
              "#d8576b"
             ],
             [
              0.6666666666666666,
              "#ed7953"
             ],
             [
              0.7777777777777778,
              "#fb9f3a"
             ],
             [
              0.8888888888888888,
              "#fdca26"
             ],
             [
              1,
              "#f0f921"
             ]
            ],
            "type": "heatmap"
           }
          ],
          "histogram": [
           {
            "marker": {
             "pattern": {
              "fillmode": "overlay",
              "size": 10,
              "solidity": 0.2
             }
            },
            "type": "histogram"
           }
          ],
          "histogram2d": [
           {
            "colorbar": {
             "outlinewidth": 0,
             "ticks": ""
            },
            "colorscale": [
             [
              0,
              "#0d0887"
             ],
             [
              0.1111111111111111,
              "#46039f"
             ],
             [
              0.2222222222222222,
              "#7201a8"
             ],
             [
              0.3333333333333333,
              "#9c179e"
             ],
             [
              0.4444444444444444,
              "#bd3786"
             ],
             [
              0.5555555555555556,
              "#d8576b"
             ],
             [
              0.6666666666666666,
              "#ed7953"
             ],
             [
              0.7777777777777778,
              "#fb9f3a"
             ],
             [
              0.8888888888888888,
              "#fdca26"
             ],
             [
              1,
              "#f0f921"
             ]
            ],
            "type": "histogram2d"
           }
          ],
          "histogram2dcontour": [
           {
            "colorbar": {
             "outlinewidth": 0,
             "ticks": ""
            },
            "colorscale": [
             [
              0,
              "#0d0887"
             ],
             [
              0.1111111111111111,
              "#46039f"
             ],
             [
              0.2222222222222222,
              "#7201a8"
             ],
             [
              0.3333333333333333,
              "#9c179e"
             ],
             [
              0.4444444444444444,
              "#bd3786"
             ],
             [
              0.5555555555555556,
              "#d8576b"
             ],
             [
              0.6666666666666666,
              "#ed7953"
             ],
             [
              0.7777777777777778,
              "#fb9f3a"
             ],
             [
              0.8888888888888888,
              "#fdca26"
             ],
             [
              1,
              "#f0f921"
             ]
            ],
            "type": "histogram2dcontour"
           }
          ],
          "mesh3d": [
           {
            "colorbar": {
             "outlinewidth": 0,
             "ticks": ""
            },
            "type": "mesh3d"
           }
          ],
          "parcoords": [
           {
            "line": {
             "colorbar": {
              "outlinewidth": 0,
              "ticks": ""
             }
            },
            "type": "parcoords"
           }
          ],
          "pie": [
           {
            "automargin": true,
            "type": "pie"
           }
          ],
          "scatter": [
           {
            "fillpattern": {
             "fillmode": "overlay",
             "size": 10,
             "solidity": 0.2
            },
            "type": "scatter"
           }
          ],
          "scatter3d": [
           {
            "line": {
             "colorbar": {
              "outlinewidth": 0,
              "ticks": ""
             }
            },
            "marker": {
             "colorbar": {
              "outlinewidth": 0,
              "ticks": ""
             }
            },
            "type": "scatter3d"
           }
          ],
          "scattercarpet": [
           {
            "marker": {
             "colorbar": {
              "outlinewidth": 0,
              "ticks": ""
             }
            },
            "type": "scattercarpet"
           }
          ],
          "scattergeo": [
           {
            "marker": {
             "colorbar": {
              "outlinewidth": 0,
              "ticks": ""
             }
            },
            "type": "scattergeo"
           }
          ],
          "scattergl": [
           {
            "marker": {
             "colorbar": {
              "outlinewidth": 0,
              "ticks": ""
             }
            },
            "type": "scattergl"
           }
          ],
          "scattermap": [
           {
            "marker": {
             "colorbar": {
              "outlinewidth": 0,
              "ticks": ""
             }
            },
            "type": "scattermap"
           }
          ],
          "scattermapbox": [
           {
            "marker": {
             "colorbar": {
              "outlinewidth": 0,
              "ticks": ""
             }
            },
            "type": "scattermapbox"
           }
          ],
          "scatterpolar": [
           {
            "marker": {
             "colorbar": {
              "outlinewidth": 0,
              "ticks": ""
             }
            },
            "type": "scatterpolar"
           }
          ],
          "scatterpolargl": [
           {
            "marker": {
             "colorbar": {
              "outlinewidth": 0,
              "ticks": ""
             }
            },
            "type": "scatterpolargl"
           }
          ],
          "scatterternary": [
           {
            "marker": {
             "colorbar": {
              "outlinewidth": 0,
              "ticks": ""
             }
            },
            "type": "scatterternary"
           }
          ],
          "surface": [
           {
            "colorbar": {
             "outlinewidth": 0,
             "ticks": ""
            },
            "colorscale": [
             [
              0,
              "#0d0887"
             ],
             [
              0.1111111111111111,
              "#46039f"
             ],
             [
              0.2222222222222222,
              "#7201a8"
             ],
             [
              0.3333333333333333,
              "#9c179e"
             ],
             [
              0.4444444444444444,
              "#bd3786"
             ],
             [
              0.5555555555555556,
              "#d8576b"
             ],
             [
              0.6666666666666666,
              "#ed7953"
             ],
             [
              0.7777777777777778,
              "#fb9f3a"
             ],
             [
              0.8888888888888888,
              "#fdca26"
             ],
             [
              1,
              "#f0f921"
             ]
            ],
            "type": "surface"
           }
          ],
          "table": [
           {
            "cells": {
             "fill": {
              "color": "#EBF0F8"
             },
             "line": {
              "color": "white"
             }
            },
            "header": {
             "fill": {
              "color": "#C8D4E3"
             },
             "line": {
              "color": "white"
             }
            },
            "type": "table"
           }
          ]
         },
         "layout": {
          "annotationdefaults": {
           "arrowcolor": "#2a3f5f",
           "arrowhead": 0,
           "arrowwidth": 1
          },
          "autotypenumbers": "strict",
          "coloraxis": {
           "colorbar": {
            "outlinewidth": 0,
            "ticks": ""
           }
          },
          "colorscale": {
           "diverging": [
            [
             0,
             "#8e0152"
            ],
            [
             0.1,
             "#c51b7d"
            ],
            [
             0.2,
             "#de77ae"
            ],
            [
             0.3,
             "#f1b6da"
            ],
            [
             0.4,
             "#fde0ef"
            ],
            [
             0.5,
             "#f7f7f7"
            ],
            [
             0.6,
             "#e6f5d0"
            ],
            [
             0.7,
             "#b8e186"
            ],
            [
             0.8,
             "#7fbc41"
            ],
            [
             0.9,
             "#4d9221"
            ],
            [
             1,
             "#276419"
            ]
           ],
           "sequential": [
            [
             0,
             "#0d0887"
            ],
            [
             0.1111111111111111,
             "#46039f"
            ],
            [
             0.2222222222222222,
             "#7201a8"
            ],
            [
             0.3333333333333333,
             "#9c179e"
            ],
            [
             0.4444444444444444,
             "#bd3786"
            ],
            [
             0.5555555555555556,
             "#d8576b"
            ],
            [
             0.6666666666666666,
             "#ed7953"
            ],
            [
             0.7777777777777778,
             "#fb9f3a"
            ],
            [
             0.8888888888888888,
             "#fdca26"
            ],
            [
             1,
             "#f0f921"
            ]
           ],
           "sequentialminus": [
            [
             0,
             "#0d0887"
            ],
            [
             0.1111111111111111,
             "#46039f"
            ],
            [
             0.2222222222222222,
             "#7201a8"
            ],
            [
             0.3333333333333333,
             "#9c179e"
            ],
            [
             0.4444444444444444,
             "#bd3786"
            ],
            [
             0.5555555555555556,
             "#d8576b"
            ],
            [
             0.6666666666666666,
             "#ed7953"
            ],
            [
             0.7777777777777778,
             "#fb9f3a"
            ],
            [
             0.8888888888888888,
             "#fdca26"
            ],
            [
             1,
             "#f0f921"
            ]
           ]
          },
          "colorway": [
           "#636efa",
           "#EF553B",
           "#00cc96",
           "#ab63fa",
           "#FFA15A",
           "#19d3f3",
           "#FF6692",
           "#B6E880",
           "#FF97FF",
           "#FECB52"
          ],
          "font": {
           "color": "#2a3f5f"
          },
          "geo": {
           "bgcolor": "white",
           "lakecolor": "white",
           "landcolor": "#E5ECF6",
           "showlakes": true,
           "showland": true,
           "subunitcolor": "white"
          },
          "hoverlabel": {
           "align": "left"
          },
          "hovermode": "closest",
          "mapbox": {
           "style": "light"
          },
          "paper_bgcolor": "white",
          "plot_bgcolor": "#E5ECF6",
          "polar": {
           "angularaxis": {
            "gridcolor": "white",
            "linecolor": "white",
            "ticks": ""
           },
           "bgcolor": "#E5ECF6",
           "radialaxis": {
            "gridcolor": "white",
            "linecolor": "white",
            "ticks": ""
           }
          },
          "scene": {
           "xaxis": {
            "backgroundcolor": "#E5ECF6",
            "gridcolor": "white",
            "gridwidth": 2,
            "linecolor": "white",
            "showbackground": true,
            "ticks": "",
            "zerolinecolor": "white"
           },
           "yaxis": {
            "backgroundcolor": "#E5ECF6",
            "gridcolor": "white",
            "gridwidth": 2,
            "linecolor": "white",
            "showbackground": true,
            "ticks": "",
            "zerolinecolor": "white"
           },
           "zaxis": {
            "backgroundcolor": "#E5ECF6",
            "gridcolor": "white",
            "gridwidth": 2,
            "linecolor": "white",
            "showbackground": true,
            "ticks": "",
            "zerolinecolor": "white"
           }
          },
          "shapedefaults": {
           "line": {
            "color": "#2a3f5f"
           }
          },
          "ternary": {
           "aaxis": {
            "gridcolor": "white",
            "linecolor": "white",
            "ticks": ""
           },
           "baxis": {
            "gridcolor": "white",
            "linecolor": "white",
            "ticks": ""
           },
           "bgcolor": "#E5ECF6",
           "caxis": {
            "gridcolor": "white",
            "linecolor": "white",
            "ticks": ""
           }
          },
          "title": {
           "x": 0.05
          },
          "xaxis": {
           "automargin": true,
           "gridcolor": "white",
           "linecolor": "white",
           "ticks": "",
           "title": {
            "standoff": 15
           },
           "zerolinecolor": "white",
           "zerolinewidth": 2
          },
          "yaxis": {
           "automargin": true,
           "gridcolor": "white",
           "linecolor": "white",
           "ticks": "",
           "title": {
            "standoff": 15
           },
           "zerolinecolor": "white",
           "zerolinewidth": 2
          }
         }
        },
        "title": {
         "text": "Distribution of Total Minutes Played In a NBA Season, by player"
        },
        "xaxis": {
         "title": {
          "text": "Player"
         }
        },
        "yaxis": {
         "tickformat": ",d",
         "title": {
          "text": "Number of Minutes Played in a NBA Season"
         }
        }
       }
      }
     },
     "metadata": {},
     "output_type": "display_data"
    }
   ],
   "source": [
    "# boxplots for the distributions for the number of minutes played each season\n",
    "fig=go.Figure().add_trace(go.Box(y=barkley['MIN'], name=\"Charles Barkley\")).add_trace(go.Box(y=bird['MIN'], name=\"Larry Bird\")).add_trace(go.Box(y=drexler['MIN'], name=\"Clyde Drexler\")).add_trace(go.Box(y=ewing['MIN'], name=\"Patrick Ewing\")).add_trace(go.Box(y=johnson['MIN'], name=\"Magic Johnson\")).add_trace(go.Box(y=jordan['MIN'], name=\"Michael Jordan\")).add_trace(go.Box(y=laettner['MIN'], name=\"Christian Laettner\")).add_trace(go.Box(y=malone['MIN'], name=\"Karl Malone\")).add_trace(go.Box(y=mullin['MIN'], name=\"Chris Mullin\")).add_trace(go.Box(y=pippen['MIN'], name=\"Scottie Pippen\")).add_trace(go.Box(y=robinson['MIN'], name=\"David Robinson\")).add_trace(go.Box(y=stockton['MIN'], name=\"John Stockton\")).update_layout(title=\"Distribution of Total Minutes Played In a NBA Season, by player\",xaxis_title=\"Player\", yaxis_title=\"Number of Minutes Played in a NBA Season\", yaxis=dict(tickformat=\",d\" ))\n",
    "fig.show()"
   ]
  },
  {
   "cell_type": "code",
   "execution_count": null,
   "id": "ff5b9510",
   "metadata": {},
   "outputs": [
    {
     "name": "stdout",
     "output_type": "stream",
     "text": [
      "<class 'pandas.core.frame.DataFrame'>\n",
      "RangeIndex: 187 entries, 0 to 186\n",
      "Data columns (total 4 columns):\n",
      " #   Column     Non-Null Count  Dtype \n",
      "---  ------     --------------  ----- \n",
      " 0   SEASON_ID  187 non-null    object\n",
      " 1   Name       187 non-null    object\n",
      " 2   FTM        187 non-null    int64 \n",
      " 3   FTA        187 non-null    int64 \n",
      "dtypes: int64(2), object(2)\n",
      "memory usage: 6.0+ KB\n"
     ]
    },
    {
     "data": {
      "text/html": [
       "<div>\n",
       "<style scoped>\n",
       "    .dataframe tbody tr th:only-of-type {\n",
       "        vertical-align: middle;\n",
       "    }\n",
       "\n",
       "    .dataframe tbody tr th {\n",
       "        vertical-align: top;\n",
       "    }\n",
       "\n",
       "    .dataframe thead th {\n",
       "        text-align: right;\n",
       "    }\n",
       "</style>\n",
       "<table border=\"1\" class=\"dataframe\">\n",
       "  <thead>\n",
       "    <tr style=\"text-align: right;\">\n",
       "      <th></th>\n",
       "      <th>SEASON_ID</th>\n",
       "      <th>Name</th>\n",
       "      <th>FTM</th>\n",
       "      <th>FTA</th>\n",
       "    </tr>\n",
       "  </thead>\n",
       "  <tbody>\n",
       "    <tr>\n",
       "      <th>0</th>\n",
       "      <td>1984-85</td>\n",
       "      <td>Charles Barkley</td>\n",
       "      <td>293</td>\n",
       "      <td>400</td>\n",
       "    </tr>\n",
       "    <tr>\n",
       "      <th>1</th>\n",
       "      <td>1985-86</td>\n",
       "      <td>Charles Barkley</td>\n",
       "      <td>396</td>\n",
       "      <td>578</td>\n",
       "    </tr>\n",
       "    <tr>\n",
       "      <th>2</th>\n",
       "      <td>1986-87</td>\n",
       "      <td>Charles Barkley</td>\n",
       "      <td>429</td>\n",
       "      <td>564</td>\n",
       "    </tr>\n",
       "    <tr>\n",
       "      <th>3</th>\n",
       "      <td>1987-88</td>\n",
       "      <td>Charles Barkley</td>\n",
       "      <td>714</td>\n",
       "      <td>951</td>\n",
       "    </tr>\n",
       "    <tr>\n",
       "      <th>4</th>\n",
       "      <td>1988-89</td>\n",
       "      <td>Charles Barkley</td>\n",
       "      <td>602</td>\n",
       "      <td>799</td>\n",
       "    </tr>\n",
       "    <tr>\n",
       "      <th>...</th>\n",
       "      <td>...</td>\n",
       "      <td>...</td>\n",
       "      <td>...</td>\n",
       "      <td>...</td>\n",
       "    </tr>\n",
       "    <tr>\n",
       "      <th>182</th>\n",
       "      <td>1998-99</td>\n",
       "      <td>John Stockton</td>\n",
       "      <td>137</td>\n",
       "      <td>169</td>\n",
       "    </tr>\n",
       "    <tr>\n",
       "      <th>183</th>\n",
       "      <td>1999-00</td>\n",
       "      <td>John Stockton</td>\n",
       "      <td>221</td>\n",
       "      <td>257</td>\n",
       "    </tr>\n",
       "    <tr>\n",
       "      <th>184</th>\n",
       "      <td>2000-01</td>\n",
       "      <td>John Stockton</td>\n",
       "      <td>227</td>\n",
       "      <td>278</td>\n",
       "    </tr>\n",
       "    <tr>\n",
       "      <th>185</th>\n",
       "      <td>2001-02</td>\n",
       "      <td>John Stockton</td>\n",
       "      <td>275</td>\n",
       "      <td>321</td>\n",
       "    </tr>\n",
       "    <tr>\n",
       "      <th>186</th>\n",
       "      <td>2002-03</td>\n",
       "      <td>John Stockton</td>\n",
       "      <td>237</td>\n",
       "      <td>287</td>\n",
       "    </tr>\n",
       "  </tbody>\n",
       "</table>\n",
       "<p>187 rows × 4 columns</p>\n",
       "</div>"
      ],
      "text/plain": [
       "    SEASON_ID             Name  FTM  FTA\n",
       "0     1984-85  Charles Barkley  293  400\n",
       "1     1985-86  Charles Barkley  396  578\n",
       "2     1986-87  Charles Barkley  429  564\n",
       "3     1987-88  Charles Barkley  714  951\n",
       "4     1988-89  Charles Barkley  602  799\n",
       "..        ...              ...  ...  ...\n",
       "182   1998-99    John Stockton  137  169\n",
       "183   1999-00    John Stockton  221  257\n",
       "184   2000-01    John Stockton  227  278\n",
       "185   2001-02    John Stockton  275  321\n",
       "186   2002-03    John Stockton  237  287\n",
       "\n",
       "[187 rows x 4 columns]"
      ]
     },
     "execution_count": 23,
     "metadata": {},
     "output_type": "execute_result"
    }
   ],
   "source": [
    "# generating scatter plot showing number of free throws made by the number of free throws attempted\n",
    "target_categories1=['Charles Barkley','Larry Bird']\n",
    "is_in_target_categories1 = df_all['Name'].isin(target_categories1)\n",
    "df_ft1=df_all.loc[is_in_target_categories1, \n",
    "                 ['SEASON_ID','Name', 'FTM','FTA']].reset_index(drop=True)\n",
    "\n",
    "target_categories2=['Patrick Ewing','Magic Johnson', 'Michael Jordan']\n",
    "is_in_target_categories2 = df_all['Name'].isin(target_categories2)\n",
    "df_ft2=df_all.loc[is_in_target_categories2, \n",
    "                 ['SEASON_ID','Name', 'FTM','FTA']].reset_index(drop=True)\n",
    "\n",
    "target_categories3=['Karl Malone','Chris Mullin', 'Scottie Pippen', 'David Robinson', 'John Stockton']\n",
    "is_in_target_categories3 = df_all['Name'].isin(target_categories3)\n",
    "df_ft3=df_all.loc[is_in_target_categories3, \n",
    "                 ['SEASON_ID','Name', 'FTM','FTA']].reset_index(drop=True)\n",
    "\n",
    "df_ft_drexler=df_all.loc[df_all['Name']=='Clyde Drexler', ['SEASON_ID','Name', 'FTM','FTA']].reset_index(drop=True)\n",
    "\n",
    "df_ft_laettner=df_all.loc[df_all['Name']=='Christian Laettner', ['SEASON_ID','Name', 'FTM','FTA']].reset_index(drop=True)\n",
    "\n",
    "df_ft_drexler_mean=df_ft_drexler.groupby('SEASON_ID')[['FTM','FTA']].mean().reset_index()\n",
    "df_ft_drexler_mean['Name']='Clyde Drexler'\n",
    "df_ft_laettner_mean=df_ft_laettner.groupby('SEASON_ID')[['FTM','FTA']].mean().reset_index()\n",
    "df_ft_laettner_mean['Name'] = 'Christian Laettner'\n",
    "\n",
    "df_ft=pd.concat([df_ft1, df_ft_drexler_mean, df_ft2, df_ft_laettner_mean, df_ft3], axis=0).reset_index(drop=True)\n",
    "\n",
    "df_ft['FTA']=df_ft['FTA'].astype(int)\n",
    "df_ft['FTM']=df_ft['FTM'].astype(int)\n",
    "df_ft.info()\n",
    "df_ft"
   ]
  },
  {
   "cell_type": "code",
   "execution_count": null,
   "id": "2cab2bd1",
   "metadata": {},
   "outputs": [
    {
     "data": {
      "application/vnd.plotly.v1+json": {
       "config": {
        "plotlyServerURL": "https://plot.ly"
       },
       "data": [
        {
         "customdata": [
          [
           "1984-85"
          ],
          [
           "1985-86"
          ],
          [
           "1986-87"
          ],
          [
           "1987-88"
          ],
          [
           "1988-89"
          ],
          [
           "1989-90"
          ],
          [
           "1990-91"
          ],
          [
           "1991-92"
          ],
          [
           "1992-93"
          ],
          [
           "1993-94"
          ],
          [
           "1994-95"
          ],
          [
           "1995-96"
          ],
          [
           "1996-97"
          ],
          [
           "1997-98"
          ],
          [
           "1998-99"
          ],
          [
           "1999-00"
          ]
         ],
         "hovertemplate": "Name=Charles Barkley<br>Number of Free Throws Attempted=%{x}<br>Number of Free Throws Made=%{y}<br>SEASON_ID=%{customdata[0]}<extra></extra>",
         "legendgroup": "Charles Barkley",
         "marker": {
          "color": "#636efa",
          "symbol": "circle"
         },
         "mode": "markers",
         "name": "Charles Barkley",
         "orientation": "v",
         "showlegend": true,
         "type": "scatter",
         "x": {
          "bdata": "kAFCAjQCtwMfA+gCkgKNAkYCxAH7ATYCnwGNAQsBbgA=",
          "dtype": "i2"
         },
         "xaxis": "x",
         "y": {
          "bdata": "JQGMAa0BygJaAi0C2wHGAb0BPgF7AbgBIAEoAcAARwA=",
          "dtype": "i2"
         },
         "yaxis": "y"
        },
        {
         "customdata": [
          [
           "1979-80"
          ],
          [
           "1980-81"
          ],
          [
           "1981-82"
          ],
          [
           "1982-83"
          ],
          [
           "1983-84"
          ],
          [
           "1984-85"
          ],
          [
           "1985-86"
          ],
          [
           "1986-87"
          ],
          [
           "1987-88"
          ],
          [
           "1988-89"
          ],
          [
           "1989-90"
          ],
          [
           "1990-91"
          ],
          [
           "1991-92"
          ]
         ],
         "hovertemplate": "Name=Larry Bird<br>Number of Free Throws Attempted=%{x}<br>Number of Free Throws Made=%{y}<br>SEASON_ID=%{customdata[0]}<extra></extra>",
         "legendgroup": "Larry Bird",
         "marker": {
          "color": "#EF553B",
          "symbol": "circle"
         },
         "mode": "markers",
         "name": "Larry Bird",
         "orientation": "v",
         "showlegend": true,
         "type": "scatter",
         "x": {
          "bdata": "aAFIAXwBogGlAckB7AHHAcUBEwBXAbcAogA=",
          "dtype": "i2"
         },
         "xaxis": "x",
         "y": {
          "bdata": "LQEbAUgBXwF2AZMBuQGeAZ8BEgA/AaMAlgA=",
          "dtype": "i2"
         },
         "yaxis": "y"
        },
        {
         "customdata": [
          [
           "1983-84"
          ],
          [
           "1984-85"
          ],
          [
           "1985-86"
          ],
          [
           "1986-87"
          ],
          [
           "1987-88"
          ],
          [
           "1988-89"
          ],
          [
           "1989-90"
          ],
          [
           "1990-91"
          ],
          [
           "1991-92"
          ],
          [
           "1992-93"
          ],
          [
           "1993-94"
          ],
          [
           "1994-95"
          ],
          [
           "1995-96"
          ],
          [
           "1996-97"
          ],
          [
           "1997-98"
          ]
         ],
         "hovertemplate": "Name=Clyde Drexler<br>Number of Free Throws Attempted=%{x}<br>Number of Free Throws Made=%{y}<br>SEASON_ID=%{customdata[0]}<extra></extra>",
         "legendgroup": "Clyde Drexler",
         "marker": {
          "color": "#00cc96",
          "symbol": "circle"
         },
         "mode": "markers",
         "name": "Clyde Drexler",
         "orientation": "v",
         "showlegend": true,
         "type": "scatter",
         "x": {
          "bdata": "qQAmAX0B1gFLAiQCrgEMAvkBJAFwASYBUgEMAVoB",
          "dtype": "i2"
         },
         "xaxis": "x",
         "y": {
          "bdata": "ewDfACUBZQHcAbYBTQGgAZEB9QAeAfIACQHJABUB",
          "dtype": "i2"
         },
         "yaxis": "y"
        },
        {
         "customdata": [
          [
           "1985-86"
          ],
          [
           "1986-87"
          ],
          [
           "1987-88"
          ],
          [
           "1988-89"
          ],
          [
           "1989-90"
          ],
          [
           "1990-91"
          ],
          [
           "1991-92"
          ],
          [
           "1992-93"
          ],
          [
           "1993-94"
          ],
          [
           "1994-95"
          ],
          [
           "1995-96"
          ],
          [
           "1996-97"
          ],
          [
           "1997-98"
          ],
          [
           "1998-99"
          ],
          [
           "1999-00"
          ],
          [
           "2000-01"
          ],
          [
           "2001-02"
          ]
         ],
         "hovertemplate": "Name=Patrick Ewing<br>Number of Free Throws Attempted=%{x}<br>Number of Free Throws Made=%{y}<br>SEASON_ID=%{customdata[0]}<extra></extra>",
         "legendgroup": "Patrick Ewing",
         "marker": {
          "color": "#ab63fa",
          "symbol": "circle"
         },
         "mode": "markers",
         "name": "Patrick Ewing",
         "orientation": "v",
         "showlegend": true,
         "type": "scatter",
         "x": {
          "bdata": "MgGfAdwB5AGIAm8C/wEsAkYCMALNAUYCugDnABsB+wCGAA==",
          "dtype": "i2"
         },
         "xaxis": "x",
         "y": {
          "bdata": "4gAoAVUBaQH2AdABeQGQAb0BpAFfAbcBhgCjAM8ArABeAA==",
          "dtype": "i2"
         },
         "yaxis": "y"
        },
        {
         "customdata": [
          [
           "1979-80"
          ],
          [
           "1980-81"
          ],
          [
           "1981-82"
          ],
          [
           "1982-83"
          ],
          [
           "1983-84"
          ],
          [
           "1984-85"
          ],
          [
           "1985-86"
          ],
          [
           "1986-87"
          ],
          [
           "1987-88"
          ],
          [
           "1988-89"
          ],
          [
           "1989-90"
          ],
          [
           "1990-91"
          ],
          [
           "1995-96"
          ]
         ],
         "hovertemplate": "Name=Magic Johnson<br>Number of Free Throws Attempted=%{x}<br>Number of Free Throws Made=%{y}<br>SEASON_ID=%{customdata[0]}<extra></extra>",
         "legendgroup": "Magic Johnson",
         "marker": {
          "color": "#FFA15A",
          "symbol": "circle"
         },
         "mode": "markers",
         "name": "Magic Johnson",
         "orientation": "v",
         "showlegend": true,
         "type": "scatter",
         "x": {
          "bdata": "zgHhALEBfAFmAdABsgF3AukBMwJ9Aj0CyQA=",
          "dtype": "i2"
         },
         "xaxis": "x",
         "y": {
          "bdata": "dgGrAEkBMAEiAYcBegEXAqEBAQI3AgcCrAA=",
          "dtype": "i2"
         },
         "yaxis": "y"
        },
        {
         "customdata": [
          [
           "1984-85"
          ],
          [
           "1985-86"
          ],
          [
           "1986-87"
          ],
          [
           "1987-88"
          ],
          [
           "1988-89"
          ],
          [
           "1989-90"
          ],
          [
           "1990-91"
          ],
          [
           "1991-92"
          ],
          [
           "1992-93"
          ],
          [
           "1994-95"
          ],
          [
           "1995-96"
          ],
          [
           "1996-97"
          ],
          [
           "1997-98"
          ],
          [
           "2001-02"
          ],
          [
           "2002-03"
          ]
         ],
         "hovertemplate": "Name=Michael Jordan<br>Number of Free Throws Attempted=%{x}<br>Number of Free Throws Made=%{y}<br>SEASON_ID=%{customdata[0]}<extra></extra>",
         "legendgroup": "Michael Jordan",
         "marker": {
          "color": "#19d3f3",
          "symbol": "circle"
         },
         "mode": "markers",
         "name": "Michael Jordan",
         "orientation": "v",
         "showlegend": true,
         "type": "scatter",
         "x": {
          "bdata": "6gJ9AMwDXAMZA7sCnwJOAjkCiACRAkAC0QJNAUQB",
          "dtype": "i2"
         },
         "xaxis": "x",
         "y": {
          "bdata": "dgJpAEED0wKiAlECOwLrAdwBbQAkAuABNQIHAQoB",
          "dtype": "i2"
         },
         "yaxis": "y"
        },
        {
         "customdata": [
          [
           "1992-93"
          ],
          [
           "1993-94"
          ],
          [
           "1994-95"
          ],
          [
           "1995-96"
          ],
          [
           "1996-97"
          ],
          [
           "1997-98"
          ],
          [
           "1998-99"
          ],
          [
           "1999-00"
          ],
          [
           "2000-01"
          ],
          [
           "2001-02"
          ],
          [
           "2002-03"
          ],
          [
           "2003-04"
          ],
          [
           "2004-05"
          ]
         ],
         "hovertemplate": "Name=Christian Laettner<br>Number of Free Throws Attempted=%{x}<br>Number of Free Throws Made=%{y}<br>SEASON_ID=%{customdata[0]}<extra></extra>",
         "legendgroup": "Christian Laettner",
         "marker": {
          "color": "#FF6692",
          "symbol": "circle"
         },
         "mode": "markers",
         "name": "Christian Laettner",
         "orientation": "v",
         "showlegend": true,
         "type": "scatter",
         "x": {
          "bdata": "KQLfAfQBCAG4AWIBOQAkAYgATACQADIAOwA=",
          "dtype": "i2"
         },
         "xaxis": "x",
         "y": {
          "bdata": "zgF3AZkB2ABnATIBLADtAHEAQgB4ACgALQA=",
          "dtype": "i2"
         },
         "yaxis": "y"
        },
        {
         "customdata": [
          [
           "1985-86"
          ],
          [
           "1986-87"
          ],
          [
           "1987-88"
          ],
          [
           "1988-89"
          ],
          [
           "1989-90"
          ],
          [
           "1990-91"
          ],
          [
           "1991-92"
          ],
          [
           "1992-93"
          ],
          [
           "1993-94"
          ],
          [
           "1994-95"
          ],
          [
           "1995-96"
          ],
          [
           "1996-97"
          ],
          [
           "1997-98"
          ],
          [
           "1998-99"
          ],
          [
           "1999-00"
          ],
          [
           "2000-01"
          ],
          [
           "2001-02"
          ],
          [
           "2002-03"
          ],
          [
           "2003-04"
          ]
         ],
         "hovertemplate": "Name=Karl Malone<br>Number of Free Throws Attempted=%{x}<br>Number of Free Throws Made=%{y}<br>SEASON_ID=%{customdata[0]}<extra></extra>",
         "legendgroup": "Karl Malone",
         "marker": {
          "color": "#B6E880",
          "symbol": "circle"
         },
         "mode": "markers",
         "name": "Karl Malone",
         "orientation": "v",
         "showlegend": true,
         "type": "scatter",
         "x": {
          "bdata": "lQEcAhUDlgORA3gDYQNEA+ACtwLEArICOQPgAeMCpAJ/Am0C4QA=",
          "dtype": "i2"
         },
         "xaxis": "x",
         "y": {
          "bdata": "wwBDASgCvwK4AqwCoQJrAv8BBAIAAgkCdAJ6AU0CGAL9AdoBqAA=",
          "dtype": "i2"
         },
         "yaxis": "y"
        },
        {
         "customdata": [
          [
           "1985-86"
          ],
          [
           "1986-87"
          ],
          [
           "1987-88"
          ],
          [
           "1988-89"
          ],
          [
           "1989-90"
          ],
          [
           "1990-91"
          ],
          [
           "1991-92"
          ],
          [
           "1992-93"
          ],
          [
           "1993-94"
          ],
          [
           "1994-95"
          ],
          [
           "1995-96"
          ],
          [
           "1996-97"
          ],
          [
           "1997-98"
          ],
          [
           "1998-99"
          ],
          [
           "1999-00"
          ],
          [
           "2000-01"
          ]
         ],
         "hovertemplate": "Name=Chris Mullin<br>Number of Free Throws Attempted=%{x}<br>Number of Free Throws Made=%{y}<br>SEASON_ID=%{customdata[0]}<extra></extra>",
         "legendgroup": "Chris Mullin",
         "marker": {
          "color": "#FF97FF",
          "symbol": "circle"
         },
         "mode": "markers",
         "name": "Chris Mullin",
         "orientation": "v",
         "showlegend": true,
         "type": "scatter",
         "x": {
          "bdata": "0wBGAQ4BKQI4AkQCpAHiANsAawCgANUApABcACkAHAA=",
          "dtype": "i2"
         },
         "xaxis": "x",
         "y": {
          "bdata": "vQANAe8A7QH5AQECXgG3AKUAXgCJALgAmgBQACUAGAA=",
          "dtype": "i2"
         },
         "yaxis": "y"
        },
        {
         "customdata": [
          [
           "1987-88"
          ],
          [
           "1988-89"
          ],
          [
           "1989-90"
          ],
          [
           "1990-91"
          ],
          [
           "1991-92"
          ],
          [
           "1992-93"
          ],
          [
           "1993-94"
          ],
          [
           "1994-95"
          ],
          [
           "1995-96"
          ],
          [
           "1996-97"
          ],
          [
           "1997-98"
          ],
          [
           "1998-99"
          ],
          [
           "1999-00"
          ],
          [
           "2000-01"
          ],
          [
           "2001-02"
          ],
          [
           "2002-03"
          ],
          [
           "2003-04"
          ]
         ],
         "hovertemplate": "Name=Scottie Pippen<br>Number of Free Throws Attempted=%{x}<br>Number of Free Throws Made=%{y}<br>SEASON_ID=%{customdata[0]}<extra></extra>",
         "legendgroup": "Scottie Pippen",
         "marker": {
          "color": "#FECB52",
          "symbol": "circle"
         },
         "mode": "markers",
         "name": "Scottie Pippen",
         "orientation": "v",
         "showlegend": true,
         "type": "scatter",
         "x": {
          "bdata": "rAAtAScBVAGyAV4BmQG4AUQBIwHBALcA3wChAJIAlAAbAA==",
          "dtype": "i2"
         },
         "xaxis": "x",
         "y": {
          "bdata": "YwDJAMcA8ABKAegADgE7AdwAzACWAIQAoAB3AHEAeQARAA==",
          "dtype": "i2"
         },
         "yaxis": "y"
        },
        {
         "customdata": [
          [
           "1989-90"
          ],
          [
           "1990-91"
          ],
          [
           "1991-92"
          ],
          [
           "1992-93"
          ],
          [
           "1993-94"
          ],
          [
           "1994-95"
          ],
          [
           "1995-96"
          ],
          [
           "1996-97"
          ],
          [
           "1997-98"
          ],
          [
           "1998-99"
          ],
          [
           "1999-00"
          ],
          [
           "2000-01"
          ],
          [
           "2001-02"
          ],
          [
           "2002-03"
          ]
         ],
         "hovertemplate": "Name=David Robinson<br>Number of Free Throws Attempted=%{x}<br>Number of Free Throws Made=%{y}<br>SEASON_ID=%{customdata[0]}<extra></extra>",
         "legendgroup": "David Robinson",
         "marker": {
          "color": "#636efa",
          "symbol": "circle"
         },
         "mode": "markers",
         "name": "David Robinson",
         "orientation": "v",
         "showlegend": true,
         "type": "scatter",
         "x": {
          "bdata": "RQMJAzEC/gKdA08DNwM0AJQCawH/AdYBiwHWAA==",
          "dtype": "i2"
         },
         "xaxis": "x",
         "y": {
          "bdata": "ZQJQAokBMQK1ApACcgIiAOUB7wBzAV8BDQGYAA==",
          "dtype": "i2"
         },
         "yaxis": "y"
        },
        {
         "customdata": [
          [
           "1984-85"
          ],
          [
           "1985-86"
          ],
          [
           "1986-87"
          ],
          [
           "1987-88"
          ],
          [
           "1988-89"
          ],
          [
           "1989-90"
          ],
          [
           "1990-91"
          ],
          [
           "1991-92"
          ],
          [
           "1992-93"
          ],
          [
           "1993-94"
          ],
          [
           "1994-95"
          ],
          [
           "1995-96"
          ],
          [
           "1996-97"
          ],
          [
           "1997-98"
          ],
          [
           "1998-99"
          ],
          [
           "1999-00"
          ],
          [
           "2000-01"
          ],
          [
           "2001-02"
          ],
          [
           "2002-03"
          ]
         ],
         "hovertemplate": "Name=John Stockton<br>Number of Free Throws Attempted=%{x}<br>Number of Free Throws Made=%{y}<br>SEASON_ID=%{customdata[0]}<extra></extra>",
         "legendgroup": "John Stockton",
         "marker": {
          "color": "#EF553B",
          "symbol": "circle"
         },
         "mode": "markers",
         "name": "John Stockton",
         "orientation": "v",
         "showlegend": true,
         "type": "scatter",
         "x": {
          "bdata": "wQDNAOUARAHEAbABsgFuAW8BUgEyARoBRQHnAKkAAQEWAUEBHwE=",
          "dtype": "i2"
         },
         "xaxis": "x",
         "y": {
          "bdata": "jgCsALMAEAGGAWIBawE0ASUBEAH2AOoAEwG/AIkA3QDjABMB7QA=",
          "dtype": "i2"
         },
         "yaxis": "y"
        }
       ],
       "layout": {
        "height": 600,
        "legend": {
         "title": {
          "text": "Name"
         },
         "tracegroupgap": 0
        },
        "plot_bgcolor": "navy",
        "template": {
         "data": {
          "bar": [
           {
            "error_x": {
             "color": "#2a3f5f"
            },
            "error_y": {
             "color": "#2a3f5f"
            },
            "marker": {
             "line": {
              "color": "#E5ECF6",
              "width": 0.5
             },
             "pattern": {
              "fillmode": "overlay",
              "size": 10,
              "solidity": 0.2
             }
            },
            "type": "bar"
           }
          ],
          "barpolar": [
           {
            "marker": {
             "line": {
              "color": "#E5ECF6",
              "width": 0.5
             },
             "pattern": {
              "fillmode": "overlay",
              "size": 10,
              "solidity": 0.2
             }
            },
            "type": "barpolar"
           }
          ],
          "carpet": [
           {
            "aaxis": {
             "endlinecolor": "#2a3f5f",
             "gridcolor": "white",
             "linecolor": "white",
             "minorgridcolor": "white",
             "startlinecolor": "#2a3f5f"
            },
            "baxis": {
             "endlinecolor": "#2a3f5f",
             "gridcolor": "white",
             "linecolor": "white",
             "minorgridcolor": "white",
             "startlinecolor": "#2a3f5f"
            },
            "type": "carpet"
           }
          ],
          "choropleth": [
           {
            "colorbar": {
             "outlinewidth": 0,
             "ticks": ""
            },
            "type": "choropleth"
           }
          ],
          "contour": [
           {
            "colorbar": {
             "outlinewidth": 0,
             "ticks": ""
            },
            "colorscale": [
             [
              0,
              "#0d0887"
             ],
             [
              0.1111111111111111,
              "#46039f"
             ],
             [
              0.2222222222222222,
              "#7201a8"
             ],
             [
              0.3333333333333333,
              "#9c179e"
             ],
             [
              0.4444444444444444,
              "#bd3786"
             ],
             [
              0.5555555555555556,
              "#d8576b"
             ],
             [
              0.6666666666666666,
              "#ed7953"
             ],
             [
              0.7777777777777778,
              "#fb9f3a"
             ],
             [
              0.8888888888888888,
              "#fdca26"
             ],
             [
              1,
              "#f0f921"
             ]
            ],
            "type": "contour"
           }
          ],
          "contourcarpet": [
           {
            "colorbar": {
             "outlinewidth": 0,
             "ticks": ""
            },
            "type": "contourcarpet"
           }
          ],
          "heatmap": [
           {
            "colorbar": {
             "outlinewidth": 0,
             "ticks": ""
            },
            "colorscale": [
             [
              0,
              "#0d0887"
             ],
             [
              0.1111111111111111,
              "#46039f"
             ],
             [
              0.2222222222222222,
              "#7201a8"
             ],
             [
              0.3333333333333333,
              "#9c179e"
             ],
             [
              0.4444444444444444,
              "#bd3786"
             ],
             [
              0.5555555555555556,
              "#d8576b"
             ],
             [
              0.6666666666666666,
              "#ed7953"
             ],
             [
              0.7777777777777778,
              "#fb9f3a"
             ],
             [
              0.8888888888888888,
              "#fdca26"
             ],
             [
              1,
              "#f0f921"
             ]
            ],
            "type": "heatmap"
           }
          ],
          "histogram": [
           {
            "marker": {
             "pattern": {
              "fillmode": "overlay",
              "size": 10,
              "solidity": 0.2
             }
            },
            "type": "histogram"
           }
          ],
          "histogram2d": [
           {
            "colorbar": {
             "outlinewidth": 0,
             "ticks": ""
            },
            "colorscale": [
             [
              0,
              "#0d0887"
             ],
             [
              0.1111111111111111,
              "#46039f"
             ],
             [
              0.2222222222222222,
              "#7201a8"
             ],
             [
              0.3333333333333333,
              "#9c179e"
             ],
             [
              0.4444444444444444,
              "#bd3786"
             ],
             [
              0.5555555555555556,
              "#d8576b"
             ],
             [
              0.6666666666666666,
              "#ed7953"
             ],
             [
              0.7777777777777778,
              "#fb9f3a"
             ],
             [
              0.8888888888888888,
              "#fdca26"
             ],
             [
              1,
              "#f0f921"
             ]
            ],
            "type": "histogram2d"
           }
          ],
          "histogram2dcontour": [
           {
            "colorbar": {
             "outlinewidth": 0,
             "ticks": ""
            },
            "colorscale": [
             [
              0,
              "#0d0887"
             ],
             [
              0.1111111111111111,
              "#46039f"
             ],
             [
              0.2222222222222222,
              "#7201a8"
             ],
             [
              0.3333333333333333,
              "#9c179e"
             ],
             [
              0.4444444444444444,
              "#bd3786"
             ],
             [
              0.5555555555555556,
              "#d8576b"
             ],
             [
              0.6666666666666666,
              "#ed7953"
             ],
             [
              0.7777777777777778,
              "#fb9f3a"
             ],
             [
              0.8888888888888888,
              "#fdca26"
             ],
             [
              1,
              "#f0f921"
             ]
            ],
            "type": "histogram2dcontour"
           }
          ],
          "mesh3d": [
           {
            "colorbar": {
             "outlinewidth": 0,
             "ticks": ""
            },
            "type": "mesh3d"
           }
          ],
          "parcoords": [
           {
            "line": {
             "colorbar": {
              "outlinewidth": 0,
              "ticks": ""
             }
            },
            "type": "parcoords"
           }
          ],
          "pie": [
           {
            "automargin": true,
            "type": "pie"
           }
          ],
          "scatter": [
           {
            "fillpattern": {
             "fillmode": "overlay",
             "size": 10,
             "solidity": 0.2
            },
            "type": "scatter"
           }
          ],
          "scatter3d": [
           {
            "line": {
             "colorbar": {
              "outlinewidth": 0,
              "ticks": ""
             }
            },
            "marker": {
             "colorbar": {
              "outlinewidth": 0,
              "ticks": ""
             }
            },
            "type": "scatter3d"
           }
          ],
          "scattercarpet": [
           {
            "marker": {
             "colorbar": {
              "outlinewidth": 0,
              "ticks": ""
             }
            },
            "type": "scattercarpet"
           }
          ],
          "scattergeo": [
           {
            "marker": {
             "colorbar": {
              "outlinewidth": 0,
              "ticks": ""
             }
            },
            "type": "scattergeo"
           }
          ],
          "scattergl": [
           {
            "marker": {
             "colorbar": {
              "outlinewidth": 0,
              "ticks": ""
             }
            },
            "type": "scattergl"
           }
          ],
          "scattermap": [
           {
            "marker": {
             "colorbar": {
              "outlinewidth": 0,
              "ticks": ""
             }
            },
            "type": "scattermap"
           }
          ],
          "scattermapbox": [
           {
            "marker": {
             "colorbar": {
              "outlinewidth": 0,
              "ticks": ""
             }
            },
            "type": "scattermapbox"
           }
          ],
          "scatterpolar": [
           {
            "marker": {
             "colorbar": {
              "outlinewidth": 0,
              "ticks": ""
             }
            },
            "type": "scatterpolar"
           }
          ],
          "scatterpolargl": [
           {
            "marker": {
             "colorbar": {
              "outlinewidth": 0,
              "ticks": ""
             }
            },
            "type": "scatterpolargl"
           }
          ],
          "scatterternary": [
           {
            "marker": {
             "colorbar": {
              "outlinewidth": 0,
              "ticks": ""
             }
            },
            "type": "scatterternary"
           }
          ],
          "surface": [
           {
            "colorbar": {
             "outlinewidth": 0,
             "ticks": ""
            },
            "colorscale": [
             [
              0,
              "#0d0887"
             ],
             [
              0.1111111111111111,
              "#46039f"
             ],
             [
              0.2222222222222222,
              "#7201a8"
             ],
             [
              0.3333333333333333,
              "#9c179e"
             ],
             [
              0.4444444444444444,
              "#bd3786"
             ],
             [
              0.5555555555555556,
              "#d8576b"
             ],
             [
              0.6666666666666666,
              "#ed7953"
             ],
             [
              0.7777777777777778,
              "#fb9f3a"
             ],
             [
              0.8888888888888888,
              "#fdca26"
             ],
             [
              1,
              "#f0f921"
             ]
            ],
            "type": "surface"
           }
          ],
          "table": [
           {
            "cells": {
             "fill": {
              "color": "#EBF0F8"
             },
             "line": {
              "color": "white"
             }
            },
            "header": {
             "fill": {
              "color": "#C8D4E3"
             },
             "line": {
              "color": "white"
             }
            },
            "type": "table"
           }
          ]
         },
         "layout": {
          "annotationdefaults": {
           "arrowcolor": "#2a3f5f",
           "arrowhead": 0,
           "arrowwidth": 1
          },
          "autotypenumbers": "strict",
          "coloraxis": {
           "colorbar": {
            "outlinewidth": 0,
            "ticks": ""
           }
          },
          "colorscale": {
           "diverging": [
            [
             0,
             "#8e0152"
            ],
            [
             0.1,
             "#c51b7d"
            ],
            [
             0.2,
             "#de77ae"
            ],
            [
             0.3,
             "#f1b6da"
            ],
            [
             0.4,
             "#fde0ef"
            ],
            [
             0.5,
             "#f7f7f7"
            ],
            [
             0.6,
             "#e6f5d0"
            ],
            [
             0.7,
             "#b8e186"
            ],
            [
             0.8,
             "#7fbc41"
            ],
            [
             0.9,
             "#4d9221"
            ],
            [
             1,
             "#276419"
            ]
           ],
           "sequential": [
            [
             0,
             "#0d0887"
            ],
            [
             0.1111111111111111,
             "#46039f"
            ],
            [
             0.2222222222222222,
             "#7201a8"
            ],
            [
             0.3333333333333333,
             "#9c179e"
            ],
            [
             0.4444444444444444,
             "#bd3786"
            ],
            [
             0.5555555555555556,
             "#d8576b"
            ],
            [
             0.6666666666666666,
             "#ed7953"
            ],
            [
             0.7777777777777778,
             "#fb9f3a"
            ],
            [
             0.8888888888888888,
             "#fdca26"
            ],
            [
             1,
             "#f0f921"
            ]
           ],
           "sequentialminus": [
            [
             0,
             "#0d0887"
            ],
            [
             0.1111111111111111,
             "#46039f"
            ],
            [
             0.2222222222222222,
             "#7201a8"
            ],
            [
             0.3333333333333333,
             "#9c179e"
            ],
            [
             0.4444444444444444,
             "#bd3786"
            ],
            [
             0.5555555555555556,
             "#d8576b"
            ],
            [
             0.6666666666666666,
             "#ed7953"
            ],
            [
             0.7777777777777778,
             "#fb9f3a"
            ],
            [
             0.8888888888888888,
             "#fdca26"
            ],
            [
             1,
             "#f0f921"
            ]
           ]
          },
          "colorway": [
           "#636efa",
           "#EF553B",
           "#00cc96",
           "#ab63fa",
           "#FFA15A",
           "#19d3f3",
           "#FF6692",
           "#B6E880",
           "#FF97FF",
           "#FECB52"
          ],
          "font": {
           "color": "#2a3f5f"
          },
          "geo": {
           "bgcolor": "white",
           "lakecolor": "white",
           "landcolor": "#E5ECF6",
           "showlakes": true,
           "showland": true,
           "subunitcolor": "white"
          },
          "hoverlabel": {
           "align": "left"
          },
          "hovermode": "closest",
          "mapbox": {
           "style": "light"
          },
          "paper_bgcolor": "white",
          "plot_bgcolor": "#E5ECF6",
          "polar": {
           "angularaxis": {
            "gridcolor": "white",
            "linecolor": "white",
            "ticks": ""
           },
           "bgcolor": "#E5ECF6",
           "radialaxis": {
            "gridcolor": "white",
            "linecolor": "white",
            "ticks": ""
           }
          },
          "scene": {
           "xaxis": {
            "backgroundcolor": "#E5ECF6",
            "gridcolor": "white",
            "gridwidth": 2,
            "linecolor": "white",
            "showbackground": true,
            "ticks": "",
            "zerolinecolor": "white"
           },
           "yaxis": {
            "backgroundcolor": "#E5ECF6",
            "gridcolor": "white",
            "gridwidth": 2,
            "linecolor": "white",
            "showbackground": true,
            "ticks": "",
            "zerolinecolor": "white"
           },
           "zaxis": {
            "backgroundcolor": "#E5ECF6",
            "gridcolor": "white",
            "gridwidth": 2,
            "linecolor": "white",
            "showbackground": true,
            "ticks": "",
            "zerolinecolor": "white"
           }
          },
          "shapedefaults": {
           "line": {
            "color": "#2a3f5f"
           }
          },
          "ternary": {
           "aaxis": {
            "gridcolor": "white",
            "linecolor": "white",
            "ticks": ""
           },
           "baxis": {
            "gridcolor": "white",
            "linecolor": "white",
            "ticks": ""
           },
           "bgcolor": "#E5ECF6",
           "caxis": {
            "gridcolor": "white",
            "linecolor": "white",
            "ticks": ""
           }
          },
          "title": {
           "x": 0.05
          },
          "xaxis": {
           "automargin": true,
           "gridcolor": "white",
           "linecolor": "white",
           "ticks": "",
           "title": {
            "standoff": 15
           },
           "zerolinecolor": "white",
           "zerolinewidth": 2
          },
          "yaxis": {
           "automargin": true,
           "gridcolor": "white",
           "linecolor": "white",
           "ticks": "",
           "title": {
            "standoff": 15
           },
           "zerolinecolor": "white",
           "zerolinewidth": 2
          }
         }
        },
        "title": {
         "text": "Free Throws Made by Free Throws Attempted for Each Season, by player"
        },
        "width": 1000,
        "xaxis": {
         "anchor": "y",
         "domain": [
          0,
          1
         ],
         "showgrid": false,
         "tickformat": ",",
         "title": {
          "text": "Number of Free Throws Attempted"
         }
        },
        "yaxis": {
         "anchor": "x",
         "domain": [
          0,
          1
         ],
         "showgrid": false,
         "tickformat": ",",
         "title": {
          "text": "Number of Free Throws Made"
         }
        }
       }
      }
     },
     "metadata": {},
     "output_type": "display_data"
    }
   ],
   "source": [
    "# scatter plot showing number of free throws made by the number of free throws attempted\n",
    "fig=px.scatter(df_ft, x='FTA', y='FTM', color='Name', \n",
    "               title='Free Throws Made by Free Throws Attempted for Each Season, by player', hover_data=[\"SEASON_ID\"],\n",
    "               width=1000, height=600,\n",
    "               labels={\"FTA\": \"Number of Free Throws Attempted\", \"FTM\": \"Number of Free Throws Made\"}).update_layout(xaxis=dict(tickformat=\",\", showgrid=False),\n",
    "                                                                                                                      yaxis=dict(tickformat=\",\", showgrid=False),\n",
    "                                                                                                                      plot_bgcolor='navy') \n",
    "fig.show()"
   ]
  },
  {
   "cell_type": "code",
   "execution_count": null,
   "id": "f1783622",
   "metadata": {},
   "outputs": [
    {
     "name": "stdout",
     "output_type": "stream",
     "text": [
      "<class 'pandas.core.frame.DataFrame'>\n",
      "RangeIndex: 187 entries, 0 to 186\n",
      "Data columns (total 4 columns):\n",
      " #   Column     Non-Null Count  Dtype \n",
      "---  ------     --------------  ----- \n",
      " 0   SEASON_ID  187 non-null    object\n",
      " 1   Name       187 non-null    object\n",
      " 2   FGM        187 non-null    int64 \n",
      " 3   FGA        187 non-null    int64 \n",
      "dtypes: int64(2), object(2)\n",
      "memory usage: 6.0+ KB\n"
     ]
    },
    {
     "data": {
      "text/html": [
       "<div>\n",
       "<style scoped>\n",
       "    .dataframe tbody tr th:only-of-type {\n",
       "        vertical-align: middle;\n",
       "    }\n",
       "\n",
       "    .dataframe tbody tr th {\n",
       "        vertical-align: top;\n",
       "    }\n",
       "\n",
       "    .dataframe thead th {\n",
       "        text-align: right;\n",
       "    }\n",
       "</style>\n",
       "<table border=\"1\" class=\"dataframe\">\n",
       "  <thead>\n",
       "    <tr style=\"text-align: right;\">\n",
       "      <th></th>\n",
       "      <th>SEASON_ID</th>\n",
       "      <th>Name</th>\n",
       "      <th>FGM</th>\n",
       "      <th>FGA</th>\n",
       "    </tr>\n",
       "  </thead>\n",
       "  <tbody>\n",
       "    <tr>\n",
       "      <th>0</th>\n",
       "      <td>1984-85</td>\n",
       "      <td>Charles Barkley</td>\n",
       "      <td>427</td>\n",
       "      <td>783</td>\n",
       "    </tr>\n",
       "    <tr>\n",
       "      <th>1</th>\n",
       "      <td>1985-86</td>\n",
       "      <td>Charles Barkley</td>\n",
       "      <td>595</td>\n",
       "      <td>1041</td>\n",
       "    </tr>\n",
       "    <tr>\n",
       "      <th>2</th>\n",
       "      <td>1986-87</td>\n",
       "      <td>Charles Barkley</td>\n",
       "      <td>557</td>\n",
       "      <td>937</td>\n",
       "    </tr>\n",
       "    <tr>\n",
       "      <th>3</th>\n",
       "      <td>1987-88</td>\n",
       "      <td>Charles Barkley</td>\n",
       "      <td>753</td>\n",
       "      <td>1283</td>\n",
       "    </tr>\n",
       "    <tr>\n",
       "      <th>4</th>\n",
       "      <td>1988-89</td>\n",
       "      <td>Charles Barkley</td>\n",
       "      <td>700</td>\n",
       "      <td>1208</td>\n",
       "    </tr>\n",
       "    <tr>\n",
       "      <th>...</th>\n",
       "      <td>...</td>\n",
       "      <td>...</td>\n",
       "      <td>...</td>\n",
       "      <td>...</td>\n",
       "    </tr>\n",
       "    <tr>\n",
       "      <th>182</th>\n",
       "      <td>1998-99</td>\n",
       "      <td>John Stockton</td>\n",
       "      <td>200</td>\n",
       "      <td>410</td>\n",
       "    </tr>\n",
       "    <tr>\n",
       "      <th>183</th>\n",
       "      <td>1999-00</td>\n",
       "      <td>John Stockton</td>\n",
       "      <td>363</td>\n",
       "      <td>725</td>\n",
       "    </tr>\n",
       "    <tr>\n",
       "      <th>184</th>\n",
       "      <td>2000-01</td>\n",
       "      <td>John Stockton</td>\n",
       "      <td>328</td>\n",
       "      <td>651</td>\n",
       "    </tr>\n",
       "    <tr>\n",
       "      <th>185</th>\n",
       "      <td>2001-02</td>\n",
       "      <td>John Stockton</td>\n",
       "      <td>401</td>\n",
       "      <td>775</td>\n",
       "    </tr>\n",
       "    <tr>\n",
       "      <th>186</th>\n",
       "      <td>2002-03</td>\n",
       "      <td>John Stockton</td>\n",
       "      <td>309</td>\n",
       "      <td>640</td>\n",
       "    </tr>\n",
       "  </tbody>\n",
       "</table>\n",
       "<p>187 rows × 4 columns</p>\n",
       "</div>"
      ],
      "text/plain": [
       "    SEASON_ID             Name  FGM   FGA\n",
       "0     1984-85  Charles Barkley  427   783\n",
       "1     1985-86  Charles Barkley  595  1041\n",
       "2     1986-87  Charles Barkley  557   937\n",
       "3     1987-88  Charles Barkley  753  1283\n",
       "4     1988-89  Charles Barkley  700  1208\n",
       "..        ...              ...  ...   ...\n",
       "182   1998-99    John Stockton  200   410\n",
       "183   1999-00    John Stockton  363   725\n",
       "184   2000-01    John Stockton  328   651\n",
       "185   2001-02    John Stockton  401   775\n",
       "186   2002-03    John Stockton  309   640\n",
       "\n",
       "[187 rows x 4 columns]"
      ]
     },
     "execution_count": 25,
     "metadata": {},
     "output_type": "execute_result"
    }
   ],
   "source": [
    "# generating scatter plot showing number of field goals made by the number of field goals attempted\n",
    "df_fg1=df_all.loc[is_in_target_categories1, \n",
    "                 ['SEASON_ID','Name', 'FGM','FGA']].reset_index(drop=True)\n",
    "df_fg2=df_all.loc[is_in_target_categories2, \n",
    "                 ['SEASON_ID','Name', 'FGM','FGA']].reset_index(drop=True)\n",
    "df_fg3=df_all.loc[is_in_target_categories3, \n",
    "                 ['SEASON_ID','Name', 'FGM','FGA']].reset_index(drop=True)\n",
    "\n",
    "df_fg_drexler=df_all.loc[df_all['Name']=='Clyde Drexler', ['SEASON_ID','Name', 'FGM','FGA',]].reset_index(drop=True)\n",
    "\n",
    "df_fg_laettner=df_all.loc[df_all['Name']=='Christian Laettner', ['SEASON_ID','Name', 'FGM','FGA']].reset_index(drop=True)\n",
    "\n",
    "df_fg_drexler_mean=df_fg_drexler.groupby('SEASON_ID')[['FGM','FGA']].mean().reset_index()\n",
    "df_fg_drexler_mean['Name']='Clyde Drexler'\n",
    "df_fg_laettner_mean=df_fg_laettner.groupby('SEASON_ID')[['FGM','FGA']].mean().reset_index()\n",
    "df_fg_laettner_mean['Name'] = 'Christian Laettner'\n",
    "\n",
    "df_fg=pd.concat([df_fg1, df_fg_drexler_mean, df_fg2, df_fg_laettner_mean, df_fg3], axis=0).reset_index(drop=True)\n",
    "\n",
    "df_fg['FGA']=df_fg['FGA'].astype(int)\n",
    "df_fg['FGM']=df_fg['FGM'].astype(int)\n",
    "df_fg.info()\n",
    "df_fg\n"
   ]
  },
  {
   "cell_type": "code",
   "execution_count": null,
   "id": "a94bfd00",
   "metadata": {},
   "outputs": [
    {
     "data": {
      "application/vnd.plotly.v1+json": {
       "config": {
        "plotlyServerURL": "https://plot.ly"
       },
       "data": [
        {
         "customdata": [
          [
           "1984-85"
          ],
          [
           "1985-86"
          ],
          [
           "1986-87"
          ],
          [
           "1987-88"
          ],
          [
           "1988-89"
          ],
          [
           "1989-90"
          ],
          [
           "1990-91"
          ],
          [
           "1991-92"
          ],
          [
           "1992-93"
          ],
          [
           "1993-94"
          ],
          [
           "1994-95"
          ],
          [
           "1995-96"
          ],
          [
           "1996-97"
          ],
          [
           "1997-98"
          ],
          [
           "1998-99"
          ],
          [
           "1999-00"
          ]
         ],
         "hovertemplate": "Name=Charles Barkley<br>Number of Field Goals Attempted=%{x}<br>Number of Field Goals Made=%{y}<br>SEASON_ID=%{customdata[0]}<extra></extra>",
         "legendgroup": "Charles Barkley",
         "marker": {
          "color": "#636efa",
          "symbol": "circle"
         },
         "mode": "markers",
         "name": "Charles Barkley",
         "orientation": "v",
         "showlegend": true,
         "type": "scatter",
         "x": {
          "bdata": "DwMRBKkDAwW4BJkEjwRmBGAFFgR1BIgEtALoAvYB3gA=",
          "dtype": "i2"
         },
         "xaxis": "x",
         "y": {
          "bdata": "qwFTAi0C8QK8AsICmQJuAswCBgIqAkQCTwFpAfAAagA=",
          "dtype": "i2"
         },
         "yaxis": "y"
        },
        {
         "customdata": [
          [
           "1979-80"
          ],
          [
           "1980-81"
          ],
          [
           "1981-82"
          ],
          [
           "1982-83"
          ],
          [
           "1983-84"
          ],
          [
           "1984-85"
          ],
          [
           "1985-86"
          ],
          [
           "1986-87"
          ],
          [
           "1987-88"
          ],
          [
           "1988-89"
          ],
          [
           "1989-90"
          ],
          [
           "1990-91"
          ],
          [
           "1991-92"
          ]
         ],
         "hovertemplate": "Name=Larry Bird<br>Number of Field Goals Attempted=%{x}<br>Number of Field Goals Made=%{y}<br>SEASON_ID=%{customdata[0]}<extra></extra>",
         "legendgroup": "Larry Bird",
         "marker": {
          "color": "#EF553B",
          "symbol": "circle"
         },
         "mode": "markers",
         "name": "Larry Bird",
         "orientation": "v",
         "showlegend": true,
         "type": "scatter",
         "x": {
          "bdata": "twXfBYYFyQUGBuAGRgbZBYgGaADtBfkD9gI=",
          "dtype": "i2"
         },
         "xaxis": "x",
         "y": {
          "bdata": "tQLPAscC6wL2ApYDHAMSA3EDMQDOAs4BYQE=",
          "dtype": "i2"
         },
         "yaxis": "y"
        },
        {
         "customdata": [
          [
           "1983-84"
          ],
          [
           "1984-85"
          ],
          [
           "1985-86"
          ],
          [
           "1986-87"
          ],
          [
           "1987-88"
          ],
          [
           "1988-89"
          ],
          [
           "1989-90"
          ],
          [
           "1990-91"
          ],
          [
           "1991-92"
          ],
          [
           "1992-93"
          ],
          [
           "1993-94"
          ],
          [
           "1994-95"
          ],
          [
           "1995-96"
          ],
          [
           "1996-97"
          ],
          [
           "1997-98"
          ]
         ],
         "hovertemplate": "Name=Clyde Drexler<br>Number of Field Goals Attempted=%{x}<br>Number of Field Goals Made=%{y}<br>SEASON_ID=%{customdata[0]}<extra></extra>",
         "legendgroup": "Clyde Drexler",
         "marker": {
          "color": "#00cc96",
          "symbol": "circle"
         },
         "mode": "markers",
         "name": "Clyde Drexler",
         "orientation": "v",
         "showlegend": true,
         "type": "scatter",
         "x": {
          "bdata": "LwKJBHYEgAWPBogGTQU6BcQFMANRBDkD/AKDAyME",
          "dtype": "i2"
         },
         "xaxis": "x",
         "y": {
          "bdata": "/AA9Ah4CwwJRAz0DngKFArYCXgHZAXwBSwGNAcQB",
          "dtype": "i2"
         },
         "yaxis": "y"
        },
        {
         "customdata": [
          [
           "1985-86"
          ],
          [
           "1986-87"
          ],
          [
           "1987-88"
          ],
          [
           "1988-89"
          ],
          [
           "1989-90"
          ],
          [
           "1990-91"
          ],
          [
           "1991-92"
          ],
          [
           "1992-93"
          ],
          [
           "1993-94"
          ],
          [
           "1994-95"
          ],
          [
           "1995-96"
          ],
          [
           "1996-97"
          ],
          [
           "1997-98"
          ],
          [
           "1998-99"
          ],
          [
           "1999-00"
          ],
          [
           "2000-01"
          ],
          [
           "2001-02"
          ]
         ],
         "hovertemplate": "Name=Patrick Ewing<br>Number of Field Goals Attempted=%{x}<br>Number of Field Goals Made=%{y}<br>SEASON_ID=%{customdata[0]}<extra></extra>",
         "legendgroup": "Patrick Ewing",
         "marker": {
          "color": "#ab63fa",
          "symbol": "circle"
         },
         "mode": "markers",
         "name": "Patrick Ewing",
         "orientation": "v",
         "showlegend": true,
         "type": "scatter",
         "x": {
          "bdata": "LgMdBJ8EAgWJBm0G9QUOBt8FrAWwBT4FkwE4AgcDrAJNAQ==",
          "dtype": "i2"
         },
         "xaxis": "x",
         "y": {
          "bdata": "ggESApAC1wKaA00DHAMLA+kC2gKmAo8CywD3AGkBJgGUAA==",
          "dtype": "i2"
         },
         "yaxis": "y"
        },
        {
         "customdata": [
          [
           "1979-80"
          ],
          [
           "1980-81"
          ],
          [
           "1981-82"
          ],
          [
           "1982-83"
          ],
          [
           "1983-84"
          ],
          [
           "1984-85"
          ],
          [
           "1985-86"
          ],
          [
           "1986-87"
          ],
          [
           "1987-88"
          ],
          [
           "1988-89"
          ],
          [
           "1989-90"
          ],
          [
           "1990-91"
          ],
          [
           "1995-96"
          ]
         ],
         "hovertemplate": "Name=Magic Johnson<br>Number of Field Goals Attempted=%{x}<br>Number of Field Goals Made=%{y}<br>SEASON_ID=%{customdata[0]}<extra></extra>",
         "legendgroup": "Magic Johnson",
         "marker": {
          "color": "#FFA15A",
          "symbol": "circle"
         },
         "mode": "markers",
         "name": "Magic Johnson",
         "orientation": "v",
         "showlegend": true,
         "type": "scatter",
         "x": {
          "bdata": "tQNLAgwEpQMMA4MDlgMcBeQDcQRyBNADJgE=",
          "dtype": "i2"
         },
         "xaxis": "x",
         "y": {
          "bdata": "9wE4ASwC/wG5AfgB4wGrAuoBQwIiAtIBiQA=",
          "dtype": "i2"
         },
         "yaxis": "y"
        },
        {
         "customdata": [
          [
           "1984-85"
          ],
          [
           "1985-86"
          ],
          [
           "1986-87"
          ],
          [
           "1987-88"
          ],
          [
           "1988-89"
          ],
          [
           "1989-90"
          ],
          [
           "1990-91"
          ],
          [
           "1991-92"
          ],
          [
           "1992-93"
          ],
          [
           "1994-95"
          ],
          [
           "1995-96"
          ],
          [
           "1996-97"
          ],
          [
           "1997-98"
          ],
          [
           "2001-02"
          ],
          [
           "2002-03"
          ]
         ],
         "hovertemplate": "Name=Michael Jordan<br>Number of Field Goals Attempted=%{x}<br>Number of Field Goals Made=%{y}<br>SEASON_ID=%{customdata[0]}<extra></extra>",
         "legendgroup": "Michael Jordan",
         "marker": {
          "color": "#19d3f3",
          "symbol": "circle"
         },
         "mode": "markers",
         "name": "Michael Jordan",
         "orientation": "v",
         "showlegend": true,
         "type": "scatter",
         "x": {
          "bdata": "WQZIAecIzgcDB6wHLQcaB9MHlAE6B2QHZQcsBfcF",
          "dtype": "i2"
         },
         "xaxis": "x",
         "y": {
          "bdata": "RQOWAEoELQTGAwoE3gOvA+ADpgCUA5gDcQMnAqcC",
          "dtype": "i2"
         },
         "yaxis": "y"
        },
        {
         "customdata": [
          [
           "1992-93"
          ],
          [
           "1993-94"
          ],
          [
           "1994-95"
          ],
          [
           "1995-96"
          ],
          [
           "1996-97"
          ],
          [
           "1997-98"
          ],
          [
           "1998-99"
          ],
          [
           "1999-00"
          ],
          [
           "2000-01"
          ],
          [
           "2001-02"
          ],
          [
           "2002-03"
          ],
          [
           "2003-04"
          ],
          [
           "2004-05"
          ]
         ],
         "hovertemplate": "Name=Christian Laettner<br>Number of Field Goals Attempted=%{x}<br>Number of Field Goals Made=%{y}<br>SEASON_ID=%{customdata[0]}<extra></extra>",
         "legendgroup": "Christian Laettner",
         "marker": {
          "color": "#FF6692",
          "symbol": "circle"
         },
         "mode": "markers",
         "name": "Christian Laettner",
         "orientation": "v",
         "showlegend": true,
         "type": "scatter",
         "x": {
          "bdata": "JQRzA5gDXAJoBNoCagAhA28BagEEAgABuAA=",
          "dtype": "i2"
         },
         "xaxis": "x",
         "y": {
          "bdata": "9wGMAcIBJgEkAmIBJgB7AbgAqAD/AHcAawA=",
          "dtype": "i2"
         },
         "yaxis": "y"
        },
        {
         "customdata": [
          [
           "1985-86"
          ],
          [
           "1986-87"
          ],
          [
           "1987-88"
          ],
          [
           "1988-89"
          ],
          [
           "1989-90"
          ],
          [
           "1990-91"
          ],
          [
           "1991-92"
          ],
          [
           "1992-93"
          ],
          [
           "1993-94"
          ],
          [
           "1994-95"
          ],
          [
           "1995-96"
          ],
          [
           "1996-97"
          ],
          [
           "1997-98"
          ],
          [
           "1998-99"
          ],
          [
           "1999-00"
          ],
          [
           "2000-01"
          ],
          [
           "2001-02"
          ],
          [
           "2002-03"
          ],
          [
           "2003-04"
          ]
         ],
         "hovertemplate": "Name=Karl Malone<br>Number of Field Goals Attempted=%{x}<br>Number of Field Goals Made=%{y}<br>SEASON_ID=%{customdata[0]}<extra></extra>",
         "legendgroup": "Karl Malone",
         "marker": {
          "color": "#B6E880",
          "symbol": "circle"
         },
         "mode": "markers",
         "name": "Karl Malone",
         "orientation": "v",
         "showlegend": true,
         "type": "scatter",
         "x": {
          "bdata": "+AOOBXIGFwZbBkgG7AWjBRAGDAbwBSMGwAUdA8QFQQV3BQkFkAE=",
          "dtype": "i2"
         },
         "xaxis": "x",
         "y": {
          "bdata": "+AHYAloDKQOSA08DHgMdAwQDPgMVA2ADDAOJAfACngJ7AlMCwQA=",
          "dtype": "i2"
         },
         "yaxis": "y"
        },
        {
         "customdata": [
          [
           "1985-86"
          ],
          [
           "1986-87"
          ],
          [
           "1987-88"
          ],
          [
           "1988-89"
          ],
          [
           "1989-90"
          ],
          [
           "1990-91"
          ],
          [
           "1991-92"
          ],
          [
           "1992-93"
          ],
          [
           "1993-94"
          ],
          [
           "1994-95"
          ],
          [
           "1995-96"
          ],
          [
           "1996-97"
          ],
          [
           "1997-98"
          ],
          [
           "1998-99"
          ],
          [
           "1999-00"
          ],
          [
           "2000-01"
          ]
         ],
         "hovertemplate": "Name=Chris Mullin<br>Number of Field Goals Attempted=%{x}<br>Number of Field Goals Made=%{y}<br>SEASON_ID=%{customdata[0]}<extra></extra>",
         "legendgroup": "Chris Mullin",
         "marker": {
          "color": "#FF97FF",
          "symbol": "circle"
         },
         "mode": "markers",
         "name": "Chris Mullin",
         "orientation": "v",
         "showlegend": true,
         "type": "scatter",
         "x": {
          "bdata": "bAKgA54DXgb4BKkFMAaiA2UDXAEbAhgDtAJzAbsAagA=",
          "dtype": "i2"
         },
         "xaxis": "x",
         "y": {
          "bdata": "HwHdAdYBPgOqAgkDPgPaAZoBqgANAbYBTQGxAFAAJAA=",
          "dtype": "i2"
         },
         "yaxis": "y"
        },
        {
         "customdata": [
          [
           "1987-88"
          ],
          [
           "1988-89"
          ],
          [
           "1989-90"
          ],
          [
           "1990-91"
          ],
          [
           "1991-92"
          ],
          [
           "1992-93"
          ],
          [
           "1993-94"
          ],
          [
           "1994-95"
          ],
          [
           "1995-96"
          ],
          [
           "1996-97"
          ],
          [
           "1997-98"
          ],
          [
           "1998-99"
          ],
          [
           "1999-00"
          ],
          [
           "2000-01"
          ],
          [
           "2001-02"
          ],
          [
           "2002-03"
          ],
          [
           "2003-04"
          ]
         ],
         "hovertemplate": "Name=Scottie Pippen<br>Number of Field Goals Attempted=%{x}<br>Number of Field Goals Made=%{y}<br>SEASON_ID=%{customdata[0]}<extra></extra>",
         "legendgroup": "Scottie Pippen",
         "marker": {
          "color": "#FECB52",
          "symbol": "circle"
         },
         "mode": "markers",
         "name": "Scottie Pippen",
         "orientation": "v",
         "showlegend": true,
         "type": "scatter",
         "x": {
          "bdata": "NAJjA34EgQRPBS8F/gQoBcAEVgXAAlwCXANUAlcCVQKMAA==",
          "dtype": "i2"
         },
         "xaxis": "x",
         "y": {
          "bdata": "BQGdATICWAKvAnQCcwJ6AjMCiAI7AQUBhAENAfYACQE1AA==",
          "dtype": "i2"
         },
         "yaxis": "y"
        },
        {
         "customdata": [
          [
           "1989-90"
          ],
          [
           "1990-91"
          ],
          [
           "1991-92"
          ],
          [
           "1992-93"
          ],
          [
           "1993-94"
          ],
          [
           "1994-95"
          ],
          [
           "1995-96"
          ],
          [
           "1996-97"
          ],
          [
           "1997-98"
          ],
          [
           "1998-99"
          ],
          [
           "1999-00"
          ],
          [
           "2000-01"
          ],
          [
           "2001-02"
          ],
          [
           "2002-03"
          ]
         ],
         "hovertemplate": "Name=David Robinson<br>Number of Field Goals Attempted=%{x}<br>Number of Field Goals Made=%{y}<br>SEASON_ID=%{customdata[0]}<extra></extra>",
         "legendgroup": "David Robinson",
         "marker": {
          "color": "#636efa",
          "symbol": "circle"
         },
         "mode": "markers",
         "name": "David Robinson",
         "orientation": "v",
         "showlegend": true,
         "type": "scatter",
         "x": {
          "bdata": "FAVWBTIERAV6Bs8FYgVIACkEDwIHBDcDoAKkAQ==",
          "dtype": "i2"
         },
         "xaxis": "x",
         "y": {
          "bdata": "sgLyAlACpAJIAxQDxwIkACACDAEQApABVQHFAA==",
          "dtype": "i2"
         },
         "yaxis": "y"
        },
        {
         "customdata": [
          [
           "1984-85"
          ],
          [
           "1985-86"
          ],
          [
           "1986-87"
          ],
          [
           "1987-88"
          ],
          [
           "1988-89"
          ],
          [
           "1989-90"
          ],
          [
           "1990-91"
          ],
          [
           "1991-92"
          ],
          [
           "1992-93"
          ],
          [
           "1993-94"
          ],
          [
           "1994-95"
          ],
          [
           "1995-96"
          ],
          [
           "1996-97"
          ],
          [
           "1997-98"
          ],
          [
           "1998-99"
          ],
          [
           "1999-00"
          ],
          [
           "2000-01"
          ],
          [
           "2001-02"
          ],
          [
           "2002-03"
          ]
         ],
         "hovertemplate": "Name=John Stockton<br>Number of Field Goals Attempted=%{x}<br>Number of Field Goals Made=%{y}<br>SEASON_ID=%{customdata[0]}<extra></extra>",
         "legendgroup": "John Stockton",
         "marker": {
          "color": "#EF553B",
          "symbol": "circle"
         },
         "mode": "markers",
         "name": "John Stockton",
         "orientation": "v",
         "showlegend": true,
         "type": "scatter",
         "x": {
          "bdata": "TQHSAc8BFwObA5YD0gOrA4MDZAMXAzID9wL/AZoB1QKLAgcDgAI=",
          "dtype": "i2"
         },
         "xaxis": "x",
         "y": {
          "bdata": "nQDkAOcAxgHxAdgB8AHFAbUBygGtAbgBoAEOAcgAawFIAZEBNQE=",
          "dtype": "i2"
         },
         "yaxis": "y"
        }
       ],
       "layout": {
        "height": 600,
        "legend": {
         "title": {
          "text": "Name"
         },
         "tracegroupgap": 0
        },
        "plot_bgcolor": "purple",
        "template": {
         "data": {
          "bar": [
           {
            "error_x": {
             "color": "#2a3f5f"
            },
            "error_y": {
             "color": "#2a3f5f"
            },
            "marker": {
             "line": {
              "color": "#E5ECF6",
              "width": 0.5
             },
             "pattern": {
              "fillmode": "overlay",
              "size": 10,
              "solidity": 0.2
             }
            },
            "type": "bar"
           }
          ],
          "barpolar": [
           {
            "marker": {
             "line": {
              "color": "#E5ECF6",
              "width": 0.5
             },
             "pattern": {
              "fillmode": "overlay",
              "size": 10,
              "solidity": 0.2
             }
            },
            "type": "barpolar"
           }
          ],
          "carpet": [
           {
            "aaxis": {
             "endlinecolor": "#2a3f5f",
             "gridcolor": "white",
             "linecolor": "white",
             "minorgridcolor": "white",
             "startlinecolor": "#2a3f5f"
            },
            "baxis": {
             "endlinecolor": "#2a3f5f",
             "gridcolor": "white",
             "linecolor": "white",
             "minorgridcolor": "white",
             "startlinecolor": "#2a3f5f"
            },
            "type": "carpet"
           }
          ],
          "choropleth": [
           {
            "colorbar": {
             "outlinewidth": 0,
             "ticks": ""
            },
            "type": "choropleth"
           }
          ],
          "contour": [
           {
            "colorbar": {
             "outlinewidth": 0,
             "ticks": ""
            },
            "colorscale": [
             [
              0,
              "#0d0887"
             ],
             [
              0.1111111111111111,
              "#46039f"
             ],
             [
              0.2222222222222222,
              "#7201a8"
             ],
             [
              0.3333333333333333,
              "#9c179e"
             ],
             [
              0.4444444444444444,
              "#bd3786"
             ],
             [
              0.5555555555555556,
              "#d8576b"
             ],
             [
              0.6666666666666666,
              "#ed7953"
             ],
             [
              0.7777777777777778,
              "#fb9f3a"
             ],
             [
              0.8888888888888888,
              "#fdca26"
             ],
             [
              1,
              "#f0f921"
             ]
            ],
            "type": "contour"
           }
          ],
          "contourcarpet": [
           {
            "colorbar": {
             "outlinewidth": 0,
             "ticks": ""
            },
            "type": "contourcarpet"
           }
          ],
          "heatmap": [
           {
            "colorbar": {
             "outlinewidth": 0,
             "ticks": ""
            },
            "colorscale": [
             [
              0,
              "#0d0887"
             ],
             [
              0.1111111111111111,
              "#46039f"
             ],
             [
              0.2222222222222222,
              "#7201a8"
             ],
             [
              0.3333333333333333,
              "#9c179e"
             ],
             [
              0.4444444444444444,
              "#bd3786"
             ],
             [
              0.5555555555555556,
              "#d8576b"
             ],
             [
              0.6666666666666666,
              "#ed7953"
             ],
             [
              0.7777777777777778,
              "#fb9f3a"
             ],
             [
              0.8888888888888888,
              "#fdca26"
             ],
             [
              1,
              "#f0f921"
             ]
            ],
            "type": "heatmap"
           }
          ],
          "histogram": [
           {
            "marker": {
             "pattern": {
              "fillmode": "overlay",
              "size": 10,
              "solidity": 0.2
             }
            },
            "type": "histogram"
           }
          ],
          "histogram2d": [
           {
            "colorbar": {
             "outlinewidth": 0,
             "ticks": ""
            },
            "colorscale": [
             [
              0,
              "#0d0887"
             ],
             [
              0.1111111111111111,
              "#46039f"
             ],
             [
              0.2222222222222222,
              "#7201a8"
             ],
             [
              0.3333333333333333,
              "#9c179e"
             ],
             [
              0.4444444444444444,
              "#bd3786"
             ],
             [
              0.5555555555555556,
              "#d8576b"
             ],
             [
              0.6666666666666666,
              "#ed7953"
             ],
             [
              0.7777777777777778,
              "#fb9f3a"
             ],
             [
              0.8888888888888888,
              "#fdca26"
             ],
             [
              1,
              "#f0f921"
             ]
            ],
            "type": "histogram2d"
           }
          ],
          "histogram2dcontour": [
           {
            "colorbar": {
             "outlinewidth": 0,
             "ticks": ""
            },
            "colorscale": [
             [
              0,
              "#0d0887"
             ],
             [
              0.1111111111111111,
              "#46039f"
             ],
             [
              0.2222222222222222,
              "#7201a8"
             ],
             [
              0.3333333333333333,
              "#9c179e"
             ],
             [
              0.4444444444444444,
              "#bd3786"
             ],
             [
              0.5555555555555556,
              "#d8576b"
             ],
             [
              0.6666666666666666,
              "#ed7953"
             ],
             [
              0.7777777777777778,
              "#fb9f3a"
             ],
             [
              0.8888888888888888,
              "#fdca26"
             ],
             [
              1,
              "#f0f921"
             ]
            ],
            "type": "histogram2dcontour"
           }
          ],
          "mesh3d": [
           {
            "colorbar": {
             "outlinewidth": 0,
             "ticks": ""
            },
            "type": "mesh3d"
           }
          ],
          "parcoords": [
           {
            "line": {
             "colorbar": {
              "outlinewidth": 0,
              "ticks": ""
             }
            },
            "type": "parcoords"
           }
          ],
          "pie": [
           {
            "automargin": true,
            "type": "pie"
           }
          ],
          "scatter": [
           {
            "fillpattern": {
             "fillmode": "overlay",
             "size": 10,
             "solidity": 0.2
            },
            "type": "scatter"
           }
          ],
          "scatter3d": [
           {
            "line": {
             "colorbar": {
              "outlinewidth": 0,
              "ticks": ""
             }
            },
            "marker": {
             "colorbar": {
              "outlinewidth": 0,
              "ticks": ""
             }
            },
            "type": "scatter3d"
           }
          ],
          "scattercarpet": [
           {
            "marker": {
             "colorbar": {
              "outlinewidth": 0,
              "ticks": ""
             }
            },
            "type": "scattercarpet"
           }
          ],
          "scattergeo": [
           {
            "marker": {
             "colorbar": {
              "outlinewidth": 0,
              "ticks": ""
             }
            },
            "type": "scattergeo"
           }
          ],
          "scattergl": [
           {
            "marker": {
             "colorbar": {
              "outlinewidth": 0,
              "ticks": ""
             }
            },
            "type": "scattergl"
           }
          ],
          "scattermap": [
           {
            "marker": {
             "colorbar": {
              "outlinewidth": 0,
              "ticks": ""
             }
            },
            "type": "scattermap"
           }
          ],
          "scattermapbox": [
           {
            "marker": {
             "colorbar": {
              "outlinewidth": 0,
              "ticks": ""
             }
            },
            "type": "scattermapbox"
           }
          ],
          "scatterpolar": [
           {
            "marker": {
             "colorbar": {
              "outlinewidth": 0,
              "ticks": ""
             }
            },
            "type": "scatterpolar"
           }
          ],
          "scatterpolargl": [
           {
            "marker": {
             "colorbar": {
              "outlinewidth": 0,
              "ticks": ""
             }
            },
            "type": "scatterpolargl"
           }
          ],
          "scatterternary": [
           {
            "marker": {
             "colorbar": {
              "outlinewidth": 0,
              "ticks": ""
             }
            },
            "type": "scatterternary"
           }
          ],
          "surface": [
           {
            "colorbar": {
             "outlinewidth": 0,
             "ticks": ""
            },
            "colorscale": [
             [
              0,
              "#0d0887"
             ],
             [
              0.1111111111111111,
              "#46039f"
             ],
             [
              0.2222222222222222,
              "#7201a8"
             ],
             [
              0.3333333333333333,
              "#9c179e"
             ],
             [
              0.4444444444444444,
              "#bd3786"
             ],
             [
              0.5555555555555556,
              "#d8576b"
             ],
             [
              0.6666666666666666,
              "#ed7953"
             ],
             [
              0.7777777777777778,
              "#fb9f3a"
             ],
             [
              0.8888888888888888,
              "#fdca26"
             ],
             [
              1,
              "#f0f921"
             ]
            ],
            "type": "surface"
           }
          ],
          "table": [
           {
            "cells": {
             "fill": {
              "color": "#EBF0F8"
             },
             "line": {
              "color": "white"
             }
            },
            "header": {
             "fill": {
              "color": "#C8D4E3"
             },
             "line": {
              "color": "white"
             }
            },
            "type": "table"
           }
          ]
         },
         "layout": {
          "annotationdefaults": {
           "arrowcolor": "#2a3f5f",
           "arrowhead": 0,
           "arrowwidth": 1
          },
          "autotypenumbers": "strict",
          "coloraxis": {
           "colorbar": {
            "outlinewidth": 0,
            "ticks": ""
           }
          },
          "colorscale": {
           "diverging": [
            [
             0,
             "#8e0152"
            ],
            [
             0.1,
             "#c51b7d"
            ],
            [
             0.2,
             "#de77ae"
            ],
            [
             0.3,
             "#f1b6da"
            ],
            [
             0.4,
             "#fde0ef"
            ],
            [
             0.5,
             "#f7f7f7"
            ],
            [
             0.6,
             "#e6f5d0"
            ],
            [
             0.7,
             "#b8e186"
            ],
            [
             0.8,
             "#7fbc41"
            ],
            [
             0.9,
             "#4d9221"
            ],
            [
             1,
             "#276419"
            ]
           ],
           "sequential": [
            [
             0,
             "#0d0887"
            ],
            [
             0.1111111111111111,
             "#46039f"
            ],
            [
             0.2222222222222222,
             "#7201a8"
            ],
            [
             0.3333333333333333,
             "#9c179e"
            ],
            [
             0.4444444444444444,
             "#bd3786"
            ],
            [
             0.5555555555555556,
             "#d8576b"
            ],
            [
             0.6666666666666666,
             "#ed7953"
            ],
            [
             0.7777777777777778,
             "#fb9f3a"
            ],
            [
             0.8888888888888888,
             "#fdca26"
            ],
            [
             1,
             "#f0f921"
            ]
           ],
           "sequentialminus": [
            [
             0,
             "#0d0887"
            ],
            [
             0.1111111111111111,
             "#46039f"
            ],
            [
             0.2222222222222222,
             "#7201a8"
            ],
            [
             0.3333333333333333,
             "#9c179e"
            ],
            [
             0.4444444444444444,
             "#bd3786"
            ],
            [
             0.5555555555555556,
             "#d8576b"
            ],
            [
             0.6666666666666666,
             "#ed7953"
            ],
            [
             0.7777777777777778,
             "#fb9f3a"
            ],
            [
             0.8888888888888888,
             "#fdca26"
            ],
            [
             1,
             "#f0f921"
            ]
           ]
          },
          "colorway": [
           "#636efa",
           "#EF553B",
           "#00cc96",
           "#ab63fa",
           "#FFA15A",
           "#19d3f3",
           "#FF6692",
           "#B6E880",
           "#FF97FF",
           "#FECB52"
          ],
          "font": {
           "color": "#2a3f5f"
          },
          "geo": {
           "bgcolor": "white",
           "lakecolor": "white",
           "landcolor": "#E5ECF6",
           "showlakes": true,
           "showland": true,
           "subunitcolor": "white"
          },
          "hoverlabel": {
           "align": "left"
          },
          "hovermode": "closest",
          "mapbox": {
           "style": "light"
          },
          "paper_bgcolor": "white",
          "plot_bgcolor": "#E5ECF6",
          "polar": {
           "angularaxis": {
            "gridcolor": "white",
            "linecolor": "white",
            "ticks": ""
           },
           "bgcolor": "#E5ECF6",
           "radialaxis": {
            "gridcolor": "white",
            "linecolor": "white",
            "ticks": ""
           }
          },
          "scene": {
           "xaxis": {
            "backgroundcolor": "#E5ECF6",
            "gridcolor": "white",
            "gridwidth": 2,
            "linecolor": "white",
            "showbackground": true,
            "ticks": "",
            "zerolinecolor": "white"
           },
           "yaxis": {
            "backgroundcolor": "#E5ECF6",
            "gridcolor": "white",
            "gridwidth": 2,
            "linecolor": "white",
            "showbackground": true,
            "ticks": "",
            "zerolinecolor": "white"
           },
           "zaxis": {
            "backgroundcolor": "#E5ECF6",
            "gridcolor": "white",
            "gridwidth": 2,
            "linecolor": "white",
            "showbackground": true,
            "ticks": "",
            "zerolinecolor": "white"
           }
          },
          "shapedefaults": {
           "line": {
            "color": "#2a3f5f"
           }
          },
          "ternary": {
           "aaxis": {
            "gridcolor": "white",
            "linecolor": "white",
            "ticks": ""
           },
           "baxis": {
            "gridcolor": "white",
            "linecolor": "white",
            "ticks": ""
           },
           "bgcolor": "#E5ECF6",
           "caxis": {
            "gridcolor": "white",
            "linecolor": "white",
            "ticks": ""
           }
          },
          "title": {
           "x": 0.05
          },
          "xaxis": {
           "automargin": true,
           "gridcolor": "white",
           "linecolor": "white",
           "ticks": "",
           "title": {
            "standoff": 15
           },
           "zerolinecolor": "white",
           "zerolinewidth": 2
          },
          "yaxis": {
           "automargin": true,
           "gridcolor": "white",
           "linecolor": "white",
           "ticks": "",
           "title": {
            "standoff": 15
           },
           "zerolinecolor": "white",
           "zerolinewidth": 2
          }
         }
        },
        "title": {
         "text": "Field Goals Made by Field Goals Attempted for Each Season, by player"
        },
        "width": 1000,
        "xaxis": {
         "anchor": "y",
         "domain": [
          0,
          1
         ],
         "showgrid": false,
         "tickformat": ",",
         "title": {
          "text": "Number of Field Goals Attempted"
         }
        },
        "yaxis": {
         "anchor": "x",
         "domain": [
          0,
          1
         ],
         "showgrid": false,
         "tickformat": ",",
         "title": {
          "text": "Number of Field Goals Made"
         }
        }
       }
      }
     },
     "metadata": {},
     "output_type": "display_data"
    }
   ],
   "source": [
    "# scatter plot showing number of field goals made by the number of field goals attempted\n",
    "fig=px.scatter(df_fg, x='FGA', y='FGM', color='Name', \n",
    "               title='Field Goals Made by Field Goals Attempted for Each Season, by player', hover_data=[\"SEASON_ID\"],\n",
    "               width=1000, height=600,\n",
    "               labels={\"FGA\": \"Number of Field Goals Attempted\", \"FGM\": \"Number of Field Goals Made\"}).update_layout(xaxis=dict(tickformat=\",\", showgrid=False),\n",
    "                                                                                                                      yaxis=dict(tickformat=\",\", showgrid=False),\n",
    "                                                                                                                      plot_bgcolor='purple') \n",
    "fig.show()"
   ]
  },
  {
   "cell_type": "code",
   "execution_count": null,
   "id": "6a665141",
   "metadata": {},
   "outputs": [
    {
     "name": "stdout",
     "output_type": "stream",
     "text": [
      "<class 'pandas.core.frame.DataFrame'>\n",
      "RangeIndex: 187 entries, 0 to 186\n",
      "Data columns (total 4 columns):\n",
      " #   Column     Non-Null Count  Dtype \n",
      "---  ------     --------------  ----- \n",
      " 0   SEASON_ID  187 non-null    object\n",
      " 1   Name       187 non-null    object\n",
      " 2   FG3M       187 non-null    int64 \n",
      " 3   FG3A       187 non-null    int64 \n",
      "dtypes: int64(2), object(2)\n",
      "memory usage: 6.0+ KB\n"
     ]
    },
    {
     "data": {
      "text/html": [
       "<div>\n",
       "<style scoped>\n",
       "    .dataframe tbody tr th:only-of-type {\n",
       "        vertical-align: middle;\n",
       "    }\n",
       "\n",
       "    .dataframe tbody tr th {\n",
       "        vertical-align: top;\n",
       "    }\n",
       "\n",
       "    .dataframe thead th {\n",
       "        text-align: right;\n",
       "    }\n",
       "</style>\n",
       "<table border=\"1\" class=\"dataframe\">\n",
       "  <thead>\n",
       "    <tr style=\"text-align: right;\">\n",
       "      <th></th>\n",
       "      <th>SEASON_ID</th>\n",
       "      <th>Name</th>\n",
       "      <th>FG3M</th>\n",
       "      <th>FG3A</th>\n",
       "    </tr>\n",
       "  </thead>\n",
       "  <tbody>\n",
       "    <tr>\n",
       "      <th>0</th>\n",
       "      <td>1984-85</td>\n",
       "      <td>Charles Barkley</td>\n",
       "      <td>1</td>\n",
       "      <td>6</td>\n",
       "    </tr>\n",
       "    <tr>\n",
       "      <th>1</th>\n",
       "      <td>1985-86</td>\n",
       "      <td>Charles Barkley</td>\n",
       "      <td>17</td>\n",
       "      <td>75</td>\n",
       "    </tr>\n",
       "    <tr>\n",
       "      <th>2</th>\n",
       "      <td>1986-87</td>\n",
       "      <td>Charles Barkley</td>\n",
       "      <td>21</td>\n",
       "      <td>104</td>\n",
       "    </tr>\n",
       "    <tr>\n",
       "      <th>3</th>\n",
       "      <td>1987-88</td>\n",
       "      <td>Charles Barkley</td>\n",
       "      <td>44</td>\n",
       "      <td>157</td>\n",
       "    </tr>\n",
       "    <tr>\n",
       "      <th>4</th>\n",
       "      <td>1988-89</td>\n",
       "      <td>Charles Barkley</td>\n",
       "      <td>35</td>\n",
       "      <td>162</td>\n",
       "    </tr>\n",
       "    <tr>\n",
       "      <th>...</th>\n",
       "      <td>...</td>\n",
       "      <td>...</td>\n",
       "      <td>...</td>\n",
       "      <td>...</td>\n",
       "    </tr>\n",
       "    <tr>\n",
       "      <th>182</th>\n",
       "      <td>1998-99</td>\n",
       "      <td>John Stockton</td>\n",
       "      <td>16</td>\n",
       "      <td>50</td>\n",
       "    </tr>\n",
       "    <tr>\n",
       "      <th>183</th>\n",
       "      <td>1999-00</td>\n",
       "      <td>John Stockton</td>\n",
       "      <td>43</td>\n",
       "      <td>121</td>\n",
       "    </tr>\n",
       "    <tr>\n",
       "      <th>184</th>\n",
       "      <td>2000-01</td>\n",
       "      <td>John Stockton</td>\n",
       "      <td>61</td>\n",
       "      <td>132</td>\n",
       "    </tr>\n",
       "    <tr>\n",
       "      <th>185</th>\n",
       "      <td>2001-02</td>\n",
       "      <td>John Stockton</td>\n",
       "      <td>25</td>\n",
       "      <td>78</td>\n",
       "    </tr>\n",
       "    <tr>\n",
       "      <th>186</th>\n",
       "      <td>2002-03</td>\n",
       "      <td>John Stockton</td>\n",
       "      <td>29</td>\n",
       "      <td>80</td>\n",
       "    </tr>\n",
       "  </tbody>\n",
       "</table>\n",
       "<p>187 rows × 4 columns</p>\n",
       "</div>"
      ],
      "text/plain": [
       "    SEASON_ID             Name  FG3M  FG3A\n",
       "0     1984-85  Charles Barkley     1     6\n",
       "1     1985-86  Charles Barkley    17    75\n",
       "2     1986-87  Charles Barkley    21   104\n",
       "3     1987-88  Charles Barkley    44   157\n",
       "4     1988-89  Charles Barkley    35   162\n",
       "..        ...              ...   ...   ...\n",
       "182   1998-99    John Stockton    16    50\n",
       "183   1999-00    John Stockton    43   121\n",
       "184   2000-01    John Stockton    61   132\n",
       "185   2001-02    John Stockton    25    78\n",
       "186   2002-03    John Stockton    29    80\n",
       "\n",
       "[187 rows x 4 columns]"
      ]
     },
     "execution_count": 27,
     "metadata": {},
     "output_type": "execute_result"
    }
   ],
   "source": [
    "# generateing scatterplot showing 3-pointers attempted by 3-pointers made\n",
    "df_3p1=df_all.loc[is_in_target_categories1, \n",
    "                 ['SEASON_ID','Name', 'FG3M','FG3A']].reset_index(drop=True)\n",
    "df_3p2=df_all.loc[is_in_target_categories2, \n",
    "                 ['SEASON_ID','Name', 'FG3M','FG3A']].reset_index(drop=True)\n",
    "df_3p3=df_all.loc[is_in_target_categories3, \n",
    "                 ['SEASON_ID','Name', 'FG3M','FG3A']].reset_index(drop=True)\n",
    "\n",
    "df_3p_drexler=df_all.loc[df_all['Name']=='Clyde Drexler', ['SEASON_ID','Name', 'FG3M','FG3A',]].reset_index(drop=True)\n",
    "\n",
    "df_3p_laettner=df_all.loc[df_all['Name']=='Christian Laettner', ['SEASON_ID','Name', 'FG3M','FG3A']].reset_index(drop=True)\n",
    "\n",
    "df_3p_drexler_mean=df_3p_drexler.groupby('SEASON_ID')[['FG3M','FG3A']].mean().reset_index()\n",
    "df_3p_drexler_mean['Name']='Clyde Drexler'\n",
    "df_3p_laettner_mean=df_3p_laettner.groupby('SEASON_ID')[['FG3M','FG3A']].mean().reset_index()\n",
    "df_3p_laettner_mean['Name'] = 'Christian Laettner'\n",
    "\n",
    "df_3p=pd.concat([df_3p1, df_3p_drexler_mean, df_3p2, df_3p_laettner_mean, df_3p3],axis=0).reset_index(drop=True)\n",
    "\n",
    "df_3p['FG3A']=df_3p['FG3A'].astype(int)\n",
    "df_3p['FG3M']=df_3p['FG3M'].astype(int)\n",
    "df_3p.info()\n",
    "df_3p"
   ]
  },
  {
   "cell_type": "code",
   "execution_count": null,
   "id": "d340116e",
   "metadata": {},
   "outputs": [
    {
     "data": {
      "application/vnd.plotly.v1+json": {
       "config": {
        "plotlyServerURL": "https://plot.ly"
       },
       "data": [
        {
         "customdata": [
          [
           "1984-85"
          ],
          [
           "1985-86"
          ],
          [
           "1986-87"
          ],
          [
           "1987-88"
          ],
          [
           "1988-89"
          ],
          [
           "1989-90"
          ],
          [
           "1990-91"
          ],
          [
           "1991-92"
          ],
          [
           "1992-93"
          ],
          [
           "1993-94"
          ],
          [
           "1994-95"
          ],
          [
           "1995-96"
          ],
          [
           "1996-97"
          ],
          [
           "1997-98"
          ],
          [
           "1998-99"
          ],
          [
           "1999-00"
          ]
         ],
         "hovertemplate": "Name=Charles Barkley<br>Number of 3-Pointers Attempted=%{x}<br>Number of 3-Pointers Made=%{y}<br>SEASON_ID=%{customdata[0]}<extra></extra>",
         "legendgroup": "Charles Barkley",
         "marker": {
          "color": "#636efa",
          "symbol": "circle"
         },
         "mode": "markers",
         "name": "Charles Barkley",
         "orientation": "v",
         "showlegend": true,
         "type": "scatter",
         "x": {
          "bdata": "BgBLAGgAnQCiAFwAmwCJANwAsgDbAK8AzQBUABkAGgA=",
          "dtype": "i2"
         },
         "xaxis": "x",
         "y": {
          "bdata": "AREVLCMULCBDMEoxOhIEBg==",
          "dtype": "i1"
         },
         "yaxis": "y"
        },
        {
         "customdata": [
          [
           "1979-80"
          ],
          [
           "1980-81"
          ],
          [
           "1981-82"
          ],
          [
           "1982-83"
          ],
          [
           "1983-84"
          ],
          [
           "1984-85"
          ],
          [
           "1985-86"
          ],
          [
           "1986-87"
          ],
          [
           "1987-88"
          ],
          [
           "1988-89"
          ],
          [
           "1989-90"
          ],
          [
           "1990-91"
          ],
          [
           "1991-92"
          ]
         ],
         "hovertemplate": "Name=Larry Bird<br>Number of 3-Pointers Attempted=%{x}<br>Number of 3-Pointers Made=%{y}<br>SEASON_ID=%{customdata[0]}<extra></extra>",
         "legendgroup": "Larry Bird",
         "marker": {
          "color": "#EF553B",
          "symbol": "circle"
         },
         "mode": "markers",
         "name": "Larry Bird",
         "orientation": "v",
         "showlegend": true,
         "type": "scatter",
         "x": {
          "bdata": "jwBKADQATQBJAIMAwgDhAO0AAADDAMYAgAA=",
          "dtype": "i2"
         },
         "xaxis": "x",
         "y": {
          "bdata": "OhQLFhI4UlpiAEFNNA==",
          "dtype": "i1"
         },
         "yaxis": "y"
        },
        {
         "customdata": [
          [
           "1983-84"
          ],
          [
           "1984-85"
          ],
          [
           "1985-86"
          ],
          [
           "1986-87"
          ],
          [
           "1987-88"
          ],
          [
           "1988-89"
          ],
          [
           "1989-90"
          ],
          [
           "1990-91"
          ],
          [
           "1991-92"
          ],
          [
           "1992-93"
          ],
          [
           "1993-94"
          ],
          [
           "1994-95"
          ],
          [
           "1995-96"
          ],
          [
           "1996-97"
          ],
          [
           "1997-98"
          ]
         ],
         "hovertemplate": "Name=Clyde Drexler<br>Number of 3-Pointers Attempted=%{x}<br>Number of 3-Pointers Made=%{y}<br>SEASON_ID=%{customdata[0]}<extra></extra>",
         "legendgroup": "Clyde Drexler",
         "marker": {
          "color": "#00cc96",
          "symbol": "circle"
         },
         "mode": "markers",
         "name": "Clyde Drexler",
         "orientation": "v",
         "showlegend": true,
         "type": "scatter",
         "x": {
          "bdata": "BAAlADwALwA0AGgAagC/AFIBhQDbABAB6wBPAU4B",
          "dtype": "i2"
         },
         "xaxis": "x",
         "y": {
          "bdata": "AQgMCwsbHj1yH0diTndq",
          "dtype": "i1"
         },
         "yaxis": "y"
        },
        {
         "customdata": [
          [
           "1985-86"
          ],
          [
           "1986-87"
          ],
          [
           "1987-88"
          ],
          [
           "1988-89"
          ],
          [
           "1989-90"
          ],
          [
           "1990-91"
          ],
          [
           "1991-92"
          ],
          [
           "1992-93"
          ],
          [
           "1993-94"
          ],
          [
           "1994-95"
          ],
          [
           "1995-96"
          ],
          [
           "1996-97"
          ],
          [
           "1997-98"
          ],
          [
           "1998-99"
          ],
          [
           "1999-00"
          ],
          [
           "2000-01"
          ],
          [
           "2001-02"
          ]
         ],
         "hovertemplate": "Name=Patrick Ewing<br>Number of 3-Pointers Attempted=%{x}<br>Number of 3-Pointers Made=%{y}<br>SEASON_ID=%{customdata[0]}<extra></extra>",
         "legendgroup": "Patrick Ewing",
         "marker": {
          "color": "#ab63fa",
          "symbol": "circle"
         },
         "mode": "markers",
         "name": "Patrick Ewing",
         "orientation": "v",
         "showlegend": true,
         "type": "scatter",
         "x": {
          "bdata": "BQcDBgQGBgcOFRwJAgICAgE=",
          "dtype": "i1"
         },
         "xaxis": "x",
         "y": {
          "bdata": "AAAAAAEAAQEEBgQCAAAAAAA=",
          "dtype": "i1"
         },
         "yaxis": "y"
        },
        {
         "customdata": [
          [
           "1979-80"
          ],
          [
           "1980-81"
          ],
          [
           "1981-82"
          ],
          [
           "1982-83"
          ],
          [
           "1983-84"
          ],
          [
           "1984-85"
          ],
          [
           "1985-86"
          ],
          [
           "1986-87"
          ],
          [
           "1987-88"
          ],
          [
           "1988-89"
          ],
          [
           "1989-90"
          ],
          [
           "1990-91"
          ],
          [
           "1995-96"
          ]
         ],
         "hovertemplate": "Name=Magic Johnson<br>Number of 3-Pointers Attempted=%{x}<br>Number of 3-Pointers Made=%{y}<br>SEASON_ID=%{customdata[0]}<extra></extra>",
         "legendgroup": "Magic Johnson",
         "marker": {
          "color": "#FFA15A",
          "symbol": "circle"
         },
         "mode": "markers",
         "name": "Magic Johnson",
         "orientation": "v",
         "showlegend": true,
         "type": "scatter",
         "x": {
          "bdata": "HwARAB0AFQAdACUAKwAnADgAvAAUAfoAOgA=",
          "dtype": "i2"
         },
         "xaxis": "x",
         "y": {
          "bdata": "BwMGAAYHCggLO2pQFg==",
          "dtype": "i1"
         },
         "yaxis": "y"
        },
        {
         "customdata": [
          [
           "1984-85"
          ],
          [
           "1985-86"
          ],
          [
           "1986-87"
          ],
          [
           "1987-88"
          ],
          [
           "1988-89"
          ],
          [
           "1989-90"
          ],
          [
           "1990-91"
          ],
          [
           "1991-92"
          ],
          [
           "1992-93"
          ],
          [
           "1994-95"
          ],
          [
           "1995-96"
          ],
          [
           "1996-97"
          ],
          [
           "1997-98"
          ],
          [
           "2001-02"
          ],
          [
           "2002-03"
          ]
         ],
         "hovertemplate": "Name=Michael Jordan<br>Number of 3-Pointers Attempted=%{x}<br>Number of 3-Pointers Made=%{y}<br>SEASON_ID=%{customdata[0]}<extra></extra>",
         "legendgroup": "Michael Jordan",
         "marker": {
          "color": "#19d3f3",
          "symbol": "circle"
         },
         "mode": "markers",
         "name": "Michael Jordan",
         "orientation": "v",
         "showlegend": true,
         "type": "scatter",
         "x": {
          "bdata": "NAASAEIANQBiAPUAXQBkAOYAIAAEASkBfgA1ADcA",
          "dtype": "i2"
         },
         "xaxis": "x",
         "y": {
          "bdata": "CQMMBxtcHRtREG9vHgoQ",
          "dtype": "i1"
         },
         "yaxis": "y"
        },
        {
         "customdata": [
          [
           "1992-93"
          ],
          [
           "1993-94"
          ],
          [
           "1994-95"
          ],
          [
           "1995-96"
          ],
          [
           "1996-97"
          ],
          [
           "1997-98"
          ],
          [
           "1998-99"
          ],
          [
           "1999-00"
          ],
          [
           "2000-01"
          ],
          [
           "2001-02"
          ],
          [
           "2002-03"
          ],
          [
           "2003-04"
          ],
          [
           "2004-05"
          ]
         ],
         "hovertemplate": "Name=Christian Laettner<br>Number of 3-Pointers Attempted=%{x}<br>Number of 3-Pointers Made=%{y}<br>SEASON_ID=%{customdata[0]}<extra></extra>",
         "legendgroup": "Christian Laettner",
         "marker": {
          "color": "#FF6692",
          "symbol": "circle"
         },
         "mode": "markers",
         "name": "Christian Laettner",
         "orientation": "v",
         "showlegend": true,
         "type": "scatter",
         "x": {
          "bdata": "KBkoGlgbAxgIChAVBw==",
          "dtype": "i1"
         },
         "xaxis": "x",
         "y": {
          "bdata": "BAYNBh8GAQcCAgIGAQ==",
          "dtype": "i1"
         },
         "yaxis": "y"
        },
        {
         "customdata": [
          [
           "1985-86"
          ],
          [
           "1986-87"
          ],
          [
           "1987-88"
          ],
          [
           "1988-89"
          ],
          [
           "1989-90"
          ],
          [
           "1990-91"
          ],
          [
           "1991-92"
          ],
          [
           "1992-93"
          ],
          [
           "1993-94"
          ],
          [
           "1994-95"
          ],
          [
           "1995-96"
          ],
          [
           "1996-97"
          ],
          [
           "1997-98"
          ],
          [
           "1998-99"
          ],
          [
           "1999-00"
          ],
          [
           "2000-01"
          ],
          [
           "2001-02"
          ],
          [
           "2002-03"
          ],
          [
           "2003-04"
          ]
         ],
         "hovertemplate": "Name=Karl Malone<br>Number of 3-Pointers Attempted=%{x}<br>Number of 3-Pointers Made=%{y}<br>SEASON_ID=%{customdata[0]}<extra></extra>",
         "legendgroup": "Karl Malone",
         "marker": {
          "color": "#B6E880",
          "symbol": "circle"
         },
         "mode": "markers",
         "name": "Karl Malone",
         "orientation": "v",
         "showlegend": true,
         "type": "scatter",
         "x": {
          "bdata": "AgcFECsOERQgKSgNBgEIBRkOAQ==",
          "dtype": "i1"
         },
         "xaxis": "x",
         "y": {
          "bdata": "AAAABRAEAwQICxAAAgACAgkDAA==",
          "dtype": "i1"
         },
         "yaxis": "y"
        },
        {
         "customdata": [
          [
           "1985-86"
          ],
          [
           "1986-87"
          ],
          [
           "1987-88"
          ],
          [
           "1988-89"
          ],
          [
           "1989-90"
          ],
          [
           "1990-91"
          ],
          [
           "1991-92"
          ],
          [
           "1992-93"
          ],
          [
           "1993-94"
          ],
          [
           "1994-95"
          ],
          [
           "1995-96"
          ],
          [
           "1996-97"
          ],
          [
           "1997-98"
          ],
          [
           "1998-99"
          ],
          [
           "1999-00"
          ],
          [
           "2000-01"
          ]
         ],
         "hovertemplate": "Name=Chris Mullin<br>Number of 3-Pointers Attempted=%{x}<br>Number of 3-Pointers Made=%{y}<br>SEASON_ID=%{customdata[0]}<extra></extra>",
         "legendgroup": "Chris Mullin",
         "marker": {
          "color": "#FF97FF",
          "symbol": "circle"
         },
         "mode": "markers",
         "name": "Chris Mullin",
         "orientation": "v",
         "showlegend": true,
         "type": "scatter",
         "x": {
          "bdata": "GwA/AGEAZADqAIUArwCFAJcAXQCWAMoA8wCdAG4ANAA=",
          "dtype": "i2"
         },
         "xaxis": "x",
         "y": {
          "bdata": "BRMiF1coQDw3KjtTa0ktEw==",
          "dtype": "i1"
         },
         "yaxis": "y"
        },
        {
         "customdata": [
          [
           "1987-88"
          ],
          [
           "1988-89"
          ],
          [
           "1989-90"
          ],
          [
           "1990-91"
          ],
          [
           "1991-92"
          ],
          [
           "1992-93"
          ],
          [
           "1993-94"
          ],
          [
           "1994-95"
          ],
          [
           "1995-96"
          ],
          [
           "1996-97"
          ],
          [
           "1997-98"
          ],
          [
           "1998-99"
          ],
          [
           "1999-00"
          ],
          [
           "2000-01"
          ],
          [
           "2001-02"
          ],
          [
           "2002-03"
          ],
          [
           "2003-04"
          ]
         ],
         "hovertemplate": "Name=Scottie Pippen<br>Number of 3-Pointers Attempted=%{x}<br>Number of 3-Pointers Made=%{y}<br>SEASON_ID=%{customdata[0]}<extra></extra>",
         "legendgroup": "Scottie Pippen",
         "marker": {
          "color": "#FECB52",
          "symbol": "circle"
         },
         "mode": "markers",
         "name": "Scottie Pippen",
         "orientation": "v",
         "showlegend": true,
         "type": "scatter",
         "x": {
          "bdata": "FwBNAHAARABQAF0AxQA8AZEBqAHAANQABwG6ALEAhQAwAA==",
          "dtype": "i2"
         },
         "xaxis": "x",
         "y": {
          "bdata": "BAAVABwAFQAQABYAPwBtAJYAnAA9AEgAVgBAADYAJgANAA==",
          "dtype": "i2"
         },
         "yaxis": "y"
        },
        {
         "customdata": [
          [
           "1989-90"
          ],
          [
           "1990-91"
          ],
          [
           "1991-92"
          ],
          [
           "1992-93"
          ],
          [
           "1993-94"
          ],
          [
           "1994-95"
          ],
          [
           "1995-96"
          ],
          [
           "1996-97"
          ],
          [
           "1997-98"
          ],
          [
           "1998-99"
          ],
          [
           "1999-00"
          ],
          [
           "2000-01"
          ],
          [
           "2001-02"
          ],
          [
           "2002-03"
          ]
         ],
         "hovertemplate": "Name=David Robinson<br>Number of 3-Pointers Attempted=%{x}<br>Number of 3-Pointers Made=%{y}<br>SEASON_ID=%{customdata[0]}<extra></extra>",
         "legendgroup": "David Robinson",
         "marker": {
          "color": "#636efa",
          "symbol": "circle"
         },
         "mode": "markers",
         "name": "David Robinson",
         "orientation": "v",
         "showlegend": true,
         "type": "scatter",
         "x": {
          "bdata": "AgcIER0UCQAEAQIBAAA=",
          "dtype": "i1"
         },
         "xaxis": "x",
         "y": {
          "bdata": "AAEBAwoGAwABAAAAAAA=",
          "dtype": "i1"
         },
         "yaxis": "y"
        },
        {
         "customdata": [
          [
           "1984-85"
          ],
          [
           "1985-86"
          ],
          [
           "1986-87"
          ],
          [
           "1987-88"
          ],
          [
           "1988-89"
          ],
          [
           "1989-90"
          ],
          [
           "1990-91"
          ],
          [
           "1991-92"
          ],
          [
           "1992-93"
          ],
          [
           "1993-94"
          ],
          [
           "1994-95"
          ],
          [
           "1995-96"
          ],
          [
           "1996-97"
          ],
          [
           "1997-98"
          ],
          [
           "1998-99"
          ],
          [
           "1999-00"
          ],
          [
           "2000-01"
          ],
          [
           "2001-02"
          ],
          [
           "2002-03"
          ]
         ],
         "hovertemplate": "Name=John Stockton<br>Number of 3-Pointers Attempted=%{x}<br>Number of 3-Pointers Made=%{y}<br>SEASON_ID=%{customdata[0]}<extra></extra>",
         "legendgroup": "John Stockton",
         "marker": {
          "color": "#EF553B",
          "symbol": "circle"
         },
         "mode": "markers",
         "name": "John Stockton",
         "orientation": "v",
         "showlegend": true,
         "type": "scatter",
         "x": {
          "bdata": "CwAPACYAQwBCAHEAqADMALsAlQDjAOEAtABbADIAeQCEAE4AUAA=",
          "dtype": "i2"
         },
         "xaxis": "x",
         "y": {
          "bdata": "AgIHGBAvOlNIMGZfTCcQKz0ZHQ==",
          "dtype": "i1"
         },
         "yaxis": "y"
        }
       ],
       "layout": {
        "height": 600,
        "legend": {
         "title": {
          "text": "Name"
         },
         "tracegroupgap": 0
        },
        "plot_bgcolor": "brown",
        "template": {
         "data": {
          "bar": [
           {
            "error_x": {
             "color": "#2a3f5f"
            },
            "error_y": {
             "color": "#2a3f5f"
            },
            "marker": {
             "line": {
              "color": "#E5ECF6",
              "width": 0.5
             },
             "pattern": {
              "fillmode": "overlay",
              "size": 10,
              "solidity": 0.2
             }
            },
            "type": "bar"
           }
          ],
          "barpolar": [
           {
            "marker": {
             "line": {
              "color": "#E5ECF6",
              "width": 0.5
             },
             "pattern": {
              "fillmode": "overlay",
              "size": 10,
              "solidity": 0.2
             }
            },
            "type": "barpolar"
           }
          ],
          "carpet": [
           {
            "aaxis": {
             "endlinecolor": "#2a3f5f",
             "gridcolor": "white",
             "linecolor": "white",
             "minorgridcolor": "white",
             "startlinecolor": "#2a3f5f"
            },
            "baxis": {
             "endlinecolor": "#2a3f5f",
             "gridcolor": "white",
             "linecolor": "white",
             "minorgridcolor": "white",
             "startlinecolor": "#2a3f5f"
            },
            "type": "carpet"
           }
          ],
          "choropleth": [
           {
            "colorbar": {
             "outlinewidth": 0,
             "ticks": ""
            },
            "type": "choropleth"
           }
          ],
          "contour": [
           {
            "colorbar": {
             "outlinewidth": 0,
             "ticks": ""
            },
            "colorscale": [
             [
              0,
              "#0d0887"
             ],
             [
              0.1111111111111111,
              "#46039f"
             ],
             [
              0.2222222222222222,
              "#7201a8"
             ],
             [
              0.3333333333333333,
              "#9c179e"
             ],
             [
              0.4444444444444444,
              "#bd3786"
             ],
             [
              0.5555555555555556,
              "#d8576b"
             ],
             [
              0.6666666666666666,
              "#ed7953"
             ],
             [
              0.7777777777777778,
              "#fb9f3a"
             ],
             [
              0.8888888888888888,
              "#fdca26"
             ],
             [
              1,
              "#f0f921"
             ]
            ],
            "type": "contour"
           }
          ],
          "contourcarpet": [
           {
            "colorbar": {
             "outlinewidth": 0,
             "ticks": ""
            },
            "type": "contourcarpet"
           }
          ],
          "heatmap": [
           {
            "colorbar": {
             "outlinewidth": 0,
             "ticks": ""
            },
            "colorscale": [
             [
              0,
              "#0d0887"
             ],
             [
              0.1111111111111111,
              "#46039f"
             ],
             [
              0.2222222222222222,
              "#7201a8"
             ],
             [
              0.3333333333333333,
              "#9c179e"
             ],
             [
              0.4444444444444444,
              "#bd3786"
             ],
             [
              0.5555555555555556,
              "#d8576b"
             ],
             [
              0.6666666666666666,
              "#ed7953"
             ],
             [
              0.7777777777777778,
              "#fb9f3a"
             ],
             [
              0.8888888888888888,
              "#fdca26"
             ],
             [
              1,
              "#f0f921"
             ]
            ],
            "type": "heatmap"
           }
          ],
          "histogram": [
           {
            "marker": {
             "pattern": {
              "fillmode": "overlay",
              "size": 10,
              "solidity": 0.2
             }
            },
            "type": "histogram"
           }
          ],
          "histogram2d": [
           {
            "colorbar": {
             "outlinewidth": 0,
             "ticks": ""
            },
            "colorscale": [
             [
              0,
              "#0d0887"
             ],
             [
              0.1111111111111111,
              "#46039f"
             ],
             [
              0.2222222222222222,
              "#7201a8"
             ],
             [
              0.3333333333333333,
              "#9c179e"
             ],
             [
              0.4444444444444444,
              "#bd3786"
             ],
             [
              0.5555555555555556,
              "#d8576b"
             ],
             [
              0.6666666666666666,
              "#ed7953"
             ],
             [
              0.7777777777777778,
              "#fb9f3a"
             ],
             [
              0.8888888888888888,
              "#fdca26"
             ],
             [
              1,
              "#f0f921"
             ]
            ],
            "type": "histogram2d"
           }
          ],
          "histogram2dcontour": [
           {
            "colorbar": {
             "outlinewidth": 0,
             "ticks": ""
            },
            "colorscale": [
             [
              0,
              "#0d0887"
             ],
             [
              0.1111111111111111,
              "#46039f"
             ],
             [
              0.2222222222222222,
              "#7201a8"
             ],
             [
              0.3333333333333333,
              "#9c179e"
             ],
             [
              0.4444444444444444,
              "#bd3786"
             ],
             [
              0.5555555555555556,
              "#d8576b"
             ],
             [
              0.6666666666666666,
              "#ed7953"
             ],
             [
              0.7777777777777778,
              "#fb9f3a"
             ],
             [
              0.8888888888888888,
              "#fdca26"
             ],
             [
              1,
              "#f0f921"
             ]
            ],
            "type": "histogram2dcontour"
           }
          ],
          "mesh3d": [
           {
            "colorbar": {
             "outlinewidth": 0,
             "ticks": ""
            },
            "type": "mesh3d"
           }
          ],
          "parcoords": [
           {
            "line": {
             "colorbar": {
              "outlinewidth": 0,
              "ticks": ""
             }
            },
            "type": "parcoords"
           }
          ],
          "pie": [
           {
            "automargin": true,
            "type": "pie"
           }
          ],
          "scatter": [
           {
            "fillpattern": {
             "fillmode": "overlay",
             "size": 10,
             "solidity": 0.2
            },
            "type": "scatter"
           }
          ],
          "scatter3d": [
           {
            "line": {
             "colorbar": {
              "outlinewidth": 0,
              "ticks": ""
             }
            },
            "marker": {
             "colorbar": {
              "outlinewidth": 0,
              "ticks": ""
             }
            },
            "type": "scatter3d"
           }
          ],
          "scattercarpet": [
           {
            "marker": {
             "colorbar": {
              "outlinewidth": 0,
              "ticks": ""
             }
            },
            "type": "scattercarpet"
           }
          ],
          "scattergeo": [
           {
            "marker": {
             "colorbar": {
              "outlinewidth": 0,
              "ticks": ""
             }
            },
            "type": "scattergeo"
           }
          ],
          "scattergl": [
           {
            "marker": {
             "colorbar": {
              "outlinewidth": 0,
              "ticks": ""
             }
            },
            "type": "scattergl"
           }
          ],
          "scattermap": [
           {
            "marker": {
             "colorbar": {
              "outlinewidth": 0,
              "ticks": ""
             }
            },
            "type": "scattermap"
           }
          ],
          "scattermapbox": [
           {
            "marker": {
             "colorbar": {
              "outlinewidth": 0,
              "ticks": ""
             }
            },
            "type": "scattermapbox"
           }
          ],
          "scatterpolar": [
           {
            "marker": {
             "colorbar": {
              "outlinewidth": 0,
              "ticks": ""
             }
            },
            "type": "scatterpolar"
           }
          ],
          "scatterpolargl": [
           {
            "marker": {
             "colorbar": {
              "outlinewidth": 0,
              "ticks": ""
             }
            },
            "type": "scatterpolargl"
           }
          ],
          "scatterternary": [
           {
            "marker": {
             "colorbar": {
              "outlinewidth": 0,
              "ticks": ""
             }
            },
            "type": "scatterternary"
           }
          ],
          "surface": [
           {
            "colorbar": {
             "outlinewidth": 0,
             "ticks": ""
            },
            "colorscale": [
             [
              0,
              "#0d0887"
             ],
             [
              0.1111111111111111,
              "#46039f"
             ],
             [
              0.2222222222222222,
              "#7201a8"
             ],
             [
              0.3333333333333333,
              "#9c179e"
             ],
             [
              0.4444444444444444,
              "#bd3786"
             ],
             [
              0.5555555555555556,
              "#d8576b"
             ],
             [
              0.6666666666666666,
              "#ed7953"
             ],
             [
              0.7777777777777778,
              "#fb9f3a"
             ],
             [
              0.8888888888888888,
              "#fdca26"
             ],
             [
              1,
              "#f0f921"
             ]
            ],
            "type": "surface"
           }
          ],
          "table": [
           {
            "cells": {
             "fill": {
              "color": "#EBF0F8"
             },
             "line": {
              "color": "white"
             }
            },
            "header": {
             "fill": {
              "color": "#C8D4E3"
             },
             "line": {
              "color": "white"
             }
            },
            "type": "table"
           }
          ]
         },
         "layout": {
          "annotationdefaults": {
           "arrowcolor": "#2a3f5f",
           "arrowhead": 0,
           "arrowwidth": 1
          },
          "autotypenumbers": "strict",
          "coloraxis": {
           "colorbar": {
            "outlinewidth": 0,
            "ticks": ""
           }
          },
          "colorscale": {
           "diverging": [
            [
             0,
             "#8e0152"
            ],
            [
             0.1,
             "#c51b7d"
            ],
            [
             0.2,
             "#de77ae"
            ],
            [
             0.3,
             "#f1b6da"
            ],
            [
             0.4,
             "#fde0ef"
            ],
            [
             0.5,
             "#f7f7f7"
            ],
            [
             0.6,
             "#e6f5d0"
            ],
            [
             0.7,
             "#b8e186"
            ],
            [
             0.8,
             "#7fbc41"
            ],
            [
             0.9,
             "#4d9221"
            ],
            [
             1,
             "#276419"
            ]
           ],
           "sequential": [
            [
             0,
             "#0d0887"
            ],
            [
             0.1111111111111111,
             "#46039f"
            ],
            [
             0.2222222222222222,
             "#7201a8"
            ],
            [
             0.3333333333333333,
             "#9c179e"
            ],
            [
             0.4444444444444444,
             "#bd3786"
            ],
            [
             0.5555555555555556,
             "#d8576b"
            ],
            [
             0.6666666666666666,
             "#ed7953"
            ],
            [
             0.7777777777777778,
             "#fb9f3a"
            ],
            [
             0.8888888888888888,
             "#fdca26"
            ],
            [
             1,
             "#f0f921"
            ]
           ],
           "sequentialminus": [
            [
             0,
             "#0d0887"
            ],
            [
             0.1111111111111111,
             "#46039f"
            ],
            [
             0.2222222222222222,
             "#7201a8"
            ],
            [
             0.3333333333333333,
             "#9c179e"
            ],
            [
             0.4444444444444444,
             "#bd3786"
            ],
            [
             0.5555555555555556,
             "#d8576b"
            ],
            [
             0.6666666666666666,
             "#ed7953"
            ],
            [
             0.7777777777777778,
             "#fb9f3a"
            ],
            [
             0.8888888888888888,
             "#fdca26"
            ],
            [
             1,
             "#f0f921"
            ]
           ]
          },
          "colorway": [
           "#636efa",
           "#EF553B",
           "#00cc96",
           "#ab63fa",
           "#FFA15A",
           "#19d3f3",
           "#FF6692",
           "#B6E880",
           "#FF97FF",
           "#FECB52"
          ],
          "font": {
           "color": "#2a3f5f"
          },
          "geo": {
           "bgcolor": "white",
           "lakecolor": "white",
           "landcolor": "#E5ECF6",
           "showlakes": true,
           "showland": true,
           "subunitcolor": "white"
          },
          "hoverlabel": {
           "align": "left"
          },
          "hovermode": "closest",
          "mapbox": {
           "style": "light"
          },
          "paper_bgcolor": "white",
          "plot_bgcolor": "#E5ECF6",
          "polar": {
           "angularaxis": {
            "gridcolor": "white",
            "linecolor": "white",
            "ticks": ""
           },
           "bgcolor": "#E5ECF6",
           "radialaxis": {
            "gridcolor": "white",
            "linecolor": "white",
            "ticks": ""
           }
          },
          "scene": {
           "xaxis": {
            "backgroundcolor": "#E5ECF6",
            "gridcolor": "white",
            "gridwidth": 2,
            "linecolor": "white",
            "showbackground": true,
            "ticks": "",
            "zerolinecolor": "white"
           },
           "yaxis": {
            "backgroundcolor": "#E5ECF6",
            "gridcolor": "white",
            "gridwidth": 2,
            "linecolor": "white",
            "showbackground": true,
            "ticks": "",
            "zerolinecolor": "white"
           },
           "zaxis": {
            "backgroundcolor": "#E5ECF6",
            "gridcolor": "white",
            "gridwidth": 2,
            "linecolor": "white",
            "showbackground": true,
            "ticks": "",
            "zerolinecolor": "white"
           }
          },
          "shapedefaults": {
           "line": {
            "color": "#2a3f5f"
           }
          },
          "ternary": {
           "aaxis": {
            "gridcolor": "white",
            "linecolor": "white",
            "ticks": ""
           },
           "baxis": {
            "gridcolor": "white",
            "linecolor": "white",
            "ticks": ""
           },
           "bgcolor": "#E5ECF6",
           "caxis": {
            "gridcolor": "white",
            "linecolor": "white",
            "ticks": ""
           }
          },
          "title": {
           "x": 0.05
          },
          "xaxis": {
           "automargin": true,
           "gridcolor": "white",
           "linecolor": "white",
           "ticks": "",
           "title": {
            "standoff": 15
           },
           "zerolinecolor": "white",
           "zerolinewidth": 2
          },
          "yaxis": {
           "automargin": true,
           "gridcolor": "white",
           "linecolor": "white",
           "ticks": "",
           "title": {
            "standoff": 15
           },
           "zerolinecolor": "white",
           "zerolinewidth": 2
          }
         }
        },
        "title": {
         "text": "3-Pointers Made by 3-Pointers Attempted for Each Season, by player"
        },
        "width": 1000,
        "xaxis": {
         "anchor": "y",
         "domain": [
          0,
          1
         ],
         "showgrid": false,
         "tickformat": ",",
         "title": {
          "text": "Number of 3-Pointers Attempted"
         }
        },
        "yaxis": {
         "anchor": "x",
         "domain": [
          0,
          1
         ],
         "showgrid": false,
         "tickformat": ",",
         "title": {
          "text": "Number of 3-Pointers Made"
         }
        }
       }
      }
     },
     "metadata": {},
     "output_type": "display_data"
    }
   ],
   "source": [
    "# scatter plot showing number of 3-pointers goals made by the number of 3-pointers goals attempted\n",
    "fig=px.scatter(df_3p, x='FG3A', y='FG3M', color='Name', \n",
    "               title='3-Pointers Made by 3-Pointers Attempted for Each Season, by player', hover_data=[\"SEASON_ID\"],\n",
    "               width=1000, height=600,\n",
    "               labels={\"FG3A\": \"Number of 3-Pointers Attempted\", \"FG3M\": \"Number of 3-Pointers Made\"}).update_layout(xaxis=dict(tickformat=\",\", showgrid=False),\n",
    "                                                                                                                      yaxis=dict(tickformat=\",\", showgrid=False),\n",
    "                                                                                                                      plot_bgcolor='brown') \n",
    "fig.show()"
   ]
  },
  {
   "cell_type": "code",
   "execution_count": null,
   "id": "f35b894b",
   "metadata": {},
   "outputs": [
    {
     "data": {
      "application/vnd.plotly.v1+json": {
       "config": {
        "plotlyServerURL": "https://plot.ly"
       },
       "data": [
        {
         "hovertemplate": "Total Career Points Scored=%{x}<br>Player=%{y}<extra></extra>",
         "legendgroup": "",
         "marker": {
          "color": "darkgreen",
          "pattern": {
           "shape": ""
          }
         },
         "name": "",
         "orientation": "h",
         "showlegend": false,
         "textposition": "auto",
         "type": "bar",
         "x": {
          "bdata": "zVwAAB9VAAAoXQAA72AAACtFAAAkfgAACjMAAECQAAD3RQAA/EkAADZRAAD/TAAA",
          "dtype": "i4"
         },
         "xaxis": "x",
         "y": [
          "Charles Barkley",
          "Larry Bird",
          "Clyde Drexler",
          "Patrick Ewing",
          "Magic Johnson",
          "Michael Jordan",
          "Christian Laettner",
          "Karl Malone",
          "Chris Mullin",
          "Scottie Pippen",
          "David Robinson",
          "John Stockton"
         ],
         "yaxis": "y"
        }
       ],
       "layout": {
        "barmode": "relative",
        "height": 800,
        "legend": {
         "tracegroupgap": 0
        },
        "plot_bgcolor": "tan",
        "template": {
         "data": {
          "bar": [
           {
            "error_x": {
             "color": "#2a3f5f"
            },
            "error_y": {
             "color": "#2a3f5f"
            },
            "marker": {
             "line": {
              "color": "#E5ECF6",
              "width": 0.5
             },
             "pattern": {
              "fillmode": "overlay",
              "size": 10,
              "solidity": 0.2
             }
            },
            "type": "bar"
           }
          ],
          "barpolar": [
           {
            "marker": {
             "line": {
              "color": "#E5ECF6",
              "width": 0.5
             },
             "pattern": {
              "fillmode": "overlay",
              "size": 10,
              "solidity": 0.2
             }
            },
            "type": "barpolar"
           }
          ],
          "carpet": [
           {
            "aaxis": {
             "endlinecolor": "#2a3f5f",
             "gridcolor": "white",
             "linecolor": "white",
             "minorgridcolor": "white",
             "startlinecolor": "#2a3f5f"
            },
            "baxis": {
             "endlinecolor": "#2a3f5f",
             "gridcolor": "white",
             "linecolor": "white",
             "minorgridcolor": "white",
             "startlinecolor": "#2a3f5f"
            },
            "type": "carpet"
           }
          ],
          "choropleth": [
           {
            "colorbar": {
             "outlinewidth": 0,
             "ticks": ""
            },
            "type": "choropleth"
           }
          ],
          "contour": [
           {
            "colorbar": {
             "outlinewidth": 0,
             "ticks": ""
            },
            "colorscale": [
             [
              0,
              "#0d0887"
             ],
             [
              0.1111111111111111,
              "#46039f"
             ],
             [
              0.2222222222222222,
              "#7201a8"
             ],
             [
              0.3333333333333333,
              "#9c179e"
             ],
             [
              0.4444444444444444,
              "#bd3786"
             ],
             [
              0.5555555555555556,
              "#d8576b"
             ],
             [
              0.6666666666666666,
              "#ed7953"
             ],
             [
              0.7777777777777778,
              "#fb9f3a"
             ],
             [
              0.8888888888888888,
              "#fdca26"
             ],
             [
              1,
              "#f0f921"
             ]
            ],
            "type": "contour"
           }
          ],
          "contourcarpet": [
           {
            "colorbar": {
             "outlinewidth": 0,
             "ticks": ""
            },
            "type": "contourcarpet"
           }
          ],
          "heatmap": [
           {
            "colorbar": {
             "outlinewidth": 0,
             "ticks": ""
            },
            "colorscale": [
             [
              0,
              "#0d0887"
             ],
             [
              0.1111111111111111,
              "#46039f"
             ],
             [
              0.2222222222222222,
              "#7201a8"
             ],
             [
              0.3333333333333333,
              "#9c179e"
             ],
             [
              0.4444444444444444,
              "#bd3786"
             ],
             [
              0.5555555555555556,
              "#d8576b"
             ],
             [
              0.6666666666666666,
              "#ed7953"
             ],
             [
              0.7777777777777778,
              "#fb9f3a"
             ],
             [
              0.8888888888888888,
              "#fdca26"
             ],
             [
              1,
              "#f0f921"
             ]
            ],
            "type": "heatmap"
           }
          ],
          "histogram": [
           {
            "marker": {
             "pattern": {
              "fillmode": "overlay",
              "size": 10,
              "solidity": 0.2
             }
            },
            "type": "histogram"
           }
          ],
          "histogram2d": [
           {
            "colorbar": {
             "outlinewidth": 0,
             "ticks": ""
            },
            "colorscale": [
             [
              0,
              "#0d0887"
             ],
             [
              0.1111111111111111,
              "#46039f"
             ],
             [
              0.2222222222222222,
              "#7201a8"
             ],
             [
              0.3333333333333333,
              "#9c179e"
             ],
             [
              0.4444444444444444,
              "#bd3786"
             ],
             [
              0.5555555555555556,
              "#d8576b"
             ],
             [
              0.6666666666666666,
              "#ed7953"
             ],
             [
              0.7777777777777778,
              "#fb9f3a"
             ],
             [
              0.8888888888888888,
              "#fdca26"
             ],
             [
              1,
              "#f0f921"
             ]
            ],
            "type": "histogram2d"
           }
          ],
          "histogram2dcontour": [
           {
            "colorbar": {
             "outlinewidth": 0,
             "ticks": ""
            },
            "colorscale": [
             [
              0,
              "#0d0887"
             ],
             [
              0.1111111111111111,
              "#46039f"
             ],
             [
              0.2222222222222222,
              "#7201a8"
             ],
             [
              0.3333333333333333,
              "#9c179e"
             ],
             [
              0.4444444444444444,
              "#bd3786"
             ],
             [
              0.5555555555555556,
              "#d8576b"
             ],
             [
              0.6666666666666666,
              "#ed7953"
             ],
             [
              0.7777777777777778,
              "#fb9f3a"
             ],
             [
              0.8888888888888888,
              "#fdca26"
             ],
             [
              1,
              "#f0f921"
             ]
            ],
            "type": "histogram2dcontour"
           }
          ],
          "mesh3d": [
           {
            "colorbar": {
             "outlinewidth": 0,
             "ticks": ""
            },
            "type": "mesh3d"
           }
          ],
          "parcoords": [
           {
            "line": {
             "colorbar": {
              "outlinewidth": 0,
              "ticks": ""
             }
            },
            "type": "parcoords"
           }
          ],
          "pie": [
           {
            "automargin": true,
            "type": "pie"
           }
          ],
          "scatter": [
           {
            "fillpattern": {
             "fillmode": "overlay",
             "size": 10,
             "solidity": 0.2
            },
            "type": "scatter"
           }
          ],
          "scatter3d": [
           {
            "line": {
             "colorbar": {
              "outlinewidth": 0,
              "ticks": ""
             }
            },
            "marker": {
             "colorbar": {
              "outlinewidth": 0,
              "ticks": ""
             }
            },
            "type": "scatter3d"
           }
          ],
          "scattercarpet": [
           {
            "marker": {
             "colorbar": {
              "outlinewidth": 0,
              "ticks": ""
             }
            },
            "type": "scattercarpet"
           }
          ],
          "scattergeo": [
           {
            "marker": {
             "colorbar": {
              "outlinewidth": 0,
              "ticks": ""
             }
            },
            "type": "scattergeo"
           }
          ],
          "scattergl": [
           {
            "marker": {
             "colorbar": {
              "outlinewidth": 0,
              "ticks": ""
             }
            },
            "type": "scattergl"
           }
          ],
          "scattermap": [
           {
            "marker": {
             "colorbar": {
              "outlinewidth": 0,
              "ticks": ""
             }
            },
            "type": "scattermap"
           }
          ],
          "scattermapbox": [
           {
            "marker": {
             "colorbar": {
              "outlinewidth": 0,
              "ticks": ""
             }
            },
            "type": "scattermapbox"
           }
          ],
          "scatterpolar": [
           {
            "marker": {
             "colorbar": {
              "outlinewidth": 0,
              "ticks": ""
             }
            },
            "type": "scatterpolar"
           }
          ],
          "scatterpolargl": [
           {
            "marker": {
             "colorbar": {
              "outlinewidth": 0,
              "ticks": ""
             }
            },
            "type": "scatterpolargl"
           }
          ],
          "scatterternary": [
           {
            "marker": {
             "colorbar": {
              "outlinewidth": 0,
              "ticks": ""
             }
            },
            "type": "scatterternary"
           }
          ],
          "surface": [
           {
            "colorbar": {
             "outlinewidth": 0,
             "ticks": ""
            },
            "colorscale": [
             [
              0,
              "#0d0887"
             ],
             [
              0.1111111111111111,
              "#46039f"
             ],
             [
              0.2222222222222222,
              "#7201a8"
             ],
             [
              0.3333333333333333,
              "#9c179e"
             ],
             [
              0.4444444444444444,
              "#bd3786"
             ],
             [
              0.5555555555555556,
              "#d8576b"
             ],
             [
              0.6666666666666666,
              "#ed7953"
             ],
             [
              0.7777777777777778,
              "#fb9f3a"
             ],
             [
              0.8888888888888888,
              "#fdca26"
             ],
             [
              1,
              "#f0f921"
             ]
            ],
            "type": "surface"
           }
          ],
          "table": [
           {
            "cells": {
             "fill": {
              "color": "#EBF0F8"
             },
             "line": {
              "color": "white"
             }
            },
            "header": {
             "fill": {
              "color": "#C8D4E3"
             },
             "line": {
              "color": "white"
             }
            },
            "type": "table"
           }
          ]
         },
         "layout": {
          "annotationdefaults": {
           "arrowcolor": "#2a3f5f",
           "arrowhead": 0,
           "arrowwidth": 1
          },
          "autotypenumbers": "strict",
          "coloraxis": {
           "colorbar": {
            "outlinewidth": 0,
            "ticks": ""
           }
          },
          "colorscale": {
           "diverging": [
            [
             0,
             "#8e0152"
            ],
            [
             0.1,
             "#c51b7d"
            ],
            [
             0.2,
             "#de77ae"
            ],
            [
             0.3,
             "#f1b6da"
            ],
            [
             0.4,
             "#fde0ef"
            ],
            [
             0.5,
             "#f7f7f7"
            ],
            [
             0.6,
             "#e6f5d0"
            ],
            [
             0.7,
             "#b8e186"
            ],
            [
             0.8,
             "#7fbc41"
            ],
            [
             0.9,
             "#4d9221"
            ],
            [
             1,
             "#276419"
            ]
           ],
           "sequential": [
            [
             0,
             "#0d0887"
            ],
            [
             0.1111111111111111,
             "#46039f"
            ],
            [
             0.2222222222222222,
             "#7201a8"
            ],
            [
             0.3333333333333333,
             "#9c179e"
            ],
            [
             0.4444444444444444,
             "#bd3786"
            ],
            [
             0.5555555555555556,
             "#d8576b"
            ],
            [
             0.6666666666666666,
             "#ed7953"
            ],
            [
             0.7777777777777778,
             "#fb9f3a"
            ],
            [
             0.8888888888888888,
             "#fdca26"
            ],
            [
             1,
             "#f0f921"
            ]
           ],
           "sequentialminus": [
            [
             0,
             "#0d0887"
            ],
            [
             0.1111111111111111,
             "#46039f"
            ],
            [
             0.2222222222222222,
             "#7201a8"
            ],
            [
             0.3333333333333333,
             "#9c179e"
            ],
            [
             0.4444444444444444,
             "#bd3786"
            ],
            [
             0.5555555555555556,
             "#d8576b"
            ],
            [
             0.6666666666666666,
             "#ed7953"
            ],
            [
             0.7777777777777778,
             "#fb9f3a"
            ],
            [
             0.8888888888888888,
             "#fdca26"
            ],
            [
             1,
             "#f0f921"
            ]
           ]
          },
          "colorway": [
           "#636efa",
           "#EF553B",
           "#00cc96",
           "#ab63fa",
           "#FFA15A",
           "#19d3f3",
           "#FF6692",
           "#B6E880",
           "#FF97FF",
           "#FECB52"
          ],
          "font": {
           "color": "#2a3f5f"
          },
          "geo": {
           "bgcolor": "white",
           "lakecolor": "white",
           "landcolor": "#E5ECF6",
           "showlakes": true,
           "showland": true,
           "subunitcolor": "white"
          },
          "hoverlabel": {
           "align": "left"
          },
          "hovermode": "closest",
          "mapbox": {
           "style": "light"
          },
          "paper_bgcolor": "white",
          "plot_bgcolor": "#E5ECF6",
          "polar": {
           "angularaxis": {
            "gridcolor": "white",
            "linecolor": "white",
            "ticks": ""
           },
           "bgcolor": "#E5ECF6",
           "radialaxis": {
            "gridcolor": "white",
            "linecolor": "white",
            "ticks": ""
           }
          },
          "scene": {
           "xaxis": {
            "backgroundcolor": "#E5ECF6",
            "gridcolor": "white",
            "gridwidth": 2,
            "linecolor": "white",
            "showbackground": true,
            "ticks": "",
            "zerolinecolor": "white"
           },
           "yaxis": {
            "backgroundcolor": "#E5ECF6",
            "gridcolor": "white",
            "gridwidth": 2,
            "linecolor": "white",
            "showbackground": true,
            "ticks": "",
            "zerolinecolor": "white"
           },
           "zaxis": {
            "backgroundcolor": "#E5ECF6",
            "gridcolor": "white",
            "gridwidth": 2,
            "linecolor": "white",
            "showbackground": true,
            "ticks": "",
            "zerolinecolor": "white"
           }
          },
          "shapedefaults": {
           "line": {
            "color": "#2a3f5f"
           }
          },
          "ternary": {
           "aaxis": {
            "gridcolor": "white",
            "linecolor": "white",
            "ticks": ""
           },
           "baxis": {
            "gridcolor": "white",
            "linecolor": "white",
            "ticks": ""
           },
           "bgcolor": "#E5ECF6",
           "caxis": {
            "gridcolor": "white",
            "linecolor": "white",
            "ticks": ""
           }
          },
          "title": {
           "x": 0.05
          },
          "xaxis": {
           "automargin": true,
           "gridcolor": "white",
           "linecolor": "white",
           "ticks": "",
           "title": {
            "standoff": 15
           },
           "zerolinecolor": "white",
           "zerolinewidth": 2
          },
          "yaxis": {
           "automargin": true,
           "gridcolor": "white",
           "linecolor": "white",
           "ticks": "",
           "title": {
            "standoff": 15
           },
           "zerolinecolor": "white",
           "zerolinewidth": 2
          }
         }
        },
        "title": {
         "text": "Total NBA Career Points Scored, by player"
        },
        "xaxis": {
         "anchor": "y",
         "domain": [
          0,
          1
         ],
         "showgrid": false,
         "tickformat": ",",
         "title": {
          "text": "Total Career Points Scored"
         }
        },
        "yaxis": {
         "anchor": "x",
         "autorange": "reversed",
         "domain": [
          0,
          1
         ],
         "title": {
          "text": "Player"
         }
        }
       }
      }
     },
     "metadata": {},
     "output_type": "display_data"
    }
   ],
   "source": [
    "# bar chart of total number of points made during NBA career of each player\n",
    "pts_sums=[]\n",
    "\n",
    "for x in roster:\n",
    "    i=sum(df_all['PTS'][df_all['Name']==x])\n",
    "    pts_sums.append(i)\n",
    "\n",
    "combine={'Name':roster,'Points':pts_sums}\n",
    "career_points=pd.DataFrame(combine)\n",
    "\n",
    "fig = px.bar(career_points, x=\"Points\", y=\"Name\", orientation='h', color_discrete_sequence=['darkgreen'], \n",
    "             height=800,labels={'Name': 'Player', 'Points':'Total Career Points Scored'},\n",
    "             title='Total NBA Career Points Scored, by player').update_yaxes(autorange='reversed').update_layout(plot_bgcolor='tan', xaxis=dict(tickformat=\",\")).update_xaxes(showgrid=False)\n",
    "fig.show()"
   ]
  },
  {
   "cell_type": "code",
   "execution_count": null,
   "id": "8489ec03",
   "metadata": {},
   "outputs": [
    {
     "name": "stdout",
     "output_type": "stream",
     "text": [
      "<class 'pandas.core.frame.DataFrame'>\n",
      "RangeIndex: 187 entries, 0 to 186\n",
      "Data columns (total 3 columns):\n",
      " #   Column     Non-Null Count  Dtype \n",
      "---  ------     --------------  ----- \n",
      " 0   SEASON_ID  187 non-null    object\n",
      " 1   Name       187 non-null    object\n",
      " 2   REB        187 non-null    int64 \n",
      "dtypes: int64(1), object(2)\n",
      "memory usage: 4.5+ KB\n"
     ]
    },
    {
     "data": {
      "text/html": [
       "<div>\n",
       "<style scoped>\n",
       "    .dataframe tbody tr th:only-of-type {\n",
       "        vertical-align: middle;\n",
       "    }\n",
       "\n",
       "    .dataframe tbody tr th {\n",
       "        vertical-align: top;\n",
       "    }\n",
       "\n",
       "    .dataframe thead th {\n",
       "        text-align: right;\n",
       "    }\n",
       "</style>\n",
       "<table border=\"1\" class=\"dataframe\">\n",
       "  <thead>\n",
       "    <tr style=\"text-align: right;\">\n",
       "      <th></th>\n",
       "      <th>SEASON_ID</th>\n",
       "      <th>Name</th>\n",
       "      <th>REB</th>\n",
       "    </tr>\n",
       "  </thead>\n",
       "  <tbody>\n",
       "    <tr>\n",
       "      <th>0</th>\n",
       "      <td>1984-85</td>\n",
       "      <td>Charles Barkley</td>\n",
       "      <td>703</td>\n",
       "    </tr>\n",
       "    <tr>\n",
       "      <th>1</th>\n",
       "      <td>1985-86</td>\n",
       "      <td>Charles Barkley</td>\n",
       "      <td>1026</td>\n",
       "    </tr>\n",
       "    <tr>\n",
       "      <th>2</th>\n",
       "      <td>1986-87</td>\n",
       "      <td>Charles Barkley</td>\n",
       "      <td>994</td>\n",
       "    </tr>\n",
       "    <tr>\n",
       "      <th>3</th>\n",
       "      <td>1987-88</td>\n",
       "      <td>Charles Barkley</td>\n",
       "      <td>951</td>\n",
       "    </tr>\n",
       "    <tr>\n",
       "      <th>4</th>\n",
       "      <td>1988-89</td>\n",
       "      <td>Charles Barkley</td>\n",
       "      <td>986</td>\n",
       "    </tr>\n",
       "    <tr>\n",
       "      <th>...</th>\n",
       "      <td>...</td>\n",
       "      <td>...</td>\n",
       "      <td>...</td>\n",
       "    </tr>\n",
       "    <tr>\n",
       "      <th>182</th>\n",
       "      <td>1998-99</td>\n",
       "      <td>John Stockton</td>\n",
       "      <td>146</td>\n",
       "    </tr>\n",
       "    <tr>\n",
       "      <th>183</th>\n",
       "      <td>1999-00</td>\n",
       "      <td>John Stockton</td>\n",
       "      <td>215</td>\n",
       "    </tr>\n",
       "    <tr>\n",
       "      <th>184</th>\n",
       "      <td>2000-01</td>\n",
       "      <td>John Stockton</td>\n",
       "      <td>227</td>\n",
       "    </tr>\n",
       "    <tr>\n",
       "      <th>185</th>\n",
       "      <td>2001-02</td>\n",
       "      <td>John Stockton</td>\n",
       "      <td>263</td>\n",
       "    </tr>\n",
       "    <tr>\n",
       "      <th>186</th>\n",
       "      <td>2002-03</td>\n",
       "      <td>John Stockton</td>\n",
       "      <td>201</td>\n",
       "    </tr>\n",
       "  </tbody>\n",
       "</table>\n",
       "<p>187 rows × 3 columns</p>\n",
       "</div>"
      ],
      "text/plain": [
       "    SEASON_ID             Name   REB\n",
       "0     1984-85  Charles Barkley   703\n",
       "1     1985-86  Charles Barkley  1026\n",
       "2     1986-87  Charles Barkley   994\n",
       "3     1987-88  Charles Barkley   951\n",
       "4     1988-89  Charles Barkley   986\n",
       "..        ...              ...   ...\n",
       "182   1998-99    John Stockton   146\n",
       "183   1999-00    John Stockton   215\n",
       "184   2000-01    John Stockton   227\n",
       "185   2001-02    John Stockton   263\n",
       "186   2002-03    John Stockton   201\n",
       "\n",
       "[187 rows x 3 columns]"
      ]
     },
     "execution_count": 30,
     "metadata": {},
     "output_type": "execute_result"
    }
   ],
   "source": [
    "# create line chart to show career rebounds over time\n",
    "df_reb1=df_all.loc[is_in_target_categories1, \n",
    "                 ['SEASON_ID','Name', 'REB']].reset_index(drop=True)\n",
    "df_reb2=df_all.loc[is_in_target_categories2, \n",
    "                 ['SEASON_ID','Name', 'REB']].reset_index(drop=True)\n",
    "df_reb3=df_all.loc[is_in_target_categories3, \n",
    "                 ['SEASON_ID','Name', 'REB']].reset_index(drop=True)\n",
    "\n",
    "df_reb_drexler=df_all.loc[df_all['Name']=='Clyde Drexler', ['SEASON_ID','Name', 'REB']].reset_index(drop=True)\n",
    "\n",
    "df_reb_laettner=df_all.loc[df_all['Name']=='Christian Laettner', ['SEASON_ID','Name', 'REB']].reset_index(drop=True)\n",
    "\n",
    "df_reb_drexler_mean=df_reb_drexler.groupby('SEASON_ID')['REB'].mean().reset_index()\n",
    "df_reb_drexler_mean['Name']='Clyde Drexler'\n",
    "df_reb_laettner_mean=df_reb_laettner.groupby('SEASON_ID')['REB'].mean().reset_index()\n",
    "df_reb_laettner_mean['Name'] = 'Christian Laettner'\n",
    "\n",
    "df_reb=pd.concat([df_reb1, df_reb_drexler_mean, df_reb2, df_reb_laettner_mean, df_reb3],axis=0).reset_index(drop=True)\n",
    "\n",
    "df_reb['REB']=df_reb['REB'].astype(int)\n",
    "df_reb.info()\n",
    "df_reb"
   ]
  },
  {
   "cell_type": "code",
   "execution_count": null,
   "id": "6c221ec5",
   "metadata": {},
   "outputs": [
    {
     "data": {
      "application/vnd.plotly.v1+json": {
       "config": {
        "plotlyServerURL": "https://plot.ly"
       },
       "data": [
        {
         "name": "Charles Barkley",
         "type": "box",
         "y": {
          "bdata": "vwICBOIDtwPaA40DqAI+A6AD1wL0AjUDzAIaAwQC0QA=",
          "dtype": "i2"
         }
        },
        {
         "name": "Larry Bird",
         "type": "box",
         "y": {
          "bdata": "VAN/A0UDZgMcA0oDJQOqAr8CJQDIAv0BsgE=",
          "dtype": "i2"
         }
        },
        {
         "name": "Clyde Drexler",
         "type": "box",
         "y": {
          "bdata": "6wDcAaUBBgIVAmcC+wEiAvQBNQG9AeoA9gDgAXUBdQFaAQ==",
          "dtype": "i2"
         }
        },
        {
         "name": "Patrick Ewing",
         "type": "box",
         "y": {
          "bdata": "wwErAqQC5AJ9A4kDmQPUA3UDYwMmA0IDCQF5AVwCSQIHAQ==",
          "dtype": "i2"
         }
        },
        {
         "name": "Magic Johnson",
         "type": "box",
         "y": {
          "bdata": "VAJAAe8CqwLrAdwBqgH4AcEBXwIKAicCtwA=",
          "dtype": "i2"
         }
        },
        {
         "name": "Michael Jordan",
         "type": "box",
         "y": {
          "bdata": "FgJAAK4BwQGMAjUC7AH/AQoCdQAfAuIB2wFTAfEB",
          "dtype": "i2"
         }
        },
        {
         "name": "Christian Laettner",
         "type": "box",
         "y": {
          "bdata": "xAJaAmUCLgHsABoC0ALnATYAKQLUAJkAbQEtAfYB6ACDAA==",
          "dtype": "i2"
         }
        },
        {
         "name": "Karl Malone",
         "type": "box",
         "y": {
          "bdata": "zgJXA9oDVQOPA8cDjQOXA6wDZwMkAykDQgPPAQsDnQKuAnQCbwE=",
          "dtype": "i2"
         }
        },
        {
         "name": "Chris Mullin",
         "type": "box",
         "y": {
          "bdata": "cwC1AM0A4wHPAbsBwgHoAFkBcwCfAD0B+QCgAEwAKQA=",
          "dtype": "i2"
         }
        },
        {
         "name": "Scottie Pippen",
         "type": "box",
         "y": {
          "bdata": "KgG9ASMCUwJ2Am0CdQJ/AvABEwLjAEMBAQJNAUEBFgFEAA==",
          "dtype": "i2"
         }
        },
        {
         "name": "David Robinson",
         "type": "box",
         "y": {
          "bdata": "1wMnBD0DvANXA20D6AMzAAcD7AECA7MChwL8AQ==",
          "dtype": "i2"
         }
        },
        {
         "name": "John Stockton",
         "type": "box",
         "y": {
          "bdata": "aQCzAJcA7QD4AM4A7QAOAe0AAgH7AOIA5ACmAJIA1wDjAAcByQA=",
          "dtype": "i2"
         }
        }
       ],
       "layout": {
        "template": {
         "data": {
          "bar": [
           {
            "error_x": {
             "color": "#2a3f5f"
            },
            "error_y": {
             "color": "#2a3f5f"
            },
            "marker": {
             "line": {
              "color": "#E5ECF6",
              "width": 0.5
             },
             "pattern": {
              "fillmode": "overlay",
              "size": 10,
              "solidity": 0.2
             }
            },
            "type": "bar"
           }
          ],
          "barpolar": [
           {
            "marker": {
             "line": {
              "color": "#E5ECF6",
              "width": 0.5
             },
             "pattern": {
              "fillmode": "overlay",
              "size": 10,
              "solidity": 0.2
             }
            },
            "type": "barpolar"
           }
          ],
          "carpet": [
           {
            "aaxis": {
             "endlinecolor": "#2a3f5f",
             "gridcolor": "white",
             "linecolor": "white",
             "minorgridcolor": "white",
             "startlinecolor": "#2a3f5f"
            },
            "baxis": {
             "endlinecolor": "#2a3f5f",
             "gridcolor": "white",
             "linecolor": "white",
             "minorgridcolor": "white",
             "startlinecolor": "#2a3f5f"
            },
            "type": "carpet"
           }
          ],
          "choropleth": [
           {
            "colorbar": {
             "outlinewidth": 0,
             "ticks": ""
            },
            "type": "choropleth"
           }
          ],
          "contour": [
           {
            "colorbar": {
             "outlinewidth": 0,
             "ticks": ""
            },
            "colorscale": [
             [
              0,
              "#0d0887"
             ],
             [
              0.1111111111111111,
              "#46039f"
             ],
             [
              0.2222222222222222,
              "#7201a8"
             ],
             [
              0.3333333333333333,
              "#9c179e"
             ],
             [
              0.4444444444444444,
              "#bd3786"
             ],
             [
              0.5555555555555556,
              "#d8576b"
             ],
             [
              0.6666666666666666,
              "#ed7953"
             ],
             [
              0.7777777777777778,
              "#fb9f3a"
             ],
             [
              0.8888888888888888,
              "#fdca26"
             ],
             [
              1,
              "#f0f921"
             ]
            ],
            "type": "contour"
           }
          ],
          "contourcarpet": [
           {
            "colorbar": {
             "outlinewidth": 0,
             "ticks": ""
            },
            "type": "contourcarpet"
           }
          ],
          "heatmap": [
           {
            "colorbar": {
             "outlinewidth": 0,
             "ticks": ""
            },
            "colorscale": [
             [
              0,
              "#0d0887"
             ],
             [
              0.1111111111111111,
              "#46039f"
             ],
             [
              0.2222222222222222,
              "#7201a8"
             ],
             [
              0.3333333333333333,
              "#9c179e"
             ],
             [
              0.4444444444444444,
              "#bd3786"
             ],
             [
              0.5555555555555556,
              "#d8576b"
             ],
             [
              0.6666666666666666,
              "#ed7953"
             ],
             [
              0.7777777777777778,
              "#fb9f3a"
             ],
             [
              0.8888888888888888,
              "#fdca26"
             ],
             [
              1,
              "#f0f921"
             ]
            ],
            "type": "heatmap"
           }
          ],
          "histogram": [
           {
            "marker": {
             "pattern": {
              "fillmode": "overlay",
              "size": 10,
              "solidity": 0.2
             }
            },
            "type": "histogram"
           }
          ],
          "histogram2d": [
           {
            "colorbar": {
             "outlinewidth": 0,
             "ticks": ""
            },
            "colorscale": [
             [
              0,
              "#0d0887"
             ],
             [
              0.1111111111111111,
              "#46039f"
             ],
             [
              0.2222222222222222,
              "#7201a8"
             ],
             [
              0.3333333333333333,
              "#9c179e"
             ],
             [
              0.4444444444444444,
              "#bd3786"
             ],
             [
              0.5555555555555556,
              "#d8576b"
             ],
             [
              0.6666666666666666,
              "#ed7953"
             ],
             [
              0.7777777777777778,
              "#fb9f3a"
             ],
             [
              0.8888888888888888,
              "#fdca26"
             ],
             [
              1,
              "#f0f921"
             ]
            ],
            "type": "histogram2d"
           }
          ],
          "histogram2dcontour": [
           {
            "colorbar": {
             "outlinewidth": 0,
             "ticks": ""
            },
            "colorscale": [
             [
              0,
              "#0d0887"
             ],
             [
              0.1111111111111111,
              "#46039f"
             ],
             [
              0.2222222222222222,
              "#7201a8"
             ],
             [
              0.3333333333333333,
              "#9c179e"
             ],
             [
              0.4444444444444444,
              "#bd3786"
             ],
             [
              0.5555555555555556,
              "#d8576b"
             ],
             [
              0.6666666666666666,
              "#ed7953"
             ],
             [
              0.7777777777777778,
              "#fb9f3a"
             ],
             [
              0.8888888888888888,
              "#fdca26"
             ],
             [
              1,
              "#f0f921"
             ]
            ],
            "type": "histogram2dcontour"
           }
          ],
          "mesh3d": [
           {
            "colorbar": {
             "outlinewidth": 0,
             "ticks": ""
            },
            "type": "mesh3d"
           }
          ],
          "parcoords": [
           {
            "line": {
             "colorbar": {
              "outlinewidth": 0,
              "ticks": ""
             }
            },
            "type": "parcoords"
           }
          ],
          "pie": [
           {
            "automargin": true,
            "type": "pie"
           }
          ],
          "scatter": [
           {
            "fillpattern": {
             "fillmode": "overlay",
             "size": 10,
             "solidity": 0.2
            },
            "type": "scatter"
           }
          ],
          "scatter3d": [
           {
            "line": {
             "colorbar": {
              "outlinewidth": 0,
              "ticks": ""
             }
            },
            "marker": {
             "colorbar": {
              "outlinewidth": 0,
              "ticks": ""
             }
            },
            "type": "scatter3d"
           }
          ],
          "scattercarpet": [
           {
            "marker": {
             "colorbar": {
              "outlinewidth": 0,
              "ticks": ""
             }
            },
            "type": "scattercarpet"
           }
          ],
          "scattergeo": [
           {
            "marker": {
             "colorbar": {
              "outlinewidth": 0,
              "ticks": ""
             }
            },
            "type": "scattergeo"
           }
          ],
          "scattergl": [
           {
            "marker": {
             "colorbar": {
              "outlinewidth": 0,
              "ticks": ""
             }
            },
            "type": "scattergl"
           }
          ],
          "scattermap": [
           {
            "marker": {
             "colorbar": {
              "outlinewidth": 0,
              "ticks": ""
             }
            },
            "type": "scattermap"
           }
          ],
          "scattermapbox": [
           {
            "marker": {
             "colorbar": {
              "outlinewidth": 0,
              "ticks": ""
             }
            },
            "type": "scattermapbox"
           }
          ],
          "scatterpolar": [
           {
            "marker": {
             "colorbar": {
              "outlinewidth": 0,
              "ticks": ""
             }
            },
            "type": "scatterpolar"
           }
          ],
          "scatterpolargl": [
           {
            "marker": {
             "colorbar": {
              "outlinewidth": 0,
              "ticks": ""
             }
            },
            "type": "scatterpolargl"
           }
          ],
          "scatterternary": [
           {
            "marker": {
             "colorbar": {
              "outlinewidth": 0,
              "ticks": ""
             }
            },
            "type": "scatterternary"
           }
          ],
          "surface": [
           {
            "colorbar": {
             "outlinewidth": 0,
             "ticks": ""
            },
            "colorscale": [
             [
              0,
              "#0d0887"
             ],
             [
              0.1111111111111111,
              "#46039f"
             ],
             [
              0.2222222222222222,
              "#7201a8"
             ],
             [
              0.3333333333333333,
              "#9c179e"
             ],
             [
              0.4444444444444444,
              "#bd3786"
             ],
             [
              0.5555555555555556,
              "#d8576b"
             ],
             [
              0.6666666666666666,
              "#ed7953"
             ],
             [
              0.7777777777777778,
              "#fb9f3a"
             ],
             [
              0.8888888888888888,
              "#fdca26"
             ],
             [
              1,
              "#f0f921"
             ]
            ],
            "type": "surface"
           }
          ],
          "table": [
           {
            "cells": {
             "fill": {
              "color": "#EBF0F8"
             },
             "line": {
              "color": "white"
             }
            },
            "header": {
             "fill": {
              "color": "#C8D4E3"
             },
             "line": {
              "color": "white"
             }
            },
            "type": "table"
           }
          ]
         },
         "layout": {
          "annotationdefaults": {
           "arrowcolor": "#2a3f5f",
           "arrowhead": 0,
           "arrowwidth": 1
          },
          "autotypenumbers": "strict",
          "coloraxis": {
           "colorbar": {
            "outlinewidth": 0,
            "ticks": ""
           }
          },
          "colorscale": {
           "diverging": [
            [
             0,
             "#8e0152"
            ],
            [
             0.1,
             "#c51b7d"
            ],
            [
             0.2,
             "#de77ae"
            ],
            [
             0.3,
             "#f1b6da"
            ],
            [
             0.4,
             "#fde0ef"
            ],
            [
             0.5,
             "#f7f7f7"
            ],
            [
             0.6,
             "#e6f5d0"
            ],
            [
             0.7,
             "#b8e186"
            ],
            [
             0.8,
             "#7fbc41"
            ],
            [
             0.9,
             "#4d9221"
            ],
            [
             1,
             "#276419"
            ]
           ],
           "sequential": [
            [
             0,
             "#0d0887"
            ],
            [
             0.1111111111111111,
             "#46039f"
            ],
            [
             0.2222222222222222,
             "#7201a8"
            ],
            [
             0.3333333333333333,
             "#9c179e"
            ],
            [
             0.4444444444444444,
             "#bd3786"
            ],
            [
             0.5555555555555556,
             "#d8576b"
            ],
            [
             0.6666666666666666,
             "#ed7953"
            ],
            [
             0.7777777777777778,
             "#fb9f3a"
            ],
            [
             0.8888888888888888,
             "#fdca26"
            ],
            [
             1,
             "#f0f921"
            ]
           ],
           "sequentialminus": [
            [
             0,
             "#0d0887"
            ],
            [
             0.1111111111111111,
             "#46039f"
            ],
            [
             0.2222222222222222,
             "#7201a8"
            ],
            [
             0.3333333333333333,
             "#9c179e"
            ],
            [
             0.4444444444444444,
             "#bd3786"
            ],
            [
             0.5555555555555556,
             "#d8576b"
            ],
            [
             0.6666666666666666,
             "#ed7953"
            ],
            [
             0.7777777777777778,
             "#fb9f3a"
            ],
            [
             0.8888888888888888,
             "#fdca26"
            ],
            [
             1,
             "#f0f921"
            ]
           ]
          },
          "colorway": [
           "#636efa",
           "#EF553B",
           "#00cc96",
           "#ab63fa",
           "#FFA15A",
           "#19d3f3",
           "#FF6692",
           "#B6E880",
           "#FF97FF",
           "#FECB52"
          ],
          "font": {
           "color": "#2a3f5f"
          },
          "geo": {
           "bgcolor": "white",
           "lakecolor": "white",
           "landcolor": "#E5ECF6",
           "showlakes": true,
           "showland": true,
           "subunitcolor": "white"
          },
          "hoverlabel": {
           "align": "left"
          },
          "hovermode": "closest",
          "mapbox": {
           "style": "light"
          },
          "paper_bgcolor": "white",
          "plot_bgcolor": "#E5ECF6",
          "polar": {
           "angularaxis": {
            "gridcolor": "white",
            "linecolor": "white",
            "ticks": ""
           },
           "bgcolor": "#E5ECF6",
           "radialaxis": {
            "gridcolor": "white",
            "linecolor": "white",
            "ticks": ""
           }
          },
          "scene": {
           "xaxis": {
            "backgroundcolor": "#E5ECF6",
            "gridcolor": "white",
            "gridwidth": 2,
            "linecolor": "white",
            "showbackground": true,
            "ticks": "",
            "zerolinecolor": "white"
           },
           "yaxis": {
            "backgroundcolor": "#E5ECF6",
            "gridcolor": "white",
            "gridwidth": 2,
            "linecolor": "white",
            "showbackground": true,
            "ticks": "",
            "zerolinecolor": "white"
           },
           "zaxis": {
            "backgroundcolor": "#E5ECF6",
            "gridcolor": "white",
            "gridwidth": 2,
            "linecolor": "white",
            "showbackground": true,
            "ticks": "",
            "zerolinecolor": "white"
           }
          },
          "shapedefaults": {
           "line": {
            "color": "#2a3f5f"
           }
          },
          "ternary": {
           "aaxis": {
            "gridcolor": "white",
            "linecolor": "white",
            "ticks": ""
           },
           "baxis": {
            "gridcolor": "white",
            "linecolor": "white",
            "ticks": ""
           },
           "bgcolor": "#E5ECF6",
           "caxis": {
            "gridcolor": "white",
            "linecolor": "white",
            "ticks": ""
           }
          },
          "title": {
           "x": 0.05
          },
          "xaxis": {
           "automargin": true,
           "gridcolor": "white",
           "linecolor": "white",
           "ticks": "",
           "title": {
            "standoff": 15
           },
           "zerolinecolor": "white",
           "zerolinewidth": 2
          },
          "yaxis": {
           "automargin": true,
           "gridcolor": "white",
           "linecolor": "white",
           "ticks": "",
           "title": {
            "standoff": 15
           },
           "zerolinecolor": "white",
           "zerolinewidth": 2
          }
         }
        },
        "title": {
         "text": "Distribution of Total Rebounds Made in a NBA Season, by player"
        },
        "xaxis": {
         "title": {
          "text": "Player"
         }
        },
        "yaxis": {
         "tickformat": ",d",
         "title": {
          "text": "Number of Rebounds Made in a NBA Season"
         }
        }
       }
      }
     },
     "metadata": {},
     "output_type": "display_data"
    }
   ],
   "source": [
    "# boxplots for the distributions for the number of reobunds played each season\n",
    "fig=go.Figure().add_trace(go.Box(y=barkley['REB'], name=\"Charles Barkley\")).add_trace(go.Box(y=bird['REB'], name=\"Larry Bird\")).add_trace(go.Box(y=drexler['REB'], name=\"Clyde Drexler\")).add_trace(go.Box(y=ewing['REB'], name=\"Patrick Ewing\")).add_trace(go.Box(y=johnson['REB'], name=\"Magic Johnson\")).add_trace(go.Box(y=jordan['REB'], name=\"Michael Jordan\")).add_trace(go.Box(y=laettner['REB'], name=\"Christian Laettner\")).add_trace(go.Box(y=malone['REB'], name=\"Karl Malone\")).add_trace(go.Box(y=mullin['REB'], name=\"Chris Mullin\")).add_trace(go.Box(y=pippen['REB'], name=\"Scottie Pippen\")).add_trace(go.Box(y=robinson['REB'], name=\"David Robinson\")).add_trace(go.Box(y=stockton['REB'], name=\"John Stockton\")).update_layout(title=\"Distribution of Total Rebounds Made in a NBA Season, by player\",xaxis_title=\"Player\", yaxis_title=\"Number of Rebounds Made in a NBA Season\", yaxis=dict(tickformat=\",d\" ))\n",
    "fig.show()"
   ]
  },
  {
   "cell_type": "code",
   "execution_count": null,
   "id": "be88a891",
   "metadata": {},
   "outputs": [
    {
     "data": {
      "application/vnd.plotly.v1+json": {
       "config": {
        "plotlyServerURL": "https://plot.ly"
       },
       "data": [
        {
         "domain": {
          "x": [
           0,
           1
          ],
          "y": [
           0,
           1
          ]
         },
         "hovertemplate": "<b>Name:</b> %{label}<br><b>Number of Career Assists:</b> %{value:,.0f}<br><b>Percentage:</b> %{percent:,.0%}<extra></extra>",
         "labels": [
          "Charles Barkley",
          "Chris Mullin",
          "Christian Laettner",
          "Clyde Drexler",
          "David Robinson",
          "John Stockton",
          "Karl Malone",
          "Larry Bird",
          "Magic Johnson",
          "Michael Jordan",
          "Patrick Ewing",
          "Scottie Pippen"
         ],
         "legendgroup": "",
         "name": "",
         "showlegend": true,
         "texttemplate": "%{percent:,.0%}",
         "type": "pie",
         "values": {
          "bdata": "cAb6BSMEJwlsBcEMJQgUBrwG0glwBAMJ",
          "dtype": "i2"
         }
        }
       ],
       "layout": {
        "height": 600,
        "legend": {
         "tracegroupgap": 0
        },
        "piecolorway": [
         "rgb(103,0,31)",
         "rgb(178,24,43)",
         "rgb(214,96,77)",
         "rgb(244,165,130)",
         "rgb(253,219,199)",
         "rgb(247,247,247)",
         "rgb(209,229,240)",
         "rgb(146,197,222)",
         "rgb(67,147,195)",
         "rgb(33,102,172)",
         "rgb(5,48,97)"
        ],
        "template": {
         "data": {
          "bar": [
           {
            "error_x": {
             "color": "#2a3f5f"
            },
            "error_y": {
             "color": "#2a3f5f"
            },
            "marker": {
             "line": {
              "color": "#E5ECF6",
              "width": 0.5
             },
             "pattern": {
              "fillmode": "overlay",
              "size": 10,
              "solidity": 0.2
             }
            },
            "type": "bar"
           }
          ],
          "barpolar": [
           {
            "marker": {
             "line": {
              "color": "#E5ECF6",
              "width": 0.5
             },
             "pattern": {
              "fillmode": "overlay",
              "size": 10,
              "solidity": 0.2
             }
            },
            "type": "barpolar"
           }
          ],
          "carpet": [
           {
            "aaxis": {
             "endlinecolor": "#2a3f5f",
             "gridcolor": "white",
             "linecolor": "white",
             "minorgridcolor": "white",
             "startlinecolor": "#2a3f5f"
            },
            "baxis": {
             "endlinecolor": "#2a3f5f",
             "gridcolor": "white",
             "linecolor": "white",
             "minorgridcolor": "white",
             "startlinecolor": "#2a3f5f"
            },
            "type": "carpet"
           }
          ],
          "choropleth": [
           {
            "colorbar": {
             "outlinewidth": 0,
             "ticks": ""
            },
            "type": "choropleth"
           }
          ],
          "contour": [
           {
            "colorbar": {
             "outlinewidth": 0,
             "ticks": ""
            },
            "colorscale": [
             [
              0,
              "#0d0887"
             ],
             [
              0.1111111111111111,
              "#46039f"
             ],
             [
              0.2222222222222222,
              "#7201a8"
             ],
             [
              0.3333333333333333,
              "#9c179e"
             ],
             [
              0.4444444444444444,
              "#bd3786"
             ],
             [
              0.5555555555555556,
              "#d8576b"
             ],
             [
              0.6666666666666666,
              "#ed7953"
             ],
             [
              0.7777777777777778,
              "#fb9f3a"
             ],
             [
              0.8888888888888888,
              "#fdca26"
             ],
             [
              1,
              "#f0f921"
             ]
            ],
            "type": "contour"
           }
          ],
          "contourcarpet": [
           {
            "colorbar": {
             "outlinewidth": 0,
             "ticks": ""
            },
            "type": "contourcarpet"
           }
          ],
          "heatmap": [
           {
            "colorbar": {
             "outlinewidth": 0,
             "ticks": ""
            },
            "colorscale": [
             [
              0,
              "#0d0887"
             ],
             [
              0.1111111111111111,
              "#46039f"
             ],
             [
              0.2222222222222222,
              "#7201a8"
             ],
             [
              0.3333333333333333,
              "#9c179e"
             ],
             [
              0.4444444444444444,
              "#bd3786"
             ],
             [
              0.5555555555555556,
              "#d8576b"
             ],
             [
              0.6666666666666666,
              "#ed7953"
             ],
             [
              0.7777777777777778,
              "#fb9f3a"
             ],
             [
              0.8888888888888888,
              "#fdca26"
             ],
             [
              1,
              "#f0f921"
             ]
            ],
            "type": "heatmap"
           }
          ],
          "histogram": [
           {
            "marker": {
             "pattern": {
              "fillmode": "overlay",
              "size": 10,
              "solidity": 0.2
             }
            },
            "type": "histogram"
           }
          ],
          "histogram2d": [
           {
            "colorbar": {
             "outlinewidth": 0,
             "ticks": ""
            },
            "colorscale": [
             [
              0,
              "#0d0887"
             ],
             [
              0.1111111111111111,
              "#46039f"
             ],
             [
              0.2222222222222222,
              "#7201a8"
             ],
             [
              0.3333333333333333,
              "#9c179e"
             ],
             [
              0.4444444444444444,
              "#bd3786"
             ],
             [
              0.5555555555555556,
              "#d8576b"
             ],
             [
              0.6666666666666666,
              "#ed7953"
             ],
             [
              0.7777777777777778,
              "#fb9f3a"
             ],
             [
              0.8888888888888888,
              "#fdca26"
             ],
             [
              1,
              "#f0f921"
             ]
            ],
            "type": "histogram2d"
           }
          ],
          "histogram2dcontour": [
           {
            "colorbar": {
             "outlinewidth": 0,
             "ticks": ""
            },
            "colorscale": [
             [
              0,
              "#0d0887"
             ],
             [
              0.1111111111111111,
              "#46039f"
             ],
             [
              0.2222222222222222,
              "#7201a8"
             ],
             [
              0.3333333333333333,
              "#9c179e"
             ],
             [
              0.4444444444444444,
              "#bd3786"
             ],
             [
              0.5555555555555556,
              "#d8576b"
             ],
             [
              0.6666666666666666,
              "#ed7953"
             ],
             [
              0.7777777777777778,
              "#fb9f3a"
             ],
             [
              0.8888888888888888,
              "#fdca26"
             ],
             [
              1,
              "#f0f921"
             ]
            ],
            "type": "histogram2dcontour"
           }
          ],
          "mesh3d": [
           {
            "colorbar": {
             "outlinewidth": 0,
             "ticks": ""
            },
            "type": "mesh3d"
           }
          ],
          "parcoords": [
           {
            "line": {
             "colorbar": {
              "outlinewidth": 0,
              "ticks": ""
             }
            },
            "type": "parcoords"
           }
          ],
          "pie": [
           {
            "automargin": true,
            "type": "pie"
           }
          ],
          "scatter": [
           {
            "fillpattern": {
             "fillmode": "overlay",
             "size": 10,
             "solidity": 0.2
            },
            "type": "scatter"
           }
          ],
          "scatter3d": [
           {
            "line": {
             "colorbar": {
              "outlinewidth": 0,
              "ticks": ""
             }
            },
            "marker": {
             "colorbar": {
              "outlinewidth": 0,
              "ticks": ""
             }
            },
            "type": "scatter3d"
           }
          ],
          "scattercarpet": [
           {
            "marker": {
             "colorbar": {
              "outlinewidth": 0,
              "ticks": ""
             }
            },
            "type": "scattercarpet"
           }
          ],
          "scattergeo": [
           {
            "marker": {
             "colorbar": {
              "outlinewidth": 0,
              "ticks": ""
             }
            },
            "type": "scattergeo"
           }
          ],
          "scattergl": [
           {
            "marker": {
             "colorbar": {
              "outlinewidth": 0,
              "ticks": ""
             }
            },
            "type": "scattergl"
           }
          ],
          "scattermap": [
           {
            "marker": {
             "colorbar": {
              "outlinewidth": 0,
              "ticks": ""
             }
            },
            "type": "scattermap"
           }
          ],
          "scattermapbox": [
           {
            "marker": {
             "colorbar": {
              "outlinewidth": 0,
              "ticks": ""
             }
            },
            "type": "scattermapbox"
           }
          ],
          "scatterpolar": [
           {
            "marker": {
             "colorbar": {
              "outlinewidth": 0,
              "ticks": ""
             }
            },
            "type": "scatterpolar"
           }
          ],
          "scatterpolargl": [
           {
            "marker": {
             "colorbar": {
              "outlinewidth": 0,
              "ticks": ""
             }
            },
            "type": "scatterpolargl"
           }
          ],
          "scatterternary": [
           {
            "marker": {
             "colorbar": {
              "outlinewidth": 0,
              "ticks": ""
             }
            },
            "type": "scatterternary"
           }
          ],
          "surface": [
           {
            "colorbar": {
             "outlinewidth": 0,
             "ticks": ""
            },
            "colorscale": [
             [
              0,
              "#0d0887"
             ],
             [
              0.1111111111111111,
              "#46039f"
             ],
             [
              0.2222222222222222,
              "#7201a8"
             ],
             [
              0.3333333333333333,
              "#9c179e"
             ],
             [
              0.4444444444444444,
              "#bd3786"
             ],
             [
              0.5555555555555556,
              "#d8576b"
             ],
             [
              0.6666666666666666,
              "#ed7953"
             ],
             [
              0.7777777777777778,
              "#fb9f3a"
             ],
             [
              0.8888888888888888,
              "#fdca26"
             ],
             [
              1,
              "#f0f921"
             ]
            ],
            "type": "surface"
           }
          ],
          "table": [
           {
            "cells": {
             "fill": {
              "color": "#EBF0F8"
             },
             "line": {
              "color": "white"
             }
            },
            "header": {
             "fill": {
              "color": "#C8D4E3"
             },
             "line": {
              "color": "white"
             }
            },
            "type": "table"
           }
          ]
         },
         "layout": {
          "annotationdefaults": {
           "arrowcolor": "#2a3f5f",
           "arrowhead": 0,
           "arrowwidth": 1
          },
          "autotypenumbers": "strict",
          "coloraxis": {
           "colorbar": {
            "outlinewidth": 0,
            "ticks": ""
           }
          },
          "colorscale": {
           "diverging": [
            [
             0,
             "#8e0152"
            ],
            [
             0.1,
             "#c51b7d"
            ],
            [
             0.2,
             "#de77ae"
            ],
            [
             0.3,
             "#f1b6da"
            ],
            [
             0.4,
             "#fde0ef"
            ],
            [
             0.5,
             "#f7f7f7"
            ],
            [
             0.6,
             "#e6f5d0"
            ],
            [
             0.7,
             "#b8e186"
            ],
            [
             0.8,
             "#7fbc41"
            ],
            [
             0.9,
             "#4d9221"
            ],
            [
             1,
             "#276419"
            ]
           ],
           "sequential": [
            [
             0,
             "#0d0887"
            ],
            [
             0.1111111111111111,
             "#46039f"
            ],
            [
             0.2222222222222222,
             "#7201a8"
            ],
            [
             0.3333333333333333,
             "#9c179e"
            ],
            [
             0.4444444444444444,
             "#bd3786"
            ],
            [
             0.5555555555555556,
             "#d8576b"
            ],
            [
             0.6666666666666666,
             "#ed7953"
            ],
            [
             0.7777777777777778,
             "#fb9f3a"
            ],
            [
             0.8888888888888888,
             "#fdca26"
            ],
            [
             1,
             "#f0f921"
            ]
           ],
           "sequentialminus": [
            [
             0,
             "#0d0887"
            ],
            [
             0.1111111111111111,
             "#46039f"
            ],
            [
             0.2222222222222222,
             "#7201a8"
            ],
            [
             0.3333333333333333,
             "#9c179e"
            ],
            [
             0.4444444444444444,
             "#bd3786"
            ],
            [
             0.5555555555555556,
             "#d8576b"
            ],
            [
             0.6666666666666666,
             "#ed7953"
            ],
            [
             0.7777777777777778,
             "#fb9f3a"
            ],
            [
             0.8888888888888888,
             "#fdca26"
            ],
            [
             1,
             "#f0f921"
            ]
           ]
          },
          "colorway": [
           "#636efa",
           "#EF553B",
           "#00cc96",
           "#ab63fa",
           "#FFA15A",
           "#19d3f3",
           "#FF6692",
           "#B6E880",
           "#FF97FF",
           "#FECB52"
          ],
          "font": {
           "color": "#2a3f5f"
          },
          "geo": {
           "bgcolor": "white",
           "lakecolor": "white",
           "landcolor": "#E5ECF6",
           "showlakes": true,
           "showland": true,
           "subunitcolor": "white"
          },
          "hoverlabel": {
           "align": "left"
          },
          "hovermode": "closest",
          "mapbox": {
           "style": "light"
          },
          "paper_bgcolor": "white",
          "plot_bgcolor": "#E5ECF6",
          "polar": {
           "angularaxis": {
            "gridcolor": "white",
            "linecolor": "white",
            "ticks": ""
           },
           "bgcolor": "#E5ECF6",
           "radialaxis": {
            "gridcolor": "white",
            "linecolor": "white",
            "ticks": ""
           }
          },
          "scene": {
           "xaxis": {
            "backgroundcolor": "#E5ECF6",
            "gridcolor": "white",
            "gridwidth": 2,
            "linecolor": "white",
            "showbackground": true,
            "ticks": "",
            "zerolinecolor": "white"
           },
           "yaxis": {
            "backgroundcolor": "#E5ECF6",
            "gridcolor": "white",
            "gridwidth": 2,
            "linecolor": "white",
            "showbackground": true,
            "ticks": "",
            "zerolinecolor": "white"
           },
           "zaxis": {
            "backgroundcolor": "#E5ECF6",
            "gridcolor": "white",
            "gridwidth": 2,
            "linecolor": "white",
            "showbackground": true,
            "ticks": "",
            "zerolinecolor": "white"
           }
          },
          "shapedefaults": {
           "line": {
            "color": "#2a3f5f"
           }
          },
          "ternary": {
           "aaxis": {
            "gridcolor": "white",
            "linecolor": "white",
            "ticks": ""
           },
           "baxis": {
            "gridcolor": "white",
            "linecolor": "white",
            "ticks": ""
           },
           "bgcolor": "#E5ECF6",
           "caxis": {
            "gridcolor": "white",
            "linecolor": "white",
            "ticks": ""
           }
          },
          "title": {
           "x": 0.05
          },
          "xaxis": {
           "automargin": true,
           "gridcolor": "white",
           "linecolor": "white",
           "ticks": "",
           "title": {
            "standoff": 15
           },
           "zerolinecolor": "white",
           "zerolinewidth": 2
          },
          "yaxis": {
           "automargin": true,
           "gridcolor": "white",
           "linecolor": "white",
           "ticks": "",
           "title": {
            "standoff": 15
           },
           "zerolinecolor": "white",
           "zerolinewidth": 2
          }
         }
        },
        "title": {
         "text": "Percentage of NBA Career Steals by Dream Team Members"
        }
       }
      }
     },
     "metadata": {},
     "output_type": "display_data"
    }
   ],
   "source": [
    "# pie chart of career steals for all players\n",
    "\n",
    "df_steals=df_all.groupby('Name')['STL'].sum().reset_index()\n",
    "\n",
    "hovertemp = \"<b>Name:</b> %{label}<br>\" \\\n",
    "            \"<b>Number of Career Assists:</b> %{value:,.0f}<br>\" \\\n",
    "            \"<b>Percentage:</b> %{percent:,.0%}<extra></extra>\"\n",
    "\n",
    "fig = px.pie(df_steals, values='STL', names='Name', title='Percentage of NBA Career Steals by Dream Team Members', \n",
    "             color_discrete_sequence=px.colors.sequential.RdBu, height=600).update_traces(hovertemplate=hovertemp,texttemplate='%{percent:,.0%}')\n",
    "fig.show()"
   ]
  },
  {
   "cell_type": "code",
   "execution_count": null,
   "id": "05fa1ae0",
   "metadata": {},
   "outputs": [
    {
     "data": {
      "application/vnd.plotly.v1+json": {
       "config": {
        "plotlyServerURL": "https://plot.ly"
       },
       "data": [
        {
         "domain": {
          "x": [
           0,
           1
          ],
          "y": [
           0,
           1
          ]
         },
         "hovertemplate": "<b>Name:</b> %{label}<br><b>Number of Career Assists:</b> %{value:,.0f}<br><b>Percentage:</b> %{percent:,.0%}<extra></extra>",
         "labels": [
          "Charles Barkley",
          "Chris Mullin",
          "Christian Laettner",
          "Clyde Drexler",
          "David Robinson",
          "John Stockton",
          "Karl Malone",
          "Larry Bird",
          "Magic Johnson",
          "Michael Jordan",
          "Patrick Ewing",
          "Scottie Pippen"
         ],
         "legendgroup": "",
         "name": "",
         "showlegend": true,
         "texttemplate": "%{percent:,.0%}",
         "type": "pie",
         "values": {
          "bdata": "dxB6DfEJVxmJCb49gBQ/Fp0nARanCPcX",
          "dtype": "i2"
         }
        }
       ],
       "layout": {
        "height": 600,
        "legend": {
         "tracegroupgap": 0
        },
        "piecolorway": [
         "rgb(103,0,31)",
         "rgb(178,24,43)",
         "rgb(214,96,77)",
         "rgb(244,165,130)",
         "rgb(253,219,199)",
         "rgb(247,247,247)",
         "rgb(209,229,240)",
         "rgb(146,197,222)",
         "rgb(67,147,195)",
         "rgb(33,102,172)",
         "rgb(5,48,97)"
        ],
        "template": {
         "data": {
          "bar": [
           {
            "error_x": {
             "color": "#2a3f5f"
            },
            "error_y": {
             "color": "#2a3f5f"
            },
            "marker": {
             "line": {
              "color": "#E5ECF6",
              "width": 0.5
             },
             "pattern": {
              "fillmode": "overlay",
              "size": 10,
              "solidity": 0.2
             }
            },
            "type": "bar"
           }
          ],
          "barpolar": [
           {
            "marker": {
             "line": {
              "color": "#E5ECF6",
              "width": 0.5
             },
             "pattern": {
              "fillmode": "overlay",
              "size": 10,
              "solidity": 0.2
             }
            },
            "type": "barpolar"
           }
          ],
          "carpet": [
           {
            "aaxis": {
             "endlinecolor": "#2a3f5f",
             "gridcolor": "white",
             "linecolor": "white",
             "minorgridcolor": "white",
             "startlinecolor": "#2a3f5f"
            },
            "baxis": {
             "endlinecolor": "#2a3f5f",
             "gridcolor": "white",
             "linecolor": "white",
             "minorgridcolor": "white",
             "startlinecolor": "#2a3f5f"
            },
            "type": "carpet"
           }
          ],
          "choropleth": [
           {
            "colorbar": {
             "outlinewidth": 0,
             "ticks": ""
            },
            "type": "choropleth"
           }
          ],
          "contour": [
           {
            "colorbar": {
             "outlinewidth": 0,
             "ticks": ""
            },
            "colorscale": [
             [
              0,
              "#0d0887"
             ],
             [
              0.1111111111111111,
              "#46039f"
             ],
             [
              0.2222222222222222,
              "#7201a8"
             ],
             [
              0.3333333333333333,
              "#9c179e"
             ],
             [
              0.4444444444444444,
              "#bd3786"
             ],
             [
              0.5555555555555556,
              "#d8576b"
             ],
             [
              0.6666666666666666,
              "#ed7953"
             ],
             [
              0.7777777777777778,
              "#fb9f3a"
             ],
             [
              0.8888888888888888,
              "#fdca26"
             ],
             [
              1,
              "#f0f921"
             ]
            ],
            "type": "contour"
           }
          ],
          "contourcarpet": [
           {
            "colorbar": {
             "outlinewidth": 0,
             "ticks": ""
            },
            "type": "contourcarpet"
           }
          ],
          "heatmap": [
           {
            "colorbar": {
             "outlinewidth": 0,
             "ticks": ""
            },
            "colorscale": [
             [
              0,
              "#0d0887"
             ],
             [
              0.1111111111111111,
              "#46039f"
             ],
             [
              0.2222222222222222,
              "#7201a8"
             ],
             [
              0.3333333333333333,
              "#9c179e"
             ],
             [
              0.4444444444444444,
              "#bd3786"
             ],
             [
              0.5555555555555556,
              "#d8576b"
             ],
             [
              0.6666666666666666,
              "#ed7953"
             ],
             [
              0.7777777777777778,
              "#fb9f3a"
             ],
             [
              0.8888888888888888,
              "#fdca26"
             ],
             [
              1,
              "#f0f921"
             ]
            ],
            "type": "heatmap"
           }
          ],
          "histogram": [
           {
            "marker": {
             "pattern": {
              "fillmode": "overlay",
              "size": 10,
              "solidity": 0.2
             }
            },
            "type": "histogram"
           }
          ],
          "histogram2d": [
           {
            "colorbar": {
             "outlinewidth": 0,
             "ticks": ""
            },
            "colorscale": [
             [
              0,
              "#0d0887"
             ],
             [
              0.1111111111111111,
              "#46039f"
             ],
             [
              0.2222222222222222,
              "#7201a8"
             ],
             [
              0.3333333333333333,
              "#9c179e"
             ],
             [
              0.4444444444444444,
              "#bd3786"
             ],
             [
              0.5555555555555556,
              "#d8576b"
             ],
             [
              0.6666666666666666,
              "#ed7953"
             ],
             [
              0.7777777777777778,
              "#fb9f3a"
             ],
             [
              0.8888888888888888,
              "#fdca26"
             ],
             [
              1,
              "#f0f921"
             ]
            ],
            "type": "histogram2d"
           }
          ],
          "histogram2dcontour": [
           {
            "colorbar": {
             "outlinewidth": 0,
             "ticks": ""
            },
            "colorscale": [
             [
              0,
              "#0d0887"
             ],
             [
              0.1111111111111111,
              "#46039f"
             ],
             [
              0.2222222222222222,
              "#7201a8"
             ],
             [
              0.3333333333333333,
              "#9c179e"
             ],
             [
              0.4444444444444444,
              "#bd3786"
             ],
             [
              0.5555555555555556,
              "#d8576b"
             ],
             [
              0.6666666666666666,
              "#ed7953"
             ],
             [
              0.7777777777777778,
              "#fb9f3a"
             ],
             [
              0.8888888888888888,
              "#fdca26"
             ],
             [
              1,
              "#f0f921"
             ]
            ],
            "type": "histogram2dcontour"
           }
          ],
          "mesh3d": [
           {
            "colorbar": {
             "outlinewidth": 0,
             "ticks": ""
            },
            "type": "mesh3d"
           }
          ],
          "parcoords": [
           {
            "line": {
             "colorbar": {
              "outlinewidth": 0,
              "ticks": ""
             }
            },
            "type": "parcoords"
           }
          ],
          "pie": [
           {
            "automargin": true,
            "type": "pie"
           }
          ],
          "scatter": [
           {
            "fillpattern": {
             "fillmode": "overlay",
             "size": 10,
             "solidity": 0.2
            },
            "type": "scatter"
           }
          ],
          "scatter3d": [
           {
            "line": {
             "colorbar": {
              "outlinewidth": 0,
              "ticks": ""
             }
            },
            "marker": {
             "colorbar": {
              "outlinewidth": 0,
              "ticks": ""
             }
            },
            "type": "scatter3d"
           }
          ],
          "scattercarpet": [
           {
            "marker": {
             "colorbar": {
              "outlinewidth": 0,
              "ticks": ""
             }
            },
            "type": "scattercarpet"
           }
          ],
          "scattergeo": [
           {
            "marker": {
             "colorbar": {
              "outlinewidth": 0,
              "ticks": ""
             }
            },
            "type": "scattergeo"
           }
          ],
          "scattergl": [
           {
            "marker": {
             "colorbar": {
              "outlinewidth": 0,
              "ticks": ""
             }
            },
            "type": "scattergl"
           }
          ],
          "scattermap": [
           {
            "marker": {
             "colorbar": {
              "outlinewidth": 0,
              "ticks": ""
             }
            },
            "type": "scattermap"
           }
          ],
          "scattermapbox": [
           {
            "marker": {
             "colorbar": {
              "outlinewidth": 0,
              "ticks": ""
             }
            },
            "type": "scattermapbox"
           }
          ],
          "scatterpolar": [
           {
            "marker": {
             "colorbar": {
              "outlinewidth": 0,
              "ticks": ""
             }
            },
            "type": "scatterpolar"
           }
          ],
          "scatterpolargl": [
           {
            "marker": {
             "colorbar": {
              "outlinewidth": 0,
              "ticks": ""
             }
            },
            "type": "scatterpolargl"
           }
          ],
          "scatterternary": [
           {
            "marker": {
             "colorbar": {
              "outlinewidth": 0,
              "ticks": ""
             }
            },
            "type": "scatterternary"
           }
          ],
          "surface": [
           {
            "colorbar": {
             "outlinewidth": 0,
             "ticks": ""
            },
            "colorscale": [
             [
              0,
              "#0d0887"
             ],
             [
              0.1111111111111111,
              "#46039f"
             ],
             [
              0.2222222222222222,
              "#7201a8"
             ],
             [
              0.3333333333333333,
              "#9c179e"
             ],
             [
              0.4444444444444444,
              "#bd3786"
             ],
             [
              0.5555555555555556,
              "#d8576b"
             ],
             [
              0.6666666666666666,
              "#ed7953"
             ],
             [
              0.7777777777777778,
              "#fb9f3a"
             ],
             [
              0.8888888888888888,
              "#fdca26"
             ],
             [
              1,
              "#f0f921"
             ]
            ],
            "type": "surface"
           }
          ],
          "table": [
           {
            "cells": {
             "fill": {
              "color": "#EBF0F8"
             },
             "line": {
              "color": "white"
             }
            },
            "header": {
             "fill": {
              "color": "#C8D4E3"
             },
             "line": {
              "color": "white"
             }
            },
            "type": "table"
           }
          ]
         },
         "layout": {
          "annotationdefaults": {
           "arrowcolor": "#2a3f5f",
           "arrowhead": 0,
           "arrowwidth": 1
          },
          "autotypenumbers": "strict",
          "coloraxis": {
           "colorbar": {
            "outlinewidth": 0,
            "ticks": ""
           }
          },
          "colorscale": {
           "diverging": [
            [
             0,
             "#8e0152"
            ],
            [
             0.1,
             "#c51b7d"
            ],
            [
             0.2,
             "#de77ae"
            ],
            [
             0.3,
             "#f1b6da"
            ],
            [
             0.4,
             "#fde0ef"
            ],
            [
             0.5,
             "#f7f7f7"
            ],
            [
             0.6,
             "#e6f5d0"
            ],
            [
             0.7,
             "#b8e186"
            ],
            [
             0.8,
             "#7fbc41"
            ],
            [
             0.9,
             "#4d9221"
            ],
            [
             1,
             "#276419"
            ]
           ],
           "sequential": [
            [
             0,
             "#0d0887"
            ],
            [
             0.1111111111111111,
             "#46039f"
            ],
            [
             0.2222222222222222,
             "#7201a8"
            ],
            [
             0.3333333333333333,
             "#9c179e"
            ],
            [
             0.4444444444444444,
             "#bd3786"
            ],
            [
             0.5555555555555556,
             "#d8576b"
            ],
            [
             0.6666666666666666,
             "#ed7953"
            ],
            [
             0.7777777777777778,
             "#fb9f3a"
            ],
            [
             0.8888888888888888,
             "#fdca26"
            ],
            [
             1,
             "#f0f921"
            ]
           ],
           "sequentialminus": [
            [
             0,
             "#0d0887"
            ],
            [
             0.1111111111111111,
             "#46039f"
            ],
            [
             0.2222222222222222,
             "#7201a8"
            ],
            [
             0.3333333333333333,
             "#9c179e"
            ],
            [
             0.4444444444444444,
             "#bd3786"
            ],
            [
             0.5555555555555556,
             "#d8576b"
            ],
            [
             0.6666666666666666,
             "#ed7953"
            ],
            [
             0.7777777777777778,
             "#fb9f3a"
            ],
            [
             0.8888888888888888,
             "#fdca26"
            ],
            [
             1,
             "#f0f921"
            ]
           ]
          },
          "colorway": [
           "#636efa",
           "#EF553B",
           "#00cc96",
           "#ab63fa",
           "#FFA15A",
           "#19d3f3",
           "#FF6692",
           "#B6E880",
           "#FF97FF",
           "#FECB52"
          ],
          "font": {
           "color": "#2a3f5f"
          },
          "geo": {
           "bgcolor": "white",
           "lakecolor": "white",
           "landcolor": "#E5ECF6",
           "showlakes": true,
           "showland": true,
           "subunitcolor": "white"
          },
          "hoverlabel": {
           "align": "left"
          },
          "hovermode": "closest",
          "mapbox": {
           "style": "light"
          },
          "paper_bgcolor": "white",
          "plot_bgcolor": "#E5ECF6",
          "polar": {
           "angularaxis": {
            "gridcolor": "white",
            "linecolor": "white",
            "ticks": ""
           },
           "bgcolor": "#E5ECF6",
           "radialaxis": {
            "gridcolor": "white",
            "linecolor": "white",
            "ticks": ""
           }
          },
          "scene": {
           "xaxis": {
            "backgroundcolor": "#E5ECF6",
            "gridcolor": "white",
            "gridwidth": 2,
            "linecolor": "white",
            "showbackground": true,
            "ticks": "",
            "zerolinecolor": "white"
           },
           "yaxis": {
            "backgroundcolor": "#E5ECF6",
            "gridcolor": "white",
            "gridwidth": 2,
            "linecolor": "white",
            "showbackground": true,
            "ticks": "",
            "zerolinecolor": "white"
           },
           "zaxis": {
            "backgroundcolor": "#E5ECF6",
            "gridcolor": "white",
            "gridwidth": 2,
            "linecolor": "white",
            "showbackground": true,
            "ticks": "",
            "zerolinecolor": "white"
           }
          },
          "shapedefaults": {
           "line": {
            "color": "#2a3f5f"
           }
          },
          "ternary": {
           "aaxis": {
            "gridcolor": "white",
            "linecolor": "white",
            "ticks": ""
           },
           "baxis": {
            "gridcolor": "white",
            "linecolor": "white",
            "ticks": ""
           },
           "bgcolor": "#E5ECF6",
           "caxis": {
            "gridcolor": "white",
            "linecolor": "white",
            "ticks": ""
           }
          },
          "title": {
           "x": 0.05
          },
          "xaxis": {
           "automargin": true,
           "gridcolor": "white",
           "linecolor": "white",
           "ticks": "",
           "title": {
            "standoff": 15
           },
           "zerolinecolor": "white",
           "zerolinewidth": 2
          },
          "yaxis": {
           "automargin": true,
           "gridcolor": "white",
           "linecolor": "white",
           "ticks": "",
           "title": {
            "standoff": 15
           },
           "zerolinecolor": "white",
           "zerolinewidth": 2
          }
         }
        },
        "title": {
         "text": "Percentage of NBA Career Assists, by player"
        }
       }
      }
     },
     "metadata": {},
     "output_type": "display_data"
    }
   ],
   "source": [
    "# pie chart of career assists for all players\n",
    "\n",
    "df_assists=df_all.groupby('Name')['AST'].sum().reset_index()\n",
    "\n",
    "hovertemp = \"<b>Name:</b> %{label}<br>\" \\\n",
    "            \"<b>Number of Career Assists:</b> %{value:,.0f}<br>\" \\\n",
    "            \"<b>Percentage:</b> %{percent:,.0%}<extra></extra>\"\n",
    "\n",
    "fig = px.pie(df_assists, values='AST', names='Name', title='Percentage of NBA Career Assists, by player', \n",
    "             color_discrete_sequence=px.colors.sequential.RdBu, height=600).update_traces(hovertemplate=hovertemp,texttemplate='%{percent:,.0%}')\n",
    "fig.show()\n",
    "\n"
   ]
  },
  {
   "cell_type": "code",
   "execution_count": null,
   "id": "f8e715bd",
   "metadata": {},
   "outputs": [
    {
     "data": {
      "application/vnd.plotly.v1+json": {
       "config": {
        "plotlyServerURL": "https://plot.ly"
       },
       "data": [
        {
         "hovertemplate": "<b>Name:</b> %{label}<br><b>Number of Career Blocks:</b> %{value:,.0f}<br>",
         "legendgroup": "",
         "marker": {
          "color": "purple",
          "pattern": {
           "shape": ""
          }
         },
         "name": "",
         "orientation": "h",
         "showlegend": false,
         "textposition": "auto",
         "type": "bar",
         "x": {
          "bdata": "eAPzAvwCTgt2AX0DGAN5BCUCswOKCzsB",
          "dtype": "i2"
         },
         "xaxis": "x",
         "y": [
          "Charles Barkley",
          "Larry Bird",
          "Clyde Drexler",
          "Patrick Ewing",
          "Magic Johnson",
          "Michael Jordan",
          "Christian Laettner",
          "Karl Malone",
          "Chris Mullin",
          "Scottie Pippen",
          "David Robinson",
          "John Stockton"
         ],
         "yaxis": "y"
        }
       ],
       "layout": {
        "barmode": "relative",
        "height": 800,
        "legend": {
         "tracegroupgap": 0
        },
        "plot_bgcolor": "tan",
        "template": {
         "data": {
          "bar": [
           {
            "error_x": {
             "color": "#2a3f5f"
            },
            "error_y": {
             "color": "#2a3f5f"
            },
            "marker": {
             "line": {
              "color": "#E5ECF6",
              "width": 0.5
             },
             "pattern": {
              "fillmode": "overlay",
              "size": 10,
              "solidity": 0.2
             }
            },
            "type": "bar"
           }
          ],
          "barpolar": [
           {
            "marker": {
             "line": {
              "color": "#E5ECF6",
              "width": 0.5
             },
             "pattern": {
              "fillmode": "overlay",
              "size": 10,
              "solidity": 0.2
             }
            },
            "type": "barpolar"
           }
          ],
          "carpet": [
           {
            "aaxis": {
             "endlinecolor": "#2a3f5f",
             "gridcolor": "white",
             "linecolor": "white",
             "minorgridcolor": "white",
             "startlinecolor": "#2a3f5f"
            },
            "baxis": {
             "endlinecolor": "#2a3f5f",
             "gridcolor": "white",
             "linecolor": "white",
             "minorgridcolor": "white",
             "startlinecolor": "#2a3f5f"
            },
            "type": "carpet"
           }
          ],
          "choropleth": [
           {
            "colorbar": {
             "outlinewidth": 0,
             "ticks": ""
            },
            "type": "choropleth"
           }
          ],
          "contour": [
           {
            "colorbar": {
             "outlinewidth": 0,
             "ticks": ""
            },
            "colorscale": [
             [
              0,
              "#0d0887"
             ],
             [
              0.1111111111111111,
              "#46039f"
             ],
             [
              0.2222222222222222,
              "#7201a8"
             ],
             [
              0.3333333333333333,
              "#9c179e"
             ],
             [
              0.4444444444444444,
              "#bd3786"
             ],
             [
              0.5555555555555556,
              "#d8576b"
             ],
             [
              0.6666666666666666,
              "#ed7953"
             ],
             [
              0.7777777777777778,
              "#fb9f3a"
             ],
             [
              0.8888888888888888,
              "#fdca26"
             ],
             [
              1,
              "#f0f921"
             ]
            ],
            "type": "contour"
           }
          ],
          "contourcarpet": [
           {
            "colorbar": {
             "outlinewidth": 0,
             "ticks": ""
            },
            "type": "contourcarpet"
           }
          ],
          "heatmap": [
           {
            "colorbar": {
             "outlinewidth": 0,
             "ticks": ""
            },
            "colorscale": [
             [
              0,
              "#0d0887"
             ],
             [
              0.1111111111111111,
              "#46039f"
             ],
             [
              0.2222222222222222,
              "#7201a8"
             ],
             [
              0.3333333333333333,
              "#9c179e"
             ],
             [
              0.4444444444444444,
              "#bd3786"
             ],
             [
              0.5555555555555556,
              "#d8576b"
             ],
             [
              0.6666666666666666,
              "#ed7953"
             ],
             [
              0.7777777777777778,
              "#fb9f3a"
             ],
             [
              0.8888888888888888,
              "#fdca26"
             ],
             [
              1,
              "#f0f921"
             ]
            ],
            "type": "heatmap"
           }
          ],
          "histogram": [
           {
            "marker": {
             "pattern": {
              "fillmode": "overlay",
              "size": 10,
              "solidity": 0.2
             }
            },
            "type": "histogram"
           }
          ],
          "histogram2d": [
           {
            "colorbar": {
             "outlinewidth": 0,
             "ticks": ""
            },
            "colorscale": [
             [
              0,
              "#0d0887"
             ],
             [
              0.1111111111111111,
              "#46039f"
             ],
             [
              0.2222222222222222,
              "#7201a8"
             ],
             [
              0.3333333333333333,
              "#9c179e"
             ],
             [
              0.4444444444444444,
              "#bd3786"
             ],
             [
              0.5555555555555556,
              "#d8576b"
             ],
             [
              0.6666666666666666,
              "#ed7953"
             ],
             [
              0.7777777777777778,
              "#fb9f3a"
             ],
             [
              0.8888888888888888,
              "#fdca26"
             ],
             [
              1,
              "#f0f921"
             ]
            ],
            "type": "histogram2d"
           }
          ],
          "histogram2dcontour": [
           {
            "colorbar": {
             "outlinewidth": 0,
             "ticks": ""
            },
            "colorscale": [
             [
              0,
              "#0d0887"
             ],
             [
              0.1111111111111111,
              "#46039f"
             ],
             [
              0.2222222222222222,
              "#7201a8"
             ],
             [
              0.3333333333333333,
              "#9c179e"
             ],
             [
              0.4444444444444444,
              "#bd3786"
             ],
             [
              0.5555555555555556,
              "#d8576b"
             ],
             [
              0.6666666666666666,
              "#ed7953"
             ],
             [
              0.7777777777777778,
              "#fb9f3a"
             ],
             [
              0.8888888888888888,
              "#fdca26"
             ],
             [
              1,
              "#f0f921"
             ]
            ],
            "type": "histogram2dcontour"
           }
          ],
          "mesh3d": [
           {
            "colorbar": {
             "outlinewidth": 0,
             "ticks": ""
            },
            "type": "mesh3d"
           }
          ],
          "parcoords": [
           {
            "line": {
             "colorbar": {
              "outlinewidth": 0,
              "ticks": ""
             }
            },
            "type": "parcoords"
           }
          ],
          "pie": [
           {
            "automargin": true,
            "type": "pie"
           }
          ],
          "scatter": [
           {
            "fillpattern": {
             "fillmode": "overlay",
             "size": 10,
             "solidity": 0.2
            },
            "type": "scatter"
           }
          ],
          "scatter3d": [
           {
            "line": {
             "colorbar": {
              "outlinewidth": 0,
              "ticks": ""
             }
            },
            "marker": {
             "colorbar": {
              "outlinewidth": 0,
              "ticks": ""
             }
            },
            "type": "scatter3d"
           }
          ],
          "scattercarpet": [
           {
            "marker": {
             "colorbar": {
              "outlinewidth": 0,
              "ticks": ""
             }
            },
            "type": "scattercarpet"
           }
          ],
          "scattergeo": [
           {
            "marker": {
             "colorbar": {
              "outlinewidth": 0,
              "ticks": ""
             }
            },
            "type": "scattergeo"
           }
          ],
          "scattergl": [
           {
            "marker": {
             "colorbar": {
              "outlinewidth": 0,
              "ticks": ""
             }
            },
            "type": "scattergl"
           }
          ],
          "scattermap": [
           {
            "marker": {
             "colorbar": {
              "outlinewidth": 0,
              "ticks": ""
             }
            },
            "type": "scattermap"
           }
          ],
          "scattermapbox": [
           {
            "marker": {
             "colorbar": {
              "outlinewidth": 0,
              "ticks": ""
             }
            },
            "type": "scattermapbox"
           }
          ],
          "scatterpolar": [
           {
            "marker": {
             "colorbar": {
              "outlinewidth": 0,
              "ticks": ""
             }
            },
            "type": "scatterpolar"
           }
          ],
          "scatterpolargl": [
           {
            "marker": {
             "colorbar": {
              "outlinewidth": 0,
              "ticks": ""
             }
            },
            "type": "scatterpolargl"
           }
          ],
          "scatterternary": [
           {
            "marker": {
             "colorbar": {
              "outlinewidth": 0,
              "ticks": ""
             }
            },
            "type": "scatterternary"
           }
          ],
          "surface": [
           {
            "colorbar": {
             "outlinewidth": 0,
             "ticks": ""
            },
            "colorscale": [
             [
              0,
              "#0d0887"
             ],
             [
              0.1111111111111111,
              "#46039f"
             ],
             [
              0.2222222222222222,
              "#7201a8"
             ],
             [
              0.3333333333333333,
              "#9c179e"
             ],
             [
              0.4444444444444444,
              "#bd3786"
             ],
             [
              0.5555555555555556,
              "#d8576b"
             ],
             [
              0.6666666666666666,
              "#ed7953"
             ],
             [
              0.7777777777777778,
              "#fb9f3a"
             ],
             [
              0.8888888888888888,
              "#fdca26"
             ],
             [
              1,
              "#f0f921"
             ]
            ],
            "type": "surface"
           }
          ],
          "table": [
           {
            "cells": {
             "fill": {
              "color": "#EBF0F8"
             },
             "line": {
              "color": "white"
             }
            },
            "header": {
             "fill": {
              "color": "#C8D4E3"
             },
             "line": {
              "color": "white"
             }
            },
            "type": "table"
           }
          ]
         },
         "layout": {
          "annotationdefaults": {
           "arrowcolor": "#2a3f5f",
           "arrowhead": 0,
           "arrowwidth": 1
          },
          "autotypenumbers": "strict",
          "coloraxis": {
           "colorbar": {
            "outlinewidth": 0,
            "ticks": ""
           }
          },
          "colorscale": {
           "diverging": [
            [
             0,
             "#8e0152"
            ],
            [
             0.1,
             "#c51b7d"
            ],
            [
             0.2,
             "#de77ae"
            ],
            [
             0.3,
             "#f1b6da"
            ],
            [
             0.4,
             "#fde0ef"
            ],
            [
             0.5,
             "#f7f7f7"
            ],
            [
             0.6,
             "#e6f5d0"
            ],
            [
             0.7,
             "#b8e186"
            ],
            [
             0.8,
             "#7fbc41"
            ],
            [
             0.9,
             "#4d9221"
            ],
            [
             1,
             "#276419"
            ]
           ],
           "sequential": [
            [
             0,
             "#0d0887"
            ],
            [
             0.1111111111111111,
             "#46039f"
            ],
            [
             0.2222222222222222,
             "#7201a8"
            ],
            [
             0.3333333333333333,
             "#9c179e"
            ],
            [
             0.4444444444444444,
             "#bd3786"
            ],
            [
             0.5555555555555556,
             "#d8576b"
            ],
            [
             0.6666666666666666,
             "#ed7953"
            ],
            [
             0.7777777777777778,
             "#fb9f3a"
            ],
            [
             0.8888888888888888,
             "#fdca26"
            ],
            [
             1,
             "#f0f921"
            ]
           ],
           "sequentialminus": [
            [
             0,
             "#0d0887"
            ],
            [
             0.1111111111111111,
             "#46039f"
            ],
            [
             0.2222222222222222,
             "#7201a8"
            ],
            [
             0.3333333333333333,
             "#9c179e"
            ],
            [
             0.4444444444444444,
             "#bd3786"
            ],
            [
             0.5555555555555556,
             "#d8576b"
            ],
            [
             0.6666666666666666,
             "#ed7953"
            ],
            [
             0.7777777777777778,
             "#fb9f3a"
            ],
            [
             0.8888888888888888,
             "#fdca26"
            ],
            [
             1,
             "#f0f921"
            ]
           ]
          },
          "colorway": [
           "#636efa",
           "#EF553B",
           "#00cc96",
           "#ab63fa",
           "#FFA15A",
           "#19d3f3",
           "#FF6692",
           "#B6E880",
           "#FF97FF",
           "#FECB52"
          ],
          "font": {
           "color": "#2a3f5f"
          },
          "geo": {
           "bgcolor": "white",
           "lakecolor": "white",
           "landcolor": "#E5ECF6",
           "showlakes": true,
           "showland": true,
           "subunitcolor": "white"
          },
          "hoverlabel": {
           "align": "left"
          },
          "hovermode": "closest",
          "mapbox": {
           "style": "light"
          },
          "paper_bgcolor": "white",
          "plot_bgcolor": "#E5ECF6",
          "polar": {
           "angularaxis": {
            "gridcolor": "white",
            "linecolor": "white",
            "ticks": ""
           },
           "bgcolor": "#E5ECF6",
           "radialaxis": {
            "gridcolor": "white",
            "linecolor": "white",
            "ticks": ""
           }
          },
          "scene": {
           "xaxis": {
            "backgroundcolor": "#E5ECF6",
            "gridcolor": "white",
            "gridwidth": 2,
            "linecolor": "white",
            "showbackground": true,
            "ticks": "",
            "zerolinecolor": "white"
           },
           "yaxis": {
            "backgroundcolor": "#E5ECF6",
            "gridcolor": "white",
            "gridwidth": 2,
            "linecolor": "white",
            "showbackground": true,
            "ticks": "",
            "zerolinecolor": "white"
           },
           "zaxis": {
            "backgroundcolor": "#E5ECF6",
            "gridcolor": "white",
            "gridwidth": 2,
            "linecolor": "white",
            "showbackground": true,
            "ticks": "",
            "zerolinecolor": "white"
           }
          },
          "shapedefaults": {
           "line": {
            "color": "#2a3f5f"
           }
          },
          "ternary": {
           "aaxis": {
            "gridcolor": "white",
            "linecolor": "white",
            "ticks": ""
           },
           "baxis": {
            "gridcolor": "white",
            "linecolor": "white",
            "ticks": ""
           },
           "bgcolor": "#E5ECF6",
           "caxis": {
            "gridcolor": "white",
            "linecolor": "white",
            "ticks": ""
           }
          },
          "title": {
           "x": 0.05
          },
          "xaxis": {
           "automargin": true,
           "gridcolor": "white",
           "linecolor": "white",
           "ticks": "",
           "title": {
            "standoff": 15
           },
           "zerolinecolor": "white",
           "zerolinewidth": 2
          },
          "yaxis": {
           "automargin": true,
           "gridcolor": "white",
           "linecolor": "white",
           "ticks": "",
           "title": {
            "standoff": 15
           },
           "zerolinecolor": "white",
           "zerolinewidth": 2
          }
         }
        },
        "title": {
         "text": "Total NBA Career Blocks, by player"
        },
        "xaxis": {
         "anchor": "y",
         "domain": [
          0,
          1
         ],
         "showgrid": false,
         "tickformat": ",",
         "title": {
          "text": "Total Career Blocks"
         }
        },
        "yaxis": {
         "anchor": "x",
         "autorange": "reversed",
         "domain": [
          0,
          1
         ],
         "title": {
          "text": "Player"
         }
        }
       }
      }
     },
     "metadata": {},
     "output_type": "display_data"
    }
   ],
   "source": [
    "# bar chart for the number of career blocks\n",
    "blks_sums=[]\n",
    "\n",
    "for x in roster:\n",
    "    i=sum(df_all['BLK'][df_all['Name']==x])\n",
    "    blks_sums.append(i)\n",
    "\n",
    "combine={'Name':roster,'Blocks':blks_sums}\n",
    "career_blocks=pd.DataFrame(combine)\n",
    "\n",
    "hovertemp = \"<b>Name:</b> %{label}<br>\" \\\n",
    "            \"<b>Number of Career Blocks:</b> %{value:,.0f}<br>\" \n",
    "\n",
    "fig = px.bar(career_blocks, x=\"Blocks\", y=\"Name\", \n",
    "             hover_data={'Blocks': '{value:,.0f}'}, orientation='h', color_discrete_sequence=['purple'], \n",
    "             height=800,labels={'Name': 'Player', 'Blocks':'Total Career Blocks'},\n",
    "             title='Total NBA Career Blocks, by player').update_yaxes(autorange='reversed').update_layout(plot_bgcolor='tan',xaxis=dict(tickformat=\",\")).update_xaxes(showgrid=False).update_traces(hovertemplate=hovertemp)\n",
    "fig.show()"
   ]
  },
  {
   "cell_type": "code",
   "execution_count": null,
   "id": "cc0c088a",
   "metadata": {},
   "outputs": [
    {
     "data": {
      "application/vnd.plotly.v1+json": {
       "config": {
        "plotlyServerURL": "https://plot.ly"
       },
       "data": [
        {
         "domain": {
          "x": [
           0,
           1
          ],
          "y": [
           0,
           1
          ]
         },
         "hovertemplate": "<b>Name:</b> %{label}<br><b>Number of Career Personal Fouls:</b> %{value:,.0f}<br><b>Percentage:</b> %{percent:,.0%}<extra></extra>",
         "labels": [
          "Charles Barkley",
          "Chris Mullin",
          "Christian Laettner",
          "Clyde Drexler",
          "David Robinson",
          "John Stockton",
          "Karl Malone",
          "Larry Bird",
          "Magic Johnson",
          "Michael Jordan",
          "Patrick Ewing",
          "Scottie Pippen"
         ],
         "legendgroup": "",
         "name": "",
         "showlegend": true,
         "texttemplate": "%{percent:,.0%}",
         "type": "pie",
         "values": {
          "bdata": "1wwCCNYMow0TC2YP4hHnCAII3wrCDwEN",
          "dtype": "i2"
         }
        }
       ],
       "layout": {
        "height": 600,
        "legend": {
         "tracegroupgap": 0
        },
        "piecolorway": [
         "rgb(103,0,31)",
         "rgb(178,24,43)",
         "rgb(214,96,77)",
         "rgb(244,165,130)",
         "rgb(253,219,199)",
         "rgb(247,247,247)",
         "rgb(209,229,240)",
         "rgb(146,197,222)",
         "rgb(67,147,195)",
         "rgb(33,102,172)",
         "rgb(5,48,97)"
        ],
        "template": {
         "data": {
          "bar": [
           {
            "error_x": {
             "color": "#2a3f5f"
            },
            "error_y": {
             "color": "#2a3f5f"
            },
            "marker": {
             "line": {
              "color": "#E5ECF6",
              "width": 0.5
             },
             "pattern": {
              "fillmode": "overlay",
              "size": 10,
              "solidity": 0.2
             }
            },
            "type": "bar"
           }
          ],
          "barpolar": [
           {
            "marker": {
             "line": {
              "color": "#E5ECF6",
              "width": 0.5
             },
             "pattern": {
              "fillmode": "overlay",
              "size": 10,
              "solidity": 0.2
             }
            },
            "type": "barpolar"
           }
          ],
          "carpet": [
           {
            "aaxis": {
             "endlinecolor": "#2a3f5f",
             "gridcolor": "white",
             "linecolor": "white",
             "minorgridcolor": "white",
             "startlinecolor": "#2a3f5f"
            },
            "baxis": {
             "endlinecolor": "#2a3f5f",
             "gridcolor": "white",
             "linecolor": "white",
             "minorgridcolor": "white",
             "startlinecolor": "#2a3f5f"
            },
            "type": "carpet"
           }
          ],
          "choropleth": [
           {
            "colorbar": {
             "outlinewidth": 0,
             "ticks": ""
            },
            "type": "choropleth"
           }
          ],
          "contour": [
           {
            "colorbar": {
             "outlinewidth": 0,
             "ticks": ""
            },
            "colorscale": [
             [
              0,
              "#0d0887"
             ],
             [
              0.1111111111111111,
              "#46039f"
             ],
             [
              0.2222222222222222,
              "#7201a8"
             ],
             [
              0.3333333333333333,
              "#9c179e"
             ],
             [
              0.4444444444444444,
              "#bd3786"
             ],
             [
              0.5555555555555556,
              "#d8576b"
             ],
             [
              0.6666666666666666,
              "#ed7953"
             ],
             [
              0.7777777777777778,
              "#fb9f3a"
             ],
             [
              0.8888888888888888,
              "#fdca26"
             ],
             [
              1,
              "#f0f921"
             ]
            ],
            "type": "contour"
           }
          ],
          "contourcarpet": [
           {
            "colorbar": {
             "outlinewidth": 0,
             "ticks": ""
            },
            "type": "contourcarpet"
           }
          ],
          "heatmap": [
           {
            "colorbar": {
             "outlinewidth": 0,
             "ticks": ""
            },
            "colorscale": [
             [
              0,
              "#0d0887"
             ],
             [
              0.1111111111111111,
              "#46039f"
             ],
             [
              0.2222222222222222,
              "#7201a8"
             ],
             [
              0.3333333333333333,
              "#9c179e"
             ],
             [
              0.4444444444444444,
              "#bd3786"
             ],
             [
              0.5555555555555556,
              "#d8576b"
             ],
             [
              0.6666666666666666,
              "#ed7953"
             ],
             [
              0.7777777777777778,
              "#fb9f3a"
             ],
             [
              0.8888888888888888,
              "#fdca26"
             ],
             [
              1,
              "#f0f921"
             ]
            ],
            "type": "heatmap"
           }
          ],
          "histogram": [
           {
            "marker": {
             "pattern": {
              "fillmode": "overlay",
              "size": 10,
              "solidity": 0.2
             }
            },
            "type": "histogram"
           }
          ],
          "histogram2d": [
           {
            "colorbar": {
             "outlinewidth": 0,
             "ticks": ""
            },
            "colorscale": [
             [
              0,
              "#0d0887"
             ],
             [
              0.1111111111111111,
              "#46039f"
             ],
             [
              0.2222222222222222,
              "#7201a8"
             ],
             [
              0.3333333333333333,
              "#9c179e"
             ],
             [
              0.4444444444444444,
              "#bd3786"
             ],
             [
              0.5555555555555556,
              "#d8576b"
             ],
             [
              0.6666666666666666,
              "#ed7953"
             ],
             [
              0.7777777777777778,
              "#fb9f3a"
             ],
             [
              0.8888888888888888,
              "#fdca26"
             ],
             [
              1,
              "#f0f921"
             ]
            ],
            "type": "histogram2d"
           }
          ],
          "histogram2dcontour": [
           {
            "colorbar": {
             "outlinewidth": 0,
             "ticks": ""
            },
            "colorscale": [
             [
              0,
              "#0d0887"
             ],
             [
              0.1111111111111111,
              "#46039f"
             ],
             [
              0.2222222222222222,
              "#7201a8"
             ],
             [
              0.3333333333333333,
              "#9c179e"
             ],
             [
              0.4444444444444444,
              "#bd3786"
             ],
             [
              0.5555555555555556,
              "#d8576b"
             ],
             [
              0.6666666666666666,
              "#ed7953"
             ],
             [
              0.7777777777777778,
              "#fb9f3a"
             ],
             [
              0.8888888888888888,
              "#fdca26"
             ],
             [
              1,
              "#f0f921"
             ]
            ],
            "type": "histogram2dcontour"
           }
          ],
          "mesh3d": [
           {
            "colorbar": {
             "outlinewidth": 0,
             "ticks": ""
            },
            "type": "mesh3d"
           }
          ],
          "parcoords": [
           {
            "line": {
             "colorbar": {
              "outlinewidth": 0,
              "ticks": ""
             }
            },
            "type": "parcoords"
           }
          ],
          "pie": [
           {
            "automargin": true,
            "type": "pie"
           }
          ],
          "scatter": [
           {
            "fillpattern": {
             "fillmode": "overlay",
             "size": 10,
             "solidity": 0.2
            },
            "type": "scatter"
           }
          ],
          "scatter3d": [
           {
            "line": {
             "colorbar": {
              "outlinewidth": 0,
              "ticks": ""
             }
            },
            "marker": {
             "colorbar": {
              "outlinewidth": 0,
              "ticks": ""
             }
            },
            "type": "scatter3d"
           }
          ],
          "scattercarpet": [
           {
            "marker": {
             "colorbar": {
              "outlinewidth": 0,
              "ticks": ""
             }
            },
            "type": "scattercarpet"
           }
          ],
          "scattergeo": [
           {
            "marker": {
             "colorbar": {
              "outlinewidth": 0,
              "ticks": ""
             }
            },
            "type": "scattergeo"
           }
          ],
          "scattergl": [
           {
            "marker": {
             "colorbar": {
              "outlinewidth": 0,
              "ticks": ""
             }
            },
            "type": "scattergl"
           }
          ],
          "scattermap": [
           {
            "marker": {
             "colorbar": {
              "outlinewidth": 0,
              "ticks": ""
             }
            },
            "type": "scattermap"
           }
          ],
          "scattermapbox": [
           {
            "marker": {
             "colorbar": {
              "outlinewidth": 0,
              "ticks": ""
             }
            },
            "type": "scattermapbox"
           }
          ],
          "scatterpolar": [
           {
            "marker": {
             "colorbar": {
              "outlinewidth": 0,
              "ticks": ""
             }
            },
            "type": "scatterpolar"
           }
          ],
          "scatterpolargl": [
           {
            "marker": {
             "colorbar": {
              "outlinewidth": 0,
              "ticks": ""
             }
            },
            "type": "scatterpolargl"
           }
          ],
          "scatterternary": [
           {
            "marker": {
             "colorbar": {
              "outlinewidth": 0,
              "ticks": ""
             }
            },
            "type": "scatterternary"
           }
          ],
          "surface": [
           {
            "colorbar": {
             "outlinewidth": 0,
             "ticks": ""
            },
            "colorscale": [
             [
              0,
              "#0d0887"
             ],
             [
              0.1111111111111111,
              "#46039f"
             ],
             [
              0.2222222222222222,
              "#7201a8"
             ],
             [
              0.3333333333333333,
              "#9c179e"
             ],
             [
              0.4444444444444444,
              "#bd3786"
             ],
             [
              0.5555555555555556,
              "#d8576b"
             ],
             [
              0.6666666666666666,
              "#ed7953"
             ],
             [
              0.7777777777777778,
              "#fb9f3a"
             ],
             [
              0.8888888888888888,
              "#fdca26"
             ],
             [
              1,
              "#f0f921"
             ]
            ],
            "type": "surface"
           }
          ],
          "table": [
           {
            "cells": {
             "fill": {
              "color": "#EBF0F8"
             },
             "line": {
              "color": "white"
             }
            },
            "header": {
             "fill": {
              "color": "#C8D4E3"
             },
             "line": {
              "color": "white"
             }
            },
            "type": "table"
           }
          ]
         },
         "layout": {
          "annotationdefaults": {
           "arrowcolor": "#2a3f5f",
           "arrowhead": 0,
           "arrowwidth": 1
          },
          "autotypenumbers": "strict",
          "coloraxis": {
           "colorbar": {
            "outlinewidth": 0,
            "ticks": ""
           }
          },
          "colorscale": {
           "diverging": [
            [
             0,
             "#8e0152"
            ],
            [
             0.1,
             "#c51b7d"
            ],
            [
             0.2,
             "#de77ae"
            ],
            [
             0.3,
             "#f1b6da"
            ],
            [
             0.4,
             "#fde0ef"
            ],
            [
             0.5,
             "#f7f7f7"
            ],
            [
             0.6,
             "#e6f5d0"
            ],
            [
             0.7,
             "#b8e186"
            ],
            [
             0.8,
             "#7fbc41"
            ],
            [
             0.9,
             "#4d9221"
            ],
            [
             1,
             "#276419"
            ]
           ],
           "sequential": [
            [
             0,
             "#0d0887"
            ],
            [
             0.1111111111111111,
             "#46039f"
            ],
            [
             0.2222222222222222,
             "#7201a8"
            ],
            [
             0.3333333333333333,
             "#9c179e"
            ],
            [
             0.4444444444444444,
             "#bd3786"
            ],
            [
             0.5555555555555556,
             "#d8576b"
            ],
            [
             0.6666666666666666,
             "#ed7953"
            ],
            [
             0.7777777777777778,
             "#fb9f3a"
            ],
            [
             0.8888888888888888,
             "#fdca26"
            ],
            [
             1,
             "#f0f921"
            ]
           ],
           "sequentialminus": [
            [
             0,
             "#0d0887"
            ],
            [
             0.1111111111111111,
             "#46039f"
            ],
            [
             0.2222222222222222,
             "#7201a8"
            ],
            [
             0.3333333333333333,
             "#9c179e"
            ],
            [
             0.4444444444444444,
             "#bd3786"
            ],
            [
             0.5555555555555556,
             "#d8576b"
            ],
            [
             0.6666666666666666,
             "#ed7953"
            ],
            [
             0.7777777777777778,
             "#fb9f3a"
            ],
            [
             0.8888888888888888,
             "#fdca26"
            ],
            [
             1,
             "#f0f921"
            ]
           ]
          },
          "colorway": [
           "#636efa",
           "#EF553B",
           "#00cc96",
           "#ab63fa",
           "#FFA15A",
           "#19d3f3",
           "#FF6692",
           "#B6E880",
           "#FF97FF",
           "#FECB52"
          ],
          "font": {
           "color": "#2a3f5f"
          },
          "geo": {
           "bgcolor": "white",
           "lakecolor": "white",
           "landcolor": "#E5ECF6",
           "showlakes": true,
           "showland": true,
           "subunitcolor": "white"
          },
          "hoverlabel": {
           "align": "left"
          },
          "hovermode": "closest",
          "mapbox": {
           "style": "light"
          },
          "paper_bgcolor": "white",
          "plot_bgcolor": "#E5ECF6",
          "polar": {
           "angularaxis": {
            "gridcolor": "white",
            "linecolor": "white",
            "ticks": ""
           },
           "bgcolor": "#E5ECF6",
           "radialaxis": {
            "gridcolor": "white",
            "linecolor": "white",
            "ticks": ""
           }
          },
          "scene": {
           "xaxis": {
            "backgroundcolor": "#E5ECF6",
            "gridcolor": "white",
            "gridwidth": 2,
            "linecolor": "white",
            "showbackground": true,
            "ticks": "",
            "zerolinecolor": "white"
           },
           "yaxis": {
            "backgroundcolor": "#E5ECF6",
            "gridcolor": "white",
            "gridwidth": 2,
            "linecolor": "white",
            "showbackground": true,
            "ticks": "",
            "zerolinecolor": "white"
           },
           "zaxis": {
            "backgroundcolor": "#E5ECF6",
            "gridcolor": "white",
            "gridwidth": 2,
            "linecolor": "white",
            "showbackground": true,
            "ticks": "",
            "zerolinecolor": "white"
           }
          },
          "shapedefaults": {
           "line": {
            "color": "#2a3f5f"
           }
          },
          "ternary": {
           "aaxis": {
            "gridcolor": "white",
            "linecolor": "white",
            "ticks": ""
           },
           "baxis": {
            "gridcolor": "white",
            "linecolor": "white",
            "ticks": ""
           },
           "bgcolor": "#E5ECF6",
           "caxis": {
            "gridcolor": "white",
            "linecolor": "white",
            "ticks": ""
           }
          },
          "title": {
           "x": 0.05
          },
          "xaxis": {
           "automargin": true,
           "gridcolor": "white",
           "linecolor": "white",
           "ticks": "",
           "title": {
            "standoff": 15
           },
           "zerolinecolor": "white",
           "zerolinewidth": 2
          },
          "yaxis": {
           "automargin": true,
           "gridcolor": "white",
           "linecolor": "white",
           "ticks": "",
           "title": {
            "standoff": 15
           },
           "zerolinecolor": "white",
           "zerolinewidth": 2
          }
         }
        },
        "title": {
         "text": "Percentage of NBA Career Personal Fouls, by player"
        }
       }
      }
     },
     "metadata": {},
     "output_type": "display_data"
    }
   ],
   "source": [
    "# pie chart for career personal fouls for all players\n",
    "df_pf=df_all.groupby('Name')['PF'].sum().reset_index()\n",
    "\n",
    "hovertemp = \"<b>Name:</b> %{label}<br>\" \\\n",
    "            \"<b>Number of Career Personal Fouls:</b> %{value:,.0f}<br>\" \\\n",
    "            \"<b>Percentage:</b> %{percent:,.0%}<extra></extra>\"\n",
    "\n",
    "fig = px.pie(df_pf, values='PF', names='Name', title='Percentage of NBA Career Personal Fouls, by player', \n",
    "             color_discrete_sequence=px.colors.sequential.RdBu, height=600).update_traces(hovertemplate=hovertemp,texttemplate='%{percent:,.0%}')\n",
    "fig.show()"
   ]
  }
 ],
 "metadata": {
  "kernelspec": {
   "display_name": "Python 3",
   "language": "python",
   "name": "python3"
  },
  "language_info": {
   "codemirror_mode": {
    "name": "ipython",
    "version": 3
   },
   "file_extension": ".py",
   "mimetype": "text/x-python",
   "name": "python",
   "nbconvert_exporter": "python",
   "pygments_lexer": "ipython3",
   "version": "3.13.3"
  }
 },
 "nbformat": 4,
 "nbformat_minor": 5
}
