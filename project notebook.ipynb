{
 "cells": [
  {
   "cell_type": "markdown",
   "id": "d30fbeb8",
   "metadata": {},
   "source": [
    "### Dream Team project\n",
    "Data science project showing information on the NBA careers of the 12 members of the 1992 US Olympic Men's basketball team. This project uses data from the NBA_API. This project includes a variety of visualizations including bar charts, pie charts, maps and scatterplots."
   ]
  },
  {
   "cell_type": "code",
   "execution_count": 1,
   "id": "c884c885",
   "metadata": {},
   "outputs": [],
   "source": [
    "import pandas as pd\n",
    "import numpy as np\n",
    "from IPython.core.interactiveshell import InteractiveShell\n",
    "InteractiveShell.ast_node_interactivity=\"all\"\n",
    "import matplotlib.pyplot as plt\n",
    "import plotly.express as px\n",
    "from nba_api.stats.static import players\n",
    "from nba_api.stats.endpoints import playercareerstats\n",
    "from nba_api.stats.static import teams\n",
    "import plotly.graph_objects as go\n",
    "from geopy.geocoders import Nominatim\n",
    "import statistics"
   ]
  },
  {
   "cell_type": "code",
   "execution_count": 2,
   "id": "4f681688",
   "metadata": {},
   "outputs": [],
   "source": [
    "# get IDs of all players on roster from the NBA API\n",
    "roster=['Charles Barkley','Larry Bird','Clyde Drexler','Patrick Ewing','Magic Johnson', \n",
    "        'Michael Jordan', 'Christian Laettner', 'Karl Malone','Chris Mullin',\n",
    "        'Scottie Pippen', 'David Robinson', 'John Stockton']\n",
    "ID=[]\n",
    "for x in roster:\n",
    "   my_diction=players.find_players_by_full_name(x)[0]\n",
    "   counter = 1\n",
    "   for i in my_diction.values():\n",
    "      if counter == 1:\n",
    "         ID.append(i)\n",
    "      else:\n",
    "         continue\n",
    "      counter +=1"
   ]
  },
  {
   "cell_type": "code",
   "execution_count": 3,
   "id": "2eda6354",
   "metadata": {},
   "outputs": [
    {
     "data": {
      "text/plain": [
       "[787, 1449, 17, 121, 77142, 893, 363, 252, 904, 937, 764, 304]"
      ]
     },
     "execution_count": 3,
     "metadata": {},
     "output_type": "execute_result"
    },
    {
     "data": {
      "text/plain": [
       "12"
      ]
     },
     "execution_count": 3,
     "metadata": {},
     "output_type": "execute_result"
    },
    {
     "data": {
      "text/plain": [
       "list"
      ]
     },
     "execution_count": 3,
     "metadata": {},
     "output_type": "execute_result"
    },
    {
     "data": {
      "text/plain": [
       "int"
      ]
     },
     "execution_count": 3,
     "metadata": {},
     "output_type": "execute_result"
    }
   ],
   "source": [
    "# show information about player IDs\n",
    "ID\n",
    "len(ID)\n",
    "type(ID)\n",
    "type(ID[0])"
   ]
  },
  {
   "cell_type": "code",
   "execution_count": 4,
   "id": "f47c43dc",
   "metadata": {},
   "outputs": [],
   "source": [
    "#get career stats dataframes for each player and place them into a single dictionary\n",
    "names=['barkley','bird','drexler','ewing','johnson', 'jordan', 'laettner', 'malone','mullin','pippen', 'robinson', 'stockton']\n",
    "dataframes={}\n",
    "\n",
    "for x,y in zip(ID, names):\n",
    "    career= playercareerstats.PlayerCareerStats(player_id=x)\n",
    "    df=career.get_data_frames()[0]\n",
    "    dataframes[y]=df"
   ]
  },
  {
   "cell_type": "code",
   "execution_count": 5,
   "id": "9ca61708",
   "metadata": {},
   "outputs": [],
   "source": [
    "#separate out dataframes in dictionary for each player\n",
    "counter = 1\n",
    "for x in dataframes.values():\n",
    "    if counter == 1:\n",
    "        barkley = x\n",
    "    elif counter == 2:\n",
    "        bird = x\n",
    "    elif counter == 3:\n",
    "        drexler = x\n",
    "    elif counter == 4:\n",
    "        ewing = x\n",
    "    elif counter == 5:\n",
    "        johnson = x\n",
    "    elif counter == 6:\n",
    "        jordan = x\n",
    "    elif counter == 7:\n",
    "        laettner = x\n",
    "    elif counter == 8:\n",
    "        malone = x\n",
    "    elif counter == 9:\n",
    "        mullin = x\n",
    "    elif counter == 10:\n",
    "        pippen = x\n",
    "    elif counter == 11:\n",
    "        robinson = x\n",
    "    else:\n",
    "        stockton=x\n",
    "    counter +=1"
   ]
  },
  {
   "cell_type": "code",
   "execution_count": 6,
   "id": "2a87a9f5",
   "metadata": {},
   "outputs": [
    {
     "name": "stdout",
     "output_type": "stream",
     "text": [
      "<class 'pandas.core.frame.DataFrame'>\n",
      "RangeIndex: 16 entries, 0 to 15\n",
      "Data columns (total 27 columns):\n",
      " #   Column             Non-Null Count  Dtype  \n",
      "---  ------             --------------  -----  \n",
      " 0   PLAYER_ID          16 non-null     int64  \n",
      " 1   SEASON_ID          16 non-null     object \n",
      " 2   LEAGUE_ID          16 non-null     object \n",
      " 3   TEAM_ID            16 non-null     int64  \n",
      " 4   TEAM_ABBREVIATION  16 non-null     object \n",
      " 5   PLAYER_AGE         16 non-null     float64\n",
      " 6   GP                 16 non-null     int64  \n",
      " 7   GS                 16 non-null     int64  \n",
      " 8   MIN                16 non-null     int64  \n",
      " 9   FGM                16 non-null     int64  \n",
      " 10  FGA                16 non-null     int64  \n",
      " 11  FG_PCT             16 non-null     float64\n",
      " 12  FG3M               16 non-null     int64  \n",
      " 13  FG3A               16 non-null     int64  \n",
      " 14  FG3_PCT            16 non-null     float64\n",
      " 15  FTM                16 non-null     int64  \n",
      " 16  FTA                16 non-null     int64  \n",
      " 17  FT_PCT             16 non-null     float64\n",
      " 18  OREB               16 non-null     int64  \n",
      " 19  DREB               16 non-null     int64  \n",
      " 20  REB                16 non-null     int64  \n",
      " 21  AST                16 non-null     int64  \n",
      " 22  STL                16 non-null     int64  \n",
      " 23  BLK                16 non-null     int64  \n",
      " 24  TOV                16 non-null     int64  \n",
      " 25  PF                 16 non-null     int64  \n",
      " 26  PTS                16 non-null     int64  \n",
      "dtypes: float64(4), int64(20), object(3)\n",
      "memory usage: 3.5+ KB\n",
      "<class 'pandas.core.frame.DataFrame'>\n",
      "RangeIndex: 13 entries, 0 to 12\n",
      "Data columns (total 27 columns):\n",
      " #   Column             Non-Null Count  Dtype  \n",
      "---  ------             --------------  -----  \n",
      " 0   PLAYER_ID          13 non-null     int64  \n",
      " 1   SEASON_ID          13 non-null     object \n",
      " 2   LEAGUE_ID          13 non-null     object \n",
      " 3   TEAM_ID            13 non-null     int64  \n",
      " 4   TEAM_ABBREVIATION  13 non-null     object \n",
      " 5   PLAYER_AGE         13 non-null     float64\n",
      " 6   GP                 13 non-null     int64  \n",
      " 7   GS                 13 non-null     int64  \n",
      " 8   MIN                13 non-null     int64  \n",
      " 9   FGM                13 non-null     int64  \n",
      " 10  FGA                13 non-null     int64  \n",
      " 11  FG_PCT             13 non-null     float64\n",
      " 12  FG3M               13 non-null     int64  \n",
      " 13  FG3A               13 non-null     int64  \n",
      " 14  FG3_PCT            13 non-null     float64\n",
      " 15  FTM                13 non-null     int64  \n",
      " 16  FTA                13 non-null     int64  \n",
      " 17  FT_PCT             13 non-null     float64\n",
      " 18  OREB               13 non-null     int64  \n",
      " 19  DREB               13 non-null     int64  \n",
      " 20  REB                13 non-null     int64  \n",
      " 21  AST                13 non-null     int64  \n",
      " 22  STL                13 non-null     int64  \n",
      " 23  BLK                13 non-null     int64  \n",
      " 24  TOV                13 non-null     int64  \n",
      " 25  PF                 13 non-null     int64  \n",
      " 26  PTS                13 non-null     int64  \n",
      "dtypes: float64(4), int64(20), object(3)\n",
      "memory usage: 2.9+ KB\n",
      "<class 'pandas.core.frame.DataFrame'>\n",
      "RangeIndex: 17 entries, 0 to 16\n",
      "Data columns (total 27 columns):\n",
      " #   Column             Non-Null Count  Dtype  \n",
      "---  ------             --------------  -----  \n",
      " 0   PLAYER_ID          17 non-null     int64  \n",
      " 1   SEASON_ID          17 non-null     object \n",
      " 2   LEAGUE_ID          17 non-null     object \n",
      " 3   TEAM_ID            17 non-null     int64  \n",
      " 4   TEAM_ABBREVIATION  17 non-null     object \n",
      " 5   PLAYER_AGE         17 non-null     float64\n",
      " 6   GP                 17 non-null     int64  \n",
      " 7   GS                 17 non-null     int64  \n",
      " 8   MIN                17 non-null     int64  \n",
      " 9   FGM                17 non-null     int64  \n",
      " 10  FGA                17 non-null     int64  \n",
      " 11  FG_PCT             17 non-null     float64\n",
      " 12  FG3M               17 non-null     int64  \n",
      " 13  FG3A               17 non-null     int64  \n",
      " 14  FG3_PCT            17 non-null     float64\n",
      " 15  FTM                17 non-null     int64  \n",
      " 16  FTA                17 non-null     int64  \n",
      " 17  FT_PCT             17 non-null     float64\n",
      " 18  OREB               17 non-null     int64  \n",
      " 19  DREB               17 non-null     int64  \n",
      " 20  REB                17 non-null     int64  \n",
      " 21  AST                17 non-null     int64  \n",
      " 22  STL                17 non-null     int64  \n",
      " 23  BLK                17 non-null     int64  \n",
      " 24  TOV                17 non-null     int64  \n",
      " 25  PF                 17 non-null     int64  \n",
      " 26  PTS                17 non-null     int64  \n",
      "dtypes: float64(4), int64(20), object(3)\n",
      "memory usage: 3.7+ KB\n",
      "<class 'pandas.core.frame.DataFrame'>\n",
      "RangeIndex: 17 entries, 0 to 16\n",
      "Data columns (total 27 columns):\n",
      " #   Column             Non-Null Count  Dtype  \n",
      "---  ------             --------------  -----  \n",
      " 0   PLAYER_ID          17 non-null     int64  \n",
      " 1   SEASON_ID          17 non-null     object \n",
      " 2   LEAGUE_ID          17 non-null     object \n",
      " 3   TEAM_ID            17 non-null     int64  \n",
      " 4   TEAM_ABBREVIATION  17 non-null     object \n",
      " 5   PLAYER_AGE         17 non-null     float64\n",
      " 6   GP                 17 non-null     int64  \n",
      " 7   GS                 17 non-null     int64  \n",
      " 8   MIN                17 non-null     int64  \n",
      " 9   FGM                17 non-null     int64  \n",
      " 10  FGA                17 non-null     int64  \n",
      " 11  FG_PCT             17 non-null     float64\n",
      " 12  FG3M               17 non-null     int64  \n",
      " 13  FG3A               17 non-null     int64  \n",
      " 14  FG3_PCT            17 non-null     float64\n",
      " 15  FTM                17 non-null     int64  \n",
      " 16  FTA                17 non-null     int64  \n",
      " 17  FT_PCT             17 non-null     float64\n",
      " 18  OREB               17 non-null     int64  \n",
      " 19  DREB               17 non-null     int64  \n",
      " 20  REB                17 non-null     int64  \n",
      " 21  AST                17 non-null     int64  \n",
      " 22  STL                17 non-null     int64  \n",
      " 23  BLK                17 non-null     int64  \n",
      " 24  TOV                17 non-null     int64  \n",
      " 25  PF                 17 non-null     int64  \n",
      " 26  PTS                17 non-null     int64  \n",
      "dtypes: float64(4), int64(20), object(3)\n",
      "memory usage: 3.7+ KB\n",
      "<class 'pandas.core.frame.DataFrame'>\n",
      "RangeIndex: 13 entries, 0 to 12\n",
      "Data columns (total 27 columns):\n",
      " #   Column             Non-Null Count  Dtype  \n",
      "---  ------             --------------  -----  \n",
      " 0   PLAYER_ID          13 non-null     int64  \n",
      " 1   SEASON_ID          13 non-null     object \n",
      " 2   LEAGUE_ID          13 non-null     object \n",
      " 3   TEAM_ID            13 non-null     int64  \n",
      " 4   TEAM_ABBREVIATION  13 non-null     object \n",
      " 5   PLAYER_AGE         13 non-null     float64\n",
      " 6   GP                 13 non-null     int64  \n",
      " 7   GS                 13 non-null     int64  \n",
      " 8   MIN                13 non-null     int64  \n",
      " 9   FGM                13 non-null     int64  \n",
      " 10  FGA                13 non-null     int64  \n",
      " 11  FG_PCT             13 non-null     float64\n",
      " 12  FG3M               13 non-null     int64  \n",
      " 13  FG3A               13 non-null     int64  \n",
      " 14  FG3_PCT            13 non-null     float64\n",
      " 15  FTM                13 non-null     int64  \n",
      " 16  FTA                13 non-null     int64  \n",
      " 17  FT_PCT             13 non-null     float64\n",
      " 18  OREB               13 non-null     int64  \n",
      " 19  DREB               13 non-null     int64  \n",
      " 20  REB                13 non-null     int64  \n",
      " 21  AST                13 non-null     int64  \n",
      " 22  STL                13 non-null     int64  \n",
      " 23  BLK                13 non-null     int64  \n",
      " 24  TOV                13 non-null     int64  \n",
      " 25  PF                 13 non-null     int64  \n",
      " 26  PTS                13 non-null     int64  \n",
      "dtypes: float64(4), int64(20), object(3)\n",
      "memory usage: 2.9+ KB\n",
      "<class 'pandas.core.frame.DataFrame'>\n",
      "RangeIndex: 15 entries, 0 to 14\n",
      "Data columns (total 27 columns):\n",
      " #   Column             Non-Null Count  Dtype  \n",
      "---  ------             --------------  -----  \n",
      " 0   PLAYER_ID          15 non-null     int64  \n",
      " 1   SEASON_ID          15 non-null     object \n",
      " 2   LEAGUE_ID          15 non-null     object \n",
      " 3   TEAM_ID            15 non-null     int64  \n",
      " 4   TEAM_ABBREVIATION  15 non-null     object \n",
      " 5   PLAYER_AGE         15 non-null     float64\n",
      " 6   GP                 15 non-null     int64  \n",
      " 7   GS                 15 non-null     int64  \n",
      " 8   MIN                15 non-null     int64  \n",
      " 9   FGM                15 non-null     int64  \n",
      " 10  FGA                15 non-null     int64  \n",
      " 11  FG_PCT             15 non-null     float64\n",
      " 12  FG3M               15 non-null     int64  \n",
      " 13  FG3A               15 non-null     int64  \n",
      " 14  FG3_PCT            15 non-null     float64\n",
      " 15  FTM                15 non-null     int64  \n",
      " 16  FTA                15 non-null     int64  \n",
      " 17  FT_PCT             15 non-null     float64\n",
      " 18  OREB               15 non-null     int64  \n",
      " 19  DREB               15 non-null     int64  \n",
      " 20  REB                15 non-null     int64  \n",
      " 21  AST                15 non-null     int64  \n",
      " 22  STL                15 non-null     int64  \n",
      " 23  BLK                15 non-null     int64  \n",
      " 24  TOV                15 non-null     int64  \n",
      " 25  PF                 15 non-null     int64  \n",
      " 26  PTS                15 non-null     int64  \n",
      "dtypes: float64(4), int64(20), object(3)\n",
      "memory usage: 3.3+ KB\n",
      "<class 'pandas.core.frame.DataFrame'>\n",
      "RangeIndex: 17 entries, 0 to 16\n",
      "Data columns (total 27 columns):\n",
      " #   Column             Non-Null Count  Dtype  \n",
      "---  ------             --------------  -----  \n",
      " 0   PLAYER_ID          17 non-null     int64  \n",
      " 1   SEASON_ID          17 non-null     object \n",
      " 2   LEAGUE_ID          17 non-null     object \n",
      " 3   TEAM_ID            17 non-null     int64  \n",
      " 4   TEAM_ABBREVIATION  17 non-null     object \n",
      " 5   PLAYER_AGE         17 non-null     float64\n",
      " 6   GP                 17 non-null     int64  \n",
      " 7   GS                 17 non-null     int64  \n",
      " 8   MIN                17 non-null     int64  \n",
      " 9   FGM                17 non-null     int64  \n",
      " 10  FGA                17 non-null     int64  \n",
      " 11  FG_PCT             17 non-null     float64\n",
      " 12  FG3M               17 non-null     int64  \n",
      " 13  FG3A               17 non-null     int64  \n",
      " 14  FG3_PCT            17 non-null     float64\n",
      " 15  FTM                17 non-null     int64  \n",
      " 16  FTA                17 non-null     int64  \n",
      " 17  FT_PCT             17 non-null     float64\n",
      " 18  OREB               17 non-null     int64  \n",
      " 19  DREB               17 non-null     int64  \n",
      " 20  REB                17 non-null     int64  \n",
      " 21  AST                17 non-null     int64  \n",
      " 22  STL                17 non-null     int64  \n",
      " 23  BLK                17 non-null     int64  \n",
      " 24  TOV                17 non-null     int64  \n",
      " 25  PF                 17 non-null     int64  \n",
      " 26  PTS                17 non-null     int64  \n",
      "dtypes: float64(4), int64(20), object(3)\n",
      "memory usage: 3.7+ KB\n",
      "<class 'pandas.core.frame.DataFrame'>\n",
      "RangeIndex: 19 entries, 0 to 18\n",
      "Data columns (total 27 columns):\n",
      " #   Column             Non-Null Count  Dtype  \n",
      "---  ------             --------------  -----  \n",
      " 0   PLAYER_ID          19 non-null     int64  \n",
      " 1   SEASON_ID          19 non-null     object \n",
      " 2   LEAGUE_ID          19 non-null     object \n",
      " 3   TEAM_ID            19 non-null     int64  \n",
      " 4   TEAM_ABBREVIATION  19 non-null     object \n",
      " 5   PLAYER_AGE         19 non-null     float64\n",
      " 6   GP                 19 non-null     int64  \n",
      " 7   GS                 19 non-null     int64  \n",
      " 8   MIN                19 non-null     int64  \n",
      " 9   FGM                19 non-null     int64  \n",
      " 10  FGA                19 non-null     int64  \n",
      " 11  FG_PCT             19 non-null     float64\n",
      " 12  FG3M               19 non-null     int64  \n",
      " 13  FG3A               19 non-null     int64  \n",
      " 14  FG3_PCT            19 non-null     float64\n",
      " 15  FTM                19 non-null     int64  \n",
      " 16  FTA                19 non-null     int64  \n",
      " 17  FT_PCT             19 non-null     float64\n",
      " 18  OREB               19 non-null     int64  \n",
      " 19  DREB               19 non-null     int64  \n",
      " 20  REB                19 non-null     int64  \n",
      " 21  AST                19 non-null     int64  \n",
      " 22  STL                19 non-null     int64  \n",
      " 23  BLK                19 non-null     int64  \n",
      " 24  TOV                19 non-null     int64  \n",
      " 25  PF                 19 non-null     int64  \n",
      " 26  PTS                19 non-null     int64  \n",
      "dtypes: float64(4), int64(20), object(3)\n",
      "memory usage: 4.1+ KB\n",
      "<class 'pandas.core.frame.DataFrame'>\n",
      "RangeIndex: 16 entries, 0 to 15\n",
      "Data columns (total 27 columns):\n",
      " #   Column             Non-Null Count  Dtype  \n",
      "---  ------             --------------  -----  \n",
      " 0   PLAYER_ID          16 non-null     int64  \n",
      " 1   SEASON_ID          16 non-null     object \n",
      " 2   LEAGUE_ID          16 non-null     object \n",
      " 3   TEAM_ID            16 non-null     int64  \n",
      " 4   TEAM_ABBREVIATION  16 non-null     object \n",
      " 5   PLAYER_AGE         16 non-null     float64\n",
      " 6   GP                 16 non-null     int64  \n",
      " 7   GS                 16 non-null     int64  \n",
      " 8   MIN                16 non-null     int64  \n",
      " 9   FGM                16 non-null     int64  \n",
      " 10  FGA                16 non-null     int64  \n",
      " 11  FG_PCT             16 non-null     float64\n",
      " 12  FG3M               16 non-null     int64  \n",
      " 13  FG3A               16 non-null     int64  \n",
      " 14  FG3_PCT            16 non-null     float64\n",
      " 15  FTM                16 non-null     int64  \n",
      " 16  FTA                16 non-null     int64  \n",
      " 17  FT_PCT             16 non-null     float64\n",
      " 18  OREB               16 non-null     int64  \n",
      " 19  DREB               16 non-null     int64  \n",
      " 20  REB                16 non-null     int64  \n",
      " 21  AST                16 non-null     int64  \n",
      " 22  STL                16 non-null     int64  \n",
      " 23  BLK                16 non-null     int64  \n",
      " 24  TOV                16 non-null     int64  \n",
      " 25  PF                 16 non-null     int64  \n",
      " 26  PTS                16 non-null     int64  \n",
      "dtypes: float64(4), int64(20), object(3)\n",
      "memory usage: 3.5+ KB\n",
      "<class 'pandas.core.frame.DataFrame'>\n",
      "RangeIndex: 17 entries, 0 to 16\n",
      "Data columns (total 27 columns):\n",
      " #   Column             Non-Null Count  Dtype  \n",
      "---  ------             --------------  -----  \n",
      " 0   PLAYER_ID          17 non-null     int64  \n",
      " 1   SEASON_ID          17 non-null     object \n",
      " 2   LEAGUE_ID          17 non-null     object \n",
      " 3   TEAM_ID            17 non-null     int64  \n",
      " 4   TEAM_ABBREVIATION  17 non-null     object \n",
      " 5   PLAYER_AGE         17 non-null     float64\n",
      " 6   GP                 17 non-null     int64  \n",
      " 7   GS                 17 non-null     int64  \n",
      " 8   MIN                17 non-null     int64  \n",
      " 9   FGM                17 non-null     int64  \n",
      " 10  FGA                17 non-null     int64  \n",
      " 11  FG_PCT             17 non-null     float64\n",
      " 12  FG3M               17 non-null     int64  \n",
      " 13  FG3A               17 non-null     int64  \n",
      " 14  FG3_PCT            17 non-null     float64\n",
      " 15  FTM                17 non-null     int64  \n",
      " 16  FTA                17 non-null     int64  \n",
      " 17  FT_PCT             17 non-null     float64\n",
      " 18  OREB               17 non-null     int64  \n",
      " 19  DREB               17 non-null     int64  \n",
      " 20  REB                17 non-null     int64  \n",
      " 21  AST                17 non-null     int64  \n",
      " 22  STL                17 non-null     int64  \n",
      " 23  BLK                17 non-null     int64  \n",
      " 24  TOV                17 non-null     int64  \n",
      " 25  PF                 17 non-null     int64  \n",
      " 26  PTS                17 non-null     int64  \n",
      "dtypes: float64(4), int64(20), object(3)\n",
      "memory usage: 3.7+ KB\n",
      "<class 'pandas.core.frame.DataFrame'>\n",
      "RangeIndex: 14 entries, 0 to 13\n",
      "Data columns (total 27 columns):\n",
      " #   Column             Non-Null Count  Dtype  \n",
      "---  ------             --------------  -----  \n",
      " 0   PLAYER_ID          14 non-null     int64  \n",
      " 1   SEASON_ID          14 non-null     object \n",
      " 2   LEAGUE_ID          14 non-null     object \n",
      " 3   TEAM_ID            14 non-null     int64  \n",
      " 4   TEAM_ABBREVIATION  14 non-null     object \n",
      " 5   PLAYER_AGE         14 non-null     float64\n",
      " 6   GP                 14 non-null     int64  \n",
      " 7   GS                 14 non-null     int64  \n",
      " 8   MIN                14 non-null     int64  \n",
      " 9   FGM                14 non-null     int64  \n",
      " 10  FGA                14 non-null     int64  \n",
      " 11  FG_PCT             14 non-null     float64\n",
      " 12  FG3M               14 non-null     int64  \n",
      " 13  FG3A               14 non-null     int64  \n",
      " 14  FG3_PCT            14 non-null     float64\n",
      " 15  FTM                14 non-null     int64  \n",
      " 16  FTA                14 non-null     int64  \n",
      " 17  FT_PCT             14 non-null     float64\n",
      " 18  OREB               14 non-null     int64  \n",
      " 19  DREB               14 non-null     int64  \n",
      " 20  REB                14 non-null     int64  \n",
      " 21  AST                14 non-null     int64  \n",
      " 22  STL                14 non-null     int64  \n",
      " 23  BLK                14 non-null     int64  \n",
      " 24  TOV                14 non-null     int64  \n",
      " 25  PF                 14 non-null     int64  \n",
      " 26  PTS                14 non-null     int64  \n",
      "dtypes: float64(4), int64(20), object(3)\n",
      "memory usage: 3.1+ KB\n",
      "<class 'pandas.core.frame.DataFrame'>\n",
      "RangeIndex: 19 entries, 0 to 18\n",
      "Data columns (total 27 columns):\n",
      " #   Column             Non-Null Count  Dtype  \n",
      "---  ------             --------------  -----  \n",
      " 0   PLAYER_ID          19 non-null     int64  \n",
      " 1   SEASON_ID          19 non-null     object \n",
      " 2   LEAGUE_ID          19 non-null     object \n",
      " 3   TEAM_ID            19 non-null     int64  \n",
      " 4   TEAM_ABBREVIATION  19 non-null     object \n",
      " 5   PLAYER_AGE         19 non-null     float64\n",
      " 6   GP                 19 non-null     int64  \n",
      " 7   GS                 19 non-null     int64  \n",
      " 8   MIN                19 non-null     int64  \n",
      " 9   FGM                19 non-null     int64  \n",
      " 10  FGA                19 non-null     int64  \n",
      " 11  FG_PCT             19 non-null     float64\n",
      " 12  FG3M               19 non-null     int64  \n",
      " 13  FG3A               19 non-null     int64  \n",
      " 14  FG3_PCT            19 non-null     float64\n",
      " 15  FTM                19 non-null     int64  \n",
      " 16  FTA                19 non-null     int64  \n",
      " 17  FT_PCT             19 non-null     float64\n",
      " 18  OREB               19 non-null     int64  \n",
      " 19  DREB               19 non-null     int64  \n",
      " 20  REB                19 non-null     int64  \n",
      " 21  AST                19 non-null     int64  \n",
      " 22  STL                19 non-null     int64  \n",
      " 23  BLK                19 non-null     int64  \n",
      " 24  TOV                19 non-null     int64  \n",
      " 25  PF                 19 non-null     int64  \n",
      " 26  PTS                19 non-null     int64  \n",
      "dtypes: float64(4), int64(20), object(3)\n",
      "memory usage: 4.1+ KB\n",
      "None None None None None None None None None None None None\n"
     ]
    }
   ],
   "source": [
    "#get information about dataframes\n",
    "print(barkley.info(), bird.info(), drexler.info(), ewing.info(),\n",
    "      johnson.info(), jordan.info(), laettner.info(), malone.info(),\n",
    "      mullin.info(), pippen.info(), robinson.info(), stockton.info())"
   ]
  },
  {
   "cell_type": "code",
   "execution_count": 7,
   "id": "00d4dc53",
   "metadata": {},
   "outputs": [
    {
     "name": "stdout",
     "output_type": "stream",
     "text": [
      "In the barkley dataframe, there are 0 duplicate season IDs.\n",
      "In the bird dataframe, there are 0 duplicate season IDs.\n",
      "In the drexler dataframe, there are 1 duplicate season IDs.\n",
      "In the ewing dataframe, there are 0 duplicate season IDs.\n",
      "In the johnson dataframe, there are 0 duplicate season IDs.\n",
      "In the jordan dataframe, there are 0 duplicate season IDs.\n",
      "In the laettner dataframe, there are 2 duplicate season IDs.\n",
      "In the malone dataframe, there are 0 duplicate season IDs.\n",
      "In the mullin dataframe, there are 0 duplicate season IDs.\n",
      "In the pippen dataframe, there are 0 duplicate season IDs.\n",
      "In the robinson dataframe, there are 0 duplicate season IDs.\n",
      "In the stockton dataframe, there are 0 duplicate season IDs.\n"
     ]
    }
   ],
   "source": [
    "#check for duplicate season IDs in dataframes\n",
    "for name in names:\n",
    "    dup=eval(name)['SEASON_ID'].value_counts()>1\n",
    "    dups=sum(dup)\n",
    "    print(f\"In the\", name, \"dataframe, there are\", dups, \"duplicate season IDs.\" )"
   ]
  },
  {
   "cell_type": "code",
   "execution_count": 8,
   "id": "2680ab75",
   "metadata": {},
   "outputs": [
    {
     "data": {
      "application/vnd.plotly.v1+json": {
       "config": {
        "plotlyServerURL": "https://plot.ly"
       },
       "data": [
        {
         "marker": {
          "color": "crimson"
         },
         "type": "bar",
         "x": [
          "Charles Barkley",
          "Larry Bird",
          "Clyde Drexler",
          "Patrick Ewing",
          "Magic Johnson",
          "Michael Jordan",
          "Christian Laettner",
          "Karl Malone",
          "Chris Mullin",
          "Scottie Pippen",
          "David Robinson",
          "John Stockton"
         ],
         "y": [
          16,
          13,
          15,
          17,
          13,
          15,
          13,
          19,
          16,
          17,
          14,
          19
         ]
        }
       ],
       "layout": {
        "plot_bgcolor": "lightgrey",
        "template": {
         "data": {
          "bar": [
           {
            "error_x": {
             "color": "#2a3f5f"
            },
            "error_y": {
             "color": "#2a3f5f"
            },
            "marker": {
             "line": {
              "color": "#E5ECF6",
              "width": 0.5
             },
             "pattern": {
              "fillmode": "overlay",
              "size": 10,
              "solidity": 0.2
             }
            },
            "type": "bar"
           }
          ],
          "barpolar": [
           {
            "marker": {
             "line": {
              "color": "#E5ECF6",
              "width": 0.5
             },
             "pattern": {
              "fillmode": "overlay",
              "size": 10,
              "solidity": 0.2
             }
            },
            "type": "barpolar"
           }
          ],
          "carpet": [
           {
            "aaxis": {
             "endlinecolor": "#2a3f5f",
             "gridcolor": "white",
             "linecolor": "white",
             "minorgridcolor": "white",
             "startlinecolor": "#2a3f5f"
            },
            "baxis": {
             "endlinecolor": "#2a3f5f",
             "gridcolor": "white",
             "linecolor": "white",
             "minorgridcolor": "white",
             "startlinecolor": "#2a3f5f"
            },
            "type": "carpet"
           }
          ],
          "choropleth": [
           {
            "colorbar": {
             "outlinewidth": 0,
             "ticks": ""
            },
            "type": "choropleth"
           }
          ],
          "contour": [
           {
            "colorbar": {
             "outlinewidth": 0,
             "ticks": ""
            },
            "colorscale": [
             [
              0,
              "#0d0887"
             ],
             [
              0.1111111111111111,
              "#46039f"
             ],
             [
              0.2222222222222222,
              "#7201a8"
             ],
             [
              0.3333333333333333,
              "#9c179e"
             ],
             [
              0.4444444444444444,
              "#bd3786"
             ],
             [
              0.5555555555555556,
              "#d8576b"
             ],
             [
              0.6666666666666666,
              "#ed7953"
             ],
             [
              0.7777777777777778,
              "#fb9f3a"
             ],
             [
              0.8888888888888888,
              "#fdca26"
             ],
             [
              1,
              "#f0f921"
             ]
            ],
            "type": "contour"
           }
          ],
          "contourcarpet": [
           {
            "colorbar": {
             "outlinewidth": 0,
             "ticks": ""
            },
            "type": "contourcarpet"
           }
          ],
          "heatmap": [
           {
            "colorbar": {
             "outlinewidth": 0,
             "ticks": ""
            },
            "colorscale": [
             [
              0,
              "#0d0887"
             ],
             [
              0.1111111111111111,
              "#46039f"
             ],
             [
              0.2222222222222222,
              "#7201a8"
             ],
             [
              0.3333333333333333,
              "#9c179e"
             ],
             [
              0.4444444444444444,
              "#bd3786"
             ],
             [
              0.5555555555555556,
              "#d8576b"
             ],
             [
              0.6666666666666666,
              "#ed7953"
             ],
             [
              0.7777777777777778,
              "#fb9f3a"
             ],
             [
              0.8888888888888888,
              "#fdca26"
             ],
             [
              1,
              "#f0f921"
             ]
            ],
            "type": "heatmap"
           }
          ],
          "histogram": [
           {
            "marker": {
             "pattern": {
              "fillmode": "overlay",
              "size": 10,
              "solidity": 0.2
             }
            },
            "type": "histogram"
           }
          ],
          "histogram2d": [
           {
            "colorbar": {
             "outlinewidth": 0,
             "ticks": ""
            },
            "colorscale": [
             [
              0,
              "#0d0887"
             ],
             [
              0.1111111111111111,
              "#46039f"
             ],
             [
              0.2222222222222222,
              "#7201a8"
             ],
             [
              0.3333333333333333,
              "#9c179e"
             ],
             [
              0.4444444444444444,
              "#bd3786"
             ],
             [
              0.5555555555555556,
              "#d8576b"
             ],
             [
              0.6666666666666666,
              "#ed7953"
             ],
             [
              0.7777777777777778,
              "#fb9f3a"
             ],
             [
              0.8888888888888888,
              "#fdca26"
             ],
             [
              1,
              "#f0f921"
             ]
            ],
            "type": "histogram2d"
           }
          ],
          "histogram2dcontour": [
           {
            "colorbar": {
             "outlinewidth": 0,
             "ticks": ""
            },
            "colorscale": [
             [
              0,
              "#0d0887"
             ],
             [
              0.1111111111111111,
              "#46039f"
             ],
             [
              0.2222222222222222,
              "#7201a8"
             ],
             [
              0.3333333333333333,
              "#9c179e"
             ],
             [
              0.4444444444444444,
              "#bd3786"
             ],
             [
              0.5555555555555556,
              "#d8576b"
             ],
             [
              0.6666666666666666,
              "#ed7953"
             ],
             [
              0.7777777777777778,
              "#fb9f3a"
             ],
             [
              0.8888888888888888,
              "#fdca26"
             ],
             [
              1,
              "#f0f921"
             ]
            ],
            "type": "histogram2dcontour"
           }
          ],
          "mesh3d": [
           {
            "colorbar": {
             "outlinewidth": 0,
             "ticks": ""
            },
            "type": "mesh3d"
           }
          ],
          "parcoords": [
           {
            "line": {
             "colorbar": {
              "outlinewidth": 0,
              "ticks": ""
             }
            },
            "type": "parcoords"
           }
          ],
          "pie": [
           {
            "automargin": true,
            "type": "pie"
           }
          ],
          "scatter": [
           {
            "fillpattern": {
             "fillmode": "overlay",
             "size": 10,
             "solidity": 0.2
            },
            "type": "scatter"
           }
          ],
          "scatter3d": [
           {
            "line": {
             "colorbar": {
              "outlinewidth": 0,
              "ticks": ""
             }
            },
            "marker": {
             "colorbar": {
              "outlinewidth": 0,
              "ticks": ""
             }
            },
            "type": "scatter3d"
           }
          ],
          "scattercarpet": [
           {
            "marker": {
             "colorbar": {
              "outlinewidth": 0,
              "ticks": ""
             }
            },
            "type": "scattercarpet"
           }
          ],
          "scattergeo": [
           {
            "marker": {
             "colorbar": {
              "outlinewidth": 0,
              "ticks": ""
             }
            },
            "type": "scattergeo"
           }
          ],
          "scattergl": [
           {
            "marker": {
             "colorbar": {
              "outlinewidth": 0,
              "ticks": ""
             }
            },
            "type": "scattergl"
           }
          ],
          "scattermap": [
           {
            "marker": {
             "colorbar": {
              "outlinewidth": 0,
              "ticks": ""
             }
            },
            "type": "scattermap"
           }
          ],
          "scattermapbox": [
           {
            "marker": {
             "colorbar": {
              "outlinewidth": 0,
              "ticks": ""
             }
            },
            "type": "scattermapbox"
           }
          ],
          "scatterpolar": [
           {
            "marker": {
             "colorbar": {
              "outlinewidth": 0,
              "ticks": ""
             }
            },
            "type": "scatterpolar"
           }
          ],
          "scatterpolargl": [
           {
            "marker": {
             "colorbar": {
              "outlinewidth": 0,
              "ticks": ""
             }
            },
            "type": "scatterpolargl"
           }
          ],
          "scatterternary": [
           {
            "marker": {
             "colorbar": {
              "outlinewidth": 0,
              "ticks": ""
             }
            },
            "type": "scatterternary"
           }
          ],
          "surface": [
           {
            "colorbar": {
             "outlinewidth": 0,
             "ticks": ""
            },
            "colorscale": [
             [
              0,
              "#0d0887"
             ],
             [
              0.1111111111111111,
              "#46039f"
             ],
             [
              0.2222222222222222,
              "#7201a8"
             ],
             [
              0.3333333333333333,
              "#9c179e"
             ],
             [
              0.4444444444444444,
              "#bd3786"
             ],
             [
              0.5555555555555556,
              "#d8576b"
             ],
             [
              0.6666666666666666,
              "#ed7953"
             ],
             [
              0.7777777777777778,
              "#fb9f3a"
             ],
             [
              0.8888888888888888,
              "#fdca26"
             ],
             [
              1,
              "#f0f921"
             ]
            ],
            "type": "surface"
           }
          ],
          "table": [
           {
            "cells": {
             "fill": {
              "color": "#EBF0F8"
             },
             "line": {
              "color": "white"
             }
            },
            "header": {
             "fill": {
              "color": "#C8D4E3"
             },
             "line": {
              "color": "white"
             }
            },
            "type": "table"
           }
          ]
         },
         "layout": {
          "annotationdefaults": {
           "arrowcolor": "#2a3f5f",
           "arrowhead": 0,
           "arrowwidth": 1
          },
          "autotypenumbers": "strict",
          "coloraxis": {
           "colorbar": {
            "outlinewidth": 0,
            "ticks": ""
           }
          },
          "colorscale": {
           "diverging": [
            [
             0,
             "#8e0152"
            ],
            [
             0.1,
             "#c51b7d"
            ],
            [
             0.2,
             "#de77ae"
            ],
            [
             0.3,
             "#f1b6da"
            ],
            [
             0.4,
             "#fde0ef"
            ],
            [
             0.5,
             "#f7f7f7"
            ],
            [
             0.6,
             "#e6f5d0"
            ],
            [
             0.7,
             "#b8e186"
            ],
            [
             0.8,
             "#7fbc41"
            ],
            [
             0.9,
             "#4d9221"
            ],
            [
             1,
             "#276419"
            ]
           ],
           "sequential": [
            [
             0,
             "#0d0887"
            ],
            [
             0.1111111111111111,
             "#46039f"
            ],
            [
             0.2222222222222222,
             "#7201a8"
            ],
            [
             0.3333333333333333,
             "#9c179e"
            ],
            [
             0.4444444444444444,
             "#bd3786"
            ],
            [
             0.5555555555555556,
             "#d8576b"
            ],
            [
             0.6666666666666666,
             "#ed7953"
            ],
            [
             0.7777777777777778,
             "#fb9f3a"
            ],
            [
             0.8888888888888888,
             "#fdca26"
            ],
            [
             1,
             "#f0f921"
            ]
           ],
           "sequentialminus": [
            [
             0,
             "#0d0887"
            ],
            [
             0.1111111111111111,
             "#46039f"
            ],
            [
             0.2222222222222222,
             "#7201a8"
            ],
            [
             0.3333333333333333,
             "#9c179e"
            ],
            [
             0.4444444444444444,
             "#bd3786"
            ],
            [
             0.5555555555555556,
             "#d8576b"
            ],
            [
             0.6666666666666666,
             "#ed7953"
            ],
            [
             0.7777777777777778,
             "#fb9f3a"
            ],
            [
             0.8888888888888888,
             "#fdca26"
            ],
            [
             1,
             "#f0f921"
            ]
           ]
          },
          "colorway": [
           "#636efa",
           "#EF553B",
           "#00cc96",
           "#ab63fa",
           "#FFA15A",
           "#19d3f3",
           "#FF6692",
           "#B6E880",
           "#FF97FF",
           "#FECB52"
          ],
          "font": {
           "color": "#2a3f5f"
          },
          "geo": {
           "bgcolor": "white",
           "lakecolor": "white",
           "landcolor": "#E5ECF6",
           "showlakes": true,
           "showland": true,
           "subunitcolor": "white"
          },
          "hoverlabel": {
           "align": "left"
          },
          "hovermode": "closest",
          "mapbox": {
           "style": "light"
          },
          "paper_bgcolor": "white",
          "plot_bgcolor": "#E5ECF6",
          "polar": {
           "angularaxis": {
            "gridcolor": "white",
            "linecolor": "white",
            "ticks": ""
           },
           "bgcolor": "#E5ECF6",
           "radialaxis": {
            "gridcolor": "white",
            "linecolor": "white",
            "ticks": ""
           }
          },
          "scene": {
           "xaxis": {
            "backgroundcolor": "#E5ECF6",
            "gridcolor": "white",
            "gridwidth": 2,
            "linecolor": "white",
            "showbackground": true,
            "ticks": "",
            "zerolinecolor": "white"
           },
           "yaxis": {
            "backgroundcolor": "#E5ECF6",
            "gridcolor": "white",
            "gridwidth": 2,
            "linecolor": "white",
            "showbackground": true,
            "ticks": "",
            "zerolinecolor": "white"
           },
           "zaxis": {
            "backgroundcolor": "#E5ECF6",
            "gridcolor": "white",
            "gridwidth": 2,
            "linecolor": "white",
            "showbackground": true,
            "ticks": "",
            "zerolinecolor": "white"
           }
          },
          "shapedefaults": {
           "line": {
            "color": "#2a3f5f"
           }
          },
          "ternary": {
           "aaxis": {
            "gridcolor": "white",
            "linecolor": "white",
            "ticks": ""
           },
           "baxis": {
            "gridcolor": "white",
            "linecolor": "white",
            "ticks": ""
           },
           "bgcolor": "#E5ECF6",
           "caxis": {
            "gridcolor": "white",
            "linecolor": "white",
            "ticks": ""
           }
          },
          "title": {
           "x": 0.05
          },
          "xaxis": {
           "automargin": true,
           "gridcolor": "white",
           "linecolor": "white",
           "ticks": "",
           "title": {
            "standoff": 15
           },
           "zerolinecolor": "white",
           "zerolinewidth": 2
          },
          "yaxis": {
           "automargin": true,
           "gridcolor": "white",
           "linecolor": "white",
           "ticks": "",
           "title": {
            "standoff": 15
           },
           "zerolinecolor": "white",
           "zerolinewidth": 2
          }
         }
        },
        "title": {
         "text": "Number of seasons members played during NBA career, by player"
        },
        "xaxis": {
         "title": {
          "text": "Player"
         }
        },
        "yaxis": {
         "title": {
          "text": "Number of NBA seasons"
         }
        }
       }
      }
     },
     "metadata": {},
     "output_type": "display_data"
    }
   ],
   "source": [
    "# Bar chart of the number of seasons played for each player\n",
    "season_num=[]\n",
    "for dataframe in dataframes.values():\n",
    "    season_num.append(dataframe['SEASON_ID'].value_counts().shape[0])\n",
    "\n",
    "bar_trace = go.Bar(x=roster, y=season_num)\n",
    "fig=go.Figure(data=[bar_trace]).update_layout(title='Number of seasons members played during NBA career, by player', \n",
    "                                              xaxis_title='Player', \n",
    "                                              yaxis_title='Number of NBA seasons', plot_bgcolor='lightgrey').update_traces(marker_color='crimson')\n",
    "fig.show()"
   ]
  },
  {
   "cell_type": "code",
   "execution_count": 9,
   "id": "d5f5845d",
   "metadata": {},
   "outputs": [
    {
     "name": "stdout",
     "output_type": "stream",
     "text": [
      "<class 'pandas.core.frame.DataFrame'>\n",
      "RangeIndex: 193 entries, 0 to 192\n",
      "Data columns (total 28 columns):\n",
      " #   Column             Non-Null Count  Dtype  \n",
      "---  ------             --------------  -----  \n",
      " 0   PLAYER_ID          193 non-null    int64  \n",
      " 1   SEASON_ID          193 non-null    object \n",
      " 2   LEAGUE_ID          193 non-null    object \n",
      " 3   TEAM_ID            193 non-null    int64  \n",
      " 4   TEAM_ABBREVIATION  193 non-null    object \n",
      " 5   PLAYER_AGE         193 non-null    float64\n",
      " 6   GP                 193 non-null    int64  \n",
      " 7   GS                 193 non-null    int64  \n",
      " 8   MIN                193 non-null    int64  \n",
      " 9   FGM                193 non-null    int64  \n",
      " 10  FGA                193 non-null    int64  \n",
      " 11  FG_PCT             193 non-null    float64\n",
      " 12  FG3M               193 non-null    int64  \n",
      " 13  FG3A               193 non-null    int64  \n",
      " 14  FG3_PCT            193 non-null    float64\n",
      " 15  FTM                193 non-null    int64  \n",
      " 16  FTA                193 non-null    int64  \n",
      " 17  FT_PCT             193 non-null    float64\n",
      " 18  OREB               193 non-null    int64  \n",
      " 19  DREB               193 non-null    int64  \n",
      " 20  REB                193 non-null    int64  \n",
      " 21  AST                193 non-null    int64  \n",
      " 22  STL                193 non-null    int64  \n",
      " 23  BLK                193 non-null    int64  \n",
      " 24  TOV                193 non-null    int64  \n",
      " 25  PF                 193 non-null    int64  \n",
      " 26  PTS                193 non-null    int64  \n",
      " 27  Name               193 non-null    object \n",
      "dtypes: float64(4), int64(20), object(4)\n",
      "memory usage: 42.3+ KB\n"
     ]
    },
    {
     "data": {
      "text/html": [
       "<div>\n",
       "<style scoped>\n",
       "    .dataframe tbody tr th:only-of-type {\n",
       "        vertical-align: middle;\n",
       "    }\n",
       "\n",
       "    .dataframe tbody tr th {\n",
       "        vertical-align: top;\n",
       "    }\n",
       "\n",
       "    .dataframe thead th {\n",
       "        text-align: right;\n",
       "    }\n",
       "</style>\n",
       "<table border=\"1\" class=\"dataframe\">\n",
       "  <thead>\n",
       "    <tr style=\"text-align: right;\">\n",
       "      <th></th>\n",
       "      <th>PLAYER_ID</th>\n",
       "      <th>SEASON_ID</th>\n",
       "      <th>LEAGUE_ID</th>\n",
       "      <th>TEAM_ID</th>\n",
       "      <th>TEAM_ABBREVIATION</th>\n",
       "      <th>PLAYER_AGE</th>\n",
       "      <th>GP</th>\n",
       "      <th>GS</th>\n",
       "      <th>MIN</th>\n",
       "      <th>FGM</th>\n",
       "      <th>...</th>\n",
       "      <th>OREB</th>\n",
       "      <th>DREB</th>\n",
       "      <th>REB</th>\n",
       "      <th>AST</th>\n",
       "      <th>STL</th>\n",
       "      <th>BLK</th>\n",
       "      <th>TOV</th>\n",
       "      <th>PF</th>\n",
       "      <th>PTS</th>\n",
       "      <th>Name</th>\n",
       "    </tr>\n",
       "  </thead>\n",
       "  <tbody>\n",
       "    <tr>\n",
       "      <th>0</th>\n",
       "      <td>787</td>\n",
       "      <td>1984-85</td>\n",
       "      <td>00</td>\n",
       "      <td>1610612755</td>\n",
       "      <td>PHL</td>\n",
       "      <td>22.0</td>\n",
       "      <td>82</td>\n",
       "      <td>60</td>\n",
       "      <td>2347</td>\n",
       "      <td>427</td>\n",
       "      <td>...</td>\n",
       "      <td>266</td>\n",
       "      <td>437</td>\n",
       "      <td>703</td>\n",
       "      <td>155</td>\n",
       "      <td>95</td>\n",
       "      <td>80</td>\n",
       "      <td>209</td>\n",
       "      <td>301</td>\n",
       "      <td>1148</td>\n",
       "      <td>Charles Barkley</td>\n",
       "    </tr>\n",
       "    <tr>\n",
       "      <th>1</th>\n",
       "      <td>787</td>\n",
       "      <td>1985-86</td>\n",
       "      <td>00</td>\n",
       "      <td>1610612755</td>\n",
       "      <td>PHL</td>\n",
       "      <td>23.0</td>\n",
       "      <td>80</td>\n",
       "      <td>80</td>\n",
       "      <td>2952</td>\n",
       "      <td>595</td>\n",
       "      <td>...</td>\n",
       "      <td>354</td>\n",
       "      <td>672</td>\n",
       "      <td>1026</td>\n",
       "      <td>312</td>\n",
       "      <td>173</td>\n",
       "      <td>125</td>\n",
       "      <td>350</td>\n",
       "      <td>333</td>\n",
       "      <td>1603</td>\n",
       "      <td>Charles Barkley</td>\n",
       "    </tr>\n",
       "    <tr>\n",
       "      <th>2</th>\n",
       "      <td>787</td>\n",
       "      <td>1986-87</td>\n",
       "      <td>00</td>\n",
       "      <td>1610612755</td>\n",
       "      <td>PHL</td>\n",
       "      <td>24.0</td>\n",
       "      <td>68</td>\n",
       "      <td>62</td>\n",
       "      <td>2740</td>\n",
       "      <td>557</td>\n",
       "      <td>...</td>\n",
       "      <td>390</td>\n",
       "      <td>604</td>\n",
       "      <td>994</td>\n",
       "      <td>331</td>\n",
       "      <td>119</td>\n",
       "      <td>104</td>\n",
       "      <td>322</td>\n",
       "      <td>252</td>\n",
       "      <td>1564</td>\n",
       "      <td>Charles Barkley</td>\n",
       "    </tr>\n",
       "    <tr>\n",
       "      <th>3</th>\n",
       "      <td>787</td>\n",
       "      <td>1987-88</td>\n",
       "      <td>00</td>\n",
       "      <td>1610612755</td>\n",
       "      <td>PHL</td>\n",
       "      <td>25.0</td>\n",
       "      <td>80</td>\n",
       "      <td>80</td>\n",
       "      <td>3170</td>\n",
       "      <td>753</td>\n",
       "      <td>...</td>\n",
       "      <td>385</td>\n",
       "      <td>566</td>\n",
       "      <td>951</td>\n",
       "      <td>254</td>\n",
       "      <td>100</td>\n",
       "      <td>103</td>\n",
       "      <td>304</td>\n",
       "      <td>278</td>\n",
       "      <td>2264</td>\n",
       "      <td>Charles Barkley</td>\n",
       "    </tr>\n",
       "    <tr>\n",
       "      <th>4</th>\n",
       "      <td>787</td>\n",
       "      <td>1988-89</td>\n",
       "      <td>00</td>\n",
       "      <td>1610612755</td>\n",
       "      <td>PHL</td>\n",
       "      <td>26.0</td>\n",
       "      <td>79</td>\n",
       "      <td>79</td>\n",
       "      <td>3088</td>\n",
       "      <td>700</td>\n",
       "      <td>...</td>\n",
       "      <td>403</td>\n",
       "      <td>583</td>\n",
       "      <td>986</td>\n",
       "      <td>325</td>\n",
       "      <td>126</td>\n",
       "      <td>67</td>\n",
       "      <td>254</td>\n",
       "      <td>262</td>\n",
       "      <td>2037</td>\n",
       "      <td>Charles Barkley</td>\n",
       "    </tr>\n",
       "  </tbody>\n",
       "</table>\n",
       "<p>5 rows × 28 columns</p>\n",
       "</div>"
      ],
      "text/plain": [
       "   PLAYER_ID SEASON_ID LEAGUE_ID     TEAM_ID TEAM_ABBREVIATION  PLAYER_AGE  \\\n",
       "0        787   1984-85        00  1610612755               PHL        22.0   \n",
       "1        787   1985-86        00  1610612755               PHL        23.0   \n",
       "2        787   1986-87        00  1610612755               PHL        24.0   \n",
       "3        787   1987-88        00  1610612755               PHL        25.0   \n",
       "4        787   1988-89        00  1610612755               PHL        26.0   \n",
       "\n",
       "   GP  GS   MIN  FGM  ...  OREB  DREB   REB  AST  STL  BLK  TOV   PF   PTS  \\\n",
       "0  82  60  2347  427  ...   266   437   703  155   95   80  209  301  1148   \n",
       "1  80  80  2952  595  ...   354   672  1026  312  173  125  350  333  1603   \n",
       "2  68  62  2740  557  ...   390   604   994  331  119  104  322  252  1564   \n",
       "3  80  80  3170  753  ...   385   566   951  254  100  103  304  278  2264   \n",
       "4  79  79  3088  700  ...   403   583   986  325  126   67  254  262  2037   \n",
       "\n",
       "              Name  \n",
       "0  Charles Barkley  \n",
       "1  Charles Barkley  \n",
       "2  Charles Barkley  \n",
       "3  Charles Barkley  \n",
       "4  Charles Barkley  \n",
       "\n",
       "[5 rows x 28 columns]"
      ]
     },
     "execution_count": 9,
     "metadata": {},
     "output_type": "execute_result"
    },
    {
     "data": {
      "text/html": [
       "<div>\n",
       "<style scoped>\n",
       "    .dataframe tbody tr th:only-of-type {\n",
       "        vertical-align: middle;\n",
       "    }\n",
       "\n",
       "    .dataframe tbody tr th {\n",
       "        vertical-align: top;\n",
       "    }\n",
       "\n",
       "    .dataframe thead th {\n",
       "        text-align: right;\n",
       "    }\n",
       "</style>\n",
       "<table border=\"1\" class=\"dataframe\">\n",
       "  <thead>\n",
       "    <tr style=\"text-align: right;\">\n",
       "      <th></th>\n",
       "      <th>PLAYER_ID</th>\n",
       "      <th>SEASON_ID</th>\n",
       "      <th>LEAGUE_ID</th>\n",
       "      <th>TEAM_ID</th>\n",
       "      <th>TEAM_ABBREVIATION</th>\n",
       "      <th>PLAYER_AGE</th>\n",
       "      <th>GP</th>\n",
       "      <th>GS</th>\n",
       "      <th>MIN</th>\n",
       "      <th>FGM</th>\n",
       "      <th>...</th>\n",
       "      <th>OREB</th>\n",
       "      <th>DREB</th>\n",
       "      <th>REB</th>\n",
       "      <th>AST</th>\n",
       "      <th>STL</th>\n",
       "      <th>BLK</th>\n",
       "      <th>TOV</th>\n",
       "      <th>PF</th>\n",
       "      <th>PTS</th>\n",
       "      <th>Name</th>\n",
       "    </tr>\n",
       "  </thead>\n",
       "  <tbody>\n",
       "    <tr>\n",
       "      <th>188</th>\n",
       "      <td>304</td>\n",
       "      <td>1998-99</td>\n",
       "      <td>00</td>\n",
       "      <td>1610612762</td>\n",
       "      <td>UTA</td>\n",
       "      <td>37.0</td>\n",
       "      <td>50</td>\n",
       "      <td>50</td>\n",
       "      <td>1410</td>\n",
       "      <td>200</td>\n",
       "      <td>...</td>\n",
       "      <td>31</td>\n",
       "      <td>115</td>\n",
       "      <td>146</td>\n",
       "      <td>374</td>\n",
       "      <td>81</td>\n",
       "      <td>13</td>\n",
       "      <td>110</td>\n",
       "      <td>107</td>\n",
       "      <td>553</td>\n",
       "      <td>John Stockton</td>\n",
       "    </tr>\n",
       "    <tr>\n",
       "      <th>189</th>\n",
       "      <td>304</td>\n",
       "      <td>1999-00</td>\n",
       "      <td>00</td>\n",
       "      <td>1610612762</td>\n",
       "      <td>UTA</td>\n",
       "      <td>38.0</td>\n",
       "      <td>82</td>\n",
       "      <td>82</td>\n",
       "      <td>2432</td>\n",
       "      <td>363</td>\n",
       "      <td>...</td>\n",
       "      <td>45</td>\n",
       "      <td>170</td>\n",
       "      <td>215</td>\n",
       "      <td>703</td>\n",
       "      <td>143</td>\n",
       "      <td>15</td>\n",
       "      <td>179</td>\n",
       "      <td>192</td>\n",
       "      <td>990</td>\n",
       "      <td>John Stockton</td>\n",
       "    </tr>\n",
       "    <tr>\n",
       "      <th>190</th>\n",
       "      <td>304</td>\n",
       "      <td>2000-01</td>\n",
       "      <td>00</td>\n",
       "      <td>1610612762</td>\n",
       "      <td>UTA</td>\n",
       "      <td>39.0</td>\n",
       "      <td>82</td>\n",
       "      <td>82</td>\n",
       "      <td>2397</td>\n",
       "      <td>328</td>\n",
       "      <td>...</td>\n",
       "      <td>54</td>\n",
       "      <td>173</td>\n",
       "      <td>227</td>\n",
       "      <td>713</td>\n",
       "      <td>132</td>\n",
       "      <td>21</td>\n",
       "      <td>203</td>\n",
       "      <td>194</td>\n",
       "      <td>944</td>\n",
       "      <td>John Stockton</td>\n",
       "    </tr>\n",
       "    <tr>\n",
       "      <th>191</th>\n",
       "      <td>304</td>\n",
       "      <td>2001-02</td>\n",
       "      <td>00</td>\n",
       "      <td>1610612762</td>\n",
       "      <td>UTA</td>\n",
       "      <td>40.0</td>\n",
       "      <td>82</td>\n",
       "      <td>82</td>\n",
       "      <td>2570</td>\n",
       "      <td>401</td>\n",
       "      <td>...</td>\n",
       "      <td>59</td>\n",
       "      <td>204</td>\n",
       "      <td>263</td>\n",
       "      <td>674</td>\n",
       "      <td>152</td>\n",
       "      <td>24</td>\n",
       "      <td>208</td>\n",
       "      <td>209</td>\n",
       "      <td>1102</td>\n",
       "      <td>John Stockton</td>\n",
       "    </tr>\n",
       "    <tr>\n",
       "      <th>192</th>\n",
       "      <td>304</td>\n",
       "      <td>2002-03</td>\n",
       "      <td>00</td>\n",
       "      <td>1610612762</td>\n",
       "      <td>UTA</td>\n",
       "      <td>41.0</td>\n",
       "      <td>82</td>\n",
       "      <td>82</td>\n",
       "      <td>2275</td>\n",
       "      <td>309</td>\n",
       "      <td>...</td>\n",
       "      <td>51</td>\n",
       "      <td>150</td>\n",
       "      <td>201</td>\n",
       "      <td>629</td>\n",
       "      <td>137</td>\n",
       "      <td>16</td>\n",
       "      <td>182</td>\n",
       "      <td>184</td>\n",
       "      <td>884</td>\n",
       "      <td>John Stockton</td>\n",
       "    </tr>\n",
       "  </tbody>\n",
       "</table>\n",
       "<p>5 rows × 28 columns</p>\n",
       "</div>"
      ],
      "text/plain": [
       "     PLAYER_ID SEASON_ID LEAGUE_ID     TEAM_ID TEAM_ABBREVIATION  PLAYER_AGE  \\\n",
       "188        304   1998-99        00  1610612762               UTA        37.0   \n",
       "189        304   1999-00        00  1610612762               UTA        38.0   \n",
       "190        304   2000-01        00  1610612762               UTA        39.0   \n",
       "191        304   2001-02        00  1610612762               UTA        40.0   \n",
       "192        304   2002-03        00  1610612762               UTA        41.0   \n",
       "\n",
       "     GP  GS   MIN  FGM  ...  OREB  DREB  REB  AST  STL  BLK  TOV   PF   PTS  \\\n",
       "188  50  50  1410  200  ...    31   115  146  374   81   13  110  107   553   \n",
       "189  82  82  2432  363  ...    45   170  215  703  143   15  179  192   990   \n",
       "190  82  82  2397  328  ...    54   173  227  713  132   21  203  194   944   \n",
       "191  82  82  2570  401  ...    59   204  263  674  152   24  208  209  1102   \n",
       "192  82  82  2275  309  ...    51   150  201  629  137   16  182  184   884   \n",
       "\n",
       "              Name  \n",
       "188  John Stockton  \n",
       "189  John Stockton  \n",
       "190  John Stockton  \n",
       "191  John Stockton  \n",
       "192  John Stockton  \n",
       "\n",
       "[5 rows x 28 columns]"
      ]
     },
     "execution_count": 9,
     "metadata": {},
     "output_type": "execute_result"
    }
   ],
   "source": [
    "#map of location sof teams that players played for during NBA career\n",
    "#data wrangling\n",
    "#add player name to each player dataframe\n",
    "barkley['Name']='Charles Barkley'\n",
    "bird['Name']='Larry Bird'\n",
    "drexler['Name']='Clyde Drexler'\n",
    "ewing['Name']='Patrick Ewing'\n",
    "johnson['Name']='Magic Johnson'\n",
    "jordan['Name']='Michael Jordan'\n",
    "laettner['Name']='Christian Laettner'\n",
    "malone['Name']='Karl Malone'\n",
    "mullin['Name']='Chris Mullin'\n",
    "pippen['Name']='Scottie Pippen'\n",
    "robinson['Name']='David Robinson'\n",
    "stockton['Name']='John Stockton'\n",
    "#create single dataframe with information on all players\n",
    "df_all=pd.concat([barkley, bird, drexler, ewing,\n",
    "                  johnson, jordan, laettner, malone,\n",
    "                  mullin, pippen, robinson, stockton], axis=0).reset_index(drop=True)\n",
    "df_all.info()\n",
    "df_all.head()\n",
    "df_all.tail()"
   ]
  },
  {
   "cell_type": "code",
   "execution_count": 10,
   "id": "dbc918d1",
   "metadata": {},
   "outputs": [],
   "source": [
    "#create variables for dataframe to be used for mapping teams and cities\n",
    "Name=[]\n",
    "Team_Abbreviation=[]\n",
    "Team_Name=[]\n",
    "City=[]\n",
    "State=[]\n",
    "#for loop to iterate through roster list to add player name, team abbreviation, team name, city, and state from API to lists\n",
    "for x in roster:\n",
    "    test_series=df_all['TEAM_ABBREVIATION'][df_all['Name']==x].value_counts()\n",
    "    test_list=list(test_series.index)\n",
    "    for y in test_list:\n",
    "        Name.append(x)\n",
    "        Team_Abbreviation.append(y)\n",
    "        a=teams.find_team_by_abbreviation(y)\n",
    "        if a is None:\n",
    "            Team_Name.append(np.nan)\n",
    "            City.append(np.nan)\n",
    "            State.append(np.nan)\n",
    "        else:\n",
    "            Team_Name.append(a['full_name'])\n",
    "            City.append(a['city'])\n",
    "            State.append(a['state'])   \n",
    "            "
   ]
  },
  {
   "cell_type": "code",
   "execution_count": 11,
   "id": "f90831c1",
   "metadata": {},
   "outputs": [
    {
     "data": {
      "text/html": [
       "<div>\n",
       "<style scoped>\n",
       "    .dataframe tbody tr th:only-of-type {\n",
       "        vertical-align: middle;\n",
       "    }\n",
       "\n",
       "    .dataframe tbody tr th {\n",
       "        vertical-align: top;\n",
       "    }\n",
       "\n",
       "    .dataframe thead th {\n",
       "        text-align: right;\n",
       "    }\n",
       "</style>\n",
       "<table border=\"1\" class=\"dataframe\">\n",
       "  <thead>\n",
       "    <tr style=\"text-align: right;\">\n",
       "      <th></th>\n",
       "      <th>Name</th>\n",
       "      <th>Team_Abbreviation</th>\n",
       "      <th>Team_Name</th>\n",
       "      <th>City</th>\n",
       "      <th>State</th>\n",
       "    </tr>\n",
       "  </thead>\n",
       "  <tbody>\n",
       "    <tr>\n",
       "      <th>0</th>\n",
       "      <td>Charles Barkley</td>\n",
       "      <td>PHL</td>\n",
       "      <td>NaN</td>\n",
       "      <td>NaN</td>\n",
       "      <td>NaN</td>\n",
       "    </tr>\n",
       "    <tr>\n",
       "      <th>1</th>\n",
       "      <td>Charles Barkley</td>\n",
       "      <td>PHX</td>\n",
       "      <td>Phoenix Suns</td>\n",
       "      <td>Phoenix</td>\n",
       "      <td>Arizona</td>\n",
       "    </tr>\n",
       "    <tr>\n",
       "      <th>2</th>\n",
       "      <td>Charles Barkley</td>\n",
       "      <td>HOU</td>\n",
       "      <td>Houston Rockets</td>\n",
       "      <td>Houston</td>\n",
       "      <td>Texas</td>\n",
       "    </tr>\n",
       "    <tr>\n",
       "      <th>3</th>\n",
       "      <td>Larry Bird</td>\n",
       "      <td>BOS</td>\n",
       "      <td>Boston Celtics</td>\n",
       "      <td>Boston</td>\n",
       "      <td>Massachusetts</td>\n",
       "    </tr>\n",
       "    <tr>\n",
       "      <th>4</th>\n",
       "      <td>Clyde Drexler</td>\n",
       "      <td>POR</td>\n",
       "      <td>Portland Trail Blazers</td>\n",
       "      <td>Portland</td>\n",
       "      <td>Oregon</td>\n",
       "    </tr>\n",
       "    <tr>\n",
       "      <th>5</th>\n",
       "      <td>Clyde Drexler</td>\n",
       "      <td>HOU</td>\n",
       "      <td>Houston Rockets</td>\n",
       "      <td>Houston</td>\n",
       "      <td>Texas</td>\n",
       "    </tr>\n",
       "    <tr>\n",
       "      <th>6</th>\n",
       "      <td>Clyde Drexler</td>\n",
       "      <td>TOT</td>\n",
       "      <td>NaN</td>\n",
       "      <td>NaN</td>\n",
       "      <td>NaN</td>\n",
       "    </tr>\n",
       "    <tr>\n",
       "      <th>7</th>\n",
       "      <td>Patrick Ewing</td>\n",
       "      <td>NYK</td>\n",
       "      <td>New York Knicks</td>\n",
       "      <td>New York</td>\n",
       "      <td>New York</td>\n",
       "    </tr>\n",
       "    <tr>\n",
       "      <th>8</th>\n",
       "      <td>Patrick Ewing</td>\n",
       "      <td>SEA</td>\n",
       "      <td>NaN</td>\n",
       "      <td>NaN</td>\n",
       "      <td>NaN</td>\n",
       "    </tr>\n",
       "    <tr>\n",
       "      <th>9</th>\n",
       "      <td>Patrick Ewing</td>\n",
       "      <td>ORL</td>\n",
       "      <td>Orlando Magic</td>\n",
       "      <td>Orlando</td>\n",
       "      <td>Florida</td>\n",
       "    </tr>\n",
       "    <tr>\n",
       "      <th>10</th>\n",
       "      <td>Magic Johnson</td>\n",
       "      <td>LAL</td>\n",
       "      <td>Los Angeles Lakers</td>\n",
       "      <td>Los Angeles</td>\n",
       "      <td>California</td>\n",
       "    </tr>\n",
       "    <tr>\n",
       "      <th>11</th>\n",
       "      <td>Michael Jordan</td>\n",
       "      <td>CHI</td>\n",
       "      <td>Chicago Bulls</td>\n",
       "      <td>Chicago</td>\n",
       "      <td>Illinois</td>\n",
       "    </tr>\n",
       "    <tr>\n",
       "      <th>12</th>\n",
       "      <td>Michael Jordan</td>\n",
       "      <td>WAS</td>\n",
       "      <td>Washington Wizards</td>\n",
       "      <td>Washington</td>\n",
       "      <td>District of Columbia</td>\n",
       "    </tr>\n",
       "    <tr>\n",
       "      <th>13</th>\n",
       "      <td>Christian Laettner</td>\n",
       "      <td>MIN</td>\n",
       "      <td>Minnesota Timberwolves</td>\n",
       "      <td>Minnesota</td>\n",
       "      <td>Minnesota</td>\n",
       "    </tr>\n",
       "    <tr>\n",
       "      <th>14</th>\n",
       "      <td>Christian Laettner</td>\n",
       "      <td>WAS</td>\n",
       "      <td>Washington Wizards</td>\n",
       "      <td>Washington</td>\n",
       "      <td>District of Columbia</td>\n",
       "    </tr>\n",
       "    <tr>\n",
       "      <th>15</th>\n",
       "      <td>Christian Laettner</td>\n",
       "      <td>ATL</td>\n",
       "      <td>Atlanta Hawks</td>\n",
       "      <td>Atlanta</td>\n",
       "      <td>Georgia</td>\n",
       "    </tr>\n",
       "    <tr>\n",
       "      <th>16</th>\n",
       "      <td>Christian Laettner</td>\n",
       "      <td>TOT</td>\n",
       "      <td>NaN</td>\n",
       "      <td>NaN</td>\n",
       "      <td>NaN</td>\n",
       "    </tr>\n",
       "    <tr>\n",
       "      <th>17</th>\n",
       "      <td>Christian Laettner</td>\n",
       "      <td>DET</td>\n",
       "      <td>Detroit Pistons</td>\n",
       "      <td>Detroit</td>\n",
       "      <td>Michigan</td>\n",
       "    </tr>\n",
       "    <tr>\n",
       "      <th>18</th>\n",
       "      <td>Christian Laettner</td>\n",
       "      <td>DAL</td>\n",
       "      <td>Dallas Mavericks</td>\n",
       "      <td>Dallas</td>\n",
       "      <td>Texas</td>\n",
       "    </tr>\n",
       "    <tr>\n",
       "      <th>19</th>\n",
       "      <td>Christian Laettner</td>\n",
       "      <td>MIA</td>\n",
       "      <td>Miami Heat</td>\n",
       "      <td>Miami</td>\n",
       "      <td>Florida</td>\n",
       "    </tr>\n",
       "    <tr>\n",
       "      <th>20</th>\n",
       "      <td>Karl Malone</td>\n",
       "      <td>UTH</td>\n",
       "      <td>NaN</td>\n",
       "      <td>NaN</td>\n",
       "      <td>NaN</td>\n",
       "    </tr>\n",
       "    <tr>\n",
       "      <th>21</th>\n",
       "      <td>Karl Malone</td>\n",
       "      <td>UTA</td>\n",
       "      <td>Utah Jazz</td>\n",
       "      <td>Utah</td>\n",
       "      <td>Utah</td>\n",
       "    </tr>\n",
       "    <tr>\n",
       "      <th>22</th>\n",
       "      <td>Karl Malone</td>\n",
       "      <td>LAL</td>\n",
       "      <td>Los Angeles Lakers</td>\n",
       "      <td>Los Angeles</td>\n",
       "      <td>California</td>\n",
       "    </tr>\n",
       "    <tr>\n",
       "      <th>23</th>\n",
       "      <td>Chris Mullin</td>\n",
       "      <td>GOS</td>\n",
       "      <td>NaN</td>\n",
       "      <td>NaN</td>\n",
       "      <td>NaN</td>\n",
       "    </tr>\n",
       "    <tr>\n",
       "      <th>24</th>\n",
       "      <td>Chris Mullin</td>\n",
       "      <td>IND</td>\n",
       "      <td>Indiana Pacers</td>\n",
       "      <td>Indiana</td>\n",
       "      <td>Indiana</td>\n",
       "    </tr>\n",
       "    <tr>\n",
       "      <th>25</th>\n",
       "      <td>Chris Mullin</td>\n",
       "      <td>GSW</td>\n",
       "      <td>Golden State Warriors</td>\n",
       "      <td>Golden State</td>\n",
       "      <td>California</td>\n",
       "    </tr>\n",
       "    <tr>\n",
       "      <th>26</th>\n",
       "      <td>Scottie Pippen</td>\n",
       "      <td>CHI</td>\n",
       "      <td>Chicago Bulls</td>\n",
       "      <td>Chicago</td>\n",
       "      <td>Illinois</td>\n",
       "    </tr>\n",
       "    <tr>\n",
       "      <th>27</th>\n",
       "      <td>Scottie Pippen</td>\n",
       "      <td>POR</td>\n",
       "      <td>Portland Trail Blazers</td>\n",
       "      <td>Portland</td>\n",
       "      <td>Oregon</td>\n",
       "    </tr>\n",
       "    <tr>\n",
       "      <th>28</th>\n",
       "      <td>Scottie Pippen</td>\n",
       "      <td>HOU</td>\n",
       "      <td>Houston Rockets</td>\n",
       "      <td>Houston</td>\n",
       "      <td>Texas</td>\n",
       "    </tr>\n",
       "    <tr>\n",
       "      <th>29</th>\n",
       "      <td>David Robinson</td>\n",
       "      <td>SAN</td>\n",
       "      <td>NaN</td>\n",
       "      <td>NaN</td>\n",
       "      <td>NaN</td>\n",
       "    </tr>\n",
       "    <tr>\n",
       "      <th>30</th>\n",
       "      <td>David Robinson</td>\n",
       "      <td>SAS</td>\n",
       "      <td>San Antonio Spurs</td>\n",
       "      <td>San Antonio</td>\n",
       "      <td>Texas</td>\n",
       "    </tr>\n",
       "    <tr>\n",
       "      <th>31</th>\n",
       "      <td>John Stockton</td>\n",
       "      <td>UTH</td>\n",
       "      <td>NaN</td>\n",
       "      <td>NaN</td>\n",
       "      <td>NaN</td>\n",
       "    </tr>\n",
       "    <tr>\n",
       "      <th>32</th>\n",
       "      <td>John Stockton</td>\n",
       "      <td>UTA</td>\n",
       "      <td>Utah Jazz</td>\n",
       "      <td>Utah</td>\n",
       "      <td>Utah</td>\n",
       "    </tr>\n",
       "  </tbody>\n",
       "</table>\n",
       "</div>"
      ],
      "text/plain": [
       "                  Name Team_Abbreviation               Team_Name  \\\n",
       "0      Charles Barkley               PHL                     NaN   \n",
       "1      Charles Barkley               PHX            Phoenix Suns   \n",
       "2      Charles Barkley               HOU         Houston Rockets   \n",
       "3           Larry Bird               BOS          Boston Celtics   \n",
       "4        Clyde Drexler               POR  Portland Trail Blazers   \n",
       "5        Clyde Drexler               HOU         Houston Rockets   \n",
       "6        Clyde Drexler               TOT                     NaN   \n",
       "7        Patrick Ewing               NYK         New York Knicks   \n",
       "8        Patrick Ewing               SEA                     NaN   \n",
       "9        Patrick Ewing               ORL           Orlando Magic   \n",
       "10       Magic Johnson               LAL      Los Angeles Lakers   \n",
       "11      Michael Jordan               CHI           Chicago Bulls   \n",
       "12      Michael Jordan               WAS      Washington Wizards   \n",
       "13  Christian Laettner               MIN  Minnesota Timberwolves   \n",
       "14  Christian Laettner               WAS      Washington Wizards   \n",
       "15  Christian Laettner               ATL           Atlanta Hawks   \n",
       "16  Christian Laettner               TOT                     NaN   \n",
       "17  Christian Laettner               DET         Detroit Pistons   \n",
       "18  Christian Laettner               DAL        Dallas Mavericks   \n",
       "19  Christian Laettner               MIA              Miami Heat   \n",
       "20         Karl Malone               UTH                     NaN   \n",
       "21         Karl Malone               UTA               Utah Jazz   \n",
       "22         Karl Malone               LAL      Los Angeles Lakers   \n",
       "23        Chris Mullin               GOS                     NaN   \n",
       "24        Chris Mullin               IND          Indiana Pacers   \n",
       "25        Chris Mullin               GSW   Golden State Warriors   \n",
       "26      Scottie Pippen               CHI           Chicago Bulls   \n",
       "27      Scottie Pippen               POR  Portland Trail Blazers   \n",
       "28      Scottie Pippen               HOU         Houston Rockets   \n",
       "29      David Robinson               SAN                     NaN   \n",
       "30      David Robinson               SAS       San Antonio Spurs   \n",
       "31       John Stockton               UTH                     NaN   \n",
       "32       John Stockton               UTA               Utah Jazz   \n",
       "\n",
       "            City                 State  \n",
       "0            NaN                   NaN  \n",
       "1        Phoenix               Arizona  \n",
       "2        Houston                 Texas  \n",
       "3         Boston         Massachusetts  \n",
       "4       Portland                Oregon  \n",
       "5        Houston                 Texas  \n",
       "6            NaN                   NaN  \n",
       "7       New York              New York  \n",
       "8            NaN                   NaN  \n",
       "9        Orlando               Florida  \n",
       "10   Los Angeles            California  \n",
       "11       Chicago              Illinois  \n",
       "12    Washington  District of Columbia  \n",
       "13     Minnesota             Minnesota  \n",
       "14    Washington  District of Columbia  \n",
       "15       Atlanta               Georgia  \n",
       "16           NaN                   NaN  \n",
       "17       Detroit              Michigan  \n",
       "18        Dallas                 Texas  \n",
       "19         Miami               Florida  \n",
       "20           NaN                   NaN  \n",
       "21          Utah                  Utah  \n",
       "22   Los Angeles            California  \n",
       "23           NaN                   NaN  \n",
       "24       Indiana               Indiana  \n",
       "25  Golden State            California  \n",
       "26       Chicago              Illinois  \n",
       "27      Portland                Oregon  \n",
       "28       Houston                 Texas  \n",
       "29           NaN                   NaN  \n",
       "30   San Antonio                 Texas  \n",
       "31           NaN                   NaN  \n",
       "32          Utah                  Utah  "
      ]
     },
     "execution_count": 11,
     "metadata": {},
     "output_type": "execute_result"
    }
   ],
   "source": [
    "#create mapping dataframe from lists\n",
    "mapdata=pd.DataFrame({'Name': Name,\n",
    "                      'Team_Abbreviation':Team_Abbreviation,\n",
    "                      'Team_Name': Team_Name,\n",
    "                      'City': City,\n",
    "                      'State':State})\n",
    "#look at mapping data\n",
    "mapdata"
   ]
  },
  {
   "cell_type": "code",
   "execution_count": 12,
   "id": "b4c99709",
   "metadata": {},
   "outputs": [
    {
     "data": {
      "text/html": [
       "<div>\n",
       "<style scoped>\n",
       "    .dataframe tbody tr th:only-of-type {\n",
       "        vertical-align: middle;\n",
       "    }\n",
       "\n",
       "    .dataframe tbody tr th {\n",
       "        vertical-align: top;\n",
       "    }\n",
       "\n",
       "    .dataframe thead th {\n",
       "        text-align: right;\n",
       "    }\n",
       "</style>\n",
       "<table border=\"1\" class=\"dataframe\">\n",
       "  <thead>\n",
       "    <tr style=\"text-align: right;\">\n",
       "      <th></th>\n",
       "      <th>Name</th>\n",
       "      <th>Team_Abbreviation</th>\n",
       "      <th>Team_Name</th>\n",
       "      <th>City</th>\n",
       "      <th>State</th>\n",
       "    </tr>\n",
       "  </thead>\n",
       "  <tbody>\n",
       "    <tr>\n",
       "      <th>0</th>\n",
       "      <td>Charles Barkley</td>\n",
       "      <td>PHL</td>\n",
       "      <td>Philadelphia 76ers</td>\n",
       "      <td>Philadelphia</td>\n",
       "      <td>Pennsylvania</td>\n",
       "    </tr>\n",
       "    <tr>\n",
       "      <th>1</th>\n",
       "      <td>Charles Barkley</td>\n",
       "      <td>PHX</td>\n",
       "      <td>Phoenix Suns</td>\n",
       "      <td>Phoenix</td>\n",
       "      <td>Arizona</td>\n",
       "    </tr>\n",
       "    <tr>\n",
       "      <th>2</th>\n",
       "      <td>Charles Barkley</td>\n",
       "      <td>HOU</td>\n",
       "      <td>Houston Rockets</td>\n",
       "      <td>Houston</td>\n",
       "      <td>Texas</td>\n",
       "    </tr>\n",
       "    <tr>\n",
       "      <th>3</th>\n",
       "      <td>Larry Bird</td>\n",
       "      <td>BOS</td>\n",
       "      <td>Boston Celtics</td>\n",
       "      <td>Boston</td>\n",
       "      <td>Massachusetts</td>\n",
       "    </tr>\n",
       "    <tr>\n",
       "      <th>4</th>\n",
       "      <td>Clyde Drexler</td>\n",
       "      <td>POR</td>\n",
       "      <td>Portland Trail Blazers</td>\n",
       "      <td>Portland</td>\n",
       "      <td>Oregon</td>\n",
       "    </tr>\n",
       "    <tr>\n",
       "      <th>5</th>\n",
       "      <td>Clyde Drexler</td>\n",
       "      <td>HOU</td>\n",
       "      <td>Houston Rockets</td>\n",
       "      <td>Houston</td>\n",
       "      <td>Texas</td>\n",
       "    </tr>\n",
       "    <tr>\n",
       "      <th>6</th>\n",
       "      <td>Clyde Drexler</td>\n",
       "      <td>TOT</td>\n",
       "      <td>Houston Rockets</td>\n",
       "      <td>Houston</td>\n",
       "      <td>Texas</td>\n",
       "    </tr>\n",
       "    <tr>\n",
       "      <th>7</th>\n",
       "      <td>Patrick Ewing</td>\n",
       "      <td>NYK</td>\n",
       "      <td>New York Knicks</td>\n",
       "      <td>New York</td>\n",
       "      <td>New York</td>\n",
       "    </tr>\n",
       "    <tr>\n",
       "      <th>8</th>\n",
       "      <td>Patrick Ewing</td>\n",
       "      <td>SEA</td>\n",
       "      <td>Seattle SuperSonics</td>\n",
       "      <td>Seattle</td>\n",
       "      <td>Washington</td>\n",
       "    </tr>\n",
       "    <tr>\n",
       "      <th>9</th>\n",
       "      <td>Patrick Ewing</td>\n",
       "      <td>ORL</td>\n",
       "      <td>Orlando Magic</td>\n",
       "      <td>Orlando</td>\n",
       "      <td>Florida</td>\n",
       "    </tr>\n",
       "    <tr>\n",
       "      <th>10</th>\n",
       "      <td>Magic Johnson</td>\n",
       "      <td>LAL</td>\n",
       "      <td>Los Angeles Lakers</td>\n",
       "      <td>Los Angeles</td>\n",
       "      <td>California</td>\n",
       "    </tr>\n",
       "    <tr>\n",
       "      <th>11</th>\n",
       "      <td>Michael Jordan</td>\n",
       "      <td>CHI</td>\n",
       "      <td>Chicago Bulls</td>\n",
       "      <td>Chicago</td>\n",
       "      <td>Illinois</td>\n",
       "    </tr>\n",
       "    <tr>\n",
       "      <th>12</th>\n",
       "      <td>Michael Jordan</td>\n",
       "      <td>WAS</td>\n",
       "      <td>Washington Wizards</td>\n",
       "      <td>Washington</td>\n",
       "      <td>District of Columbia</td>\n",
       "    </tr>\n",
       "    <tr>\n",
       "      <th>13</th>\n",
       "      <td>Christian Laettner</td>\n",
       "      <td>MIN</td>\n",
       "      <td>Minnesota Timberwolves</td>\n",
       "      <td>Minneapolis</td>\n",
       "      <td>Minnesota</td>\n",
       "    </tr>\n",
       "    <tr>\n",
       "      <th>14</th>\n",
       "      <td>Christian Laettner</td>\n",
       "      <td>WAS</td>\n",
       "      <td>Washington Wizards</td>\n",
       "      <td>Washington</td>\n",
       "      <td>District of Columbia</td>\n",
       "    </tr>\n",
       "    <tr>\n",
       "      <th>15</th>\n",
       "      <td>Christian Laettner</td>\n",
       "      <td>ATL</td>\n",
       "      <td>Atlanta Hawks</td>\n",
       "      <td>Atlanta</td>\n",
       "      <td>Georgia</td>\n",
       "    </tr>\n",
       "    <tr>\n",
       "      <th>16</th>\n",
       "      <td>Christian Laettner</td>\n",
       "      <td>TOT</td>\n",
       "      <td>Dallas Mavericks</td>\n",
       "      <td>Dallas</td>\n",
       "      <td>Texas</td>\n",
       "    </tr>\n",
       "    <tr>\n",
       "      <th>17</th>\n",
       "      <td>Christian Laettner</td>\n",
       "      <td>DET</td>\n",
       "      <td>Detroit Pistons</td>\n",
       "      <td>Detroit</td>\n",
       "      <td>Michigan</td>\n",
       "    </tr>\n",
       "    <tr>\n",
       "      <th>18</th>\n",
       "      <td>Christian Laettner</td>\n",
       "      <td>DAL</td>\n",
       "      <td>Dallas Mavericks</td>\n",
       "      <td>Dallas</td>\n",
       "      <td>Texas</td>\n",
       "    </tr>\n",
       "    <tr>\n",
       "      <th>19</th>\n",
       "      <td>Christian Laettner</td>\n",
       "      <td>MIA</td>\n",
       "      <td>Miami Heat</td>\n",
       "      <td>Miami</td>\n",
       "      <td>Florida</td>\n",
       "    </tr>\n",
       "    <tr>\n",
       "      <th>20</th>\n",
       "      <td>Karl Malone</td>\n",
       "      <td>UTH</td>\n",
       "      <td>Utah Jazz</td>\n",
       "      <td>Salt Lake City</td>\n",
       "      <td>Utah</td>\n",
       "    </tr>\n",
       "    <tr>\n",
       "      <th>21</th>\n",
       "      <td>Karl Malone</td>\n",
       "      <td>UTA</td>\n",
       "      <td>Utah Jazz</td>\n",
       "      <td>Salt Lake City</td>\n",
       "      <td>Utah</td>\n",
       "    </tr>\n",
       "    <tr>\n",
       "      <th>22</th>\n",
       "      <td>Karl Malone</td>\n",
       "      <td>LAL</td>\n",
       "      <td>Los Angeles Lakers</td>\n",
       "      <td>Los Angeles</td>\n",
       "      <td>California</td>\n",
       "    </tr>\n",
       "    <tr>\n",
       "      <th>23</th>\n",
       "      <td>Chris Mullin</td>\n",
       "      <td>GOS</td>\n",
       "      <td>Golden State Warriors</td>\n",
       "      <td>San Francisco</td>\n",
       "      <td>California</td>\n",
       "    </tr>\n",
       "    <tr>\n",
       "      <th>24</th>\n",
       "      <td>Chris Mullin</td>\n",
       "      <td>IND</td>\n",
       "      <td>Indiana Pacers</td>\n",
       "      <td>Indianapolis</td>\n",
       "      <td>Indiana</td>\n",
       "    </tr>\n",
       "    <tr>\n",
       "      <th>25</th>\n",
       "      <td>Chris Mullin</td>\n",
       "      <td>GSW</td>\n",
       "      <td>Golden State Warriors</td>\n",
       "      <td>San Francisco</td>\n",
       "      <td>California</td>\n",
       "    </tr>\n",
       "    <tr>\n",
       "      <th>26</th>\n",
       "      <td>Scottie Pippen</td>\n",
       "      <td>CHI</td>\n",
       "      <td>Chicago Bulls</td>\n",
       "      <td>Chicago</td>\n",
       "      <td>Illinois</td>\n",
       "    </tr>\n",
       "    <tr>\n",
       "      <th>27</th>\n",
       "      <td>Scottie Pippen</td>\n",
       "      <td>POR</td>\n",
       "      <td>Portland Trail Blazers</td>\n",
       "      <td>Portland</td>\n",
       "      <td>Oregon</td>\n",
       "    </tr>\n",
       "    <tr>\n",
       "      <th>28</th>\n",
       "      <td>Scottie Pippen</td>\n",
       "      <td>HOU</td>\n",
       "      <td>Houston Rockets</td>\n",
       "      <td>Houston</td>\n",
       "      <td>Texas</td>\n",
       "    </tr>\n",
       "    <tr>\n",
       "      <th>29</th>\n",
       "      <td>David Robinson</td>\n",
       "      <td>SAN</td>\n",
       "      <td>San Antonio Spurs</td>\n",
       "      <td>San Antonio</td>\n",
       "      <td>Texas</td>\n",
       "    </tr>\n",
       "    <tr>\n",
       "      <th>30</th>\n",
       "      <td>David Robinson</td>\n",
       "      <td>SAS</td>\n",
       "      <td>San Antonio Spurs</td>\n",
       "      <td>San Antonio</td>\n",
       "      <td>Texas</td>\n",
       "    </tr>\n",
       "    <tr>\n",
       "      <th>31</th>\n",
       "      <td>John Stockton</td>\n",
       "      <td>UTH</td>\n",
       "      <td>Utah Jazz</td>\n",
       "      <td>Salt Lake City</td>\n",
       "      <td>Utah</td>\n",
       "    </tr>\n",
       "    <tr>\n",
       "      <th>32</th>\n",
       "      <td>John Stockton</td>\n",
       "      <td>UTA</td>\n",
       "      <td>Utah Jazz</td>\n",
       "      <td>Salt Lake City</td>\n",
       "      <td>Utah</td>\n",
       "    </tr>\n",
       "  </tbody>\n",
       "</table>\n",
       "</div>"
      ],
      "text/plain": [
       "                  Name Team_Abbreviation               Team_Name  \\\n",
       "0      Charles Barkley               PHL      Philadelphia 76ers   \n",
       "1      Charles Barkley               PHX            Phoenix Suns   \n",
       "2      Charles Barkley               HOU         Houston Rockets   \n",
       "3           Larry Bird               BOS          Boston Celtics   \n",
       "4        Clyde Drexler               POR  Portland Trail Blazers   \n",
       "5        Clyde Drexler               HOU         Houston Rockets   \n",
       "6        Clyde Drexler               TOT         Houston Rockets   \n",
       "7        Patrick Ewing               NYK         New York Knicks   \n",
       "8        Patrick Ewing               SEA     Seattle SuperSonics   \n",
       "9        Patrick Ewing               ORL           Orlando Magic   \n",
       "10       Magic Johnson               LAL      Los Angeles Lakers   \n",
       "11      Michael Jordan               CHI           Chicago Bulls   \n",
       "12      Michael Jordan               WAS      Washington Wizards   \n",
       "13  Christian Laettner               MIN  Minnesota Timberwolves   \n",
       "14  Christian Laettner               WAS      Washington Wizards   \n",
       "15  Christian Laettner               ATL           Atlanta Hawks   \n",
       "16  Christian Laettner               TOT        Dallas Mavericks   \n",
       "17  Christian Laettner               DET         Detroit Pistons   \n",
       "18  Christian Laettner               DAL        Dallas Mavericks   \n",
       "19  Christian Laettner               MIA              Miami Heat   \n",
       "20         Karl Malone               UTH               Utah Jazz   \n",
       "21         Karl Malone               UTA               Utah Jazz   \n",
       "22         Karl Malone               LAL      Los Angeles Lakers   \n",
       "23        Chris Mullin               GOS   Golden State Warriors   \n",
       "24        Chris Mullin               IND          Indiana Pacers   \n",
       "25        Chris Mullin               GSW   Golden State Warriors   \n",
       "26      Scottie Pippen               CHI           Chicago Bulls   \n",
       "27      Scottie Pippen               POR  Portland Trail Blazers   \n",
       "28      Scottie Pippen               HOU         Houston Rockets   \n",
       "29      David Robinson               SAN       San Antonio Spurs   \n",
       "30      David Robinson               SAS       San Antonio Spurs   \n",
       "31       John Stockton               UTH               Utah Jazz   \n",
       "32       John Stockton               UTA               Utah Jazz   \n",
       "\n",
       "              City                 State  \n",
       "0     Philadelphia          Pennsylvania  \n",
       "1          Phoenix               Arizona  \n",
       "2          Houston                 Texas  \n",
       "3           Boston         Massachusetts  \n",
       "4         Portland                Oregon  \n",
       "5          Houston                 Texas  \n",
       "6          Houston                 Texas  \n",
       "7         New York              New York  \n",
       "8          Seattle            Washington  \n",
       "9          Orlando               Florida  \n",
       "10     Los Angeles            California  \n",
       "11         Chicago              Illinois  \n",
       "12      Washington  District of Columbia  \n",
       "13     Minneapolis             Minnesota  \n",
       "14      Washington  District of Columbia  \n",
       "15         Atlanta               Georgia  \n",
       "16          Dallas                 Texas  \n",
       "17         Detroit              Michigan  \n",
       "18          Dallas                 Texas  \n",
       "19           Miami               Florida  \n",
       "20  Salt Lake City                  Utah  \n",
       "21  Salt Lake City                  Utah  \n",
       "22     Los Angeles            California  \n",
       "23   San Francisco            California  \n",
       "24    Indianapolis               Indiana  \n",
       "25   San Francisco            California  \n",
       "26         Chicago              Illinois  \n",
       "27        Portland                Oregon  \n",
       "28         Houston                 Texas  \n",
       "29     San Antonio                 Texas  \n",
       "30     San Antonio                 Texas  \n",
       "31  Salt Lake City                  Utah  \n",
       "32  Salt Lake City                  Utah  "
      ]
     },
     "execution_count": 12,
     "metadata": {},
     "output_type": "execute_result"
    }
   ],
   "source": [
    "#fill in missing data and replace incorrect data\n",
    "condition=mapdata['Team_Abbreviation'] == 'PHL'\n",
    "columns_to_modify=['Team_Name', 'City', 'State']\n",
    "mapdata.loc[condition, columns_to_modify] = ['Philadelphia 76ers', 'Philadelphia', 'Pennsylvania'] \n",
    "\n",
    "condition=(mapdata['Team_Abbreviation'] == 'TOT') & (mapdata['Name'] == 'Clyde Drexler')\n",
    "columns_to_modify=['Team_Name', 'City', 'State']\n",
    "mapdata.loc[condition, columns_to_modify] = ['Houston Rockets', 'Houston', 'Texas'] \n",
    "\n",
    "condition=mapdata['Team_Abbreviation'] == 'SEA'\n",
    "columns_to_modify=['Team_Name', 'City', 'State']\n",
    "mapdata.loc[condition, columns_to_modify] = ['Seattle SuperSonics', 'Seattle', 'Washington'] \n",
    "\n",
    "condition=(mapdata['Team_Abbreviation'] == 'TOT') & (mapdata['Name'] == 'Christian Laettner')\n",
    "columns_to_modify=['Team_Name', 'City', 'State']\n",
    "mapdata.loc[condition, columns_to_modify] = ['Dallas Mavericks', 'Dallas', 'Texas'] \n",
    "\n",
    "condition=mapdata['Team_Abbreviation'] == 'MIN'\n",
    "columns_to_modify=['Team_Name', 'City', 'State']\n",
    "mapdata.loc[condition, columns_to_modify] = ['Minnesota Timberwolves', 'Minneapolis', 'Minnesota'] \n",
    "\n",
    "condition=mapdata['Team_Abbreviation'] == 'UTH' \n",
    "columns_to_modify=['Team_Name', 'City', 'State']\n",
    "mapdata.loc[condition, columns_to_modify] = ['Utah Jazz', 'Salt Lake City', 'Utah'] \n",
    "\n",
    "condition=mapdata['Team_Abbreviation'] == 'UTA' \n",
    "columns_to_modify=['Team_Name', 'City', 'State']\n",
    "mapdata.loc[condition, columns_to_modify] = ['Utah Jazz', 'Salt Lake City', 'Utah'] \n",
    "\n",
    "condition=mapdata['Team_Abbreviation'] == 'GOS' \n",
    "columns_to_modify=['Team_Name', 'City', 'State']\n",
    "mapdata.loc[condition, columns_to_modify] = ['Golden State Warriors', 'San Francisco', 'California'] \n",
    "\n",
    "condition=mapdata['Team_Abbreviation'] == 'IND' \n",
    "columns_to_modify=['Team_Name', 'City', 'State']\n",
    "mapdata.loc[condition, columns_to_modify] = ['Indiana Pacers', 'Indianapolis', 'Indiana'] \n",
    "\n",
    "condition=mapdata['Team_Abbreviation'] == 'GSW' \n",
    "columns_to_modify=['Team_Name', 'City', 'State']\n",
    "mapdata.loc[condition, columns_to_modify] = ['Golden State Warriors', 'San Francisco', 'California'] \n",
    "\n",
    "condition=mapdata['Team_Abbreviation'] == 'SAN' \n",
    "columns_to_modify=['Team_Name', 'City', 'State']\n",
    "mapdata.loc[condition, columns_to_modify] = ['San Antonio Spurs', 'San Antonio', 'Texas'] \n",
    "\n",
    "#look at corrected dataframe\n",
    "mapdata"
   ]
  },
  {
   "cell_type": "code",
   "execution_count": 13,
   "id": "56e85b00",
   "metadata": {},
   "outputs": [
    {
     "data": {
      "text/html": [
       "<div>\n",
       "<style scoped>\n",
       "    .dataframe tbody tr th:only-of-type {\n",
       "        vertical-align: middle;\n",
       "    }\n",
       "\n",
       "    .dataframe tbody tr th {\n",
       "        vertical-align: top;\n",
       "    }\n",
       "\n",
       "    .dataframe thead th {\n",
       "        text-align: right;\n",
       "    }\n",
       "</style>\n",
       "<table border=\"1\" class=\"dataframe\">\n",
       "  <thead>\n",
       "    <tr style=\"text-align: right;\">\n",
       "      <th></th>\n",
       "      <th>Name</th>\n",
       "      <th>Team_Abbreviation</th>\n",
       "      <th>Team_Name</th>\n",
       "      <th>City</th>\n",
       "      <th>State</th>\n",
       "    </tr>\n",
       "  </thead>\n",
       "  <tbody>\n",
       "    <tr>\n",
       "      <th>0</th>\n",
       "      <td>Charles Barkley</td>\n",
       "      <td>PHL</td>\n",
       "      <td>Philadelphia 76ers</td>\n",
       "      <td>Philadelphia</td>\n",
       "      <td>Pennsylvania</td>\n",
       "    </tr>\n",
       "    <tr>\n",
       "      <th>1</th>\n",
       "      <td>Charles Barkley</td>\n",
       "      <td>PHX</td>\n",
       "      <td>Phoenix Suns</td>\n",
       "      <td>Phoenix</td>\n",
       "      <td>Arizona</td>\n",
       "    </tr>\n",
       "    <tr>\n",
       "      <th>2</th>\n",
       "      <td>Charles Barkley</td>\n",
       "      <td>HOU</td>\n",
       "      <td>Houston Rockets</td>\n",
       "      <td>Houston</td>\n",
       "      <td>Texas</td>\n",
       "    </tr>\n",
       "    <tr>\n",
       "      <th>3</th>\n",
       "      <td>Larry Bird</td>\n",
       "      <td>BOS</td>\n",
       "      <td>Boston Celtics</td>\n",
       "      <td>Boston</td>\n",
       "      <td>Massachusetts</td>\n",
       "    </tr>\n",
       "    <tr>\n",
       "      <th>4</th>\n",
       "      <td>Clyde Drexler</td>\n",
       "      <td>POR</td>\n",
       "      <td>Portland Trail Blazers</td>\n",
       "      <td>Portland</td>\n",
       "      <td>Oregon</td>\n",
       "    </tr>\n",
       "    <tr>\n",
       "      <th>5</th>\n",
       "      <td>Clyde Drexler</td>\n",
       "      <td>HOU</td>\n",
       "      <td>Houston Rockets</td>\n",
       "      <td>Houston</td>\n",
       "      <td>Texas</td>\n",
       "    </tr>\n",
       "    <tr>\n",
       "      <th>6</th>\n",
       "      <td>Patrick Ewing</td>\n",
       "      <td>NYK</td>\n",
       "      <td>New York Knicks</td>\n",
       "      <td>New York</td>\n",
       "      <td>New York</td>\n",
       "    </tr>\n",
       "    <tr>\n",
       "      <th>7</th>\n",
       "      <td>Patrick Ewing</td>\n",
       "      <td>SEA</td>\n",
       "      <td>Seattle SuperSonics</td>\n",
       "      <td>Seattle</td>\n",
       "      <td>Washington</td>\n",
       "    </tr>\n",
       "    <tr>\n",
       "      <th>8</th>\n",
       "      <td>Patrick Ewing</td>\n",
       "      <td>ORL</td>\n",
       "      <td>Orlando Magic</td>\n",
       "      <td>Orlando</td>\n",
       "      <td>Florida</td>\n",
       "    </tr>\n",
       "    <tr>\n",
       "      <th>9</th>\n",
       "      <td>Magic Johnson</td>\n",
       "      <td>LAL</td>\n",
       "      <td>Los Angeles Lakers</td>\n",
       "      <td>Los Angeles</td>\n",
       "      <td>California</td>\n",
       "    </tr>\n",
       "    <tr>\n",
       "      <th>10</th>\n",
       "      <td>Michael Jordan</td>\n",
       "      <td>CHI</td>\n",
       "      <td>Chicago Bulls</td>\n",
       "      <td>Chicago</td>\n",
       "      <td>Illinois</td>\n",
       "    </tr>\n",
       "    <tr>\n",
       "      <th>11</th>\n",
       "      <td>Michael Jordan</td>\n",
       "      <td>WAS</td>\n",
       "      <td>Washington Wizards</td>\n",
       "      <td>Washington</td>\n",
       "      <td>District of Columbia</td>\n",
       "    </tr>\n",
       "    <tr>\n",
       "      <th>12</th>\n",
       "      <td>Christian Laettner</td>\n",
       "      <td>MIN</td>\n",
       "      <td>Minnesota Timberwolves</td>\n",
       "      <td>Minneapolis</td>\n",
       "      <td>Minnesota</td>\n",
       "    </tr>\n",
       "    <tr>\n",
       "      <th>13</th>\n",
       "      <td>Christian Laettner</td>\n",
       "      <td>WAS</td>\n",
       "      <td>Washington Wizards</td>\n",
       "      <td>Washington</td>\n",
       "      <td>District of Columbia</td>\n",
       "    </tr>\n",
       "    <tr>\n",
       "      <th>14</th>\n",
       "      <td>Christian Laettner</td>\n",
       "      <td>ATL</td>\n",
       "      <td>Atlanta Hawks</td>\n",
       "      <td>Atlanta</td>\n",
       "      <td>Georgia</td>\n",
       "    </tr>\n",
       "    <tr>\n",
       "      <th>15</th>\n",
       "      <td>Christian Laettner</td>\n",
       "      <td>TOT</td>\n",
       "      <td>Dallas Mavericks</td>\n",
       "      <td>Dallas</td>\n",
       "      <td>Texas</td>\n",
       "    </tr>\n",
       "    <tr>\n",
       "      <th>16</th>\n",
       "      <td>Christian Laettner</td>\n",
       "      <td>DET</td>\n",
       "      <td>Detroit Pistons</td>\n",
       "      <td>Detroit</td>\n",
       "      <td>Michigan</td>\n",
       "    </tr>\n",
       "    <tr>\n",
       "      <th>17</th>\n",
       "      <td>Christian Laettner</td>\n",
       "      <td>MIA</td>\n",
       "      <td>Miami Heat</td>\n",
       "      <td>Miami</td>\n",
       "      <td>Florida</td>\n",
       "    </tr>\n",
       "    <tr>\n",
       "      <th>18</th>\n",
       "      <td>Karl Malone</td>\n",
       "      <td>UTH</td>\n",
       "      <td>Utah Jazz</td>\n",
       "      <td>Salt Lake City</td>\n",
       "      <td>Utah</td>\n",
       "    </tr>\n",
       "    <tr>\n",
       "      <th>19</th>\n",
       "      <td>Karl Malone</td>\n",
       "      <td>LAL</td>\n",
       "      <td>Los Angeles Lakers</td>\n",
       "      <td>Los Angeles</td>\n",
       "      <td>California</td>\n",
       "    </tr>\n",
       "    <tr>\n",
       "      <th>20</th>\n",
       "      <td>Chris Mullin</td>\n",
       "      <td>GOS</td>\n",
       "      <td>Golden State Warriors</td>\n",
       "      <td>San Francisco</td>\n",
       "      <td>California</td>\n",
       "    </tr>\n",
       "    <tr>\n",
       "      <th>21</th>\n",
       "      <td>Chris Mullin</td>\n",
       "      <td>IND</td>\n",
       "      <td>Indiana Pacers</td>\n",
       "      <td>Indianapolis</td>\n",
       "      <td>Indiana</td>\n",
       "    </tr>\n",
       "    <tr>\n",
       "      <th>22</th>\n",
       "      <td>Scottie Pippen</td>\n",
       "      <td>CHI</td>\n",
       "      <td>Chicago Bulls</td>\n",
       "      <td>Chicago</td>\n",
       "      <td>Illinois</td>\n",
       "    </tr>\n",
       "    <tr>\n",
       "      <th>23</th>\n",
       "      <td>Scottie Pippen</td>\n",
       "      <td>POR</td>\n",
       "      <td>Portland Trail Blazers</td>\n",
       "      <td>Portland</td>\n",
       "      <td>Oregon</td>\n",
       "    </tr>\n",
       "    <tr>\n",
       "      <th>24</th>\n",
       "      <td>Scottie Pippen</td>\n",
       "      <td>HOU</td>\n",
       "      <td>Houston Rockets</td>\n",
       "      <td>Houston</td>\n",
       "      <td>Texas</td>\n",
       "    </tr>\n",
       "    <tr>\n",
       "      <th>25</th>\n",
       "      <td>David Robinson</td>\n",
       "      <td>SAN</td>\n",
       "      <td>San Antonio Spurs</td>\n",
       "      <td>San Antonio</td>\n",
       "      <td>Texas</td>\n",
       "    </tr>\n",
       "    <tr>\n",
       "      <th>26</th>\n",
       "      <td>John Stockton</td>\n",
       "      <td>UTH</td>\n",
       "      <td>Utah Jazz</td>\n",
       "      <td>Salt Lake City</td>\n",
       "      <td>Utah</td>\n",
       "    </tr>\n",
       "  </tbody>\n",
       "</table>\n",
       "</div>"
      ],
      "text/plain": [
       "                  Name Team_Abbreviation               Team_Name  \\\n",
       "0      Charles Barkley               PHL      Philadelphia 76ers   \n",
       "1      Charles Barkley               PHX            Phoenix Suns   \n",
       "2      Charles Barkley               HOU         Houston Rockets   \n",
       "3           Larry Bird               BOS          Boston Celtics   \n",
       "4        Clyde Drexler               POR  Portland Trail Blazers   \n",
       "5        Clyde Drexler               HOU         Houston Rockets   \n",
       "6        Patrick Ewing               NYK         New York Knicks   \n",
       "7        Patrick Ewing               SEA     Seattle SuperSonics   \n",
       "8        Patrick Ewing               ORL           Orlando Magic   \n",
       "9        Magic Johnson               LAL      Los Angeles Lakers   \n",
       "10      Michael Jordan               CHI           Chicago Bulls   \n",
       "11      Michael Jordan               WAS      Washington Wizards   \n",
       "12  Christian Laettner               MIN  Minnesota Timberwolves   \n",
       "13  Christian Laettner               WAS      Washington Wizards   \n",
       "14  Christian Laettner               ATL           Atlanta Hawks   \n",
       "15  Christian Laettner               TOT        Dallas Mavericks   \n",
       "16  Christian Laettner               DET         Detroit Pistons   \n",
       "17  Christian Laettner               MIA              Miami Heat   \n",
       "18         Karl Malone               UTH               Utah Jazz   \n",
       "19         Karl Malone               LAL      Los Angeles Lakers   \n",
       "20        Chris Mullin               GOS   Golden State Warriors   \n",
       "21        Chris Mullin               IND          Indiana Pacers   \n",
       "22      Scottie Pippen               CHI           Chicago Bulls   \n",
       "23      Scottie Pippen               POR  Portland Trail Blazers   \n",
       "24      Scottie Pippen               HOU         Houston Rockets   \n",
       "25      David Robinson               SAN       San Antonio Spurs   \n",
       "26       John Stockton               UTH               Utah Jazz   \n",
       "\n",
       "              City                 State  \n",
       "0     Philadelphia          Pennsylvania  \n",
       "1          Phoenix               Arizona  \n",
       "2          Houston                 Texas  \n",
       "3           Boston         Massachusetts  \n",
       "4         Portland                Oregon  \n",
       "5          Houston                 Texas  \n",
       "6         New York              New York  \n",
       "7          Seattle            Washington  \n",
       "8          Orlando               Florida  \n",
       "9      Los Angeles            California  \n",
       "10         Chicago              Illinois  \n",
       "11      Washington  District of Columbia  \n",
       "12     Minneapolis             Minnesota  \n",
       "13      Washington  District of Columbia  \n",
       "14         Atlanta               Georgia  \n",
       "15          Dallas                 Texas  \n",
       "16         Detroit              Michigan  \n",
       "17           Miami               Florida  \n",
       "18  Salt Lake City                  Utah  \n",
       "19     Los Angeles            California  \n",
       "20   San Francisco            California  \n",
       "21    Indianapolis               Indiana  \n",
       "22         Chicago              Illinois  \n",
       "23        Portland                Oregon  \n",
       "24         Houston                 Texas  \n",
       "25     San Antonio                 Texas  \n",
       "26  Salt Lake City                  Utah  "
      ]
     },
     "execution_count": 13,
     "metadata": {},
     "output_type": "execute_result"
    }
   ],
   "source": [
    "#remove duplicate teams for players so that there is a single row for each team that a player played for\n",
    "mapdata=mapdata.drop_duplicates(subset=['Name', 'Team_Name'], keep='first').reset_index(drop=True)\n",
    "#check revised dataframe\n",
    "mapdata"
   ]
  },
  {
   "cell_type": "code",
   "execution_count": 14,
   "id": "6faf9436",
   "metadata": {},
   "outputs": [
    {
     "data": {
      "text/html": [
       "<div>\n",
       "<style scoped>\n",
       "    .dataframe tbody tr th:only-of-type {\n",
       "        vertical-align: middle;\n",
       "    }\n",
       "\n",
       "    .dataframe tbody tr th {\n",
       "        vertical-align: top;\n",
       "    }\n",
       "\n",
       "    .dataframe thead th {\n",
       "        text-align: right;\n",
       "    }\n",
       "</style>\n",
       "<table border=\"1\" class=\"dataframe\">\n",
       "  <thead>\n",
       "    <tr style=\"text-align: right;\">\n",
       "      <th></th>\n",
       "      <th>Name</th>\n",
       "      <th>Team_Abbreviation</th>\n",
       "      <th>Team_Name</th>\n",
       "      <th>City</th>\n",
       "      <th>State</th>\n",
       "      <th>City_State</th>\n",
       "    </tr>\n",
       "  </thead>\n",
       "  <tbody>\n",
       "    <tr>\n",
       "      <th>0</th>\n",
       "      <td>Charles Barkley</td>\n",
       "      <td>PHL</td>\n",
       "      <td>Philadelphia 76ers</td>\n",
       "      <td>Philadelphia</td>\n",
       "      <td>Pennsylvania</td>\n",
       "      <td>Philadelphia, Pennsylvania</td>\n",
       "    </tr>\n",
       "    <tr>\n",
       "      <th>1</th>\n",
       "      <td>Charles Barkley</td>\n",
       "      <td>PHX</td>\n",
       "      <td>Phoenix Suns</td>\n",
       "      <td>Phoenix</td>\n",
       "      <td>Arizona</td>\n",
       "      <td>Phoenix, Arizona</td>\n",
       "    </tr>\n",
       "    <tr>\n",
       "      <th>2</th>\n",
       "      <td>Charles Barkley</td>\n",
       "      <td>HOU</td>\n",
       "      <td>Houston Rockets</td>\n",
       "      <td>Houston</td>\n",
       "      <td>Texas</td>\n",
       "      <td>Houston, Texas</td>\n",
       "    </tr>\n",
       "    <tr>\n",
       "      <th>3</th>\n",
       "      <td>Larry Bird</td>\n",
       "      <td>BOS</td>\n",
       "      <td>Boston Celtics</td>\n",
       "      <td>Boston</td>\n",
       "      <td>Massachusetts</td>\n",
       "      <td>Boston, Massachusetts</td>\n",
       "    </tr>\n",
       "    <tr>\n",
       "      <th>4</th>\n",
       "      <td>Clyde Drexler</td>\n",
       "      <td>POR</td>\n",
       "      <td>Portland Trail Blazers</td>\n",
       "      <td>Portland</td>\n",
       "      <td>Oregon</td>\n",
       "      <td>Portland, Oregon</td>\n",
       "    </tr>\n",
       "    <tr>\n",
       "      <th>5</th>\n",
       "      <td>Clyde Drexler</td>\n",
       "      <td>HOU</td>\n",
       "      <td>Houston Rockets</td>\n",
       "      <td>Houston</td>\n",
       "      <td>Texas</td>\n",
       "      <td>Houston, Texas</td>\n",
       "    </tr>\n",
       "    <tr>\n",
       "      <th>6</th>\n",
       "      <td>Patrick Ewing</td>\n",
       "      <td>NYK</td>\n",
       "      <td>New York Knicks</td>\n",
       "      <td>New York</td>\n",
       "      <td>New York</td>\n",
       "      <td>New York, New York</td>\n",
       "    </tr>\n",
       "    <tr>\n",
       "      <th>7</th>\n",
       "      <td>Patrick Ewing</td>\n",
       "      <td>SEA</td>\n",
       "      <td>Seattle SuperSonics</td>\n",
       "      <td>Seattle</td>\n",
       "      <td>Washington</td>\n",
       "      <td>Seattle, Washington</td>\n",
       "    </tr>\n",
       "    <tr>\n",
       "      <th>8</th>\n",
       "      <td>Patrick Ewing</td>\n",
       "      <td>ORL</td>\n",
       "      <td>Orlando Magic</td>\n",
       "      <td>Orlando</td>\n",
       "      <td>Florida</td>\n",
       "      <td>Orlando, Florida</td>\n",
       "    </tr>\n",
       "    <tr>\n",
       "      <th>9</th>\n",
       "      <td>Magic Johnson</td>\n",
       "      <td>LAL</td>\n",
       "      <td>Los Angeles Lakers</td>\n",
       "      <td>Los Angeles</td>\n",
       "      <td>California</td>\n",
       "      <td>Los Angeles, California</td>\n",
       "    </tr>\n",
       "    <tr>\n",
       "      <th>10</th>\n",
       "      <td>Michael Jordan</td>\n",
       "      <td>CHI</td>\n",
       "      <td>Chicago Bulls</td>\n",
       "      <td>Chicago</td>\n",
       "      <td>Illinois</td>\n",
       "      <td>Chicago, Illinois</td>\n",
       "    </tr>\n",
       "    <tr>\n",
       "      <th>11</th>\n",
       "      <td>Michael Jordan</td>\n",
       "      <td>WAS</td>\n",
       "      <td>Washington Wizards</td>\n",
       "      <td>Washington</td>\n",
       "      <td>District of Columbia</td>\n",
       "      <td>Washington, District of Columbia</td>\n",
       "    </tr>\n",
       "    <tr>\n",
       "      <th>12</th>\n",
       "      <td>Christian Laettner</td>\n",
       "      <td>MIN</td>\n",
       "      <td>Minnesota Timberwolves</td>\n",
       "      <td>Minneapolis</td>\n",
       "      <td>Minnesota</td>\n",
       "      <td>Minneapolis, Minnesota</td>\n",
       "    </tr>\n",
       "    <tr>\n",
       "      <th>13</th>\n",
       "      <td>Christian Laettner</td>\n",
       "      <td>WAS</td>\n",
       "      <td>Washington Wizards</td>\n",
       "      <td>Washington</td>\n",
       "      <td>District of Columbia</td>\n",
       "      <td>Washington, District of Columbia</td>\n",
       "    </tr>\n",
       "    <tr>\n",
       "      <th>14</th>\n",
       "      <td>Christian Laettner</td>\n",
       "      <td>ATL</td>\n",
       "      <td>Atlanta Hawks</td>\n",
       "      <td>Atlanta</td>\n",
       "      <td>Georgia</td>\n",
       "      <td>Atlanta, Georgia</td>\n",
       "    </tr>\n",
       "    <tr>\n",
       "      <th>15</th>\n",
       "      <td>Christian Laettner</td>\n",
       "      <td>TOT</td>\n",
       "      <td>Dallas Mavericks</td>\n",
       "      <td>Dallas</td>\n",
       "      <td>Texas</td>\n",
       "      <td>Dallas, Texas</td>\n",
       "    </tr>\n",
       "    <tr>\n",
       "      <th>16</th>\n",
       "      <td>Christian Laettner</td>\n",
       "      <td>DET</td>\n",
       "      <td>Detroit Pistons</td>\n",
       "      <td>Detroit</td>\n",
       "      <td>Michigan</td>\n",
       "      <td>Detroit, Michigan</td>\n",
       "    </tr>\n",
       "    <tr>\n",
       "      <th>17</th>\n",
       "      <td>Christian Laettner</td>\n",
       "      <td>MIA</td>\n",
       "      <td>Miami Heat</td>\n",
       "      <td>Miami</td>\n",
       "      <td>Florida</td>\n",
       "      <td>Miami, Florida</td>\n",
       "    </tr>\n",
       "    <tr>\n",
       "      <th>18</th>\n",
       "      <td>Karl Malone</td>\n",
       "      <td>UTH</td>\n",
       "      <td>Utah Jazz</td>\n",
       "      <td>Salt Lake City</td>\n",
       "      <td>Utah</td>\n",
       "      <td>Salt Lake City, Utah</td>\n",
       "    </tr>\n",
       "    <tr>\n",
       "      <th>19</th>\n",
       "      <td>Karl Malone</td>\n",
       "      <td>LAL</td>\n",
       "      <td>Los Angeles Lakers</td>\n",
       "      <td>Los Angeles</td>\n",
       "      <td>California</td>\n",
       "      <td>Los Angeles, California</td>\n",
       "    </tr>\n",
       "    <tr>\n",
       "      <th>20</th>\n",
       "      <td>Chris Mullin</td>\n",
       "      <td>GOS</td>\n",
       "      <td>Golden State Warriors</td>\n",
       "      <td>San Francisco</td>\n",
       "      <td>California</td>\n",
       "      <td>San Francisco, California</td>\n",
       "    </tr>\n",
       "    <tr>\n",
       "      <th>21</th>\n",
       "      <td>Chris Mullin</td>\n",
       "      <td>IND</td>\n",
       "      <td>Indiana Pacers</td>\n",
       "      <td>Indianapolis</td>\n",
       "      <td>Indiana</td>\n",
       "      <td>Indianapolis, Indiana</td>\n",
       "    </tr>\n",
       "    <tr>\n",
       "      <th>22</th>\n",
       "      <td>Scottie Pippen</td>\n",
       "      <td>CHI</td>\n",
       "      <td>Chicago Bulls</td>\n",
       "      <td>Chicago</td>\n",
       "      <td>Illinois</td>\n",
       "      <td>Chicago, Illinois</td>\n",
       "    </tr>\n",
       "    <tr>\n",
       "      <th>23</th>\n",
       "      <td>Scottie Pippen</td>\n",
       "      <td>POR</td>\n",
       "      <td>Portland Trail Blazers</td>\n",
       "      <td>Portland</td>\n",
       "      <td>Oregon</td>\n",
       "      <td>Portland, Oregon</td>\n",
       "    </tr>\n",
       "    <tr>\n",
       "      <th>24</th>\n",
       "      <td>Scottie Pippen</td>\n",
       "      <td>HOU</td>\n",
       "      <td>Houston Rockets</td>\n",
       "      <td>Houston</td>\n",
       "      <td>Texas</td>\n",
       "      <td>Houston, Texas</td>\n",
       "    </tr>\n",
       "    <tr>\n",
       "      <th>25</th>\n",
       "      <td>David Robinson</td>\n",
       "      <td>SAN</td>\n",
       "      <td>San Antonio Spurs</td>\n",
       "      <td>San Antonio</td>\n",
       "      <td>Texas</td>\n",
       "      <td>San Antonio, Texas</td>\n",
       "    </tr>\n",
       "    <tr>\n",
       "      <th>26</th>\n",
       "      <td>John Stockton</td>\n",
       "      <td>UTH</td>\n",
       "      <td>Utah Jazz</td>\n",
       "      <td>Salt Lake City</td>\n",
       "      <td>Utah</td>\n",
       "      <td>Salt Lake City, Utah</td>\n",
       "    </tr>\n",
       "  </tbody>\n",
       "</table>\n",
       "</div>"
      ],
      "text/plain": [
       "                  Name Team_Abbreviation               Team_Name  \\\n",
       "0      Charles Barkley               PHL      Philadelphia 76ers   \n",
       "1      Charles Barkley               PHX            Phoenix Suns   \n",
       "2      Charles Barkley               HOU         Houston Rockets   \n",
       "3           Larry Bird               BOS          Boston Celtics   \n",
       "4        Clyde Drexler               POR  Portland Trail Blazers   \n",
       "5        Clyde Drexler               HOU         Houston Rockets   \n",
       "6        Patrick Ewing               NYK         New York Knicks   \n",
       "7        Patrick Ewing               SEA     Seattle SuperSonics   \n",
       "8        Patrick Ewing               ORL           Orlando Magic   \n",
       "9        Magic Johnson               LAL      Los Angeles Lakers   \n",
       "10      Michael Jordan               CHI           Chicago Bulls   \n",
       "11      Michael Jordan               WAS      Washington Wizards   \n",
       "12  Christian Laettner               MIN  Minnesota Timberwolves   \n",
       "13  Christian Laettner               WAS      Washington Wizards   \n",
       "14  Christian Laettner               ATL           Atlanta Hawks   \n",
       "15  Christian Laettner               TOT        Dallas Mavericks   \n",
       "16  Christian Laettner               DET         Detroit Pistons   \n",
       "17  Christian Laettner               MIA              Miami Heat   \n",
       "18         Karl Malone               UTH               Utah Jazz   \n",
       "19         Karl Malone               LAL      Los Angeles Lakers   \n",
       "20        Chris Mullin               GOS   Golden State Warriors   \n",
       "21        Chris Mullin               IND          Indiana Pacers   \n",
       "22      Scottie Pippen               CHI           Chicago Bulls   \n",
       "23      Scottie Pippen               POR  Portland Trail Blazers   \n",
       "24      Scottie Pippen               HOU         Houston Rockets   \n",
       "25      David Robinson               SAN       San Antonio Spurs   \n",
       "26       John Stockton               UTH               Utah Jazz   \n",
       "\n",
       "              City                 State                        City_State  \n",
       "0     Philadelphia          Pennsylvania        Philadelphia, Pennsylvania  \n",
       "1          Phoenix               Arizona                  Phoenix, Arizona  \n",
       "2          Houston                 Texas                    Houston, Texas  \n",
       "3           Boston         Massachusetts             Boston, Massachusetts  \n",
       "4         Portland                Oregon                  Portland, Oregon  \n",
       "5          Houston                 Texas                    Houston, Texas  \n",
       "6         New York              New York                New York, New York  \n",
       "7          Seattle            Washington               Seattle, Washington  \n",
       "8          Orlando               Florida                  Orlando, Florida  \n",
       "9      Los Angeles            California           Los Angeles, California  \n",
       "10         Chicago              Illinois                 Chicago, Illinois  \n",
       "11      Washington  District of Columbia  Washington, District of Columbia  \n",
       "12     Minneapolis             Minnesota            Minneapolis, Minnesota  \n",
       "13      Washington  District of Columbia  Washington, District of Columbia  \n",
       "14         Atlanta               Georgia                  Atlanta, Georgia  \n",
       "15          Dallas                 Texas                     Dallas, Texas  \n",
       "16         Detroit              Michigan                 Detroit, Michigan  \n",
       "17           Miami               Florida                    Miami, Florida  \n",
       "18  Salt Lake City                  Utah              Salt Lake City, Utah  \n",
       "19     Los Angeles            California           Los Angeles, California  \n",
       "20   San Francisco            California         San Francisco, California  \n",
       "21    Indianapolis               Indiana             Indianapolis, Indiana  \n",
       "22         Chicago              Illinois                 Chicago, Illinois  \n",
       "23        Portland                Oregon                  Portland, Oregon  \n",
       "24         Houston                 Texas                    Houston, Texas  \n",
       "25     San Antonio                 Texas                San Antonio, Texas  \n",
       "26  Salt Lake City                  Utah              Salt Lake City, Utah  "
      ]
     },
     "execution_count": 14,
     "metadata": {},
     "output_type": "execute_result"
    }
   ],
   "source": [
    "#for loop to create single column for City and State combined to facilitate geocoding\n",
    "City_State=[]\n",
    "for index, row in mapdata[['City', 'State']].iterrows():\n",
    "    City_State.append(row['City'] + \", \" + row['State'])\n",
    "#add llist as column to dataframe\n",
    "mapdata['City_State']=City_State\n",
    "#check revised dataframe\n",
    "mapdata"
   ]
  },
  {
   "cell_type": "code",
   "execution_count": 15,
   "id": "947f90fd",
   "metadata": {},
   "outputs": [],
   "source": [
    "#getting coordinates for scattermap\n",
    "#create lists for longitude and latitude coordinates\n",
    "Longitude=[]\n",
    "Latitude=[]\n",
    "#use Nominatim function to interact with Nominatim geocoding service to get coordinates based on City_State column\n",
    "geo=Nominatim(user_agent = \"nba_map\")\n",
    "for x in mapdata['City_State']:\n",
    "\tgeo_info = geo.geocode(x, timeout=None)\n",
    "\tLatitude.append(geo_info.latitude)\n",
    "\tLongitude.append(geo_info.longitude)"
   ]
  },
  {
   "cell_type": "code",
   "execution_count": 16,
   "id": "3bfbe570",
   "metadata": {},
   "outputs": [
    {
     "data": {
      "text/plain": [
       "[39.9527237,\n",
       " 33.4484367,\n",
       " 29.7589382,\n",
       " 42.3554334,\n",
       " 45.5202471,\n",
       " 29.7589382,\n",
       " 40.7127281,\n",
       " 47.6038321,\n",
       " 28.5421109,\n",
       " 34.0536909,\n",
       " 41.8755616,\n",
       " 38.8950368,\n",
       " 44.9772995,\n",
       " 38.8950368,\n",
       " 33.7544657,\n",
       " 32.7762719,\n",
       " 42.3315509,\n",
       " 25.7741728,\n",
       " 40.7596198,\n",
       " 34.0536909,\n",
       " 37.7792588,\n",
       " 39.7683331,\n",
       " 41.8755616,\n",
       " 45.5202471,\n",
       " 29.7589382,\n",
       " 29.4246002,\n",
       " 40.7596198]"
      ]
     },
     "execution_count": 16,
     "metadata": {},
     "output_type": "execute_result"
    },
    {
     "data": {
      "text/plain": [
       "[-75.1635262,\n",
       " -112.074141,\n",
       " -95.3676974,\n",
       " -71.060511,\n",
       " -122.674194,\n",
       " -95.3676974,\n",
       " -74.0060152,\n",
       " -122.330062,\n",
       " -81.3790304,\n",
       " -118.242766,\n",
       " -87.6244212,\n",
       " -77.0365427,\n",
       " -93.2654692,\n",
       " -77.0365427,\n",
       " -84.3898151,\n",
       " -96.7968559,\n",
       " -83.0466403,\n",
       " -80.19362,\n",
       " -111.886797,\n",
       " -118.242766,\n",
       " -122.4193286,\n",
       " -86.1583502,\n",
       " -87.6244212,\n",
       " -122.674194,\n",
       " -95.3676974,\n",
       " -98.4951405,\n",
       " -111.886797]"
      ]
     },
     "execution_count": 16,
     "metadata": {},
     "output_type": "execute_result"
    }
   ],
   "source": [
    "#check lists\n",
    "Latitude\n",
    "Longitude"
   ]
  },
  {
   "cell_type": "code",
   "execution_count": 17,
   "id": "1c94ce96",
   "metadata": {},
   "outputs": [
    {
     "data": {
      "text/plain": [
       "[39.952628462801364,\n",
       " 33.44838585737587,\n",
       " 29.758886437286183,\n",
       " 42.35533759428446,\n",
       " 45.520279497042345,\n",
       " 29.75891059732277,\n",
       " 40.71280877390834,\n",
       " 47.60376178724478,\n",
       " 28.54202210351407,\n",
       " 34.0536453521235,\n",
       " 41.875485856225914,\n",
       " 38.89504413866382,\n",
       " 44.97738765787949,\n",
       " 38.89509573628581,\n",
       " 33.754502241949794,\n",
       " 32.7762172799807,\n",
       " 42.331600930663996,\n",
       " 25.774217998338816,\n",
       " 40.759638559216974,\n",
       " 34.053721617316064,\n",
       " 37.77934405068015,\n",
       " 39.76829935403526,\n",
       " 41.875470432528886,\n",
       " 45.52028139739622,\n",
       " 29.75894263713194,\n",
       " 29.424543031538725,\n",
       " 40.75966691968511]"
      ]
     },
     "execution_count": 17,
     "metadata": {},
     "output_type": "execute_result"
    },
    {
     "data": {
      "text/plain": [
       "[-75.16353066644268,\n",
       " -112.07416771216643,\n",
       " -95.3676311597854,\n",
       " -71.06060566350207,\n",
       " -122.67416941590074,\n",
       " -95.36766752395607,\n",
       " -74.00594006106967,\n",
       " -122.32996969716861,\n",
       " -81.37905623693567,\n",
       " -118.24281021332764,\n",
       " -87.62439921012096,\n",
       " -77.0364744260891,\n",
       " -93.26548415816178,\n",
       " -77.03651726001787,\n",
       " -84.38975100400873,\n",
       " -96.79680629753457,\n",
       " -83.04661125926783,\n",
       " -80.19365973619617,\n",
       " -111.88673183476753,\n",
       " -118.24279742604222,\n",
       " -122.41937286803046,\n",
       " -86.15838502868931,\n",
       " -87.62447266486014,\n",
       " -122.67420884508994,\n",
       " -95.36763171350869,\n",
       " -98.49513111746894,\n",
       " -111.8867608607385]"
      ]
     },
     "execution_count": 17,
     "metadata": {},
     "output_type": "execute_result"
    }
   ],
   "source": [
    "#create distinct coordinates with jittering to keep from having the exact same coordinates \n",
    "#for 2 different players in the same city which will cause only one player to show up in map\n",
    "#create jitter ammount\n",
    "jitter_amount = 0.0001\n",
    "#create new Latitude and Longitude lists by taking each coordinate and adding a random number from \n",
    "#a uniform distribution with a maximum of the jitter amount and a minimum of the negative jitter amount\n",
    "Latitude_new=[coord + np.random.uniform(-jitter_amount, jitter_amount) for coord in Latitude]\n",
    "Longitude_new=[coord + np.random.uniform(-jitter_amount, jitter_amount) for coord in Longitude]\n",
    "#check new lists\n",
    "Latitude_new\n",
    "Longitude_new"
   ]
  },
  {
   "cell_type": "code",
   "execution_count": 18,
   "id": "e769d10c",
   "metadata": {},
   "outputs": [
    {
     "data": {
      "text/html": [
       "<div>\n",
       "<style scoped>\n",
       "    .dataframe tbody tr th:only-of-type {\n",
       "        vertical-align: middle;\n",
       "    }\n",
       "\n",
       "    .dataframe tbody tr th {\n",
       "        vertical-align: top;\n",
       "    }\n",
       "\n",
       "    .dataframe thead th {\n",
       "        text-align: right;\n",
       "    }\n",
       "</style>\n",
       "<table border=\"1\" class=\"dataframe\">\n",
       "  <thead>\n",
       "    <tr style=\"text-align: right;\">\n",
       "      <th></th>\n",
       "      <th>Name</th>\n",
       "      <th>Team_Abbreviation</th>\n",
       "      <th>Team_Name</th>\n",
       "      <th>City</th>\n",
       "      <th>State</th>\n",
       "      <th>City_State</th>\n",
       "      <th>Latitude</th>\n",
       "      <th>Longitude</th>\n",
       "    </tr>\n",
       "  </thead>\n",
       "  <tbody>\n",
       "    <tr>\n",
       "      <th>0</th>\n",
       "      <td>Charles Barkley</td>\n",
       "      <td>PHL</td>\n",
       "      <td>Philadelphia 76ers</td>\n",
       "      <td>Philadelphia</td>\n",
       "      <td>Pennsylvania</td>\n",
       "      <td>Philadelphia, Pennsylvania</td>\n",
       "      <td>39.952628</td>\n",
       "      <td>-75.163531</td>\n",
       "    </tr>\n",
       "    <tr>\n",
       "      <th>1</th>\n",
       "      <td>Charles Barkley</td>\n",
       "      <td>PHX</td>\n",
       "      <td>Phoenix Suns</td>\n",
       "      <td>Phoenix</td>\n",
       "      <td>Arizona</td>\n",
       "      <td>Phoenix, Arizona</td>\n",
       "      <td>33.448386</td>\n",
       "      <td>-112.074168</td>\n",
       "    </tr>\n",
       "    <tr>\n",
       "      <th>2</th>\n",
       "      <td>Charles Barkley</td>\n",
       "      <td>HOU</td>\n",
       "      <td>Houston Rockets</td>\n",
       "      <td>Houston</td>\n",
       "      <td>Texas</td>\n",
       "      <td>Houston, Texas</td>\n",
       "      <td>29.758886</td>\n",
       "      <td>-95.367631</td>\n",
       "    </tr>\n",
       "    <tr>\n",
       "      <th>3</th>\n",
       "      <td>Larry Bird</td>\n",
       "      <td>BOS</td>\n",
       "      <td>Boston Celtics</td>\n",
       "      <td>Boston</td>\n",
       "      <td>Massachusetts</td>\n",
       "      <td>Boston, Massachusetts</td>\n",
       "      <td>42.355338</td>\n",
       "      <td>-71.060606</td>\n",
       "    </tr>\n",
       "    <tr>\n",
       "      <th>4</th>\n",
       "      <td>Clyde Drexler</td>\n",
       "      <td>POR</td>\n",
       "      <td>Portland Trail Blazers</td>\n",
       "      <td>Portland</td>\n",
       "      <td>Oregon</td>\n",
       "      <td>Portland, Oregon</td>\n",
       "      <td>45.520279</td>\n",
       "      <td>-122.674169</td>\n",
       "    </tr>\n",
       "    <tr>\n",
       "      <th>5</th>\n",
       "      <td>Clyde Drexler</td>\n",
       "      <td>HOU</td>\n",
       "      <td>Houston Rockets</td>\n",
       "      <td>Houston</td>\n",
       "      <td>Texas</td>\n",
       "      <td>Houston, Texas</td>\n",
       "      <td>29.758911</td>\n",
       "      <td>-95.367668</td>\n",
       "    </tr>\n",
       "    <tr>\n",
       "      <th>6</th>\n",
       "      <td>Patrick Ewing</td>\n",
       "      <td>NYK</td>\n",
       "      <td>New York Knicks</td>\n",
       "      <td>New York</td>\n",
       "      <td>New York</td>\n",
       "      <td>New York, New York</td>\n",
       "      <td>40.712809</td>\n",
       "      <td>-74.005940</td>\n",
       "    </tr>\n",
       "    <tr>\n",
       "      <th>7</th>\n",
       "      <td>Patrick Ewing</td>\n",
       "      <td>SEA</td>\n",
       "      <td>Seattle SuperSonics</td>\n",
       "      <td>Seattle</td>\n",
       "      <td>Washington</td>\n",
       "      <td>Seattle, Washington</td>\n",
       "      <td>47.603762</td>\n",
       "      <td>-122.329970</td>\n",
       "    </tr>\n",
       "    <tr>\n",
       "      <th>8</th>\n",
       "      <td>Patrick Ewing</td>\n",
       "      <td>ORL</td>\n",
       "      <td>Orlando Magic</td>\n",
       "      <td>Orlando</td>\n",
       "      <td>Florida</td>\n",
       "      <td>Orlando, Florida</td>\n",
       "      <td>28.542022</td>\n",
       "      <td>-81.379056</td>\n",
       "    </tr>\n",
       "    <tr>\n",
       "      <th>9</th>\n",
       "      <td>Magic Johnson</td>\n",
       "      <td>LAL</td>\n",
       "      <td>Los Angeles Lakers</td>\n",
       "      <td>Los Angeles</td>\n",
       "      <td>California</td>\n",
       "      <td>Los Angeles, California</td>\n",
       "      <td>34.053645</td>\n",
       "      <td>-118.242810</td>\n",
       "    </tr>\n",
       "    <tr>\n",
       "      <th>10</th>\n",
       "      <td>Michael Jordan</td>\n",
       "      <td>CHI</td>\n",
       "      <td>Chicago Bulls</td>\n",
       "      <td>Chicago</td>\n",
       "      <td>Illinois</td>\n",
       "      <td>Chicago, Illinois</td>\n",
       "      <td>41.875486</td>\n",
       "      <td>-87.624399</td>\n",
       "    </tr>\n",
       "    <tr>\n",
       "      <th>11</th>\n",
       "      <td>Michael Jordan</td>\n",
       "      <td>WAS</td>\n",
       "      <td>Washington Wizards</td>\n",
       "      <td>Washington</td>\n",
       "      <td>District of Columbia</td>\n",
       "      <td>Washington, District of Columbia</td>\n",
       "      <td>38.895044</td>\n",
       "      <td>-77.036474</td>\n",
       "    </tr>\n",
       "    <tr>\n",
       "      <th>12</th>\n",
       "      <td>Christian Laettner</td>\n",
       "      <td>MIN</td>\n",
       "      <td>Minnesota Timberwolves</td>\n",
       "      <td>Minneapolis</td>\n",
       "      <td>Minnesota</td>\n",
       "      <td>Minneapolis, Minnesota</td>\n",
       "      <td>44.977388</td>\n",
       "      <td>-93.265484</td>\n",
       "    </tr>\n",
       "    <tr>\n",
       "      <th>13</th>\n",
       "      <td>Christian Laettner</td>\n",
       "      <td>WAS</td>\n",
       "      <td>Washington Wizards</td>\n",
       "      <td>Washington</td>\n",
       "      <td>District of Columbia</td>\n",
       "      <td>Washington, District of Columbia</td>\n",
       "      <td>38.895096</td>\n",
       "      <td>-77.036517</td>\n",
       "    </tr>\n",
       "    <tr>\n",
       "      <th>14</th>\n",
       "      <td>Christian Laettner</td>\n",
       "      <td>ATL</td>\n",
       "      <td>Atlanta Hawks</td>\n",
       "      <td>Atlanta</td>\n",
       "      <td>Georgia</td>\n",
       "      <td>Atlanta, Georgia</td>\n",
       "      <td>33.754502</td>\n",
       "      <td>-84.389751</td>\n",
       "    </tr>\n",
       "    <tr>\n",
       "      <th>15</th>\n",
       "      <td>Christian Laettner</td>\n",
       "      <td>TOT</td>\n",
       "      <td>Dallas Mavericks</td>\n",
       "      <td>Dallas</td>\n",
       "      <td>Texas</td>\n",
       "      <td>Dallas, Texas</td>\n",
       "      <td>32.776217</td>\n",
       "      <td>-96.796806</td>\n",
       "    </tr>\n",
       "    <tr>\n",
       "      <th>16</th>\n",
       "      <td>Christian Laettner</td>\n",
       "      <td>DET</td>\n",
       "      <td>Detroit Pistons</td>\n",
       "      <td>Detroit</td>\n",
       "      <td>Michigan</td>\n",
       "      <td>Detroit, Michigan</td>\n",
       "      <td>42.331601</td>\n",
       "      <td>-83.046611</td>\n",
       "    </tr>\n",
       "    <tr>\n",
       "      <th>17</th>\n",
       "      <td>Christian Laettner</td>\n",
       "      <td>MIA</td>\n",
       "      <td>Miami Heat</td>\n",
       "      <td>Miami</td>\n",
       "      <td>Florida</td>\n",
       "      <td>Miami, Florida</td>\n",
       "      <td>25.774218</td>\n",
       "      <td>-80.193660</td>\n",
       "    </tr>\n",
       "    <tr>\n",
       "      <th>18</th>\n",
       "      <td>Karl Malone</td>\n",
       "      <td>UTH</td>\n",
       "      <td>Utah Jazz</td>\n",
       "      <td>Salt Lake City</td>\n",
       "      <td>Utah</td>\n",
       "      <td>Salt Lake City, Utah</td>\n",
       "      <td>40.759639</td>\n",
       "      <td>-111.886732</td>\n",
       "    </tr>\n",
       "    <tr>\n",
       "      <th>19</th>\n",
       "      <td>Karl Malone</td>\n",
       "      <td>LAL</td>\n",
       "      <td>Los Angeles Lakers</td>\n",
       "      <td>Los Angeles</td>\n",
       "      <td>California</td>\n",
       "      <td>Los Angeles, California</td>\n",
       "      <td>34.053722</td>\n",
       "      <td>-118.242797</td>\n",
       "    </tr>\n",
       "    <tr>\n",
       "      <th>20</th>\n",
       "      <td>Chris Mullin</td>\n",
       "      <td>GOS</td>\n",
       "      <td>Golden State Warriors</td>\n",
       "      <td>San Francisco</td>\n",
       "      <td>California</td>\n",
       "      <td>San Francisco, California</td>\n",
       "      <td>37.779344</td>\n",
       "      <td>-122.419373</td>\n",
       "    </tr>\n",
       "    <tr>\n",
       "      <th>21</th>\n",
       "      <td>Chris Mullin</td>\n",
       "      <td>IND</td>\n",
       "      <td>Indiana Pacers</td>\n",
       "      <td>Indianapolis</td>\n",
       "      <td>Indiana</td>\n",
       "      <td>Indianapolis, Indiana</td>\n",
       "      <td>39.768299</td>\n",
       "      <td>-86.158385</td>\n",
       "    </tr>\n",
       "    <tr>\n",
       "      <th>22</th>\n",
       "      <td>Scottie Pippen</td>\n",
       "      <td>CHI</td>\n",
       "      <td>Chicago Bulls</td>\n",
       "      <td>Chicago</td>\n",
       "      <td>Illinois</td>\n",
       "      <td>Chicago, Illinois</td>\n",
       "      <td>41.875470</td>\n",
       "      <td>-87.624473</td>\n",
       "    </tr>\n",
       "    <tr>\n",
       "      <th>23</th>\n",
       "      <td>Scottie Pippen</td>\n",
       "      <td>POR</td>\n",
       "      <td>Portland Trail Blazers</td>\n",
       "      <td>Portland</td>\n",
       "      <td>Oregon</td>\n",
       "      <td>Portland, Oregon</td>\n",
       "      <td>45.520281</td>\n",
       "      <td>-122.674209</td>\n",
       "    </tr>\n",
       "    <tr>\n",
       "      <th>24</th>\n",
       "      <td>Scottie Pippen</td>\n",
       "      <td>HOU</td>\n",
       "      <td>Houston Rockets</td>\n",
       "      <td>Houston</td>\n",
       "      <td>Texas</td>\n",
       "      <td>Houston, Texas</td>\n",
       "      <td>29.758943</td>\n",
       "      <td>-95.367632</td>\n",
       "    </tr>\n",
       "    <tr>\n",
       "      <th>25</th>\n",
       "      <td>David Robinson</td>\n",
       "      <td>SAN</td>\n",
       "      <td>San Antonio Spurs</td>\n",
       "      <td>San Antonio</td>\n",
       "      <td>Texas</td>\n",
       "      <td>San Antonio, Texas</td>\n",
       "      <td>29.424543</td>\n",
       "      <td>-98.495131</td>\n",
       "    </tr>\n",
       "    <tr>\n",
       "      <th>26</th>\n",
       "      <td>John Stockton</td>\n",
       "      <td>UTH</td>\n",
       "      <td>Utah Jazz</td>\n",
       "      <td>Salt Lake City</td>\n",
       "      <td>Utah</td>\n",
       "      <td>Salt Lake City, Utah</td>\n",
       "      <td>40.759667</td>\n",
       "      <td>-111.886761</td>\n",
       "    </tr>\n",
       "  </tbody>\n",
       "</table>\n",
       "</div>"
      ],
      "text/plain": [
       "                  Name Team_Abbreviation               Team_Name  \\\n",
       "0      Charles Barkley               PHL      Philadelphia 76ers   \n",
       "1      Charles Barkley               PHX            Phoenix Suns   \n",
       "2      Charles Barkley               HOU         Houston Rockets   \n",
       "3           Larry Bird               BOS          Boston Celtics   \n",
       "4        Clyde Drexler               POR  Portland Trail Blazers   \n",
       "5        Clyde Drexler               HOU         Houston Rockets   \n",
       "6        Patrick Ewing               NYK         New York Knicks   \n",
       "7        Patrick Ewing               SEA     Seattle SuperSonics   \n",
       "8        Patrick Ewing               ORL           Orlando Magic   \n",
       "9        Magic Johnson               LAL      Los Angeles Lakers   \n",
       "10      Michael Jordan               CHI           Chicago Bulls   \n",
       "11      Michael Jordan               WAS      Washington Wizards   \n",
       "12  Christian Laettner               MIN  Minnesota Timberwolves   \n",
       "13  Christian Laettner               WAS      Washington Wizards   \n",
       "14  Christian Laettner               ATL           Atlanta Hawks   \n",
       "15  Christian Laettner               TOT        Dallas Mavericks   \n",
       "16  Christian Laettner               DET         Detroit Pistons   \n",
       "17  Christian Laettner               MIA              Miami Heat   \n",
       "18         Karl Malone               UTH               Utah Jazz   \n",
       "19         Karl Malone               LAL      Los Angeles Lakers   \n",
       "20        Chris Mullin               GOS   Golden State Warriors   \n",
       "21        Chris Mullin               IND          Indiana Pacers   \n",
       "22      Scottie Pippen               CHI           Chicago Bulls   \n",
       "23      Scottie Pippen               POR  Portland Trail Blazers   \n",
       "24      Scottie Pippen               HOU         Houston Rockets   \n",
       "25      David Robinson               SAN       San Antonio Spurs   \n",
       "26       John Stockton               UTH               Utah Jazz   \n",
       "\n",
       "              City                 State                        City_State  \\\n",
       "0     Philadelphia          Pennsylvania        Philadelphia, Pennsylvania   \n",
       "1          Phoenix               Arizona                  Phoenix, Arizona   \n",
       "2          Houston                 Texas                    Houston, Texas   \n",
       "3           Boston         Massachusetts             Boston, Massachusetts   \n",
       "4         Portland                Oregon                  Portland, Oregon   \n",
       "5          Houston                 Texas                    Houston, Texas   \n",
       "6         New York              New York                New York, New York   \n",
       "7          Seattle            Washington               Seattle, Washington   \n",
       "8          Orlando               Florida                  Orlando, Florida   \n",
       "9      Los Angeles            California           Los Angeles, California   \n",
       "10         Chicago              Illinois                 Chicago, Illinois   \n",
       "11      Washington  District of Columbia  Washington, District of Columbia   \n",
       "12     Minneapolis             Minnesota            Minneapolis, Minnesota   \n",
       "13      Washington  District of Columbia  Washington, District of Columbia   \n",
       "14         Atlanta               Georgia                  Atlanta, Georgia   \n",
       "15          Dallas                 Texas                     Dallas, Texas   \n",
       "16         Detroit              Michigan                 Detroit, Michigan   \n",
       "17           Miami               Florida                    Miami, Florida   \n",
       "18  Salt Lake City                  Utah              Salt Lake City, Utah   \n",
       "19     Los Angeles            California           Los Angeles, California   \n",
       "20   San Francisco            California         San Francisco, California   \n",
       "21    Indianapolis               Indiana             Indianapolis, Indiana   \n",
       "22         Chicago              Illinois                 Chicago, Illinois   \n",
       "23        Portland                Oregon                  Portland, Oregon   \n",
       "24         Houston                 Texas                    Houston, Texas   \n",
       "25     San Antonio                 Texas                San Antonio, Texas   \n",
       "26  Salt Lake City                  Utah              Salt Lake City, Utah   \n",
       "\n",
       "     Latitude   Longitude  \n",
       "0   39.952628  -75.163531  \n",
       "1   33.448386 -112.074168  \n",
       "2   29.758886  -95.367631  \n",
       "3   42.355338  -71.060606  \n",
       "4   45.520279 -122.674169  \n",
       "5   29.758911  -95.367668  \n",
       "6   40.712809  -74.005940  \n",
       "7   47.603762 -122.329970  \n",
       "8   28.542022  -81.379056  \n",
       "9   34.053645 -118.242810  \n",
       "10  41.875486  -87.624399  \n",
       "11  38.895044  -77.036474  \n",
       "12  44.977388  -93.265484  \n",
       "13  38.895096  -77.036517  \n",
       "14  33.754502  -84.389751  \n",
       "15  32.776217  -96.796806  \n",
       "16  42.331601  -83.046611  \n",
       "17  25.774218  -80.193660  \n",
       "18  40.759639 -111.886732  \n",
       "19  34.053722 -118.242797  \n",
       "20  37.779344 -122.419373  \n",
       "21  39.768299  -86.158385  \n",
       "22  41.875470  -87.624473  \n",
       "23  45.520281 -122.674209  \n",
       "24  29.758943  -95.367632  \n",
       "25  29.424543  -98.495131  \n",
       "26  40.759667 -111.886761  "
      ]
     },
     "execution_count": 18,
     "metadata": {},
     "output_type": "execute_result"
    },
    {
     "name": "stdout",
     "output_type": "stream",
     "text": [
      "<class 'pandas.core.frame.DataFrame'>\n",
      "RangeIndex: 27 entries, 0 to 26\n",
      "Data columns (total 8 columns):\n",
      " #   Column             Non-Null Count  Dtype  \n",
      "---  ------             --------------  -----  \n",
      " 0   Name               27 non-null     object \n",
      " 1   Team_Abbreviation  27 non-null     object \n",
      " 2   Team_Name          27 non-null     object \n",
      " 3   City               27 non-null     object \n",
      " 4   State              27 non-null     object \n",
      " 5   City_State         27 non-null     object \n",
      " 6   Latitude           27 non-null     float64\n",
      " 7   Longitude          27 non-null     float64\n",
      "dtypes: float64(2), object(6)\n",
      "memory usage: 1.8+ KB\n"
     ]
    }
   ],
   "source": [
    "#add adjusted coordinates to mapdata dataframe\n",
    "mapdata['Latitude']=Latitude_new\n",
    "mapdata['Longitude']=Longitude_new\n",
    "#look at map data\n",
    "mapdata\n",
    "mapdata.info()"
   ]
  },
  {
   "cell_type": "code",
   "execution_count": 19,
   "id": "bdacc795",
   "metadata": {},
   "outputs": [
    {
     "data": {
      "application/vnd.plotly.v1+json": {
       "config": {
        "plotlyServerURL": "https://plot.ly"
       },
       "data": [
        {
         "customdata": [
          [
           39.952628462801364,
           -75.16353066644268,
           "Charles Barkley",
           "Philadelphia 76ers",
           "Philadelphia, Pennsylvania"
          ],
          [
           33.44838585737587,
           -112.07416771216643,
           "Charles Barkley",
           "Phoenix Suns",
           "Phoenix, Arizona"
          ],
          [
           29.758886437286183,
           -95.3676311597854,
           "Charles Barkley",
           "Houston Rockets",
           "Houston, Texas"
          ],
          [
           42.35533759428446,
           -71.06060566350207,
           "Larry Bird",
           "Boston Celtics",
           "Boston, Massachusetts"
          ],
          [
           45.520279497042345,
           -122.67416941590074,
           "Clyde Drexler",
           "Portland Trail Blazers",
           "Portland, Oregon"
          ],
          [
           29.75891059732277,
           -95.36766752395607,
           "Clyde Drexler",
           "Houston Rockets",
           "Houston, Texas"
          ],
          [
           40.71280877390834,
           -74.00594006106967,
           "Patrick Ewing",
           "New York Knicks",
           "New York, New York"
          ],
          [
           47.60376178724478,
           -122.32996969716861,
           "Patrick Ewing",
           "Seattle SuperSonics",
           "Seattle, Washington"
          ],
          [
           28.54202210351407,
           -81.37905623693567,
           "Patrick Ewing",
           "Orlando Magic",
           "Orlando, Florida"
          ],
          [
           34.0536453521235,
           -118.24281021332764,
           "Magic Johnson",
           "Los Angeles Lakers",
           "Los Angeles, California"
          ],
          [
           41.875485856225914,
           -87.62439921012096,
           "Michael Jordan",
           "Chicago Bulls",
           "Chicago, Illinois"
          ],
          [
           38.89504413866382,
           -77.0364744260891,
           "Michael Jordan",
           "Washington Wizards",
           "Washington, District of Columbia"
          ],
          [
           44.97738765787949,
           -93.26548415816178,
           "Christian Laettner",
           "Minnesota Timberwolves",
           "Minneapolis, Minnesota"
          ],
          [
           38.89509573628581,
           -77.03651726001787,
           "Christian Laettner",
           "Washington Wizards",
           "Washington, District of Columbia"
          ],
          [
           33.754502241949794,
           -84.38975100400873,
           "Christian Laettner",
           "Atlanta Hawks",
           "Atlanta, Georgia"
          ],
          [
           32.7762172799807,
           -96.79680629753457,
           "Christian Laettner",
           "Dallas Mavericks",
           "Dallas, Texas"
          ],
          [
           42.331600930663996,
           -83.04661125926783,
           "Christian Laettner",
           "Detroit Pistons",
           "Detroit, Michigan"
          ],
          [
           25.774217998338816,
           -80.19365973619617,
           "Christian Laettner",
           "Miami Heat",
           "Miami, Florida"
          ],
          [
           40.759638559216974,
           -111.88673183476753,
           "Karl Malone",
           "Utah Jazz",
           "Salt Lake City, Utah"
          ],
          [
           34.053721617316064,
           -118.24279742604222,
           "Karl Malone",
           "Los Angeles Lakers",
           "Los Angeles, California"
          ],
          [
           37.77934405068015,
           -122.41937286803046,
           "Chris Mullin",
           "Golden State Warriors",
           "San Francisco, California"
          ],
          [
           39.76829935403526,
           -86.15838502868931,
           "Chris Mullin",
           "Indiana Pacers",
           "Indianapolis, Indiana"
          ],
          [
           41.875470432528886,
           -87.62447266486014,
           "Scottie Pippen",
           "Chicago Bulls",
           "Chicago, Illinois"
          ],
          [
           45.52028139739622,
           -122.67420884508994,
           "Scottie Pippen",
           "Portland Trail Blazers",
           "Portland, Oregon"
          ],
          [
           29.75894263713194,
           -95.36763171350869,
           "Scottie Pippen",
           "Houston Rockets",
           "Houston, Texas"
          ],
          [
           29.424543031538725,
           -98.49513111746894,
           "David Robinson",
           "San Antonio Spurs",
           "San Antonio, Texas"
          ],
          [
           40.75966691968511,
           -111.8867608607385,
           "John Stockton",
           "Utah Jazz",
           "Salt Lake City, Utah"
          ]
         ],
         "hovertemplate": "Name=%{customdata[2]}<br>Team_Name=%{customdata[3]}<br>City_State=%{customdata[4]}<extra></extra>",
         "lat": {
          "bdata": "PXy+uu/5Q0CKtTC1ZLlAQKmFrWFGwj1A2z7Js3stRUDBScCEmMJGQNEWBPdHwj1AfR5iUT1bREA6ZfUQSM1HQFRN6PXBijxA93nU2d0GQUDpTKjrD/BEQNAEbM6QckNAoA3tCRt9RkB8EUF/knJDQG73ioeT4EBAuA18FltjQEA0QzjmcSpFQP3WliYzxjlACU8Y1jthRED5upZZ4AZBQHAAvYvB40JAR48bolfiQ0DMKUZqD/BEQFhEsZSYwkZAjQWOEErCPUAaNCTarmw9QEfz/8M8YURA",
          "dtype": "f8"
         },
         "legendgroup": "",
         "lon": {
          "bdata": "7BBUSXfKUsAii+4pvwRcwDUR2ESH11fAZ6yT9uDDUcB0UHqXJatewFTMXd2H11fA8wFsUmGAUsCngDg5HpVewPI+F3VCWFTAIVjZM4qPXcCJxxoo9udVwFvM1JhVQlPATTpEsf1QV8ALYX1MVkJTwD7zMa7xGFXAGkrX3/4yWMCRi8qt+8JUwO5gzutkDFTAg6nhNsD4W8DgGTf+iY9dwFFBTAHXml7AYpn1+iKKVcB/NDJc9+dVwHQV2zwmq17AgZ8qR4fXV8C1MG06sJ9YwKkPoLDA+FvA",
          "dtype": "f8"
         },
         "marker": {
          "color": "orange",
          "size": 10
         },
         "mode": "markers",
         "name": "",
         "showlegend": false,
         "subplot": "map",
         "type": "scattermap"
        }
       ],
       "layout": {
        "height": 800,
        "legend": {
         "tracegroupgap": 0
        },
        "map": {
         "center": {
          "lat": 37.43281949268227,
          "lon": -96.3633608911425
         },
         "domain": {
          "x": [
           0,
           1
          ],
          "y": [
           0,
           1
          ]
         },
         "style": "open-street-map",
         "zoom": 3.5
        },
        "mapbox": {
         "center": {
          "lat": 37.43281949268227,
          "lon": -96.3633608911425
         },
         "style": "open-street-map",
         "zoom": 3.5
        },
        "template": {
         "data": {
          "bar": [
           {
            "error_x": {
             "color": "#2a3f5f"
            },
            "error_y": {
             "color": "#2a3f5f"
            },
            "marker": {
             "line": {
              "color": "#E5ECF6",
              "width": 0.5
             },
             "pattern": {
              "fillmode": "overlay",
              "size": 10,
              "solidity": 0.2
             }
            },
            "type": "bar"
           }
          ],
          "barpolar": [
           {
            "marker": {
             "line": {
              "color": "#E5ECF6",
              "width": 0.5
             },
             "pattern": {
              "fillmode": "overlay",
              "size": 10,
              "solidity": 0.2
             }
            },
            "type": "barpolar"
           }
          ],
          "carpet": [
           {
            "aaxis": {
             "endlinecolor": "#2a3f5f",
             "gridcolor": "white",
             "linecolor": "white",
             "minorgridcolor": "white",
             "startlinecolor": "#2a3f5f"
            },
            "baxis": {
             "endlinecolor": "#2a3f5f",
             "gridcolor": "white",
             "linecolor": "white",
             "minorgridcolor": "white",
             "startlinecolor": "#2a3f5f"
            },
            "type": "carpet"
           }
          ],
          "choropleth": [
           {
            "colorbar": {
             "outlinewidth": 0,
             "ticks": ""
            },
            "type": "choropleth"
           }
          ],
          "contour": [
           {
            "colorbar": {
             "outlinewidth": 0,
             "ticks": ""
            },
            "colorscale": [
             [
              0,
              "#0d0887"
             ],
             [
              0.1111111111111111,
              "#46039f"
             ],
             [
              0.2222222222222222,
              "#7201a8"
             ],
             [
              0.3333333333333333,
              "#9c179e"
             ],
             [
              0.4444444444444444,
              "#bd3786"
             ],
             [
              0.5555555555555556,
              "#d8576b"
             ],
             [
              0.6666666666666666,
              "#ed7953"
             ],
             [
              0.7777777777777778,
              "#fb9f3a"
             ],
             [
              0.8888888888888888,
              "#fdca26"
             ],
             [
              1,
              "#f0f921"
             ]
            ],
            "type": "contour"
           }
          ],
          "contourcarpet": [
           {
            "colorbar": {
             "outlinewidth": 0,
             "ticks": ""
            },
            "type": "contourcarpet"
           }
          ],
          "heatmap": [
           {
            "colorbar": {
             "outlinewidth": 0,
             "ticks": ""
            },
            "colorscale": [
             [
              0,
              "#0d0887"
             ],
             [
              0.1111111111111111,
              "#46039f"
             ],
             [
              0.2222222222222222,
              "#7201a8"
             ],
             [
              0.3333333333333333,
              "#9c179e"
             ],
             [
              0.4444444444444444,
              "#bd3786"
             ],
             [
              0.5555555555555556,
              "#d8576b"
             ],
             [
              0.6666666666666666,
              "#ed7953"
             ],
             [
              0.7777777777777778,
              "#fb9f3a"
             ],
             [
              0.8888888888888888,
              "#fdca26"
             ],
             [
              1,
              "#f0f921"
             ]
            ],
            "type": "heatmap"
           }
          ],
          "histogram": [
           {
            "marker": {
             "pattern": {
              "fillmode": "overlay",
              "size": 10,
              "solidity": 0.2
             }
            },
            "type": "histogram"
           }
          ],
          "histogram2d": [
           {
            "colorbar": {
             "outlinewidth": 0,
             "ticks": ""
            },
            "colorscale": [
             [
              0,
              "#0d0887"
             ],
             [
              0.1111111111111111,
              "#46039f"
             ],
             [
              0.2222222222222222,
              "#7201a8"
             ],
             [
              0.3333333333333333,
              "#9c179e"
             ],
             [
              0.4444444444444444,
              "#bd3786"
             ],
             [
              0.5555555555555556,
              "#d8576b"
             ],
             [
              0.6666666666666666,
              "#ed7953"
             ],
             [
              0.7777777777777778,
              "#fb9f3a"
             ],
             [
              0.8888888888888888,
              "#fdca26"
             ],
             [
              1,
              "#f0f921"
             ]
            ],
            "type": "histogram2d"
           }
          ],
          "histogram2dcontour": [
           {
            "colorbar": {
             "outlinewidth": 0,
             "ticks": ""
            },
            "colorscale": [
             [
              0,
              "#0d0887"
             ],
             [
              0.1111111111111111,
              "#46039f"
             ],
             [
              0.2222222222222222,
              "#7201a8"
             ],
             [
              0.3333333333333333,
              "#9c179e"
             ],
             [
              0.4444444444444444,
              "#bd3786"
             ],
             [
              0.5555555555555556,
              "#d8576b"
             ],
             [
              0.6666666666666666,
              "#ed7953"
             ],
             [
              0.7777777777777778,
              "#fb9f3a"
             ],
             [
              0.8888888888888888,
              "#fdca26"
             ],
             [
              1,
              "#f0f921"
             ]
            ],
            "type": "histogram2dcontour"
           }
          ],
          "mesh3d": [
           {
            "colorbar": {
             "outlinewidth": 0,
             "ticks": ""
            },
            "type": "mesh3d"
           }
          ],
          "parcoords": [
           {
            "line": {
             "colorbar": {
              "outlinewidth": 0,
              "ticks": ""
             }
            },
            "type": "parcoords"
           }
          ],
          "pie": [
           {
            "automargin": true,
            "type": "pie"
           }
          ],
          "scatter": [
           {
            "fillpattern": {
             "fillmode": "overlay",
             "size": 10,
             "solidity": 0.2
            },
            "type": "scatter"
           }
          ],
          "scatter3d": [
           {
            "line": {
             "colorbar": {
              "outlinewidth": 0,
              "ticks": ""
             }
            },
            "marker": {
             "colorbar": {
              "outlinewidth": 0,
              "ticks": ""
             }
            },
            "type": "scatter3d"
           }
          ],
          "scattercarpet": [
           {
            "marker": {
             "colorbar": {
              "outlinewidth": 0,
              "ticks": ""
             }
            },
            "type": "scattercarpet"
           }
          ],
          "scattergeo": [
           {
            "marker": {
             "colorbar": {
              "outlinewidth": 0,
              "ticks": ""
             }
            },
            "type": "scattergeo"
           }
          ],
          "scattergl": [
           {
            "marker": {
             "colorbar": {
              "outlinewidth": 0,
              "ticks": ""
             }
            },
            "type": "scattergl"
           }
          ],
          "scattermap": [
           {
            "marker": {
             "colorbar": {
              "outlinewidth": 0,
              "ticks": ""
             }
            },
            "type": "scattermap"
           }
          ],
          "scattermapbox": [
           {
            "marker": {
             "colorbar": {
              "outlinewidth": 0,
              "ticks": ""
             }
            },
            "type": "scattermapbox"
           }
          ],
          "scatterpolar": [
           {
            "marker": {
             "colorbar": {
              "outlinewidth": 0,
              "ticks": ""
             }
            },
            "type": "scatterpolar"
           }
          ],
          "scatterpolargl": [
           {
            "marker": {
             "colorbar": {
              "outlinewidth": 0,
              "ticks": ""
             }
            },
            "type": "scatterpolargl"
           }
          ],
          "scatterternary": [
           {
            "marker": {
             "colorbar": {
              "outlinewidth": 0,
              "ticks": ""
             }
            },
            "type": "scatterternary"
           }
          ],
          "surface": [
           {
            "colorbar": {
             "outlinewidth": 0,
             "ticks": ""
            },
            "colorscale": [
             [
              0,
              "#0d0887"
             ],
             [
              0.1111111111111111,
              "#46039f"
             ],
             [
              0.2222222222222222,
              "#7201a8"
             ],
             [
              0.3333333333333333,
              "#9c179e"
             ],
             [
              0.4444444444444444,
              "#bd3786"
             ],
             [
              0.5555555555555556,
              "#d8576b"
             ],
             [
              0.6666666666666666,
              "#ed7953"
             ],
             [
              0.7777777777777778,
              "#fb9f3a"
             ],
             [
              0.8888888888888888,
              "#fdca26"
             ],
             [
              1,
              "#f0f921"
             ]
            ],
            "type": "surface"
           }
          ],
          "table": [
           {
            "cells": {
             "fill": {
              "color": "#EBF0F8"
             },
             "line": {
              "color": "white"
             }
            },
            "header": {
             "fill": {
              "color": "#C8D4E3"
             },
             "line": {
              "color": "white"
             }
            },
            "type": "table"
           }
          ]
         },
         "layout": {
          "annotationdefaults": {
           "arrowcolor": "#2a3f5f",
           "arrowhead": 0,
           "arrowwidth": 1
          },
          "autotypenumbers": "strict",
          "coloraxis": {
           "colorbar": {
            "outlinewidth": 0,
            "ticks": ""
           }
          },
          "colorscale": {
           "diverging": [
            [
             0,
             "#8e0152"
            ],
            [
             0.1,
             "#c51b7d"
            ],
            [
             0.2,
             "#de77ae"
            ],
            [
             0.3,
             "#f1b6da"
            ],
            [
             0.4,
             "#fde0ef"
            ],
            [
             0.5,
             "#f7f7f7"
            ],
            [
             0.6,
             "#e6f5d0"
            ],
            [
             0.7,
             "#b8e186"
            ],
            [
             0.8,
             "#7fbc41"
            ],
            [
             0.9,
             "#4d9221"
            ],
            [
             1,
             "#276419"
            ]
           ],
           "sequential": [
            [
             0,
             "#0d0887"
            ],
            [
             0.1111111111111111,
             "#46039f"
            ],
            [
             0.2222222222222222,
             "#7201a8"
            ],
            [
             0.3333333333333333,
             "#9c179e"
            ],
            [
             0.4444444444444444,
             "#bd3786"
            ],
            [
             0.5555555555555556,
             "#d8576b"
            ],
            [
             0.6666666666666666,
             "#ed7953"
            ],
            [
             0.7777777777777778,
             "#fb9f3a"
            ],
            [
             0.8888888888888888,
             "#fdca26"
            ],
            [
             1,
             "#f0f921"
            ]
           ],
           "sequentialminus": [
            [
             0,
             "#0d0887"
            ],
            [
             0.1111111111111111,
             "#46039f"
            ],
            [
             0.2222222222222222,
             "#7201a8"
            ],
            [
             0.3333333333333333,
             "#9c179e"
            ],
            [
             0.4444444444444444,
             "#bd3786"
            ],
            [
             0.5555555555555556,
             "#d8576b"
            ],
            [
             0.6666666666666666,
             "#ed7953"
            ],
            [
             0.7777777777777778,
             "#fb9f3a"
            ],
            [
             0.8888888888888888,
             "#fdca26"
            ],
            [
             1,
             "#f0f921"
            ]
           ]
          },
          "colorway": [
           "#636efa",
           "#EF553B",
           "#00cc96",
           "#ab63fa",
           "#FFA15A",
           "#19d3f3",
           "#FF6692",
           "#B6E880",
           "#FF97FF",
           "#FECB52"
          ],
          "font": {
           "color": "#2a3f5f"
          },
          "geo": {
           "bgcolor": "white",
           "lakecolor": "white",
           "landcolor": "#E5ECF6",
           "showlakes": true,
           "showland": true,
           "subunitcolor": "white"
          },
          "hoverlabel": {
           "align": "left"
          },
          "hovermode": "closest",
          "mapbox": {
           "style": "light"
          },
          "paper_bgcolor": "white",
          "plot_bgcolor": "#E5ECF6",
          "polar": {
           "angularaxis": {
            "gridcolor": "white",
            "linecolor": "white",
            "ticks": ""
           },
           "bgcolor": "#E5ECF6",
           "radialaxis": {
            "gridcolor": "white",
            "linecolor": "white",
            "ticks": ""
           }
          },
          "scene": {
           "xaxis": {
            "backgroundcolor": "#E5ECF6",
            "gridcolor": "white",
            "gridwidth": 2,
            "linecolor": "white",
            "showbackground": true,
            "ticks": "",
            "zerolinecolor": "white"
           },
           "yaxis": {
            "backgroundcolor": "#E5ECF6",
            "gridcolor": "white",
            "gridwidth": 2,
            "linecolor": "white",
            "showbackground": true,
            "ticks": "",
            "zerolinecolor": "white"
           },
           "zaxis": {
            "backgroundcolor": "#E5ECF6",
            "gridcolor": "white",
            "gridwidth": 2,
            "linecolor": "white",
            "showbackground": true,
            "ticks": "",
            "zerolinecolor": "white"
           }
          },
          "shapedefaults": {
           "line": {
            "color": "#2a3f5f"
           }
          },
          "ternary": {
           "aaxis": {
            "gridcolor": "white",
            "linecolor": "white",
            "ticks": ""
           },
           "baxis": {
            "gridcolor": "white",
            "linecolor": "white",
            "ticks": ""
           },
           "bgcolor": "#E5ECF6",
           "caxis": {
            "gridcolor": "white",
            "linecolor": "white",
            "ticks": ""
           }
          },
          "title": {
           "x": 0.05
          },
          "xaxis": {
           "automargin": true,
           "gridcolor": "white",
           "linecolor": "white",
           "ticks": "",
           "title": {
            "standoff": 15
           },
           "zerolinecolor": "white",
           "zerolinewidth": 2
          },
          "yaxis": {
           "automargin": true,
           "gridcolor": "white",
           "linecolor": "white",
           "ticks": "",
           "title": {
            "standoff": 15
           },
           "zerolinecolor": "white",
           "zerolinewidth": 2
          }
         }
        },
        "title": {
         "text": "NBA Teams Played for during NBA Careers"
        }
       }
      }
     },
     "metadata": {},
     "output_type": "display_data"
    }
   ],
   "source": [
    "#generate scattermap of locations of all NBA teams played for during their careers\n",
    "fig = px.scatter_map(mapdata, lat=\"Latitude\", \n",
    "                     lon=\"Longitude\", \n",
    "                     hover_data={'Latitude': False, 'Longitude': False, 'Name': True, 'Team_Name': True, 'City_State': True},\n",
    "                     map_style='open-street-map', \n",
    "                     title= \"NBA Teams Played for during NBA Careers\",\n",
    "                     color_discrete_sequence=['orange'],\n",
    "                     height=800, zoom=3.5).update_traces(marker=dict(size=10))\n",
    "fig.show()"
   ]
  },
  {
   "cell_type": "code",
   "execution_count": 25,
   "id": "c66704e3",
   "metadata": {},
   "outputs": [
    {
     "data": {
      "application/vnd.plotly.v1+json": {
       "config": {
        "plotlyServerURL": "https://plot.ly"
       },
       "data": [
        {
         "marker": {
          "color": "purple"
         },
         "type": "bar",
         "x": [
          "Charles Barkley",
          "Larry Bird",
          "Clyde Drexler",
          "Patrick Ewing",
          "Magic Johnson",
          "Michael Jordan",
          "Christian Laettner",
          "Karl Malone",
          "Chris Mullin",
          "Scottie Pippen",
          "David Robinson",
          "John Stockton"
         ],
         "y": [
          3,
          1,
          2,
          3,
          1,
          2,
          6,
          2,
          2,
          3,
          1,
          1
         ]
        }
       ],
       "layout": {
        "plot_bgcolor": "lightgrey",
        "template": {
         "data": {
          "bar": [
           {
            "error_x": {
             "color": "#2a3f5f"
            },
            "error_y": {
             "color": "#2a3f5f"
            },
            "marker": {
             "line": {
              "color": "#E5ECF6",
              "width": 0.5
             },
             "pattern": {
              "fillmode": "overlay",
              "size": 10,
              "solidity": 0.2
             }
            },
            "type": "bar"
           }
          ],
          "barpolar": [
           {
            "marker": {
             "line": {
              "color": "#E5ECF6",
              "width": 0.5
             },
             "pattern": {
              "fillmode": "overlay",
              "size": 10,
              "solidity": 0.2
             }
            },
            "type": "barpolar"
           }
          ],
          "carpet": [
           {
            "aaxis": {
             "endlinecolor": "#2a3f5f",
             "gridcolor": "white",
             "linecolor": "white",
             "minorgridcolor": "white",
             "startlinecolor": "#2a3f5f"
            },
            "baxis": {
             "endlinecolor": "#2a3f5f",
             "gridcolor": "white",
             "linecolor": "white",
             "minorgridcolor": "white",
             "startlinecolor": "#2a3f5f"
            },
            "type": "carpet"
           }
          ],
          "choropleth": [
           {
            "colorbar": {
             "outlinewidth": 0,
             "ticks": ""
            },
            "type": "choropleth"
           }
          ],
          "contour": [
           {
            "colorbar": {
             "outlinewidth": 0,
             "ticks": ""
            },
            "colorscale": [
             [
              0,
              "#0d0887"
             ],
             [
              0.1111111111111111,
              "#46039f"
             ],
             [
              0.2222222222222222,
              "#7201a8"
             ],
             [
              0.3333333333333333,
              "#9c179e"
             ],
             [
              0.4444444444444444,
              "#bd3786"
             ],
             [
              0.5555555555555556,
              "#d8576b"
             ],
             [
              0.6666666666666666,
              "#ed7953"
             ],
             [
              0.7777777777777778,
              "#fb9f3a"
             ],
             [
              0.8888888888888888,
              "#fdca26"
             ],
             [
              1,
              "#f0f921"
             ]
            ],
            "type": "contour"
           }
          ],
          "contourcarpet": [
           {
            "colorbar": {
             "outlinewidth": 0,
             "ticks": ""
            },
            "type": "contourcarpet"
           }
          ],
          "heatmap": [
           {
            "colorbar": {
             "outlinewidth": 0,
             "ticks": ""
            },
            "colorscale": [
             [
              0,
              "#0d0887"
             ],
             [
              0.1111111111111111,
              "#46039f"
             ],
             [
              0.2222222222222222,
              "#7201a8"
             ],
             [
              0.3333333333333333,
              "#9c179e"
             ],
             [
              0.4444444444444444,
              "#bd3786"
             ],
             [
              0.5555555555555556,
              "#d8576b"
             ],
             [
              0.6666666666666666,
              "#ed7953"
             ],
             [
              0.7777777777777778,
              "#fb9f3a"
             ],
             [
              0.8888888888888888,
              "#fdca26"
             ],
             [
              1,
              "#f0f921"
             ]
            ],
            "type": "heatmap"
           }
          ],
          "histogram": [
           {
            "marker": {
             "pattern": {
              "fillmode": "overlay",
              "size": 10,
              "solidity": 0.2
             }
            },
            "type": "histogram"
           }
          ],
          "histogram2d": [
           {
            "colorbar": {
             "outlinewidth": 0,
             "ticks": ""
            },
            "colorscale": [
             [
              0,
              "#0d0887"
             ],
             [
              0.1111111111111111,
              "#46039f"
             ],
             [
              0.2222222222222222,
              "#7201a8"
             ],
             [
              0.3333333333333333,
              "#9c179e"
             ],
             [
              0.4444444444444444,
              "#bd3786"
             ],
             [
              0.5555555555555556,
              "#d8576b"
             ],
             [
              0.6666666666666666,
              "#ed7953"
             ],
             [
              0.7777777777777778,
              "#fb9f3a"
             ],
             [
              0.8888888888888888,
              "#fdca26"
             ],
             [
              1,
              "#f0f921"
             ]
            ],
            "type": "histogram2d"
           }
          ],
          "histogram2dcontour": [
           {
            "colorbar": {
             "outlinewidth": 0,
             "ticks": ""
            },
            "colorscale": [
             [
              0,
              "#0d0887"
             ],
             [
              0.1111111111111111,
              "#46039f"
             ],
             [
              0.2222222222222222,
              "#7201a8"
             ],
             [
              0.3333333333333333,
              "#9c179e"
             ],
             [
              0.4444444444444444,
              "#bd3786"
             ],
             [
              0.5555555555555556,
              "#d8576b"
             ],
             [
              0.6666666666666666,
              "#ed7953"
             ],
             [
              0.7777777777777778,
              "#fb9f3a"
             ],
             [
              0.8888888888888888,
              "#fdca26"
             ],
             [
              1,
              "#f0f921"
             ]
            ],
            "type": "histogram2dcontour"
           }
          ],
          "mesh3d": [
           {
            "colorbar": {
             "outlinewidth": 0,
             "ticks": ""
            },
            "type": "mesh3d"
           }
          ],
          "parcoords": [
           {
            "line": {
             "colorbar": {
              "outlinewidth": 0,
              "ticks": ""
             }
            },
            "type": "parcoords"
           }
          ],
          "pie": [
           {
            "automargin": true,
            "type": "pie"
           }
          ],
          "scatter": [
           {
            "fillpattern": {
             "fillmode": "overlay",
             "size": 10,
             "solidity": 0.2
            },
            "type": "scatter"
           }
          ],
          "scatter3d": [
           {
            "line": {
             "colorbar": {
              "outlinewidth": 0,
              "ticks": ""
             }
            },
            "marker": {
             "colorbar": {
              "outlinewidth": 0,
              "ticks": ""
             }
            },
            "type": "scatter3d"
           }
          ],
          "scattercarpet": [
           {
            "marker": {
             "colorbar": {
              "outlinewidth": 0,
              "ticks": ""
             }
            },
            "type": "scattercarpet"
           }
          ],
          "scattergeo": [
           {
            "marker": {
             "colorbar": {
              "outlinewidth": 0,
              "ticks": ""
             }
            },
            "type": "scattergeo"
           }
          ],
          "scattergl": [
           {
            "marker": {
             "colorbar": {
              "outlinewidth": 0,
              "ticks": ""
             }
            },
            "type": "scattergl"
           }
          ],
          "scattermap": [
           {
            "marker": {
             "colorbar": {
              "outlinewidth": 0,
              "ticks": ""
             }
            },
            "type": "scattermap"
           }
          ],
          "scattermapbox": [
           {
            "marker": {
             "colorbar": {
              "outlinewidth": 0,
              "ticks": ""
             }
            },
            "type": "scattermapbox"
           }
          ],
          "scatterpolar": [
           {
            "marker": {
             "colorbar": {
              "outlinewidth": 0,
              "ticks": ""
             }
            },
            "type": "scatterpolar"
           }
          ],
          "scatterpolargl": [
           {
            "marker": {
             "colorbar": {
              "outlinewidth": 0,
              "ticks": ""
             }
            },
            "type": "scatterpolargl"
           }
          ],
          "scatterternary": [
           {
            "marker": {
             "colorbar": {
              "outlinewidth": 0,
              "ticks": ""
             }
            },
            "type": "scatterternary"
           }
          ],
          "surface": [
           {
            "colorbar": {
             "outlinewidth": 0,
             "ticks": ""
            },
            "colorscale": [
             [
              0,
              "#0d0887"
             ],
             [
              0.1111111111111111,
              "#46039f"
             ],
             [
              0.2222222222222222,
              "#7201a8"
             ],
             [
              0.3333333333333333,
              "#9c179e"
             ],
             [
              0.4444444444444444,
              "#bd3786"
             ],
             [
              0.5555555555555556,
              "#d8576b"
             ],
             [
              0.6666666666666666,
              "#ed7953"
             ],
             [
              0.7777777777777778,
              "#fb9f3a"
             ],
             [
              0.8888888888888888,
              "#fdca26"
             ],
             [
              1,
              "#f0f921"
             ]
            ],
            "type": "surface"
           }
          ],
          "table": [
           {
            "cells": {
             "fill": {
              "color": "#EBF0F8"
             },
             "line": {
              "color": "white"
             }
            },
            "header": {
             "fill": {
              "color": "#C8D4E3"
             },
             "line": {
              "color": "white"
             }
            },
            "type": "table"
           }
          ]
         },
         "layout": {
          "annotationdefaults": {
           "arrowcolor": "#2a3f5f",
           "arrowhead": 0,
           "arrowwidth": 1
          },
          "autotypenumbers": "strict",
          "coloraxis": {
           "colorbar": {
            "outlinewidth": 0,
            "ticks": ""
           }
          },
          "colorscale": {
           "diverging": [
            [
             0,
             "#8e0152"
            ],
            [
             0.1,
             "#c51b7d"
            ],
            [
             0.2,
             "#de77ae"
            ],
            [
             0.3,
             "#f1b6da"
            ],
            [
             0.4,
             "#fde0ef"
            ],
            [
             0.5,
             "#f7f7f7"
            ],
            [
             0.6,
             "#e6f5d0"
            ],
            [
             0.7,
             "#b8e186"
            ],
            [
             0.8,
             "#7fbc41"
            ],
            [
             0.9,
             "#4d9221"
            ],
            [
             1,
             "#276419"
            ]
           ],
           "sequential": [
            [
             0,
             "#0d0887"
            ],
            [
             0.1111111111111111,
             "#46039f"
            ],
            [
             0.2222222222222222,
             "#7201a8"
            ],
            [
             0.3333333333333333,
             "#9c179e"
            ],
            [
             0.4444444444444444,
             "#bd3786"
            ],
            [
             0.5555555555555556,
             "#d8576b"
            ],
            [
             0.6666666666666666,
             "#ed7953"
            ],
            [
             0.7777777777777778,
             "#fb9f3a"
            ],
            [
             0.8888888888888888,
             "#fdca26"
            ],
            [
             1,
             "#f0f921"
            ]
           ],
           "sequentialminus": [
            [
             0,
             "#0d0887"
            ],
            [
             0.1111111111111111,
             "#46039f"
            ],
            [
             0.2222222222222222,
             "#7201a8"
            ],
            [
             0.3333333333333333,
             "#9c179e"
            ],
            [
             0.4444444444444444,
             "#bd3786"
            ],
            [
             0.5555555555555556,
             "#d8576b"
            ],
            [
             0.6666666666666666,
             "#ed7953"
            ],
            [
             0.7777777777777778,
             "#fb9f3a"
            ],
            [
             0.8888888888888888,
             "#fdca26"
            ],
            [
             1,
             "#f0f921"
            ]
           ]
          },
          "colorway": [
           "#636efa",
           "#EF553B",
           "#00cc96",
           "#ab63fa",
           "#FFA15A",
           "#19d3f3",
           "#FF6692",
           "#B6E880",
           "#FF97FF",
           "#FECB52"
          ],
          "font": {
           "color": "#2a3f5f"
          },
          "geo": {
           "bgcolor": "white",
           "lakecolor": "white",
           "landcolor": "#E5ECF6",
           "showlakes": true,
           "showland": true,
           "subunitcolor": "white"
          },
          "hoverlabel": {
           "align": "left"
          },
          "hovermode": "closest",
          "mapbox": {
           "style": "light"
          },
          "paper_bgcolor": "white",
          "plot_bgcolor": "#E5ECF6",
          "polar": {
           "angularaxis": {
            "gridcolor": "white",
            "linecolor": "white",
            "ticks": ""
           },
           "bgcolor": "#E5ECF6",
           "radialaxis": {
            "gridcolor": "white",
            "linecolor": "white",
            "ticks": ""
           }
          },
          "scene": {
           "xaxis": {
            "backgroundcolor": "#E5ECF6",
            "gridcolor": "white",
            "gridwidth": 2,
            "linecolor": "white",
            "showbackground": true,
            "ticks": "",
            "zerolinecolor": "white"
           },
           "yaxis": {
            "backgroundcolor": "#E5ECF6",
            "gridcolor": "white",
            "gridwidth": 2,
            "linecolor": "white",
            "showbackground": true,
            "ticks": "",
            "zerolinecolor": "white"
           },
           "zaxis": {
            "backgroundcolor": "#E5ECF6",
            "gridcolor": "white",
            "gridwidth": 2,
            "linecolor": "white",
            "showbackground": true,
            "ticks": "",
            "zerolinecolor": "white"
           }
          },
          "shapedefaults": {
           "line": {
            "color": "#2a3f5f"
           }
          },
          "ternary": {
           "aaxis": {
            "gridcolor": "white",
            "linecolor": "white",
            "ticks": ""
           },
           "baxis": {
            "gridcolor": "white",
            "linecolor": "white",
            "ticks": ""
           },
           "bgcolor": "#E5ECF6",
           "caxis": {
            "gridcolor": "white",
            "linecolor": "white",
            "ticks": ""
           }
          },
          "title": {
           "x": 0.05
          },
          "xaxis": {
           "automargin": true,
           "gridcolor": "white",
           "linecolor": "white",
           "ticks": "",
           "title": {
            "standoff": 15
           },
           "zerolinecolor": "white",
           "zerolinewidth": 2
          },
          "yaxis": {
           "automargin": true,
           "gridcolor": "white",
           "linecolor": "white",
           "ticks": "",
           "title": {
            "standoff": 15
           },
           "zerolinecolor": "white",
           "zerolinewidth": 2
          }
         }
        },
        "title": {
         "text": "Number of NBA teams played for during NBA career, by player"
        },
        "xaxis": {
         "title": {
          "text": "Player"
         }
        },
        "yaxis": {
         "title": {
          "text": "Number of NBA teams"
         }
        }
       }
      }
     },
     "metadata": {},
     "output_type": "display_data"
    }
   ],
   "source": [
    "# Bar chart of the number of NBA teams played by player\n",
    "number_of_teams=[]\n",
    "for name in roster:\n",
    "    number_of_teams.append(mapdata['Team_Name'][mapdata['Name']== name].value_counts().shape[0])  \n",
    "\n",
    "bar_trace = go.Bar(x=roster, y=number_of_teams)\n",
    "fig=go.Figure(data=[bar_trace]).update_layout(title='Number of NBA teams played for during NBA career, by player', \n",
    "                                              xaxis_title='Player', \n",
    "                                              yaxis_title='Number of NBA teams' , plot_bgcolor='lightgrey').update_traces(marker_color='purple')\n",
    "  \n",
    "fig.show()"
   ]
  },
  {
   "cell_type": "code",
   "execution_count": 26,
   "id": "c27ca479",
   "metadata": {},
   "outputs": [
    {
     "data": {
      "application/vnd.plotly.v1+json": {
       "config": {
        "plotlyServerURL": "https://plot.ly"
       },
       "data": [
        {
         "marker": {
          "color": "gold"
         },
         "name": "Games Started",
         "type": "bar",
         "x": [
          "Charles Barkley",
          "Larry Bird",
          "Clyde Drexler",
          "Patrick Ewing",
          "Magic Johnson",
          "Michael Jordan",
          "Christian Laettner",
          "Karl Malone",
          "Chris Mullin",
          "Scottie Pippen",
          "David Robinson",
          "John Stockton"
         ],
         "y": [
          80,
          82,
          82,
          82,
          77,
          82,
          82,
          82,
          82,
          82,
          81,
          82
         ]
        }
       ],
       "layout": {
        "plot_bgcolor": "lightgrey",
        "template": {
         "data": {
          "bar": [
           {
            "error_x": {
             "color": "#2a3f5f"
            },
            "error_y": {
             "color": "#2a3f5f"
            },
            "marker": {
             "line": {
              "color": "#E5ECF6",
              "width": 0.5
             },
             "pattern": {
              "fillmode": "overlay",
              "size": 10,
              "solidity": 0.2
             }
            },
            "type": "bar"
           }
          ],
          "barpolar": [
           {
            "marker": {
             "line": {
              "color": "#E5ECF6",
              "width": 0.5
             },
             "pattern": {
              "fillmode": "overlay",
              "size": 10,
              "solidity": 0.2
             }
            },
            "type": "barpolar"
           }
          ],
          "carpet": [
           {
            "aaxis": {
             "endlinecolor": "#2a3f5f",
             "gridcolor": "white",
             "linecolor": "white",
             "minorgridcolor": "white",
             "startlinecolor": "#2a3f5f"
            },
            "baxis": {
             "endlinecolor": "#2a3f5f",
             "gridcolor": "white",
             "linecolor": "white",
             "minorgridcolor": "white",
             "startlinecolor": "#2a3f5f"
            },
            "type": "carpet"
           }
          ],
          "choropleth": [
           {
            "colorbar": {
             "outlinewidth": 0,
             "ticks": ""
            },
            "type": "choropleth"
           }
          ],
          "contour": [
           {
            "colorbar": {
             "outlinewidth": 0,
             "ticks": ""
            },
            "colorscale": [
             [
              0,
              "#0d0887"
             ],
             [
              0.1111111111111111,
              "#46039f"
             ],
             [
              0.2222222222222222,
              "#7201a8"
             ],
             [
              0.3333333333333333,
              "#9c179e"
             ],
             [
              0.4444444444444444,
              "#bd3786"
             ],
             [
              0.5555555555555556,
              "#d8576b"
             ],
             [
              0.6666666666666666,
              "#ed7953"
             ],
             [
              0.7777777777777778,
              "#fb9f3a"
             ],
             [
              0.8888888888888888,
              "#fdca26"
             ],
             [
              1,
              "#f0f921"
             ]
            ],
            "type": "contour"
           }
          ],
          "contourcarpet": [
           {
            "colorbar": {
             "outlinewidth": 0,
             "ticks": ""
            },
            "type": "contourcarpet"
           }
          ],
          "heatmap": [
           {
            "colorbar": {
             "outlinewidth": 0,
             "ticks": ""
            },
            "colorscale": [
             [
              0,
              "#0d0887"
             ],
             [
              0.1111111111111111,
              "#46039f"
             ],
             [
              0.2222222222222222,
              "#7201a8"
             ],
             [
              0.3333333333333333,
              "#9c179e"
             ],
             [
              0.4444444444444444,
              "#bd3786"
             ],
             [
              0.5555555555555556,
              "#d8576b"
             ],
             [
              0.6666666666666666,
              "#ed7953"
             ],
             [
              0.7777777777777778,
              "#fb9f3a"
             ],
             [
              0.8888888888888888,
              "#fdca26"
             ],
             [
              1,
              "#f0f921"
             ]
            ],
            "type": "heatmap"
           }
          ],
          "histogram": [
           {
            "marker": {
             "pattern": {
              "fillmode": "overlay",
              "size": 10,
              "solidity": 0.2
             }
            },
            "type": "histogram"
           }
          ],
          "histogram2d": [
           {
            "colorbar": {
             "outlinewidth": 0,
             "ticks": ""
            },
            "colorscale": [
             [
              0,
              "#0d0887"
             ],
             [
              0.1111111111111111,
              "#46039f"
             ],
             [
              0.2222222222222222,
              "#7201a8"
             ],
             [
              0.3333333333333333,
              "#9c179e"
             ],
             [
              0.4444444444444444,
              "#bd3786"
             ],
             [
              0.5555555555555556,
              "#d8576b"
             ],
             [
              0.6666666666666666,
              "#ed7953"
             ],
             [
              0.7777777777777778,
              "#fb9f3a"
             ],
             [
              0.8888888888888888,
              "#fdca26"
             ],
             [
              1,
              "#f0f921"
             ]
            ],
            "type": "histogram2d"
           }
          ],
          "histogram2dcontour": [
           {
            "colorbar": {
             "outlinewidth": 0,
             "ticks": ""
            },
            "colorscale": [
             [
              0,
              "#0d0887"
             ],
             [
              0.1111111111111111,
              "#46039f"
             ],
             [
              0.2222222222222222,
              "#7201a8"
             ],
             [
              0.3333333333333333,
              "#9c179e"
             ],
             [
              0.4444444444444444,
              "#bd3786"
             ],
             [
              0.5555555555555556,
              "#d8576b"
             ],
             [
              0.6666666666666666,
              "#ed7953"
             ],
             [
              0.7777777777777778,
              "#fb9f3a"
             ],
             [
              0.8888888888888888,
              "#fdca26"
             ],
             [
              1,
              "#f0f921"
             ]
            ],
            "type": "histogram2dcontour"
           }
          ],
          "mesh3d": [
           {
            "colorbar": {
             "outlinewidth": 0,
             "ticks": ""
            },
            "type": "mesh3d"
           }
          ],
          "parcoords": [
           {
            "line": {
             "colorbar": {
              "outlinewidth": 0,
              "ticks": ""
             }
            },
            "type": "parcoords"
           }
          ],
          "pie": [
           {
            "automargin": true,
            "type": "pie"
           }
          ],
          "scatter": [
           {
            "fillpattern": {
             "fillmode": "overlay",
             "size": 10,
             "solidity": 0.2
            },
            "type": "scatter"
           }
          ],
          "scatter3d": [
           {
            "line": {
             "colorbar": {
              "outlinewidth": 0,
              "ticks": ""
             }
            },
            "marker": {
             "colorbar": {
              "outlinewidth": 0,
              "ticks": ""
             }
            },
            "type": "scatter3d"
           }
          ],
          "scattercarpet": [
           {
            "marker": {
             "colorbar": {
              "outlinewidth": 0,
              "ticks": ""
             }
            },
            "type": "scattercarpet"
           }
          ],
          "scattergeo": [
           {
            "marker": {
             "colorbar": {
              "outlinewidth": 0,
              "ticks": ""
             }
            },
            "type": "scattergeo"
           }
          ],
          "scattergl": [
           {
            "marker": {
             "colorbar": {
              "outlinewidth": 0,
              "ticks": ""
             }
            },
            "type": "scattergl"
           }
          ],
          "scattermap": [
           {
            "marker": {
             "colorbar": {
              "outlinewidth": 0,
              "ticks": ""
             }
            },
            "type": "scattermap"
           }
          ],
          "scattermapbox": [
           {
            "marker": {
             "colorbar": {
              "outlinewidth": 0,
              "ticks": ""
             }
            },
            "type": "scattermapbox"
           }
          ],
          "scatterpolar": [
           {
            "marker": {
             "colorbar": {
              "outlinewidth": 0,
              "ticks": ""
             }
            },
            "type": "scatterpolar"
           }
          ],
          "scatterpolargl": [
           {
            "marker": {
             "colorbar": {
              "outlinewidth": 0,
              "ticks": ""
             }
            },
            "type": "scatterpolargl"
           }
          ],
          "scatterternary": [
           {
            "marker": {
             "colorbar": {
              "outlinewidth": 0,
              "ticks": ""
             }
            },
            "type": "scatterternary"
           }
          ],
          "surface": [
           {
            "colorbar": {
             "outlinewidth": 0,
             "ticks": ""
            },
            "colorscale": [
             [
              0,
              "#0d0887"
             ],
             [
              0.1111111111111111,
              "#46039f"
             ],
             [
              0.2222222222222222,
              "#7201a8"
             ],
             [
              0.3333333333333333,
              "#9c179e"
             ],
             [
              0.4444444444444444,
              "#bd3786"
             ],
             [
              0.5555555555555556,
              "#d8576b"
             ],
             [
              0.6666666666666666,
              "#ed7953"
             ],
             [
              0.7777777777777778,
              "#fb9f3a"
             ],
             [
              0.8888888888888888,
              "#fdca26"
             ],
             [
              1,
              "#f0f921"
             ]
            ],
            "type": "surface"
           }
          ],
          "table": [
           {
            "cells": {
             "fill": {
              "color": "#EBF0F8"
             },
             "line": {
              "color": "white"
             }
            },
            "header": {
             "fill": {
              "color": "#C8D4E3"
             },
             "line": {
              "color": "white"
             }
            },
            "type": "table"
           }
          ]
         },
         "layout": {
          "annotationdefaults": {
           "arrowcolor": "#2a3f5f",
           "arrowhead": 0,
           "arrowwidth": 1
          },
          "autotypenumbers": "strict",
          "coloraxis": {
           "colorbar": {
            "outlinewidth": 0,
            "ticks": ""
           }
          },
          "colorscale": {
           "diverging": [
            [
             0,
             "#8e0152"
            ],
            [
             0.1,
             "#c51b7d"
            ],
            [
             0.2,
             "#de77ae"
            ],
            [
             0.3,
             "#f1b6da"
            ],
            [
             0.4,
             "#fde0ef"
            ],
            [
             0.5,
             "#f7f7f7"
            ],
            [
             0.6,
             "#e6f5d0"
            ],
            [
             0.7,
             "#b8e186"
            ],
            [
             0.8,
             "#7fbc41"
            ],
            [
             0.9,
             "#4d9221"
            ],
            [
             1,
             "#276419"
            ]
           ],
           "sequential": [
            [
             0,
             "#0d0887"
            ],
            [
             0.1111111111111111,
             "#46039f"
            ],
            [
             0.2222222222222222,
             "#7201a8"
            ],
            [
             0.3333333333333333,
             "#9c179e"
            ],
            [
             0.4444444444444444,
             "#bd3786"
            ],
            [
             0.5555555555555556,
             "#d8576b"
            ],
            [
             0.6666666666666666,
             "#ed7953"
            ],
            [
             0.7777777777777778,
             "#fb9f3a"
            ],
            [
             0.8888888888888888,
             "#fdca26"
            ],
            [
             1,
             "#f0f921"
            ]
           ],
           "sequentialminus": [
            [
             0,
             "#0d0887"
            ],
            [
             0.1111111111111111,
             "#46039f"
            ],
            [
             0.2222222222222222,
             "#7201a8"
            ],
            [
             0.3333333333333333,
             "#9c179e"
            ],
            [
             0.4444444444444444,
             "#bd3786"
            ],
            [
             0.5555555555555556,
             "#d8576b"
            ],
            [
             0.6666666666666666,
             "#ed7953"
            ],
            [
             0.7777777777777778,
             "#fb9f3a"
            ],
            [
             0.8888888888888888,
             "#fdca26"
            ],
            [
             1,
             "#f0f921"
            ]
           ]
          },
          "colorway": [
           "#636efa",
           "#EF553B",
           "#00cc96",
           "#ab63fa",
           "#FFA15A",
           "#19d3f3",
           "#FF6692",
           "#B6E880",
           "#FF97FF",
           "#FECB52"
          ],
          "font": {
           "color": "#2a3f5f"
          },
          "geo": {
           "bgcolor": "white",
           "lakecolor": "white",
           "landcolor": "#E5ECF6",
           "showlakes": true,
           "showland": true,
           "subunitcolor": "white"
          },
          "hoverlabel": {
           "align": "left"
          },
          "hovermode": "closest",
          "mapbox": {
           "style": "light"
          },
          "paper_bgcolor": "white",
          "plot_bgcolor": "#E5ECF6",
          "polar": {
           "angularaxis": {
            "gridcolor": "white",
            "linecolor": "white",
            "ticks": ""
           },
           "bgcolor": "#E5ECF6",
           "radialaxis": {
            "gridcolor": "white",
            "linecolor": "white",
            "ticks": ""
           }
          },
          "scene": {
           "xaxis": {
            "backgroundcolor": "#E5ECF6",
            "gridcolor": "white",
            "gridwidth": 2,
            "linecolor": "white",
            "showbackground": true,
            "ticks": "",
            "zerolinecolor": "white"
           },
           "yaxis": {
            "backgroundcolor": "#E5ECF6",
            "gridcolor": "white",
            "gridwidth": 2,
            "linecolor": "white",
            "showbackground": true,
            "ticks": "",
            "zerolinecolor": "white"
           },
           "zaxis": {
            "backgroundcolor": "#E5ECF6",
            "gridcolor": "white",
            "gridwidth": 2,
            "linecolor": "white",
            "showbackground": true,
            "ticks": "",
            "zerolinecolor": "white"
           }
          },
          "shapedefaults": {
           "line": {
            "color": "#2a3f5f"
           }
          },
          "ternary": {
           "aaxis": {
            "gridcolor": "white",
            "linecolor": "white",
            "ticks": ""
           },
           "baxis": {
            "gridcolor": "white",
            "linecolor": "white",
            "ticks": ""
           },
           "bgcolor": "#E5ECF6",
           "caxis": {
            "gridcolor": "white",
            "linecolor": "white",
            "ticks": ""
           }
          },
          "title": {
           "x": 0.05
          },
          "xaxis": {
           "automargin": true,
           "gridcolor": "white",
           "linecolor": "white",
           "ticks": "",
           "title": {
            "standoff": 15
           },
           "zerolinecolor": "white",
           "zerolinewidth": 2
          },
          "yaxis": {
           "automargin": true,
           "gridcolor": "white",
           "linecolor": "white",
           "ticks": "",
           "title": {
            "standoff": 15
           },
           "zerolinecolor": "white",
           "zerolinewidth": 2
          }
         }
        },
        "title": {
         "text": "Most Frequent Number of NBA Games Started in a Season, by player"
        },
        "xaxis": {
         "title": {
          "text": "Player"
         }
        },
        "yaxis": {
         "title": {
          "text": "Number of NBA Games Started"
         }
        }
       }
      }
     },
     "metadata": {},
     "output_type": "display_data"
    }
   ],
   "source": [
    "#mode number of games played and started for each season\n",
    "games_played=[]\n",
    "games_started=[]\n",
    "for data in dataframes.values():\n",
    "    games_played.append(int(statistics.mode(data['GP'])))\n",
    "    games_started.append(int(statistics.mode(data['GS'])))\n",
    "\n",
    "bar_trace1 = go.Bar(name=\"Games Started\", x = roster, y = games_started, marker_color=\"gold\")\n",
    "fig = go.Figure(data=[bar_trace1]).update_layout(\n",
    "                  title='Most Frequent Number of NBA Games Started in a Season, by player',\n",
    "                  xaxis_title=\"Player\",\n",
    "                  yaxis_title=\"Number of NBA Games Started\", plot_bgcolor='lightgrey')\n",
    "fig.show()"
   ]
  },
  {
   "cell_type": "code",
   "execution_count": 27,
   "id": "010888d4",
   "metadata": {},
   "outputs": [
    {
     "data": {
      "application/vnd.plotly.v1+json": {
       "config": {
        "plotlyServerURL": "https://plot.ly"
       },
       "data": [
        {
         "name": "Charles Barkley",
         "type": "box",
         "y": {
          "bdata": "KwmIC7QKYgwQDA0MwglBCysL+ghOCUgK2gfDCPYFbAI=",
          "dtype": "i2"
         }
        },
        {
         "name": "Larry Bird",
         "type": "box",
         "y": {
          "bdata": "iwunDGsLpgvUC1kMKQy9C5ULvQCAC+UIfgY=",
          "dtype": "i2"
         }
        },
        {
         "name": "Clyde Drexler",
         "type": "box",
         "y": {
          "bdata": "gAX7CRAKKgz0C/gLewokC78KhwYeCZQFFAWoCs0H4AipCQ==",
          "dtype": "i2"
         }
        },
        {
         "name": "Patrick Ewing",
         "type": "box",
         "y": {
          "bdata": "6waeCPIJUAtdDCAMTgy7C5wLaAvfCkcLUAMUBfMHOwiFAw==",
          "dtype": "i2"
         }
        },
        {
         "name": "Magic Johnson",
         "type": "box",
         "y": {
          "bdata": "6wpbBa8LWwsHCt0KEgpYC00KRgt5C3ULvgM=",
          "dtype": "i2"
         }
        },
        {
         "name": "Michael Jordan",
         "type": "box",
         "y": {
          "bdata": "SAzDAdEM7wy3DH0M2gseDPsLnAISDCUMbQwpCNcL",
          "dtype": "i2"
         }
        },
        {
         "name": "Christian Laettner",
         "type": "box",
         "y": {
          "bdata": "Bwt8CdIK7gXRA78JPgzqCFEBiwmiA90CfwahBacI2APjAg==",
          "dtype": "i2"
         }
        },
        {
         "name": "Karl Malone",
         "type": "box",
         "y": {
          "bdata": "qwkpC34MNgwyDOYM7gsbDAENNgwpDLYL1gsoB4MLTwvgC3gLXQU=",
          "dtype": "i2"
         }
        },
        {
         "name": "Chris Mullin",
         "type": "box",
         "y": {
          "bdata": "bwVJCfEHFQwOC/MMEg1uBxQJegNRBrYKgQibBEYCdgE=",
          "dtype": "i2"
         }
        },
        {
         "name": "Scottie Pippen",
         "type": "box",
         "y": {
          "bdata": "cgZtCUwMxgtcDDMMxwrGCwkLFgx0BtsHvQpVCMwHdwecAQ==",
          "dtype": "i2"
         }
        },
        {
         "name": "David Robinson",
         "type": "box",
         "y": {
          "bdata": "ugsXDAQKiwypDAIMywuTAJkJEgb9CUMJAQmMBg==",
          "dtype": "i2"
         }
        },
        {
         "name": "John Stockton",
         "type": "box",
         "y": {
          "bdata": "0gWPB0IHGgtjDGMLHwy6Cy8LmQszC2MLTgtCB4IFgAldCQoK4wg=",
          "dtype": "i2"
         }
        }
       ],
       "layout": {
        "template": {
         "data": {
          "bar": [
           {
            "error_x": {
             "color": "#2a3f5f"
            },
            "error_y": {
             "color": "#2a3f5f"
            },
            "marker": {
             "line": {
              "color": "#E5ECF6",
              "width": 0.5
             },
             "pattern": {
              "fillmode": "overlay",
              "size": 10,
              "solidity": 0.2
             }
            },
            "type": "bar"
           }
          ],
          "barpolar": [
           {
            "marker": {
             "line": {
              "color": "#E5ECF6",
              "width": 0.5
             },
             "pattern": {
              "fillmode": "overlay",
              "size": 10,
              "solidity": 0.2
             }
            },
            "type": "barpolar"
           }
          ],
          "carpet": [
           {
            "aaxis": {
             "endlinecolor": "#2a3f5f",
             "gridcolor": "white",
             "linecolor": "white",
             "minorgridcolor": "white",
             "startlinecolor": "#2a3f5f"
            },
            "baxis": {
             "endlinecolor": "#2a3f5f",
             "gridcolor": "white",
             "linecolor": "white",
             "minorgridcolor": "white",
             "startlinecolor": "#2a3f5f"
            },
            "type": "carpet"
           }
          ],
          "choropleth": [
           {
            "colorbar": {
             "outlinewidth": 0,
             "ticks": ""
            },
            "type": "choropleth"
           }
          ],
          "contour": [
           {
            "colorbar": {
             "outlinewidth": 0,
             "ticks": ""
            },
            "colorscale": [
             [
              0,
              "#0d0887"
             ],
             [
              0.1111111111111111,
              "#46039f"
             ],
             [
              0.2222222222222222,
              "#7201a8"
             ],
             [
              0.3333333333333333,
              "#9c179e"
             ],
             [
              0.4444444444444444,
              "#bd3786"
             ],
             [
              0.5555555555555556,
              "#d8576b"
             ],
             [
              0.6666666666666666,
              "#ed7953"
             ],
             [
              0.7777777777777778,
              "#fb9f3a"
             ],
             [
              0.8888888888888888,
              "#fdca26"
             ],
             [
              1,
              "#f0f921"
             ]
            ],
            "type": "contour"
           }
          ],
          "contourcarpet": [
           {
            "colorbar": {
             "outlinewidth": 0,
             "ticks": ""
            },
            "type": "contourcarpet"
           }
          ],
          "heatmap": [
           {
            "colorbar": {
             "outlinewidth": 0,
             "ticks": ""
            },
            "colorscale": [
             [
              0,
              "#0d0887"
             ],
             [
              0.1111111111111111,
              "#46039f"
             ],
             [
              0.2222222222222222,
              "#7201a8"
             ],
             [
              0.3333333333333333,
              "#9c179e"
             ],
             [
              0.4444444444444444,
              "#bd3786"
             ],
             [
              0.5555555555555556,
              "#d8576b"
             ],
             [
              0.6666666666666666,
              "#ed7953"
             ],
             [
              0.7777777777777778,
              "#fb9f3a"
             ],
             [
              0.8888888888888888,
              "#fdca26"
             ],
             [
              1,
              "#f0f921"
             ]
            ],
            "type": "heatmap"
           }
          ],
          "histogram": [
           {
            "marker": {
             "pattern": {
              "fillmode": "overlay",
              "size": 10,
              "solidity": 0.2
             }
            },
            "type": "histogram"
           }
          ],
          "histogram2d": [
           {
            "colorbar": {
             "outlinewidth": 0,
             "ticks": ""
            },
            "colorscale": [
             [
              0,
              "#0d0887"
             ],
             [
              0.1111111111111111,
              "#46039f"
             ],
             [
              0.2222222222222222,
              "#7201a8"
             ],
             [
              0.3333333333333333,
              "#9c179e"
             ],
             [
              0.4444444444444444,
              "#bd3786"
             ],
             [
              0.5555555555555556,
              "#d8576b"
             ],
             [
              0.6666666666666666,
              "#ed7953"
             ],
             [
              0.7777777777777778,
              "#fb9f3a"
             ],
             [
              0.8888888888888888,
              "#fdca26"
             ],
             [
              1,
              "#f0f921"
             ]
            ],
            "type": "histogram2d"
           }
          ],
          "histogram2dcontour": [
           {
            "colorbar": {
             "outlinewidth": 0,
             "ticks": ""
            },
            "colorscale": [
             [
              0,
              "#0d0887"
             ],
             [
              0.1111111111111111,
              "#46039f"
             ],
             [
              0.2222222222222222,
              "#7201a8"
             ],
             [
              0.3333333333333333,
              "#9c179e"
             ],
             [
              0.4444444444444444,
              "#bd3786"
             ],
             [
              0.5555555555555556,
              "#d8576b"
             ],
             [
              0.6666666666666666,
              "#ed7953"
             ],
             [
              0.7777777777777778,
              "#fb9f3a"
             ],
             [
              0.8888888888888888,
              "#fdca26"
             ],
             [
              1,
              "#f0f921"
             ]
            ],
            "type": "histogram2dcontour"
           }
          ],
          "mesh3d": [
           {
            "colorbar": {
             "outlinewidth": 0,
             "ticks": ""
            },
            "type": "mesh3d"
           }
          ],
          "parcoords": [
           {
            "line": {
             "colorbar": {
              "outlinewidth": 0,
              "ticks": ""
             }
            },
            "type": "parcoords"
           }
          ],
          "pie": [
           {
            "automargin": true,
            "type": "pie"
           }
          ],
          "scatter": [
           {
            "fillpattern": {
             "fillmode": "overlay",
             "size": 10,
             "solidity": 0.2
            },
            "type": "scatter"
           }
          ],
          "scatter3d": [
           {
            "line": {
             "colorbar": {
              "outlinewidth": 0,
              "ticks": ""
             }
            },
            "marker": {
             "colorbar": {
              "outlinewidth": 0,
              "ticks": ""
             }
            },
            "type": "scatter3d"
           }
          ],
          "scattercarpet": [
           {
            "marker": {
             "colorbar": {
              "outlinewidth": 0,
              "ticks": ""
             }
            },
            "type": "scattercarpet"
           }
          ],
          "scattergeo": [
           {
            "marker": {
             "colorbar": {
              "outlinewidth": 0,
              "ticks": ""
             }
            },
            "type": "scattergeo"
           }
          ],
          "scattergl": [
           {
            "marker": {
             "colorbar": {
              "outlinewidth": 0,
              "ticks": ""
             }
            },
            "type": "scattergl"
           }
          ],
          "scattermap": [
           {
            "marker": {
             "colorbar": {
              "outlinewidth": 0,
              "ticks": ""
             }
            },
            "type": "scattermap"
           }
          ],
          "scattermapbox": [
           {
            "marker": {
             "colorbar": {
              "outlinewidth": 0,
              "ticks": ""
             }
            },
            "type": "scattermapbox"
           }
          ],
          "scatterpolar": [
           {
            "marker": {
             "colorbar": {
              "outlinewidth": 0,
              "ticks": ""
             }
            },
            "type": "scatterpolar"
           }
          ],
          "scatterpolargl": [
           {
            "marker": {
             "colorbar": {
              "outlinewidth": 0,
              "ticks": ""
             }
            },
            "type": "scatterpolargl"
           }
          ],
          "scatterternary": [
           {
            "marker": {
             "colorbar": {
              "outlinewidth": 0,
              "ticks": ""
             }
            },
            "type": "scatterternary"
           }
          ],
          "surface": [
           {
            "colorbar": {
             "outlinewidth": 0,
             "ticks": ""
            },
            "colorscale": [
             [
              0,
              "#0d0887"
             ],
             [
              0.1111111111111111,
              "#46039f"
             ],
             [
              0.2222222222222222,
              "#7201a8"
             ],
             [
              0.3333333333333333,
              "#9c179e"
             ],
             [
              0.4444444444444444,
              "#bd3786"
             ],
             [
              0.5555555555555556,
              "#d8576b"
             ],
             [
              0.6666666666666666,
              "#ed7953"
             ],
             [
              0.7777777777777778,
              "#fb9f3a"
             ],
             [
              0.8888888888888888,
              "#fdca26"
             ],
             [
              1,
              "#f0f921"
             ]
            ],
            "type": "surface"
           }
          ],
          "table": [
           {
            "cells": {
             "fill": {
              "color": "#EBF0F8"
             },
             "line": {
              "color": "white"
             }
            },
            "header": {
             "fill": {
              "color": "#C8D4E3"
             },
             "line": {
              "color": "white"
             }
            },
            "type": "table"
           }
          ]
         },
         "layout": {
          "annotationdefaults": {
           "arrowcolor": "#2a3f5f",
           "arrowhead": 0,
           "arrowwidth": 1
          },
          "autotypenumbers": "strict",
          "coloraxis": {
           "colorbar": {
            "outlinewidth": 0,
            "ticks": ""
           }
          },
          "colorscale": {
           "diverging": [
            [
             0,
             "#8e0152"
            ],
            [
             0.1,
             "#c51b7d"
            ],
            [
             0.2,
             "#de77ae"
            ],
            [
             0.3,
             "#f1b6da"
            ],
            [
             0.4,
             "#fde0ef"
            ],
            [
             0.5,
             "#f7f7f7"
            ],
            [
             0.6,
             "#e6f5d0"
            ],
            [
             0.7,
             "#b8e186"
            ],
            [
             0.8,
             "#7fbc41"
            ],
            [
             0.9,
             "#4d9221"
            ],
            [
             1,
             "#276419"
            ]
           ],
           "sequential": [
            [
             0,
             "#0d0887"
            ],
            [
             0.1111111111111111,
             "#46039f"
            ],
            [
             0.2222222222222222,
             "#7201a8"
            ],
            [
             0.3333333333333333,
             "#9c179e"
            ],
            [
             0.4444444444444444,
             "#bd3786"
            ],
            [
             0.5555555555555556,
             "#d8576b"
            ],
            [
             0.6666666666666666,
             "#ed7953"
            ],
            [
             0.7777777777777778,
             "#fb9f3a"
            ],
            [
             0.8888888888888888,
             "#fdca26"
            ],
            [
             1,
             "#f0f921"
            ]
           ],
           "sequentialminus": [
            [
             0,
             "#0d0887"
            ],
            [
             0.1111111111111111,
             "#46039f"
            ],
            [
             0.2222222222222222,
             "#7201a8"
            ],
            [
             0.3333333333333333,
             "#9c179e"
            ],
            [
             0.4444444444444444,
             "#bd3786"
            ],
            [
             0.5555555555555556,
             "#d8576b"
            ],
            [
             0.6666666666666666,
             "#ed7953"
            ],
            [
             0.7777777777777778,
             "#fb9f3a"
            ],
            [
             0.8888888888888888,
             "#fdca26"
            ],
            [
             1,
             "#f0f921"
            ]
           ]
          },
          "colorway": [
           "#636efa",
           "#EF553B",
           "#00cc96",
           "#ab63fa",
           "#FFA15A",
           "#19d3f3",
           "#FF6692",
           "#B6E880",
           "#FF97FF",
           "#FECB52"
          ],
          "font": {
           "color": "#2a3f5f"
          },
          "geo": {
           "bgcolor": "white",
           "lakecolor": "white",
           "landcolor": "#E5ECF6",
           "showlakes": true,
           "showland": true,
           "subunitcolor": "white"
          },
          "hoverlabel": {
           "align": "left"
          },
          "hovermode": "closest",
          "mapbox": {
           "style": "light"
          },
          "paper_bgcolor": "white",
          "plot_bgcolor": "#E5ECF6",
          "polar": {
           "angularaxis": {
            "gridcolor": "white",
            "linecolor": "white",
            "ticks": ""
           },
           "bgcolor": "#E5ECF6",
           "radialaxis": {
            "gridcolor": "white",
            "linecolor": "white",
            "ticks": ""
           }
          },
          "scene": {
           "xaxis": {
            "backgroundcolor": "#E5ECF6",
            "gridcolor": "white",
            "gridwidth": 2,
            "linecolor": "white",
            "showbackground": true,
            "ticks": "",
            "zerolinecolor": "white"
           },
           "yaxis": {
            "backgroundcolor": "#E5ECF6",
            "gridcolor": "white",
            "gridwidth": 2,
            "linecolor": "white",
            "showbackground": true,
            "ticks": "",
            "zerolinecolor": "white"
           },
           "zaxis": {
            "backgroundcolor": "#E5ECF6",
            "gridcolor": "white",
            "gridwidth": 2,
            "linecolor": "white",
            "showbackground": true,
            "ticks": "",
            "zerolinecolor": "white"
           }
          },
          "shapedefaults": {
           "line": {
            "color": "#2a3f5f"
           }
          },
          "ternary": {
           "aaxis": {
            "gridcolor": "white",
            "linecolor": "white",
            "ticks": ""
           },
           "baxis": {
            "gridcolor": "white",
            "linecolor": "white",
            "ticks": ""
           },
           "bgcolor": "#E5ECF6",
           "caxis": {
            "gridcolor": "white",
            "linecolor": "white",
            "ticks": ""
           }
          },
          "title": {
           "x": 0.05
          },
          "xaxis": {
           "automargin": true,
           "gridcolor": "white",
           "linecolor": "white",
           "ticks": "",
           "title": {
            "standoff": 15
           },
           "zerolinecolor": "white",
           "zerolinewidth": 2
          },
          "yaxis": {
           "automargin": true,
           "gridcolor": "white",
           "linecolor": "white",
           "ticks": "",
           "title": {
            "standoff": 15
           },
           "zerolinecolor": "white",
           "zerolinewidth": 2
          }
         }
        },
        "title": {
         "text": "Distribution of Total Minutes Played Each NBA Season, by player"
        },
        "xaxis": {
         "title": {
          "text": "Player"
         }
        },
        "yaxis": {
         "tickformat": ",d"
        }
       }
      }
     },
     "metadata": {},
     "output_type": "display_data"
    }
   ],
   "source": [
    "#Boxplots for the distributions for the number of minutes played each season\n",
    "fig=go.Figure().add_trace(go.Box(y=barkley['MIN'], name=\"Charles Barkley\")).add_trace(go.Box(y=bird['MIN'], name=\"Larry Bird\")).add_trace(go.Box(y=drexler['MIN'], name=\"Clyde Drexler\")).add_trace(go.Box(y=ewing['MIN'], name=\"Patrick Ewing\")).add_trace(go.Box(y=johnson['MIN'], name=\"Magic Johnson\")).add_trace(go.Box(y=jordan['MIN'], name=\"Michael Jordan\")).add_trace(go.Box(y=laettner['MIN'], name=\"Christian Laettner\")).add_trace(go.Box(y=malone['MIN'], name=\"Karl Malone\")).add_trace(go.Box(y=mullin['MIN'], name=\"Chris Mullin\")).add_trace(go.Box(y=pippen['MIN'], name=\"Scottie Pippen\")).add_trace(go.Box(y=robinson['MIN'], name=\"David Robinson\")).add_trace(go.Box(y=stockton['MIN'], name=\"John Stockton\")).update_layout(title=\"Distribution of Total Minutes Played Each NBA Season, by player\",xaxis_title=\"Player\").update_layout(\n",
    "    yaxis=dict(tickformat=\",d\" ))\n",
    "fig.show()"
   ]
  },
  {
   "cell_type": "code",
   "execution_count": 44,
   "id": "58bef426",
   "metadata": {},
   "outputs": [
    {
     "data": {
      "text/html": [
       "<div>\n",
       "<style scoped>\n",
       "    .dataframe tbody tr th:only-of-type {\n",
       "        vertical-align: middle;\n",
       "    }\n",
       "\n",
       "    .dataframe tbody tr th {\n",
       "        vertical-align: top;\n",
       "    }\n",
       "\n",
       "    .dataframe thead th {\n",
       "        text-align: right;\n",
       "    }\n",
       "</style>\n",
       "<table border=\"1\" class=\"dataframe\">\n",
       "  <thead>\n",
       "    <tr style=\"text-align: right;\">\n",
       "      <th></th>\n",
       "      <th>SEASON_ID</th>\n",
       "      <th>Name</th>\n",
       "      <th>FTM</th>\n",
       "      <th>FTA</th>\n",
       "      <th>FT_PCT</th>\n",
       "    </tr>\n",
       "  </thead>\n",
       "  <tbody>\n",
       "    <tr>\n",
       "      <th>0</th>\n",
       "      <td>1984-85</td>\n",
       "      <td>Charles Barkley</td>\n",
       "      <td>293</td>\n",
       "      <td>400</td>\n",
       "      <td>0.733</td>\n",
       "    </tr>\n",
       "    <tr>\n",
       "      <th>1</th>\n",
       "      <td>1985-86</td>\n",
       "      <td>Charles Barkley</td>\n",
       "      <td>396</td>\n",
       "      <td>578</td>\n",
       "      <td>0.685</td>\n",
       "    </tr>\n",
       "    <tr>\n",
       "      <th>2</th>\n",
       "      <td>1986-87</td>\n",
       "      <td>Charles Barkley</td>\n",
       "      <td>429</td>\n",
       "      <td>564</td>\n",
       "      <td>0.761</td>\n",
       "    </tr>\n",
       "    <tr>\n",
       "      <th>3</th>\n",
       "      <td>1987-88</td>\n",
       "      <td>Charles Barkley</td>\n",
       "      <td>714</td>\n",
       "      <td>951</td>\n",
       "      <td>0.751</td>\n",
       "    </tr>\n",
       "    <tr>\n",
       "      <th>4</th>\n",
       "      <td>1988-89</td>\n",
       "      <td>Charles Barkley</td>\n",
       "      <td>602</td>\n",
       "      <td>799</td>\n",
       "      <td>0.753</td>\n",
       "    </tr>\n",
       "    <tr>\n",
       "      <th>...</th>\n",
       "      <td>...</td>\n",
       "      <td>...</td>\n",
       "      <td>...</td>\n",
       "      <td>...</td>\n",
       "      <td>...</td>\n",
       "    </tr>\n",
       "    <tr>\n",
       "      <th>154</th>\n",
       "      <td>1998-99</td>\n",
       "      <td>John Stockton</td>\n",
       "      <td>137</td>\n",
       "      <td>169</td>\n",
       "      <td>0.811</td>\n",
       "    </tr>\n",
       "    <tr>\n",
       "      <th>155</th>\n",
       "      <td>1999-00</td>\n",
       "      <td>John Stockton</td>\n",
       "      <td>221</td>\n",
       "      <td>257</td>\n",
       "      <td>0.860</td>\n",
       "    </tr>\n",
       "    <tr>\n",
       "      <th>156</th>\n",
       "      <td>2000-01</td>\n",
       "      <td>John Stockton</td>\n",
       "      <td>227</td>\n",
       "      <td>278</td>\n",
       "      <td>0.817</td>\n",
       "    </tr>\n",
       "    <tr>\n",
       "      <th>157</th>\n",
       "      <td>2001-02</td>\n",
       "      <td>John Stockton</td>\n",
       "      <td>275</td>\n",
       "      <td>321</td>\n",
       "      <td>0.857</td>\n",
       "    </tr>\n",
       "    <tr>\n",
       "      <th>158</th>\n",
       "      <td>2002-03</td>\n",
       "      <td>John Stockton</td>\n",
       "      <td>237</td>\n",
       "      <td>287</td>\n",
       "      <td>0.826</td>\n",
       "    </tr>\n",
       "  </tbody>\n",
       "</table>\n",
       "<p>159 rows × 5 columns</p>\n",
       "</div>"
      ],
      "text/plain": [
       "    SEASON_ID             Name  FTM  FTA  FT_PCT\n",
       "0     1984-85  Charles Barkley  293  400   0.733\n",
       "1     1985-86  Charles Barkley  396  578   0.685\n",
       "2     1986-87  Charles Barkley  429  564   0.761\n",
       "3     1987-88  Charles Barkley  714  951   0.751\n",
       "4     1988-89  Charles Barkley  602  799   0.753\n",
       "..        ...              ...  ...  ...     ...\n",
       "154   1998-99    John Stockton  137  169   0.811\n",
       "155   1999-00    John Stockton  221  257   0.860\n",
       "156   2000-01    John Stockton  227  278   0.817\n",
       "157   2001-02    John Stockton  275  321   0.857\n",
       "158   2002-03    John Stockton  237  287   0.826\n",
       "\n",
       "[159 rows x 5 columns]"
      ]
     },
     "execution_count": 44,
     "metadata": {},
     "output_type": "execute_result"
    }
   ],
   "source": [
    "#scatter plot showing number of field goals made by number of field goals attempted\n",
    "#deal with multiple season IDs in drexler and laettner dataframes\n",
    "#create new dataframe for just free throw information\n",
    "#get information for players with single season IDs\n",
    "target_categories = ['Charles Barkley','Larry Bird','Patrick Ewing','Magic Johnson', \n",
    "        'Michael Jordan', 'Karl Malone','Chris Mullin', 'Scottie Pippen', 'David Robinson', 'John Stockton']\n",
    "is_in_target_categories = df_all['Name'].isin(target_categories)\n",
    "df_ft=df_all.loc[is_in_target_categories, \n",
    "                 ['SEASON_ID','Name', 'FTM','FTA','FT_PCT']].reset_index(drop=True)\n",
    "df_ft"
   ]
  },
  {
   "cell_type": "code",
   "execution_count": 49,
   "id": "74275961",
   "metadata": {},
   "outputs": [
    {
     "data": {
      "text/html": [
       "<div>\n",
       "<style scoped>\n",
       "    .dataframe tbody tr th:only-of-type {\n",
       "        vertical-align: middle;\n",
       "    }\n",
       "\n",
       "    .dataframe tbody tr th {\n",
       "        vertical-align: top;\n",
       "    }\n",
       "\n",
       "    .dataframe thead th {\n",
       "        text-align: right;\n",
       "    }\n",
       "</style>\n",
       "<table border=\"1\" class=\"dataframe\">\n",
       "  <thead>\n",
       "    <tr style=\"text-align: right;\">\n",
       "      <th></th>\n",
       "      <th>SEASON_ID</th>\n",
       "      <th>Name</th>\n",
       "      <th>FTM</th>\n",
       "      <th>FTA</th>\n",
       "      <th>FT_PCT</th>\n",
       "    </tr>\n",
       "  </thead>\n",
       "  <tbody>\n",
       "    <tr>\n",
       "      <th>0</th>\n",
       "      <td>1983-84</td>\n",
       "      <td>Clyde Drexler</td>\n",
       "      <td>123</td>\n",
       "      <td>169</td>\n",
       "      <td>0.728</td>\n",
       "    </tr>\n",
       "    <tr>\n",
       "      <th>1</th>\n",
       "      <td>1984-85</td>\n",
       "      <td>Clyde Drexler</td>\n",
       "      <td>223</td>\n",
       "      <td>294</td>\n",
       "      <td>0.759</td>\n",
       "    </tr>\n",
       "    <tr>\n",
       "      <th>2</th>\n",
       "      <td>1985-86</td>\n",
       "      <td>Clyde Drexler</td>\n",
       "      <td>293</td>\n",
       "      <td>381</td>\n",
       "      <td>0.769</td>\n",
       "    </tr>\n",
       "    <tr>\n",
       "      <th>3</th>\n",
       "      <td>1986-87</td>\n",
       "      <td>Clyde Drexler</td>\n",
       "      <td>357</td>\n",
       "      <td>470</td>\n",
       "      <td>0.760</td>\n",
       "    </tr>\n",
       "    <tr>\n",
       "      <th>4</th>\n",
       "      <td>1987-88</td>\n",
       "      <td>Clyde Drexler</td>\n",
       "      <td>476</td>\n",
       "      <td>587</td>\n",
       "      <td>0.811</td>\n",
       "    </tr>\n",
       "    <tr>\n",
       "      <th>5</th>\n",
       "      <td>1988-89</td>\n",
       "      <td>Clyde Drexler</td>\n",
       "      <td>438</td>\n",
       "      <td>548</td>\n",
       "      <td>0.799</td>\n",
       "    </tr>\n",
       "    <tr>\n",
       "      <th>6</th>\n",
       "      <td>1989-90</td>\n",
       "      <td>Clyde Drexler</td>\n",
       "      <td>333</td>\n",
       "      <td>430</td>\n",
       "      <td>0.774</td>\n",
       "    </tr>\n",
       "    <tr>\n",
       "      <th>7</th>\n",
       "      <td>1990-91</td>\n",
       "      <td>Clyde Drexler</td>\n",
       "      <td>416</td>\n",
       "      <td>524</td>\n",
       "      <td>0.794</td>\n",
       "    </tr>\n",
       "    <tr>\n",
       "      <th>8</th>\n",
       "      <td>1991-92</td>\n",
       "      <td>Clyde Drexler</td>\n",
       "      <td>401</td>\n",
       "      <td>505</td>\n",
       "      <td>0.794</td>\n",
       "    </tr>\n",
       "    <tr>\n",
       "      <th>9</th>\n",
       "      <td>1992-93</td>\n",
       "      <td>Clyde Drexler</td>\n",
       "      <td>245</td>\n",
       "      <td>292</td>\n",
       "      <td>0.839</td>\n",
       "    </tr>\n",
       "    <tr>\n",
       "      <th>10</th>\n",
       "      <td>1993-94</td>\n",
       "      <td>Clyde Drexler</td>\n",
       "      <td>286</td>\n",
       "      <td>368</td>\n",
       "      <td>0.777</td>\n",
       "    </tr>\n",
       "    <tr>\n",
       "      <th>11</th>\n",
       "      <td>1994-95</td>\n",
       "      <td>Clyde Drexler</td>\n",
       "      <td>207</td>\n",
       "      <td>248</td>\n",
       "      <td>0.835</td>\n",
       "    </tr>\n",
       "    <tr>\n",
       "      <th>12</th>\n",
       "      <td>1994-95</td>\n",
       "      <td>Clyde Drexler</td>\n",
       "      <td>157</td>\n",
       "      <td>194</td>\n",
       "      <td>0.809</td>\n",
       "    </tr>\n",
       "    <tr>\n",
       "      <th>13</th>\n",
       "      <td>1994-95</td>\n",
       "      <td>Clyde Drexler</td>\n",
       "      <td>364</td>\n",
       "      <td>442</td>\n",
       "      <td>0.824</td>\n",
       "    </tr>\n",
       "    <tr>\n",
       "      <th>14</th>\n",
       "      <td>1995-96</td>\n",
       "      <td>Clyde Drexler</td>\n",
       "      <td>265</td>\n",
       "      <td>338</td>\n",
       "      <td>0.784</td>\n",
       "    </tr>\n",
       "    <tr>\n",
       "      <th>15</th>\n",
       "      <td>1996-97</td>\n",
       "      <td>Clyde Drexler</td>\n",
       "      <td>201</td>\n",
       "      <td>268</td>\n",
       "      <td>0.750</td>\n",
       "    </tr>\n",
       "    <tr>\n",
       "      <th>16</th>\n",
       "      <td>1997-98</td>\n",
       "      <td>Clyde Drexler</td>\n",
       "      <td>277</td>\n",
       "      <td>346</td>\n",
       "      <td>0.801</td>\n",
       "    </tr>\n",
       "  </tbody>\n",
       "</table>\n",
       "</div>"
      ],
      "text/plain": [
       "   SEASON_ID           Name  FTM  FTA  FT_PCT\n",
       "0    1983-84  Clyde Drexler  123  169   0.728\n",
       "1    1984-85  Clyde Drexler  223  294   0.759\n",
       "2    1985-86  Clyde Drexler  293  381   0.769\n",
       "3    1986-87  Clyde Drexler  357  470   0.760\n",
       "4    1987-88  Clyde Drexler  476  587   0.811\n",
       "5    1988-89  Clyde Drexler  438  548   0.799\n",
       "6    1989-90  Clyde Drexler  333  430   0.774\n",
       "7    1990-91  Clyde Drexler  416  524   0.794\n",
       "8    1991-92  Clyde Drexler  401  505   0.794\n",
       "9    1992-93  Clyde Drexler  245  292   0.839\n",
       "10   1993-94  Clyde Drexler  286  368   0.777\n",
       "11   1994-95  Clyde Drexler  207  248   0.835\n",
       "12   1994-95  Clyde Drexler  157  194   0.809\n",
       "13   1994-95  Clyde Drexler  364  442   0.824\n",
       "14   1995-96  Clyde Drexler  265  338   0.784\n",
       "15   1996-97  Clyde Drexler  201  268   0.750\n",
       "16   1997-98  Clyde Drexler  277  346   0.801"
      ]
     },
     "execution_count": 49,
     "metadata": {},
     "output_type": "execute_result"
    },
    {
     "data": {
      "text/html": [
       "<div>\n",
       "<style scoped>\n",
       "    .dataframe tbody tr th:only-of-type {\n",
       "        vertical-align: middle;\n",
       "    }\n",
       "\n",
       "    .dataframe tbody tr th {\n",
       "        vertical-align: top;\n",
       "    }\n",
       "\n",
       "    .dataframe thead th {\n",
       "        text-align: right;\n",
       "    }\n",
       "</style>\n",
       "<table border=\"1\" class=\"dataframe\">\n",
       "  <thead>\n",
       "    <tr style=\"text-align: right;\">\n",
       "      <th></th>\n",
       "      <th>SEASON_ID</th>\n",
       "      <th>Name</th>\n",
       "      <th>FTM</th>\n",
       "      <th>FTA</th>\n",
       "      <th>FT_PCT</th>\n",
       "    </tr>\n",
       "  </thead>\n",
       "  <tbody>\n",
       "    <tr>\n",
       "      <th>0</th>\n",
       "      <td>1992-93</td>\n",
       "      <td>Christian Laettner</td>\n",
       "      <td>462</td>\n",
       "      <td>553</td>\n",
       "      <td>0.835</td>\n",
       "    </tr>\n",
       "    <tr>\n",
       "      <th>1</th>\n",
       "      <td>1993-94</td>\n",
       "      <td>Christian Laettner</td>\n",
       "      <td>375</td>\n",
       "      <td>479</td>\n",
       "      <td>0.783</td>\n",
       "    </tr>\n",
       "    <tr>\n",
       "      <th>2</th>\n",
       "      <td>1994-95</td>\n",
       "      <td>Christian Laettner</td>\n",
       "      <td>409</td>\n",
       "      <td>500</td>\n",
       "      <td>0.818</td>\n",
       "    </tr>\n",
       "    <tr>\n",
       "      <th>3</th>\n",
       "      <td>1995-96</td>\n",
       "      <td>Christian Laettner</td>\n",
       "      <td>217</td>\n",
       "      <td>266</td>\n",
       "      <td>0.816</td>\n",
       "    </tr>\n",
       "    <tr>\n",
       "      <th>4</th>\n",
       "      <td>1995-96</td>\n",
       "      <td>Christian Laettner</td>\n",
       "      <td>107</td>\n",
       "      <td>130</td>\n",
       "      <td>0.823</td>\n",
       "    </tr>\n",
       "    <tr>\n",
       "      <th>5</th>\n",
       "      <td>1995-96</td>\n",
       "      <td>Christian Laettner</td>\n",
       "      <td>324</td>\n",
       "      <td>396</td>\n",
       "      <td>0.818</td>\n",
       "    </tr>\n",
       "    <tr>\n",
       "      <th>6</th>\n",
       "      <td>1996-97</td>\n",
       "      <td>Christian Laettner</td>\n",
       "      <td>359</td>\n",
       "      <td>440</td>\n",
       "      <td>0.816</td>\n",
       "    </tr>\n",
       "    <tr>\n",
       "      <th>7</th>\n",
       "      <td>1997-98</td>\n",
       "      <td>Christian Laettner</td>\n",
       "      <td>306</td>\n",
       "      <td>354</td>\n",
       "      <td>0.864</td>\n",
       "    </tr>\n",
       "    <tr>\n",
       "      <th>8</th>\n",
       "      <td>1998-99</td>\n",
       "      <td>Christian Laettner</td>\n",
       "      <td>44</td>\n",
       "      <td>57</td>\n",
       "      <td>0.772</td>\n",
       "    </tr>\n",
       "    <tr>\n",
       "      <th>9</th>\n",
       "      <td>1999-00</td>\n",
       "      <td>Christian Laettner</td>\n",
       "      <td>237</td>\n",
       "      <td>292</td>\n",
       "      <td>0.812</td>\n",
       "    </tr>\n",
       "    <tr>\n",
       "      <th>10</th>\n",
       "      <td>2000-01</td>\n",
       "      <td>Christian Laettner</td>\n",
       "      <td>67</td>\n",
       "      <td>82</td>\n",
       "      <td>0.817</td>\n",
       "    </tr>\n",
       "    <tr>\n",
       "      <th>11</th>\n",
       "      <td>2000-01</td>\n",
       "      <td>Christian Laettner</td>\n",
       "      <td>103</td>\n",
       "      <td>122</td>\n",
       "      <td>0.844</td>\n",
       "    </tr>\n",
       "    <tr>\n",
       "      <th>12</th>\n",
       "      <td>2000-01</td>\n",
       "      <td>Christian Laettner</td>\n",
       "      <td>170</td>\n",
       "      <td>204</td>\n",
       "      <td>0.833</td>\n",
       "    </tr>\n",
       "    <tr>\n",
       "      <th>13</th>\n",
       "      <td>2001-02</td>\n",
       "      <td>Christian Laettner</td>\n",
       "      <td>66</td>\n",
       "      <td>76</td>\n",
       "      <td>0.868</td>\n",
       "    </tr>\n",
       "    <tr>\n",
       "      <th>14</th>\n",
       "      <td>2002-03</td>\n",
       "      <td>Christian Laettner</td>\n",
       "      <td>120</td>\n",
       "      <td>144</td>\n",
       "      <td>0.833</td>\n",
       "    </tr>\n",
       "    <tr>\n",
       "      <th>15</th>\n",
       "      <td>2003-04</td>\n",
       "      <td>Christian Laettner</td>\n",
       "      <td>40</td>\n",
       "      <td>50</td>\n",
       "      <td>0.800</td>\n",
       "    </tr>\n",
       "    <tr>\n",
       "      <th>16</th>\n",
       "      <td>2004-05</td>\n",
       "      <td>Christian Laettner</td>\n",
       "      <td>45</td>\n",
       "      <td>59</td>\n",
       "      <td>0.763</td>\n",
       "    </tr>\n",
       "  </tbody>\n",
       "</table>\n",
       "</div>"
      ],
      "text/plain": [
       "   SEASON_ID                Name  FTM  FTA  FT_PCT\n",
       "0    1992-93  Christian Laettner  462  553   0.835\n",
       "1    1993-94  Christian Laettner  375  479   0.783\n",
       "2    1994-95  Christian Laettner  409  500   0.818\n",
       "3    1995-96  Christian Laettner  217  266   0.816\n",
       "4    1995-96  Christian Laettner  107  130   0.823\n",
       "5    1995-96  Christian Laettner  324  396   0.818\n",
       "6    1996-97  Christian Laettner  359  440   0.816\n",
       "7    1997-98  Christian Laettner  306  354   0.864\n",
       "8    1998-99  Christian Laettner   44   57   0.772\n",
       "9    1999-00  Christian Laettner  237  292   0.812\n",
       "10   2000-01  Christian Laettner   67   82   0.817\n",
       "11   2000-01  Christian Laettner  103  122   0.844\n",
       "12   2000-01  Christian Laettner  170  204   0.833\n",
       "13   2001-02  Christian Laettner   66   76   0.868\n",
       "14   2002-03  Christian Laettner  120  144   0.833\n",
       "15   2003-04  Christian Laettner   40   50   0.800\n",
       "16   2004-05  Christian Laettner   45   59   0.763"
      ]
     },
     "execution_count": 49,
     "metadata": {},
     "output_type": "execute_result"
    }
   ],
   "source": [
    "#get free throw information for drexler\n",
    "df_ft_drexler=df_all.loc[df_all['Name']=='Clyde Drexler', ['SEASON_ID','Name', 'FTM','FTA','FT_PCT']].reset_index(drop=True)\n",
    "df_ft_drexler\n",
    "#get free throw information for laettner\n",
    "df_ft_laettner=df_all.loc[df_all['Name']=='Christian Laettner', ['SEASON_ID','Name', 'FTM','FTA','FT_PCT']].reset_index(drop=True)\n",
    "df_ft_laettner\n"
   ]
  },
  {
   "cell_type": "code",
   "execution_count": 46,
   "id": "a94bfd00",
   "metadata": {},
   "outputs": [
    {
     "data": {
      "application/vnd.plotly.v1+json": {
       "config": {
        "plotlyServerURL": "https://plot.ly"
       },
       "data": [
        {
         "customdata": [
          [
           "1984-85"
          ],
          [
           "1985-86"
          ],
          [
           "1986-87"
          ],
          [
           "1987-88"
          ],
          [
           "1988-89"
          ],
          [
           "1989-90"
          ],
          [
           "1990-91"
          ],
          [
           "1991-92"
          ],
          [
           "1992-93"
          ],
          [
           "1993-94"
          ],
          [
           "1994-95"
          ],
          [
           "1995-96"
          ],
          [
           "1996-97"
          ],
          [
           "1997-98"
          ],
          [
           "1998-99"
          ],
          [
           "1999-00"
          ]
         ],
         "hovertemplate": "Name=Charles Barkley<br>Number of Field Goals Attempted=%{x}<br>Number of Field Goals Made=%{y}<br>SEASON_ID=%{customdata[0]}<extra></extra>",
         "legendgroup": "Charles Barkley",
         "marker": {
          "color": "#636efa",
          "symbol": "circle"
         },
         "mode": "markers",
         "name": "Charles Barkley",
         "orientation": "v",
         "showlegend": true,
         "type": "scatter",
         "x": {
          "bdata": "DwMRBKkDAwW4BJkEjwRmBGAFFgR1BIgEtALoAvYB3gA=",
          "dtype": "i2"
         },
         "xaxis": "x",
         "y": {
          "bdata": "qwFTAi0C8QK8AsICmQJuAswCBgIqAkQCTwFpAfAAagA=",
          "dtype": "i2"
         },
         "yaxis": "y"
        },
        {
         "customdata": [
          [
           "1979-80"
          ],
          [
           "1980-81"
          ],
          [
           "1981-82"
          ],
          [
           "1982-83"
          ],
          [
           "1983-84"
          ],
          [
           "1984-85"
          ],
          [
           "1985-86"
          ],
          [
           "1986-87"
          ],
          [
           "1987-88"
          ],
          [
           "1988-89"
          ],
          [
           "1989-90"
          ],
          [
           "1990-91"
          ],
          [
           "1991-92"
          ]
         ],
         "hovertemplate": "Name=Larry Bird<br>Number of Field Goals Attempted=%{x}<br>Number of Field Goals Made=%{y}<br>SEASON_ID=%{customdata[0]}<extra></extra>",
         "legendgroup": "Larry Bird",
         "marker": {
          "color": "#EF553B",
          "symbol": "circle"
         },
         "mode": "markers",
         "name": "Larry Bird",
         "orientation": "v",
         "showlegend": true,
         "type": "scatter",
         "x": {
          "bdata": "twXfBYYFyQUGBuAGRgbZBYgGaADtBfkD9gI=",
          "dtype": "i2"
         },
         "xaxis": "x",
         "y": {
          "bdata": "tQLPAscC6wL2ApYDHAMSA3EDMQDOAs4BYQE=",
          "dtype": "i2"
         },
         "yaxis": "y"
        },
        {
         "customdata": [
          [
           "1983-84"
          ],
          [
           "1984-85"
          ],
          [
           "1985-86"
          ],
          [
           "1986-87"
          ],
          [
           "1987-88"
          ],
          [
           "1988-89"
          ],
          [
           "1989-90"
          ],
          [
           "1990-91"
          ],
          [
           "1991-92"
          ],
          [
           "1992-93"
          ],
          [
           "1993-94"
          ],
          [
           "1994-95"
          ],
          [
           "1994-95"
          ],
          [
           "1994-95"
          ],
          [
           "1995-96"
          ],
          [
           "1996-97"
          ],
          [
           "1997-98"
          ]
         ],
         "hovertemplate": "Name=Clyde Drexler<br>Number of Field Goals Attempted=%{x}<br>Number of Field Goals Made=%{y}<br>SEASON_ID=%{customdata[0]}<extra></extra>",
         "legendgroup": "Clyde Drexler",
         "marker": {
          "color": "#00cc96",
          "symbol": "circle"
         },
         "mode": "markers",
         "name": "Clyde Drexler",
         "orientation": "v",
         "showlegend": true,
         "type": "scatter",
         "x": {
          "bdata": "LwKJBHYEgAWPBogGTQU6BcQFMANRBMgCDgLWBPwCgwMjBA==",
          "dtype": "i2"
         },
         "xaxis": "x",
         "y": {
          "bdata": "/AA9Ah4CwwJRAz0DngKFArYCXgHZATEBCgE7AksBjQHEAQ==",
          "dtype": "i2"
         },
         "yaxis": "y"
        },
        {
         "customdata": [
          [
           "1985-86"
          ],
          [
           "1986-87"
          ],
          [
           "1987-88"
          ],
          [
           "1988-89"
          ],
          [
           "1989-90"
          ],
          [
           "1990-91"
          ],
          [
           "1991-92"
          ],
          [
           "1992-93"
          ],
          [
           "1993-94"
          ],
          [
           "1994-95"
          ],
          [
           "1995-96"
          ],
          [
           "1996-97"
          ],
          [
           "1997-98"
          ],
          [
           "1998-99"
          ],
          [
           "1999-00"
          ],
          [
           "2000-01"
          ],
          [
           "2001-02"
          ]
         ],
         "hovertemplate": "Name=Patrick Ewing<br>Number of Field Goals Attempted=%{x}<br>Number of Field Goals Made=%{y}<br>SEASON_ID=%{customdata[0]}<extra></extra>",
         "legendgroup": "Patrick Ewing",
         "marker": {
          "color": "#ab63fa",
          "symbol": "circle"
         },
         "mode": "markers",
         "name": "Patrick Ewing",
         "orientation": "v",
         "showlegend": true,
         "type": "scatter",
         "x": {
          "bdata": "LgMdBJ8EAgWJBm0G9QUOBt8FrAWwBT4FkwE4AgcDrAJNAQ==",
          "dtype": "i2"
         },
         "xaxis": "x",
         "y": {
          "bdata": "ggESApAC1wKaA00DHAMLA+kC2gKmAo8CywD3AGkBJgGUAA==",
          "dtype": "i2"
         },
         "yaxis": "y"
        },
        {
         "customdata": [
          [
           "1979-80"
          ],
          [
           "1980-81"
          ],
          [
           "1981-82"
          ],
          [
           "1982-83"
          ],
          [
           "1983-84"
          ],
          [
           "1984-85"
          ],
          [
           "1985-86"
          ],
          [
           "1986-87"
          ],
          [
           "1987-88"
          ],
          [
           "1988-89"
          ],
          [
           "1989-90"
          ],
          [
           "1990-91"
          ],
          [
           "1995-96"
          ]
         ],
         "hovertemplate": "Name=Magic Johnson<br>Number of Field Goals Attempted=%{x}<br>Number of Field Goals Made=%{y}<br>SEASON_ID=%{customdata[0]}<extra></extra>",
         "legendgroup": "Magic Johnson",
         "marker": {
          "color": "#FFA15A",
          "symbol": "circle"
         },
         "mode": "markers",
         "name": "Magic Johnson",
         "orientation": "v",
         "showlegend": true,
         "type": "scatter",
         "x": {
          "bdata": "tQNLAgwEpQMMA4MDlgMcBeQDcQRyBNADJgE=",
          "dtype": "i2"
         },
         "xaxis": "x",
         "y": {
          "bdata": "9wE4ASwC/wG5AfgB4wGrAuoBQwIiAtIBiQA=",
          "dtype": "i2"
         },
         "yaxis": "y"
        },
        {
         "customdata": [
          [
           "1984-85"
          ],
          [
           "1985-86"
          ],
          [
           "1986-87"
          ],
          [
           "1987-88"
          ],
          [
           "1988-89"
          ],
          [
           "1989-90"
          ],
          [
           "1990-91"
          ],
          [
           "1991-92"
          ],
          [
           "1992-93"
          ],
          [
           "1994-95"
          ],
          [
           "1995-96"
          ],
          [
           "1996-97"
          ],
          [
           "1997-98"
          ],
          [
           "2001-02"
          ],
          [
           "2002-03"
          ]
         ],
         "hovertemplate": "Name=Michael Jordan<br>Number of Field Goals Attempted=%{x}<br>Number of Field Goals Made=%{y}<br>SEASON_ID=%{customdata[0]}<extra></extra>",
         "legendgroup": "Michael Jordan",
         "marker": {
          "color": "#19d3f3",
          "symbol": "circle"
         },
         "mode": "markers",
         "name": "Michael Jordan",
         "orientation": "v",
         "showlegend": true,
         "type": "scatter",
         "x": {
          "bdata": "WQZIAecIzgcDB6wHLQcaB9MHlAE6B2QHZQcsBfcF",
          "dtype": "i2"
         },
         "xaxis": "x",
         "y": {
          "bdata": "RQOWAEoELQTGAwoE3gOvA+ADpgCUA5gDcQMnAqcC",
          "dtype": "i2"
         },
         "yaxis": "y"
        },
        {
         "customdata": [
          [
           "1992-93"
          ],
          [
           "1993-94"
          ],
          [
           "1994-95"
          ],
          [
           "1995-96"
          ],
          [
           "1995-96"
          ],
          [
           "1995-96"
          ],
          [
           "1996-97"
          ],
          [
           "1997-98"
          ],
          [
           "1998-99"
          ],
          [
           "1999-00"
          ],
          [
           "2000-01"
          ],
          [
           "2000-01"
          ],
          [
           "2000-01"
          ],
          [
           "2001-02"
          ],
          [
           "2002-03"
          ],
          [
           "2003-04"
          ],
          [
           "2004-05"
          ]
         ],
         "hovertemplate": "Name=Christian Laettner<br>Number of Field Goals Attempted=%{x}<br>Number of Field Goals Made=%{y}<br>SEASON_ID=%{customdata[0]}<extra></extra>",
         "legendgroup": "Christian Laettner",
         "marker": {
          "color": "#FF6692",
          "symbol": "circle"
         },
         "mode": "markers",
         "name": "Christian Laettner",
         "orientation": "v",
         "showlegend": true,
         "type": "scatter",
         "x": {
          "bdata": "JQRzA5gDRgJFAYsDaATaAmoAIQNDAeQAJwJqAQQCAAG4AA==",
          "dtype": "i2"
         },
         "xaxis": "x",
         "y": {
          "bdata": "9wGMAcIBGwGfALoBJAJiASYAewGlAHAAFQGoAP8AdwBrAA==",
          "dtype": "i2"
         },
         "yaxis": "y"
        },
        {
         "customdata": [
          [
           "1985-86"
          ],
          [
           "1986-87"
          ],
          [
           "1987-88"
          ],
          [
           "1988-89"
          ],
          [
           "1989-90"
          ],
          [
           "1990-91"
          ],
          [
           "1991-92"
          ],
          [
           "1992-93"
          ],
          [
           "1993-94"
          ],
          [
           "1994-95"
          ],
          [
           "1995-96"
          ],
          [
           "1996-97"
          ],
          [
           "1997-98"
          ],
          [
           "1998-99"
          ],
          [
           "1999-00"
          ],
          [
           "2000-01"
          ],
          [
           "2001-02"
          ],
          [
           "2002-03"
          ],
          [
           "2003-04"
          ]
         ],
         "hovertemplate": "Name=Karl Malone<br>Number of Field Goals Attempted=%{x}<br>Number of Field Goals Made=%{y}<br>SEASON_ID=%{customdata[0]}<extra></extra>",
         "legendgroup": "Karl Malone",
         "marker": {
          "color": "#B6E880",
          "symbol": "circle"
         },
         "mode": "markers",
         "name": "Karl Malone",
         "orientation": "v",
         "showlegend": true,
         "type": "scatter",
         "x": {
          "bdata": "+AOOBXIGFwZbBkgG7AWjBRAGDAbwBSMGwAUdA8QFQQV3BQkFkAE=",
          "dtype": "i2"
         },
         "xaxis": "x",
         "y": {
          "bdata": "+AHYAloDKQOSA08DHgMdAwQDPgMVA2ADDAOJAfACngJ7AlMCwQA=",
          "dtype": "i2"
         },
         "yaxis": "y"
        },
        {
         "customdata": [
          [
           "1985-86"
          ],
          [
           "1986-87"
          ],
          [
           "1987-88"
          ],
          [
           "1988-89"
          ],
          [
           "1989-90"
          ],
          [
           "1990-91"
          ],
          [
           "1991-92"
          ],
          [
           "1992-93"
          ],
          [
           "1993-94"
          ],
          [
           "1994-95"
          ],
          [
           "1995-96"
          ],
          [
           "1996-97"
          ],
          [
           "1997-98"
          ],
          [
           "1998-99"
          ],
          [
           "1999-00"
          ],
          [
           "2000-01"
          ]
         ],
         "hovertemplate": "Name=Chris Mullin<br>Number of Field Goals Attempted=%{x}<br>Number of Field Goals Made=%{y}<br>SEASON_ID=%{customdata[0]}<extra></extra>",
         "legendgroup": "Chris Mullin",
         "marker": {
          "color": "#FF97FF",
          "symbol": "circle"
         },
         "mode": "markers",
         "name": "Chris Mullin",
         "orientation": "v",
         "showlegend": true,
         "type": "scatter",
         "x": {
          "bdata": "bAKgA54DXgb4BKkFMAaiA2UDXAEbAhgDtAJzAbsAagA=",
          "dtype": "i2"
         },
         "xaxis": "x",
         "y": {
          "bdata": "HwHdAdYBPgOqAgkDPgPaAZoBqgANAbYBTQGxAFAAJAA=",
          "dtype": "i2"
         },
         "yaxis": "y"
        },
        {
         "customdata": [
          [
           "1987-88"
          ],
          [
           "1988-89"
          ],
          [
           "1989-90"
          ],
          [
           "1990-91"
          ],
          [
           "1991-92"
          ],
          [
           "1992-93"
          ],
          [
           "1993-94"
          ],
          [
           "1994-95"
          ],
          [
           "1995-96"
          ],
          [
           "1996-97"
          ],
          [
           "1997-98"
          ],
          [
           "1998-99"
          ],
          [
           "1999-00"
          ],
          [
           "2000-01"
          ],
          [
           "2001-02"
          ],
          [
           "2002-03"
          ],
          [
           "2003-04"
          ]
         ],
         "hovertemplate": "Name=Scottie Pippen<br>Number of Field Goals Attempted=%{x}<br>Number of Field Goals Made=%{y}<br>SEASON_ID=%{customdata[0]}<extra></extra>",
         "legendgroup": "Scottie Pippen",
         "marker": {
          "color": "#FECB52",
          "symbol": "circle"
         },
         "mode": "markers",
         "name": "Scottie Pippen",
         "orientation": "v",
         "showlegend": true,
         "type": "scatter",
         "x": {
          "bdata": "NAJjA34EgQRPBS8F/gQoBcAEVgXAAlwCXANUAlcCVQKMAA==",
          "dtype": "i2"
         },
         "xaxis": "x",
         "y": {
          "bdata": "BQGdATICWAKvAnQCcwJ6AjMCiAI7AQUBhAENAfYACQE1AA==",
          "dtype": "i2"
         },
         "yaxis": "y"
        },
        {
         "customdata": [
          [
           "1989-90"
          ],
          [
           "1990-91"
          ],
          [
           "1991-92"
          ],
          [
           "1992-93"
          ],
          [
           "1993-94"
          ],
          [
           "1994-95"
          ],
          [
           "1995-96"
          ],
          [
           "1996-97"
          ],
          [
           "1997-98"
          ],
          [
           "1998-99"
          ],
          [
           "1999-00"
          ],
          [
           "2000-01"
          ],
          [
           "2001-02"
          ],
          [
           "2002-03"
          ]
         ],
         "hovertemplate": "Name=David Robinson<br>Number of Field Goals Attempted=%{x}<br>Number of Field Goals Made=%{y}<br>SEASON_ID=%{customdata[0]}<extra></extra>",
         "legendgroup": "David Robinson",
         "marker": {
          "color": "#636efa",
          "symbol": "circle"
         },
         "mode": "markers",
         "name": "David Robinson",
         "orientation": "v",
         "showlegend": true,
         "type": "scatter",
         "x": {
          "bdata": "FAVWBTIERAV6Bs8FYgVIACkEDwIHBDcDoAKkAQ==",
          "dtype": "i2"
         },
         "xaxis": "x",
         "y": {
          "bdata": "sgLyAlACpAJIAxQDxwIkACACDAEQApABVQHFAA==",
          "dtype": "i2"
         },
         "yaxis": "y"
        },
        {
         "customdata": [
          [
           "1984-85"
          ],
          [
           "1985-86"
          ],
          [
           "1986-87"
          ],
          [
           "1987-88"
          ],
          [
           "1988-89"
          ],
          [
           "1989-90"
          ],
          [
           "1990-91"
          ],
          [
           "1991-92"
          ],
          [
           "1992-93"
          ],
          [
           "1993-94"
          ],
          [
           "1994-95"
          ],
          [
           "1995-96"
          ],
          [
           "1996-97"
          ],
          [
           "1997-98"
          ],
          [
           "1998-99"
          ],
          [
           "1999-00"
          ],
          [
           "2000-01"
          ],
          [
           "2001-02"
          ],
          [
           "2002-03"
          ]
         ],
         "hovertemplate": "Name=John Stockton<br>Number of Field Goals Attempted=%{x}<br>Number of Field Goals Made=%{y}<br>SEASON_ID=%{customdata[0]}<extra></extra>",
         "legendgroup": "John Stockton",
         "marker": {
          "color": "#EF553B",
          "symbol": "circle"
         },
         "mode": "markers",
         "name": "John Stockton",
         "orientation": "v",
         "showlegend": true,
         "type": "scatter",
         "x": {
          "bdata": "TQHSAc8BFwObA5YD0gOrA4MDZAMXAzID9wL/AZoB1QKLAgcDgAI=",
          "dtype": "i2"
         },
         "xaxis": "x",
         "y": {
          "bdata": "nQDkAOcAxgHxAdgB8AHFAbUBygGtAbgBoAEOAcgAawFIAZEBNQE=",
          "dtype": "i2"
         },
         "yaxis": "y"
        }
       ],
       "layout": {
        "height": 600,
        "legend": {
         "title": {
          "text": "Name"
         },
         "tracegroupgap": 0
        },
        "plot_bgcolor": "navy",
        "template": {
         "data": {
          "bar": [
           {
            "error_x": {
             "color": "#2a3f5f"
            },
            "error_y": {
             "color": "#2a3f5f"
            },
            "marker": {
             "line": {
              "color": "#E5ECF6",
              "width": 0.5
             },
             "pattern": {
              "fillmode": "overlay",
              "size": 10,
              "solidity": 0.2
             }
            },
            "type": "bar"
           }
          ],
          "barpolar": [
           {
            "marker": {
             "line": {
              "color": "#E5ECF6",
              "width": 0.5
             },
             "pattern": {
              "fillmode": "overlay",
              "size": 10,
              "solidity": 0.2
             }
            },
            "type": "barpolar"
           }
          ],
          "carpet": [
           {
            "aaxis": {
             "endlinecolor": "#2a3f5f",
             "gridcolor": "white",
             "linecolor": "white",
             "minorgridcolor": "white",
             "startlinecolor": "#2a3f5f"
            },
            "baxis": {
             "endlinecolor": "#2a3f5f",
             "gridcolor": "white",
             "linecolor": "white",
             "minorgridcolor": "white",
             "startlinecolor": "#2a3f5f"
            },
            "type": "carpet"
           }
          ],
          "choropleth": [
           {
            "colorbar": {
             "outlinewidth": 0,
             "ticks": ""
            },
            "type": "choropleth"
           }
          ],
          "contour": [
           {
            "colorbar": {
             "outlinewidth": 0,
             "ticks": ""
            },
            "colorscale": [
             [
              0,
              "#0d0887"
             ],
             [
              0.1111111111111111,
              "#46039f"
             ],
             [
              0.2222222222222222,
              "#7201a8"
             ],
             [
              0.3333333333333333,
              "#9c179e"
             ],
             [
              0.4444444444444444,
              "#bd3786"
             ],
             [
              0.5555555555555556,
              "#d8576b"
             ],
             [
              0.6666666666666666,
              "#ed7953"
             ],
             [
              0.7777777777777778,
              "#fb9f3a"
             ],
             [
              0.8888888888888888,
              "#fdca26"
             ],
             [
              1,
              "#f0f921"
             ]
            ],
            "type": "contour"
           }
          ],
          "contourcarpet": [
           {
            "colorbar": {
             "outlinewidth": 0,
             "ticks": ""
            },
            "type": "contourcarpet"
           }
          ],
          "heatmap": [
           {
            "colorbar": {
             "outlinewidth": 0,
             "ticks": ""
            },
            "colorscale": [
             [
              0,
              "#0d0887"
             ],
             [
              0.1111111111111111,
              "#46039f"
             ],
             [
              0.2222222222222222,
              "#7201a8"
             ],
             [
              0.3333333333333333,
              "#9c179e"
             ],
             [
              0.4444444444444444,
              "#bd3786"
             ],
             [
              0.5555555555555556,
              "#d8576b"
             ],
             [
              0.6666666666666666,
              "#ed7953"
             ],
             [
              0.7777777777777778,
              "#fb9f3a"
             ],
             [
              0.8888888888888888,
              "#fdca26"
             ],
             [
              1,
              "#f0f921"
             ]
            ],
            "type": "heatmap"
           }
          ],
          "histogram": [
           {
            "marker": {
             "pattern": {
              "fillmode": "overlay",
              "size": 10,
              "solidity": 0.2
             }
            },
            "type": "histogram"
           }
          ],
          "histogram2d": [
           {
            "colorbar": {
             "outlinewidth": 0,
             "ticks": ""
            },
            "colorscale": [
             [
              0,
              "#0d0887"
             ],
             [
              0.1111111111111111,
              "#46039f"
             ],
             [
              0.2222222222222222,
              "#7201a8"
             ],
             [
              0.3333333333333333,
              "#9c179e"
             ],
             [
              0.4444444444444444,
              "#bd3786"
             ],
             [
              0.5555555555555556,
              "#d8576b"
             ],
             [
              0.6666666666666666,
              "#ed7953"
             ],
             [
              0.7777777777777778,
              "#fb9f3a"
             ],
             [
              0.8888888888888888,
              "#fdca26"
             ],
             [
              1,
              "#f0f921"
             ]
            ],
            "type": "histogram2d"
           }
          ],
          "histogram2dcontour": [
           {
            "colorbar": {
             "outlinewidth": 0,
             "ticks": ""
            },
            "colorscale": [
             [
              0,
              "#0d0887"
             ],
             [
              0.1111111111111111,
              "#46039f"
             ],
             [
              0.2222222222222222,
              "#7201a8"
             ],
             [
              0.3333333333333333,
              "#9c179e"
             ],
             [
              0.4444444444444444,
              "#bd3786"
             ],
             [
              0.5555555555555556,
              "#d8576b"
             ],
             [
              0.6666666666666666,
              "#ed7953"
             ],
             [
              0.7777777777777778,
              "#fb9f3a"
             ],
             [
              0.8888888888888888,
              "#fdca26"
             ],
             [
              1,
              "#f0f921"
             ]
            ],
            "type": "histogram2dcontour"
           }
          ],
          "mesh3d": [
           {
            "colorbar": {
             "outlinewidth": 0,
             "ticks": ""
            },
            "type": "mesh3d"
           }
          ],
          "parcoords": [
           {
            "line": {
             "colorbar": {
              "outlinewidth": 0,
              "ticks": ""
             }
            },
            "type": "parcoords"
           }
          ],
          "pie": [
           {
            "automargin": true,
            "type": "pie"
           }
          ],
          "scatter": [
           {
            "fillpattern": {
             "fillmode": "overlay",
             "size": 10,
             "solidity": 0.2
            },
            "type": "scatter"
           }
          ],
          "scatter3d": [
           {
            "line": {
             "colorbar": {
              "outlinewidth": 0,
              "ticks": ""
             }
            },
            "marker": {
             "colorbar": {
              "outlinewidth": 0,
              "ticks": ""
             }
            },
            "type": "scatter3d"
           }
          ],
          "scattercarpet": [
           {
            "marker": {
             "colorbar": {
              "outlinewidth": 0,
              "ticks": ""
             }
            },
            "type": "scattercarpet"
           }
          ],
          "scattergeo": [
           {
            "marker": {
             "colorbar": {
              "outlinewidth": 0,
              "ticks": ""
             }
            },
            "type": "scattergeo"
           }
          ],
          "scattergl": [
           {
            "marker": {
             "colorbar": {
              "outlinewidth": 0,
              "ticks": ""
             }
            },
            "type": "scattergl"
           }
          ],
          "scattermap": [
           {
            "marker": {
             "colorbar": {
              "outlinewidth": 0,
              "ticks": ""
             }
            },
            "type": "scattermap"
           }
          ],
          "scattermapbox": [
           {
            "marker": {
             "colorbar": {
              "outlinewidth": 0,
              "ticks": ""
             }
            },
            "type": "scattermapbox"
           }
          ],
          "scatterpolar": [
           {
            "marker": {
             "colorbar": {
              "outlinewidth": 0,
              "ticks": ""
             }
            },
            "type": "scatterpolar"
           }
          ],
          "scatterpolargl": [
           {
            "marker": {
             "colorbar": {
              "outlinewidth": 0,
              "ticks": ""
             }
            },
            "type": "scatterpolargl"
           }
          ],
          "scatterternary": [
           {
            "marker": {
             "colorbar": {
              "outlinewidth": 0,
              "ticks": ""
             }
            },
            "type": "scatterternary"
           }
          ],
          "surface": [
           {
            "colorbar": {
             "outlinewidth": 0,
             "ticks": ""
            },
            "colorscale": [
             [
              0,
              "#0d0887"
             ],
             [
              0.1111111111111111,
              "#46039f"
             ],
             [
              0.2222222222222222,
              "#7201a8"
             ],
             [
              0.3333333333333333,
              "#9c179e"
             ],
             [
              0.4444444444444444,
              "#bd3786"
             ],
             [
              0.5555555555555556,
              "#d8576b"
             ],
             [
              0.6666666666666666,
              "#ed7953"
             ],
             [
              0.7777777777777778,
              "#fb9f3a"
             ],
             [
              0.8888888888888888,
              "#fdca26"
             ],
             [
              1,
              "#f0f921"
             ]
            ],
            "type": "surface"
           }
          ],
          "table": [
           {
            "cells": {
             "fill": {
              "color": "#EBF0F8"
             },
             "line": {
              "color": "white"
             }
            },
            "header": {
             "fill": {
              "color": "#C8D4E3"
             },
             "line": {
              "color": "white"
             }
            },
            "type": "table"
           }
          ]
         },
         "layout": {
          "annotationdefaults": {
           "arrowcolor": "#2a3f5f",
           "arrowhead": 0,
           "arrowwidth": 1
          },
          "autotypenumbers": "strict",
          "coloraxis": {
           "colorbar": {
            "outlinewidth": 0,
            "ticks": ""
           }
          },
          "colorscale": {
           "diverging": [
            [
             0,
             "#8e0152"
            ],
            [
             0.1,
             "#c51b7d"
            ],
            [
             0.2,
             "#de77ae"
            ],
            [
             0.3,
             "#f1b6da"
            ],
            [
             0.4,
             "#fde0ef"
            ],
            [
             0.5,
             "#f7f7f7"
            ],
            [
             0.6,
             "#e6f5d0"
            ],
            [
             0.7,
             "#b8e186"
            ],
            [
             0.8,
             "#7fbc41"
            ],
            [
             0.9,
             "#4d9221"
            ],
            [
             1,
             "#276419"
            ]
           ],
           "sequential": [
            [
             0,
             "#0d0887"
            ],
            [
             0.1111111111111111,
             "#46039f"
            ],
            [
             0.2222222222222222,
             "#7201a8"
            ],
            [
             0.3333333333333333,
             "#9c179e"
            ],
            [
             0.4444444444444444,
             "#bd3786"
            ],
            [
             0.5555555555555556,
             "#d8576b"
            ],
            [
             0.6666666666666666,
             "#ed7953"
            ],
            [
             0.7777777777777778,
             "#fb9f3a"
            ],
            [
             0.8888888888888888,
             "#fdca26"
            ],
            [
             1,
             "#f0f921"
            ]
           ],
           "sequentialminus": [
            [
             0,
             "#0d0887"
            ],
            [
             0.1111111111111111,
             "#46039f"
            ],
            [
             0.2222222222222222,
             "#7201a8"
            ],
            [
             0.3333333333333333,
             "#9c179e"
            ],
            [
             0.4444444444444444,
             "#bd3786"
            ],
            [
             0.5555555555555556,
             "#d8576b"
            ],
            [
             0.6666666666666666,
             "#ed7953"
            ],
            [
             0.7777777777777778,
             "#fb9f3a"
            ],
            [
             0.8888888888888888,
             "#fdca26"
            ],
            [
             1,
             "#f0f921"
            ]
           ]
          },
          "colorway": [
           "#636efa",
           "#EF553B",
           "#00cc96",
           "#ab63fa",
           "#FFA15A",
           "#19d3f3",
           "#FF6692",
           "#B6E880",
           "#FF97FF",
           "#FECB52"
          ],
          "font": {
           "color": "#2a3f5f"
          },
          "geo": {
           "bgcolor": "white",
           "lakecolor": "white",
           "landcolor": "#E5ECF6",
           "showlakes": true,
           "showland": true,
           "subunitcolor": "white"
          },
          "hoverlabel": {
           "align": "left"
          },
          "hovermode": "closest",
          "mapbox": {
           "style": "light"
          },
          "paper_bgcolor": "white",
          "plot_bgcolor": "#E5ECF6",
          "polar": {
           "angularaxis": {
            "gridcolor": "white",
            "linecolor": "white",
            "ticks": ""
           },
           "bgcolor": "#E5ECF6",
           "radialaxis": {
            "gridcolor": "white",
            "linecolor": "white",
            "ticks": ""
           }
          },
          "scene": {
           "xaxis": {
            "backgroundcolor": "#E5ECF6",
            "gridcolor": "white",
            "gridwidth": 2,
            "linecolor": "white",
            "showbackground": true,
            "ticks": "",
            "zerolinecolor": "white"
           },
           "yaxis": {
            "backgroundcolor": "#E5ECF6",
            "gridcolor": "white",
            "gridwidth": 2,
            "linecolor": "white",
            "showbackground": true,
            "ticks": "",
            "zerolinecolor": "white"
           },
           "zaxis": {
            "backgroundcolor": "#E5ECF6",
            "gridcolor": "white",
            "gridwidth": 2,
            "linecolor": "white",
            "showbackground": true,
            "ticks": "",
            "zerolinecolor": "white"
           }
          },
          "shapedefaults": {
           "line": {
            "color": "#2a3f5f"
           }
          },
          "ternary": {
           "aaxis": {
            "gridcolor": "white",
            "linecolor": "white",
            "ticks": ""
           },
           "baxis": {
            "gridcolor": "white",
            "linecolor": "white",
            "ticks": ""
           },
           "bgcolor": "#E5ECF6",
           "caxis": {
            "gridcolor": "white",
            "linecolor": "white",
            "ticks": ""
           }
          },
          "title": {
           "x": 0.05
          },
          "xaxis": {
           "automargin": true,
           "gridcolor": "white",
           "linecolor": "white",
           "ticks": "",
           "title": {
            "standoff": 15
           },
           "zerolinecolor": "white",
           "zerolinewidth": 2
          },
          "yaxis": {
           "automargin": true,
           "gridcolor": "white",
           "linecolor": "white",
           "ticks": "",
           "title": {
            "standoff": 15
           },
           "zerolinecolor": "white",
           "zerolinewidth": 2
          }
         }
        },
        "title": {
         "text": "Field Goals Made by Field Goals Attempted for Each Season, by player"
        },
        "width": 1000,
        "xaxis": {
         "anchor": "y",
         "domain": [
          0,
          1
         ],
         "tickformat": ",",
         "title": {
          "text": "Number of Field Goals Attempted"
         }
        },
        "yaxis": {
         "anchor": "x",
         "domain": [
          0,
          1
         ],
         "tickformat": ",",
         "title": {
          "text": "Number of Field Goals Made"
         }
        }
       }
      }
     },
     "metadata": {},
     "output_type": "display_data"
    }
   ],
   "source": [
    "#scatter plot showing number of field goals made by the number of field goals attempted\n",
    "fig=px.scatter(df_all, x='FGA', y='FGM', color='Name', \n",
    "               title='Field Goals Made by Field Goals Attempted for Each Season, by player', hover_data=[\"SEASON_ID\"],\n",
    "               width=1000, height=600,\n",
    "               labels={\"FGA\": \"Number of Field Goals Attempted\", \"FGM\": \"Number of Field Goals Made\"}).update_layout(xaxis=dict(tickformat=\",\"),\n",
    "                                                                                                                      yaxis=dict(tickformat=\",\")).update_layout(\n",
    "        plot_bgcolor='navy') \n",
    "fig.show()"
   ]
  },
  {
   "cell_type": "code",
   "execution_count": 47,
   "id": "d340116e",
   "metadata": {},
   "outputs": [
    {
     "data": {
      "application/vnd.plotly.v1+json": {
       "config": {
        "plotlyServerURL": "https://plot.ly"
       },
       "data": [
        {
         "customdata": [
          [
           "1984-85"
          ],
          [
           "1985-86"
          ],
          [
           "1986-87"
          ],
          [
           "1987-88"
          ],
          [
           "1988-89"
          ],
          [
           "1989-90"
          ],
          [
           "1990-91"
          ],
          [
           "1991-92"
          ],
          [
           "1992-93"
          ],
          [
           "1993-94"
          ],
          [
           "1994-95"
          ],
          [
           "1995-96"
          ],
          [
           "1996-97"
          ],
          [
           "1997-98"
          ],
          [
           "1998-99"
          ],
          [
           "1999-00"
          ]
         ],
         "hovertemplate": "Name=Charles Barkley<br>Number of 3-Pointers Attempted=%{x}<br>Number of 3-Pointers Made=%{y}<br>SEASON_ID=%{customdata[0]}<extra></extra>",
         "legendgroup": "Charles Barkley",
         "marker": {
          "color": "#636efa",
          "symbol": "circle"
         },
         "mode": "markers",
         "name": "Charles Barkley",
         "orientation": "v",
         "showlegend": true,
         "type": "scatter",
         "x": {
          "bdata": "BgBLAGgAnQCiAFwAmwCJANwAsgDbAK8AzQBUABkAGgA=",
          "dtype": "i2"
         },
         "xaxis": "x",
         "y": {
          "bdata": "AREVLCMULCBDMEoxOhIEBg==",
          "dtype": "i1"
         },
         "yaxis": "y"
        },
        {
         "customdata": [
          [
           "1979-80"
          ],
          [
           "1980-81"
          ],
          [
           "1981-82"
          ],
          [
           "1982-83"
          ],
          [
           "1983-84"
          ],
          [
           "1984-85"
          ],
          [
           "1985-86"
          ],
          [
           "1986-87"
          ],
          [
           "1987-88"
          ],
          [
           "1988-89"
          ],
          [
           "1989-90"
          ],
          [
           "1990-91"
          ],
          [
           "1991-92"
          ]
         ],
         "hovertemplate": "Name=Larry Bird<br>Number of 3-Pointers Attempted=%{x}<br>Number of 3-Pointers Made=%{y}<br>SEASON_ID=%{customdata[0]}<extra></extra>",
         "legendgroup": "Larry Bird",
         "marker": {
          "color": "#EF553B",
          "symbol": "circle"
         },
         "mode": "markers",
         "name": "Larry Bird",
         "orientation": "v",
         "showlegend": true,
         "type": "scatter",
         "x": {
          "bdata": "jwBKADQATQBJAIMAwgDhAO0AAADDAMYAgAA=",
          "dtype": "i2"
         },
         "xaxis": "x",
         "y": {
          "bdata": "OhQLFhI4UlpiAEFNNA==",
          "dtype": "i1"
         },
         "yaxis": "y"
        },
        {
         "customdata": [
          [
           "1983-84"
          ],
          [
           "1984-85"
          ],
          [
           "1985-86"
          ],
          [
           "1986-87"
          ],
          [
           "1987-88"
          ],
          [
           "1988-89"
          ],
          [
           "1989-90"
          ],
          [
           "1990-91"
          ],
          [
           "1991-92"
          ],
          [
           "1992-93"
          ],
          [
           "1993-94"
          ],
          [
           "1994-95"
          ],
          [
           "1994-95"
          ],
          [
           "1994-95"
          ],
          [
           "1995-96"
          ],
          [
           "1996-97"
          ],
          [
           "1997-98"
          ]
         ],
         "hovertemplate": "Name=Clyde Drexler<br>Number of 3-Pointers Attempted=%{x}<br>Number of 3-Pointers Made=%{y}<br>SEASON_ID=%{customdata[0]}<extra></extra>",
         "legendgroup": "Clyde Drexler",
         "marker": {
          "color": "#00cc96",
          "symbol": "circle"
         },
         "mode": "markers",
         "name": "Clyde Drexler",
         "orientation": "v",
         "showlegend": true,
         "type": "scatter",
         "x": {
          "bdata": "BAAlADwALwA0AGgAagC/AFIBhQDbAPAAqACYAesATwFOAQ==",
          "dtype": "i2"
         },
         "xaxis": "x",
         "y": {
          "bdata": "AQAIAAwACwALABsAHgA9AHIAHwBHAFcAPACTAE4AdwBqAA==",
          "dtype": "i2"
         },
         "yaxis": "y"
        },
        {
         "customdata": [
          [
           "1985-86"
          ],
          [
           "1986-87"
          ],
          [
           "1987-88"
          ],
          [
           "1988-89"
          ],
          [
           "1989-90"
          ],
          [
           "1990-91"
          ],
          [
           "1991-92"
          ],
          [
           "1992-93"
          ],
          [
           "1993-94"
          ],
          [
           "1994-95"
          ],
          [
           "1995-96"
          ],
          [
           "1996-97"
          ],
          [
           "1997-98"
          ],
          [
           "1998-99"
          ],
          [
           "1999-00"
          ],
          [
           "2000-01"
          ],
          [
           "2001-02"
          ]
         ],
         "hovertemplate": "Name=Patrick Ewing<br>Number of 3-Pointers Attempted=%{x}<br>Number of 3-Pointers Made=%{y}<br>SEASON_ID=%{customdata[0]}<extra></extra>",
         "legendgroup": "Patrick Ewing",
         "marker": {
          "color": "#ab63fa",
          "symbol": "circle"
         },
         "mode": "markers",
         "name": "Patrick Ewing",
         "orientation": "v",
         "showlegend": true,
         "type": "scatter",
         "x": {
          "bdata": "BQcDBgQGBgcOFRwJAgICAgE=",
          "dtype": "i1"
         },
         "xaxis": "x",
         "y": {
          "bdata": "AAAAAAEAAQEEBgQCAAAAAAA=",
          "dtype": "i1"
         },
         "yaxis": "y"
        },
        {
         "customdata": [
          [
           "1979-80"
          ],
          [
           "1980-81"
          ],
          [
           "1981-82"
          ],
          [
           "1982-83"
          ],
          [
           "1983-84"
          ],
          [
           "1984-85"
          ],
          [
           "1985-86"
          ],
          [
           "1986-87"
          ],
          [
           "1987-88"
          ],
          [
           "1988-89"
          ],
          [
           "1989-90"
          ],
          [
           "1990-91"
          ],
          [
           "1995-96"
          ]
         ],
         "hovertemplate": "Name=Magic Johnson<br>Number of 3-Pointers Attempted=%{x}<br>Number of 3-Pointers Made=%{y}<br>SEASON_ID=%{customdata[0]}<extra></extra>",
         "legendgroup": "Magic Johnson",
         "marker": {
          "color": "#FFA15A",
          "symbol": "circle"
         },
         "mode": "markers",
         "name": "Magic Johnson",
         "orientation": "v",
         "showlegend": true,
         "type": "scatter",
         "x": {
          "bdata": "HwARAB0AFQAdACUAKwAnADgAvAAUAfoAOgA=",
          "dtype": "i2"
         },
         "xaxis": "x",
         "y": {
          "bdata": "BwMGAAYHCggLO2pQFg==",
          "dtype": "i1"
         },
         "yaxis": "y"
        },
        {
         "customdata": [
          [
           "1984-85"
          ],
          [
           "1985-86"
          ],
          [
           "1986-87"
          ],
          [
           "1987-88"
          ],
          [
           "1988-89"
          ],
          [
           "1989-90"
          ],
          [
           "1990-91"
          ],
          [
           "1991-92"
          ],
          [
           "1992-93"
          ],
          [
           "1994-95"
          ],
          [
           "1995-96"
          ],
          [
           "1996-97"
          ],
          [
           "1997-98"
          ],
          [
           "2001-02"
          ],
          [
           "2002-03"
          ]
         ],
         "hovertemplate": "Name=Michael Jordan<br>Number of 3-Pointers Attempted=%{x}<br>Number of 3-Pointers Made=%{y}<br>SEASON_ID=%{customdata[0]}<extra></extra>",
         "legendgroup": "Michael Jordan",
         "marker": {
          "color": "#19d3f3",
          "symbol": "circle"
         },
         "mode": "markers",
         "name": "Michael Jordan",
         "orientation": "v",
         "showlegend": true,
         "type": "scatter",
         "x": {
          "bdata": "NAASAEIANQBiAPUAXQBkAOYAIAAEASkBfgA1ADcA",
          "dtype": "i2"
         },
         "xaxis": "x",
         "y": {
          "bdata": "CQMMBxtcHRtREG9vHgoQ",
          "dtype": "i1"
         },
         "yaxis": "y"
        },
        {
         "customdata": [
          [
           "1992-93"
          ],
          [
           "1993-94"
          ],
          [
           "1994-95"
          ],
          [
           "1995-96"
          ],
          [
           "1995-96"
          ],
          [
           "1995-96"
          ],
          [
           "1996-97"
          ],
          [
           "1997-98"
          ],
          [
           "1998-99"
          ],
          [
           "1999-00"
          ],
          [
           "2000-01"
          ],
          [
           "2000-01"
          ],
          [
           "2000-01"
          ],
          [
           "2001-02"
          ],
          [
           "2002-03"
          ],
          [
           "2003-04"
          ],
          [
           "2004-05"
          ]
         ],
         "hovertemplate": "Name=Christian Laettner<br>Number of 3-Pointers Attempted=%{x}<br>Number of 3-Pointers Made=%{y}<br>SEASON_ID=%{customdata[0]}<extra></extra>",
         "legendgroup": "Christian Laettner",
         "marker": {
          "color": "#FF6692",
          "symbol": "circle"
         },
         "mode": "markers",
         "name": "Christian Laettner",
         "orientation": "v",
         "showlegend": true,
         "type": "scatter",
         "x": {
          "bdata": "KBkoHwgnWBsDGAMKDQoQFQc=",
          "dtype": "i1"
         },
         "xaxis": "x",
         "y": {
          "bdata": "BAYNCQAJHwYBBwEDBAICBgE=",
          "dtype": "i1"
         },
         "yaxis": "y"
        },
        {
         "customdata": [
          [
           "1985-86"
          ],
          [
           "1986-87"
          ],
          [
           "1987-88"
          ],
          [
           "1988-89"
          ],
          [
           "1989-90"
          ],
          [
           "1990-91"
          ],
          [
           "1991-92"
          ],
          [
           "1992-93"
          ],
          [
           "1993-94"
          ],
          [
           "1994-95"
          ],
          [
           "1995-96"
          ],
          [
           "1996-97"
          ],
          [
           "1997-98"
          ],
          [
           "1998-99"
          ],
          [
           "1999-00"
          ],
          [
           "2000-01"
          ],
          [
           "2001-02"
          ],
          [
           "2002-03"
          ],
          [
           "2003-04"
          ]
         ],
         "hovertemplate": "Name=Karl Malone<br>Number of 3-Pointers Attempted=%{x}<br>Number of 3-Pointers Made=%{y}<br>SEASON_ID=%{customdata[0]}<extra></extra>",
         "legendgroup": "Karl Malone",
         "marker": {
          "color": "#B6E880",
          "symbol": "circle"
         },
         "mode": "markers",
         "name": "Karl Malone",
         "orientation": "v",
         "showlegend": true,
         "type": "scatter",
         "x": {
          "bdata": "AgcFECsOERQgKSgNBgEIBRkOAQ==",
          "dtype": "i1"
         },
         "xaxis": "x",
         "y": {
          "bdata": "AAAABRAEAwQICxAAAgACAgkDAA==",
          "dtype": "i1"
         },
         "yaxis": "y"
        },
        {
         "customdata": [
          [
           "1985-86"
          ],
          [
           "1986-87"
          ],
          [
           "1987-88"
          ],
          [
           "1988-89"
          ],
          [
           "1989-90"
          ],
          [
           "1990-91"
          ],
          [
           "1991-92"
          ],
          [
           "1992-93"
          ],
          [
           "1993-94"
          ],
          [
           "1994-95"
          ],
          [
           "1995-96"
          ],
          [
           "1996-97"
          ],
          [
           "1997-98"
          ],
          [
           "1998-99"
          ],
          [
           "1999-00"
          ],
          [
           "2000-01"
          ]
         ],
         "hovertemplate": "Name=Chris Mullin<br>Number of 3-Pointers Attempted=%{x}<br>Number of 3-Pointers Made=%{y}<br>SEASON_ID=%{customdata[0]}<extra></extra>",
         "legendgroup": "Chris Mullin",
         "marker": {
          "color": "#FF97FF",
          "symbol": "circle"
         },
         "mode": "markers",
         "name": "Chris Mullin",
         "orientation": "v",
         "showlegend": true,
         "type": "scatter",
         "x": {
          "bdata": "GwA/AGEAZADqAIUArwCFAJcAXQCWAMoA8wCdAG4ANAA=",
          "dtype": "i2"
         },
         "xaxis": "x",
         "y": {
          "bdata": "BRMiF1coQDw3KjtTa0ktEw==",
          "dtype": "i1"
         },
         "yaxis": "y"
        },
        {
         "customdata": [
          [
           "1987-88"
          ],
          [
           "1988-89"
          ],
          [
           "1989-90"
          ],
          [
           "1990-91"
          ],
          [
           "1991-92"
          ],
          [
           "1992-93"
          ],
          [
           "1993-94"
          ],
          [
           "1994-95"
          ],
          [
           "1995-96"
          ],
          [
           "1996-97"
          ],
          [
           "1997-98"
          ],
          [
           "1998-99"
          ],
          [
           "1999-00"
          ],
          [
           "2000-01"
          ],
          [
           "2001-02"
          ],
          [
           "2002-03"
          ],
          [
           "2003-04"
          ]
         ],
         "hovertemplate": "Name=Scottie Pippen<br>Number of 3-Pointers Attempted=%{x}<br>Number of 3-Pointers Made=%{y}<br>SEASON_ID=%{customdata[0]}<extra></extra>",
         "legendgroup": "Scottie Pippen",
         "marker": {
          "color": "#FECB52",
          "symbol": "circle"
         },
         "mode": "markers",
         "name": "Scottie Pippen",
         "orientation": "v",
         "showlegend": true,
         "type": "scatter",
         "x": {
          "bdata": "FwBNAHAARABQAF0AxQA8AZEBqAHAANQABwG6ALEAhQAwAA==",
          "dtype": "i2"
         },
         "xaxis": "x",
         "y": {
          "bdata": "BAAVABwAFQAQABYAPwBtAJYAnAA9AEgAVgBAADYAJgANAA==",
          "dtype": "i2"
         },
         "yaxis": "y"
        },
        {
         "customdata": [
          [
           "1989-90"
          ],
          [
           "1990-91"
          ],
          [
           "1991-92"
          ],
          [
           "1992-93"
          ],
          [
           "1993-94"
          ],
          [
           "1994-95"
          ],
          [
           "1995-96"
          ],
          [
           "1996-97"
          ],
          [
           "1997-98"
          ],
          [
           "1998-99"
          ],
          [
           "1999-00"
          ],
          [
           "2000-01"
          ],
          [
           "2001-02"
          ],
          [
           "2002-03"
          ]
         ],
         "hovertemplate": "Name=David Robinson<br>Number of 3-Pointers Attempted=%{x}<br>Number of 3-Pointers Made=%{y}<br>SEASON_ID=%{customdata[0]}<extra></extra>",
         "legendgroup": "David Robinson",
         "marker": {
          "color": "#636efa",
          "symbol": "circle"
         },
         "mode": "markers",
         "name": "David Robinson",
         "orientation": "v",
         "showlegend": true,
         "type": "scatter",
         "x": {
          "bdata": "AgcIER0UCQAEAQIBAAA=",
          "dtype": "i1"
         },
         "xaxis": "x",
         "y": {
          "bdata": "AAEBAwoGAwABAAAAAAA=",
          "dtype": "i1"
         },
         "yaxis": "y"
        },
        {
         "customdata": [
          [
           "1984-85"
          ],
          [
           "1985-86"
          ],
          [
           "1986-87"
          ],
          [
           "1987-88"
          ],
          [
           "1988-89"
          ],
          [
           "1989-90"
          ],
          [
           "1990-91"
          ],
          [
           "1991-92"
          ],
          [
           "1992-93"
          ],
          [
           "1993-94"
          ],
          [
           "1994-95"
          ],
          [
           "1995-96"
          ],
          [
           "1996-97"
          ],
          [
           "1997-98"
          ],
          [
           "1998-99"
          ],
          [
           "1999-00"
          ],
          [
           "2000-01"
          ],
          [
           "2001-02"
          ],
          [
           "2002-03"
          ]
         ],
         "hovertemplate": "Name=John Stockton<br>Number of 3-Pointers Attempted=%{x}<br>Number of 3-Pointers Made=%{y}<br>SEASON_ID=%{customdata[0]}<extra></extra>",
         "legendgroup": "John Stockton",
         "marker": {
          "color": "#EF553B",
          "symbol": "circle"
         },
         "mode": "markers",
         "name": "John Stockton",
         "orientation": "v",
         "showlegend": true,
         "type": "scatter",
         "x": {
          "bdata": "CwAPACYAQwBCAHEAqADMALsAlQDjAOEAtABbADIAeQCEAE4AUAA=",
          "dtype": "i2"
         },
         "xaxis": "x",
         "y": {
          "bdata": "AgIHGBAvOlNIMGZfTCcQKz0ZHQ==",
          "dtype": "i1"
         },
         "yaxis": "y"
        }
       ],
       "layout": {
        "height": 600,
        "legend": {
         "title": {
          "text": "Name"
         },
         "tracegroupgap": 0
        },
        "plot_bgcolor": "brown",
        "template": {
         "data": {
          "bar": [
           {
            "error_x": {
             "color": "#2a3f5f"
            },
            "error_y": {
             "color": "#2a3f5f"
            },
            "marker": {
             "line": {
              "color": "#E5ECF6",
              "width": 0.5
             },
             "pattern": {
              "fillmode": "overlay",
              "size": 10,
              "solidity": 0.2
             }
            },
            "type": "bar"
           }
          ],
          "barpolar": [
           {
            "marker": {
             "line": {
              "color": "#E5ECF6",
              "width": 0.5
             },
             "pattern": {
              "fillmode": "overlay",
              "size": 10,
              "solidity": 0.2
             }
            },
            "type": "barpolar"
           }
          ],
          "carpet": [
           {
            "aaxis": {
             "endlinecolor": "#2a3f5f",
             "gridcolor": "white",
             "linecolor": "white",
             "minorgridcolor": "white",
             "startlinecolor": "#2a3f5f"
            },
            "baxis": {
             "endlinecolor": "#2a3f5f",
             "gridcolor": "white",
             "linecolor": "white",
             "minorgridcolor": "white",
             "startlinecolor": "#2a3f5f"
            },
            "type": "carpet"
           }
          ],
          "choropleth": [
           {
            "colorbar": {
             "outlinewidth": 0,
             "ticks": ""
            },
            "type": "choropleth"
           }
          ],
          "contour": [
           {
            "colorbar": {
             "outlinewidth": 0,
             "ticks": ""
            },
            "colorscale": [
             [
              0,
              "#0d0887"
             ],
             [
              0.1111111111111111,
              "#46039f"
             ],
             [
              0.2222222222222222,
              "#7201a8"
             ],
             [
              0.3333333333333333,
              "#9c179e"
             ],
             [
              0.4444444444444444,
              "#bd3786"
             ],
             [
              0.5555555555555556,
              "#d8576b"
             ],
             [
              0.6666666666666666,
              "#ed7953"
             ],
             [
              0.7777777777777778,
              "#fb9f3a"
             ],
             [
              0.8888888888888888,
              "#fdca26"
             ],
             [
              1,
              "#f0f921"
             ]
            ],
            "type": "contour"
           }
          ],
          "contourcarpet": [
           {
            "colorbar": {
             "outlinewidth": 0,
             "ticks": ""
            },
            "type": "contourcarpet"
           }
          ],
          "heatmap": [
           {
            "colorbar": {
             "outlinewidth": 0,
             "ticks": ""
            },
            "colorscale": [
             [
              0,
              "#0d0887"
             ],
             [
              0.1111111111111111,
              "#46039f"
             ],
             [
              0.2222222222222222,
              "#7201a8"
             ],
             [
              0.3333333333333333,
              "#9c179e"
             ],
             [
              0.4444444444444444,
              "#bd3786"
             ],
             [
              0.5555555555555556,
              "#d8576b"
             ],
             [
              0.6666666666666666,
              "#ed7953"
             ],
             [
              0.7777777777777778,
              "#fb9f3a"
             ],
             [
              0.8888888888888888,
              "#fdca26"
             ],
             [
              1,
              "#f0f921"
             ]
            ],
            "type": "heatmap"
           }
          ],
          "histogram": [
           {
            "marker": {
             "pattern": {
              "fillmode": "overlay",
              "size": 10,
              "solidity": 0.2
             }
            },
            "type": "histogram"
           }
          ],
          "histogram2d": [
           {
            "colorbar": {
             "outlinewidth": 0,
             "ticks": ""
            },
            "colorscale": [
             [
              0,
              "#0d0887"
             ],
             [
              0.1111111111111111,
              "#46039f"
             ],
             [
              0.2222222222222222,
              "#7201a8"
             ],
             [
              0.3333333333333333,
              "#9c179e"
             ],
             [
              0.4444444444444444,
              "#bd3786"
             ],
             [
              0.5555555555555556,
              "#d8576b"
             ],
             [
              0.6666666666666666,
              "#ed7953"
             ],
             [
              0.7777777777777778,
              "#fb9f3a"
             ],
             [
              0.8888888888888888,
              "#fdca26"
             ],
             [
              1,
              "#f0f921"
             ]
            ],
            "type": "histogram2d"
           }
          ],
          "histogram2dcontour": [
           {
            "colorbar": {
             "outlinewidth": 0,
             "ticks": ""
            },
            "colorscale": [
             [
              0,
              "#0d0887"
             ],
             [
              0.1111111111111111,
              "#46039f"
             ],
             [
              0.2222222222222222,
              "#7201a8"
             ],
             [
              0.3333333333333333,
              "#9c179e"
             ],
             [
              0.4444444444444444,
              "#bd3786"
             ],
             [
              0.5555555555555556,
              "#d8576b"
             ],
             [
              0.6666666666666666,
              "#ed7953"
             ],
             [
              0.7777777777777778,
              "#fb9f3a"
             ],
             [
              0.8888888888888888,
              "#fdca26"
             ],
             [
              1,
              "#f0f921"
             ]
            ],
            "type": "histogram2dcontour"
           }
          ],
          "mesh3d": [
           {
            "colorbar": {
             "outlinewidth": 0,
             "ticks": ""
            },
            "type": "mesh3d"
           }
          ],
          "parcoords": [
           {
            "line": {
             "colorbar": {
              "outlinewidth": 0,
              "ticks": ""
             }
            },
            "type": "parcoords"
           }
          ],
          "pie": [
           {
            "automargin": true,
            "type": "pie"
           }
          ],
          "scatter": [
           {
            "fillpattern": {
             "fillmode": "overlay",
             "size": 10,
             "solidity": 0.2
            },
            "type": "scatter"
           }
          ],
          "scatter3d": [
           {
            "line": {
             "colorbar": {
              "outlinewidth": 0,
              "ticks": ""
             }
            },
            "marker": {
             "colorbar": {
              "outlinewidth": 0,
              "ticks": ""
             }
            },
            "type": "scatter3d"
           }
          ],
          "scattercarpet": [
           {
            "marker": {
             "colorbar": {
              "outlinewidth": 0,
              "ticks": ""
             }
            },
            "type": "scattercarpet"
           }
          ],
          "scattergeo": [
           {
            "marker": {
             "colorbar": {
              "outlinewidth": 0,
              "ticks": ""
             }
            },
            "type": "scattergeo"
           }
          ],
          "scattergl": [
           {
            "marker": {
             "colorbar": {
              "outlinewidth": 0,
              "ticks": ""
             }
            },
            "type": "scattergl"
           }
          ],
          "scattermap": [
           {
            "marker": {
             "colorbar": {
              "outlinewidth": 0,
              "ticks": ""
             }
            },
            "type": "scattermap"
           }
          ],
          "scattermapbox": [
           {
            "marker": {
             "colorbar": {
              "outlinewidth": 0,
              "ticks": ""
             }
            },
            "type": "scattermapbox"
           }
          ],
          "scatterpolar": [
           {
            "marker": {
             "colorbar": {
              "outlinewidth": 0,
              "ticks": ""
             }
            },
            "type": "scatterpolar"
           }
          ],
          "scatterpolargl": [
           {
            "marker": {
             "colorbar": {
              "outlinewidth": 0,
              "ticks": ""
             }
            },
            "type": "scatterpolargl"
           }
          ],
          "scatterternary": [
           {
            "marker": {
             "colorbar": {
              "outlinewidth": 0,
              "ticks": ""
             }
            },
            "type": "scatterternary"
           }
          ],
          "surface": [
           {
            "colorbar": {
             "outlinewidth": 0,
             "ticks": ""
            },
            "colorscale": [
             [
              0,
              "#0d0887"
             ],
             [
              0.1111111111111111,
              "#46039f"
             ],
             [
              0.2222222222222222,
              "#7201a8"
             ],
             [
              0.3333333333333333,
              "#9c179e"
             ],
             [
              0.4444444444444444,
              "#bd3786"
             ],
             [
              0.5555555555555556,
              "#d8576b"
             ],
             [
              0.6666666666666666,
              "#ed7953"
             ],
             [
              0.7777777777777778,
              "#fb9f3a"
             ],
             [
              0.8888888888888888,
              "#fdca26"
             ],
             [
              1,
              "#f0f921"
             ]
            ],
            "type": "surface"
           }
          ],
          "table": [
           {
            "cells": {
             "fill": {
              "color": "#EBF0F8"
             },
             "line": {
              "color": "white"
             }
            },
            "header": {
             "fill": {
              "color": "#C8D4E3"
             },
             "line": {
              "color": "white"
             }
            },
            "type": "table"
           }
          ]
         },
         "layout": {
          "annotationdefaults": {
           "arrowcolor": "#2a3f5f",
           "arrowhead": 0,
           "arrowwidth": 1
          },
          "autotypenumbers": "strict",
          "coloraxis": {
           "colorbar": {
            "outlinewidth": 0,
            "ticks": ""
           }
          },
          "colorscale": {
           "diverging": [
            [
             0,
             "#8e0152"
            ],
            [
             0.1,
             "#c51b7d"
            ],
            [
             0.2,
             "#de77ae"
            ],
            [
             0.3,
             "#f1b6da"
            ],
            [
             0.4,
             "#fde0ef"
            ],
            [
             0.5,
             "#f7f7f7"
            ],
            [
             0.6,
             "#e6f5d0"
            ],
            [
             0.7,
             "#b8e186"
            ],
            [
             0.8,
             "#7fbc41"
            ],
            [
             0.9,
             "#4d9221"
            ],
            [
             1,
             "#276419"
            ]
           ],
           "sequential": [
            [
             0,
             "#0d0887"
            ],
            [
             0.1111111111111111,
             "#46039f"
            ],
            [
             0.2222222222222222,
             "#7201a8"
            ],
            [
             0.3333333333333333,
             "#9c179e"
            ],
            [
             0.4444444444444444,
             "#bd3786"
            ],
            [
             0.5555555555555556,
             "#d8576b"
            ],
            [
             0.6666666666666666,
             "#ed7953"
            ],
            [
             0.7777777777777778,
             "#fb9f3a"
            ],
            [
             0.8888888888888888,
             "#fdca26"
            ],
            [
             1,
             "#f0f921"
            ]
           ],
           "sequentialminus": [
            [
             0,
             "#0d0887"
            ],
            [
             0.1111111111111111,
             "#46039f"
            ],
            [
             0.2222222222222222,
             "#7201a8"
            ],
            [
             0.3333333333333333,
             "#9c179e"
            ],
            [
             0.4444444444444444,
             "#bd3786"
            ],
            [
             0.5555555555555556,
             "#d8576b"
            ],
            [
             0.6666666666666666,
             "#ed7953"
            ],
            [
             0.7777777777777778,
             "#fb9f3a"
            ],
            [
             0.8888888888888888,
             "#fdca26"
            ],
            [
             1,
             "#f0f921"
            ]
           ]
          },
          "colorway": [
           "#636efa",
           "#EF553B",
           "#00cc96",
           "#ab63fa",
           "#FFA15A",
           "#19d3f3",
           "#FF6692",
           "#B6E880",
           "#FF97FF",
           "#FECB52"
          ],
          "font": {
           "color": "#2a3f5f"
          },
          "geo": {
           "bgcolor": "white",
           "lakecolor": "white",
           "landcolor": "#E5ECF6",
           "showlakes": true,
           "showland": true,
           "subunitcolor": "white"
          },
          "hoverlabel": {
           "align": "left"
          },
          "hovermode": "closest",
          "mapbox": {
           "style": "light"
          },
          "paper_bgcolor": "white",
          "plot_bgcolor": "#E5ECF6",
          "polar": {
           "angularaxis": {
            "gridcolor": "white",
            "linecolor": "white",
            "ticks": ""
           },
           "bgcolor": "#E5ECF6",
           "radialaxis": {
            "gridcolor": "white",
            "linecolor": "white",
            "ticks": ""
           }
          },
          "scene": {
           "xaxis": {
            "backgroundcolor": "#E5ECF6",
            "gridcolor": "white",
            "gridwidth": 2,
            "linecolor": "white",
            "showbackground": true,
            "ticks": "",
            "zerolinecolor": "white"
           },
           "yaxis": {
            "backgroundcolor": "#E5ECF6",
            "gridcolor": "white",
            "gridwidth": 2,
            "linecolor": "white",
            "showbackground": true,
            "ticks": "",
            "zerolinecolor": "white"
           },
           "zaxis": {
            "backgroundcolor": "#E5ECF6",
            "gridcolor": "white",
            "gridwidth": 2,
            "linecolor": "white",
            "showbackground": true,
            "ticks": "",
            "zerolinecolor": "white"
           }
          },
          "shapedefaults": {
           "line": {
            "color": "#2a3f5f"
           }
          },
          "ternary": {
           "aaxis": {
            "gridcolor": "white",
            "linecolor": "white",
            "ticks": ""
           },
           "baxis": {
            "gridcolor": "white",
            "linecolor": "white",
            "ticks": ""
           },
           "bgcolor": "#E5ECF6",
           "caxis": {
            "gridcolor": "white",
            "linecolor": "white",
            "ticks": ""
           }
          },
          "title": {
           "x": 0.05
          },
          "xaxis": {
           "automargin": true,
           "gridcolor": "white",
           "linecolor": "white",
           "ticks": "",
           "title": {
            "standoff": 15
           },
           "zerolinecolor": "white",
           "zerolinewidth": 2
          },
          "yaxis": {
           "automargin": true,
           "gridcolor": "white",
           "linecolor": "white",
           "ticks": "",
           "title": {
            "standoff": 15
           },
           "zerolinecolor": "white",
           "zerolinewidth": 2
          }
         }
        },
        "title": {
         "text": "3-Pointers Made by 3-Pointers Attempted for Each Season, by player"
        },
        "width": 1000,
        "xaxis": {
         "anchor": "y",
         "domain": [
          0,
          1
         ],
         "title": {
          "text": "Number of 3-Pointers Attempted"
         }
        },
        "yaxis": {
         "anchor": "x",
         "domain": [
          0,
          1
         ],
         "title": {
          "text": "Number of 3-Pointers Made"
         }
        }
       }
      }
     },
     "metadata": {},
     "output_type": "display_data"
    }
   ],
   "source": [
    "#scatter plot showing number of 3-pointers goals made by the number of 3-pointers goals attempted\n",
    "fig=px.scatter(df_all, x='FG3A', y='FG3M', color='Name', \n",
    "               title='3-Pointers Made by 3-Pointers Attempted for Each Season, by player', hover_data=[\"SEASON_ID\"],\n",
    "               width=1000, height=600,\n",
    "               labels={\"FG3A\": \"Number of 3-Pointers Attempted\", \"FG3M\": \"Number of 3-Pointers Made\"}).update_layout(plot_bgcolor='brown') \n",
    "fig.show()"
   ]
  },
  {
   "cell_type": "code",
   "execution_count": null,
   "id": "f35b894b",
   "metadata": {},
   "outputs": [
    {
     "data": {
      "application/vnd.plotly.v1+json": {
       "config": {
        "plotlyServerURL": "https://plot.ly"
       },
       "data": [
        {
         "hovertemplate": "Total Career Points Scored=%{x}<br>Player=%{y}<extra></extra>",
         "legendgroup": "",
         "marker": {
          "color": "darkgreen",
          "pattern": {
           "shape": ""
          }
         },
         "name": "",
         "orientation": "h",
         "showlegend": false,
         "textposition": "auto",
         "type": "bar",
         "x": {
          "bdata": "zVwAAB9VAAAoXQAA72AAACtFAAAkfgAACjMAAECQAAD3RQAA/EkAADZRAAD/TAAA",
          "dtype": "i4"
         },
         "xaxis": "x",
         "y": [
          "Charles Barkley",
          "Larry Bird",
          "Clyde Drexler",
          "Patrick Ewing",
          "Magic Johnson",
          "Michael Jordan",
          "Christian Laettner",
          "Karl Malone",
          "Chris Mullin",
          "Scottie Pippen",
          "David Robinson",
          "John Stockton"
         ],
         "yaxis": "y"
        }
       ],
       "layout": {
        "barmode": "relative",
        "height": 800,
        "legend": {
         "tracegroupgap": 0
        },
        "plot_bgcolor": "tan",
        "template": {
         "data": {
          "bar": [
           {
            "error_x": {
             "color": "#2a3f5f"
            },
            "error_y": {
             "color": "#2a3f5f"
            },
            "marker": {
             "line": {
              "color": "#E5ECF6",
              "width": 0.5
             },
             "pattern": {
              "fillmode": "overlay",
              "size": 10,
              "solidity": 0.2
             }
            },
            "type": "bar"
           }
          ],
          "barpolar": [
           {
            "marker": {
             "line": {
              "color": "#E5ECF6",
              "width": 0.5
             },
             "pattern": {
              "fillmode": "overlay",
              "size": 10,
              "solidity": 0.2
             }
            },
            "type": "barpolar"
           }
          ],
          "carpet": [
           {
            "aaxis": {
             "endlinecolor": "#2a3f5f",
             "gridcolor": "white",
             "linecolor": "white",
             "minorgridcolor": "white",
             "startlinecolor": "#2a3f5f"
            },
            "baxis": {
             "endlinecolor": "#2a3f5f",
             "gridcolor": "white",
             "linecolor": "white",
             "minorgridcolor": "white",
             "startlinecolor": "#2a3f5f"
            },
            "type": "carpet"
           }
          ],
          "choropleth": [
           {
            "colorbar": {
             "outlinewidth": 0,
             "ticks": ""
            },
            "type": "choropleth"
           }
          ],
          "contour": [
           {
            "colorbar": {
             "outlinewidth": 0,
             "ticks": ""
            },
            "colorscale": [
             [
              0,
              "#0d0887"
             ],
             [
              0.1111111111111111,
              "#46039f"
             ],
             [
              0.2222222222222222,
              "#7201a8"
             ],
             [
              0.3333333333333333,
              "#9c179e"
             ],
             [
              0.4444444444444444,
              "#bd3786"
             ],
             [
              0.5555555555555556,
              "#d8576b"
             ],
             [
              0.6666666666666666,
              "#ed7953"
             ],
             [
              0.7777777777777778,
              "#fb9f3a"
             ],
             [
              0.8888888888888888,
              "#fdca26"
             ],
             [
              1,
              "#f0f921"
             ]
            ],
            "type": "contour"
           }
          ],
          "contourcarpet": [
           {
            "colorbar": {
             "outlinewidth": 0,
             "ticks": ""
            },
            "type": "contourcarpet"
           }
          ],
          "heatmap": [
           {
            "colorbar": {
             "outlinewidth": 0,
             "ticks": ""
            },
            "colorscale": [
             [
              0,
              "#0d0887"
             ],
             [
              0.1111111111111111,
              "#46039f"
             ],
             [
              0.2222222222222222,
              "#7201a8"
             ],
             [
              0.3333333333333333,
              "#9c179e"
             ],
             [
              0.4444444444444444,
              "#bd3786"
             ],
             [
              0.5555555555555556,
              "#d8576b"
             ],
             [
              0.6666666666666666,
              "#ed7953"
             ],
             [
              0.7777777777777778,
              "#fb9f3a"
             ],
             [
              0.8888888888888888,
              "#fdca26"
             ],
             [
              1,
              "#f0f921"
             ]
            ],
            "type": "heatmap"
           }
          ],
          "histogram": [
           {
            "marker": {
             "pattern": {
              "fillmode": "overlay",
              "size": 10,
              "solidity": 0.2
             }
            },
            "type": "histogram"
           }
          ],
          "histogram2d": [
           {
            "colorbar": {
             "outlinewidth": 0,
             "ticks": ""
            },
            "colorscale": [
             [
              0,
              "#0d0887"
             ],
             [
              0.1111111111111111,
              "#46039f"
             ],
             [
              0.2222222222222222,
              "#7201a8"
             ],
             [
              0.3333333333333333,
              "#9c179e"
             ],
             [
              0.4444444444444444,
              "#bd3786"
             ],
             [
              0.5555555555555556,
              "#d8576b"
             ],
             [
              0.6666666666666666,
              "#ed7953"
             ],
             [
              0.7777777777777778,
              "#fb9f3a"
             ],
             [
              0.8888888888888888,
              "#fdca26"
             ],
             [
              1,
              "#f0f921"
             ]
            ],
            "type": "histogram2d"
           }
          ],
          "histogram2dcontour": [
           {
            "colorbar": {
             "outlinewidth": 0,
             "ticks": ""
            },
            "colorscale": [
             [
              0,
              "#0d0887"
             ],
             [
              0.1111111111111111,
              "#46039f"
             ],
             [
              0.2222222222222222,
              "#7201a8"
             ],
             [
              0.3333333333333333,
              "#9c179e"
             ],
             [
              0.4444444444444444,
              "#bd3786"
             ],
             [
              0.5555555555555556,
              "#d8576b"
             ],
             [
              0.6666666666666666,
              "#ed7953"
             ],
             [
              0.7777777777777778,
              "#fb9f3a"
             ],
             [
              0.8888888888888888,
              "#fdca26"
             ],
             [
              1,
              "#f0f921"
             ]
            ],
            "type": "histogram2dcontour"
           }
          ],
          "mesh3d": [
           {
            "colorbar": {
             "outlinewidth": 0,
             "ticks": ""
            },
            "type": "mesh3d"
           }
          ],
          "parcoords": [
           {
            "line": {
             "colorbar": {
              "outlinewidth": 0,
              "ticks": ""
             }
            },
            "type": "parcoords"
           }
          ],
          "pie": [
           {
            "automargin": true,
            "type": "pie"
           }
          ],
          "scatter": [
           {
            "fillpattern": {
             "fillmode": "overlay",
             "size": 10,
             "solidity": 0.2
            },
            "type": "scatter"
           }
          ],
          "scatter3d": [
           {
            "line": {
             "colorbar": {
              "outlinewidth": 0,
              "ticks": ""
             }
            },
            "marker": {
             "colorbar": {
              "outlinewidth": 0,
              "ticks": ""
             }
            },
            "type": "scatter3d"
           }
          ],
          "scattercarpet": [
           {
            "marker": {
             "colorbar": {
              "outlinewidth": 0,
              "ticks": ""
             }
            },
            "type": "scattercarpet"
           }
          ],
          "scattergeo": [
           {
            "marker": {
             "colorbar": {
              "outlinewidth": 0,
              "ticks": ""
             }
            },
            "type": "scattergeo"
           }
          ],
          "scattergl": [
           {
            "marker": {
             "colorbar": {
              "outlinewidth": 0,
              "ticks": ""
             }
            },
            "type": "scattergl"
           }
          ],
          "scattermap": [
           {
            "marker": {
             "colorbar": {
              "outlinewidth": 0,
              "ticks": ""
             }
            },
            "type": "scattermap"
           }
          ],
          "scattermapbox": [
           {
            "marker": {
             "colorbar": {
              "outlinewidth": 0,
              "ticks": ""
             }
            },
            "type": "scattermapbox"
           }
          ],
          "scatterpolar": [
           {
            "marker": {
             "colorbar": {
              "outlinewidth": 0,
              "ticks": ""
             }
            },
            "type": "scatterpolar"
           }
          ],
          "scatterpolargl": [
           {
            "marker": {
             "colorbar": {
              "outlinewidth": 0,
              "ticks": ""
             }
            },
            "type": "scatterpolargl"
           }
          ],
          "scatterternary": [
           {
            "marker": {
             "colorbar": {
              "outlinewidth": 0,
              "ticks": ""
             }
            },
            "type": "scatterternary"
           }
          ],
          "surface": [
           {
            "colorbar": {
             "outlinewidth": 0,
             "ticks": ""
            },
            "colorscale": [
             [
              0,
              "#0d0887"
             ],
             [
              0.1111111111111111,
              "#46039f"
             ],
             [
              0.2222222222222222,
              "#7201a8"
             ],
             [
              0.3333333333333333,
              "#9c179e"
             ],
             [
              0.4444444444444444,
              "#bd3786"
             ],
             [
              0.5555555555555556,
              "#d8576b"
             ],
             [
              0.6666666666666666,
              "#ed7953"
             ],
             [
              0.7777777777777778,
              "#fb9f3a"
             ],
             [
              0.8888888888888888,
              "#fdca26"
             ],
             [
              1,
              "#f0f921"
             ]
            ],
            "type": "surface"
           }
          ],
          "table": [
           {
            "cells": {
             "fill": {
              "color": "#EBF0F8"
             },
             "line": {
              "color": "white"
             }
            },
            "header": {
             "fill": {
              "color": "#C8D4E3"
             },
             "line": {
              "color": "white"
             }
            },
            "type": "table"
           }
          ]
         },
         "layout": {
          "annotationdefaults": {
           "arrowcolor": "#2a3f5f",
           "arrowhead": 0,
           "arrowwidth": 1
          },
          "autotypenumbers": "strict",
          "coloraxis": {
           "colorbar": {
            "outlinewidth": 0,
            "ticks": ""
           }
          },
          "colorscale": {
           "diverging": [
            [
             0,
             "#8e0152"
            ],
            [
             0.1,
             "#c51b7d"
            ],
            [
             0.2,
             "#de77ae"
            ],
            [
             0.3,
             "#f1b6da"
            ],
            [
             0.4,
             "#fde0ef"
            ],
            [
             0.5,
             "#f7f7f7"
            ],
            [
             0.6,
             "#e6f5d0"
            ],
            [
             0.7,
             "#b8e186"
            ],
            [
             0.8,
             "#7fbc41"
            ],
            [
             0.9,
             "#4d9221"
            ],
            [
             1,
             "#276419"
            ]
           ],
           "sequential": [
            [
             0,
             "#0d0887"
            ],
            [
             0.1111111111111111,
             "#46039f"
            ],
            [
             0.2222222222222222,
             "#7201a8"
            ],
            [
             0.3333333333333333,
             "#9c179e"
            ],
            [
             0.4444444444444444,
             "#bd3786"
            ],
            [
             0.5555555555555556,
             "#d8576b"
            ],
            [
             0.6666666666666666,
             "#ed7953"
            ],
            [
             0.7777777777777778,
             "#fb9f3a"
            ],
            [
             0.8888888888888888,
             "#fdca26"
            ],
            [
             1,
             "#f0f921"
            ]
           ],
           "sequentialminus": [
            [
             0,
             "#0d0887"
            ],
            [
             0.1111111111111111,
             "#46039f"
            ],
            [
             0.2222222222222222,
             "#7201a8"
            ],
            [
             0.3333333333333333,
             "#9c179e"
            ],
            [
             0.4444444444444444,
             "#bd3786"
            ],
            [
             0.5555555555555556,
             "#d8576b"
            ],
            [
             0.6666666666666666,
             "#ed7953"
            ],
            [
             0.7777777777777778,
             "#fb9f3a"
            ],
            [
             0.8888888888888888,
             "#fdca26"
            ],
            [
             1,
             "#f0f921"
            ]
           ]
          },
          "colorway": [
           "#636efa",
           "#EF553B",
           "#00cc96",
           "#ab63fa",
           "#FFA15A",
           "#19d3f3",
           "#FF6692",
           "#B6E880",
           "#FF97FF",
           "#FECB52"
          ],
          "font": {
           "color": "#2a3f5f"
          },
          "geo": {
           "bgcolor": "white",
           "lakecolor": "white",
           "landcolor": "#E5ECF6",
           "showlakes": true,
           "showland": true,
           "subunitcolor": "white"
          },
          "hoverlabel": {
           "align": "left"
          },
          "hovermode": "closest",
          "mapbox": {
           "style": "light"
          },
          "paper_bgcolor": "white",
          "plot_bgcolor": "#E5ECF6",
          "polar": {
           "angularaxis": {
            "gridcolor": "white",
            "linecolor": "white",
            "ticks": ""
           },
           "bgcolor": "#E5ECF6",
           "radialaxis": {
            "gridcolor": "white",
            "linecolor": "white",
            "ticks": ""
           }
          },
          "scene": {
           "xaxis": {
            "backgroundcolor": "#E5ECF6",
            "gridcolor": "white",
            "gridwidth": 2,
            "linecolor": "white",
            "showbackground": true,
            "ticks": "",
            "zerolinecolor": "white"
           },
           "yaxis": {
            "backgroundcolor": "#E5ECF6",
            "gridcolor": "white",
            "gridwidth": 2,
            "linecolor": "white",
            "showbackground": true,
            "ticks": "",
            "zerolinecolor": "white"
           },
           "zaxis": {
            "backgroundcolor": "#E5ECF6",
            "gridcolor": "white",
            "gridwidth": 2,
            "linecolor": "white",
            "showbackground": true,
            "ticks": "",
            "zerolinecolor": "white"
           }
          },
          "shapedefaults": {
           "line": {
            "color": "#2a3f5f"
           }
          },
          "ternary": {
           "aaxis": {
            "gridcolor": "white",
            "linecolor": "white",
            "ticks": ""
           },
           "baxis": {
            "gridcolor": "white",
            "linecolor": "white",
            "ticks": ""
           },
           "bgcolor": "#E5ECF6",
           "caxis": {
            "gridcolor": "white",
            "linecolor": "white",
            "ticks": ""
           }
          },
          "title": {
           "x": 0.05
          },
          "xaxis": {
           "automargin": true,
           "gridcolor": "white",
           "linecolor": "white",
           "ticks": "",
           "title": {
            "standoff": 15
           },
           "zerolinecolor": "white",
           "zerolinewidth": 2
          },
          "yaxis": {
           "automargin": true,
           "gridcolor": "white",
           "linecolor": "white",
           "ticks": "",
           "title": {
            "standoff": 15
           },
           "zerolinecolor": "white",
           "zerolinewidth": 2
          }
         }
        },
        "title": {
         "text": "Total NBA Career Points Scored, by player"
        },
        "xaxis": {
         "anchor": "y",
         "domain": [
          0,
          1
         ],
         "title": {
          "text": "Total Career Points Scored"
         }
        },
        "yaxis": {
         "anchor": "x",
         "autorange": "reversed",
         "domain": [
          0,
          1
         ],
         "title": {
          "text": "Player"
         }
        }
       }
      }
     },
     "metadata": {},
     "output_type": "display_data"
    }
   ],
   "source": [
    "#bar chart based on career total number of points made during NBA career\n",
    "#create list of totals for for each player\n",
    "pts_sums=[]\n",
    "#for loop to iterate over roster to populate list\n",
    "for x in roster:\n",
    "    i=sum(df_all['PTS'][df_all['Name']==x])\n",
    "    pts_sums.append(i)\n",
    "#create dataframe from roster and totals lists\n",
    "combine={'Name':roster,'Points':pts_sums}\n",
    "career_points=pd.DataFrame(combine)\n",
    "#creating bar chart\n",
    "fig = px.bar(career_points, x=\"Points\", y=\"Name\", orientation='h', color_discrete_sequence=['darkgreen'], \n",
    "             height=800,labels={'Name': 'Player', 'Points':'Total Career Points Scored'},\n",
    "             title='Total NBA Career Points Scored, by player').update_yaxes(autorange='reversed').update_layout(plot_bgcolor='tan')\n",
    "fig.show()"
   ]
  },
  {
   "cell_type": "code",
   "execution_count": 54,
   "id": "7ac93437",
   "metadata": {},
   "outputs": [],
   "source": [
    "#career free throws"
   ]
  },
  {
   "cell_type": "code",
   "execution_count": null,
   "id": "8489ec03",
   "metadata": {},
   "outputs": [],
   "source": [
    "#career rebounds"
   ]
  },
  {
   "cell_type": "code",
   "execution_count": null,
   "id": "ccd28b1a",
   "metadata": {},
   "outputs": [],
   "source": [
    "#career assists"
   ]
  },
  {
   "cell_type": "code",
   "execution_count": null,
   "id": "05fa1ae0",
   "metadata": {},
   "outputs": [],
   "source": [
    "#career blocks"
   ]
  },
  {
   "cell_type": "code",
   "execution_count": null,
   "id": "461bf477",
   "metadata": {},
   "outputs": [],
   "source": [
    "#career personal fouls"
   ]
  },
  {
   "cell_type": "code",
   "execution_count": null,
   "id": "46139ca6",
   "metadata": {},
   "outputs": [],
   "source": [
    "#looking at rookie season for players\n",
    "#creating rookie seasons dataframe\n",
    "rookie=pd.DataFrame()\n",
    "for player in dataframes.values():\n",
    "    row=player.loc[[0]]\n",
    "    row1=pd.DataFrame(row)\n",
    "    rookie=pd.concat([rookie,row1], axis=0, ignore_index=True)   "
   ]
  },
  {
   "cell_type": "code",
   "execution_count": 83,
   "id": "424a1288",
   "metadata": {},
   "outputs": [
    {
     "data": {
      "text/html": [
       "<div>\n",
       "<style scoped>\n",
       "    .dataframe tbody tr th:only-of-type {\n",
       "        vertical-align: middle;\n",
       "    }\n",
       "\n",
       "    .dataframe tbody tr th {\n",
       "        vertical-align: top;\n",
       "    }\n",
       "\n",
       "    .dataframe thead th {\n",
       "        text-align: right;\n",
       "    }\n",
       "</style>\n",
       "<table border=\"1\" class=\"dataframe\">\n",
       "  <thead>\n",
       "    <tr style=\"text-align: right;\">\n",
       "      <th></th>\n",
       "      <th>PLAYER_ID</th>\n",
       "      <th>SEASON_ID</th>\n",
       "      <th>LEAGUE_ID</th>\n",
       "      <th>TEAM_ID</th>\n",
       "      <th>TEAM_ABBREVIATION</th>\n",
       "      <th>PLAYER_AGE</th>\n",
       "      <th>GP</th>\n",
       "      <th>GS</th>\n",
       "      <th>MIN</th>\n",
       "      <th>FGM</th>\n",
       "      <th>...</th>\n",
       "      <th>OREB</th>\n",
       "      <th>DREB</th>\n",
       "      <th>REB</th>\n",
       "      <th>AST</th>\n",
       "      <th>STL</th>\n",
       "      <th>BLK</th>\n",
       "      <th>TOV</th>\n",
       "      <th>PF</th>\n",
       "      <th>PTS</th>\n",
       "      <th>Name</th>\n",
       "    </tr>\n",
       "  </thead>\n",
       "  <tbody>\n",
       "    <tr>\n",
       "      <th>0</th>\n",
       "      <td>787</td>\n",
       "      <td>1984-85</td>\n",
       "      <td>00</td>\n",
       "      <td>1610612755</td>\n",
       "      <td>PHL</td>\n",
       "      <td>22.0</td>\n",
       "      <td>82</td>\n",
       "      <td>60</td>\n",
       "      <td>2347</td>\n",
       "      <td>427</td>\n",
       "      <td>...</td>\n",
       "      <td>266</td>\n",
       "      <td>437</td>\n",
       "      <td>703</td>\n",
       "      <td>155</td>\n",
       "      <td>95</td>\n",
       "      <td>80</td>\n",
       "      <td>209</td>\n",
       "      <td>301</td>\n",
       "      <td>1148</td>\n",
       "      <td>Charles Barkley</td>\n",
       "    </tr>\n",
       "    <tr>\n",
       "      <th>1</th>\n",
       "      <td>1449</td>\n",
       "      <td>1979-80</td>\n",
       "      <td>00</td>\n",
       "      <td>1610612738</td>\n",
       "      <td>BOS</td>\n",
       "      <td>23.0</td>\n",
       "      <td>82</td>\n",
       "      <td>82</td>\n",
       "      <td>2955</td>\n",
       "      <td>693</td>\n",
       "      <td>...</td>\n",
       "      <td>216</td>\n",
       "      <td>636</td>\n",
       "      <td>852</td>\n",
       "      <td>370</td>\n",
       "      <td>143</td>\n",
       "      <td>53</td>\n",
       "      <td>263</td>\n",
       "      <td>279</td>\n",
       "      <td>1745</td>\n",
       "      <td>Larry Bird</td>\n",
       "    </tr>\n",
       "    <tr>\n",
       "      <th>2</th>\n",
       "      <td>17</td>\n",
       "      <td>1983-84</td>\n",
       "      <td>00</td>\n",
       "      <td>1610612757</td>\n",
       "      <td>POR</td>\n",
       "      <td>22.0</td>\n",
       "      <td>82</td>\n",
       "      <td>3</td>\n",
       "      <td>1408</td>\n",
       "      <td>252</td>\n",
       "      <td>...</td>\n",
       "      <td>112</td>\n",
       "      <td>123</td>\n",
       "      <td>235</td>\n",
       "      <td>153</td>\n",
       "      <td>107</td>\n",
       "      <td>29</td>\n",
       "      <td>123</td>\n",
       "      <td>209</td>\n",
       "      <td>628</td>\n",
       "      <td>Clyde Drexler</td>\n",
       "    </tr>\n",
       "    <tr>\n",
       "      <th>3</th>\n",
       "      <td>121</td>\n",
       "      <td>1985-86</td>\n",
       "      <td>00</td>\n",
       "      <td>1610612752</td>\n",
       "      <td>NYK</td>\n",
       "      <td>23.0</td>\n",
       "      <td>50</td>\n",
       "      <td>50</td>\n",
       "      <td>1771</td>\n",
       "      <td>386</td>\n",
       "      <td>...</td>\n",
       "      <td>124</td>\n",
       "      <td>327</td>\n",
       "      <td>451</td>\n",
       "      <td>102</td>\n",
       "      <td>54</td>\n",
       "      <td>103</td>\n",
       "      <td>172</td>\n",
       "      <td>191</td>\n",
       "      <td>998</td>\n",
       "      <td>Patrick Ewing</td>\n",
       "    </tr>\n",
       "    <tr>\n",
       "      <th>4</th>\n",
       "      <td>77142</td>\n",
       "      <td>1979-80</td>\n",
       "      <td>00</td>\n",
       "      <td>1610612747</td>\n",
       "      <td>LAL</td>\n",
       "      <td>20.0</td>\n",
       "      <td>77</td>\n",
       "      <td>72</td>\n",
       "      <td>2795</td>\n",
       "      <td>503</td>\n",
       "      <td>...</td>\n",
       "      <td>166</td>\n",
       "      <td>430</td>\n",
       "      <td>596</td>\n",
       "      <td>563</td>\n",
       "      <td>187</td>\n",
       "      <td>41</td>\n",
       "      <td>305</td>\n",
       "      <td>218</td>\n",
       "      <td>1387</td>\n",
       "      <td>Magic Johnson</td>\n",
       "    </tr>\n",
       "    <tr>\n",
       "      <th>5</th>\n",
       "      <td>893</td>\n",
       "      <td>1984-85</td>\n",
       "      <td>00</td>\n",
       "      <td>1610612741</td>\n",
       "      <td>CHI</td>\n",
       "      <td>22.0</td>\n",
       "      <td>82</td>\n",
       "      <td>82</td>\n",
       "      <td>3144</td>\n",
       "      <td>837</td>\n",
       "      <td>...</td>\n",
       "      <td>167</td>\n",
       "      <td>367</td>\n",
       "      <td>534</td>\n",
       "      <td>481</td>\n",
       "      <td>196</td>\n",
       "      <td>69</td>\n",
       "      <td>291</td>\n",
       "      <td>285</td>\n",
       "      <td>2313</td>\n",
       "      <td>Michael Jordan</td>\n",
       "    </tr>\n",
       "    <tr>\n",
       "      <th>6</th>\n",
       "      <td>363</td>\n",
       "      <td>1992-93</td>\n",
       "      <td>00</td>\n",
       "      <td>1610612750</td>\n",
       "      <td>MIN</td>\n",
       "      <td>23.0</td>\n",
       "      <td>81</td>\n",
       "      <td>81</td>\n",
       "      <td>2823</td>\n",
       "      <td>503</td>\n",
       "      <td>...</td>\n",
       "      <td>171</td>\n",
       "      <td>537</td>\n",
       "      <td>708</td>\n",
       "      <td>223</td>\n",
       "      <td>105</td>\n",
       "      <td>83</td>\n",
       "      <td>275</td>\n",
       "      <td>290</td>\n",
       "      <td>1472</td>\n",
       "      <td>Christian Laettner</td>\n",
       "    </tr>\n",
       "    <tr>\n",
       "      <th>7</th>\n",
       "      <td>252</td>\n",
       "      <td>1985-86</td>\n",
       "      <td>00</td>\n",
       "      <td>1610612762</td>\n",
       "      <td>UTH</td>\n",
       "      <td>22.0</td>\n",
       "      <td>81</td>\n",
       "      <td>76</td>\n",
       "      <td>2475</td>\n",
       "      <td>504</td>\n",
       "      <td>...</td>\n",
       "      <td>174</td>\n",
       "      <td>544</td>\n",
       "      <td>718</td>\n",
       "      <td>236</td>\n",
       "      <td>105</td>\n",
       "      <td>44</td>\n",
       "      <td>279</td>\n",
       "      <td>295</td>\n",
       "      <td>1203</td>\n",
       "      <td>Karl Malone</td>\n",
       "    </tr>\n",
       "    <tr>\n",
       "      <th>8</th>\n",
       "      <td>904</td>\n",
       "      <td>1985-86</td>\n",
       "      <td>00</td>\n",
       "      <td>1610612744</td>\n",
       "      <td>GOS</td>\n",
       "      <td>22.0</td>\n",
       "      <td>55</td>\n",
       "      <td>30</td>\n",
       "      <td>1391</td>\n",
       "      <td>287</td>\n",
       "      <td>...</td>\n",
       "      <td>42</td>\n",
       "      <td>73</td>\n",
       "      <td>115</td>\n",
       "      <td>105</td>\n",
       "      <td>70</td>\n",
       "      <td>23</td>\n",
       "      <td>75</td>\n",
       "      <td>130</td>\n",
       "      <td>768</td>\n",
       "      <td>Chris Mullin</td>\n",
       "    </tr>\n",
       "    <tr>\n",
       "      <th>9</th>\n",
       "      <td>937</td>\n",
       "      <td>1987-88</td>\n",
       "      <td>00</td>\n",
       "      <td>1610612741</td>\n",
       "      <td>CHI</td>\n",
       "      <td>22.0</td>\n",
       "      <td>79</td>\n",
       "      <td>0</td>\n",
       "      <td>1650</td>\n",
       "      <td>261</td>\n",
       "      <td>...</td>\n",
       "      <td>115</td>\n",
       "      <td>183</td>\n",
       "      <td>298</td>\n",
       "      <td>169</td>\n",
       "      <td>91</td>\n",
       "      <td>52</td>\n",
       "      <td>131</td>\n",
       "      <td>214</td>\n",
       "      <td>625</td>\n",
       "      <td>Scottie Pippen</td>\n",
       "    </tr>\n",
       "    <tr>\n",
       "      <th>10</th>\n",
       "      <td>764</td>\n",
       "      <td>1989-90</td>\n",
       "      <td>00</td>\n",
       "      <td>1610612759</td>\n",
       "      <td>SAN</td>\n",
       "      <td>24.0</td>\n",
       "      <td>82</td>\n",
       "      <td>81</td>\n",
       "      <td>3002</td>\n",
       "      <td>690</td>\n",
       "      <td>...</td>\n",
       "      <td>303</td>\n",
       "      <td>680</td>\n",
       "      <td>983</td>\n",
       "      <td>164</td>\n",
       "      <td>138</td>\n",
       "      <td>319</td>\n",
       "      <td>257</td>\n",
       "      <td>259</td>\n",
       "      <td>1993</td>\n",
       "      <td>David Robinson</td>\n",
       "    </tr>\n",
       "    <tr>\n",
       "      <th>11</th>\n",
       "      <td>304</td>\n",
       "      <td>1984-85</td>\n",
       "      <td>00</td>\n",
       "      <td>1610612762</td>\n",
       "      <td>UTH</td>\n",
       "      <td>23.0</td>\n",
       "      <td>82</td>\n",
       "      <td>5</td>\n",
       "      <td>1490</td>\n",
       "      <td>157</td>\n",
       "      <td>...</td>\n",
       "      <td>26</td>\n",
       "      <td>79</td>\n",
       "      <td>105</td>\n",
       "      <td>415</td>\n",
       "      <td>109</td>\n",
       "      <td>11</td>\n",
       "      <td>150</td>\n",
       "      <td>203</td>\n",
       "      <td>458</td>\n",
       "      <td>John Stockton</td>\n",
       "    </tr>\n",
       "  </tbody>\n",
       "</table>\n",
       "<p>12 rows × 28 columns</p>\n",
       "</div>"
      ],
      "text/plain": [
       "    PLAYER_ID SEASON_ID LEAGUE_ID     TEAM_ID TEAM_ABBREVIATION  PLAYER_AGE  \\\n",
       "0         787   1984-85        00  1610612755               PHL        22.0   \n",
       "1        1449   1979-80        00  1610612738               BOS        23.0   \n",
       "2          17   1983-84        00  1610612757               POR        22.0   \n",
       "3         121   1985-86        00  1610612752               NYK        23.0   \n",
       "4       77142   1979-80        00  1610612747               LAL        20.0   \n",
       "5         893   1984-85        00  1610612741               CHI        22.0   \n",
       "6         363   1992-93        00  1610612750               MIN        23.0   \n",
       "7         252   1985-86        00  1610612762               UTH        22.0   \n",
       "8         904   1985-86        00  1610612744               GOS        22.0   \n",
       "9         937   1987-88        00  1610612741               CHI        22.0   \n",
       "10        764   1989-90        00  1610612759               SAN        24.0   \n",
       "11        304   1984-85        00  1610612762               UTH        23.0   \n",
       "\n",
       "    GP  GS   MIN  FGM  ...  OREB  DREB  REB  AST  STL  BLK  TOV   PF   PTS  \\\n",
       "0   82  60  2347  427  ...   266   437  703  155   95   80  209  301  1148   \n",
       "1   82  82  2955  693  ...   216   636  852  370  143   53  263  279  1745   \n",
       "2   82   3  1408  252  ...   112   123  235  153  107   29  123  209   628   \n",
       "3   50  50  1771  386  ...   124   327  451  102   54  103  172  191   998   \n",
       "4   77  72  2795  503  ...   166   430  596  563  187   41  305  218  1387   \n",
       "5   82  82  3144  837  ...   167   367  534  481  196   69  291  285  2313   \n",
       "6   81  81  2823  503  ...   171   537  708  223  105   83  275  290  1472   \n",
       "7   81  76  2475  504  ...   174   544  718  236  105   44  279  295  1203   \n",
       "8   55  30  1391  287  ...    42    73  115  105   70   23   75  130   768   \n",
       "9   79   0  1650  261  ...   115   183  298  169   91   52  131  214   625   \n",
       "10  82  81  3002  690  ...   303   680  983  164  138  319  257  259  1993   \n",
       "11  82   5  1490  157  ...    26    79  105  415  109   11  150  203   458   \n",
       "\n",
       "                  Name  \n",
       "0      Charles Barkley  \n",
       "1           Larry Bird  \n",
       "2        Clyde Drexler  \n",
       "3        Patrick Ewing  \n",
       "4        Magic Johnson  \n",
       "5       Michael Jordan  \n",
       "6   Christian Laettner  \n",
       "7          Karl Malone  \n",
       "8         Chris Mullin  \n",
       "9       Scottie Pippen  \n",
       "10      David Robinson  \n",
       "11       John Stockton  \n",
       "\n",
       "[12 rows x 28 columns]"
      ]
     },
     "execution_count": 83,
     "metadata": {},
     "output_type": "execute_result"
    },
    {
     "name": "stdout",
     "output_type": "stream",
     "text": [
      "<class 'pandas.core.frame.DataFrame'>\n",
      "RangeIndex: 12 entries, 0 to 11\n",
      "Data columns (total 28 columns):\n",
      " #   Column             Non-Null Count  Dtype  \n",
      "---  ------             --------------  -----  \n",
      " 0   PLAYER_ID          12 non-null     int64  \n",
      " 1   SEASON_ID          12 non-null     object \n",
      " 2   LEAGUE_ID          12 non-null     object \n",
      " 3   TEAM_ID            12 non-null     int64  \n",
      " 4   TEAM_ABBREVIATION  12 non-null     object \n",
      " 5   PLAYER_AGE         12 non-null     float64\n",
      " 6   GP                 12 non-null     int64  \n",
      " 7   GS                 12 non-null     int64  \n",
      " 8   MIN                12 non-null     int64  \n",
      " 9   FGM                12 non-null     int64  \n",
      " 10  FGA                12 non-null     int64  \n",
      " 11  FG_PCT             12 non-null     float64\n",
      " 12  FG3M               12 non-null     int64  \n",
      " 13  FG3A               12 non-null     int64  \n",
      " 14  FG3_PCT            12 non-null     float64\n",
      " 15  FTM                12 non-null     int64  \n",
      " 16  FTA                12 non-null     int64  \n",
      " 17  FT_PCT             12 non-null     float64\n",
      " 18  OREB               12 non-null     int64  \n",
      " 19  DREB               12 non-null     int64  \n",
      " 20  REB                12 non-null     int64  \n",
      " 21  AST                12 non-null     int64  \n",
      " 22  STL                12 non-null     int64  \n",
      " 23  BLK                12 non-null     int64  \n",
      " 24  TOV                12 non-null     int64  \n",
      " 25  PF                 12 non-null     int64  \n",
      " 26  PTS                12 non-null     int64  \n",
      " 27  Name               12 non-null     object \n",
      "dtypes: float64(4), int64(20), object(4)\n",
      "memory usage: 2.8+ KB\n"
     ]
    }
   ],
   "source": [
    "#look at rookie dataframe\n",
    "rookie\n",
    "rookie.info()"
   ]
  },
  {
   "cell_type": "code",
   "execution_count": null,
   "id": "8497d54a",
   "metadata": {},
   "outputs": [],
   "source": [
    "#map of teams played for during rookie seasons\n",
    "#create variables for dataframe to prep for mapping rookie teams and cities\n",
    "Name=[]\n",
    "Team_Abbreviation=[]\n",
    "Team_Name=[]\n",
    "City=[]\n",
    "State=[]\n",
    "for x in roster:\n",
    "    test_series=df_all['TEAM_ABBREVIATION'][df_all['Name']==x].value_counts()\n",
    "    test_list=list(test_series.index[0])\n",
    "    for y in test_list:\n",
    "        Name.append(x)\n",
    "        Team_Abbreviation.append(y)\n",
    "        a=teams.find_team_by_abbreviation(y)\n",
    "        if a is None:\n",
    "            Team_Name.append(np.nan)\n",
    "            City.append(np.nan)\n",
    "            State.append(np.nan)\n",
    "        else:\n",
    "            Team_Name.append(a['full_name'])\n",
    "            City.append(a['city'])\n",
    "            State.append(a['state']) "
   ]
  },
  {
   "cell_type": "code",
   "execution_count": 97,
   "id": "b18cd5b8",
   "metadata": {},
   "outputs": [
    {
     "data": {
      "text/html": [
       "<div>\n",
       "<style scoped>\n",
       "    .dataframe tbody tr th:only-of-type {\n",
       "        vertical-align: middle;\n",
       "    }\n",
       "\n",
       "    .dataframe tbody tr th {\n",
       "        vertical-align: top;\n",
       "    }\n",
       "\n",
       "    .dataframe thead th {\n",
       "        text-align: right;\n",
       "    }\n",
       "</style>\n",
       "<table border=\"1\" class=\"dataframe\">\n",
       "  <thead>\n",
       "    <tr style=\"text-align: right;\">\n",
       "      <th></th>\n",
       "      <th>Name</th>\n",
       "      <th>Team_Abbreviation</th>\n",
       "      <th>Team_Name</th>\n",
       "      <th>City</th>\n",
       "      <th>State</th>\n",
       "    </tr>\n",
       "  </thead>\n",
       "  <tbody>\n",
       "    <tr>\n",
       "      <th>0</th>\n",
       "      <td>Charles Barkley</td>\n",
       "      <td>PHL</td>\n",
       "      <td>NaN</td>\n",
       "      <td>NaN</td>\n",
       "      <td>NaN</td>\n",
       "    </tr>\n",
       "    <tr>\n",
       "      <th>1</th>\n",
       "      <td>Larry Bird</td>\n",
       "      <td>BOS</td>\n",
       "      <td>Boston Celtics</td>\n",
       "      <td>Boston</td>\n",
       "      <td>Massachusetts</td>\n",
       "    </tr>\n",
       "    <tr>\n",
       "      <th>2</th>\n",
       "      <td>Clyde Drexler</td>\n",
       "      <td>POR</td>\n",
       "      <td>Portland Trail Blazers</td>\n",
       "      <td>Portland</td>\n",
       "      <td>Oregon</td>\n",
       "    </tr>\n",
       "    <tr>\n",
       "      <th>3</th>\n",
       "      <td>Patrick Ewing</td>\n",
       "      <td>NYK</td>\n",
       "      <td>New York Knicks</td>\n",
       "      <td>New York</td>\n",
       "      <td>New York</td>\n",
       "    </tr>\n",
       "    <tr>\n",
       "      <th>4</th>\n",
       "      <td>Magic Johnson</td>\n",
       "      <td>LAL</td>\n",
       "      <td>Los Angeles Lakers</td>\n",
       "      <td>Los Angeles</td>\n",
       "      <td>California</td>\n",
       "    </tr>\n",
       "    <tr>\n",
       "      <th>5</th>\n",
       "      <td>Michael Jordan</td>\n",
       "      <td>CHI</td>\n",
       "      <td>Chicago Bulls</td>\n",
       "      <td>Chicago</td>\n",
       "      <td>Illinois</td>\n",
       "    </tr>\n",
       "    <tr>\n",
       "      <th>6</th>\n",
       "      <td>Christian Laettner</td>\n",
       "      <td>MIN</td>\n",
       "      <td>Minnesota Timberwolves</td>\n",
       "      <td>Minnesota</td>\n",
       "      <td>Minnesota</td>\n",
       "    </tr>\n",
       "    <tr>\n",
       "      <th>7</th>\n",
       "      <td>Karl Malone</td>\n",
       "      <td>UTH</td>\n",
       "      <td>NaN</td>\n",
       "      <td>NaN</td>\n",
       "      <td>NaN</td>\n",
       "    </tr>\n",
       "    <tr>\n",
       "      <th>8</th>\n",
       "      <td>Chris Mullin</td>\n",
       "      <td>GOS</td>\n",
       "      <td>NaN</td>\n",
       "      <td>NaN</td>\n",
       "      <td>NaN</td>\n",
       "    </tr>\n",
       "    <tr>\n",
       "      <th>9</th>\n",
       "      <td>Scottie Pippen</td>\n",
       "      <td>CHI</td>\n",
       "      <td>Chicago Bulls</td>\n",
       "      <td>Chicago</td>\n",
       "      <td>Illinois</td>\n",
       "    </tr>\n",
       "    <tr>\n",
       "      <th>10</th>\n",
       "      <td>David Robinson</td>\n",
       "      <td>SAN</td>\n",
       "      <td>NaN</td>\n",
       "      <td>NaN</td>\n",
       "      <td>NaN</td>\n",
       "    </tr>\n",
       "    <tr>\n",
       "      <th>11</th>\n",
       "      <td>John Stockton</td>\n",
       "      <td>UTH</td>\n",
       "      <td>NaN</td>\n",
       "      <td>NaN</td>\n",
       "      <td>NaN</td>\n",
       "    </tr>\n",
       "  </tbody>\n",
       "</table>\n",
       "</div>"
      ],
      "text/plain": [
       "                  Name Team_Abbreviation               Team_Name         City  \\\n",
       "0      Charles Barkley               PHL                     NaN          NaN   \n",
       "1           Larry Bird               BOS          Boston Celtics       Boston   \n",
       "2        Clyde Drexler               POR  Portland Trail Blazers     Portland   \n",
       "3        Patrick Ewing               NYK         New York Knicks     New York   \n",
       "4        Magic Johnson               LAL      Los Angeles Lakers  Los Angeles   \n",
       "5       Michael Jordan               CHI           Chicago Bulls      Chicago   \n",
       "6   Christian Laettner               MIN  Minnesota Timberwolves    Minnesota   \n",
       "7          Karl Malone               UTH                     NaN          NaN   \n",
       "8         Chris Mullin               GOS                     NaN          NaN   \n",
       "9       Scottie Pippen               CHI           Chicago Bulls      Chicago   \n",
       "10      David Robinson               SAN                     NaN          NaN   \n",
       "11       John Stockton               UTH                     NaN          NaN   \n",
       "\n",
       "            State  \n",
       "0             NaN  \n",
       "1   Massachusetts  \n",
       "2          Oregon  \n",
       "3        New York  \n",
       "4      California  \n",
       "5        Illinois  \n",
       "6       Minnesota  \n",
       "7             NaN  \n",
       "8             NaN  \n",
       "9        Illinois  \n",
       "10            NaN  \n",
       "11            NaN  "
      ]
     },
     "execution_count": 97,
     "metadata": {},
     "output_type": "execute_result"
    }
   ],
   "source": [
    "#create dataframe from lists\n",
    "rookie_mapdata=pd.DataFrame({'Name': Name,\n",
    "                      'Team_Abbreviation':Team_Abbreviation,\n",
    "                      'Team_Name': Team_Name,\n",
    "                      'City': City,\n",
    "                      'State':State})\n",
    "rookie_mapdata"
   ]
  },
  {
   "cell_type": "code",
   "execution_count": null,
   "id": "015f6100",
   "metadata": {},
   "outputs": [
    {
     "data": {
      "text/html": [
       "<div>\n",
       "<style scoped>\n",
       "    .dataframe tbody tr th:only-of-type {\n",
       "        vertical-align: middle;\n",
       "    }\n",
       "\n",
       "    .dataframe tbody tr th {\n",
       "        vertical-align: top;\n",
       "    }\n",
       "\n",
       "    .dataframe thead th {\n",
       "        text-align: right;\n",
       "    }\n",
       "</style>\n",
       "<table border=\"1\" class=\"dataframe\">\n",
       "  <thead>\n",
       "    <tr style=\"text-align: right;\">\n",
       "      <th></th>\n",
       "      <th>Name</th>\n",
       "      <th>Team_Abbreviation</th>\n",
       "      <th>Team_Name</th>\n",
       "      <th>City</th>\n",
       "      <th>State</th>\n",
       "    </tr>\n",
       "  </thead>\n",
       "  <tbody>\n",
       "    <tr>\n",
       "      <th>0</th>\n",
       "      <td>Charles Barkley</td>\n",
       "      <td>PHL</td>\n",
       "      <td>Philadelphia 76ers</td>\n",
       "      <td>Philadelphia</td>\n",
       "      <td>Pennsylvania</td>\n",
       "    </tr>\n",
       "    <tr>\n",
       "      <th>1</th>\n",
       "      <td>Larry Bird</td>\n",
       "      <td>BOS</td>\n",
       "      <td>Boston Celtics</td>\n",
       "      <td>Boston</td>\n",
       "      <td>Massachusetts</td>\n",
       "    </tr>\n",
       "    <tr>\n",
       "      <th>2</th>\n",
       "      <td>Clyde Drexler</td>\n",
       "      <td>POR</td>\n",
       "      <td>Portland Trail Blazers</td>\n",
       "      <td>Portland</td>\n",
       "      <td>Oregon</td>\n",
       "    </tr>\n",
       "    <tr>\n",
       "      <th>3</th>\n",
       "      <td>Patrick Ewing</td>\n",
       "      <td>NYK</td>\n",
       "      <td>New York Knicks</td>\n",
       "      <td>New York</td>\n",
       "      <td>New York</td>\n",
       "    </tr>\n",
       "    <tr>\n",
       "      <th>4</th>\n",
       "      <td>Magic Johnson</td>\n",
       "      <td>LAL</td>\n",
       "      <td>Los Angeles Lakers</td>\n",
       "      <td>Los Angeles</td>\n",
       "      <td>California</td>\n",
       "    </tr>\n",
       "    <tr>\n",
       "      <th>5</th>\n",
       "      <td>Michael Jordan</td>\n",
       "      <td>CHI</td>\n",
       "      <td>Chicago Bulls</td>\n",
       "      <td>Chicago</td>\n",
       "      <td>Illinois</td>\n",
       "    </tr>\n",
       "    <tr>\n",
       "      <th>6</th>\n",
       "      <td>Christian Laettner</td>\n",
       "      <td>MIN</td>\n",
       "      <td>Minnesota Timberwolves</td>\n",
       "      <td>Minneapolis</td>\n",
       "      <td>Minnesota</td>\n",
       "    </tr>\n",
       "    <tr>\n",
       "      <th>7</th>\n",
       "      <td>Karl Malone</td>\n",
       "      <td>UTH</td>\n",
       "      <td>Utah Jazz</td>\n",
       "      <td>Salt Lake City</td>\n",
       "      <td>Utah</td>\n",
       "    </tr>\n",
       "    <tr>\n",
       "      <th>8</th>\n",
       "      <td>Chris Mullin</td>\n",
       "      <td>GOS</td>\n",
       "      <td>Golden State Warriors</td>\n",
       "      <td>San Francisco</td>\n",
       "      <td>California</td>\n",
       "    </tr>\n",
       "    <tr>\n",
       "      <th>9</th>\n",
       "      <td>Scottie Pippen</td>\n",
       "      <td>CHI</td>\n",
       "      <td>Chicago Bulls</td>\n",
       "      <td>Chicago</td>\n",
       "      <td>Illinois</td>\n",
       "    </tr>\n",
       "    <tr>\n",
       "      <th>10</th>\n",
       "      <td>David Robinson</td>\n",
       "      <td>SAN</td>\n",
       "      <td>San Antonio Spurs</td>\n",
       "      <td>San Antonio</td>\n",
       "      <td>Texas</td>\n",
       "    </tr>\n",
       "    <tr>\n",
       "      <th>11</th>\n",
       "      <td>John Stockton</td>\n",
       "      <td>UTH</td>\n",
       "      <td>Utah Jazz</td>\n",
       "      <td>Salt Lake City</td>\n",
       "      <td>Utah</td>\n",
       "    </tr>\n",
       "  </tbody>\n",
       "</table>\n",
       "</div>"
      ],
      "text/plain": [
       "                  Name Team_Abbreviation               Team_Name  \\\n",
       "0      Charles Barkley               PHL      Philadelphia 76ers   \n",
       "1           Larry Bird               BOS          Boston Celtics   \n",
       "2        Clyde Drexler               POR  Portland Trail Blazers   \n",
       "3        Patrick Ewing               NYK         New York Knicks   \n",
       "4        Magic Johnson               LAL      Los Angeles Lakers   \n",
       "5       Michael Jordan               CHI           Chicago Bulls   \n",
       "6   Christian Laettner               MIN  Minnesota Timberwolves   \n",
       "7          Karl Malone               UTH               Utah Jazz   \n",
       "8         Chris Mullin               GOS   Golden State Warriors   \n",
       "9       Scottie Pippen               CHI           Chicago Bulls   \n",
       "10      David Robinson               SAN       San Antonio Spurs   \n",
       "11       John Stockton               UTH               Utah Jazz   \n",
       "\n",
       "              City          State  \n",
       "0     Philadelphia   Pennsylvania  \n",
       "1           Boston  Massachusetts  \n",
       "2         Portland         Oregon  \n",
       "3         New York       New York  \n",
       "4      Los Angeles     California  \n",
       "5          Chicago       Illinois  \n",
       "6      Minneapolis      Minnesota  \n",
       "7   Salt Lake City           Utah  \n",
       "8    San Francisco     California  \n",
       "9          Chicago       Illinois  \n",
       "10     San Antonio          Texas  \n",
       "11  Salt Lake City           Utah  "
      ]
     },
     "execution_count": 98,
     "metadata": {},
     "output_type": "execute_result"
    }
   ],
   "source": [
    "#fill in missing data and incorrect data\n",
    "condition=rookie_mapdata['Team_Abbreviation'] == 'PHL'\n",
    "columns_to_modify=['Team_Name', 'City', 'State']\n",
    "rookie_mapdata.loc[condition, columns_to_modify] = ['Philadelphia 76ers', 'Philadelphia', 'Pennsylvania']\n",
    "\n",
    "condition=rookie_mapdata['Team_Abbreviation'] == 'MIN'\n",
    "columns_to_modify=['Team_Name', 'City', 'State']\n",
    "rookie_mapdata.loc[condition, columns_to_modify] = ['Minnesota Timberwolves', 'Minneapolis', 'Minnesota'] \n",
    "\n",
    "condition=rookie_mapdata['Team_Abbreviation'] == 'UTH' \n",
    "columns_to_modify=['Team_Name', 'City', 'State']\n",
    "rookie_mapdata.loc[condition, columns_to_modify] = ['Utah Jazz', 'Salt Lake City', 'Utah'] \n",
    "\n",
    "condition=rookie_mapdata['Team_Abbreviation'] == 'GOS' \n",
    "columns_to_modify=['Team_Name', 'City', 'State']\n",
    "rookie_mapdata.loc[condition, columns_to_modify] = ['Golden State Warriors', 'San Francisco', 'California']\n",
    "\n",
    "condition=rookie_mapdata['Team_Abbreviation'] == 'SAN' \n",
    "columns_to_modify=['Team_Name', 'City', 'State']\n",
    "rookie_mapdata.loc[condition, columns_to_modify] = ['San Antonio Spurs', 'San Antonio', 'Texas']\n",
    "\n",
    "rookie_mapdata"
   ]
  },
  {
   "cell_type": "code",
   "execution_count": 99,
   "id": "418a44d5",
   "metadata": {},
   "outputs": [
    {
     "data": {
      "text/html": [
       "<div>\n",
       "<style scoped>\n",
       "    .dataframe tbody tr th:only-of-type {\n",
       "        vertical-align: middle;\n",
       "    }\n",
       "\n",
       "    .dataframe tbody tr th {\n",
       "        vertical-align: top;\n",
       "    }\n",
       "\n",
       "    .dataframe thead th {\n",
       "        text-align: right;\n",
       "    }\n",
       "</style>\n",
       "<table border=\"1\" class=\"dataframe\">\n",
       "  <thead>\n",
       "    <tr style=\"text-align: right;\">\n",
       "      <th></th>\n",
       "      <th>Name</th>\n",
       "      <th>Team_Abbreviation</th>\n",
       "      <th>Team_Name</th>\n",
       "      <th>City</th>\n",
       "      <th>State</th>\n",
       "      <th>City_State</th>\n",
       "    </tr>\n",
       "  </thead>\n",
       "  <tbody>\n",
       "    <tr>\n",
       "      <th>0</th>\n",
       "      <td>Charles Barkley</td>\n",
       "      <td>PHL</td>\n",
       "      <td>Philadelphia 76ers</td>\n",
       "      <td>Philadelphia</td>\n",
       "      <td>Pennsylvania</td>\n",
       "      <td>Philadelphia, Pennsylvania</td>\n",
       "    </tr>\n",
       "    <tr>\n",
       "      <th>1</th>\n",
       "      <td>Larry Bird</td>\n",
       "      <td>BOS</td>\n",
       "      <td>Boston Celtics</td>\n",
       "      <td>Boston</td>\n",
       "      <td>Massachusetts</td>\n",
       "      <td>Boston, Massachusetts</td>\n",
       "    </tr>\n",
       "    <tr>\n",
       "      <th>2</th>\n",
       "      <td>Clyde Drexler</td>\n",
       "      <td>POR</td>\n",
       "      <td>Portland Trail Blazers</td>\n",
       "      <td>Portland</td>\n",
       "      <td>Oregon</td>\n",
       "      <td>Portland, Oregon</td>\n",
       "    </tr>\n",
       "    <tr>\n",
       "      <th>3</th>\n",
       "      <td>Patrick Ewing</td>\n",
       "      <td>NYK</td>\n",
       "      <td>New York Knicks</td>\n",
       "      <td>New York</td>\n",
       "      <td>New York</td>\n",
       "      <td>New York, New York</td>\n",
       "    </tr>\n",
       "    <tr>\n",
       "      <th>4</th>\n",
       "      <td>Magic Johnson</td>\n",
       "      <td>LAL</td>\n",
       "      <td>Los Angeles Lakers</td>\n",
       "      <td>Los Angeles</td>\n",
       "      <td>California</td>\n",
       "      <td>Los Angeles, California</td>\n",
       "    </tr>\n",
       "    <tr>\n",
       "      <th>5</th>\n",
       "      <td>Michael Jordan</td>\n",
       "      <td>CHI</td>\n",
       "      <td>Chicago Bulls</td>\n",
       "      <td>Chicago</td>\n",
       "      <td>Illinois</td>\n",
       "      <td>Chicago, Illinois</td>\n",
       "    </tr>\n",
       "    <tr>\n",
       "      <th>6</th>\n",
       "      <td>Christian Laettner</td>\n",
       "      <td>MIN</td>\n",
       "      <td>Minnesota Timberwolves</td>\n",
       "      <td>Minneapolis</td>\n",
       "      <td>Minnesota</td>\n",
       "      <td>Minneapolis, Minnesota</td>\n",
       "    </tr>\n",
       "    <tr>\n",
       "      <th>7</th>\n",
       "      <td>Karl Malone</td>\n",
       "      <td>UTH</td>\n",
       "      <td>Utah Jazz</td>\n",
       "      <td>Salt Lake City</td>\n",
       "      <td>Utah</td>\n",
       "      <td>Salt Lake City, Utah</td>\n",
       "    </tr>\n",
       "    <tr>\n",
       "      <th>8</th>\n",
       "      <td>Chris Mullin</td>\n",
       "      <td>GOS</td>\n",
       "      <td>Golden State Warriors</td>\n",
       "      <td>San Francisco</td>\n",
       "      <td>California</td>\n",
       "      <td>San Francisco, California</td>\n",
       "    </tr>\n",
       "    <tr>\n",
       "      <th>9</th>\n",
       "      <td>Scottie Pippen</td>\n",
       "      <td>CHI</td>\n",
       "      <td>Chicago Bulls</td>\n",
       "      <td>Chicago</td>\n",
       "      <td>Illinois</td>\n",
       "      <td>Chicago, Illinois</td>\n",
       "    </tr>\n",
       "    <tr>\n",
       "      <th>10</th>\n",
       "      <td>David Robinson</td>\n",
       "      <td>SAN</td>\n",
       "      <td>San Antonio Spurs</td>\n",
       "      <td>San Antonio</td>\n",
       "      <td>Texas</td>\n",
       "      <td>San Antonio, Texas</td>\n",
       "    </tr>\n",
       "    <tr>\n",
       "      <th>11</th>\n",
       "      <td>John Stockton</td>\n",
       "      <td>UTH</td>\n",
       "      <td>Utah Jazz</td>\n",
       "      <td>Salt Lake City</td>\n",
       "      <td>Utah</td>\n",
       "      <td>Salt Lake City, Utah</td>\n",
       "    </tr>\n",
       "  </tbody>\n",
       "</table>\n",
       "</div>"
      ],
      "text/plain": [
       "                  Name Team_Abbreviation               Team_Name  \\\n",
       "0      Charles Barkley               PHL      Philadelphia 76ers   \n",
       "1           Larry Bird               BOS          Boston Celtics   \n",
       "2        Clyde Drexler               POR  Portland Trail Blazers   \n",
       "3        Patrick Ewing               NYK         New York Knicks   \n",
       "4        Magic Johnson               LAL      Los Angeles Lakers   \n",
       "5       Michael Jordan               CHI           Chicago Bulls   \n",
       "6   Christian Laettner               MIN  Minnesota Timberwolves   \n",
       "7          Karl Malone               UTH               Utah Jazz   \n",
       "8         Chris Mullin               GOS   Golden State Warriors   \n",
       "9       Scottie Pippen               CHI           Chicago Bulls   \n",
       "10      David Robinson               SAN       San Antonio Spurs   \n",
       "11       John Stockton               UTH               Utah Jazz   \n",
       "\n",
       "              City          State                  City_State  \n",
       "0     Philadelphia   Pennsylvania  Philadelphia, Pennsylvania  \n",
       "1           Boston  Massachusetts       Boston, Massachusetts  \n",
       "2         Portland         Oregon            Portland, Oregon  \n",
       "3         New York       New York          New York, New York  \n",
       "4      Los Angeles     California     Los Angeles, California  \n",
       "5          Chicago       Illinois           Chicago, Illinois  \n",
       "6      Minneapolis      Minnesota      Minneapolis, Minnesota  \n",
       "7   Salt Lake City           Utah        Salt Lake City, Utah  \n",
       "8    San Francisco     California   San Francisco, California  \n",
       "9          Chicago       Illinois           Chicago, Illinois  \n",
       "10     San Antonio          Texas          San Antonio, Texas  \n",
       "11  Salt Lake City           Utah        Salt Lake City, Utah  "
      ]
     },
     "execution_count": 99,
     "metadata": {},
     "output_type": "execute_result"
    }
   ],
   "source": [
    "#create single column for City and State combined\n",
    "City_State=[]\n",
    "for index, row in rookie_mapdata[['City', 'State']].iterrows():\n",
    "    City_State.append(row['City'] + \", \" + row['State'])\n",
    "City_State=pd.DataFrame(City_State)\n",
    "#append 2 dataframes\n",
    "rookie_mapdata=pd.concat([rookie_mapdata,City_State], axis=1)\n",
    "#rename new column\n",
    "rookie_mapdata=rookie_mapdata.rename(columns={0:'City_State'})\n",
    "#check data\n",
    "rookie_mapdata"
   ]
  },
  {
   "cell_type": "code",
   "execution_count": 100,
   "id": "a3760ed2",
   "metadata": {},
   "outputs": [],
   "source": [
    "#getting coordinates for scattermap\n",
    "#create lists for longitude and latitude coordinates\n",
    "Longitude=[]\n",
    "Latitude=[]\n",
    "#geocoding to put coordinates into lists\n",
    "geo=Nominatim(user_agent = \"nba_map\")\n",
    "for x in rookie_mapdata['City_State']:\n",
    "\tl1 = geo.geocode(x, timeout=None)\n",
    "\tLatitude.append(l1.latitude)\n",
    "\tLongitude.append(l1.longitude)"
   ]
  },
  {
   "cell_type": "code",
   "execution_count": 101,
   "id": "ef299c57",
   "metadata": {},
   "outputs": [
    {
     "data": {
      "text/plain": [
       "[-75.1635262,\n",
       " -71.060511,\n",
       " -122.674194,\n",
       " -74.0060152,\n",
       " -118.242766,\n",
       " -87.6244212,\n",
       " -93.2654692,\n",
       " -111.886797,\n",
       " -122.4193286,\n",
       " -87.6244212,\n",
       " -98.4951405,\n",
       " -111.886797]"
      ]
     },
     "execution_count": 101,
     "metadata": {},
     "output_type": "execute_result"
    },
    {
     "data": {
      "text/plain": [
       "[39.9527237,\n",
       " 42.3554334,\n",
       " 45.5202471,\n",
       " 40.7127281,\n",
       " 34.0536909,\n",
       " 41.8755616,\n",
       " 44.9772995,\n",
       " 40.7596198,\n",
       " 37.7792588,\n",
       " 41.8755616,\n",
       " 29.4246002,\n",
       " 40.7596198]"
      ]
     },
     "execution_count": 101,
     "metadata": {},
     "output_type": "execute_result"
    }
   ],
   "source": [
    "#look at lists\n",
    "Longitude\n",
    "Latitude"
   ]
  },
  {
   "cell_type": "code",
   "execution_count": 102,
   "id": "2b4f8a29",
   "metadata": {},
   "outputs": [
    {
     "data": {
      "text/plain": [
       "[39.95277510386749,\n",
       " 42.355467851037325,\n",
       " 45.520328107790604,\n",
       " 40.712782077997204,\n",
       " 34.05361750777415,\n",
       " 41.87551511271479,\n",
       " 44.97723017959061,\n",
       " 40.75968572482548,\n",
       " 37.7793317592269,\n",
       " 41.875603948936636,\n",
       " 29.42457358992882,\n",
       " 40.759705527187734]"
      ]
     },
     "execution_count": 102,
     "metadata": {},
     "output_type": "execute_result"
    },
    {
     "data": {
      "text/plain": [
       "[-75.16347951673333,\n",
       " -71.0605891400511,\n",
       " -122.67422519406443,\n",
       " -74.00592497371322,\n",
       " -118.24281905618936,\n",
       " -87.62445480209792,\n",
       " -93.26541697621393,\n",
       " -111.88672456437277,\n",
       " -122.41923279499736,\n",
       " -87.62437366384405,\n",
       " -98.49520267048996,\n",
       " -111.88677189725178]"
      ]
     },
     "execution_count": 102,
     "metadata": {},
     "output_type": "execute_result"
    }
   ],
   "source": [
    "#jittering with coordinates so that each player has unique coordinates\n",
    "#create jitter ammount\n",
    "jitter_amount = 0.0001\n",
    "#create new Latitude and Longitude lists\n",
    "Latitude_new=[coord + np.random.uniform(-jitter_amount, jitter_amount) for coord in Latitude]\n",
    "Longitude_new=[coord + np.random.uniform(-jitter_amount, jitter_amount) for coord in Longitude]\n",
    "#checkk new lists\n",
    "Latitude_new\n",
    "Longitude_new"
   ]
  },
  {
   "cell_type": "code",
   "execution_count": 103,
   "id": "51187959",
   "metadata": {},
   "outputs": [
    {
     "data": {
      "text/html": [
       "<div>\n",
       "<style scoped>\n",
       "    .dataframe tbody tr th:only-of-type {\n",
       "        vertical-align: middle;\n",
       "    }\n",
       "\n",
       "    .dataframe tbody tr th {\n",
       "        vertical-align: top;\n",
       "    }\n",
       "\n",
       "    .dataframe thead th {\n",
       "        text-align: right;\n",
       "    }\n",
       "</style>\n",
       "<table border=\"1\" class=\"dataframe\">\n",
       "  <thead>\n",
       "    <tr style=\"text-align: right;\">\n",
       "      <th></th>\n",
       "      <th>Name</th>\n",
       "      <th>Team_Abbreviation</th>\n",
       "      <th>Team_Name</th>\n",
       "      <th>City</th>\n",
       "      <th>State</th>\n",
       "      <th>City_State</th>\n",
       "      <th>Latitude</th>\n",
       "      <th>Longitude</th>\n",
       "    </tr>\n",
       "  </thead>\n",
       "  <tbody>\n",
       "    <tr>\n",
       "      <th>0</th>\n",
       "      <td>Charles Barkley</td>\n",
       "      <td>PHL</td>\n",
       "      <td>Philadelphia 76ers</td>\n",
       "      <td>Philadelphia</td>\n",
       "      <td>Pennsylvania</td>\n",
       "      <td>Philadelphia, Pennsylvania</td>\n",
       "      <td>39.952775</td>\n",
       "      <td>-75.163480</td>\n",
       "    </tr>\n",
       "    <tr>\n",
       "      <th>1</th>\n",
       "      <td>Larry Bird</td>\n",
       "      <td>BOS</td>\n",
       "      <td>Boston Celtics</td>\n",
       "      <td>Boston</td>\n",
       "      <td>Massachusetts</td>\n",
       "      <td>Boston, Massachusetts</td>\n",
       "      <td>42.355468</td>\n",
       "      <td>-71.060589</td>\n",
       "    </tr>\n",
       "    <tr>\n",
       "      <th>2</th>\n",
       "      <td>Clyde Drexler</td>\n",
       "      <td>POR</td>\n",
       "      <td>Portland Trail Blazers</td>\n",
       "      <td>Portland</td>\n",
       "      <td>Oregon</td>\n",
       "      <td>Portland, Oregon</td>\n",
       "      <td>45.520328</td>\n",
       "      <td>-122.674225</td>\n",
       "    </tr>\n",
       "    <tr>\n",
       "      <th>3</th>\n",
       "      <td>Patrick Ewing</td>\n",
       "      <td>NYK</td>\n",
       "      <td>New York Knicks</td>\n",
       "      <td>New York</td>\n",
       "      <td>New York</td>\n",
       "      <td>New York, New York</td>\n",
       "      <td>40.712782</td>\n",
       "      <td>-74.005925</td>\n",
       "    </tr>\n",
       "    <tr>\n",
       "      <th>4</th>\n",
       "      <td>Magic Johnson</td>\n",
       "      <td>LAL</td>\n",
       "      <td>Los Angeles Lakers</td>\n",
       "      <td>Los Angeles</td>\n",
       "      <td>California</td>\n",
       "      <td>Los Angeles, California</td>\n",
       "      <td>34.053618</td>\n",
       "      <td>-118.242819</td>\n",
       "    </tr>\n",
       "    <tr>\n",
       "      <th>5</th>\n",
       "      <td>Michael Jordan</td>\n",
       "      <td>CHI</td>\n",
       "      <td>Chicago Bulls</td>\n",
       "      <td>Chicago</td>\n",
       "      <td>Illinois</td>\n",
       "      <td>Chicago, Illinois</td>\n",
       "      <td>41.875515</td>\n",
       "      <td>-87.624455</td>\n",
       "    </tr>\n",
       "    <tr>\n",
       "      <th>6</th>\n",
       "      <td>Christian Laettner</td>\n",
       "      <td>MIN</td>\n",
       "      <td>Minnesota Timberwolves</td>\n",
       "      <td>Minneapolis</td>\n",
       "      <td>Minnesota</td>\n",
       "      <td>Minneapolis, Minnesota</td>\n",
       "      <td>44.977230</td>\n",
       "      <td>-93.265417</td>\n",
       "    </tr>\n",
       "    <tr>\n",
       "      <th>7</th>\n",
       "      <td>Karl Malone</td>\n",
       "      <td>UTH</td>\n",
       "      <td>Utah Jazz</td>\n",
       "      <td>Salt Lake City</td>\n",
       "      <td>Utah</td>\n",
       "      <td>Salt Lake City, Utah</td>\n",
       "      <td>40.759686</td>\n",
       "      <td>-111.886725</td>\n",
       "    </tr>\n",
       "    <tr>\n",
       "      <th>8</th>\n",
       "      <td>Chris Mullin</td>\n",
       "      <td>GOS</td>\n",
       "      <td>Golden State Warriors</td>\n",
       "      <td>San Francisco</td>\n",
       "      <td>California</td>\n",
       "      <td>San Francisco, California</td>\n",
       "      <td>37.779332</td>\n",
       "      <td>-122.419233</td>\n",
       "    </tr>\n",
       "    <tr>\n",
       "      <th>9</th>\n",
       "      <td>Scottie Pippen</td>\n",
       "      <td>CHI</td>\n",
       "      <td>Chicago Bulls</td>\n",
       "      <td>Chicago</td>\n",
       "      <td>Illinois</td>\n",
       "      <td>Chicago, Illinois</td>\n",
       "      <td>41.875604</td>\n",
       "      <td>-87.624374</td>\n",
       "    </tr>\n",
       "    <tr>\n",
       "      <th>10</th>\n",
       "      <td>David Robinson</td>\n",
       "      <td>SAN</td>\n",
       "      <td>San Antonio Spurs</td>\n",
       "      <td>San Antonio</td>\n",
       "      <td>Texas</td>\n",
       "      <td>San Antonio, Texas</td>\n",
       "      <td>29.424574</td>\n",
       "      <td>-98.495203</td>\n",
       "    </tr>\n",
       "    <tr>\n",
       "      <th>11</th>\n",
       "      <td>John Stockton</td>\n",
       "      <td>UTH</td>\n",
       "      <td>Utah Jazz</td>\n",
       "      <td>Salt Lake City</td>\n",
       "      <td>Utah</td>\n",
       "      <td>Salt Lake City, Utah</td>\n",
       "      <td>40.759706</td>\n",
       "      <td>-111.886772</td>\n",
       "    </tr>\n",
       "  </tbody>\n",
       "</table>\n",
       "</div>"
      ],
      "text/plain": [
       "                  Name Team_Abbreviation               Team_Name  \\\n",
       "0      Charles Barkley               PHL      Philadelphia 76ers   \n",
       "1           Larry Bird               BOS          Boston Celtics   \n",
       "2        Clyde Drexler               POR  Portland Trail Blazers   \n",
       "3        Patrick Ewing               NYK         New York Knicks   \n",
       "4        Magic Johnson               LAL      Los Angeles Lakers   \n",
       "5       Michael Jordan               CHI           Chicago Bulls   \n",
       "6   Christian Laettner               MIN  Minnesota Timberwolves   \n",
       "7          Karl Malone               UTH               Utah Jazz   \n",
       "8         Chris Mullin               GOS   Golden State Warriors   \n",
       "9       Scottie Pippen               CHI           Chicago Bulls   \n",
       "10      David Robinson               SAN       San Antonio Spurs   \n",
       "11       John Stockton               UTH               Utah Jazz   \n",
       "\n",
       "              City          State                  City_State   Latitude  \\\n",
       "0     Philadelphia   Pennsylvania  Philadelphia, Pennsylvania  39.952775   \n",
       "1           Boston  Massachusetts       Boston, Massachusetts  42.355468   \n",
       "2         Portland         Oregon            Portland, Oregon  45.520328   \n",
       "3         New York       New York          New York, New York  40.712782   \n",
       "4      Los Angeles     California     Los Angeles, California  34.053618   \n",
       "5          Chicago       Illinois           Chicago, Illinois  41.875515   \n",
       "6      Minneapolis      Minnesota      Minneapolis, Minnesota  44.977230   \n",
       "7   Salt Lake City           Utah        Salt Lake City, Utah  40.759686   \n",
       "8    San Francisco     California   San Francisco, California  37.779332   \n",
       "9          Chicago       Illinois           Chicago, Illinois  41.875604   \n",
       "10     San Antonio          Texas          San Antonio, Texas  29.424574   \n",
       "11  Salt Lake City           Utah        Salt Lake City, Utah  40.759706   \n",
       "\n",
       "     Longitude  \n",
       "0   -75.163480  \n",
       "1   -71.060589  \n",
       "2  -122.674225  \n",
       "3   -74.005925  \n",
       "4  -118.242819  \n",
       "5   -87.624455  \n",
       "6   -93.265417  \n",
       "7  -111.886725  \n",
       "8  -122.419233  \n",
       "9   -87.624374  \n",
       "10  -98.495203  \n",
       "11 -111.886772  "
      ]
     },
     "execution_count": 103,
     "metadata": {},
     "output_type": "execute_result"
    }
   ],
   "source": [
    "#add adjusted coordinates to rookie_mapdata dataframe\n",
    "#make dataframes out of coordinate lists\n",
    "Latitude=pd.DataFrame(Latitude_new)\n",
    "Longitude=pd.DataFrame(Longitude_new)\n",
    "#adding Latitude\n",
    "rookie_mapdata=pd.concat([rookie_mapdata,Latitude], axis=1).reset_index(drop=True)\n",
    "rookie_mapdata=rookie_mapdata.rename(columns={0:'Latitude'})\n",
    "#adding Longitude\n",
    "rookie_mapdata=pd.concat([rookie_mapdata,Longitude], axis=1).reset_index(drop=True)\n",
    "rookie_mapdata=rookie_mapdata.rename(columns={0:'Longitude'})\n",
    "rookie_mapdata"
   ]
  },
  {
   "cell_type": "code",
   "execution_count": 105,
   "id": "b0916ce9",
   "metadata": {},
   "outputs": [
    {
     "data": {
      "application/vnd.plotly.v1+json": {
       "config": {
        "plotlyServerURL": "https://plot.ly"
       },
       "data": [
        {
         "customdata": [
          [
           39.95277510386749,
           -75.16347951673333,
           "Charles Barkley",
           "Philadelphia 76ers",
           "Philadelphia, Pennsylvania"
          ],
          [
           42.355467851037325,
           -71.0605891400511,
           "Larry Bird",
           "Boston Celtics",
           "Boston, Massachusetts"
          ],
          [
           45.520328107790604,
           -122.67422519406443,
           "Clyde Drexler",
           "Portland Trail Blazers",
           "Portland, Oregon"
          ],
          [
           40.712782077997204,
           -74.00592497371322,
           "Patrick Ewing",
           "New York Knicks",
           "New York, New York"
          ],
          [
           34.05361750777415,
           -118.24281905618936,
           "Magic Johnson",
           "Los Angeles Lakers",
           "Los Angeles, California"
          ],
          [
           41.87551511271479,
           -87.62445480209792,
           "Michael Jordan",
           "Chicago Bulls",
           "Chicago, Illinois"
          ],
          [
           44.97723017959061,
           -93.26541697621393,
           "Christian Laettner",
           "Minnesota Timberwolves",
           "Minneapolis, Minnesota"
          ],
          [
           40.75968572482548,
           -111.88672456437277,
           "Karl Malone",
           "Utah Jazz",
           "Salt Lake City, Utah"
          ],
          [
           37.7793317592269,
           -122.41923279499736,
           "Chris Mullin",
           "Golden State Warriors",
           "San Francisco, California"
          ],
          [
           41.875603948936636,
           -87.62437366384405,
           "Scottie Pippen",
           "Chicago Bulls",
           "Chicago, Illinois"
          ],
          [
           29.42457358992882,
           -98.49520267048996,
           "David Robinson",
           "San Antonio Spurs",
           "San Antonio, Texas"
          ],
          [
           40.759705527187734,
           -111.88677189725178,
           "John Stockton",
           "Utah Jazz",
           "Salt Lake City, Utah"
          ]
         ],
         "hovertemplate": "Name=%{customdata[2]}<br>Team_Name=%{customdata[3]}<br>City_State=%{customdata[4]}<extra></extra>",
         "lat": {
          "bdata": "5cbbiPT5Q0ALfnX4fy1FQDoThxyawkZAIhZxcTxbREAGMUHw3AZBQMMhFOEQ8ERAwQDn4BV9RkCHrr9hPWFEQI1OoSTB40JANXdKyhPwREBWfdPasGw9QE7u3Ac+YURA",
          "dtype": "f8"
         },
         "legendgroup": "",
         "lon": {
          "bdata": "4HvKcnbKUsDJwEWx4MNRwFipbYEmq17A/RQkE2GAUsBzS/BYio9dwM41RhH351XAFyl8l/xQV8CeImMYwPhbwCj7ybXUml7Aaaz0vPXnVcBcqYpmsZ9YwFRt6t7A+FvA",
          "dtype": "f8"
         },
         "marker": {
          "color": "orange",
          "size": 10
         },
         "mode": "markers",
         "name": "",
         "showlegend": false,
         "subplot": "map",
         "type": "scattermap"
        }
       ],
       "layout": {
        "height": 800,
        "legend": {
         "tracegroupgap": 0
        },
        "map": {
         "center": {
          "lat": 40.00388470757315,
          "lon": -97.86243460416826
         },
         "domain": {
          "x": [
           0,
           1
          ],
          "y": [
           0,
           1
          ]
         },
         "style": "open-street-map",
         "zoom": 3.5
        },
        "mapbox": {
         "center": {
          "lat": 40.00388470757315,
          "lon": -97.86243460416826
         },
         "style": "open-street-map",
         "zoom": 3.5
        },
        "template": {
         "data": {
          "bar": [
           {
            "error_x": {
             "color": "#2a3f5f"
            },
            "error_y": {
             "color": "#2a3f5f"
            },
            "marker": {
             "line": {
              "color": "#E5ECF6",
              "width": 0.5
             },
             "pattern": {
              "fillmode": "overlay",
              "size": 10,
              "solidity": 0.2
             }
            },
            "type": "bar"
           }
          ],
          "barpolar": [
           {
            "marker": {
             "line": {
              "color": "#E5ECF6",
              "width": 0.5
             },
             "pattern": {
              "fillmode": "overlay",
              "size": 10,
              "solidity": 0.2
             }
            },
            "type": "barpolar"
           }
          ],
          "carpet": [
           {
            "aaxis": {
             "endlinecolor": "#2a3f5f",
             "gridcolor": "white",
             "linecolor": "white",
             "minorgridcolor": "white",
             "startlinecolor": "#2a3f5f"
            },
            "baxis": {
             "endlinecolor": "#2a3f5f",
             "gridcolor": "white",
             "linecolor": "white",
             "minorgridcolor": "white",
             "startlinecolor": "#2a3f5f"
            },
            "type": "carpet"
           }
          ],
          "choropleth": [
           {
            "colorbar": {
             "outlinewidth": 0,
             "ticks": ""
            },
            "type": "choropleth"
           }
          ],
          "contour": [
           {
            "colorbar": {
             "outlinewidth": 0,
             "ticks": ""
            },
            "colorscale": [
             [
              0,
              "#0d0887"
             ],
             [
              0.1111111111111111,
              "#46039f"
             ],
             [
              0.2222222222222222,
              "#7201a8"
             ],
             [
              0.3333333333333333,
              "#9c179e"
             ],
             [
              0.4444444444444444,
              "#bd3786"
             ],
             [
              0.5555555555555556,
              "#d8576b"
             ],
             [
              0.6666666666666666,
              "#ed7953"
             ],
             [
              0.7777777777777778,
              "#fb9f3a"
             ],
             [
              0.8888888888888888,
              "#fdca26"
             ],
             [
              1,
              "#f0f921"
             ]
            ],
            "type": "contour"
           }
          ],
          "contourcarpet": [
           {
            "colorbar": {
             "outlinewidth": 0,
             "ticks": ""
            },
            "type": "contourcarpet"
           }
          ],
          "heatmap": [
           {
            "colorbar": {
             "outlinewidth": 0,
             "ticks": ""
            },
            "colorscale": [
             [
              0,
              "#0d0887"
             ],
             [
              0.1111111111111111,
              "#46039f"
             ],
             [
              0.2222222222222222,
              "#7201a8"
             ],
             [
              0.3333333333333333,
              "#9c179e"
             ],
             [
              0.4444444444444444,
              "#bd3786"
             ],
             [
              0.5555555555555556,
              "#d8576b"
             ],
             [
              0.6666666666666666,
              "#ed7953"
             ],
             [
              0.7777777777777778,
              "#fb9f3a"
             ],
             [
              0.8888888888888888,
              "#fdca26"
             ],
             [
              1,
              "#f0f921"
             ]
            ],
            "type": "heatmap"
           }
          ],
          "histogram": [
           {
            "marker": {
             "pattern": {
              "fillmode": "overlay",
              "size": 10,
              "solidity": 0.2
             }
            },
            "type": "histogram"
           }
          ],
          "histogram2d": [
           {
            "colorbar": {
             "outlinewidth": 0,
             "ticks": ""
            },
            "colorscale": [
             [
              0,
              "#0d0887"
             ],
             [
              0.1111111111111111,
              "#46039f"
             ],
             [
              0.2222222222222222,
              "#7201a8"
             ],
             [
              0.3333333333333333,
              "#9c179e"
             ],
             [
              0.4444444444444444,
              "#bd3786"
             ],
             [
              0.5555555555555556,
              "#d8576b"
             ],
             [
              0.6666666666666666,
              "#ed7953"
             ],
             [
              0.7777777777777778,
              "#fb9f3a"
             ],
             [
              0.8888888888888888,
              "#fdca26"
             ],
             [
              1,
              "#f0f921"
             ]
            ],
            "type": "histogram2d"
           }
          ],
          "histogram2dcontour": [
           {
            "colorbar": {
             "outlinewidth": 0,
             "ticks": ""
            },
            "colorscale": [
             [
              0,
              "#0d0887"
             ],
             [
              0.1111111111111111,
              "#46039f"
             ],
             [
              0.2222222222222222,
              "#7201a8"
             ],
             [
              0.3333333333333333,
              "#9c179e"
             ],
             [
              0.4444444444444444,
              "#bd3786"
             ],
             [
              0.5555555555555556,
              "#d8576b"
             ],
             [
              0.6666666666666666,
              "#ed7953"
             ],
             [
              0.7777777777777778,
              "#fb9f3a"
             ],
             [
              0.8888888888888888,
              "#fdca26"
             ],
             [
              1,
              "#f0f921"
             ]
            ],
            "type": "histogram2dcontour"
           }
          ],
          "mesh3d": [
           {
            "colorbar": {
             "outlinewidth": 0,
             "ticks": ""
            },
            "type": "mesh3d"
           }
          ],
          "parcoords": [
           {
            "line": {
             "colorbar": {
              "outlinewidth": 0,
              "ticks": ""
             }
            },
            "type": "parcoords"
           }
          ],
          "pie": [
           {
            "automargin": true,
            "type": "pie"
           }
          ],
          "scatter": [
           {
            "fillpattern": {
             "fillmode": "overlay",
             "size": 10,
             "solidity": 0.2
            },
            "type": "scatter"
           }
          ],
          "scatter3d": [
           {
            "line": {
             "colorbar": {
              "outlinewidth": 0,
              "ticks": ""
             }
            },
            "marker": {
             "colorbar": {
              "outlinewidth": 0,
              "ticks": ""
             }
            },
            "type": "scatter3d"
           }
          ],
          "scattercarpet": [
           {
            "marker": {
             "colorbar": {
              "outlinewidth": 0,
              "ticks": ""
             }
            },
            "type": "scattercarpet"
           }
          ],
          "scattergeo": [
           {
            "marker": {
             "colorbar": {
              "outlinewidth": 0,
              "ticks": ""
             }
            },
            "type": "scattergeo"
           }
          ],
          "scattergl": [
           {
            "marker": {
             "colorbar": {
              "outlinewidth": 0,
              "ticks": ""
             }
            },
            "type": "scattergl"
           }
          ],
          "scattermap": [
           {
            "marker": {
             "colorbar": {
              "outlinewidth": 0,
              "ticks": ""
             }
            },
            "type": "scattermap"
           }
          ],
          "scattermapbox": [
           {
            "marker": {
             "colorbar": {
              "outlinewidth": 0,
              "ticks": ""
             }
            },
            "type": "scattermapbox"
           }
          ],
          "scatterpolar": [
           {
            "marker": {
             "colorbar": {
              "outlinewidth": 0,
              "ticks": ""
             }
            },
            "type": "scatterpolar"
           }
          ],
          "scatterpolargl": [
           {
            "marker": {
             "colorbar": {
              "outlinewidth": 0,
              "ticks": ""
             }
            },
            "type": "scatterpolargl"
           }
          ],
          "scatterternary": [
           {
            "marker": {
             "colorbar": {
              "outlinewidth": 0,
              "ticks": ""
             }
            },
            "type": "scatterternary"
           }
          ],
          "surface": [
           {
            "colorbar": {
             "outlinewidth": 0,
             "ticks": ""
            },
            "colorscale": [
             [
              0,
              "#0d0887"
             ],
             [
              0.1111111111111111,
              "#46039f"
             ],
             [
              0.2222222222222222,
              "#7201a8"
             ],
             [
              0.3333333333333333,
              "#9c179e"
             ],
             [
              0.4444444444444444,
              "#bd3786"
             ],
             [
              0.5555555555555556,
              "#d8576b"
             ],
             [
              0.6666666666666666,
              "#ed7953"
             ],
             [
              0.7777777777777778,
              "#fb9f3a"
             ],
             [
              0.8888888888888888,
              "#fdca26"
             ],
             [
              1,
              "#f0f921"
             ]
            ],
            "type": "surface"
           }
          ],
          "table": [
           {
            "cells": {
             "fill": {
              "color": "#EBF0F8"
             },
             "line": {
              "color": "white"
             }
            },
            "header": {
             "fill": {
              "color": "#C8D4E3"
             },
             "line": {
              "color": "white"
             }
            },
            "type": "table"
           }
          ]
         },
         "layout": {
          "annotationdefaults": {
           "arrowcolor": "#2a3f5f",
           "arrowhead": 0,
           "arrowwidth": 1
          },
          "autotypenumbers": "strict",
          "coloraxis": {
           "colorbar": {
            "outlinewidth": 0,
            "ticks": ""
           }
          },
          "colorscale": {
           "diverging": [
            [
             0,
             "#8e0152"
            ],
            [
             0.1,
             "#c51b7d"
            ],
            [
             0.2,
             "#de77ae"
            ],
            [
             0.3,
             "#f1b6da"
            ],
            [
             0.4,
             "#fde0ef"
            ],
            [
             0.5,
             "#f7f7f7"
            ],
            [
             0.6,
             "#e6f5d0"
            ],
            [
             0.7,
             "#b8e186"
            ],
            [
             0.8,
             "#7fbc41"
            ],
            [
             0.9,
             "#4d9221"
            ],
            [
             1,
             "#276419"
            ]
           ],
           "sequential": [
            [
             0,
             "#0d0887"
            ],
            [
             0.1111111111111111,
             "#46039f"
            ],
            [
             0.2222222222222222,
             "#7201a8"
            ],
            [
             0.3333333333333333,
             "#9c179e"
            ],
            [
             0.4444444444444444,
             "#bd3786"
            ],
            [
             0.5555555555555556,
             "#d8576b"
            ],
            [
             0.6666666666666666,
             "#ed7953"
            ],
            [
             0.7777777777777778,
             "#fb9f3a"
            ],
            [
             0.8888888888888888,
             "#fdca26"
            ],
            [
             1,
             "#f0f921"
            ]
           ],
           "sequentialminus": [
            [
             0,
             "#0d0887"
            ],
            [
             0.1111111111111111,
             "#46039f"
            ],
            [
             0.2222222222222222,
             "#7201a8"
            ],
            [
             0.3333333333333333,
             "#9c179e"
            ],
            [
             0.4444444444444444,
             "#bd3786"
            ],
            [
             0.5555555555555556,
             "#d8576b"
            ],
            [
             0.6666666666666666,
             "#ed7953"
            ],
            [
             0.7777777777777778,
             "#fb9f3a"
            ],
            [
             0.8888888888888888,
             "#fdca26"
            ],
            [
             1,
             "#f0f921"
            ]
           ]
          },
          "colorway": [
           "#636efa",
           "#EF553B",
           "#00cc96",
           "#ab63fa",
           "#FFA15A",
           "#19d3f3",
           "#FF6692",
           "#B6E880",
           "#FF97FF",
           "#FECB52"
          ],
          "font": {
           "color": "#2a3f5f"
          },
          "geo": {
           "bgcolor": "white",
           "lakecolor": "white",
           "landcolor": "#E5ECF6",
           "showlakes": true,
           "showland": true,
           "subunitcolor": "white"
          },
          "hoverlabel": {
           "align": "left"
          },
          "hovermode": "closest",
          "mapbox": {
           "style": "light"
          },
          "paper_bgcolor": "white",
          "plot_bgcolor": "#E5ECF6",
          "polar": {
           "angularaxis": {
            "gridcolor": "white",
            "linecolor": "white",
            "ticks": ""
           },
           "bgcolor": "#E5ECF6",
           "radialaxis": {
            "gridcolor": "white",
            "linecolor": "white",
            "ticks": ""
           }
          },
          "scene": {
           "xaxis": {
            "backgroundcolor": "#E5ECF6",
            "gridcolor": "white",
            "gridwidth": 2,
            "linecolor": "white",
            "showbackground": true,
            "ticks": "",
            "zerolinecolor": "white"
           },
           "yaxis": {
            "backgroundcolor": "#E5ECF6",
            "gridcolor": "white",
            "gridwidth": 2,
            "linecolor": "white",
            "showbackground": true,
            "ticks": "",
            "zerolinecolor": "white"
           },
           "zaxis": {
            "backgroundcolor": "#E5ECF6",
            "gridcolor": "white",
            "gridwidth": 2,
            "linecolor": "white",
            "showbackground": true,
            "ticks": "",
            "zerolinecolor": "white"
           }
          },
          "shapedefaults": {
           "line": {
            "color": "#2a3f5f"
           }
          },
          "ternary": {
           "aaxis": {
            "gridcolor": "white",
            "linecolor": "white",
            "ticks": ""
           },
           "baxis": {
            "gridcolor": "white",
            "linecolor": "white",
            "ticks": ""
           },
           "bgcolor": "#E5ECF6",
           "caxis": {
            "gridcolor": "white",
            "linecolor": "white",
            "ticks": ""
           }
          },
          "title": {
           "x": 0.05
          },
          "xaxis": {
           "automargin": true,
           "gridcolor": "white",
           "linecolor": "white",
           "ticks": "",
           "title": {
            "standoff": 15
           },
           "zerolinecolor": "white",
           "zerolinewidth": 2
          },
          "yaxis": {
           "automargin": true,
           "gridcolor": "white",
           "linecolor": "white",
           "ticks": "",
           "title": {
            "standoff": 15
           },
           "zerolinecolor": "white",
           "zerolinewidth": 2
          }
         }
        },
        "title": {
         "text": "NBA Teams that the 1992 Dream Team played for during their Rookie Season"
        }
       }
      }
     },
     "metadata": {},
     "output_type": "display_data"
    }
   ],
   "source": [
    "#generate scattermap of locations of the NBA teams played for during their rookie seasons\n",
    "fig = px.scatter_map(rookie_mapdata, lat=\"Latitude\", \n",
    "                     lon=\"Longitude\", \n",
    "                     hover_data={'Latitude': False, 'Longitude': False, 'Name': True, 'Team_Name': True, 'City_State': True},\n",
    "                     map_style='open-street-map', \n",
    "                     title= \"NBA Teams that the 1992 Dream Team played for during their Rookie Season\",\n",
    "                     color_discrete_sequence=['orange'],\n",
    "                     height=800, zoom=3.5).update_traces(marker=dict(size=10))\n",
    "fig.show()"
   ]
  }
 ],
 "metadata": {
  "kernelspec": {
   "display_name": "Python 3",
   "language": "python",
   "name": "python3"
  },
  "language_info": {
   "codemirror_mode": {
    "name": "ipython",
    "version": 3
   },
   "file_extension": ".py",
   "mimetype": "text/x-python",
   "name": "python",
   "nbconvert_exporter": "python",
   "pygments_lexer": "ipython3",
   "version": "3.13.3"
  }
 },
 "nbformat": 4,
 "nbformat_minor": 5
}
